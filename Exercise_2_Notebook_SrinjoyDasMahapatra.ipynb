{
  "nbformat": 4,
  "nbformat_minor": 0,
  "metadata": {
    "kernelspec": {
      "display_name": "Python 3",
      "language": "python",
      "name": "python3"
    },
    "language_info": {
      "codemirror_mode": {
        "name": "ipython",
        "version": 3
      },
      "file_extension": ".py",
      "mimetype": "text/x-python",
      "name": "python",
      "nbconvert_exporter": "python",
      "pygments_lexer": "ipython3",
      "version": "3.7.9"
    },
    "colab": {
      "name": "Exercise-#2_Notebook_SrinjoyDasMahapatra.ipynb",
      "provenance": [],
      "include_colab_link": true
    }
  },
  "cells": [
    {
      "cell_type": "markdown",
      "metadata": {
        "id": "view-in-github",
        "colab_type": "text"
      },
      "source": [
        "<a href=\"https://colab.research.google.com/github/sdasmaha/Ml_Engineers_445/blob/master/Exercise_2_Notebook_SrinjoyDasMahapatra.ipynb\" target=\"_parent\"><img src=\"https://colab.research.google.com/assets/colab-badge.svg\" alt=\"Open In Colab\"/></a>"
      ]
    },
    {
      "cell_type": "code",
      "metadata": {
        "id": "698H32EltJsH"
      },
      "source": [
        "# import your Python packages here"
      ],
      "execution_count": null,
      "outputs": []
    },
    {
      "cell_type": "markdown",
      "metadata": {
        "id": "ju2ZOFsatJsK"
      },
      "source": [
        "# 1. Feature Engineering for _Environmental Sensor Telemetry Data_"
      ]
    },
    {
      "cell_type": "markdown",
      "metadata": {
        "id": "sQyqtBOBtJsL"
      },
      "source": [
        "## Problem 1.1"
      ]
    },
    {
      "cell_type": "markdown",
      "metadata": {
        "id": "mmpfdkkGtJsL"
      },
      "source": [
        "### (a)"
      ]
    },
    {
      "cell_type": "markdown",
      "metadata": {
        "id": "kHDw61c9tJsM"
      },
      "source": [
        "  _Your answer to 1.1a goes here_"
      ]
    },
    {
      "cell_type": "markdown",
      "metadata": {
        "id": "e_9b2FzZtJsM"
      },
      "source": [
        "### (b)"
      ]
    },
    {
      "cell_type": "code",
      "metadata": {
        "id": "g20D08NEtJsM"
      },
      "source": [
        "# Your code for 1.1b goes here"
      ],
      "execution_count": null,
      "outputs": []
    },
    {
      "cell_type": "markdown",
      "metadata": {
        "id": "KZVXyzzdtJsP"
      },
      "source": [
        "### (c)\n",
        "\n"
      ]
    },
    {
      "cell_type": "code",
      "metadata": {
        "id": "-lb1CStRtJsQ"
      },
      "source": [
        "# Your code for 1.1c goes here"
      ],
      "execution_count": null,
      "outputs": []
    },
    {
      "cell_type": "markdown",
      "metadata": {
        "id": "PwGXkKomtJsS"
      },
      "source": [
        "### (d)"
      ]
    },
    {
      "cell_type": "code",
      "metadata": {
        "id": "K0V0TcugtJsS"
      },
      "source": [
        "# Your code for 1.1d goes here"
      ],
      "execution_count": null,
      "outputs": []
    },
    {
      "cell_type": "markdown",
      "metadata": {
        "id": "VcCkSG-xtJsU"
      },
      "source": [
        "### (e)"
      ]
    },
    {
      "cell_type": "code",
      "metadata": {
        "id": "PyvOC1cptJsV"
      },
      "source": [
        "# Your code for 1.1e goes here"
      ],
      "execution_count": null,
      "outputs": []
    },
    {
      "cell_type": "markdown",
      "metadata": {
        "id": "g6AL3sXFtJsX"
      },
      "source": [
        "## Problem 1.2"
      ]
    },
    {
      "cell_type": "markdown",
      "metadata": {
        "id": "0Y7HF5xUtJsY"
      },
      "source": [
        "### (a)"
      ]
    },
    {
      "cell_type": "code",
      "metadata": {
        "id": "rGvrrBortJsZ"
      },
      "source": [
        "# your code for 1.2a goes here"
      ],
      "execution_count": null,
      "outputs": []
    },
    {
      "cell_type": "markdown",
      "metadata": {
        "id": "zccrYCN0tJse"
      },
      "source": [
        "### (b)"
      ]
    },
    {
      "cell_type": "code",
      "metadata": {
        "id": "wglYAivHtJse"
      },
      "source": [
        "# your code for 1.2b goes here"
      ],
      "execution_count": null,
      "outputs": []
    },
    {
      "cell_type": "markdown",
      "metadata": {
        "id": "OUAcCAohtJsg"
      },
      "source": [
        "### (c)"
      ]
    },
    {
      "cell_type": "code",
      "metadata": {
        "id": "3rjK2QWatJsh"
      },
      "source": [
        "# your code for 1.2c goes here"
      ],
      "execution_count": null,
      "outputs": []
    },
    {
      "cell_type": "markdown",
      "metadata": {
        "id": "O80-lPHotJsj"
      },
      "source": [
        "### (d)"
      ]
    },
    {
      "cell_type": "markdown",
      "metadata": {
        "id": "5m0TB2yTtJsj"
      },
      "source": [
        "_Your answer for 1.2d goes here_"
      ]
    },
    {
      "cell_type": "markdown",
      "metadata": {
        "id": "0CL6Ig7RtJsj"
      },
      "source": [
        "### (e)"
      ]
    },
    {
      "cell_type": "code",
      "metadata": {
        "id": "VYbVwrGdtJsk"
      },
      "source": [
        "# your code for 1.2e goes here"
      ],
      "execution_count": null,
      "outputs": []
    },
    {
      "cell_type": "markdown",
      "metadata": {
        "id": "dIzU8wB_tJsn"
      },
      "source": [
        "## Problem 1.3"
      ]
    },
    {
      "cell_type": "code",
      "metadata": {
        "id": "hs5qEe8XtJsn"
      },
      "source": [
        "# Code of 1.3 goes here"
      ],
      "execution_count": null,
      "outputs": []
    },
    {
      "cell_type": "markdown",
      "metadata": {
        "id": "p65ty6DotJsq"
      },
      "source": [
        "# 2. Feature Learning for _Synthetically Generated Data_"
      ]
    },
    {
      "cell_type": "markdown",
      "metadata": {
        "id": "NtMLOWzvtJsq"
      },
      "source": [
        "## Problem 2.1"
      ]
    },
    {
      "cell_type": "markdown",
      "metadata": {
        "id": "Ox-Q7c49tJsq"
      },
      "source": [
        "### (a)"
      ]
    },
    {
      "cell_type": "code",
      "metadata": {
        "id": "Qa3-X1HYtJsr"
      },
      "source": [
        "# your code for 2.1a"
      ],
      "execution_count": null,
      "outputs": []
    },
    {
      "cell_type": "markdown",
      "metadata": {
        "id": "9cpckl7-tJst"
      },
      "source": [
        "### (b)"
      ]
    },
    {
      "cell_type": "code",
      "metadata": {
        "id": "r2qp0bpptJst"
      },
      "source": [
        "# your code for 2.1b"
      ],
      "execution_count": null,
      "outputs": []
    },
    {
      "cell_type": "markdown",
      "metadata": {
        "id": "EMT47A4UtJsv"
      },
      "source": [
        "### (c)"
      ]
    },
    {
      "cell_type": "code",
      "metadata": {
        "id": "alXEuuz-tJsw"
      },
      "source": [
        "# your code for 2.1c"
      ],
      "execution_count": null,
      "outputs": []
    },
    {
      "cell_type": "markdown",
      "metadata": {
        "id": "qwWYl9m0tJsy"
      },
      "source": [
        "### (d)"
      ]
    },
    {
      "cell_type": "code",
      "metadata": {
        "id": "yvW8xbhttJsy"
      },
      "source": [
        "# your code for 2.1d"
      ],
      "execution_count": null,
      "outputs": []
    },
    {
      "cell_type": "markdown",
      "metadata": {
        "id": "ZoiV44lltJs0"
      },
      "source": [
        "## Problem 2.2"
      ]
    },
    {
      "cell_type": "code",
      "metadata": {
        "id": "-K8pl-lPtJs1"
      },
      "source": [
        "# please structure your code and markdown cells in a similar fashion to 2.1"
      ],
      "execution_count": null,
      "outputs": []
    },
    {
      "cell_type": "markdown",
      "metadata": {
        "id": "fTdHjUe3tJs3"
      },
      "source": [
        "## Problem 2.3"
      ]
    },
    {
      "cell_type": "code",
      "metadata": {
        "id": "OXUhTWN4tJs4"
      },
      "source": [
        "# please structure your code and markdown cells in a similar fashion to 2.1"
      ],
      "execution_count": null,
      "outputs": []
    },
    {
      "cell_type": "markdown",
      "metadata": {
        "id": "DLaKR9s3tJs6"
      },
      "source": [
        "## Problem 2.4\n"
      ]
    },
    {
      "cell_type": "code",
      "metadata": {
        "id": "Ru7iFstctJs6"
      },
      "source": [
        "# please structure your code and markdown cells in a similar fashion to 2.1"
      ],
      "execution_count": null,
      "outputs": []
    }
  ]
}