{
  "nbformat": 4,
  "nbformat_minor": 0,
  "metadata": {
    "colab": {
      "name": "ML_HW_Notebook2.ipynb",
      "provenance": [],
      "collapsed_sections": [],
      "authorship_tag": "ABX9TyM68KVb6Snukzqc4NTHzkjH",
      "include_colab_link": true
    },
    "kernelspec": {
      "name": "python3",
      "display_name": "Python 3"
    }
  },
  "cells": [
    {
      "cell_type": "markdown",
      "metadata": {
        "id": "view-in-github",
        "colab_type": "text"
      },
      "source": [
        "<a href=\"https://colab.research.google.com/github/sdasmaha/Ml_Engineers_445/blob/master/Exercise_2_Notebook_SrinjoyDasMahapatra.ipynb\" target=\"_parent\"><img src=\"https://colab.research.google.com/assets/colab-badge.svg\" alt=\"Open In Colab\"/></a>"
      ]
    },
    {
      "cell_type": "markdown",
      "metadata": {
        "id": "__nIqyeEZiIx"
      },
      "source": [
        "Notebook Excercise #2\n",
        "#Srinjoy DasMahapatra\n",
        "\n",
        "IDE => Google Colab"
      ]
    },
    {
      "cell_type": "code",
      "metadata": {
        "id": "698H32EltJsH"
      },
      "source": [
        "import numpy as np\n",
        "import pandas as pd\n",
        "from scipy import stats as sps\n",
        "from matplotlib import pyplot as plt\n",
        "from mpl_toolkits.mplot3d import Axes3D\n",
        "from IPython.display import display, Latex\n"
      ],
      "execution_count": 10,
      "outputs": []
    },
    {
      "cell_type": "code",
      "metadata": {
        "id": "x2JoYJYXX0cA",
        "outputId": "ad840555-1180-4abc-e828-6c5b62da627e",
        "colab": {
          "base_uri": "https://localhost:8080/",
          "height": 54
        }
      },
      "source": [
        "from google.colab import drive\n",
        "drive.mount(\"/content/gdrive\")"
      ],
      "execution_count": 12,
      "outputs": [
        {
          "output_type": "stream",
          "text": [
            "Drive already mounted at /content/gdrive; to attempt to forcibly remount, call drive.mount(\"/content/gdrive\", force_remount=True).\n"
          ],
          "name": "stdout"
        }
      ]
    },
    {
      "cell_type": "code",
      "metadata": {
        "id": "d9oK_Oksa_oy"
      },
      "source": [
        "df_iot_tel = pd.read_csv(\"/content/gdrive/My Drive/Colab Notebooks/BAJWA-ML/Notebook 2/iot_telemetry_dataset.csv\")"
      ],
      "execution_count": 13,
      "outputs": []
    },
    {
      "cell_type": "markdown",
      "metadata": {
        "id": "ju2ZOFsatJsK"
      },
      "source": [
        "# 1. Feature Engineering for _Environmental Sensor Telemetry Data_"
      ]
    },
    {
      "cell_type": "markdown",
      "metadata": {
        "id": "sQyqtBOBtJsL"
      },
      "source": [
        "## Problem 1.1"
      ]
    },
    {
      "cell_type": "markdown",
      "metadata": {
        "id": "mmpfdkkGtJsL"
      },
      "source": [
        "###(a)"
      ]
    },
    {
      "cell_type": "markdown",
      "metadata": {
        "id": "_sfIkhp3aL9O"
      },
      "source": [
        "From Videos ML"
      ]
    },
    {
      "cell_type": "markdown",
      "metadata": {
        "id": "e_9b2FzZtJsM"
      },
      "source": [
        "### (b)"
      ]
    },
    {
      "cell_type": "code",
      "metadata": {
        "id": "qYqEPQZebLxt",
        "outputId": "28051deb-7632-48ff-ac4c-b855077e5cdc",
        "colab": {
          "base_uri": "https://localhost:8080/",
          "height": 204
        }
      },
      "source": [
        "df_iot_tel.head(5)"
      ],
      "execution_count": 14,
      "outputs": [
        {
          "output_type": "execute_result",
          "data": {
            "text/html": [
              "<div>\n",
              "<style scoped>\n",
              "    .dataframe tbody tr th:only-of-type {\n",
              "        vertical-align: middle;\n",
              "    }\n",
              "\n",
              "    .dataframe tbody tr th {\n",
              "        vertical-align: top;\n",
              "    }\n",
              "\n",
              "    .dataframe thead th {\n",
              "        text-align: right;\n",
              "    }\n",
              "</style>\n",
              "<table border=\"1\" class=\"dataframe\">\n",
              "  <thead>\n",
              "    <tr style=\"text-align: right;\">\n",
              "      <th></th>\n",
              "      <th>ts</th>\n",
              "      <th>device</th>\n",
              "      <th>co</th>\n",
              "      <th>humidity</th>\n",
              "      <th>light</th>\n",
              "      <th>lpg</th>\n",
              "      <th>motion</th>\n",
              "      <th>smoke</th>\n",
              "      <th>temp</th>\n",
              "    </tr>\n",
              "  </thead>\n",
              "  <tbody>\n",
              "    <tr>\n",
              "      <th>0</th>\n",
              "      <td>1.594512e+09</td>\n",
              "      <td>b8:27:eb:bf:9d:51</td>\n",
              "      <td>0.004956</td>\n",
              "      <td>51.000000</td>\n",
              "      <td>False</td>\n",
              "      <td>0.007651</td>\n",
              "      <td>False</td>\n",
              "      <td>0.020411</td>\n",
              "      <td>22.700000</td>\n",
              "    </tr>\n",
              "    <tr>\n",
              "      <th>1</th>\n",
              "      <td>1.594512e+09</td>\n",
              "      <td>00:0f:00:70:91:0a</td>\n",
              "      <td>0.002840</td>\n",
              "      <td>76.000000</td>\n",
              "      <td>False</td>\n",
              "      <td>0.005114</td>\n",
              "      <td>False</td>\n",
              "      <td>0.013275</td>\n",
              "      <td>19.700001</td>\n",
              "    </tr>\n",
              "    <tr>\n",
              "      <th>2</th>\n",
              "      <td>1.594512e+09</td>\n",
              "      <td>b8:27:eb:bf:9d:51</td>\n",
              "      <td>0.004976</td>\n",
              "      <td>50.900000</td>\n",
              "      <td>False</td>\n",
              "      <td>0.007673</td>\n",
              "      <td>False</td>\n",
              "      <td>0.020475</td>\n",
              "      <td>22.600000</td>\n",
              "    </tr>\n",
              "    <tr>\n",
              "      <th>3</th>\n",
              "      <td>1.594512e+09</td>\n",
              "      <td>1c:bf:ce:15:ec:4d</td>\n",
              "      <td>0.004403</td>\n",
              "      <td>76.800003</td>\n",
              "      <td>True</td>\n",
              "      <td>0.007023</td>\n",
              "      <td>False</td>\n",
              "      <td>0.018628</td>\n",
              "      <td>27.000000</td>\n",
              "    </tr>\n",
              "    <tr>\n",
              "      <th>4</th>\n",
              "      <td>1.594512e+09</td>\n",
              "      <td>b8:27:eb:bf:9d:51</td>\n",
              "      <td>0.004967</td>\n",
              "      <td>50.900000</td>\n",
              "      <td>False</td>\n",
              "      <td>0.007664</td>\n",
              "      <td>False</td>\n",
              "      <td>0.020448</td>\n",
              "      <td>22.600000</td>\n",
              "    </tr>\n",
              "  </tbody>\n",
              "</table>\n",
              "</div>"
            ],
            "text/plain": [
              "             ts             device        co  ...  motion     smoke       temp\n",
              "0  1.594512e+09  b8:27:eb:bf:9d:51  0.004956  ...   False  0.020411  22.700000\n",
              "1  1.594512e+09  00:0f:00:70:91:0a  0.002840  ...   False  0.013275  19.700001\n",
              "2  1.594512e+09  b8:27:eb:bf:9d:51  0.004976  ...   False  0.020475  22.600000\n",
              "3  1.594512e+09  1c:bf:ce:15:ec:4d  0.004403  ...   False  0.018628  27.000000\n",
              "4  1.594512e+09  b8:27:eb:bf:9d:51  0.004967  ...   False  0.020448  22.600000\n",
              "\n",
              "[5 rows x 9 columns]"
            ]
          },
          "metadata": {
            "tags": []
          },
          "execution_count": 14
        }
      ]
    },
    {
      "cell_type": "code",
      "metadata": {
        "id": "N9LSZ0YzbRb0",
        "outputId": "b8a46eaa-3fc2-4d05-80c4-42cd903ab414",
        "colab": {
          "base_uri": "https://localhost:8080/",
          "height": 34
        }
      },
      "source": [
        "print(df_iot_tel.shape) "
      ],
      "execution_count": 15,
      "outputs": [
        {
          "output_type": "stream",
          "text": [
            "(405184, 9)\n"
          ],
          "name": "stdout"
        }
      ]
    },
    {
      "cell_type": "markdown",
      "metadata": {
        "id": "1w5nramnbn6h"
      },
      "source": [
        "There are **405,184** data samples in the dataset."
      ]
    },
    {
      "cell_type": "markdown",
      "metadata": {
        "id": "KZVXyzzdtJsP"
      },
      "source": [
        "### (c)\n",
        "\n"
      ]
    },
    {
      "cell_type": "code",
      "metadata": {
        "id": "lr8Wj911cgZL",
        "outputId": "a02928f9-5030-459d-abc1-0e2a2c993474",
        "colab": {
          "base_uri": "https://localhost:8080/",
          "height": 34
        }
      },
      "source": [
        "df_iot_tel['device'].dtypes"
      ],
      "execution_count": 21,
      "outputs": [
        {
          "output_type": "execute_result",
          "data": {
            "text/plain": [
              "dtype('O')"
            ]
          },
          "metadata": {
            "tags": []
          },
          "execution_count": 21
        }
      ]
    },
    {
      "cell_type": "markdown",
      "metadata": {
        "id": "MungD3N8cZeV"
      },
      "source": [
        "We can see the MAC address is of datatype=> **O** (Object)"
      ]
    },
    {
      "cell_type": "code",
      "metadata": {
        "id": "EHdkYaJ1dIan",
        "outputId": "9d91b252-0198-4427-c7b1-d968ce265bc3",
        "colab": {
          "base_uri": "https://localhost:8080/",
          "height": 51
        }
      },
      "source": [
        "df_iot_tel['device'].where(df_iot_tel['device'] == '00:0f:00:70:91:0a').value_counts()"
      ],
      "execution_count": 22,
      "outputs": [
        {
          "output_type": "execute_result",
          "data": {
            "text/plain": [
              "00:0f:00:70:91:0a    111815\n",
              "Name: device, dtype: int64"
            ]
          },
          "metadata": {
            "tags": []
          },
          "execution_count": 22
        }
      ]
    },
    {
      "cell_type": "markdown",
      "metadata": {
        "id": "mccP7KhIdUFo"
      },
      "source": [
        "There are **111,815** data samples with the MAC address 00:0f:00:70:91:0a "
      ]
    },
    {
      "cell_type": "markdown",
      "metadata": {
        "id": "PwGXkKomtJsS"
      },
      "source": [
        "### (d)"
      ]
    },
    {
      "cell_type": "code",
      "metadata": {
        "id": "K0V0TcugtJsS",
        "outputId": "0d594fd5-59f5-4531-a208-dd1b350aba04",
        "colab": {
          "base_uri": "https://localhost:8080/",
          "height": 51
        }
      },
      "source": [
        "df_iot_tel['device'].where(df_iot_tel['device'] == '1c:bf:ce:15:ec:4d').value_counts()"
      ],
      "execution_count": 23,
      "outputs": [
        {
          "output_type": "execute_result",
          "data": {
            "text/plain": [
              "1c:bf:ce:15:ec:4d    105918\n",
              "Name: device, dtype: int64"
            ]
          },
          "metadata": {
            "tags": []
          },
          "execution_count": 23
        }
      ]
    },
    {
      "cell_type": "markdown",
      "metadata": {
        "id": "whm-bpDNdz_p"
      },
      "source": [
        "There are **105,918** data samples with the MAC address 1c:bf:ce:15:ec:4d\n"
      ]
    },
    {
      "cell_type": "markdown",
      "metadata": {
        "id": "VcCkSG-xtJsU"
      },
      "source": [
        "### (e)"
      ]
    },
    {
      "cell_type": "code",
      "metadata": {
        "id": "PyvOC1cptJsV",
        "outputId": "6d914270-04c8-46f9-926b-5ddef0904702",
        "colab": {
          "base_uri": "https://localhost:8080/",
          "height": 51
        }
      },
      "source": [
        "df_iot_tel['device'].where(df_iot_tel['device'] == 'b8:27:eb:bf:9d:51').value_counts()"
      ],
      "execution_count": 24,
      "outputs": [
        {
          "output_type": "execute_result",
          "data": {
            "text/plain": [
              "b8:27:eb:bf:9d:51    187451\n",
              "Name: device, dtype: int64"
            ]
          },
          "metadata": {
            "tags": []
          },
          "execution_count": 24
        }
      ]
    },
    {
      "cell_type": "markdown",
      "metadata": {
        "id": "gjjPgNK0fNCD"
      },
      "source": [
        "There are **187,451** data samples with the MAC address b8:27:eb:bf:9d:51"
      ]
    },
    {
      "cell_type": "markdown",
      "metadata": {
        "id": "0qAgmitMqU_M"
      },
      "source": [
        "**Adding all the MAC addresses individually we get 405184.  Hence there is only 3 MAC addresses in total**"
      ]
    },
    {
      "cell_type": "markdown",
      "metadata": {
        "id": "g6AL3sXFtJsX"
      },
      "source": [
        "## Problem 1.2"
      ]
    },
    {
      "cell_type": "markdown",
      "metadata": {
        "id": "0Y7HF5xUtJsY"
      },
      "source": [
        "### (a)"
      ]
    },
    {
      "cell_type": "markdown",
      "metadata": {
        "id": "jIyqvY0qnTp4"
      },
      "source": [
        " The problem mentions most of the challenges that otherwise needed to be worked on : \n",
        " 1.  No missing Entries\n",
        " 2. pandas.get_dummies() can be used \n"
      ]
    },
    {
      "cell_type": "markdown",
      "metadata": {
        "id": "w4U3Bn4IstTp"
      },
      "source": [
        "**DEVICE**"
      ]
    },
    {
      "cell_type": "code",
      "metadata": {
        "id": "GSN9mdQ7puYC",
        "outputId": "5787efba-ca12-42bf-975e-83f052d20b63",
        "colab": {
          "base_uri": "https://localhost:8080/",
          "height": 142
        }
      },
      "source": [
        "MAC_types = (' 00:0f:00:70:91:0a ',' 1c:bf:ce:15:ec:4d ',' b8:27:eb:bf:9d:51 ')\n",
        "MAC_df = pd.DataFrame(MAC_types, columns=['MAC_df'])\n",
        "# generate binary values using get_dummies\n",
        "dum_df = pd.get_dummies(MAC_df, columns=[\"MAC_df\"], prefix=[\"MAC:\"] )\n",
        "# merge with main df bridge_df on key values\n",
        "MAC_df = MAC_df.join(dum_df)\n",
        "MAC_df"
      ],
      "execution_count": 28,
      "outputs": [
        {
          "output_type": "execute_result",
          "data": {
            "text/html": [
              "<div>\n",
              "<style scoped>\n",
              "    .dataframe tbody tr th:only-of-type {\n",
              "        vertical-align: middle;\n",
              "    }\n",
              "\n",
              "    .dataframe tbody tr th {\n",
              "        vertical-align: top;\n",
              "    }\n",
              "\n",
              "    .dataframe thead th {\n",
              "        text-align: right;\n",
              "    }\n",
              "</style>\n",
              "<table border=\"1\" class=\"dataframe\">\n",
              "  <thead>\n",
              "    <tr style=\"text-align: right;\">\n",
              "      <th></th>\n",
              "      <th>MAC_df</th>\n",
              "      <th>MAC:_ 00:0f:00:70:91:0a</th>\n",
              "      <th>MAC:_ 1c:bf:ce:15:ec:4d</th>\n",
              "      <th>MAC:_ b8:27:eb:bf:9d:51</th>\n",
              "    </tr>\n",
              "  </thead>\n",
              "  <tbody>\n",
              "    <tr>\n",
              "      <th>0</th>\n",
              "      <td>00:0f:00:70:91:0a</td>\n",
              "      <td>1</td>\n",
              "      <td>0</td>\n",
              "      <td>0</td>\n",
              "    </tr>\n",
              "    <tr>\n",
              "      <th>1</th>\n",
              "      <td>1c:bf:ce:15:ec:4d</td>\n",
              "      <td>0</td>\n",
              "      <td>1</td>\n",
              "      <td>0</td>\n",
              "    </tr>\n",
              "    <tr>\n",
              "      <th>2</th>\n",
              "      <td>b8:27:eb:bf:9d:51</td>\n",
              "      <td>0</td>\n",
              "      <td>0</td>\n",
              "      <td>1</td>\n",
              "    </tr>\n",
              "  </tbody>\n",
              "</table>\n",
              "</div>"
            ],
            "text/plain": [
              "                MAC_df  ...  MAC:_ b8:27:eb:bf:9d:51 \n",
              "0   00:0f:00:70:91:0a   ...                         0\n",
              "1   1c:bf:ce:15:ec:4d   ...                         0\n",
              "2   b8:27:eb:bf:9d:51   ...                         1\n",
              "\n",
              "[3 rows x 4 columns]"
            ]
          },
          "metadata": {
            "tags": []
          },
          "execution_count": 28
        }
      ]
    },
    {
      "cell_type": "markdown",
      "metadata": {
        "id": "BGicMRTUsxN2"
      },
      "source": [
        "**Light**"
      ]
    },
    {
      "cell_type": "code",
      "metadata": {
        "id": "dsMhootRsw42"
      },
      "source": [
        ""
      ],
      "execution_count": null,
      "outputs": []
    },
    {
      "cell_type": "code",
      "metadata": {
        "id": "rGvrrBortJsZ"
      },
      "source": [
        "# your code for 1.2a goes here"
      ],
      "execution_count": null,
      "outputs": []
    },
    {
      "cell_type": "markdown",
      "metadata": {
        "id": "zccrYCN0tJse"
      },
      "source": [
        "### (b)"
      ]
    },
    {
      "cell_type": "code",
      "metadata": {
        "id": "wglYAivHtJse"
      },
      "source": [
        "# your code for 1.2b goes here"
      ],
      "execution_count": null,
      "outputs": []
    },
    {
      "cell_type": "markdown",
      "metadata": {
        "id": "OUAcCAohtJsg"
      },
      "source": [
        "### (c)"
      ]
    },
    {
      "cell_type": "code",
      "metadata": {
        "id": "3rjK2QWatJsh"
      },
      "source": [
        "# your code for 1.2c goes here"
      ],
      "execution_count": null,
      "outputs": []
    },
    {
      "cell_type": "markdown",
      "metadata": {
        "id": "O80-lPHotJsj"
      },
      "source": [
        "### (d)"
      ]
    },
    {
      "cell_type": "markdown",
      "metadata": {
        "id": "5m0TB2yTtJsj"
      },
      "source": [
        "_Your answer for 1.2d goes here_"
      ]
    },
    {
      "cell_type": "markdown",
      "metadata": {
        "id": "0CL6Ig7RtJsj"
      },
      "source": [
        "### (e)"
      ]
    },
    {
      "cell_type": "code",
      "metadata": {
        "id": "VYbVwrGdtJsk"
      },
      "source": [
        "# your code for 1.2e goes here"
      ],
      "execution_count": null,
      "outputs": []
    },
    {
      "cell_type": "markdown",
      "metadata": {
        "id": "dIzU8wB_tJsn"
      },
      "source": [
        "## Problem 1.3"
      ]
    },
    {
      "cell_type": "code",
      "metadata": {
        "id": "hs5qEe8XtJsn"
      },
      "source": [
        "# Code of 1.3 goes here"
      ],
      "execution_count": null,
      "outputs": []
    },
    {
      "cell_type": "markdown",
      "metadata": {
        "id": "p65ty6DotJsq"
      },
      "source": [
        "# 2. Feature Learning for _Synthetically Generated Data_"
      ]
    },
    {
      "cell_type": "markdown",
      "metadata": {
        "id": "NtMLOWzvtJsq"
      },
      "source": [
        "## Problem 2.1"
      ]
    },
    {
      "cell_type": "markdown",
      "metadata": {
        "id": "Ox-Q7c49tJsq"
      },
      "source": [
        "### (a)"
      ]
    },
    {
      "cell_type": "code",
      "metadata": {
        "id": "Qa3-X1HYtJsr"
      },
      "source": [
        "# your code for 2.1a"
      ],
      "execution_count": null,
      "outputs": []
    },
    {
      "cell_type": "markdown",
      "metadata": {
        "id": "9cpckl7-tJst"
      },
      "source": [
        "### (b)"
      ]
    },
    {
      "cell_type": "code",
      "metadata": {
        "id": "r2qp0bpptJst"
      },
      "source": [
        "# your code for 2.1b"
      ],
      "execution_count": null,
      "outputs": []
    },
    {
      "cell_type": "markdown",
      "metadata": {
        "id": "EMT47A4UtJsv"
      },
      "source": [
        "### (c)"
      ]
    },
    {
      "cell_type": "code",
      "metadata": {
        "id": "alXEuuz-tJsw"
      },
      "source": [
        "# your code for 2.1c"
      ],
      "execution_count": null,
      "outputs": []
    },
    {
      "cell_type": "markdown",
      "metadata": {
        "id": "qwWYl9m0tJsy"
      },
      "source": [
        "### (d)"
      ]
    },
    {
      "cell_type": "code",
      "metadata": {
        "id": "yvW8xbhttJsy"
      },
      "source": [
        "# your code for 2.1d"
      ],
      "execution_count": null,
      "outputs": []
    },
    {
      "cell_type": "markdown",
      "metadata": {
        "id": "ZoiV44lltJs0"
      },
      "source": [
        "## Problem 2.2"
      ]
    },
    {
      "cell_type": "code",
      "metadata": {
        "id": "-K8pl-lPtJs1"
      },
      "source": [
        "# please structure your code and markdown cells in a similar fashion to 2.1"
      ],
      "execution_count": null,
      "outputs": []
    },
    {
      "cell_type": "markdown",
      "metadata": {
        "id": "fTdHjUe3tJs3"
      },
      "source": [
        "## Problem 2.3"
      ]
    },
    {
      "cell_type": "code",
      "metadata": {
        "id": "OXUhTWN4tJs4"
      },
      "source": [
        "# please structure your code and markdown cells in a similar fashion to 2.1"
      ],
      "execution_count": null,
      "outputs": []
    },
    {
      "cell_type": "markdown",
      "metadata": {
        "id": "DLaKR9s3tJs6"
      },
      "source": [
        "## Problem 2.4\n"
      ]
    },
    {
      "cell_type": "code",
      "metadata": {
        "id": "Ru7iFstctJs6"
      },
      "source": [
        "# please structure your code and markdown cells in a similar fashion to 2.1"
      ],
      "execution_count": null,
      "outputs": []
    }
  ]
}