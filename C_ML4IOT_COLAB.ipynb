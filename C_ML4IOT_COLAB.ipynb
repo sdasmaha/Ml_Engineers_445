{
  "nbformat": 4,
  "nbformat_minor": 0,
  "metadata": {
    "colab": {
      "name": "C ML4IOT_COLAB.ipynb",
      "provenance": [],
      "collapsed_sections": [],
      "toc_visible": true,
      "machine_shape": "hm",
      "authorship_tag": "ABX9TyN3/o//Ngv0wqyZjeQfspuA",
      "include_colab_link": true
    },
    "kernelspec": {
      "name": "python3",
      "display_name": "Python 3"
    },
    "accelerator": "TPU"
  },
  "cells": [
    {
      "cell_type": "markdown",
      "metadata": {
        "id": "view-in-github",
        "colab_type": "text"
      },
      "source": [
        "<a href=\"https://colab.research.google.com/github/sdasmaha/Ml_Engineers_445/blob/master/C_ML4IOT_COLAB.ipynb\" target=\"_parent\"><img src=\"https://colab.research.google.com/assets/colab-badge.svg\" alt=\"Open In Colab\"/></a>"
      ]
    },
    {
      "cell_type": "markdown",
      "metadata": {
        "id": "N8L4nTDkVaof"
      },
      "source": [
        "This project is divided into Sections. Would suggest to open with the colab link for better viewing .\n",
        "\n",
        "Colab Link = https://colab.research.google.com/drive/19rwqFr7jCUlW47K_o7452cgQOXEzc4Fm?usp=sharing\n",
        "\n",
        "\n"
      ]
    },
    {
      "cell_type": "markdown",
      "metadata": {
        "id": "-dRNQBJWYGFu"
      },
      "source": [
        "All the sensor data for 6 sensors are worked on but only with activity labels jumping, lying, standing.\n",
        "\n",
        "The remaining 4 activity labels is a challenge that could not be met due to time constraints."
      ]
    },
    {
      "cell_type": "markdown",
      "metadata": {
        "id": "yNwUCBlfrTM2"
      },
      "source": [
        "#Subject Details HAR DATASET\n",
        "\n",
        "* Subject:12\n",
        "*  Gender:Female\n",
        "*  Age:16\n",
        "*  Height:164 cm\n",
        "*  Weight:54 kg\n",
        "*  Occupation: Pupil\n",
        "\n",
        "\n"
      ]
    },
    {
      "cell_type": "markdown",
      "metadata": {
        "id": "2ski6qSmW28r"
      },
      "source": [
        "#Importing the Libraries"
      ]
    },
    {
      "cell_type": "code",
      "metadata": {
        "id": "t0r0vQa5K5wr"
      },
      "source": [
        "import pandas as pd\n",
        "import numpy as np\n",
        "import os\n",
        "import matplotlib as plt\n",
        "from matplotlib import pyplot"
      ],
      "execution_count": 47,
      "outputs": []
    },
    {
      "cell_type": "code",
      "metadata": {
        "id": "R_SV_3gTK-lT",
        "outputId": "4bef248d-cae1-4c73-d433-dded3ba105f8",
        "colab": {
          "base_uri": "https://localhost:8080/",
          "height": 204
        }
      },
      "source": [
        "!pip install dtw"
      ],
      "execution_count": 2,
      "outputs": [
        {
          "output_type": "stream",
          "text": [
            "Collecting dtw\n",
            "  Downloading https://files.pythonhosted.org/packages/66/a0/21d6ec377b8d5832218700e236205f8cdea38b3b2cdd0a732be170e2809b/dtw-1.4.0.tar.gz\n",
            "Requirement already satisfied: numpy in /usr/local/lib/python3.6/dist-packages (from dtw) (1.18.5)\n",
            "Requirement already satisfied: scipy in /usr/local/lib/python3.6/dist-packages (from dtw) (1.4.1)\n",
            "Building wheels for collected packages: dtw\n",
            "  Building wheel for dtw (setup.py) ... \u001b[?25l\u001b[?25hdone\n",
            "  Created wheel for dtw: filename=dtw-1.4.0-cp36-none-any.whl size=5315 sha256=d446f8a3868031da56b33f9789fe0ac5ebbbfdc48dc6c270c2fd9cdb22020500\n",
            "  Stored in directory: /root/.cache/pip/wheels/8c/8b/7a/947d67b53cd54948890a173527b0470ef56998812fc9d0a803\n",
            "Successfully built dtw\n",
            "Installing collected packages: dtw\n",
            "Successfully installed dtw-1.4.0\n"
          ],
          "name": "stdout"
        }
      ]
    },
    {
      "cell_type": "code",
      "metadata": {
        "id": "eMPOc3lJLAlG"
      },
      "source": [
        "from dtw import dtw "
      ],
      "execution_count": 3,
      "outputs": []
    },
    {
      "cell_type": "code",
      "metadata": {
        "id": "akZVDnAELCDU",
        "outputId": "c825015b-8db2-4541-8778-c2732192f4e5",
        "colab": {
          "base_uri": "https://localhost:8080/",
          "height": 34
        }
      },
      "source": [
        "from google.colab import drive\n",
        "drive.mount(\"/content/gdrive\")"
      ],
      "execution_count": 4,
      "outputs": [
        {
          "output_type": "stream",
          "text": [
            "Mounted at /content/gdrive\n"
          ],
          "name": "stdout"
        }
      ]
    },
    {
      "cell_type": "markdown",
      "metadata": {
        "id": "1ocODvZib1AK"
      },
      "source": [
        "#NOTES"
      ]
    },
    {
      "cell_type": "markdown",
      "metadata": {
        "id": "q6er73pIbYRb"
      },
      "source": [
        "String Manipulation and Concatenation for loading files and working with variables done with MS.EXCEL. For future, we should using glob function.\n",
        "\n",
        "I used data split function using the \"=\" operator to idenitify and reproduce multiple lines of code written below.\n"
      ]
    },
    {
      "cell_type": "markdown",
      "metadata": {
        "id": "cvo6QqFIbcrQ"
      },
      "source": [
        "The code can be improved with using datastructures rather than for loops.\n",
        "Also each run time was about 4-5 mins due to multi-dimensionality and poor use of data structures."
      ]
    },
    {
      "cell_type": "markdown",
      "metadata": {
        "id": "QSjrrpfLcJif"
      },
      "source": [
        "\n",
        "#Acceloremeter"
      ]
    },
    {
      "cell_type": "code",
      "metadata": {
        "id": "5lGdZA0wTiwA"
      },
      "source": [
        "df_acc_jump_chest = pd.read_csv(\"/content/gdrive/My Drive/ML4IOT/Notebook 1/Jumping/acc_jumping_csv/acc_jumping_chest.csv\")\n",
        "df_acc_jump_forearm = pd.read_csv(\"/content/gdrive/My Drive/ML4IOT/Notebook 1/Jumping/acc_jumping_csv/acc_jumping_forearm.csv\")\n",
        "df_acc_jump_head = pd.read_csv(\"/content/gdrive/My Drive/ML4IOT/Notebook 1/Jumping/acc_jumping_csv/acc_jumping_head.csv\")\n",
        "df_acc_jump_shin = pd.read_csv(\"/content/gdrive/My Drive/ML4IOT/Notebook 1/Jumping/acc_jumping_csv/acc_jumping_shin.csv\")\n",
        "df_acc_jump_thigh= pd.read_csv(\"/content/gdrive/My Drive/ML4IOT/Notebook 1/Jumping/acc_jumping_csv/acc_jumping_thigh.csv\")\n",
        "df_acc_jump_upperarm = pd.read_csv(\"/content/gdrive/My Drive/ML4IOT/Notebook 1/Jumping/acc_jumping_csv/acc_jumping_upperarm.csv\")\n",
        "df_acc_jump_waist = pd.read_csv(\"/content/gdrive/My Drive/ML4IOT/Notebook 1/Jumping/acc_jumping_csv/acc_jumping_waist.csv\")\n",
        "\n",
        "df_acc_lye_chest = pd.read_csv(\"/content/gdrive/My Drive/ML4IOT/Notebook 1/Lying/acc_lying_csv/acc_lying_chest.csv\")\n",
        "df_acc_lye_forearm = pd.read_csv(\"/content/gdrive/My Drive/ML4IOT/Notebook 1/Lying/acc_lying_csv/acc_lying_forearm.csv\")\n",
        "df_acc_lye_head = pd.read_csv(\"/content/gdrive/My Drive/ML4IOT/Notebook 1/Lying/acc_lying_csv/acc_lying_head.csv\")\n",
        "df_acc_lye_shin = pd.read_csv(\"/content/gdrive/My Drive/ML4IOT/Notebook 1/Lying/acc_lying_csv/acc_lying_shin.csv\")\n",
        "df_acc_lye_thigh = pd.read_csv(\"/content/gdrive/My Drive/ML4IOT/Notebook 1/Lying/acc_lying_csv/acc_lying_thigh.csv\")\n",
        "df_acc_lye_upperarm = pd.read_csv(\"/content/gdrive/My Drive/ML4IOT/Notebook 1/Lying/acc_lying_csv/acc_lying_upperarm.csv\")\n",
        "df_acc_lye_waist = pd.read_csv(\"/content/gdrive/My Drive/ML4IOT/Notebook 1/Lying/acc_lying_csv/acc_lying_waist.csv\")\n",
        "\n",
        "df_acc_stand_chest = pd.read_csv(\"/content/gdrive/My Drive/ML4IOT/Notebook 1/Standing/acc_standing_csv/acc_standing_chest.csv\")\n",
        "df_acc_stand_forearm = pd.read_csv(\"/content/gdrive/My Drive/ML4IOT/Notebook 1/Standing/acc_standing_csv/acc_standing_forearm.csv\")\n",
        "df_acc_stand_head = pd.read_csv(\"/content/gdrive/My Drive/ML4IOT/Notebook 1/Standing/acc_standing_csv/acc_standing_head.csv\")\n",
        "df_acc_stand_shin = pd.read_csv(\"/content/gdrive/My Drive/ML4IOT/Notebook 1/Standing/acc_standing_csv/acc_standing_shin.csv\")\n",
        "df_acc_stand_thigh = pd.read_csv(\"/content/gdrive/My Drive/ML4IOT/Notebook 1/Standing/acc_standing_csv/acc_standing_upperarm.csv\")\n",
        "df_acc_stand_upperarm = pd.read_csv(\"/content/gdrive/My Drive/ML4IOT/Notebook 1/Standing/acc_standing_csv/acc_standing_upperarm.csv\")\n",
        "df_acc_stand_waist = pd.read_csv(\"/content/gdrive/My Drive/ML4IOT/Notebook 1/Standing/acc_standing_csv/acc_standing_waist.csv\")\n",
        " "
      ],
      "execution_count": 5,
      "outputs": []
    },
    {
      "cell_type": "code",
      "metadata": {
        "id": "QvnnvfKWLMip"
      },
      "source": [
        "df_acc_jump_chest = df_acc_jump_chest[['attr_x', 'attr_y', 'attr_z']].values[0:999,:]\n",
        "df_acc_jump_forearm = df_acc_jump_forearm[['attr_x', 'attr_y', 'attr_z']].values[0:999,:]\n",
        "df_acc_jump_head = df_acc_jump_head[['attr_x', 'attr_y', 'attr_z']].values[0:999,:]\n",
        "df_acc_jump_shin = df_acc_jump_shin[['attr_x', 'attr_y', 'attr_z']].values[0:999,:]\n",
        "df_acc_jump_thigh = df_acc_jump_thigh[['attr_x', 'attr_y', 'attr_z']].values[0:999,:]\n",
        "df_acc_jump_upperarm = df_acc_jump_upperarm[['attr_x', 'attr_y', 'attr_z']].values[0:999,:]\n",
        "df_acc_jump_waist = df_acc_jump_waist[['attr_x', 'attr_y', 'attr_z']].values[0:999,:]\n",
        "df_acc_lye_chest = df_acc_lye_chest[['attr_x', 'attr_y', 'attr_z']].values[0:999,:]\n",
        "df_acc_lye_forearm = df_acc_lye_forearm[['attr_x', 'attr_y', 'attr_z']].values[0:999,:]\n",
        "df_acc_lye_head = df_acc_lye_head[['attr_x', 'attr_y', 'attr_z']].values[0:999,:]\n",
        "df_acc_lye_shin = df_acc_lye_shin[['attr_x', 'attr_y', 'attr_z']].values[0:999,:]\n",
        "df_acc_lye_thigh = df_acc_lye_thigh[['attr_x', 'attr_y', 'attr_z']].values[0:999,:]\n",
        "df_acc_lye_upperarm = df_acc_lye_upperarm[['attr_x', 'attr_y', 'attr_z']].values[0:999,:]\n",
        "df_acc_lye_waist = df_acc_lye_waist[['attr_x', 'attr_y', 'attr_z']].values[0:999,:]\n",
        "df_acc_stand_chest = df_acc_stand_chest[['attr_x', 'attr_y', 'attr_z']].values[0:999,:]\n",
        "df_acc_stand_forearm = df_acc_stand_forearm[['attr_x', 'attr_y', 'attr_z']].values[0:999,:]\n",
        "df_acc_stand_head = df_acc_stand_head[['attr_x', 'attr_y', 'attr_z']].values[0:999,:]\n",
        "df_acc_stand_shin = df_acc_stand_shin[['attr_x', 'attr_y', 'attr_z']].values[0:999,:]\n",
        "df_acc_stand_thigh = df_acc_stand_thigh[['attr_x', 'attr_y', 'attr_z']].values[0:999,:]\n",
        "df_acc_stand_upperarm = df_acc_stand_upperarm[['attr_x', 'attr_y', 'attr_z']].values[0:999,:]\n",
        "df_acc_stand_waist = df_acc_stand_waist[['attr_x', 'attr_y', 'attr_z']].values[0:999,:]\n",
        "\n"
      ],
      "execution_count": 6,
      "outputs": []
    },
    {
      "cell_type": "code",
      "metadata": {
        "id": "UUaEP2mnjddU"
      },
      "source": [
        "acc_jump = [df_acc_jump_chest,df_acc_jump_forearm,df_acc_jump_head,df_acc_jump_shin,df_acc_jump_thigh,df_acc_jump_upperarm,df_acc_jump_waist]\n",
        "acc_lye = [df_acc_lye_chest,df_acc_lye_forearm ,df_acc_lye_head,df_acc_lye_shin,df_acc_lye_thigh,df_acc_lye_upperarm,df_acc_lye_waist]\n",
        "acc_stand = [df_acc_stand_chest,df_acc_stand_forearm ,df_acc_stand_head,df_acc_stand_shin,df_acc_stand_thigh,df_acc_stand_upperarm,df_acc_stand_waist]"
      ],
      "execution_count": 7,
      "outputs": []
    },
    {
      "cell_type": "markdown",
      "metadata": {
        "id": "MZ-fVVLyKvKF"
      },
      "source": [
        "Running 2 for loops "
      ]
    },
    {
      "cell_type": "code",
      "metadata": {
        "id": "X9-szPPHLWN8",
        "outputId": "de987da2-f89a-48e8-9ab0-372a6870eed7",
        "colab": {
          "base_uri": "https://localhost:8080/",
          "height": 306
        }
      },
      "source": [
        "results = []\n",
        "for i in acc_jump:\n",
        "  for j in acc_jump:\n",
        "    euclidean_distance =  lambda i,j: np.linalg.norm(i-j)\n",
        "    d, cost_matrix, acc_cost_matrix, path = dtw(i, j, dist = euclidean_distance)\n",
        "    results.append(d)\n",
        "\n",
        "np.hstack(results)"
      ],
      "execution_count": null,
      "outputs": [
        {
          "output_type": "execute_result",
          "data": {
            "text/plain": [
              "array([    0.        , 14829.15491897, 12986.42782376,  7708.46421049,\n",
              "        4076.84240386,  3977.11243373, 13250.36862331, 10983.17121063,\n",
              "       14892.54574511, 14299.77810531, 10760.00334833, 11289.04306081,\n",
              "       10722.38032688, 14520.56983296, 14829.15491897,     0.        ,\n",
              "           0.        , 14829.15491897, 12986.42782376,  7708.46421049,\n",
              "        4076.84240386,  3977.11243373, 13250.36862331, 14829.15491897,\n",
              "           0.        ,  7118.26461695, 18231.69102728, 15130.71907549,\n",
              "       15712.80605172, 15116.1820829 , 12986.42782376,  7118.26461695,\n",
              "           0.        , 16242.84478079, 12389.5922458 , 13028.63271817,\n",
              "       14231.19211889,  7708.46421049, 18231.69102728, 16242.84478079,\n",
              "           0.        ,  9044.31104928,  8114.73716577, 13453.91952204,\n",
              "        4076.84240386, 15130.71907549, 12389.5922458 ,  9044.31104928,\n",
              "           0.        ,  4089.15431973, 14362.97202891,  3977.11243373,\n",
              "       15712.80605172, 13028.63271817,  8114.73716577,  4089.15431973,\n",
              "           0.        , 13599.61402047, 13250.36862331, 15116.1820829 ,\n",
              "       14231.19211889, 13453.91952204, 14362.97202891, 13599.61402047,\n",
              "           0.        ])"
            ]
          },
          "metadata": {
            "tags": []
          },
          "execution_count": 12
        }
      ]
    },
    {
      "cell_type": "code",
      "metadata": {
        "id": "8TVmpLGNLTnu",
        "outputId": "a2cb525b-153a-4d8e-cd4b-c0b4cc23cb4a",
        "colab": {
          "base_uri": "https://localhost:8080/",
          "height": 238
        }
      },
      "source": [
        "results1 = []\n",
        "for i in acc_lye:\n",
        "  for j in acc_lye:\n",
        "    euclidean_distance =  lambda i,j: np.linalg.norm(i-j)\n",
        "    d, cost_matrix, acc_cost_matrix, path = dtw(i, j, dist = euclidean_distance)\n",
        "    results1.append(d)\n",
        "\n",
        "np.hstack(results1)\n"
      ],
      "execution_count": null,
      "outputs": [
        {
          "output_type": "execute_result",
          "data": {
            "text/plain": [
              "array([    0.        , 15470.15069445,  9635.83886849, 10975.85176031,\n",
              "        3103.85770831,  7033.99649456,  9117.51836155, 15470.15069445,\n",
              "           0.        , 13666.20012   , 18043.50200591, 14005.59348752,\n",
              "       17610.54798477, 12355.45566421,  9635.83886849, 13666.20012   ,\n",
              "           0.        , 11954.82799191,  8837.85382706,  7308.71788802,\n",
              "       14980.02634949, 10975.85176031, 18043.50200591, 11954.82799191,\n",
              "           0.        , 11635.57755591,  7099.3992894 , 16703.00187272,\n",
              "        3103.85770831, 14005.59348752,  8837.85382706, 11635.57755591,\n",
              "           0.        ,  7321.51868871,  8544.0977147 ,  7033.99649456,\n",
              "       17610.54798477,  7308.71788802,  7099.3992894 ,  7321.51868871,\n",
              "           0.        , 14692.71693826,  9117.51836155, 12355.45566421,\n",
              "       14980.02634949, 16703.00187272,  8544.0977147 , 14692.71693826,\n",
              "           0.        ])"
            ]
          },
          "metadata": {
            "tags": []
          },
          "execution_count": 19
        }
      ]
    },
    {
      "cell_type": "code",
      "metadata": {
        "id": "wNY1bBOjkAQZ",
        "outputId": "978f6b8e-c1f8-4607-979f-b5dc17cd3525",
        "colab": {
          "base_uri": "https://localhost:8080/",
          "height": 238
        }
      },
      "source": [
        "results3 = []\n",
        "for i in acc_stand:\n",
        "  for j in acc_stand:\n",
        "    euclidean_distance =  lambda i,j: np.linalg.norm(i-j)\n",
        "    d, cost_matrix, acc_cost_matrix, path = dtw(i, j, dist = euclidean_distance)\n",
        "    results3.append(d)\n",
        "\n",
        "np.hstack(results3)"
      ],
      "execution_count": null,
      "outputs": [
        {
          "output_type": "execute_result",
          "data": {
            "text/plain": [
              "array([    0.        , 16569.97633088, 13925.13694733,  3157.52408422,\n",
              "        1975.92219426,  1975.92219426, 12691.39775829, 16569.97633088,\n",
              "           0.        ,  4110.09703947, 15270.06995945, 15848.77288845,\n",
              "       15848.77288845, 19558.651424  , 13925.13694733,  4110.09703947,\n",
              "           0.        , 12534.19506047, 12809.44720526, 12809.44720526,\n",
              "       19299.65087072,  3157.52408422, 15270.06995945, 12534.19506047,\n",
              "           0.        ,  2449.11175123,  2449.11175123, 14920.08833654,\n",
              "        1975.92219426, 15848.77288845, 12809.44720526,  2449.11175123,\n",
              "           0.        ,     0.        , 14296.094205  ,  1975.92219426,\n",
              "       15848.77288845, 12809.44720526,  2449.11175123,     0.        ,\n",
              "           0.        , 14296.094205  , 12691.39775829, 19558.651424  ,\n",
              "       19299.65087072, 14920.08833654, 14296.094205  , 14296.094205  ,\n",
              "           0.        ])"
            ]
          },
          "metadata": {
            "tags": []
          },
          "execution_count": 10
        }
      ]
    },
    {
      "cell_type": "markdown",
      "metadata": {
        "id": "-bY6G88NHPPo"
      },
      "source": [
        "**Acc Jump**"
      ]
    },
    {
      "cell_type": "code",
      "metadata": {
        "id": "P9pkk61DAMgY"
      },
      "source": [
        "dtw_acc_jump = ([    0.        , 14829.15491897, 12986.42782376,  7708.46421049,\n",
        "        4076.84240386,  3977.11243373, 13250.36862331, 10983.17121063,\n",
        "       14892.54574511, 14299.77810531, 10760.00334833, 11289.04306081,\n",
        "       10722.38032688, 14520.56983296, 14829.15491897,     0.        ,\n",
        "           0.        , 14829.15491897, 12986.42782376,  7708.46421049,\n",
        "        4076.84240386,  3977.11243373, 13250.36862331, 14829.15491897,\n",
        "           0.        ,  7118.26461695, 18231.69102728, 15130.71907549,\n",
        "       15712.80605172, 15116.1820829 , 12986.42782376,  7118.26461695,\n",
        "           0.        , 16242.84478079, 12389.5922458 , 13028.63271817,\n",
        "       14231.19211889,  7708.46421049, 18231.69102728, 16242.84478079,\n",
        "           0.        ,  9044.31104928,  8114.73716577, 13453.91952204,\n",
        "        4076.84240386, 15130.71907549, 12389.5922458 ,  9044.31104928,\n",
        "           0.        ,  4089.15431973, 14362.97202891,  3977.11243373,\n",
        "       15712.80605172, 13028.63271817,  8114.73716577,  4089.15431973,\n",
        "           0.        , 13599.61402047, 13250.36862331, 15116.1820829 ,\n",
        "       14231.19211889, 13453.91952204, 14362.97202891, 13599.61402047,\n",
        "           0.        ])"
      ],
      "execution_count": 8,
      "outputs": []
    },
    {
      "cell_type": "markdown",
      "metadata": {
        "id": "ctoueCEPHR2N"
      },
      "source": [
        "**Acc Lye**"
      ]
    },
    {
      "cell_type": "code",
      "metadata": {
        "id": "w4OTZ8RfAQRa"
      },
      "source": [
        "dtw_acc_lye = ([    0.        , 15470.15069445,  9635.83886849, 10975.85176031,\n",
        "        3103.85770831,  7033.99649456,  9117.51836155, 15470.15069445,\n",
        "           0.        , 13666.20012   , 18043.50200591, 14005.59348752,\n",
        "       17610.54798477, 12355.45566421,  9635.83886849, 13666.20012   ,\n",
        "           0.        , 11954.82799191,  8837.85382706,  7308.71788802,\n",
        "       14980.02634949, 10975.85176031, 18043.50200591, 11954.82799191,\n",
        "           0.        , 11635.57755591,  7099.3992894 , 16703.00187272,\n",
        "        3103.85770831, 14005.59348752,  8837.85382706, 11635.57755591,\n",
        "           0.        ,  7321.51868871,  8544.0977147 ,  7033.99649456,\n",
        "       17610.54798477,  7308.71788802,  7099.3992894 ,  7321.51868871,\n",
        "           0.        , 14692.71693826,  9117.51836155, 12355.45566421,\n",
        "       14980.02634949, 16703.00187272,  8544.0977147 , 14692.71693826,\n",
        "           0.        ])"
      ],
      "execution_count": 9,
      "outputs": []
    },
    {
      "cell_type": "markdown",
      "metadata": {
        "id": "s65sLkzEHViE"
      },
      "source": [
        "**Acc Stand**"
      ]
    },
    {
      "cell_type": "code",
      "metadata": {
        "id": "HxwlZsTuVQQF"
      },
      "source": [
        "dtw_acc_stand = ([    0.        , 16569.97633088, 13925.13694733,  3157.52408422,\n",
        "        1975.92219426,  1975.92219426, 12691.39775829, 16569.97633088,\n",
        "           0.        ,  4110.09703947, 15270.06995945, 15848.77288845,\n",
        "       15848.77288845, 19558.651424  , 13925.13694733,  4110.09703947,\n",
        "           0.        , 12534.19506047, 12809.44720526, 12809.44720526,\n",
        "       19299.65087072,  3157.52408422, 15270.06995945, 12534.19506047,\n",
        "           0.        ,  2449.11175123,  2449.11175123, 14920.08833654,\n",
        "        1975.92219426, 15848.77288845, 12809.44720526,  2449.11175123,\n",
        "           0.        ,     0.        , 14296.094205  ,  1975.92219426,\n",
        "       15848.77288845, 12809.44720526,  2449.11175123,     0.        ,\n",
        "           0.        , 14296.094205  , 12691.39775829, 19558.651424  ,\n",
        "       19299.65087072, 14920.08833654, 14296.094205  , 14296.094205  ,\n",
        "           0.        ])"
      ],
      "execution_count": 10,
      "outputs": []
    },
    {
      "cell_type": "markdown",
      "metadata": {
        "id": "vt34mv8WULwv"
      },
      "source": [
        "#GPS"
      ]
    },
    {
      "cell_type": "code",
      "metadata": {
        "id": "mUMMmzynYst7"
      },
      "source": [
        "df_gps_jump_chest = pd.read_csv(\"/content/gdrive/My Drive/ML4IOT/Notebook 1/Jumping/gps_jumping_csv/GPS_jumping_chest.csv\")\n",
        "df_gps_jump_head = pd.read_csv(\"/content/gdrive/My Drive/ML4IOT/Notebook 1/Jumping/gps_jumping_csv/GPS_jumping_head.csv\")\n",
        "df_gps_jump_shin = pd.read_csv(\"/content/gdrive/My Drive/ML4IOT/Notebook 1/Jumping/gps_jumping_csv/GPS_jumping_shin.csv\")\n",
        "df_gps_jump_thigh = pd.read_csv(\"/content/gdrive/My Drive/ML4IOT/Notebook 1/Jumping/gps_jumping_csv/GPS_jumping_thigh.csv\")\n",
        "df_gps_jump_upperarm = pd.read_csv(\"/content/gdrive/My Drive/ML4IOT/Notebook 1/Jumping/gps_jumping_csv/GPS_jumping_upperarm.csv\")\n",
        "df_gps_jump_waist = pd.read_csv(\"/content/gdrive/My Drive/ML4IOT/Notebook 1/Jumping/gps_jumping_csv/GPS_jumping_waist.csv\")\n",
        "df_gps_lye_chest = pd.read_csv(\"/content/gdrive/My Drive/ML4IOT/Notebook 1/Lying/gps_lying_csv/GPS_lying_chest.csv\")\n",
        "df_gps_lye_head = pd.read_csv(\"/content/gdrive/My Drive/ML4IOT/Notebook 1/Lying/gps_lying_csv/GPS_lying_head.csv\")\n",
        "df_gps_lye_shin = pd.read_csv(\"/content/gdrive/My Drive/ML4IOT/Notebook 1/Lying/gps_lying_csv/GPS_lying_shin.csv\")\n",
        "df_gps_lye_thigh = pd.read_csv(\"/content/gdrive/My Drive/ML4IOT/Notebook 1/Lying/gps_lying_csv/GPS_lying_thigh.csv\")\n",
        "df_gps_lye_upperarm = pd.read_csv(\"/content/gdrive/My Drive/ML4IOT/Notebook 1/Lying/gps_lying_csv/GPS_lying_upperarm.csv\")\n",
        "df_gps_lye_waist = pd.read_csv(\"/content/gdrive/My Drive/ML4IOT/Notebook 1/Lying/gps_lying_csv/GPS_lying_waist.csv\")\n",
        "df_gps_stand_chest = pd.read_csv(\"/content/gdrive/My Drive/ML4IOT/Notebook 1/Standing/gps_standing_csv/GPS_standing_chest.csv\")\n",
        "df_gps_stand_head = pd.read_csv(\"/content/gdrive/My Drive/ML4IOT/Notebook 1/Standing/gps_standing_csv/GPS_standing_head.csv\")\n",
        "df_gps_stand_shin = pd.read_csv(\"/content/gdrive/My Drive/ML4IOT/Notebook 1/Standing/gps_standing_csv/GPS_standing_shin.csv\")\n",
        "df_gps_stand_thigh = pd.read_csv(\"/content/gdrive/My Drive/ML4IOT/Notebook 1/Standing/gps_standing_csv/GPS_standing_thigh.csv\")\n",
        "df_gps_stand_upperarm = pd.read_csv(\"/content/gdrive/My Drive/ML4IOT/Notebook 1/Standing/gps_standing_csv/GPS_standing_upperarm.csv\")\n",
        "df_gps_stand_waist = pd.read_csv(\"/content/gdrive/My Drive/ML4IOT/Notebook 1/Standing/gps_standing_csv/GPS_standing_waist.csv\")"
      ],
      "execution_count": 11,
      "outputs": []
    },
    {
      "cell_type": "code",
      "metadata": {
        "id": "5K6nQHo7V8sD"
      },
      "source": [
        "df_gps_jump_chest = df_gps_jump_chest[['attr_lat', 'attr_lng']].values[0:999,:]\n",
        "df_gps_jump_head = df_gps_jump_head[['attr_lat', 'attr_lng']].values[0:999,:]\n",
        "df_gps_jump_shin = df_gps_jump_shin[['attr_lat', 'attr_lng']].values[0:999,:]\n",
        "df_gps_jump_thigh = df_gps_jump_thigh[['attr_lat', 'attr_lng']].values[0:999,:]\n",
        "df_gps_jump_upperarm = df_gps_jump_upperarm[['attr_lat', 'attr_lng']].values[0:999,:]\n",
        "df_gps_jump_waist = df_gps_jump_waist[['attr_lat', 'attr_lng']].values[0:999,:]\n",
        "df_gps_lye_chest = df_gps_lye_chest[['attr_lat', 'attr_lng']].values[0:999,:]\n",
        "df_gps_lye_head = df_gps_lye_head[['attr_lat', 'attr_lng']].values[0:999,:]\n",
        "df_gps_lye_shin = df_gps_lye_shin[['attr_lat', 'attr_lng']].values[0:999,:]\n",
        "df_gps_lye_thigh = df_gps_lye_thigh[['attr_lat', 'attr_lng']].values[0:999,:]\n",
        "df_gps_lye_upperarm = df_gps_lye_upperarm[['attr_lat', 'attr_lng']].values[0:999,:]\n",
        "df_gps_lye_waist = df_gps_lye_waist[['attr_lat', 'attr_lng']].values[0:999,:]\n",
        "df_gps_stand_chest = df_gps_stand_chest[['attr_lat', 'attr_lng']].values[0:999,:]\n",
        "df_gps_stand_head = df_gps_stand_head[['attr_lat', 'attr_lng']].values[0:999,:]\n",
        "df_gps_stand_shin = df_gps_stand_shin[['attr_lat', 'attr_lng']].values[0:999,:]\n",
        "df_gps_stand_thigh = df_gps_stand_thigh[['attr_lat', 'attr_lng']].values[0:999,:]\n",
        "df_gps_stand_upperarm = df_gps_stand_upperarm[['attr_lat', 'attr_lng']].values[0:999,:]\n",
        "df_gps_stand_waist = df_gps_stand_waist[['attr_lat', 'attr_lng']].values[0:999,:]"
      ],
      "execution_count": 12,
      "outputs": []
    },
    {
      "cell_type": "code",
      "metadata": {
        "id": "B_UEMJ8WagyJ"
      },
      "source": [
        "gps_jump = [df_gps_jump_chest,\n",
        "df_gps_jump_head,\n",
        "df_gps_jump_shin,\n",
        "df_gps_jump_thigh,\n",
        "df_gps_jump_upperarm,\n",
        "df_gps_jump_waist]\n",
        "gps_lye = [df_gps_lye_chest,\n",
        "df_gps_lye_head,\n",
        "df_gps_lye_shin,\n",
        "df_gps_lye_thigh,\n",
        "df_gps_lye_upperarm,\n",
        "df_gps_lye_waist]\n",
        "gps_stand = [df_gps_stand_chest,\n",
        "df_gps_stand_head,\n",
        "df_gps_stand_shin,\n",
        "df_gps_stand_thigh,\n",
        "df_gps_stand_upperarm,\n",
        "df_gps_stand_waist]"
      ],
      "execution_count": null,
      "outputs": []
    },
    {
      "cell_type": "markdown",
      "metadata": {
        "id": "OkeUD0YYf7Qx"
      },
      "source": [
        "*gps jump*"
      ]
    },
    {
      "cell_type": "code",
      "metadata": {
        "id": "EyanxiL6TqC1",
        "outputId": "1de91c91-76e8-4c0b-f06f-901e3228a46c",
        "colab": {
          "base_uri": "https://localhost:8080/",
          "height": 153
        }
      },
      "source": [
        "results4 = []\n",
        "for i in gps_jump:\n",
        "  for j in gps_jump:\n",
        "    euclidean_distance =  lambda i,j: np.linalg.norm(i-j)\n",
        "    d, cost_matrix, acc_cost_matrix, path = dtw(i, j, dist = euclidean_distance)\n",
        "    results4.append(d)\n",
        "\n",
        "np.hstack(results4)"
      ],
      "execution_count": null,
      "outputs": [
        {
          "output_type": "execute_result",
          "data": {
            "text/plain": [
              "array([0.        , 0.00075855, 0.00242251, 0.00148687, 0.00128873,\n",
              "       0.00225688, 0.00075855, 0.        , 0.00258669, 0.00123978,\n",
              "       0.00178962, 0.00148676, 0.00242251, 0.00258669, 0.        ,\n",
              "       0.00319761, 0.00137867, 0.00335171, 0.00148687, 0.00123978,\n",
              "       0.00319761, 0.        , 0.00235259, 0.00079414, 0.00128873,\n",
              "       0.00178962, 0.00137867, 0.00235259, 0.        , 0.00277712,\n",
              "       0.00225688, 0.00148676, 0.00335171, 0.00079414, 0.00277712,\n",
              "       0.        ])"
            ]
          },
          "metadata": {
            "tags": []
          },
          "execution_count": 8
        }
      ]
    },
    {
      "cell_type": "markdown",
      "metadata": {
        "id": "-enwyudyHYuw"
      },
      "source": [
        "**GPS Stand**"
      ]
    },
    {
      "cell_type": "code",
      "metadata": {
        "id": "zVkT6TcSULbr"
      },
      "source": [
        "dtw_gps_jump = ([0.        , 0.00075855, 0.00242251, 0.00148687, 0.00128873,\n",
        "       0.00225688, 0.00075855, 0.        , 0.00258669, 0.00123978,\n",
        "       0.00178962, 0.00148676, 0.00242251, 0.00258669, 0.        ,\n",
        "       0.00319761, 0.00137867, 0.00335171, 0.00148687, 0.00123978,\n",
        "       0.00319761, 0.        , 0.00235259, 0.00079414, 0.00128873,\n",
        "       0.00178962, 0.00137867, 0.00235259, 0.        , 0.00277712,\n",
        "       0.00225688, 0.00148676, 0.00335171, 0.00079414, 0.00277712,\n",
        "       0.        ])"
      ],
      "execution_count": 13,
      "outputs": []
    },
    {
      "cell_type": "code",
      "metadata": {
        "id": "BmDdPksKgCTo",
        "outputId": "dfbcd840-bc7e-450e-a5ac-f38b52421552",
        "colab": {
          "base_uri": "https://localhost:8080/",
          "height": 170
        }
      },
      "source": [
        "results5 = []\n",
        "for i in gps_lye:\n",
        "  for j in gps_lye:\n",
        "    euclidean_distance =  lambda i,j: np.linalg.norm(i-j)\n",
        "    d, cost_matrix, acc_cost_matrix, path = dtw(i, j, dist = euclidean_distance)\n",
        "    results5.append(d)\n",
        "\n",
        "np.hstack(results5)"
      ],
      "execution_count": null,
      "outputs": [
        {
          "output_type": "execute_result",
          "data": {
            "text/plain": [
              "array([0.00000000e+00, 9.39927465e-03, 2.36757244e-04, 9.45357958e-05,\n",
              "       4.08372149e-04, 4.28114564e-04, 9.39927465e-03, 0.00000000e+00,\n",
              "       9.21818637e-03, 9.37042825e-03, 9.02881663e-03, 9.00038468e-03,\n",
              "       2.36757244e-04, 9.21818637e-03, 0.00000000e+00, 2.37634712e-04,\n",
              "       1.91183383e-04, 3.56466489e-04, 9.45357958e-05, 9.37042825e-03,\n",
              "       2.37634712e-04, 0.00000000e+00, 3.95494020e-04, 4.29875892e-04,\n",
              "       4.08372149e-04, 9.02881663e-03, 1.91183383e-04, 3.95494020e-04,\n",
              "       0.00000000e+00, 1.78271220e-04, 4.28114564e-04, 9.00038468e-03,\n",
              "       3.56466489e-04, 4.29875892e-04, 1.78271220e-04, 0.00000000e+00])"
            ]
          },
          "metadata": {
            "tags": []
          },
          "execution_count": 9
        }
      ]
    },
    {
      "cell_type": "markdown",
      "metadata": {
        "id": "Gm9dtwI6HcaA"
      },
      "source": [
        "**GPS Lye**"
      ]
    },
    {
      "cell_type": "code",
      "metadata": {
        "id": "wxF_Y9M_gNqv"
      },
      "source": [
        "dtw_gps_lye = ([0.00000000e+00, 9.39927465e-03, 2.36757244e-04, 9.45357958e-05,\n",
        "       4.08372149e-04, 4.28114564e-04, 9.39927465e-03, 0.00000000e+00,\n",
        "       9.21818637e-03, 9.37042825e-03, 9.02881663e-03, 9.00038468e-03,\n",
        "       2.36757244e-04, 9.21818637e-03, 0.00000000e+00, 2.37634712e-04,\n",
        "       1.91183383e-04, 3.56466489e-04, 9.45357958e-05, 9.37042825e-03,\n",
        "       2.37634712e-04, 0.00000000e+00, 3.95494020e-04, 4.29875892e-04,\n",
        "       4.08372149e-04, 9.02881663e-03, 1.91183383e-04, 3.95494020e-04,\n",
        "       0.00000000e+00, 1.78271220e-04, 4.28114564e-04, 9.00038468e-03,\n",
        "       3.56466489e-04, 4.29875892e-04, 1.78271220e-04, 0.00000000e+00])"
      ],
      "execution_count": 14,
      "outputs": []
    },
    {
      "cell_type": "code",
      "metadata": {
        "id": "H5yzvEqOgqmH",
        "outputId": "cb028bd6-28e9-423c-ad6e-a4f94684e3cd",
        "colab": {
          "base_uri": "https://localhost:8080/",
          "height": 153
        }
      },
      "source": [
        "results6 = []\n",
        "for i in gps_stand:\n",
        "  for j in gps_stand:\n",
        "    euclidean_distance =  lambda i,j: np.linalg.norm(i-j)\n",
        "    d, cost_matrix, acc_cost_matrix, path = dtw(i, j, dist = euclidean_distance)\n",
        "    results6.append(d)\n",
        "\n",
        "np.hstack(results6)"
      ],
      "execution_count": null,
      "outputs": [
        {
          "output_type": "execute_result",
          "data": {
            "text/plain": [
              "array([0.        , 0.00585401, 0.00555214, 0.00733219, 0.00737638,\n",
              "       0.01268741, 0.00585401, 0.        , 0.00413158, 0.00862214,\n",
              "       0.01055736, 0.00899989, 0.00555214, 0.00413158, 0.        ,\n",
              "       0.003385  , 0.0056079 , 0.00727778, 0.00733219, 0.00862214,\n",
              "       0.003385  , 0.        , 0.00497078, 0.01207812, 0.00737638,\n",
              "       0.01055736, 0.0056079 , 0.00497078, 0.        , 0.01374157,\n",
              "       0.01268741, 0.00899989, 0.00727778, 0.01207812, 0.01374157,\n",
              "       0.        ])"
            ]
          },
          "metadata": {
            "tags": []
          },
          "execution_count": 10
        }
      ]
    },
    {
      "cell_type": "markdown",
      "metadata": {
        "id": "eHxKMyeqHgEO"
      },
      "source": [
        "**GPS Stand**"
      ]
    },
    {
      "cell_type": "code",
      "metadata": {
        "id": "z2vOk-0ag0Si"
      },
      "source": [
        "dtw_gps_stand = ([0.        , 0.00585401, 0.00555214, 0.00733219, 0.00737638,\n",
        "       0.01268741, 0.00585401, 0.        , 0.00413158, 0.00862214,\n",
        "       0.01055736, 0.00899989, 0.00555214, 0.00413158, 0.        ,\n",
        "       0.003385  , 0.0056079 , 0.00727778, 0.00733219, 0.00862214,\n",
        "       0.003385  , 0.        , 0.00497078, 0.01207812, 0.00737638,\n",
        "       0.01055736, 0.0056079 , 0.00497078, 0.        , 0.01374157,\n",
        "       0.01268741, 0.00899989, 0.00727778, 0.01207812, 0.01374157,\n",
        "       0.        ])"
      ],
      "execution_count": 15,
      "outputs": []
    },
    {
      "cell_type": "markdown",
      "metadata": {
        "id": "8GLsr-xmg4gM"
      },
      "source": [
        "#Gyroscope"
      ]
    },
    {
      "cell_type": "code",
      "metadata": {
        "id": "bCj7lZkJhITb"
      },
      "source": [
        "df_gyr_jump_chest = pd.read_csv(\"/content/gdrive/My Drive/ML4IOT/Notebook 1/Jumping/gyr_jumping_csv/Gyroscope_jumping_chest.csv\")\n",
        "df_gyr_jump_forearm = pd.read_csv(\"/content/gdrive/My Drive/ML4IOT/Notebook 1/Jumping/gyr_jumping_csv/Gyroscope_jumping_forearm.csv\")\n",
        "df_gyr_jump_head = pd.read_csv(\"/content/gdrive/My Drive/ML4IOT/Notebook 1/Jumping/gyr_jumping_csv/Gyroscope_jumping_head.csv\")\n",
        "df_gyr_jump_shin = pd.read_csv(\"/content/gdrive/My Drive/ML4IOT/Notebook 1/Jumping/gyr_jumping_csv/Gyroscope_jumping_shin.csv\")\n",
        "df_gyr_jump_thigh = pd.read_csv(\"/content/gdrive/My Drive/ML4IOT/Notebook 1/Jumping/gyr_jumping_csv/Gyroscope_jumping_thigh.csv\")\n",
        "df_gyr_jump_upperarm = pd.read_csv(\"/content/gdrive/My Drive/ML4IOT/Notebook 1/Jumping/gyr_jumping_csv/Gyroscope_jumping_upperarm.csv\")\n",
        "df_gyr_jump_waist = pd.read_csv(\"/content/gdrive/My Drive/ML4IOT/Notebook 1/Jumping/gyr_jumping_csv/Gyroscope_jumping_waist.csv\")\n",
        "\n",
        "df_gyr_lye_chest = pd.read_csv(\"/content/gdrive/My Drive/ML4IOT/Notebook 1/Lying/gyr_lying_csv/Gyroscope_lying_chest.csv\")\n",
        "df_gyr_lye_forearm = pd.read_csv(\"/content/gdrive/My Drive/ML4IOT/Notebook 1/Lying/gyr_lying_csv/Gyroscope_lying_forearm.csv\")\n",
        "df_gyr_lye_head = pd.read_csv(\"/content/gdrive/My Drive/ML4IOT/Notebook 1/Lying/gyr_lying_csv/Gyroscope_lying_head.csv\")\n",
        "df_gyr_lye_shin = pd.read_csv(\"/content/gdrive/My Drive/ML4IOT/Notebook 1/Lying/gyr_lying_csv/Gyroscope_lying_shin.csv\")\n",
        "df_gyr_lye_thigh = pd.read_csv(\"/content/gdrive/My Drive/ML4IOT/Notebook 1/Lying/gyr_lying_csv/Gyroscope_lying_thigh.csv\")\n",
        "df_gyr_lye_upperarm = pd.read_csv(\"/content/gdrive/My Drive/ML4IOT/Notebook 1/Lying/gyr_lying_csv/Gyroscope_lying_upperarm.csv\")\n",
        "df_gyr_lye_waist = pd.read_csv(\"/content/gdrive/My Drive/ML4IOT/Notebook 1/Lying/gyr_lying_csv/Gyroscope_lying_waist.csv\")\n",
        "\n",
        "df_gyr_stand_chest = pd.read_csv(\"/content/gdrive/My Drive/ML4IOT/Notebook 1/Standing/gyr_standing_csv/Gyroscope_standing_chest.csv\")\n",
        "df_gyr_stand_forearm = pd.read_csv(\"/content/gdrive/My Drive/ML4IOT/Notebook 1/Standing/gyr_standing_csv/Gyroscope_standing_forearm.csv\")\n",
        "df_gyr_stand_head = pd.read_csv(\"/content/gdrive/My Drive/ML4IOT/Notebook 1/Standing/gyr_standing_csv/Gyroscope_standing_head.csv\")\n",
        "df_gyr_stand_shin = pd.read_csv(\"/content/gdrive/My Drive/ML4IOT/Notebook 1/Standing/gyr_standing_csv/Gyroscope_standing_shin.csv\")\n",
        "df_gyr_stand_thigh = pd.read_csv(\"/content/gdrive/My Drive/ML4IOT/Notebook 1/Standing/gyr_standing_csv/Gyroscope_standing_thigh.csv\")\n",
        "df_gyr_stand_upperarm = pd.read_csv(\"/content/gdrive/My Drive/ML4IOT/Notebook 1/Standing/gyr_standing_csv/Gyroscope_standing_upperarm.csv\")\n",
        "df_gyr_stand_waist = pd.read_csv(\"/content/gdrive/My Drive/ML4IOT/Notebook 1/Standing/gyr_standing_csv/Gyroscope_standing_waist.csv\")\n"
      ],
      "execution_count": null,
      "outputs": []
    },
    {
      "cell_type": "code",
      "metadata": {
        "id": "88P_YtBYi73H"
      },
      "source": [
        "df_gyr_jump_chest = df_gyr_jump_chest[['attr_x', 'attr_y', 'attr_z']].values[0:999,:]\n",
        "df_gyr_jump_forearm = df_gyr_jump_forearm[['attr_x', 'attr_y', 'attr_z']].values[0:999,:]\n",
        "df_gyr_jump_head = df_gyr_jump_head[['attr_x', 'attr_y', 'attr_z']].values[0:999,:]\n",
        "df_gyr_jump_shin = df_gyr_jump_shin[['attr_x', 'attr_y', 'attr_z']].values[0:999,:]\n",
        "df_gyr_jump_thigh = df_gyr_jump_thigh[['attr_x', 'attr_y', 'attr_z']].values[0:999,:]\n",
        "df_gyr_jump_upperarm = df_gyr_jump_upperarm[['attr_x', 'attr_y', 'attr_z']].values[0:999,:]\n",
        "df_gyr_jump_waist = df_gyr_jump_waist[['attr_x', 'attr_y', 'attr_z']].values[0:999,:]\n",
        "df_gyr_lye_chest = df_gyr_lye_chest[['attr_x', 'attr_y', 'attr_z']].values[0:999,:]\n",
        "df_gyr_lye_forearm = df_gyr_lye_forearm[['attr_x', 'attr_y', 'attr_z']].values[0:999,:]\n",
        "df_gyr_lye_head = df_gyr_lye_head[['attr_x', 'attr_y', 'attr_z']].values[0:999,:]\n",
        "df_gyr_lye_shin = df_gyr_lye_shin[['attr_x', 'attr_y', 'attr_z']].values[0:999,:]\n",
        "df_gyr_lye_thigh = df_gyr_lye_thigh[['attr_x', 'attr_y', 'attr_z']].values[0:999,:]\n",
        "df_gyr_lye_upperarm = df_gyr_lye_upperarm[['attr_x', 'attr_y', 'attr_z']].values[0:999,:]\n",
        "df_gyr_lye_waist = df_gyr_lye_waist[['attr_x', 'attr_y', 'attr_z']].values[0:999,:]\n",
        "df_gyr_stand_chest = df_gyr_stand_chest[['attr_x', 'attr_y', 'attr_z']].values[0:999,:]\n",
        "df_gyr_stand_forearm = df_gyr_stand_forearm[['attr_x', 'attr_y', 'attr_z']].values[0:999,:]\n",
        "df_gyr_stand_head = df_gyr_stand_head[['attr_x', 'attr_y', 'attr_z']].values[0:999,:]\n",
        "df_gyr_stand_shin = df_gyr_stand_shin[['attr_x', 'attr_y', 'attr_z']].values[0:999,:]\n",
        "df_gyr_stand_thigh = df_gyr_stand_thigh[['attr_x', 'attr_y', 'attr_z']].values[0:999,:]\n",
        "df_gyr_stand_upperarm = df_gyr_stand_upperarm[['attr_x', 'attr_y', 'attr_z']].values[0:999,:]\n",
        "df_gyr_stand_waist = df_gyr_stand_waist[['attr_x', 'attr_y', 'attr_z']].values[0:999,:]"
      ],
      "execution_count": null,
      "outputs": []
    },
    {
      "cell_type": "code",
      "metadata": {
        "id": "Ei_HN7QZkeve"
      },
      "source": [
        "gyr_jump = [df_gyr_jump_chest,df_gyr_jump_forearm,df_gyr_jump_head,df_gyr_jump_shin,df_gyr_jump_thigh,df_gyr_jump_upperarm,df_gyr_jump_waist]\n",
        "gyr_lye = [df_gyr_lye_chest,df_gyr_lye_forearm ,df_gyr_lye_head,df_gyr_lye_shin,df_gyr_lye_thigh,df_gyr_lye_upperarm,df_gyr_lye_waist]\n",
        "gyr_stand = [df_gyr_stand_chest,df_gyr_stand_forearm ,df_gyr_stand_head,df_gyr_stand_shin,df_gyr_stand_thigh,df_gyr_stand_upperarm,df_gyr_stand_waist]"
      ],
      "execution_count": null,
      "outputs": []
    },
    {
      "cell_type": "code",
      "metadata": {
        "id": "mLPs1ewvkr3u",
        "outputId": "151d9ec2-96fa-4ee7-ed5c-86d370d842d2",
        "colab": {
          "base_uri": "https://localhost:8080/",
          "height": 238
        }
      },
      "source": [
        "results7 = []\n",
        "for i in gyr_jump:\n",
        "  for j in gyr_jump:\n",
        "    euclidean_distance =  lambda i,j: np.linalg.norm(i-j)\n",
        "    d, cost_matrix, acc_cost_matrix, path = dtw(i, j, dist = euclidean_distance)\n",
        "    results7.append(d)\n",
        "\n",
        "np.hstack(results7)"
      ],
      "execution_count": null,
      "outputs": [
        {
          "output_type": "execute_result",
          "data": {
            "text/plain": [
              "array([   0.        , 1730.94590708,  626.16059494, 1720.90728085,\n",
              "        884.35961272,  907.57570278,  682.56687902, 1730.94590708,\n",
              "          0.        , 1615.70826844, 2071.82794897, 1743.45974339,\n",
              "       1766.09264017, 1937.95095828,  626.16059494, 1615.70826844,\n",
              "          0.        , 1670.81946119,  897.12631448, 1022.03243363,\n",
              "        903.9123628 , 1720.90728085, 2071.82794897, 1670.81946119,\n",
              "          0.        , 1830.19211841, 1804.07023014, 1892.64682715,\n",
              "        884.35961272, 1743.45974339,  897.12631448, 1830.19211841,\n",
              "          0.        , 1053.10966075, 1015.60679647,  907.57570278,\n",
              "       1766.09264017, 1022.03243363, 1804.07023014, 1053.10966075,\n",
              "          0.        ,  910.44316746,  682.56687902, 1937.95095828,\n",
              "        903.9123628 , 1892.64682715, 1015.60679647,  910.44316746,\n",
              "          0.        ])"
            ]
          },
          "metadata": {
            "tags": []
          },
          "execution_count": 14
        }
      ]
    },
    {
      "cell_type": "markdown",
      "metadata": {
        "id": "GlCCxfWHHmLC"
      },
      "source": [
        "**GYR Jump**"
      ]
    },
    {
      "cell_type": "code",
      "metadata": {
        "id": "aqQ8S_7bmeJc"
      },
      "source": [
        "dtw_gyr_jump = ([   0.        , 1730.94590708,  626.16059494, 1720.90728085,\n",
        "        884.35961272,  907.57570278,  682.56687902, 1730.94590708,\n",
        "          0.        , 1615.70826844, 2071.82794897, 1743.45974339,\n",
        "       1766.09264017, 1937.95095828,  626.16059494, 1615.70826844,\n",
        "          0.        , 1670.81946119,  897.12631448, 1022.03243363,\n",
        "        903.9123628 , 1720.90728085, 2071.82794897, 1670.81946119,\n",
        "          0.        , 1830.19211841, 1804.07023014, 1892.64682715,\n",
        "        884.35961272, 1743.45974339,  897.12631448, 1830.19211841,\n",
        "          0.        , 1053.10966075, 1015.60679647,  907.57570278,\n",
        "       1766.09264017, 1022.03243363, 1804.07023014, 1053.10966075,\n",
        "          0.        ,  910.44316746,  682.56687902, 1937.95095828,\n",
        "        903.9123628 , 1892.64682715, 1015.60679647,  910.44316746,\n",
        "          0.        ])"
      ],
      "execution_count": 16,
      "outputs": []
    },
    {
      "cell_type": "code",
      "metadata": {
        "id": "HjEfhR0WmgyP",
        "outputId": "5fb3cea3-e143-48a4-afc3-9ef129df8163",
        "colab": {
          "base_uri": "https://localhost:8080/",
          "height": 238
        }
      },
      "source": [
        "results8 = []\n",
        "for i in gyr_lye:\n",
        "  for j in gyr_lye:\n",
        "    euclidean_distance =  lambda i,j: np.linalg.norm(i-j)\n",
        "    d, cost_matrix, acc_cost_matrix, path = dtw(i, j, dist = euclidean_distance)\n",
        "    results8.append(d)\n",
        "\n",
        "np.hstack(results8)"
      ],
      "execution_count": null,
      "outputs": [
        {
          "output_type": "execute_result",
          "data": {
            "text/plain": [
              "array([  0.        , 422.17324002, 264.87654635, 427.21784863,\n",
              "       364.41205685, 341.4109314 , 301.58069608, 422.17324002,\n",
              "         0.        , 409.31020003, 519.02571506, 544.97292184,\n",
              "       504.43923333, 447.29771747, 264.87654635, 409.31020003,\n",
              "         0.        , 418.93262751, 335.64925291, 401.79329702,\n",
              "       319.62760145, 427.21784863, 519.02571506, 418.93262751,\n",
              "         0.        , 467.9579867 , 460.71845895, 387.00789463,\n",
              "       364.41205685, 544.97292184, 335.64925291, 467.9579867 ,\n",
              "         0.        , 507.20430024, 326.5558535 , 341.4109314 ,\n",
              "       504.43923333, 401.79329702, 460.71845895, 507.20430024,\n",
              "         0.        , 379.99989376, 301.58069608, 447.29771747,\n",
              "       319.62760145, 387.00789463, 326.5558535 , 379.99989376,\n",
              "         0.        ])"
            ]
          },
          "metadata": {
            "tags": []
          },
          "execution_count": 11
        }
      ]
    },
    {
      "cell_type": "markdown",
      "metadata": {
        "id": "PsfYtKSIHzH_"
      },
      "source": [
        "**GYR Lye**"
      ]
    },
    {
      "cell_type": "code",
      "metadata": {
        "id": "ii7ru6L8o1gk"
      },
      "source": [
        "dtw_gyr_lye = ([  0.        , 422.17324002, 264.87654635, 427.21784863,\n",
        "       364.41205685, 341.4109314 , 301.58069608, 422.17324002,\n",
        "         0.        , 409.31020003, 519.02571506, 544.97292184,\n",
        "       504.43923333, 447.29771747, 264.87654635, 409.31020003,\n",
        "         0.        , 418.93262751, 335.64925291, 401.79329702,\n",
        "       319.62760145, 427.21784863, 519.02571506, 418.93262751,\n",
        "         0.        , 467.9579867 , 460.71845895, 387.00789463,\n",
        "       364.41205685, 544.97292184, 335.64925291, 467.9579867 ,\n",
        "         0.        , 507.20430024, 326.5558535 , 341.4109314 ,\n",
        "       504.43923333, 401.79329702, 460.71845895, 507.20430024,\n",
        "         0.        , 379.99989376, 301.58069608, 447.29771747,\n",
        "       319.62760145, 387.00789463, 326.5558535 , 379.99989376,\n",
        "         0.        ])"
      ],
      "execution_count": 17,
      "outputs": []
    },
    {
      "cell_type": "code",
      "metadata": {
        "id": "1imO55-6o31k",
        "outputId": "4978485e-5642-4110-a3ac-ebe75bae9fef",
        "colab": {
          "base_uri": "https://localhost:8080/",
          "height": 238
        }
      },
      "source": [
        "results9 = []\n",
        "for i in gyr_stand:\n",
        "  for j in gyr_stand:\n",
        "    euclidean_distance =  lambda i,j: np.linalg.norm(i-j)\n",
        "    d, cost_matrix, acc_cost_matrix, path = dtw(i, j, dist = euclidean_distance)\n",
        "    results9.append(d)\n",
        "\n",
        "np.hstack(results9)"
      ],
      "execution_count": null,
      "outputs": [
        {
          "output_type": "execute_result",
          "data": {
            "text/plain": [
              "array([  0.        , 300.80325   , 311.81396486, 165.77479402,\n",
              "       167.5169034 , 244.37462314, 167.81043622, 300.80325   ,\n",
              "         0.        , 388.83649876, 296.13357576, 306.67461592,\n",
              "       381.86972005, 293.44593978, 311.81396486, 388.83649876,\n",
              "         0.        , 314.5228698 , 329.02765689, 384.82830712,\n",
              "       327.16641974, 165.77479402, 296.13357576, 314.5228698 ,\n",
              "         0.        , 172.3372764 , 278.43344882, 175.28605098,\n",
              "       167.5169034 , 306.67461592, 329.02765689, 172.3372764 ,\n",
              "         0.        , 245.69798237, 166.7218662 , 244.37462314,\n",
              "       381.86972005, 384.82830712, 278.43344882, 245.69798237,\n",
              "         0.        , 266.2712614 , 167.81043622, 293.44593978,\n",
              "       327.16641974, 175.28605098, 166.7218662 , 266.2712614 ,\n",
              "         0.        ])"
            ]
          },
          "metadata": {
            "tags": []
          },
          "execution_count": 12
        }
      ]
    },
    {
      "cell_type": "markdown",
      "metadata": {
        "id": "BFnNpyUXIEtt"
      },
      "source": [
        "**GYR Stand**"
      ]
    },
    {
      "cell_type": "code",
      "metadata": {
        "id": "HWUx91m7qv8H"
      },
      "source": [
        "dtw_gyr_stand = ([  0.        , 300.80325   , 311.81396486, 165.77479402,\n",
        "       167.5169034 , 244.37462314, 167.81043622, 300.80325   ,\n",
        "         0.        , 388.83649876, 296.13357576, 306.67461592,\n",
        "       381.86972005, 293.44593978, 311.81396486, 388.83649876,\n",
        "         0.        , 314.5228698 , 329.02765689, 384.82830712,\n",
        "       327.16641974, 165.77479402, 296.13357576, 314.5228698 ,\n",
        "         0.        , 172.3372764 , 278.43344882, 175.28605098,\n",
        "       167.5169034 , 306.67461592, 329.02765689, 172.3372764 ,\n",
        "         0.        , 245.69798237, 166.7218662 , 244.37462314,\n",
        "       381.86972005, 384.82830712, 278.43344882, 245.69798237,\n",
        "         0.        , 266.2712614 , 167.81043622, 293.44593978,\n",
        "       327.16641974, 175.28605098, 166.7218662 , 266.2712614 ,\n",
        "         0.        ])"
      ],
      "execution_count": 18,
      "outputs": []
    },
    {
      "cell_type": "markdown",
      "metadata": {
        "id": "MgZ6yAeEq0ci"
      },
      "source": [
        "#Light"
      ]
    },
    {
      "cell_type": "code",
      "metadata": {
        "id": "aJclK5hSq0B-"
      },
      "source": [
        "df_lig_jump_chest = pd.read_csv(\"/content/gdrive/My Drive/ML4IOT/Notebook 1/Jumping/lig_jumping_csv/Light_jumping_chest.csv\")\n",
        "df_lig_jump_head = pd.read_csv(\"/content/gdrive/My Drive/ML4IOT/Notebook 1/Jumping/lig_jumping_csv/Light_jumping_head.csv\")\n",
        "df_lig_jump_shin = pd.read_csv(\"/content/gdrive/My Drive/ML4IOT/Notebook 1/Jumping/lig_jumping_csv/Light_jumping_shin.csv\")\n",
        "df_lig_jump_thigh = pd.read_csv(\"/content/gdrive/My Drive/ML4IOT/Notebook 1/Jumping/lig_jumping_csv/Light_jumping_thigh.csv\")\n",
        "df_lig_jump_upperarm = pd.read_csv(\"/content/gdrive/My Drive/ML4IOT/Notebook 1/Jumping/lig_jumping_csv/Light_jumping_upperarm.csv\")\n",
        "df_lig_jump_waist = pd.read_csv(\"/content/gdrive/My Drive/ML4IOT/Notebook 1/Jumping/lig_jumping_csv/Light_jumping_waist.csv\")\n",
        "\n",
        "df_lig_lye_chest = pd.read_csv(\"/content/gdrive/My Drive/ML4IOT/Notebook 1/Lying/lig_lying_csv/Light_lying_chest.csv\")\n",
        "df_lig_lye_head = pd.read_csv(\"/content/gdrive/My Drive/ML4IOT/Notebook 1/Lying/lig_lying_csv/Light_lying_head.csv\")\n",
        "df_lig_lye_shin = pd.read_csv(\"/content/gdrive/My Drive/ML4IOT/Notebook 1/Lying/lig_lying_csv/Light_lying_shin.csv\")\n",
        "df_lig_lye_thigh = pd.read_csv(\"/content/gdrive/My Drive/ML4IOT/Notebook 1/Lying/lig_lying_csv/Light_lying_thigh.csv\")\n",
        "df_lig_lye_upperarm = pd.read_csv(\"/content/gdrive/My Drive/ML4IOT/Notebook 1/Lying/lig_lying_csv/Light_lying_upperarm.csv\")\n",
        "df_lig_lye_waist = pd.read_csv(\"/content/gdrive/My Drive/ML4IOT/Notebook 1/Lying/lig_lying_csv/Light_lying_waist.csv\")\n",
        "\n",
        "df_lig_stand_chest = pd.read_csv(\"/content/gdrive/My Drive/ML4IOT/Notebook 1/Standing/lig_standing_csv/Light_standing_chest.csv\")\n",
        "df_lig_stand_head = pd.read_csv(\"/content/gdrive/My Drive/ML4IOT/Notebook 1/Standing/lig_standing_csv/Light_standing_head.csv\")\n",
        "df_lig_stand_shin = pd.read_csv(\"/content/gdrive/My Drive/ML4IOT/Notebook 1/Standing/lig_standing_csv/Light_standing_shin.csv\")\n",
        "df_lig_stand_thigh = pd.read_csv(\"/content/gdrive/My Drive/ML4IOT/Notebook 1/Standing/lig_standing_csv/Light_standing_thigh.csv\")\n",
        "df_lig_stand_upperarm = pd.read_csv(\"/content/gdrive/My Drive/ML4IOT/Notebook 1/Standing/lig_standing_csv/Light_standing_upperarm.csv\")\n",
        "df_lig_stand_waist = pd.read_csv(\"/content/gdrive/My Drive/ML4IOT/Notebook 1/Standing/lig_standing_csv/Light_standing_waist.csv\")"
      ],
      "execution_count": null,
      "outputs": []
    },
    {
      "cell_type": "code",
      "metadata": {
        "id": "GqTy8j3JqwuZ",
        "outputId": "2c2d1e1f-a445-43b9-f843-3b79a38f6fc7",
        "colab": {
          "base_uri": "https://localhost:8080/",
          "height": 204
        }
      },
      "source": [
        "df_lig_jump_chest.head()"
      ],
      "execution_count": null,
      "outputs": [
        {
          "output_type": "execute_result",
          "data": {
            "text/html": [
              "<div>\n",
              "<style scoped>\n",
              "    .dataframe tbody tr th:only-of-type {\n",
              "        vertical-align: middle;\n",
              "    }\n",
              "\n",
              "    .dataframe tbody tr th {\n",
              "        vertical-align: top;\n",
              "    }\n",
              "\n",
              "    .dataframe thead th {\n",
              "        text-align: right;\n",
              "    }\n",
              "</style>\n",
              "<table border=\"1\" class=\"dataframe\">\n",
              "  <thead>\n",
              "    <tr style=\"text-align: right;\">\n",
              "      <th></th>\n",
              "      <th>id</th>\n",
              "      <th>attr_time</th>\n",
              "      <th>attr_light</th>\n",
              "    </tr>\n",
              "  </thead>\n",
              "  <tbody>\n",
              "    <tr>\n",
              "      <th>0</th>\n",
              "      <td>1</td>\n",
              "      <td>1436970288141</td>\n",
              "      <td>27.0</td>\n",
              "    </tr>\n",
              "    <tr>\n",
              "      <th>1</th>\n",
              "      <td>2</td>\n",
              "      <td>1436970288161</td>\n",
              "      <td>27.0</td>\n",
              "    </tr>\n",
              "    <tr>\n",
              "      <th>2</th>\n",
              "      <td>3</td>\n",
              "      <td>1436970288181</td>\n",
              "      <td>27.0</td>\n",
              "    </tr>\n",
              "    <tr>\n",
              "      <th>3</th>\n",
              "      <td>4</td>\n",
              "      <td>1436970288200</td>\n",
              "      <td>27.0</td>\n",
              "    </tr>\n",
              "    <tr>\n",
              "      <th>4</th>\n",
              "      <td>5</td>\n",
              "      <td>1436970288221</td>\n",
              "      <td>26.0</td>\n",
              "    </tr>\n",
              "  </tbody>\n",
              "</table>\n",
              "</div>"
            ],
            "text/plain": [
              "   id      attr_time  attr_light\n",
              "0   1  1436970288141        27.0\n",
              "1   2  1436970288161        27.0\n",
              "2   3  1436970288181        27.0\n",
              "3   4  1436970288200        27.0\n",
              "4   5  1436970288221        26.0"
            ]
          },
          "metadata": {
            "tags": []
          },
          "execution_count": 14
        }
      ]
    },
    {
      "cell_type": "code",
      "metadata": {
        "id": "o_jw_mO1-hZd"
      },
      "source": [
        "df_lig_jump_chest = df_lig_jump_chest[['attr_light']].values[0:999]\n",
        "df_lig_jump_head = df_lig_jump_head[['attr_light']].values[0:999]\n",
        "df_lig_jump_shin = df_lig_jump_shin[['attr_light']].values[0:999]\n",
        "df_lig_jump_thigh = df_lig_jump_thigh[['attr_light']].values[0:999]\n",
        "df_lig_jump_upperarm = df_lig_jump_upperarm[['attr_light']].values[0:999]\n",
        "df_lig_jump_waist = df_lig_jump_waist[['attr_light']].values[0:999]\n",
        "df_lig_lye_chest = df_lig_lye_chest[['attr_light']].values[0:999]\n",
        "df_lig_lye_head = df_lig_lye_head[['attr_light']].values[0:999]\n",
        "df_lig_lye_shin = df_lig_lye_shin[['attr_light']].values[0:999]\n",
        "df_lig_lye_thigh = df_lig_lye_thigh[['attr_light']].values[0:999]\n",
        "df_lig_lye_upperarm = df_lig_lye_upperarm[['attr_light']].values[0:999]\n",
        "df_lig_lye_waist = df_lig_lye_waist[['attr_light']].values[0:999]\n",
        "df_lig_stand_chest = df_lig_stand_chest[['attr_light']].values[0:999]\n",
        "df_lig_stand_head = df_lig_stand_head[['attr_light']].values[0:999]\n",
        "df_lig_stand_shin = df_lig_stand_shin[['attr_light']].values[0:999]\n",
        "df_lig_stand_thigh = df_lig_stand_thigh[['attr_light']].values[0:999]\n",
        "df_lig_stand_upperarm = df_lig_stand_upperarm[['attr_light']].values[0:999]\n",
        "df_lig_stand_waist = df_lig_stand_waist[['attr_light']].values[0:999]"
      ],
      "execution_count": null,
      "outputs": []
    },
    {
      "cell_type": "code",
      "metadata": {
        "id": "JSGLFp3k-gBO"
      },
      "source": [
        "light_jump = [df_lig_jump_chest,\n",
        "df_lig_jump_head,\n",
        "df_lig_jump_shin,\n",
        "df_lig_jump_thigh,\n",
        "df_lig_jump_upperarm,\n",
        "df_lig_jump_waist]\n",
        "\n",
        "light_lye = [df_lig_lye_chest,\n",
        "df_lig_lye_head,\n",
        "df_lig_lye_shin,\n",
        "df_lig_lye_thigh,\n",
        "df_lig_lye_upperarm,\n",
        "df_lig_lye_waist]\n",
        "\n",
        "light_stand = [\n",
        "df_lig_stand_chest,\n",
        "df_lig_stand_head,\n",
        "df_lig_stand_shin,\n",
        "df_lig_stand_thigh,\n",
        "df_lig_stand_upperarm,\n",
        "df_lig_stand_waist]"
      ],
      "execution_count": null,
      "outputs": []
    },
    {
      "cell_type": "code",
      "metadata": {
        "id": "h2KQAB5QASg7",
        "outputId": "ef0d5850-2c4a-49a6-969f-18d349ce41ee",
        "colab": {
          "base_uri": "https://localhost:8080/",
          "height": 119
        }
      },
      "source": [
        "results10 = []\n",
        "for i in light_jump:\n",
        "  for j in light_jump:\n",
        "    euclidean_distance =  lambda i,j: np.linalg.norm(i-j)\n",
        "    d, cost_matrix, acc_cost_matrix, path = dtw(i, j, dist = euclidean_distance)\n",
        "    results10.append(d)\n",
        "\n",
        "np.hstack(results10)"
      ],
      "execution_count": null,
      "outputs": [
        {
          "output_type": "execute_result",
          "data": {
            "text/plain": [
              "array([     0., 257392., 321476., 359163., 291917., 112202., 257392.,\n",
              "            0., 178720., 569585., 102622., 318416., 321476., 178720.,\n",
              "            0., 489655.,  74537., 502194., 359163., 569585., 489655.,\n",
              "            0., 523750., 407890., 291917., 102622.,  74537., 523750.,\n",
              "            0., 432741., 112202., 318416., 502194., 407890., 432741.,\n",
              "            0.])"
            ]
          },
          "metadata": {
            "tags": []
          },
          "execution_count": 10
        }
      ]
    },
    {
      "cell_type": "markdown",
      "metadata": {
        "id": "POK6H9KuIIrb"
      },
      "source": [
        "**Light Stand**"
      ]
    },
    {
      "cell_type": "code",
      "metadata": {
        "id": "TgouKIuuD-n_"
      },
      "source": [
        "dtw_lig_jump = ([     0., 257392., 321476., 359163., 291917., 112202., 257392.,\n",
        "            0., 178720., 569585., 102622., 318416., 321476., 178720.,\n",
        "            0., 489655.,  74537., 502194., 359163., 569585., 489655.,\n",
        "            0., 523750., 407890., 291917., 102622.,  74537., 523750.,\n",
        "            0., 432741., 112202., 318416., 502194., 407890., 432741.,\n",
        "            0.])"
      ],
      "execution_count": 19,
      "outputs": []
    },
    {
      "cell_type": "code",
      "metadata": {
        "id": "1ya0RGjcBxns",
        "outputId": "7c59c40a-4b88-4e4c-d661-a104697f60bc",
        "colab": {
          "base_uri": "https://localhost:8080/",
          "height": 102
        }
      },
      "source": [
        "results11 = []\n",
        "for i in light_lye:\n",
        "  for j in light_lye:\n",
        "    euclidean_distance =  lambda i,j: np.linalg.norm(i-j)\n",
        "    d, cost_matrix, acc_cost_matrix, path = dtw(i, j, dist = euclidean_distance)\n",
        "    results11.append(d)\n",
        "\n",
        "np.hstack(results11)"
      ],
      "execution_count": null,
      "outputs": [
        {
          "output_type": "execute_result",
          "data": {
            "text/plain": [
              "array([    0., 38633., 32577., 36974., 23933., 40524., 38633.,     0.,\n",
              "        5956.,  2915., 14700.,  1882., 32577.,  5956.,     0.,  4586.,\n",
              "        8835.,  7542., 36974.,  2915.,  4586.,     0., 13041.,  3550.,\n",
              "       23933., 14700.,  8835., 13041.,     0., 16591., 40524.,  1882.,\n",
              "        7542.,  3550., 16591.,     0.])"
            ]
          },
          "metadata": {
            "tags": []
          },
          "execution_count": 11
        }
      ]
    },
    {
      "cell_type": "markdown",
      "metadata": {
        "id": "BPSYS2x9IOMi"
      },
      "source": [
        "**Light Lye**"
      ]
    },
    {
      "cell_type": "code",
      "metadata": {
        "id": "Qe3tllowD_-_"
      },
      "source": [
        "dtw_lig_lye = ([    0., 38633., 32577., 36974., 23933., 40524., 38633.,     0.,\n",
        "        5956.,  2915., 14700.,  1882., 32577.,  5956.,     0.,  4586.,\n",
        "        8835.,  7542., 36974.,  2915.,  4586.,     0., 13041.,  3550.,\n",
        "       23933., 14700.,  8835., 13041.,     0., 16591., 40524.,  1882.,\n",
        "        7542.,  3550., 16591.,     0.])"
      ],
      "execution_count": 20,
      "outputs": []
    },
    {
      "cell_type": "code",
      "metadata": {
        "id": "s3GuKiKzD292",
        "outputId": "94dc8cdc-2181-4c7d-a808-34983a2ea28a",
        "colab": {
          "base_uri": "https://localhost:8080/",
          "height": 119
        }
      },
      "source": [
        "results11 = []\n",
        "for i in light_stand:\n",
        "  for j in light_stand:\n",
        "    euclidean_distance =  lambda i,j: np.linalg.norm(i-j)\n",
        "    d, cost_matrix, acc_cost_matrix, path = dtw(i, j, dist = euclidean_distance)\n",
        "    results11.append(d)\n",
        "\n",
        "np.hstack(results11)\n"
      ],
      "execution_count": null,
      "outputs": [
        {
          "output_type": "execute_result",
          "data": {
            "text/plain": [
              "array([      0.,  655563.,  554987., 1197273.,  629978.,  728424.,\n",
              "        655563.,       0.,  100576., 1825957.,   21201.,   72861.,\n",
              "        554987.,  100576.,       0., 1725381.,   74991.,  173437.,\n",
              "       1197273., 1825957., 1725381.,       0., 1800372., 1898818.,\n",
              "        629978.,   21201.,   74991., 1800372.,       0.,   98446.,\n",
              "        728424.,   72861.,  173437., 1898818.,   98446.,       0.])"
            ]
          },
          "metadata": {
            "tags": []
          },
          "execution_count": 12
        }
      ]
    },
    {
      "cell_type": "markdown",
      "metadata": {
        "id": "BvrNgsU9IQ8w"
      },
      "source": [
        "**Light Stand**"
      ]
    },
    {
      "cell_type": "code",
      "metadata": {
        "id": "RMk3-BgqFyCT"
      },
      "source": [
        "dtw_lig_stand = ([      0.,  655563.,  554987., 1197273.,  629978.,  728424.,\n",
        "        655563.,       0.,  100576., 1825957.,   21201.,   72861.,\n",
        "        554987.,  100576.,       0., 1725381.,   74991.,  173437.,\n",
        "       1197273., 1825957., 1725381.,       0., 1800372., 1898818.,\n",
        "        629978.,   21201.,   74991., 1800372.,       0.,   98446.,\n",
        "        728424.,   72861.,  173437., 1898818.,   98446.,       0.])"
      ],
      "execution_count": 21,
      "outputs": []
    },
    {
      "cell_type": "markdown",
      "metadata": {
        "id": "XT2ZKTHMGZsr"
      },
      "source": [
        "#Magnetic\n"
      ]
    },
    {
      "cell_type": "code",
      "metadata": {
        "id": "PKj7IMFQGSzG"
      },
      "source": [
        "df_mag_jump_chest = pd.read_csv(\"/content/gdrive/My Drive/ML4IOT/Notebook 1/Jumping/mag_jumping_csv/MagneticField_jumping_chest.csv\")\n",
        "df_mag_jump_forearm = pd.read_csv(\"/content/gdrive/My Drive/ML4IOT/Notebook 1/Jumping/mag_jumping_csv/MagneticField_jumping_forearm.csv\")\n",
        "df_mag_jump_head = pd.read_csv(\"/content/gdrive/My Drive/ML4IOT/Notebook 1/Jumping/mag_jumping_csv/MagneticField_jumping_head.csv\")\n",
        "df_mag_jump_shin = pd.read_csv(\"/content/gdrive/My Drive/ML4IOT/Notebook 1/Jumping/mag_jumping_csv/MagneticField_jumping_shin.csv\")\n",
        "df_mag_jump_thigh = pd.read_csv(\"/content/gdrive/My Drive/ML4IOT/Notebook 1/Jumping/mag_jumping_csv/MagneticField_jumping_thigh.csv\")\n",
        "df_mag_jump_upperarm = pd.read_csv(\"/content/gdrive/My Drive/ML4IOT/Notebook 1/Jumping/mag_jumping_csv/MagneticField_jumping_upperarm.csv\")\n",
        "df_mag_jump_waist = pd.read_csv(\"/content/gdrive/My Drive/ML4IOT/Notebook 1/Jumping/mag_jumping_csv/MagneticField_jumping_waist.csv\")\n",
        "\n",
        "df_mag_lye_chest = pd.read_csv(\"/content/gdrive/My Drive/ML4IOT/Notebook 1/Lying/mag_lying_csv/MagneticField_lying_chest.csv\")\n",
        "df_mag_lye_forearm = pd.read_csv(\"/content/gdrive/My Drive/ML4IOT/Notebook 1/Lying/mag_lying_csv/MagneticField_lying_forearm.csv\")\n",
        "df_mag_lye_head = pd.read_csv(\"/content/gdrive/My Drive/ML4IOT/Notebook 1/Lying/mag_lying_csv/MagneticField_lying_head.csv\")\n",
        "df_mag_lye_shin = pd.read_csv(\"/content/gdrive/My Drive/ML4IOT/Notebook 1/Lying/mag_lying_csv/MagneticField_lying_shin.csv\")\n",
        "df_mag_lye_thigh = pd.read_csv(\"/content/gdrive/My Drive/ML4IOT/Notebook 1/Lying/mag_lying_csv/MagneticField_lying_thigh.csv\")\n",
        "df_mag_lye_upperarm = pd.read_csv(\"/content/gdrive/My Drive/ML4IOT/Notebook 1/Lying/mag_lying_csv/MagneticField_lying_upperarm.csv\")\n",
        "df_mag_lye_waist = pd.read_csv(\"/content/gdrive/My Drive/ML4IOT/Notebook 1/Lying/mag_lying_csv/MagneticField_lying_waist.csv\")\n",
        "\n",
        "df_mag_stand_chest = pd.read_csv(\"/content/gdrive/My Drive/ML4IOT/Notebook 1/Standing/mag_standing_csv/MagneticField_standing_chest.csv\")\n",
        "df_mag_stand_forearm = pd.read_csv(\"/content/gdrive/My Drive/ML4IOT/Notebook 1/Standing/mag_standing_csv/MagneticField_standing_forearm.csv\")\n",
        "df_mag_stand_head = pd.read_csv(\"/content/gdrive/My Drive/ML4IOT/Notebook 1/Standing/mag_standing_csv/MagneticField_standing_head.csv\")\n",
        "df_mag_stand_shin = pd.read_csv(\"/content/gdrive/My Drive/ML4IOT/Notebook 1/Standing/mag_standing_csv/MagneticField_standing_shin.csv\")\n",
        "df_mag_stand_thigh = pd.read_csv(\"/content/gdrive/My Drive/ML4IOT/Notebook 1/Standing/mag_standing_csv/MagneticField_standing_thigh.csv\")\n",
        "df_mag_stand_upperarm = pd.read_csv(\"/content/gdrive/My Drive/ML4IOT/Notebook 1/Standing/mag_standing_csv/MagneticField_standing_upperarm.csv\")\n",
        "df_mag_stand_waist = pd.read_csv(\"/content/gdrive/My Drive/ML4IOT/Notebook 1/Standing/mag_standing_csv/MagneticField_standing_waist.csv\")"
      ],
      "execution_count": null,
      "outputs": []
    },
    {
      "cell_type": "code",
      "metadata": {
        "id": "xlaH5KAXHYTu"
      },
      "source": [
        "df_mag_jump_chest = df_mag_jump_chest[['attr_x', 'attr_y', 'attr_z']].values[0:999,:]\n",
        "df_mag_jump_forearm = df_mag_jump_forearm[['attr_x', 'attr_y', 'attr_z']].values[0:999,:]\n",
        "df_mag_jump_head = df_mag_jump_head[['attr_x', 'attr_y', 'attr_z']].values[0:999,:]\n",
        "df_mag_jump_shin = df_mag_jump_shin[['attr_x', 'attr_y', 'attr_z']].values[0:999,:]\n",
        "df_mag_jump_thigh = df_mag_jump_thigh[['attr_x', 'attr_y', 'attr_z']].values[0:999,:]\n",
        "df_mag_jump_upperarm = df_mag_jump_upperarm[['attr_x', 'attr_y', 'attr_z']].values[0:999,:]\n",
        "df_mag_jump_waist = df_mag_jump_waist[['attr_x', 'attr_y', 'attr_z']].values[0:999,:]\n",
        "df_mag_lye_chest = df_mag_lye_chest[['attr_x', 'attr_y', 'attr_z']].values[0:999,:]\n",
        "df_mag_lye_forearm = df_mag_lye_forearm[['attr_x', 'attr_y', 'attr_z']].values[0:999,:]\n",
        "df_mag_lye_head = df_mag_lye_head[['attr_x', 'attr_y', 'attr_z']].values[0:999,:]\n",
        "df_mag_lye_shin = df_mag_lye_shin[['attr_x', 'attr_y', 'attr_z']].values[0:999,:]\n",
        "df_mag_lye_thigh = df_mag_lye_thigh[['attr_x', 'attr_y', 'attr_z']].values[0:999,:]\n",
        "df_mag_lye_upperarm = df_mag_lye_upperarm[['attr_x', 'attr_y', 'attr_z']].values[0:999,:]\n",
        "df_mag_lye_waist = df_mag_lye_waist[['attr_x', 'attr_y', 'attr_z']].values[0:999,:]\n",
        "df_mag_stand_chest = df_mag_stand_chest[['attr_x', 'attr_y', 'attr_z']].values[0:999,:]\n",
        "df_mag_stand_forearm = df_mag_stand_forearm[['attr_x', 'attr_y', 'attr_z']].values[0:999,:]\n",
        "df_mag_stand_head = df_mag_stand_head[['attr_x', 'attr_y', 'attr_z']].values[0:999,:]\n",
        "df_mag_stand_shin = df_mag_stand_shin[['attr_x', 'attr_y', 'attr_z']].values[0:999,:]\n",
        "df_mag_stand_thigh = df_mag_stand_thigh[['attr_x', 'attr_y', 'attr_z']].values[0:999,:]\n",
        "df_mag_stand_upperarm = df_mag_stand_upperarm[['attr_x', 'attr_y', 'attr_z']].values[0:999,:]\n",
        "df_mag_stand_waist = df_mag_stand_waist[['attr_x', 'attr_y', 'attr_z']].values[0:999,:]"
      ],
      "execution_count": null,
      "outputs": []
    },
    {
      "cell_type": "code",
      "metadata": {
        "id": "93_UmDMwIhFj"
      },
      "source": [
        "mag_jump = [df_mag_jump_chest,\n",
        "df_mag_jump_forearm,\n",
        "df_mag_jump_head,\n",
        "df_mag_jump_shin,\n",
        "df_mag_jump_thigh,\n",
        "df_mag_jump_upperarm,\n",
        "df_mag_jump_waist]\n",
        "\n",
        "mag_lye = [df_mag_lye_chest,\n",
        "df_mag_lye_forearm,\n",
        "df_mag_lye_head,\n",
        "df_mag_lye_shin,\n",
        "df_mag_lye_thigh,\n",
        "df_mag_lye_upperarm,\n",
        "df_mag_lye_waist]\n",
        "\n",
        "mag_stand = [df_mag_stand_chest,\n",
        "df_mag_stand_forearm,\n",
        "df_mag_stand_head,\n",
        "df_mag_stand_shin,\n",
        "df_mag_stand_thigh,\n",
        "df_mag_stand_upperarm,\n",
        "df_mag_stand_waist]"
      ],
      "execution_count": null,
      "outputs": []
    },
    {
      "cell_type": "code",
      "metadata": {
        "id": "aJ3Csb4hI_OZ",
        "outputId": "8570694a-b2bf-4729-bf22-b0e9cef6cec7",
        "colab": {
          "base_uri": "https://localhost:8080/",
          "height": 238
        }
      },
      "source": [
        "results12 = []\n",
        "for i in mag_jump:\n",
        "  for j in mag_jump:\n",
        "    euclidean_distance =  lambda i,j: np.linalg.norm(i-j)\n",
        "    d, cost_matrix, acc_cost_matrix, path = dtw(i, j, dist = euclidean_distance)\n",
        "    results12.append(d)\n",
        "\n",
        "np.hstack(results12)\n"
      ],
      "execution_count": null,
      "outputs": [
        {
          "output_type": "execute_result",
          "data": {
            "text/plain": [
              "array([    0.        , 63553.81384363, 61239.18289313, 16571.32714044,\n",
              "       14047.02440392, 43883.57041862, 74689.04923042, 63553.81384363,\n",
              "           0.        , 21296.69527997, 67966.78227933, 68197.6479283 ,\n",
              "       45665.72933712, 77816.81518438, 61239.18289313, 21296.69527997,\n",
              "           0.        , 69514.99076469, 67830.66771731, 33347.19499551,\n",
              "       88382.73977792, 16571.32714044, 67966.78227933, 69514.99076469,\n",
              "           0.        ,  9990.4235285 , 51798.07191359, 63562.19772728,\n",
              "       14047.02440392, 68197.6479283 , 67830.66771731,  9990.4235285 ,\n",
              "           0.        , 48004.47385287, 66386.0575879 , 43883.57041862,\n",
              "       45665.72933712, 33347.19499551, 51798.07191359, 48004.47385287,\n",
              "           0.        , 85372.94091318, 74689.04923042, 77816.81518438,\n",
              "       88382.73977792, 63562.19772728, 66386.0575879 , 85372.94091318,\n",
              "           0.        ])"
            ]
          },
          "metadata": {
            "tags": []
          },
          "execution_count": 17
        }
      ]
    },
    {
      "cell_type": "markdown",
      "metadata": {
        "id": "-TKHb3zPIjqn"
      },
      "source": [
        "**Mag Stand**"
      ]
    },
    {
      "cell_type": "code",
      "metadata": {
        "id": "RJdXsXnMLFuE"
      },
      "source": [
        "dtw_mag_jump = ([    0.        , 63553.81384363, 61239.18289313, 16571.32714044,\n",
        "       14047.02440392, 43883.57041862, 74689.04923042, 63553.81384363,\n",
        "           0.        , 21296.69527997, 67966.78227933, 68197.6479283 ,\n",
        "       45665.72933712, 77816.81518438, 61239.18289313, 21296.69527997,\n",
        "           0.        , 69514.99076469, 67830.66771731, 33347.19499551,\n",
        "       88382.73977792, 16571.32714044, 67966.78227933, 69514.99076469,\n",
        "           0.        ,  9990.4235285 , 51798.07191359, 63562.19772728,\n",
        "       14047.02440392, 68197.6479283 , 67830.66771731,  9990.4235285 ,\n",
        "           0.        , 48004.47385287, 66386.0575879 , 43883.57041862,\n",
        "       45665.72933712, 33347.19499551, 51798.07191359, 48004.47385287,\n",
        "           0.        , 85372.94091318, 74689.04923042, 77816.81518438,\n",
        "       88382.73977792, 63562.19772728, 66386.0575879 , 85372.94091318,\n",
        "           0.        ])"
      ],
      "execution_count": 22,
      "outputs": []
    },
    {
      "cell_type": "code",
      "metadata": {
        "id": "jZdJOEijNh8M",
        "outputId": "2107db5a-8d5d-464b-918a-4ab49afc78b0",
        "colab": {
          "base_uri": "https://localhost:8080/",
          "height": 238
        }
      },
      "source": [
        "results14 = []\n",
        "for i in mag_lye:\n",
        "  for j in mag_lye:\n",
        "    euclidean_distance =  lambda i,j: np.linalg.norm(i-j)\n",
        "    d, cost_matrix, acc_cost_matrix, path = dtw(i, j, dist = euclidean_distance)\n",
        "    results14.append(d)\n",
        "\n",
        "np.hstack(results14)"
      ],
      "execution_count": null,
      "outputs": [
        {
          "output_type": "execute_result",
          "data": {
            "text/plain": [
              "array([     0.        ,  74087.68612767,  86021.29475248,  50014.51441331,\n",
              "        41183.75856725,  29667.04199982,  43791.02436387,  74087.68612767,\n",
              "            0.        , 109702.51397986,  79518.79327497,  46364.34462362,\n",
              "        82656.0632281 ,  71733.62771772,  86021.29475248, 109702.51397986,\n",
              "            0.        ,  82696.91800276, 108636.0643085 ,  63905.01668041,\n",
              "       122884.57295841,  50014.51441331,  79518.79327497,  82696.91800276,\n",
              "            0.        ,  61433.91547295,  28415.00708717,  76789.5711855 ,\n",
              "        41183.75856725,  46364.34462362, 108636.0643085 ,  61433.91547295,\n",
              "            0.        ,  54706.32532751,  35474.15943436,  29667.04199982,\n",
              "        82656.0632281 ,  63905.01668041,  28415.00708717,  54706.32532751,\n",
              "            0.        ,  67159.51232442,  43791.02436387,  71733.62771772,\n",
              "       122884.57295841,  76789.5711855 ,  35474.15943436,  67159.51232442,\n",
              "            0.        ])"
            ]
          },
          "metadata": {
            "tags": []
          },
          "execution_count": 20
        }
      ]
    },
    {
      "cell_type": "markdown",
      "metadata": {
        "id": "Fjgrnrx_InYa"
      },
      "source": [
        "**Mag Lye**"
      ]
    },
    {
      "cell_type": "code",
      "metadata": {
        "id": "2MsadSTnPkxQ"
      },
      "source": [
        "dtw_mag_lye = ([     0.        ,  74087.68612767,  86021.29475248,  50014.51441331,\n",
        "        41183.75856725,  29667.04199982,  43791.02436387,  74087.68612767,\n",
        "            0.        , 109702.51397986,  79518.79327497,  46364.34462362,\n",
        "        82656.0632281 ,  71733.62771772,  86021.29475248, 109702.51397986,\n",
        "            0.        ,  82696.91800276, 108636.0643085 ,  63905.01668041,\n",
        "       122884.57295841,  50014.51441331,  79518.79327497,  82696.91800276,\n",
        "            0.        ,  61433.91547295,  28415.00708717,  76789.5711855 ,\n",
        "        41183.75856725,  46364.34462362, 108636.0643085 ,  61433.91547295,\n",
        "            0.        ,  54706.32532751,  35474.15943436,  29667.04199982,\n",
        "        82656.0632281 ,  63905.01668041,  28415.00708717,  54706.32532751,\n",
        "            0.        ,  67159.51232442,  43791.02436387,  71733.62771772,\n",
        "       122884.57295841,  76789.5711855 ,  35474.15943436,  67159.51232442,\n",
        "            0.        ])"
      ],
      "execution_count": 23,
      "outputs": []
    },
    {
      "cell_type": "code",
      "metadata": {
        "id": "ssRbA_JdLGWp",
        "outputId": "87dd4b4e-8d03-422b-9474-8b1a524bcc3b",
        "colab": {
          "base_uri": "https://localhost:8080/",
          "height": 238
        }
      },
      "source": [
        "results13 = []\n",
        "for i in mag_stand:\n",
        "  for j in mag_stand:\n",
        "    euclidean_distance =  lambda i,j: np.linalg.norm(i-j)\n",
        "    d, cost_matrix, acc_cost_matrix, path = dtw(i, j, dist = euclidean_distance)\n",
        "    results13.append(d)\n",
        "\n",
        "np.hstack(results13)"
      ],
      "execution_count": null,
      "outputs": [
        {
          "output_type": "execute_result",
          "data": {
            "text/plain": [
              "array([    0.        , 62026.9629821 , 61509.35217041,  8736.65222281,\n",
              "        8251.34056693, 46007.18581471, 65415.93757447, 62026.9629821 ,\n",
              "           0.        ,  8564.87238744, 60870.25123516, 56543.50695408,\n",
              "       28013.77618902, 81191.00759626, 61509.35217041,  8564.87238744,\n",
              "           0.        , 59586.59268222, 55572.79252797, 26197.08355529,\n",
              "       85994.80790525,  8736.65222281, 60870.25123516, 59586.59268222,\n",
              "           0.        , 10630.0671803 , 45870.3263917 , 72581.36868864,\n",
              "        8251.34056693, 56543.50695408, 55572.79252797, 10630.0671803 ,\n",
              "           0.        , 38717.85788335, 68059.49127763, 46007.18581471,\n",
              "       28013.77618902, 26197.08355529, 45870.3263917 , 38717.85788335,\n",
              "           0.        , 78408.85289672, 65415.93757447, 81191.00759626,\n",
              "       85994.80790525, 72581.36868864, 68059.49127763, 78408.85289672,\n",
              "           0.        ])"
            ]
          },
          "metadata": {
            "tags": []
          },
          "execution_count": 18
        }
      ]
    },
    {
      "cell_type": "markdown",
      "metadata": {
        "id": "xuyBlDuLIrZn"
      },
      "source": [
        "**Mag Stand**"
      ]
    },
    {
      "cell_type": "code",
      "metadata": {
        "id": "StiFNb0cNU-Y"
      },
      "source": [
        "dtw_mag_stand = ([    0.        , 62026.9629821 , 61509.35217041,  8736.65222281,\n",
        "        8251.34056693, 46007.18581471, 65415.93757447, 62026.9629821 ,\n",
        "           0.        ,  8564.87238744, 60870.25123516, 56543.50695408,\n",
        "       28013.77618902, 81191.00759626, 61509.35217041,  8564.87238744,\n",
        "           0.        , 59586.59268222, 55572.79252797, 26197.08355529,\n",
        "       85994.80790525,  8736.65222281, 60870.25123516, 59586.59268222,\n",
        "           0.        , 10630.0671803 , 45870.3263917 , 72581.36868864,\n",
        "        8251.34056693, 56543.50695408, 55572.79252797, 10630.0671803 ,\n",
        "           0.        , 38717.85788335, 68059.49127763, 46007.18581471,\n",
        "       28013.77618902, 26197.08355529, 45870.3263917 , 38717.85788335,\n",
        "           0.        , 78408.85289672, 65415.93757447, 81191.00759626,\n",
        "       85994.80790525, 72581.36868864, 68059.49127763, 78408.85289672,\n",
        "           0.        ])"
      ],
      "execution_count": 24,
      "outputs": []
    },
    {
      "cell_type": "markdown",
      "metadata": {
        "id": "wxuPwHtdPvAh"
      },
      "source": [
        "#Microphone"
      ]
    },
    {
      "cell_type": "code",
      "metadata": {
        "id": "ACE2rS2rPxa9"
      },
      "source": [
        "df_mic_jump_chest = pd.read_csv(\"/content/gdrive/My Drive/ML4IOT/Notebook 1/Jumping/mic_jumping_csv/Microphone_jumping_chest.csv\")\n",
        "df_mic_jump_head = pd.read_csv(\"/content/gdrive/My Drive/ML4IOT/Notebook 1/Jumping/mic_jumping_csv/Microphone_jumping_head.csv\")\n",
        "df_mic_jump_shin = pd.read_csv(\"/content/gdrive/My Drive/ML4IOT/Notebook 1/Jumping/mic_jumping_csv/Microphone_jumping_shin.csv\")\n",
        "df_mic_jump_thigh = pd.read_csv(\"/content/gdrive/My Drive/ML4IOT/Notebook 1/Jumping/mic_jumping_csv/Microphone_jumping_thigh.csv\")\n",
        "df_mic_jump_upperarm = pd.read_csv(\"/content/gdrive/My Drive/ML4IOT/Notebook 1/Jumping/mic_jumping_csv/Microphone_jumping_upperarm.csv\")\n",
        "df_mic_jump_waist = pd.read_csv(\"/content/gdrive/My Drive/ML4IOT/Notebook 1/Jumping/mic_jumping_csv/Microphone_jumping_waist.csv\")\n",
        "df_mic_lye_chest = pd.read_csv(\"/content/gdrive/My Drive/ML4IOT/Notebook 1/Lying/mic_lying_csv/Microphone_lying_chest.csv\")\n",
        "df_mic_lye_head = pd.read_csv(\"/content/gdrive/My Drive/ML4IOT/Notebook 1/Lying/mic_lying_csv/Microphone_lying_head.csv\")\n",
        "df_mic_lye_shin = pd.read_csv(\"/content/gdrive/My Drive/ML4IOT/Notebook 1/Lying/mic_lying_csv/Microphone_lying_shin.csv\")\n",
        "df_mic_lye_thigh = pd.read_csv(\"/content/gdrive/My Drive/ML4IOT/Notebook 1/Lying/mic_lying_csv/Microphone_lying_thigh.csv\")\n",
        "df_mic_lye_upperarm = pd.read_csv(\"/content/gdrive/My Drive/ML4IOT/Notebook 1/Lying/mic_lying_csv/Microphone_lying_upperarm.csv\")\n",
        "df_mic_lye_waist = pd.read_csv(\"/content/gdrive/My Drive/ML4IOT/Notebook 1/Lying/mic_lying_csv/Microphone_lying_waist.csv\")\n",
        "df_mic_stand_chest = pd.read_csv(\"/content/gdrive/My Drive/ML4IOT/Notebook 1/Standing/mic_standing_csv/Microphone_standing_chest.csv\")\n",
        "df_mic_stand_head = pd.read_csv(\"/content/gdrive/My Drive/ML4IOT/Notebook 1/Standing/mic_standing_csv/Microphone_standing_head.csv\")\n",
        "df_mic_stand_shin = pd.read_csv(\"/content/gdrive/My Drive/ML4IOT/Notebook 1/Standing/mic_standing_csv/Microphone_standing_shin.csv\")\n",
        "df_mic_stand_thigh = pd.read_csv(\"/content/gdrive/My Drive/ML4IOT/Notebook 1/Standing/mic_standing_csv/Microphone_standing_thigh.csv\")\n",
        "df_mic_stand_upperarm = pd.read_csv(\"/content/gdrive/My Drive/ML4IOT/Notebook 1/Standing/mic_standing_csv/Microphone_standing_upperarm.csv\")\n",
        "df_mic_stand_waist = pd.read_csv(\"/content/gdrive/My Drive/ML4IOT/Notebook 1/Standing/mic_standing_csv/Microphone_standing_waist.csv\")"
      ],
      "execution_count": null,
      "outputs": []
    },
    {
      "cell_type": "code",
      "metadata": {
        "id": "ohJXL5L5P175",
        "outputId": "1fd6d83b-b8b7-4507-e396-883137264093",
        "colab": {
          "base_uri": "https://localhost:8080/",
          "height": 204
        }
      },
      "source": [
        "df_mic_jump_chest.head()"
      ],
      "execution_count": null,
      "outputs": [
        {
          "output_type": "execute_result",
          "data": {
            "text/html": [
              "<div>\n",
              "<style scoped>\n",
              "    .dataframe tbody tr th:only-of-type {\n",
              "        vertical-align: middle;\n",
              "    }\n",
              "\n",
              "    .dataframe tbody tr th {\n",
              "        vertical-align: top;\n",
              "    }\n",
              "\n",
              "    .dataframe thead th {\n",
              "        text-align: right;\n",
              "    }\n",
              "</style>\n",
              "<table border=\"1\" class=\"dataframe\">\n",
              "  <thead>\n",
              "    <tr style=\"text-align: right;\">\n",
              "      <th></th>\n",
              "      <th>id</th>\n",
              "      <th>attr_time</th>\n",
              "      <th>attr_db</th>\n",
              "    </tr>\n",
              "  </thead>\n",
              "  <tbody>\n",
              "    <tr>\n",
              "      <th>0</th>\n",
              "      <td>1</td>\n",
              "      <td>1436970288505</td>\n",
              "      <td>41.295707</td>\n",
              "    </tr>\n",
              "    <tr>\n",
              "      <th>1</th>\n",
              "      <td>2</td>\n",
              "      <td>1436970289233</td>\n",
              "      <td>53.068566</td>\n",
              "    </tr>\n",
              "    <tr>\n",
              "      <th>2</th>\n",
              "      <td>3</td>\n",
              "      <td>1436970289948</td>\n",
              "      <td>42.788082</td>\n",
              "    </tr>\n",
              "    <tr>\n",
              "      <th>3</th>\n",
              "      <td>4</td>\n",
              "      <td>1436970290717</td>\n",
              "      <td>33.410566</td>\n",
              "    </tr>\n",
              "    <tr>\n",
              "      <th>4</th>\n",
              "      <td>5</td>\n",
              "      <td>1436970291439</td>\n",
              "      <td>48.845699</td>\n",
              "    </tr>\n",
              "  </tbody>\n",
              "</table>\n",
              "</div>"
            ],
            "text/plain": [
              "   id      attr_time    attr_db\n",
              "0   1  1436970288505  41.295707\n",
              "1   2  1436970289233  53.068566\n",
              "2   3  1436970289948  42.788082\n",
              "3   4  1436970290717  33.410566\n",
              "4   5  1436970291439  48.845699"
            ]
          },
          "metadata": {
            "tags": []
          },
          "execution_count": 22
        }
      ]
    },
    {
      "cell_type": "code",
      "metadata": {
        "id": "xB-XEtyxQTkm"
      },
      "source": [
        "df_mic_jump_chest = df_mic_jump_chest[['attr_db']].values[0:999,:]\n",
        "df_mic_jump_head = df_mic_jump_head[['attr_db']].values[0:999,:]\n",
        "df_mic_jump_shin = df_mic_jump_shin[['attr_db']].values[0:999,:]\n",
        "df_mic_jump_thigh = df_mic_jump_thigh[['attr_db']].values[0:999,:]\n",
        "df_mic_jump_upperarm = df_mic_jump_upperarm[['attr_db']].values[0:999,:]\n",
        "df_mic_jump_waist = df_mic_jump_waist[['attr_db']].values[0:999,:]\n",
        "df_mic_lye_chest = df_mic_lye_chest[['attr_db']].values[0:999,:]\n",
        "df_mic_lye_head = df_mic_lye_head[['attr_db']].values[0:999,:]\n",
        "df_mic_lye_shin = df_mic_lye_shin[['attr_db']].values[0:999,:]\n",
        "df_mic_lye_thigh = df_mic_lye_thigh[['attr_db']].values[0:999,:]\n",
        "df_mic_lye_upperarm = df_mic_lye_upperarm[['attr_db']].values[0:999,:]\n",
        "df_mic_lye_waist = df_mic_lye_waist[['attr_db']].values[0:999,:]\n",
        "df_mic_stand_chest = df_mic_stand_chest[['attr_db']].values[0:999,:]\n",
        "df_mic_stand_head = df_mic_stand_head[['attr_db']].values[0:999,:]\n",
        "df_mic_stand_shin = df_mic_stand_shin[['attr_db']].values[0:999,:]\n",
        "df_mic_stand_thigh = df_mic_stand_thigh[['attr_db']].values[0:999,:]\n",
        "df_mic_stand_upperarm = df_mic_stand_upperarm[['attr_db']].values[0:999,:]\n",
        "df_mic_stand_waist = df_mic_stand_waist[['attr_db']].values[0:999,:]"
      ],
      "execution_count": null,
      "outputs": []
    },
    {
      "cell_type": "code",
      "metadata": {
        "id": "nDTn3JXlQx00"
      },
      "source": [
        "mic_jump = [df_mic_jump_chest,\n",
        "df_mic_jump_head,\n",
        "df_mic_jump_shin,\n",
        "df_mic_jump_thigh,\n",
        "df_mic_jump_upperarm,\n",
        "df_mic_jump_waist]\n",
        "\n",
        "mic_lye = [ df_mic_lye_chest,\n",
        "df_mic_lye_head,\n",
        "df_mic_lye_shin,\n",
        "df_mic_lye_thigh,\n",
        "df_mic_lye_upperarm,\n",
        "df_mic_lye_waist]\n",
        "\n",
        "mic_stand = [df_mic_stand_chest,\n",
        "df_mic_stand_head,\n",
        "df_mic_stand_shin,\n",
        "df_mic_stand_thigh,\n",
        "df_mic_stand_upperarm,\n",
        "df_mic_stand_waist]\n"
      ],
      "execution_count": null,
      "outputs": []
    },
    {
      "cell_type": "code",
      "metadata": {
        "id": "Dzde6sFqRSZv",
        "outputId": "3036fe7b-1d03-4445-c683-3d35c289bf08",
        "colab": {
          "base_uri": "https://localhost:8080/",
          "height": 170
        }
      },
      "source": [
        "results15 = []\n",
        "for i in mic_jump:\n",
        "  for j in mic_jump:\n",
        "    euclidean_distance =  lambda i,j: np.linalg.norm(i-j)\n",
        "    d, cost_matrix, acc_cost_matrix, path = dtw(i, j, dist = euclidean_distance)\n",
        "    results15.append(d)\n",
        "\n",
        "np.hstack(results15)"
      ],
      "execution_count": null,
      "outputs": [
        {
          "output_type": "execute_result",
          "data": {
            "text/plain": [
              "array([   0.        , 1019.86299706,  862.04169235,  723.25370859,\n",
              "        669.85899284,  757.05790278, 1019.86299706,    0.        ,\n",
              "       1111.10717086, 1176.78477046, 1010.31704474,  911.42623386,\n",
              "        862.04169235, 1111.10717086,    0.        ,  660.40963301,\n",
              "        824.81591638, 1004.22163097,  723.25370859, 1176.78477046,\n",
              "        660.40963301,    0.        ,  722.63730278,  829.99286013,\n",
              "        669.85899284, 1010.31704474,  824.81591638,  722.63730278,\n",
              "          0.        ,  749.80436348,  757.05790278,  911.42623386,\n",
              "       1004.22163097,  829.99286013,  749.80436348,    0.        ])"
            ]
          },
          "metadata": {
            "tags": []
          },
          "execution_count": 28
        }
      ]
    },
    {
      "cell_type": "markdown",
      "metadata": {
        "id": "CwqhfX_1I1s6"
      },
      "source": [
        "**Mic Jump**"
      ]
    },
    {
      "cell_type": "code",
      "metadata": {
        "id": "h2RYOhPwWuQA"
      },
      "source": [
        "dtw_mic_jump = ([   0.        , 1019.86299706,  862.04169235,  723.25370859,\n",
        "        669.85899284,  757.05790278, 1019.86299706,    0.        ,\n",
        "       1111.10717086, 1176.78477046, 1010.31704474,  911.42623386,\n",
        "        862.04169235, 1111.10717086,    0.        ,  660.40963301,\n",
        "        824.81591638, 1004.22163097,  723.25370859, 1176.78477046,\n",
        "        660.40963301,    0.        ,  722.63730278,  829.99286013,\n",
        "        669.85899284, 1010.31704474,  824.81591638,  722.63730278,\n",
        "          0.        ,  749.80436348,  757.05790278,  911.42623386,\n",
        "       1004.22163097,  829.99286013,  749.80436348,    0.        ])"
      ],
      "execution_count": 25,
      "outputs": []
    },
    {
      "cell_type": "code",
      "metadata": {
        "id": "j7TDueAmRbfI",
        "outputId": "fd9ce198-cd14-47a4-e1e7-6ab53f3f3f6a",
        "colab": {
          "base_uri": "https://localhost:8080/",
          "height": 170
        }
      },
      "source": [
        "results16 = []\n",
        "for i in mic_lye:\n",
        "  for j in mic_lye:\n",
        "    euclidean_distance =  lambda i,j: np.linalg.norm(i-j)\n",
        "    d, cost_matrix, acc_cost_matrix, path = dtw(i, j, dist = euclidean_distance)\n",
        "    results16.append(d)\n",
        "\n",
        "np.hstack(results16)"
      ],
      "execution_count": null,
      "outputs": [
        {
          "output_type": "execute_result",
          "data": {
            "text/plain": [
              "array([   0.        , 3044.98321069, 3488.69028905, 3822.0743053 ,\n",
              "       3077.05625337, 3544.91912285, 3044.98321069,    0.        ,\n",
              "       2849.87660935, 3107.71701678, 2375.57158184, 3460.03508462,\n",
              "       3488.69028905, 2849.87660935,    0.        , 3074.83066568,\n",
              "       2258.01755271, 3902.87623195, 3822.0743053 , 3107.71701678,\n",
              "       3074.83066568,    0.        , 2630.85518927, 3904.96389389,\n",
              "       3077.05625337, 2375.57158184, 2258.01755271, 2630.85518927,\n",
              "          0.        , 3529.29587336, 3544.91912285, 3460.03508462,\n",
              "       3902.87623195, 3904.96389389, 3529.29587336,    0.        ])"
            ]
          },
          "metadata": {
            "tags": []
          },
          "execution_count": 29
        }
      ]
    },
    {
      "cell_type": "markdown",
      "metadata": {
        "id": "m89Y3SCLI3XI"
      },
      "source": [
        "**Mic Lye**"
      ]
    },
    {
      "cell_type": "code",
      "metadata": {
        "id": "hog7Z2s6WyCQ"
      },
      "source": [
        "dtw_mic_lye = ([   0.        , 3044.98321069, 3488.69028905, 3822.0743053 ,\n",
        "       3077.05625337, 3544.91912285, 3044.98321069,    0.        ,\n",
        "       2849.87660935, 3107.71701678, 2375.57158184, 3460.03508462,\n",
        "       3488.69028905, 2849.87660935,    0.        , 3074.83066568,\n",
        "       2258.01755271, 3902.87623195, 3822.0743053 , 3107.71701678,\n",
        "       3074.83066568,    0.        , 2630.85518927, 3904.96389389,\n",
        "       3077.05625337, 2375.57158184, 2258.01755271, 2630.85518927,\n",
        "          0.        , 3529.29587336, 3544.91912285, 3460.03508462,\n",
        "       3902.87623195, 3904.96389389, 3529.29587336,    0.        ])"
      ],
      "execution_count": 26,
      "outputs": []
    },
    {
      "cell_type": "code",
      "metadata": {
        "id": "JGS5mijWSQ9h",
        "outputId": "288172bb-7c8d-44e3-9f82-509cd1abfd22",
        "colab": {
          "base_uri": "https://localhost:8080/",
          "height": 170
        }
      },
      "source": [
        "results17 = []\n",
        "for i in mic_stand:\n",
        "  for j in mic_stand:\n",
        "    euclidean_distance =  lambda i,j: np.linalg.norm(i-j)\n",
        "    d, cost_matrix, acc_cost_matrix, path = dtw(i, j, dist = euclidean_distance)\n",
        "    results17.append(d)\n",
        "\n",
        "np.hstack(results17)"
      ],
      "execution_count": null,
      "outputs": [
        {
          "output_type": "execute_result",
          "data": {
            "text/plain": [
              "array([   0.        , 6024.16060084, 6838.86187399, 5715.24609935,\n",
              "       6375.69705367, 5319.26919156, 6024.16060084,    0.        ,\n",
              "       8451.42756886, 7115.78440397, 7217.20933245, 5899.729637  ,\n",
              "       6838.86187399, 8451.42756886,    0.        , 5180.09375159,\n",
              "       5676.86987509, 6323.26195051, 5715.24609935, 7115.78440397,\n",
              "       5180.09375159,    0.        , 5459.6653215 , 5580.96383401,\n",
              "       6375.69705367, 7217.20933245, 5676.86987509, 5459.6653215 ,\n",
              "          0.        , 5661.4439514 , 5319.26919156, 5899.729637  ,\n",
              "       6323.26195051, 5580.96383401, 5661.4439514 ,    0.        ])"
            ]
          },
          "metadata": {
            "tags": []
          },
          "execution_count": 30
        }
      ]
    },
    {
      "cell_type": "markdown",
      "metadata": {
        "id": "bp4hYStJI8ik"
      },
      "source": [
        "**Mic Stand**"
      ]
    },
    {
      "cell_type": "code",
      "metadata": {
        "id": "8KuCELI2W2dP"
      },
      "source": [
        "dtw_mic_stand = ([   0.        , 6024.16060084, 6838.86187399, 5715.24609935,\n",
        "       6375.69705367, 5319.26919156, 6024.16060084,    0.        ,\n",
        "       8451.42756886, 7115.78440397, 7217.20933245, 5899.729637  ,\n",
        "       6838.86187399, 8451.42756886,    0.        , 5180.09375159,\n",
        "       5676.86987509, 6323.26195051, 5715.24609935, 7115.78440397,\n",
        "       5180.09375159,    0.        , 5459.6653215 , 5580.96383401,\n",
        "       6375.69705367, 7217.20933245, 5676.86987509, 5459.6653215 ,\n",
        "          0.        , 5661.4439514 , 5319.26919156, 5899.729637  ,\n",
        "       6323.26195051, 5580.96383401, 5661.4439514 ,    0.        ])"
      ],
      "execution_count": 27,
      "outputs": []
    },
    {
      "cell_type": "markdown",
      "metadata": {
        "id": "Ua1kg_fXUXnF"
      },
      "source": [
        "\n",
        "\n",
        "---\n",
        "\n",
        "\n",
        "\n",
        "\n",
        "\n",
        "---\n",
        "\n",
        "\n",
        "\n",
        "\n",
        "\n",
        "\n",
        "---\n"
      ]
    },
    {
      "cell_type": "markdown",
      "metadata": {
        "id": "pQTORpjUUaBw"
      },
      "source": [
        "#Storing the DTW distances in arrays so we can rank the sensors\n",
        "\n",
        "It contains Activity Levels Jumping, Lying and Standing. Due time constraints the remaining activity labels are currently worked on.\n",
        "\n"
      ]
    },
    {
      "cell_type": "code",
      "metadata": {
        "id": "0AYu2nJAW7FV"
      },
      "source": [
        "dtw_acc_sensor = [dtw_acc_jump,dtw_acc_lye,dtw_acc_stand]\n",
        "dtw_gps_sensor = [dtw_gps_jump,dtw_gps_lye,dtw_gps_stand]\n",
        "dtw_gyr_sensor = [dtw_gyr_jump,dtw_gyr_lye,dtw_gyr_stand]\n",
        "dtw_lig_sensor = [dtw_lig_jump,dtw_lig_lye,dtw_lig_stand]\n",
        "dtw_mag_sensor = [dtw_mag_jump,dtw_mag_lye,dtw_mag_stand]\n",
        "dtw_mic_sensor = [dtw_mic_jump,dtw_mic_lye,dtw_mic_stand]"
      ],
      "execution_count": 104,
      "outputs": []
    },
    {
      "cell_type": "markdown",
      "metadata": {
        "id": "OUW5KJL4YFOB"
      },
      "source": [
        "#Now sorting the distances\n"
      ]
    },
    {
      "cell_type": "code",
      "metadata": {
        "id": "l8HqWbuWXPoL",
        "outputId": "3b4895b5-6e19-4200-f853-aebb390bd101",
        "colab": {
          "base_uri": "https://localhost:8080/",
          "height": 714
        }
      },
      "source": [
        "results_final_dtw_acc = []\n",
        "for i in dtw_acc_sensor:\n",
        "    i = np.sort(i)\n",
        "    i = i[::-1]\n",
        "    results_final_dtw_acc.append(i)\n",
        "\n",
        "np.hstack(results_final_dtw_acc)"
      ],
      "execution_count": 106,
      "outputs": [
        {
          "output_type": "execute_result",
          "data": {
            "text/plain": [
              "array([18231.69102728, 18231.69102728, 16242.84478079, 16242.84478079,\n",
              "       15712.80605172, 15712.80605172, 15130.71907549, 15130.71907549,\n",
              "       15116.1820829 , 15116.1820829 , 14892.54574511, 14829.15491897,\n",
              "       14829.15491897, 14829.15491897, 14829.15491897, 14520.56983296,\n",
              "       14362.97202891, 14362.97202891, 14299.77810531, 14231.19211889,\n",
              "       14231.19211889, 13599.61402047, 13599.61402047, 13453.91952204,\n",
              "       13453.91952204, 13250.36862331, 13250.36862331, 13250.36862331,\n",
              "       13028.63271817, 13028.63271817, 12986.42782376, 12986.42782376,\n",
              "       12986.42782376, 12389.5922458 , 12389.5922458 , 11289.04306081,\n",
              "       10983.17121063, 10760.00334833, 10722.38032688,  9044.31104928,\n",
              "        9044.31104928,  8114.73716577,  8114.73716577,  7708.46421049,\n",
              "        7708.46421049,  7708.46421049,  7118.26461695,  7118.26461695,\n",
              "        4089.15431973,  4089.15431973,  4076.84240386,  4076.84240386,\n",
              "        4076.84240386,  3977.11243373,  3977.11243373,  3977.11243373,\n",
              "           0.        ,     0.        ,     0.        ,     0.        ,\n",
              "           0.        ,     0.        ,     0.        ,     0.        ,\n",
              "           0.        , 18043.50200591, 18043.50200591, 17610.54798477,\n",
              "       17610.54798477, 16703.00187272, 16703.00187272, 15470.15069445,\n",
              "       15470.15069445, 14980.02634949, 14980.02634949, 14692.71693826,\n",
              "       14692.71693826, 14005.59348752, 14005.59348752, 13666.20012   ,\n",
              "       13666.20012   , 12355.45566421, 12355.45566421, 11954.82799191,\n",
              "       11954.82799191, 11635.57755591, 11635.57755591, 10975.85176031,\n",
              "       10975.85176031,  9635.83886849,  9635.83886849,  9117.51836155,\n",
              "        9117.51836155,  8837.85382706,  8837.85382706,  8544.0977147 ,\n",
              "        8544.0977147 ,  7321.51868871,  7321.51868871,  7308.71788802,\n",
              "        7308.71788802,  7099.3992894 ,  7099.3992894 ,  7033.99649456,\n",
              "        7033.99649456,  3103.85770831,  3103.85770831,     0.        ,\n",
              "           0.        ,     0.        ,     0.        ,     0.        ,\n",
              "           0.        ,     0.        , 19558.651424  , 19558.651424  ,\n",
              "       19299.65087072, 19299.65087072, 16569.97633088, 16569.97633088,\n",
              "       15848.77288845, 15848.77288845, 15848.77288845, 15848.77288845,\n",
              "       15270.06995945, 15270.06995945, 14920.08833654, 14920.08833654,\n",
              "       14296.094205  , 14296.094205  , 14296.094205  , 14296.094205  ,\n",
              "       13925.13694733, 13925.13694733, 12809.44720526, 12809.44720526,\n",
              "       12809.44720526, 12809.44720526, 12691.39775829, 12691.39775829,\n",
              "       12534.19506047, 12534.19506047,  4110.09703947,  4110.09703947,\n",
              "        3157.52408422,  3157.52408422,  2449.11175123,  2449.11175123,\n",
              "        2449.11175123,  2449.11175123,  1975.92219426,  1975.92219426,\n",
              "        1975.92219426,  1975.92219426,     0.        ,     0.        ,\n",
              "           0.        ,     0.        ,     0.        ,     0.        ,\n",
              "           0.        ,     0.        ,     0.        ])"
            ]
          },
          "metadata": {
            "tags": []
          },
          "execution_count": 106
        }
      ]
    },
    {
      "cell_type": "code",
      "metadata": {
        "id": "OGstJBJ9aarB",
        "outputId": "048c76f7-d58c-4af2-a92a-ed3692b6c8fb",
        "colab": {
          "base_uri": "https://localhost:8080/",
          "height": 476
        }
      },
      "source": [
        "results_final_dtw_gps = []\n",
        "for i in dtw_gps_sensor:\n",
        "    i = np.sort(i)\n",
        "    i = i[::-1]\n",
        "    results_final_dtw_gps.append(i)\n",
        "\n",
        "np.hstack(results_final_dtw_gps)"
      ],
      "execution_count": 107,
      "outputs": [
        {
          "output_type": "execute_result",
          "data": {
            "text/plain": [
              "array([3.35171000e-03, 3.35171000e-03, 3.19761000e-03, 3.19761000e-03,\n",
              "       2.77712000e-03, 2.77712000e-03, 2.58669000e-03, 2.58669000e-03,\n",
              "       2.42251000e-03, 2.42251000e-03, 2.35259000e-03, 2.35259000e-03,\n",
              "       2.25688000e-03, 2.25688000e-03, 1.78962000e-03, 1.78962000e-03,\n",
              "       1.48687000e-03, 1.48687000e-03, 1.48676000e-03, 1.48676000e-03,\n",
              "       1.37867000e-03, 1.37867000e-03, 1.28873000e-03, 1.28873000e-03,\n",
              "       1.23978000e-03, 1.23978000e-03, 7.94140000e-04, 7.94140000e-04,\n",
              "       7.58550000e-04, 7.58550000e-04, 0.00000000e+00, 0.00000000e+00,\n",
              "       0.00000000e+00, 0.00000000e+00, 0.00000000e+00, 0.00000000e+00,\n",
              "       9.39927465e-03, 9.39927465e-03, 9.37042825e-03, 9.37042825e-03,\n",
              "       9.21818637e-03, 9.21818637e-03, 9.02881663e-03, 9.02881663e-03,\n",
              "       9.00038468e-03, 9.00038468e-03, 4.29875892e-04, 4.29875892e-04,\n",
              "       4.28114564e-04, 4.28114564e-04, 4.08372149e-04, 4.08372149e-04,\n",
              "       3.95494020e-04, 3.95494020e-04, 3.56466489e-04, 3.56466489e-04,\n",
              "       2.37634712e-04, 2.37634712e-04, 2.36757244e-04, 2.36757244e-04,\n",
              "       1.91183383e-04, 1.91183383e-04, 1.78271220e-04, 1.78271220e-04,\n",
              "       9.45357958e-05, 9.45357958e-05, 0.00000000e+00, 0.00000000e+00,\n",
              "       0.00000000e+00, 0.00000000e+00, 0.00000000e+00, 0.00000000e+00,\n",
              "       1.37415700e-02, 1.37415700e-02, 1.26874100e-02, 1.26874100e-02,\n",
              "       1.20781200e-02, 1.20781200e-02, 1.05573600e-02, 1.05573600e-02,\n",
              "       8.99989000e-03, 8.99989000e-03, 8.62214000e-03, 8.62214000e-03,\n",
              "       7.37638000e-03, 7.37638000e-03, 7.33219000e-03, 7.33219000e-03,\n",
              "       7.27778000e-03, 7.27778000e-03, 5.85401000e-03, 5.85401000e-03,\n",
              "       5.60790000e-03, 5.60790000e-03, 5.55214000e-03, 5.55214000e-03,\n",
              "       4.97078000e-03, 4.97078000e-03, 4.13158000e-03, 4.13158000e-03,\n",
              "       3.38500000e-03, 3.38500000e-03, 0.00000000e+00, 0.00000000e+00,\n",
              "       0.00000000e+00, 0.00000000e+00, 0.00000000e+00, 0.00000000e+00])"
            ]
          },
          "metadata": {
            "tags": []
          },
          "execution_count": 107
        }
      ]
    },
    {
      "cell_type": "code",
      "metadata": {
        "id": "TxNX-HWla9sk",
        "outputId": "654a2050-2f6e-45aa-9cd5-97b179ff988d",
        "colab": {
          "base_uri": "https://localhost:8080/",
          "height": 646
        }
      },
      "source": [
        "results_final_dtw_gyr = []\n",
        "for i in dtw_gyr_sensor:\n",
        "    i = np.sort(i)\n",
        "    i = i[::-1]\n",
        "    results_final_dtw_gyr.append(i)\n",
        "\n",
        "np.hstack(results_final_dtw_gyr)"
      ],
      "execution_count": 108,
      "outputs": [
        {
          "output_type": "execute_result",
          "data": {
            "text/plain": [
              "array([2071.82794897, 2071.82794897, 1937.95095828, 1937.95095828,\n",
              "       1892.64682715, 1892.64682715, 1830.19211841, 1830.19211841,\n",
              "       1804.07023014, 1804.07023014, 1766.09264017, 1766.09264017,\n",
              "       1743.45974339, 1743.45974339, 1730.94590708, 1730.94590708,\n",
              "       1720.90728085, 1720.90728085, 1670.81946119, 1670.81946119,\n",
              "       1615.70826844, 1615.70826844, 1053.10966075, 1053.10966075,\n",
              "       1022.03243363, 1022.03243363, 1015.60679647, 1015.60679647,\n",
              "        910.44316746,  910.44316746,  907.57570278,  907.57570278,\n",
              "        903.9123628 ,  903.9123628 ,  897.12631448,  897.12631448,\n",
              "        884.35961272,  884.35961272,  682.56687902,  682.56687902,\n",
              "        626.16059494,  626.16059494,    0.        ,    0.        ,\n",
              "          0.        ,    0.        ,    0.        ,    0.        ,\n",
              "          0.        ,  544.97292184,  544.97292184,  519.02571506,\n",
              "        519.02571506,  507.20430024,  507.20430024,  504.43923333,\n",
              "        504.43923333,  467.9579867 ,  467.9579867 ,  460.71845895,\n",
              "        460.71845895,  447.29771747,  447.29771747,  427.21784863,\n",
              "        427.21784863,  422.17324002,  422.17324002,  418.93262751,\n",
              "        418.93262751,  409.31020003,  409.31020003,  401.79329702,\n",
              "        401.79329702,  387.00789463,  387.00789463,  379.99989376,\n",
              "        379.99989376,  364.41205685,  364.41205685,  341.4109314 ,\n",
              "        341.4109314 ,  335.64925291,  335.64925291,  326.5558535 ,\n",
              "        326.5558535 ,  319.62760145,  319.62760145,  301.58069608,\n",
              "        301.58069608,  264.87654635,  264.87654635,    0.        ,\n",
              "          0.        ,    0.        ,    0.        ,    0.        ,\n",
              "          0.        ,    0.        ,  388.83649876,  388.83649876,\n",
              "        384.82830712,  384.82830712,  381.86972005,  381.86972005,\n",
              "        329.02765689,  329.02765689,  327.16641974,  327.16641974,\n",
              "        314.5228698 ,  314.5228698 ,  311.81396486,  311.81396486,\n",
              "        306.67461592,  306.67461592,  300.80325   ,  300.80325   ,\n",
              "        296.13357576,  296.13357576,  293.44593978,  293.44593978,\n",
              "        278.43344882,  278.43344882,  266.2712614 ,  266.2712614 ,\n",
              "        245.69798237,  245.69798237,  244.37462314,  244.37462314,\n",
              "        175.28605098,  175.28605098,  172.3372764 ,  172.3372764 ,\n",
              "        167.81043622,  167.81043622,  167.5169034 ,  167.5169034 ,\n",
              "        166.7218662 ,  166.7218662 ,  165.77479402,  165.77479402,\n",
              "          0.        ,    0.        ,    0.        ,    0.        ,\n",
              "          0.        ,    0.        ,    0.        ])"
            ]
          },
          "metadata": {
            "tags": []
          },
          "execution_count": 108
        }
      ]
    },
    {
      "cell_type": "code",
      "metadata": {
        "id": "rjht7oIjbCPh",
        "outputId": "6e7809ad-6a6f-4e76-f80d-00ead30848e4",
        "colab": {
          "base_uri": "https://localhost:8080/",
          "height": 476
        }
      },
      "source": [
        "results_final_dtw_lig = []\n",
        "for i in dtw_lig_sensor:\n",
        "    i = np.sort(i)\n",
        "    i = i[::-1]\n",
        "    results_final_dtw_lig.append(i)\n",
        "\n",
        "np.hstack(results_final_dtw_lig)"
      ],
      "execution_count": 109,
      "outputs": [
        {
          "output_type": "execute_result",
          "data": {
            "text/plain": [
              "array([5.695850e+05, 5.695850e+05, 5.237500e+05, 5.237500e+05,\n",
              "       5.021940e+05, 5.021940e+05, 4.896550e+05, 4.896550e+05,\n",
              "       4.327410e+05, 4.327410e+05, 4.078900e+05, 4.078900e+05,\n",
              "       3.591630e+05, 3.591630e+05, 3.214760e+05, 3.214760e+05,\n",
              "       3.184160e+05, 3.184160e+05, 2.919170e+05, 2.919170e+05,\n",
              "       2.573920e+05, 2.573920e+05, 1.787200e+05, 1.787200e+05,\n",
              "       1.122020e+05, 1.122020e+05, 1.026220e+05, 1.026220e+05,\n",
              "       7.453700e+04, 7.453700e+04, 0.000000e+00, 0.000000e+00,\n",
              "       0.000000e+00, 0.000000e+00, 0.000000e+00, 0.000000e+00,\n",
              "       4.052400e+04, 4.052400e+04, 3.863300e+04, 3.863300e+04,\n",
              "       3.697400e+04, 3.697400e+04, 3.257700e+04, 3.257700e+04,\n",
              "       2.393300e+04, 2.393300e+04, 1.659100e+04, 1.659100e+04,\n",
              "       1.470000e+04, 1.470000e+04, 1.304100e+04, 1.304100e+04,\n",
              "       8.835000e+03, 8.835000e+03, 7.542000e+03, 7.542000e+03,\n",
              "       5.956000e+03, 5.956000e+03, 4.586000e+03, 4.586000e+03,\n",
              "       3.550000e+03, 3.550000e+03, 2.915000e+03, 2.915000e+03,\n",
              "       1.882000e+03, 1.882000e+03, 0.000000e+00, 0.000000e+00,\n",
              "       0.000000e+00, 0.000000e+00, 0.000000e+00, 0.000000e+00,\n",
              "       1.898818e+06, 1.898818e+06, 1.825957e+06, 1.825957e+06,\n",
              "       1.800372e+06, 1.800372e+06, 1.725381e+06, 1.725381e+06,\n",
              "       1.197273e+06, 1.197273e+06, 7.284240e+05, 7.284240e+05,\n",
              "       6.555630e+05, 6.555630e+05, 6.299780e+05, 6.299780e+05,\n",
              "       5.549870e+05, 5.549870e+05, 1.734370e+05, 1.734370e+05,\n",
              "       1.005760e+05, 1.005760e+05, 9.844600e+04, 9.844600e+04,\n",
              "       7.499100e+04, 7.499100e+04, 7.286100e+04, 7.286100e+04,\n",
              "       2.120100e+04, 2.120100e+04, 0.000000e+00, 0.000000e+00,\n",
              "       0.000000e+00, 0.000000e+00, 0.000000e+00, 0.000000e+00])"
            ]
          },
          "metadata": {
            "tags": []
          },
          "execution_count": 109
        }
      ]
    },
    {
      "cell_type": "code",
      "metadata": {
        "id": "SVJNu2DycBJI",
        "outputId": "f9c5d68f-f4f9-4831-da62-40badab24c94",
        "colab": {
          "base_uri": "https://localhost:8080/",
          "height": 646
        }
      },
      "source": [
        "results_final_dtw_mag = []\n",
        "for i in dtw_mag_sensor:\n",
        "    i = np.sort(i)\n",
        "    i = i[::-1]\n",
        "    results_final_dtw_mag.append(i)\n",
        "\n",
        "np.hstack(results_final_dtw_mag)"
      ],
      "execution_count": 110,
      "outputs": [
        {
          "output_type": "execute_result",
          "data": {
            "text/plain": [
              "array([ 88382.73977792,  88382.73977792,  85372.94091318,  85372.94091318,\n",
              "        77816.81518438,  77816.81518438,  74689.04923042,  74689.04923042,\n",
              "        69514.99076469,  69514.99076469,  68197.6479283 ,  68197.6479283 ,\n",
              "        67966.78227933,  67966.78227933,  67830.66771731,  67830.66771731,\n",
              "        66386.0575879 ,  66386.0575879 ,  63562.19772728,  63562.19772728,\n",
              "        63553.81384363,  63553.81384363,  61239.18289313,  61239.18289313,\n",
              "        51798.07191359,  51798.07191359,  48004.47385287,  48004.47385287,\n",
              "        45665.72933712,  45665.72933712,  43883.57041862,  43883.57041862,\n",
              "        33347.19499551,  33347.19499551,  21296.69527997,  21296.69527997,\n",
              "        16571.32714044,  16571.32714044,  14047.02440392,  14047.02440392,\n",
              "         9990.4235285 ,   9990.4235285 ,      0.        ,      0.        ,\n",
              "            0.        ,      0.        ,      0.        ,      0.        ,\n",
              "            0.        , 122884.57295841, 122884.57295841, 109702.51397986,\n",
              "       109702.51397986, 108636.0643085 , 108636.0643085 ,  86021.29475248,\n",
              "        86021.29475248,  82696.91800276,  82696.91800276,  82656.0632281 ,\n",
              "        82656.0632281 ,  79518.79327497,  79518.79327497,  76789.5711855 ,\n",
              "        76789.5711855 ,  74087.68612767,  74087.68612767,  71733.62771772,\n",
              "        71733.62771772,  67159.51232442,  67159.51232442,  63905.01668041,\n",
              "        63905.01668041,  61433.91547295,  61433.91547295,  54706.32532751,\n",
              "        54706.32532751,  50014.51441331,  50014.51441331,  46364.34462362,\n",
              "        46364.34462362,  43791.02436387,  43791.02436387,  41183.75856725,\n",
              "        41183.75856725,  35474.15943436,  35474.15943436,  29667.04199982,\n",
              "        29667.04199982,  28415.00708717,  28415.00708717,      0.        ,\n",
              "            0.        ,      0.        ,      0.        ,      0.        ,\n",
              "            0.        ,      0.        ,  85994.80790525,  85994.80790525,\n",
              "        81191.00759626,  81191.00759626,  78408.85289672,  78408.85289672,\n",
              "        72581.36868864,  72581.36868864,  68059.49127763,  68059.49127763,\n",
              "        65415.93757447,  65415.93757447,  62026.9629821 ,  62026.9629821 ,\n",
              "        61509.35217041,  61509.35217041,  60870.25123516,  60870.25123516,\n",
              "        59586.59268222,  59586.59268222,  56543.50695408,  56543.50695408,\n",
              "        55572.79252797,  55572.79252797,  46007.18581471,  46007.18581471,\n",
              "        45870.3263917 ,  45870.3263917 ,  38717.85788335,  38717.85788335,\n",
              "        28013.77618902,  28013.77618902,  26197.08355529,  26197.08355529,\n",
              "        10630.0671803 ,  10630.0671803 ,   8736.65222281,   8736.65222281,\n",
              "         8564.87238744,   8564.87238744,   8251.34056693,   8251.34056693,\n",
              "            0.        ,      0.        ,      0.        ,      0.        ,\n",
              "            0.        ,      0.        ,      0.        ])"
            ]
          },
          "metadata": {
            "tags": []
          },
          "execution_count": 110
        }
      ]
    },
    {
      "cell_type": "code",
      "metadata": {
        "id": "Mk6CtIrmcE6V",
        "outputId": "c9f136ea-3350-412e-e466-960581061d38",
        "colab": {
          "base_uri": "https://localhost:8080/",
          "height": 476
        }
      },
      "source": [
        "results_final_dtw_mic = []\n",
        "for i in dtw_mic_sensor:\n",
        "    i = np.sort(i)\n",
        "    i = i[::-1]\n",
        "    results_final_dtw_mic.append(i)\n",
        "\n",
        "np.hstack(results_final_dtw_mic)"
      ],
      "execution_count": 111,
      "outputs": [
        {
          "output_type": "execute_result",
          "data": {
            "text/plain": [
              "array([1176.78477046, 1176.78477046, 1111.10717086, 1111.10717086,\n",
              "       1019.86299706, 1019.86299706, 1010.31704474, 1010.31704474,\n",
              "       1004.22163097, 1004.22163097,  911.42623386,  911.42623386,\n",
              "        862.04169235,  862.04169235,  829.99286013,  829.99286013,\n",
              "        824.81591638,  824.81591638,  757.05790278,  757.05790278,\n",
              "        749.80436348,  749.80436348,  723.25370859,  723.25370859,\n",
              "        722.63730278,  722.63730278,  669.85899284,  669.85899284,\n",
              "        660.40963301,  660.40963301,    0.        ,    0.        ,\n",
              "          0.        ,    0.        ,    0.        ,    0.        ,\n",
              "       3904.96389389, 3904.96389389, 3902.87623195, 3902.87623195,\n",
              "       3822.0743053 , 3822.0743053 , 3544.91912285, 3544.91912285,\n",
              "       3529.29587336, 3529.29587336, 3488.69028905, 3488.69028905,\n",
              "       3460.03508462, 3460.03508462, 3107.71701678, 3107.71701678,\n",
              "       3077.05625337, 3077.05625337, 3074.83066568, 3074.83066568,\n",
              "       3044.98321069, 3044.98321069, 2849.87660935, 2849.87660935,\n",
              "       2630.85518927, 2630.85518927, 2375.57158184, 2375.57158184,\n",
              "       2258.01755271, 2258.01755271,    0.        ,    0.        ,\n",
              "          0.        ,    0.        ,    0.        ,    0.        ,\n",
              "       8451.42756886, 8451.42756886, 7217.20933245, 7217.20933245,\n",
              "       7115.78440397, 7115.78440397, 6838.86187399, 6838.86187399,\n",
              "       6375.69705367, 6375.69705367, 6323.26195051, 6323.26195051,\n",
              "       6024.16060084, 6024.16060084, 5899.729637  , 5899.729637  ,\n",
              "       5715.24609935, 5715.24609935, 5676.86987509, 5676.86987509,\n",
              "       5661.4439514 , 5661.4439514 , 5580.96383401, 5580.96383401,\n",
              "       5459.6653215 , 5459.6653215 , 5319.26919156, 5319.26919156,\n",
              "       5180.09375159, 5180.09375159,    0.        ,    0.        ,\n",
              "          0.        ,    0.        ,    0.        ,    0.        ])"
            ]
          },
          "metadata": {
            "tags": []
          },
          "execution_count": 111
        }
      ]
    },
    {
      "cell_type": "code",
      "metadata": {
        "id": "zHRQdU1wcKJz"
      },
      "source": [
        "dtw_final = [results_final_dtw_acc, results_final_dtw_gps, results_final_dtw_gyr,results_final_dtw_lig,results_final_dtw_mag,results_final_dtw_mic]"
      ],
      "execution_count": 119,
      "outputs": []
    },
    {
      "cell_type": "code",
      "metadata": {
        "id": "dgehKr1mc6XE"
      },
      "source": [
        "print(dtw_final)"
      ],
      "execution_count": null,
      "outputs": []
    },
    {
      "cell_type": "code",
      "metadata": {
        "id": "QIId0vpbC1Zc"
      },
      "source": [
        "bins = [-200,0,200,500,1000,2000,5000,7500,10000,13500, 17500, 20000]"
      ],
      "execution_count": null,
      "outputs": []
    },
    {
      "cell_type": "markdown",
      "metadata": {
        "id": "lBS2B0UqF3Ps"
      },
      "source": [
        "#Individual graphs"
      ]
    },
    {
      "cell_type": "code",
      "metadata": {
        "id": "rV6_UkdQUdpr",
        "outputId": "b0e0de6e-ee23-4623-f982-f31445e114f3",
        "colab": {
          "base_uri": "https://localhost:8080/",
          "height": 501
        }
      },
      "source": [
        "pyplot.hist(results_final_dtw_acc, bins,facecolor = 'b',alpha=0.5, label='acc_sensor')\n",
        "pyplot.legend(loc='upper right',fontsize=18)\n",
        "pyplot.xlabel(\"dtw_distances\",fontsize=18)\n",
        "pyplot.ylabel(\"frequency count\",fontsize=18)\n"
      ],
      "execution_count": 148,
      "outputs": [
        {
          "output_type": "execute_result",
          "data": {
            "text/plain": [
              "Text(0, 0.5, 'frequency count')"
            ]
          },
          "metadata": {
            "tags": []
          },
          "execution_count": 148
        },
        {
          "output_type": "display_data",
          "data": {
            "image/png": "[encoded data removed]",
            "text/plain": [
              "<Figure size 2160x648 with 1 Axes>"
            ]
          },
          "metadata": {
            "tags": [],
            "needs_background": "light"
          }
        }
      ]
    },
    {
      "cell_type": "markdown",
      "metadata": {
        "id": "sXzstO5WaOdJ"
      },
      "source": [
        "Acc sensor is very well spread out and has the highest dtw distances."
      ]
    },
    {
      "cell_type": "code",
      "metadata": {
        "id": "mgiuzgRcUkP7",
        "outputId": "9171aa19-a5a8-4260-f442-5c7c2a1930a4",
        "colab": {
          "base_uri": "https://localhost:8080/",
          "height": 503
        }
      },
      "source": [
        "pyplot.hist(results_final_dtw_gps, bins,facecolor = 'r', alpha=0.5, label='gps_sensor')\n",
        "\n",
        "pyplot.legend(loc='upper right',fontsize=18)\n",
        "pyplot.xlabel(\"dtw_distances\",fontsize=18)\n",
        "pyplot.ylabel(\"frequency count\",fontsize=18)\n"
      ],
      "execution_count": 149,
      "outputs": [
        {
          "output_type": "execute_result",
          "data": {
            "text/plain": [
              "Text(0, 0.5, 'frequency count')"
            ]
          },
          "metadata": {
            "tags": []
          },
          "execution_count": 149
        },
        {
          "output_type": "display_data",
          "data": {
            "image/png": "[encoded data removed]",
            "text/plain": [
              "<Figure size 2160x648 with 1 Axes>"
            ]
          },
          "metadata": {
            "tags": [],
            "needs_background": "light"
          }
        }
      ]
    },
    {
      "cell_type": "markdown",
      "metadata": {
        "id": "z5JV6d7zahOK"
      },
      "source": [
        "Very less spread out and most of the 1000 variables are nil(0) values. "
      ]
    },
    {
      "cell_type": "code",
      "metadata": {
        "id": "sOGHag0QUpPc",
        "outputId": "4a7ed7b0-6cee-4f23-c8d7-24c530e24faa",
        "colab": {
          "base_uri": "https://localhost:8080/",
          "height": 503
        }
      },
      "source": [
        "pyplot.hist(results_final_dtw_gyr, bins,facecolor = 'y',alpha=0.5, label='gyr_sensor')\n",
        "\n",
        "pyplot.legend(loc='upper right',fontsize=18)\n",
        "pyplot.xlabel(\"dtw_distances\",fontsize=18)\n",
        "pyplot.ylabel(\"frequency count\",fontsize=18)\n"
      ],
      "execution_count": 150,
      "outputs": [
        {
          "output_type": "execute_result",
          "data": {
            "text/plain": [
              "Text(0, 0.5, 'frequency count')"
            ]
          },
          "metadata": {
            "tags": []
          },
          "execution_count": 150
        },
        {
          "output_type": "display_data",
          "data": {
            "image/png": "[encoded data removed]",
            "text/plain": [
              "<Figure size 2160x648 with 1 Axes>"
            ]
          },
          "metadata": {
            "tags": [],
            "needs_background": "light"
          }
        }
      ]
    },
    {
      "cell_type": "code",
      "metadata": {
        "id": "ARpZRJv1U-LV",
        "outputId": "4fe15af1-3a1d-44fb-de50-93fc0cf3d105",
        "colab": {
          "base_uri": "https://localhost:8080/",
          "height": 505
        }
      },
      "source": [
        "pyplot.hist(results_final_dtw_lig, bins,facecolor = 'c', alpha=0.5, label='lig_sensor')\n",
        "pyplot.legend(loc='upper right',fontsize=18)\n",
        "pyplot.xlabel(\"dtw_distances\",fontsize=18)\n",
        "pyplot.ylabel(\"frequency count\",fontsize=18)\n"
      ],
      "execution_count": 151,
      "outputs": [
        {
          "output_type": "execute_result",
          "data": {
            "text/plain": [
              "Text(0, 0.5, 'frequency count')"
            ]
          },
          "metadata": {
            "tags": []
          },
          "execution_count": 151
        },
        {
          "output_type": "display_data",
          "data": {
            "image/png": "[encoded data removed]",
            "text/plain": [
              "<Figure size 2160x648 with 1 Axes>"
            ]
          },
          "metadata": {
            "tags": [],
            "needs_background": "light"
          }
        }
      ]
    },
    {
      "cell_type": "code",
      "metadata": {
        "id": "75AwWQGKVCTc",
        "outputId": "e3220c68-c9f8-451d-ee5d-f6e263b99017",
        "colab": {
          "base_uri": "https://localhost:8080/",
          "height": 505
        }
      },
      "source": [
        "pyplot.hist(results_final_dtw_mag, bins,facecolor = 'm', alpha=0.5, label='mag_sensor')\n",
        "pyplot.legend(loc='upper right',fontsize=18)\n",
        "pyplot.xlabel(\"dtw_distances\",fontsize=18)\n",
        "pyplot.ylabel(\"frequency count\",fontsize=18)"
      ],
      "execution_count": 152,
      "outputs": [
        {
          "output_type": "execute_result",
          "data": {
            "text/plain": [
              "Text(0, 0.5, 'frequency count')"
            ]
          },
          "metadata": {
            "tags": []
          },
          "execution_count": 152
        },
        {
          "output_type": "display_data",
          "data": {
            "image/png": "[encoded data removed]",
            "text/plain": [
              "<Figure size 2160x648 with 1 Axes>"
            ]
          },
          "metadata": {
            "tags": [],
            "needs_background": "light"
          }
        }
      ]
    },
    {
      "cell_type": "code",
      "metadata": {
        "id": "2SaV9EA-VLpG",
        "outputId": "53af94c6-6b50-448e-f92b-e2a360ece3e7",
        "colab": {
          "base_uri": "https://localhost:8080/",
          "height": 503
        }
      },
      "source": [
        "pyplot.hist(results_final_dtw_mic, bins,facecolor = 'k', alpha=0.5, label='mic_sensor')\n",
        "pyplot.legend(loc='upper right',fontsize=18)\n",
        "pyplot.xlabel(\"dtw_distances\",fontsize=18)\n",
        "pyplot.ylabel(\"frequency count\",fontsize=18)"
      ],
      "execution_count": 153,
      "outputs": [
        {
          "output_type": "execute_result",
          "data": {
            "text/plain": [
              "Text(0, 0.5, 'frequency count')"
            ]
          },
          "metadata": {
            "tags": []
          },
          "execution_count": 153
        },
        {
          "output_type": "display_data",
          "data": {
            "image/png": "[encoded data removed]",
            "text/plain": [
              "<Figure size 2160x648 with 1 Axes>"
            ]
          },
          "metadata": {
            "tags": [],
            "needs_background": "light"
          }
        }
      ]
    },
    {
      "cell_type": "markdown",
      "metadata": {
        "id": "KnOHU28ZMWlZ"
      },
      "source": [
        "We can clearly see\n",
        "\n",
        "\n",
        "1.   accelerometer sensor has the highest dtw distances and more spread out\n",
        "2.   followed by light sensor\n",
        "3.   followed by magnetic sensor\n",
        "4.   followed by microphone sensor\n",
        "5. followed by gyroscope sensor\n",
        "6. followed by the gps sensor\n",
        "\n"
      ]
    },
    {
      "cell_type": "markdown",
      "metadata": {
        "id": "WNSp0xKea7B5"
      },
      "source": [
        "#FINAL GRAPH"
      ]
    },
    {
      "cell_type": "code",
      "metadata": {
        "id": "jCKws0ajatug",
        "outputId": "79752a62-a104-4777-c5fa-dccca9b2c242",
        "colab": {
          "base_uri": "https://localhost:8080/",
          "height": 486
        }
      },
      "source": [
        "pyplot.hist(results_final_dtw_acc, bins,facecolor = 'b',alpha=0.5, label='acc_sensor')\n",
        "pyplot.hist(results_final_dtw_gps, bins,facecolor = 'r', alpha=0.5, label='gps_sensor')\n",
        "pyplot.hist(results_final_dtw_gyr, bins,facecolor = 'y',alpha=0.5, label='gyr_sensor')\n",
        "pyplot.hist(results_final_dtw_lig, bins,facecolor = 'c', alpha=0.5, label='lig_sensor')\n",
        "pyplot.hist(results_final_dtw_mag, bins,facecolor = 'm', alpha=0.5, label='mag_sensor')\n",
        "pyplot.hist(results_final_dtw_mic, bins,facecolor = 'k', alpha=0.5, label='mic_sensor')\n",
        "pyplot.legend(loc='upper right',fontsize=18)\n",
        "pyplot.xlabel(\"dtw_distances\",fontsize=18)\n",
        "pyplot.ylabel(\"frequency count\",fontsize=18)\n",
        "pyplot.rcParams[\"figure.figsize\"] = [30,9]"
      ],
      "execution_count": 155,
      "outputs": [
        {
          "output_type": "display_data",
          "data": {
            "image/png": "[encoded data removed]",
            "text/plain": [
              "<Figure size 2160x648 with 1 Axes>"
            ]
          },
          "metadata": {
            "tags": [],
            "needs_background": "light"
          }
        }
      ]
    },
    {
      "cell_type": "markdown",
      "metadata": {
        "id": "ppc7KeMTbVZV"
      },
      "source": [
        "#Ranking"
      ]
    },
    {
      "cell_type": "markdown",
      "metadata": {
        "id": "HGilrMIhbA7m"
      },
      "source": [
        "**Based on the 3 actvity labels (Jumping, Lying and Standing) here are the rankings**"
      ]
    },
    {
      "cell_type": "markdown",
      "metadata": {
        "id": "Jrj8h1jwbId-"
      },
      "source": [
        "**Highest to Lowest**"
      ]
    },
    {
      "cell_type": "markdown",
      "metadata": {
        "id": "9CpIYhLhbX6n"
      },
      "source": [
        "#**ACC > Light > Magnetic > Microphone > Gyroscope > GPS**\n",
        "\n"
      ]
    }
  ]
}