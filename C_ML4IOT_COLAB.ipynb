{
  "nbformat": 4,
  "nbformat_minor": 0,
  "metadata": {
    "colab": {
      "name": "C ML4IOT_COLAB.ipynb",
      "provenance": [],
      "collapsed_sections": [],
      "machine_shape": "hm",
      "authorship_tag": "ABX9TyNXkoa7nTk59zTQKZEO7ljJ",
      "include_colab_link": true
    },
    "kernelspec": {
      "name": "python3",
      "display_name": "Python 3"
    },
    "accelerator": "TPU"
  },
  "cells": [
    {
      "cell_type": "markdown",
      "metadata": {
        "id": "view-in-github",
        "colab_type": "text"
      },
      "source": [
        "<a href=\"https://colab.research.google.com/github/sdasmaha/Ml_Engineers_445/blob/master/C_ML4IOT_COLAB.ipynb\" target=\"_parent\"><img src=\"https://colab.research.google.com/assets/colab-badge.svg\" alt=\"Open In Colab\"/></a>"
      ]
    },
    {
      "cell_type": "markdown",
      "metadata": {
        "id": "yNwUCBlfrTM2"
      },
      "source": [
        "#Subject Details HAR DATASET\n",
        "* Subject:12\n",
        "*  Gender:Female\n",
        "*  Age:16\n",
        "*  Height:164 cm\n",
        "*  Weight:54 kg\n",
        "*  Occupation: Pupil\n",
        "\n",
        "\n"
      ]
    },
    {
      "cell_type": "code",
      "metadata": {
        "id": "t0r0vQa5K5wr"
      },
      "source": [
        "import pandas as pd\n",
        "import numpy as np\n",
        "import os"
      ],
      "execution_count": 1,
      "outputs": []
    },
    {
      "cell_type": "code",
      "metadata": {
        "id": "R_SV_3gTK-lT",
        "outputId": "57fb960d-dc64-4ba2-efaf-93aa45aba605",
        "colab": {
          "base_uri": "https://localhost:8080/",
          "height": 204
        }
      },
      "source": [
        "!pip install dtw"
      ],
      "execution_count": 2,
      "outputs": [
        {
          "output_type": "stream",
          "text": [
            "Collecting dtw\n",
            "  Downloading https://files.pythonhosted.org/packages/66/a0/21d6ec377b8d5832218700e236205f8cdea38b3b2cdd0a732be170e2809b/dtw-1.4.0.tar.gz\n",
            "Requirement already satisfied: numpy in /usr/local/lib/python3.6/dist-packages (from dtw) (1.18.5)\n",
            "Requirement already satisfied: scipy in /usr/local/lib/python3.6/dist-packages (from dtw) (1.4.1)\n",
            "Building wheels for collected packages: dtw\n",
            "  Building wheel for dtw (setup.py) ... \u001b[?25l\u001b[?25hdone\n",
            "  Created wheel for dtw: filename=dtw-1.4.0-cp36-none-any.whl size=5315 sha256=c63e243c74cac256d4539341318bea49242fb3d3ef331cdae5d506c7c7517594\n",
            "  Stored in directory: /root/.cache/pip/wheels/8c/8b/7a/947d67b53cd54948890a173527b0470ef56998812fc9d0a803\n",
            "Successfully built dtw\n",
            "Installing collected packages: dtw\n",
            "Successfully installed dtw-1.4.0\n"
          ],
          "name": "stdout"
        }
      ]
    },
    {
      "cell_type": "code",
      "metadata": {
        "id": "eMPOc3lJLAlG"
      },
      "source": [
        "from dtw import dtw "
      ],
      "execution_count": 3,
      "outputs": []
    },
    {
      "cell_type": "code",
      "metadata": {
        "id": "akZVDnAELCDU",
        "outputId": "571f08f0-3e8b-40d4-b603-950c4b8a9226",
        "colab": {
          "base_uri": "https://localhost:8080/",
          "height": 34
        }
      },
      "source": [
        "from google.colab import drive\n",
        "drive.mount(\"/content/gdrive\")"
      ],
      "execution_count": 4,
      "outputs": [
        {
          "output_type": "stream",
          "text": [
            "Mounted at /content/gdrive\n"
          ],
          "name": "stdout"
        }
      ]
    },
    {
      "cell_type": "markdown",
      "metadata": {
        "id": "QSjrrpfLcJif"
      },
      "source": [
        "\n",
        "#Acceloremeter"
      ]
    },
    {
      "cell_type": "code",
      "metadata": {
        "id": "5lGdZA0wTiwA"
      },
      "source": [
        "df_acc_jump_chest = pd.read_csv(\"/content/gdrive/My Drive/ML4IOT/Notebook 1/Jumping/acc_jumping_csv/acc_jumping_chest.csv\")\n",
        "df_acc_jump_forearm = pd.read_csv(\"/content/gdrive/My Drive/ML4IOT/Notebook 1/Jumping/acc_jumping_csv/acc_jumping_forearm.csv\")\n",
        "df_acc_jump_head = pd.read_csv(\"/content/gdrive/My Drive/ML4IOT/Notebook 1/Jumping/acc_jumping_csv/acc_jumping_head.csv\")\n",
        "df_acc_jump_shin = pd.read_csv(\"/content/gdrive/My Drive/ML4IOT/Notebook 1/Jumping/acc_jumping_csv/acc_jumping_shin.csv\")\n",
        "df_acc_jump_thigh= pd.read_csv(\"/content/gdrive/My Drive/ML4IOT/Notebook 1/Jumping/acc_jumping_csv/acc_jumping_thigh.csv\")\n",
        "df_acc_jump_upperarm = pd.read_csv(\"/content/gdrive/My Drive/ML4IOT/Notebook 1/Jumping/acc_jumping_csv/acc_jumping_upperarm.csv\")\n",
        "df_acc_jump_waist = pd.read_csv(\"/content/gdrive/My Drive/ML4IOT/Notebook 1/Jumping/acc_jumping_csv/acc_jumping_waist.csv\")\n",
        "\n",
        "df_acc_lye_chest = pd.read_csv(\"/content/gdrive/My Drive/ML4IOT/Notebook 1/Lying/acc_lying_csv/acc_lying_chest.csv\")\n",
        "df_acc_lye_forearm = pd.read_csv(\"/content/gdrive/My Drive/ML4IOT/Notebook 1/Lying/acc_lying_csv/acc_lying_forearm.csv\")\n",
        "df_acc_lye_head = pd.read_csv(\"/content/gdrive/My Drive/ML4IOT/Notebook 1/Lying/acc_lying_csv/acc_lying_head.csv\")\n",
        "df_acc_lye_shin = pd.read_csv(\"/content/gdrive/My Drive/ML4IOT/Notebook 1/Lying/acc_lying_csv/acc_lying_shin.csv\")\n",
        "df_acc_lye_thigh = pd.read_csv(\"/content/gdrive/My Drive/ML4IOT/Notebook 1/Lying/acc_lying_csv/acc_lying_thigh.csv\")\n",
        "df_acc_lye_upperarm = pd.read_csv(\"/content/gdrive/My Drive/ML4IOT/Notebook 1/Lying/acc_lying_csv/acc_lying_upperarm.csv\")\n",
        "df_acc_lye_waist = pd.read_csv(\"/content/gdrive/My Drive/ML4IOT/Notebook 1/Lying/acc_lying_csv/acc_lying_waist.csv\")\n",
        "\n",
        "df_acc_stand_chest = pd.read_csv(\"/content/gdrive/My Drive/ML4IOT/Notebook 1/Standing/acc_standing_csv/acc_standing_chest.csv\")\n",
        "df_acc_stand_forearm = pd.read_csv(\"/content/gdrive/My Drive/ML4IOT/Notebook 1/Standing/acc_standing_csv/acc_standing_forearm.csv\")\n",
        "df_acc_stand_head = pd.read_csv(\"/content/gdrive/My Drive/ML4IOT/Notebook 1/Standing/acc_standing_csv/acc_standing_head.csv\")\n",
        "df_acc_stand_shin = pd.read_csv(\"/content/gdrive/My Drive/ML4IOT/Notebook 1/Standing/acc_standing_csv/acc_standing_shin.csv\")\n",
        "df_acc_stand_thigh = pd.read_csv(\"/content/gdrive/My Drive/ML4IOT/Notebook 1/Standing/acc_standing_csv/acc_standing_upperarm.csv\")\n",
        "df_acc_stand_upperarm = pd.read_csv(\"/content/gdrive/My Drive/ML4IOT/Notebook 1/Standing/acc_standing_csv/acc_standing_upperarm.csv\")\n",
        "df_acc_stand_waist = pd.read_csv(\"/content/gdrive/My Drive/ML4IOT/Notebook 1/Standing/acc_standing_csv/acc_standing_waist.csv\")\n",
        " "
      ],
      "execution_count": null,
      "outputs": []
    },
    {
      "cell_type": "code",
      "metadata": {
        "id": "QvnnvfKWLMip"
      },
      "source": [
        "df_acc_jump_chest = df_acc_jump_chest[['attr_x', 'attr_y', 'attr_z']].values[0:999,:]\n",
        "df_acc_jump_forearm = df_acc_jump_forearm[['attr_x', 'attr_y', 'attr_z']].values[0:999,:]\n",
        "df_acc_jump_head = df_acc_jump_head[['attr_x', 'attr_y', 'attr_z']].values[0:999,:]\n",
        "df_acc_jump_shin = df_acc_jump_shin[['attr_x', 'attr_y', 'attr_z']].values[0:999,:]\n",
        "df_acc_jump_thigh = df_acc_jump_thigh[['attr_x', 'attr_y', 'attr_z']].values[0:999,:]\n",
        "df_acc_jump_upperarm = df_acc_jump_upperarm[['attr_x', 'attr_y', 'attr_z']].values[0:999,:]\n",
        "df_acc_jump_waist = df_acc_jump_waist[['attr_x', 'attr_y', 'attr_z']].values[0:999,:]\n",
        "df_acc_lye_chest = df_acc_lye_chest[['attr_x', 'attr_y', 'attr_z']].values[0:999,:]\n",
        "df_acc_lye_forearm = df_acc_lye_forearm[['attr_x', 'attr_y', 'attr_z']].values[0:999,:]\n",
        "df_acc_lye_head = df_acc_lye_head[['attr_x', 'attr_y', 'attr_z']].values[0:999,:]\n",
        "df_acc_lye_shin = df_acc_lye_shin[['attr_x', 'attr_y', 'attr_z']].values[0:999,:]\n",
        "df_acc_lye_thigh = df_acc_lye_thigh[['attr_x', 'attr_y', 'attr_z']].values[0:999,:]\n",
        "df_acc_lye_upperarm = df_acc_lye_upperarm[['attr_x', 'attr_y', 'attr_z']].values[0:999,:]\n",
        "df_acc_lye_waist = df_acc_lye_waist[['attr_x', 'attr_y', 'attr_z']].values[0:999,:]\n",
        "df_acc_stand_chest = df_acc_stand_chest[['attr_x', 'attr_y', 'attr_z']].values[0:999,:]\n",
        "df_acc_stand_forearm = df_acc_stand_forearm[['attr_x', 'attr_y', 'attr_z']].values[0:999,:]\n",
        "df_acc_stand_head = df_acc_stand_head[['attr_x', 'attr_y', 'attr_z']].values[0:999,:]\n",
        "df_acc_stand_shin = df_acc_stand_shin[['attr_x', 'attr_y', 'attr_z']].values[0:999,:]\n",
        "df_acc_stand_thigh = df_acc_stand_thigh[['attr_x', 'attr_y', 'attr_z']].values[0:999,:]\n",
        "df_acc_stand_upperarm = df_acc_stand_upperarm[['attr_x', 'attr_y', 'attr_z']].values[0:999,:]\n",
        "df_acc_stand_waist = df_acc_stand_waist[['attr_x', 'attr_y', 'attr_z']].values[0:999,:]\n",
        "\n"
      ],
      "execution_count": null,
      "outputs": []
    },
    {
      "cell_type": "code",
      "metadata": {
        "id": "UUaEP2mnjddU"
      },
      "source": [
        "acc_jump = [df_acc_jump_chest,df_acc_jump_forearm,df_acc_jump_head,df_acc_jump_shin,df_acc_jump_thigh,df_acc_jump_upperarm,df_acc_jump_waist]\n",
        "acc_lye = [df_acc_lye_chest,df_acc_lye_forearm ,df_acc_lye_head,df_acc_lye_shin,df_acc_lye_thigh,df_acc_lye_upperarm,df_acc_lye_waist]\n",
        "acc_stand = [df_acc_stand_chest,df_acc_stand_forearm ,df_acc_stand_head,df_acc_stand_shin,df_acc_stand_thigh,df_acc_stand_upperarm,df_acc_stand_waist]"
      ],
      "execution_count": null,
      "outputs": []
    },
    {
      "cell_type": "code",
      "metadata": {
        "id": "X9-szPPHLWN8",
        "outputId": "de987da2-f89a-48e8-9ab0-372a6870eed7",
        "colab": {
          "base_uri": "https://localhost:8080/",
          "height": 306
        }
      },
      "source": [
        "results = []\n",
        "for i in acc_jump:\n",
        "  for j in acc_jump:\n",
        "    euclidean_distance =  lambda i,j: np.linalg.norm(i-j)\n",
        "    d, cost_matrix, acc_cost_matrix, path = dtw(i, j, dist = euclidean_distance)\n",
        "    results.append(d)\n",
        "\n",
        "np.hstack(results)"
      ],
      "execution_count": null,
      "outputs": [
        {
          "output_type": "execute_result",
          "data": {
            "text/plain": [
              "array([    0.        , 14829.15491897, 12986.42782376,  7708.46421049,\n",
              "        4076.84240386,  3977.11243373, 13250.36862331, 10983.17121063,\n",
              "       14892.54574511, 14299.77810531, 10760.00334833, 11289.04306081,\n",
              "       10722.38032688, 14520.56983296, 14829.15491897,     0.        ,\n",
              "           0.        , 14829.15491897, 12986.42782376,  7708.46421049,\n",
              "        4076.84240386,  3977.11243373, 13250.36862331, 14829.15491897,\n",
              "           0.        ,  7118.26461695, 18231.69102728, 15130.71907549,\n",
              "       15712.80605172, 15116.1820829 , 12986.42782376,  7118.26461695,\n",
              "           0.        , 16242.84478079, 12389.5922458 , 13028.63271817,\n",
              "       14231.19211889,  7708.46421049, 18231.69102728, 16242.84478079,\n",
              "           0.        ,  9044.31104928,  8114.73716577, 13453.91952204,\n",
              "        4076.84240386, 15130.71907549, 12389.5922458 ,  9044.31104928,\n",
              "           0.        ,  4089.15431973, 14362.97202891,  3977.11243373,\n",
              "       15712.80605172, 13028.63271817,  8114.73716577,  4089.15431973,\n",
              "           0.        , 13599.61402047, 13250.36862331, 15116.1820829 ,\n",
              "       14231.19211889, 13453.91952204, 14362.97202891, 13599.61402047,\n",
              "           0.        ])"
            ]
          },
          "metadata": {
            "tags": []
          },
          "execution_count": 12
        }
      ]
    },
    {
      "cell_type": "markdown",
      "metadata": {
        "id": "zzmysLjwT-Ml"
      },
      "source": [
        "**Acc Jump**"
      ]
    },
    {
      "cell_type": "markdown",
      "metadata": {
        "id": "obSAMYcIUDRl"
      },
      "source": [
        "**Acc Lye**"
      ]
    },
    {
      "cell_type": "code",
      "metadata": {
        "id": "8TVmpLGNLTnu",
        "outputId": "a2cb525b-153a-4d8e-cd4b-c0b4cc23cb4a",
        "colab": {
          "base_uri": "https://localhost:8080/",
          "height": 238
        }
      },
      "source": [
        "results1 = []\n",
        "for i in acc_lye:\n",
        "  for j in acc_lye:\n",
        "    euclidean_distance =  lambda i,j: np.linalg.norm(i-j)\n",
        "    d, cost_matrix, acc_cost_matrix, path = dtw(i, j, dist = euclidean_distance)\n",
        "    results1.append(d)\n",
        "\n",
        "np.hstack(results1)\n"
      ],
      "execution_count": null,
      "outputs": [
        {
          "output_type": "execute_result",
          "data": {
            "text/plain": [
              "array([    0.        , 15470.15069445,  9635.83886849, 10975.85176031,\n",
              "        3103.85770831,  7033.99649456,  9117.51836155, 15470.15069445,\n",
              "           0.        , 13666.20012   , 18043.50200591, 14005.59348752,\n",
              "       17610.54798477, 12355.45566421,  9635.83886849, 13666.20012   ,\n",
              "           0.        , 11954.82799191,  8837.85382706,  7308.71788802,\n",
              "       14980.02634949, 10975.85176031, 18043.50200591, 11954.82799191,\n",
              "           0.        , 11635.57755591,  7099.3992894 , 16703.00187272,\n",
              "        3103.85770831, 14005.59348752,  8837.85382706, 11635.57755591,\n",
              "           0.        ,  7321.51868871,  8544.0977147 ,  7033.99649456,\n",
              "       17610.54798477,  7308.71788802,  7099.3992894 ,  7321.51868871,\n",
              "           0.        , 14692.71693826,  9117.51836155, 12355.45566421,\n",
              "       14980.02634949, 16703.00187272,  8544.0977147 , 14692.71693826,\n",
              "           0.        ])"
            ]
          },
          "metadata": {
            "tags": []
          },
          "execution_count": 19
        }
      ]
    },
    {
      "cell_type": "code",
      "metadata": {
        "id": "P9pkk61DAMgY"
      },
      "source": [
        "dtw_acc_jump = ([    0.        , 14829.15491897, 12986.42782376,  7708.46421049,\n",
        "        4076.84240386,  3977.11243373, 13250.36862331, 10983.17121063,\n",
        "       14892.54574511, 14299.77810531, 10760.00334833, 11289.04306081,\n",
        "       10722.38032688, 14520.56983296, 14829.15491897,     0.        ,\n",
        "           0.        , 14829.15491897, 12986.42782376,  7708.46421049,\n",
        "        4076.84240386,  3977.11243373, 13250.36862331, 14829.15491897,\n",
        "           0.        ,  7118.26461695, 18231.69102728, 15130.71907549,\n",
        "       15712.80605172, 15116.1820829 , 12986.42782376,  7118.26461695,\n",
        "           0.        , 16242.84478079, 12389.5922458 , 13028.63271817,\n",
        "       14231.19211889,  7708.46421049, 18231.69102728, 16242.84478079,\n",
        "           0.        ,  9044.31104928,  8114.73716577, 13453.91952204,\n",
        "        4076.84240386, 15130.71907549, 12389.5922458 ,  9044.31104928,\n",
        "           0.        ,  4089.15431973, 14362.97202891,  3977.11243373,\n",
        "       15712.80605172, 13028.63271817,  8114.73716577,  4089.15431973,\n",
        "           0.        , 13599.61402047, 13250.36862331, 15116.1820829 ,\n",
        "       14231.19211889, 13453.91952204, 14362.97202891, 13599.61402047,\n",
        "           0.        ])"
      ],
      "execution_count": 34,
      "outputs": []
    },
    {
      "cell_type": "code",
      "metadata": {
        "id": "w4OTZ8RfAQRa"
      },
      "source": [
        "dtw_acc_lye = ([    0.        , 15470.15069445,  9635.83886849, 10975.85176031,\n",
        "        3103.85770831,  7033.99649456,  9117.51836155, 15470.15069445,\n",
        "           0.        , 13666.20012   , 18043.50200591, 14005.59348752,\n",
        "       17610.54798477, 12355.45566421,  9635.83886849, 13666.20012   ,\n",
        "           0.        , 11954.82799191,  8837.85382706,  7308.71788802,\n",
        "       14980.02634949, 10975.85176031, 18043.50200591, 11954.82799191,\n",
        "           0.        , 11635.57755591,  7099.3992894 , 16703.00187272,\n",
        "        3103.85770831, 14005.59348752,  8837.85382706, 11635.57755591,\n",
        "           0.        ,  7321.51868871,  8544.0977147 ,  7033.99649456,\n",
        "       17610.54798477,  7308.71788802,  7099.3992894 ,  7321.51868871,\n",
        "           0.        , 14692.71693826,  9117.51836155, 12355.45566421,\n",
        "       14980.02634949, 16703.00187272,  8544.0977147 , 14692.71693826,\n",
        "           0.        ])"
      ],
      "execution_count": 32,
      "outputs": []
    },
    {
      "cell_type": "code",
      "metadata": {
        "id": "HxwlZsTuVQQF"
      },
      "source": [
        "dtw_acc_stand = ([    0.        , 16569.97633088, 13925.13694733,  3157.52408422,\n",
        "        1975.92219426,  1975.92219426, 12691.39775829, 16569.97633088,\n",
        "           0.        ,  4110.09703947, 15270.06995945, 15848.77288845,\n",
        "       15848.77288845, 19558.651424  , 13925.13694733,  4110.09703947,\n",
        "           0.        , 12534.19506047, 12809.44720526, 12809.44720526,\n",
        "       19299.65087072,  3157.52408422, 15270.06995945, 12534.19506047,\n",
        "           0.        ,  2449.11175123,  2449.11175123, 14920.08833654,\n",
        "        1975.92219426, 15848.77288845, 12809.44720526,  2449.11175123,\n",
        "           0.        ,     0.        , 14296.094205  ,  1975.92219426,\n",
        "       15848.77288845, 12809.44720526,  2449.11175123,     0.        ,\n",
        "           0.        , 14296.094205  , 12691.39775829, 19558.651424  ,\n",
        "       19299.65087072, 14920.08833654, 14296.094205  , 14296.094205  ,\n",
        "           0.        ])"
      ],
      "execution_count": 35,
      "outputs": []
    },
    {
      "cell_type": "markdown",
      "metadata": {
        "id": "LzMDgHdDUHHg"
      },
      "source": [
        "**Acc Stand**"
      ]
    },
    {
      "cell_type": "code",
      "metadata": {
        "id": "wNY1bBOjkAQZ",
        "outputId": "978f6b8e-c1f8-4607-979f-b5dc17cd3525",
        "colab": {
          "base_uri": "https://localhost:8080/",
          "height": 238
        }
      },
      "source": [
        "results3 = []\n",
        "for i in acc_stand:\n",
        "  for j in acc_stand:\n",
        "    euclidean_distance =  lambda i,j: np.linalg.norm(i-j)\n",
        "    d, cost_matrix, acc_cost_matrix, path = dtw(i, j, dist = euclidean_distance)\n",
        "    results3.append(d)\n",
        "\n",
        "np.hstack(results3)"
      ],
      "execution_count": null,
      "outputs": [
        {
          "output_type": "execute_result",
          "data": {
            "text/plain": [
              "array([    0.        , 16569.97633088, 13925.13694733,  3157.52408422,\n",
              "        1975.92219426,  1975.92219426, 12691.39775829, 16569.97633088,\n",
              "           0.        ,  4110.09703947, 15270.06995945, 15848.77288845,\n",
              "       15848.77288845, 19558.651424  , 13925.13694733,  4110.09703947,\n",
              "           0.        , 12534.19506047, 12809.44720526, 12809.44720526,\n",
              "       19299.65087072,  3157.52408422, 15270.06995945, 12534.19506047,\n",
              "           0.        ,  2449.11175123,  2449.11175123, 14920.08833654,\n",
              "        1975.92219426, 15848.77288845, 12809.44720526,  2449.11175123,\n",
              "           0.        ,     0.        , 14296.094205  ,  1975.92219426,\n",
              "       15848.77288845, 12809.44720526,  2449.11175123,     0.        ,\n",
              "           0.        , 14296.094205  , 12691.39775829, 19558.651424  ,\n",
              "       19299.65087072, 14920.08833654, 14296.094205  , 14296.094205  ,\n",
              "           0.        ])"
            ]
          },
          "metadata": {
            "tags": []
          },
          "execution_count": 10
        }
      ]
    },
    {
      "cell_type": "code",
      "metadata": {
        "id": "YB97xPXkTmjd"
      },
      "source": [
        "array([    0.        , 16569.97633088, 13925.13694733,  3157.52408422,\n",
        "        1975.92219426,  1975.92219426, 12691.39775829, 16569.97633088,\n",
        "           0.        ,  4110.09703947, 15270.06995945, 15848.77288845,\n",
        "       15848.77288845, 19558.651424  , 13925.13694733,  4110.09703947,\n",
        "           0.        , 12534.19506047, 12809.44720526, 12809.44720526,\n",
        "       19299.65087072,  3157.52408422, 15270.06995945, 12534.19506047,\n",
        "           0.        ,  2449.11175123,  2449.11175123, 14920.08833654,\n",
        "        1975.92219426, 15848.77288845, 12809.44720526,  2449.11175123,\n",
        "           0.        ,     0.        , 14296.094205  ,  1975.92219426,\n",
        "       15848.77288845, 12809.44720526,  2449.11175123,     0.        ,\n",
        "           0.        , 14296.094205  , 12691.39775829, 19558.651424  ,\n",
        "       19299.65087072, 14920.08833654, 14296.094205  , 14296.094205  ,\n",
        "           0.        ])"
      ],
      "execution_count": null,
      "outputs": []
    },
    {
      "cell_type": "markdown",
      "metadata": {
        "id": "vt34mv8WULwv"
      },
      "source": [
        "#GPS"
      ]
    },
    {
      "cell_type": "code",
      "metadata": {
        "id": "mUMMmzynYst7"
      },
      "source": [
        "df_gps_jump_chest = pd.read_csv(\"/content/gdrive/My Drive/ML4IOT/Notebook 1/Jumping/gps_jumping_csv/GPS_jumping_chest.csv\")\n",
        "df_gps_jump_head = pd.read_csv(\"/content/gdrive/My Drive/ML4IOT/Notebook 1/Jumping/gps_jumping_csv/GPS_jumping_head.csv\")\n",
        "df_gps_jump_shin = pd.read_csv(\"/content/gdrive/My Drive/ML4IOT/Notebook 1/Jumping/gps_jumping_csv/GPS_jumping_shin.csv\")\n",
        "df_gps_jump_thigh = pd.read_csv(\"/content/gdrive/My Drive/ML4IOT/Notebook 1/Jumping/gps_jumping_csv/GPS_jumping_thigh.csv\")\n",
        "df_gps_jump_upperarm = pd.read_csv(\"/content/gdrive/My Drive/ML4IOT/Notebook 1/Jumping/gps_jumping_csv/GPS_jumping_upperarm.csv\")\n",
        "df_gps_jump_waist = pd.read_csv(\"/content/gdrive/My Drive/ML4IOT/Notebook 1/Jumping/gps_jumping_csv/GPS_jumping_waist.csv\")\n",
        "df_gps_lye_chest = pd.read_csv(\"/content/gdrive/My Drive/ML4IOT/Notebook 1/Lying/gps_lying_csv/GPS_lying_chest.csv\")\n",
        "df_gps_lye_head = pd.read_csv(\"/content/gdrive/My Drive/ML4IOT/Notebook 1/Lying/gps_lying_csv/GPS_lying_head.csv\")\n",
        "df_gps_lye_shin = pd.read_csv(\"/content/gdrive/My Drive/ML4IOT/Notebook 1/Lying/gps_lying_csv/GPS_lying_shin.csv\")\n",
        "df_gps_lye_thigh = pd.read_csv(\"/content/gdrive/My Drive/ML4IOT/Notebook 1/Lying/gps_lying_csv/GPS_lying_thigh.csv\")\n",
        "df_gps_lye_upperarm = pd.read_csv(\"/content/gdrive/My Drive/ML4IOT/Notebook 1/Lying/gps_lying_csv/GPS_lying_upperarm.csv\")\n",
        "df_gps_lye_waist = pd.read_csv(\"/content/gdrive/My Drive/ML4IOT/Notebook 1/Lying/gps_lying_csv/GPS_lying_waist.csv\")\n",
        "df_gps_stand_chest = pd.read_csv(\"/content/gdrive/My Drive/ML4IOT/Notebook 1/Standing/gps_standing_csv/GPS_standing_chest.csv\")\n",
        "df_gps_stand_head = pd.read_csv(\"/content/gdrive/My Drive/ML4IOT/Notebook 1/Standing/gps_standing_csv/GPS_standing_head.csv\")\n",
        "df_gps_stand_shin = pd.read_csv(\"/content/gdrive/My Drive/ML4IOT/Notebook 1/Standing/gps_standing_csv/GPS_standing_shin.csv\")\n",
        "df_gps_stand_thigh = pd.read_csv(\"/content/gdrive/My Drive/ML4IOT/Notebook 1/Standing/gps_standing_csv/GPS_standing_thigh.csv\")\n",
        "df_gps_stand_upperarm = pd.read_csv(\"/content/gdrive/My Drive/ML4IOT/Notebook 1/Standing/gps_standing_csv/GPS_standing_upperarm.csv\")\n",
        "df_gps_stand_waist = pd.read_csv(\"/content/gdrive/My Drive/ML4IOT/Notebook 1/Standing/gps_standing_csv/GPS_standing_waist.csv\")"
      ],
      "execution_count": 5,
      "outputs": []
    },
    {
      "cell_type": "code",
      "metadata": {
        "id": "5K6nQHo7V8sD"
      },
      "source": [
        "df_gps_jump_chest = df_gps_jump_chest[['attr_lat', 'attr_lng']].values[0:999,:]\n",
        "df_gps_jump_head = df_gps_jump_head[['attr_lat', 'attr_lng']].values[0:999,:]\n",
        "df_gps_jump_shin = df_gps_jump_shin[['attr_lat', 'attr_lng']].values[0:999,:]\n",
        "df_gps_jump_thigh = df_gps_jump_thigh[['attr_lat', 'attr_lng']].values[0:999,:]\n",
        "df_gps_jump_upperarm = df_gps_jump_upperarm[['attr_lat', 'attr_lng']].values[0:999,:]\n",
        "df_gps_jump_waist = df_gps_jump_waist[['attr_lat', 'attr_lng']].values[0:999,:]\n",
        "df_gps_lye_chest = df_gps_lye_chest[['attr_lat', 'attr_lng']].values[0:999,:]\n",
        "df_gps_lye_head = df_gps_lye_head[['attr_lat', 'attr_lng']].values[0:999,:]\n",
        "df_gps_lye_shin = df_gps_lye_shin[['attr_lat', 'attr_lng']].values[0:999,:]\n",
        "df_gps_lye_thigh = df_gps_lye_thigh[['attr_lat', 'attr_lng']].values[0:999,:]\n",
        "df_gps_lye_upperarm = df_gps_lye_upperarm[['attr_lat', 'attr_lng']].values[0:999,:]\n",
        "df_gps_lye_waist = df_gps_lye_waist[['attr_lat', 'attr_lng']].values[0:999,:]\n",
        "df_gps_stand_chest = df_gps_stand_chest[['attr_lat', 'attr_lng']].values[0:999,:]\n",
        "df_gps_stand_head = df_gps_stand_head[['attr_lat', 'attr_lng']].values[0:999,:]\n",
        "df_gps_stand_shin = df_gps_stand_shin[['attr_lat', 'attr_lng']].values[0:999,:]\n",
        "df_gps_stand_thigh = df_gps_stand_thigh[['attr_lat', 'attr_lng']].values[0:999,:]\n",
        "df_gps_stand_upperarm = df_gps_stand_upperarm[['attr_lat', 'attr_lng']].values[0:999,:]\n",
        "df_gps_stand_waist = df_gps_stand_waist[['attr_lat', 'attr_lng']].values[0:999,:]"
      ],
      "execution_count": 6,
      "outputs": []
    },
    {
      "cell_type": "code",
      "metadata": {
        "id": "B_UEMJ8WagyJ"
      },
      "source": [
        "gps_jump = [df_gps_jump_chest,\n",
        "df_gps_jump_head,\n",
        "df_gps_jump_shin,\n",
        "df_gps_jump_thigh,\n",
        "df_gps_jump_upperarm,\n",
        "df_gps_jump_waist]\n",
        "gps_lye = [df_gps_lye_chest,\n",
        "df_gps_lye_head,\n",
        "df_gps_lye_shin,\n",
        "df_gps_lye_thigh,\n",
        "df_gps_lye_upperarm,\n",
        "df_gps_lye_waist]\n",
        "gps_stand = [df_gps_stand_chest,\n",
        "df_gps_stand_head,\n",
        "df_gps_stand_shin,\n",
        "df_gps_stand_thigh,\n",
        "df_gps_stand_upperarm,\n",
        "df_gps_stand_waist]"
      ],
      "execution_count": 7,
      "outputs": []
    },
    {
      "cell_type": "markdown",
      "metadata": {
        "id": "OkeUD0YYf7Qx"
      },
      "source": [
        "*gps jump*"
      ]
    },
    {
      "cell_type": "code",
      "metadata": {
        "id": "EyanxiL6TqC1",
        "outputId": "1de91c91-76e8-4c0b-f06f-901e3228a46c",
        "colab": {
          "base_uri": "https://localhost:8080/",
          "height": 153
        }
      },
      "source": [
        "results4 = []\n",
        "for i in gps_jump:\n",
        "  for j in gps_jump:\n",
        "    euclidean_distance =  lambda i,j: np.linalg.norm(i-j)\n",
        "    d, cost_matrix, acc_cost_matrix, path = dtw(i, j, dist = euclidean_distance)\n",
        "    results4.append(d)\n",
        "\n",
        "np.hstack(results4)"
      ],
      "execution_count": 8,
      "outputs": [
        {
          "output_type": "execute_result",
          "data": {
            "text/plain": [
              "array([0.        , 0.00075855, 0.00242251, 0.00148687, 0.00128873,\n",
              "       0.00225688, 0.00075855, 0.        , 0.00258669, 0.00123978,\n",
              "       0.00178962, 0.00148676, 0.00242251, 0.00258669, 0.        ,\n",
              "       0.00319761, 0.00137867, 0.00335171, 0.00148687, 0.00123978,\n",
              "       0.00319761, 0.        , 0.00235259, 0.00079414, 0.00128873,\n",
              "       0.00178962, 0.00137867, 0.00235259, 0.        , 0.00277712,\n",
              "       0.00225688, 0.00148676, 0.00335171, 0.00079414, 0.00277712,\n",
              "       0.        ])"
            ]
          },
          "metadata": {
            "tags": []
          },
          "execution_count": 8
        }
      ]
    },
    {
      "cell_type": "code",
      "metadata": {
        "id": "zVkT6TcSULbr"
      },
      "source": [
        "array([0.        , 0.00075855, 0.00242251, 0.00148687, 0.00128873,\n",
        "       0.00225688, 0.00075855, 0.        , 0.00258669, 0.00123978,\n",
        "       0.00178962, 0.00148676, 0.00242251, 0.00258669, 0.        ,\n",
        "       0.00319761, 0.00137867, 0.00335171, 0.00148687, 0.00123978,\n",
        "       0.00319761, 0.        , 0.00235259, 0.00079414, 0.00128873,\n",
        "       0.00178962, 0.00137867, 0.00235259, 0.        , 0.00277712,\n",
        "       0.00225688, 0.00148676, 0.00335171, 0.00079414, 0.00277712,\n",
        "       0.        ])"
      ],
      "execution_count": null,
      "outputs": []
    },
    {
      "cell_type": "code",
      "metadata": {
        "id": "BmDdPksKgCTo",
        "outputId": "dfbcd840-bc7e-450e-a5ac-f38b52421552",
        "colab": {
          "base_uri": "https://localhost:8080/",
          "height": 170
        }
      },
      "source": [
        "results5 = []\n",
        "for i in gps_lye:\n",
        "  for j in gps_lye:\n",
        "    euclidean_distance =  lambda i,j: np.linalg.norm(i-j)\n",
        "    d, cost_matrix, acc_cost_matrix, path = dtw(i, j, dist = euclidean_distance)\n",
        "    results5.append(d)\n",
        "\n",
        "np.hstack(results5)"
      ],
      "execution_count": 9,
      "outputs": [
        {
          "output_type": "execute_result",
          "data": {
            "text/plain": [
              "array([0.00000000e+00, 9.39927465e-03, 2.36757244e-04, 9.45357958e-05,\n",
              "       4.08372149e-04, 4.28114564e-04, 9.39927465e-03, 0.00000000e+00,\n",
              "       9.21818637e-03, 9.37042825e-03, 9.02881663e-03, 9.00038468e-03,\n",
              "       2.36757244e-04, 9.21818637e-03, 0.00000000e+00, 2.37634712e-04,\n",
              "       1.91183383e-04, 3.56466489e-04, 9.45357958e-05, 9.37042825e-03,\n",
              "       2.37634712e-04, 0.00000000e+00, 3.95494020e-04, 4.29875892e-04,\n",
              "       4.08372149e-04, 9.02881663e-03, 1.91183383e-04, 3.95494020e-04,\n",
              "       0.00000000e+00, 1.78271220e-04, 4.28114564e-04, 9.00038468e-03,\n",
              "       3.56466489e-04, 4.29875892e-04, 1.78271220e-04, 0.00000000e+00])"
            ]
          },
          "metadata": {
            "tags": []
          },
          "execution_count": 9
        }
      ]
    },
    {
      "cell_type": "code",
      "metadata": {
        "id": "wxF_Y9M_gNqv"
      },
      "source": [
        "array([0.00000000e+00, 9.39927465e-03, 2.36757244e-04, 9.45357958e-05,\n",
        "       4.08372149e-04, 4.28114564e-04, 9.39927465e-03, 0.00000000e+00,\n",
        "       9.21818637e-03, 9.37042825e-03, 9.02881663e-03, 9.00038468e-03,\n",
        "       2.36757244e-04, 9.21818637e-03, 0.00000000e+00, 2.37634712e-04,\n",
        "       1.91183383e-04, 3.56466489e-04, 9.45357958e-05, 9.37042825e-03,\n",
        "       2.37634712e-04, 0.00000000e+00, 3.95494020e-04, 4.29875892e-04,\n",
        "       4.08372149e-04, 9.02881663e-03, 1.91183383e-04, 3.95494020e-04,\n",
        "       0.00000000e+00, 1.78271220e-04, 4.28114564e-04, 9.00038468e-03,\n",
        "       3.56466489e-04, 4.29875892e-04, 1.78271220e-04, 0.00000000e+00])"
      ],
      "execution_count": null,
      "outputs": []
    },
    {
      "cell_type": "code",
      "metadata": {
        "id": "H5yzvEqOgqmH",
        "outputId": "cb028bd6-28e9-423c-ad6e-a4f94684e3cd",
        "colab": {
          "base_uri": "https://localhost:8080/",
          "height": 153
        }
      },
      "source": [
        "results6 = []\n",
        "for i in gps_stand:\n",
        "  for j in gps_stand:\n",
        "    euclidean_distance =  lambda i,j: np.linalg.norm(i-j)\n",
        "    d, cost_matrix, acc_cost_matrix, path = dtw(i, j, dist = euclidean_distance)\n",
        "    results6.append(d)\n",
        "\n",
        "np.hstack(results6)"
      ],
      "execution_count": 10,
      "outputs": [
        {
          "output_type": "execute_result",
          "data": {
            "text/plain": [
              "array([0.        , 0.00585401, 0.00555214, 0.00733219, 0.00737638,\n",
              "       0.01268741, 0.00585401, 0.        , 0.00413158, 0.00862214,\n",
              "       0.01055736, 0.00899989, 0.00555214, 0.00413158, 0.        ,\n",
              "       0.003385  , 0.0056079 , 0.00727778, 0.00733219, 0.00862214,\n",
              "       0.003385  , 0.        , 0.00497078, 0.01207812, 0.00737638,\n",
              "       0.01055736, 0.0056079 , 0.00497078, 0.        , 0.01374157,\n",
              "       0.01268741, 0.00899989, 0.00727778, 0.01207812, 0.01374157,\n",
              "       0.        ])"
            ]
          },
          "metadata": {
            "tags": []
          },
          "execution_count": 10
        }
      ]
    },
    {
      "cell_type": "code",
      "metadata": {
        "id": "z2vOk-0ag0Si"
      },
      "source": [
        "array([0.        , 0.00585401, 0.00555214, 0.00733219, 0.00737638,\n",
        "       0.01268741, 0.00585401, 0.        , 0.00413158, 0.00862214,\n",
        "       0.01055736, 0.00899989, 0.00555214, 0.00413158, 0.        ,\n",
        "       0.003385  , 0.0056079 , 0.00727778, 0.00733219, 0.00862214,\n",
        "       0.003385  , 0.        , 0.00497078, 0.01207812, 0.00737638,\n",
        "       0.01055736, 0.0056079 , 0.00497078, 0.        , 0.01374157,\n",
        "       0.01268741, 0.00899989, 0.00727778, 0.01207812, 0.01374157,\n",
        "       0.        ])"
      ],
      "execution_count": null,
      "outputs": []
    },
    {
      "cell_type": "markdown",
      "metadata": {
        "id": "8GLsr-xmg4gM"
      },
      "source": [
        "#Gyroscope"
      ]
    },
    {
      "cell_type": "code",
      "metadata": {
        "id": "bCj7lZkJhITb"
      },
      "source": [
        "df_gyr_jump_chest = pd.read_csv(\"/content/gdrive/My Drive/ML4IOT/Notebook 1/Jumping/gyr_jumping_csv/Gyroscope_jumping_chest.csv\")\n",
        "df_gyr_jump_forearm = pd.read_csv(\"/content/gdrive/My Drive/ML4IOT/Notebook 1/Jumping/gyr_jumping_csv/Gyroscope_jumping_forearm.csv\")\n",
        "df_gyr_jump_head = pd.read_csv(\"/content/gdrive/My Drive/ML4IOT/Notebook 1/Jumping/gyr_jumping_csv/Gyroscope_jumping_head.csv\")\n",
        "df_gyr_jump_shin = pd.read_csv(\"/content/gdrive/My Drive/ML4IOT/Notebook 1/Jumping/gyr_jumping_csv/Gyroscope_jumping_shin.csv\")\n",
        "df_gyr_jump_thigh = pd.read_csv(\"/content/gdrive/My Drive/ML4IOT/Notebook 1/Jumping/gyr_jumping_csv/Gyroscope_jumping_thigh.csv\")\n",
        "df_gyr_jump_upperarm = pd.read_csv(\"/content/gdrive/My Drive/ML4IOT/Notebook 1/Jumping/gyr_jumping_csv/Gyroscope_jumping_upperarm.csv\")\n",
        "df_gyr_jump_waist = pd.read_csv(\"/content/gdrive/My Drive/ML4IOT/Notebook 1/Jumping/gyr_jumping_csv/Gyroscope_jumping_waist.csv\")\n",
        "\n",
        "df_gyr_lye_chest = pd.read_csv(\"/content/gdrive/My Drive/ML4IOT/Notebook 1/Lying/gyr_lying_csv/Gyroscope_lying_chest.csv\")\n",
        "df_gyr_lye_forearm = pd.read_csv(\"/content/gdrive/My Drive/ML4IOT/Notebook 1/Lying/gyr_lying_csv/Gyroscope_lying_forearm.csv\")\n",
        "df_gyr_lye_head = pd.read_csv(\"/content/gdrive/My Drive/ML4IOT/Notebook 1/Lying/gyr_lying_csv/Gyroscope_lying_head.csv\")\n",
        "df_gyr_lye_shin = pd.read_csv(\"/content/gdrive/My Drive/ML4IOT/Notebook 1/Lying/gyr_lying_csv/Gyroscope_lying_shin.csv\")\n",
        "df_gyr_lye_thigh = pd.read_csv(\"/content/gdrive/My Drive/ML4IOT/Notebook 1/Lying/gyr_lying_csv/Gyroscope_lying_thigh.csv\")\n",
        "df_gyr_lye_upperarm = pd.read_csv(\"/content/gdrive/My Drive/ML4IOT/Notebook 1/Lying/gyr_lying_csv/Gyroscope_lying_upperarm.csv\")\n",
        "df_gyr_lye_waist = pd.read_csv(\"/content/gdrive/My Drive/ML4IOT/Notebook 1/Lying/gyr_lying_csv/Gyroscope_lying_waist.csv\")\n",
        "\n",
        "df_gyr_stand_chest = pd.read_csv(\"/content/gdrive/My Drive/ML4IOT/Notebook 1/Standing/gyr_standing_csv/Gyroscope_standing_chest.csv\")\n",
        "df_gyr_stand_forearm = pd.read_csv(\"/content/gdrive/My Drive/ML4IOT/Notebook 1/Standing/gyr_standing_csv/Gyroscope_standing_forearm.csv\")\n",
        "df_gyr_stand_head = pd.read_csv(\"/content/gdrive/My Drive/ML4IOT/Notebook 1/Standing/gyr_standing_csv/Gyroscope_standing_head.csv\")\n",
        "df_gyr_stand_shin = pd.read_csv(\"/content/gdrive/My Drive/ML4IOT/Notebook 1/Standing/gyr_standing_csv/Gyroscope_standing_shin.csv\")\n",
        "df_gyr_stand_thigh = pd.read_csv(\"/content/gdrive/My Drive/ML4IOT/Notebook 1/Standing/gyr_standing_csv/Gyroscope_standing_thigh.csv\")\n",
        "df_gyr_stand_upperarm = pd.read_csv(\"/content/gdrive/My Drive/ML4IOT/Notebook 1/Standing/gyr_standing_csv/Gyroscope_standing_upperarm.csv\")\n",
        "df_gyr_stand_waist = pd.read_csv(\"/content/gdrive/My Drive/ML4IOT/Notebook 1/Standing/gyr_standing_csv/Gyroscope_standing_waist.csv\")\n"
      ],
      "execution_count": 8,
      "outputs": []
    },
    {
      "cell_type": "code",
      "metadata": {
        "id": "88P_YtBYi73H"
      },
      "source": [
        "df_gyr_jump_chest = df_gyr_jump_chest[['attr_x', 'attr_y', 'attr_z']].values[0:999,:]\n",
        "df_gyr_jump_forearm = df_gyr_jump_forearm[['attr_x', 'attr_y', 'attr_z']].values[0:999,:]\n",
        "df_gyr_jump_head = df_gyr_jump_head[['attr_x', 'attr_y', 'attr_z']].values[0:999,:]\n",
        "df_gyr_jump_shin = df_gyr_jump_shin[['attr_x', 'attr_y', 'attr_z']].values[0:999,:]\n",
        "df_gyr_jump_thigh = df_gyr_jump_thigh[['attr_x', 'attr_y', 'attr_z']].values[0:999,:]\n",
        "df_gyr_jump_upperarm = df_gyr_jump_upperarm[['attr_x', 'attr_y', 'attr_z']].values[0:999,:]\n",
        "df_gyr_jump_waist = df_gyr_jump_waist[['attr_x', 'attr_y', 'attr_z']].values[0:999,:]\n",
        "df_gyr_lye_chest = df_gyr_lye_chest[['attr_x', 'attr_y', 'attr_z']].values[0:999,:]\n",
        "df_gyr_lye_forearm = df_gyr_lye_forearm[['attr_x', 'attr_y', 'attr_z']].values[0:999,:]\n",
        "df_gyr_lye_head = df_gyr_lye_head[['attr_x', 'attr_y', 'attr_z']].values[0:999,:]\n",
        "df_gyr_lye_shin = df_gyr_lye_shin[['attr_x', 'attr_y', 'attr_z']].values[0:999,:]\n",
        "df_gyr_lye_thigh = df_gyr_lye_thigh[['attr_x', 'attr_y', 'attr_z']].values[0:999,:]\n",
        "df_gyr_lye_upperarm = df_gyr_lye_upperarm[['attr_x', 'attr_y', 'attr_z']].values[0:999,:]\n",
        "df_gyr_lye_waist = df_gyr_lye_waist[['attr_x', 'attr_y', 'attr_z']].values[0:999,:]\n",
        "df_gyr_stand_chest = df_gyr_stand_chest[['attr_x', 'attr_y', 'attr_z']].values[0:999,:]\n",
        "df_gyr_stand_forearm = df_gyr_stand_forearm[['attr_x', 'attr_y', 'attr_z']].values[0:999,:]\n",
        "df_gyr_stand_head = df_gyr_stand_head[['attr_x', 'attr_y', 'attr_z']].values[0:999,:]\n",
        "df_gyr_stand_shin = df_gyr_stand_shin[['attr_x', 'attr_y', 'attr_z']].values[0:999,:]\n",
        "df_gyr_stand_thigh = df_gyr_stand_thigh[['attr_x', 'attr_y', 'attr_z']].values[0:999,:]\n",
        "df_gyr_stand_upperarm = df_gyr_stand_upperarm[['attr_x', 'attr_y', 'attr_z']].values[0:999,:]\n",
        "df_gyr_stand_waist = df_gyr_stand_waist[['attr_x', 'attr_y', 'attr_z']].values[0:999,:]"
      ],
      "execution_count": 9,
      "outputs": []
    },
    {
      "cell_type": "code",
      "metadata": {
        "id": "Ei_HN7QZkeve"
      },
      "source": [
        "gyr_jump = [df_gyr_jump_chest,df_gyr_jump_forearm,df_gyr_jump_head,df_gyr_jump_shin,df_gyr_jump_thigh,df_gyr_jump_upperarm,df_gyr_jump_waist]\n",
        "gyr_lye = [df_gyr_lye_chest,df_gyr_lye_forearm ,df_gyr_lye_head,df_gyr_lye_shin,df_gyr_lye_thigh,df_gyr_lye_upperarm,df_gyr_lye_waist]\n",
        "gyr_stand = [df_gyr_stand_chest,df_gyr_stand_forearm ,df_gyr_stand_head,df_gyr_stand_shin,df_gyr_stand_thigh,df_gyr_stand_upperarm,df_gyr_stand_waist]"
      ],
      "execution_count": 10,
      "outputs": []
    },
    {
      "cell_type": "code",
      "metadata": {
        "id": "mLPs1ewvkr3u",
        "outputId": "151d9ec2-96fa-4ee7-ed5c-86d370d842d2",
        "colab": {
          "base_uri": "https://localhost:8080/",
          "height": 238
        }
      },
      "source": [
        "results7 = []\n",
        "for i in gyr_jump:\n",
        "  for j in gyr_jump:\n",
        "    euclidean_distance =  lambda i,j: np.linalg.norm(i-j)\n",
        "    d, cost_matrix, acc_cost_matrix, path = dtw(i, j, dist = euclidean_distance)\n",
        "    results7.append(d)\n",
        "\n",
        "np.hstack(results7)"
      ],
      "execution_count": 14,
      "outputs": [
        {
          "output_type": "execute_result",
          "data": {
            "text/plain": [
              "array([   0.        , 1730.94590708,  626.16059494, 1720.90728085,\n",
              "        884.35961272,  907.57570278,  682.56687902, 1730.94590708,\n",
              "          0.        , 1615.70826844, 2071.82794897, 1743.45974339,\n",
              "       1766.09264017, 1937.95095828,  626.16059494, 1615.70826844,\n",
              "          0.        , 1670.81946119,  897.12631448, 1022.03243363,\n",
              "        903.9123628 , 1720.90728085, 2071.82794897, 1670.81946119,\n",
              "          0.        , 1830.19211841, 1804.07023014, 1892.64682715,\n",
              "        884.35961272, 1743.45974339,  897.12631448, 1830.19211841,\n",
              "          0.        , 1053.10966075, 1015.60679647,  907.57570278,\n",
              "       1766.09264017, 1022.03243363, 1804.07023014, 1053.10966075,\n",
              "          0.        ,  910.44316746,  682.56687902, 1937.95095828,\n",
              "        903.9123628 , 1892.64682715, 1015.60679647,  910.44316746,\n",
              "          0.        ])"
            ]
          },
          "metadata": {
            "tags": []
          },
          "execution_count": 14
        }
      ]
    },
    {
      "cell_type": "code",
      "metadata": {
        "id": "aqQ8S_7bmeJc"
      },
      "source": [
        "array([   0.        , 1730.94590708,  626.16059494, 1720.90728085,\n",
        "        884.35961272,  907.57570278,  682.56687902, 1730.94590708,\n",
        "          0.        , 1615.70826844, 2071.82794897, 1743.45974339,\n",
        "       1766.09264017, 1937.95095828,  626.16059494, 1615.70826844,\n",
        "          0.        , 1670.81946119,  897.12631448, 1022.03243363,\n",
        "        903.9123628 , 1720.90728085, 2071.82794897, 1670.81946119,\n",
        "          0.        , 1830.19211841, 1804.07023014, 1892.64682715,\n",
        "        884.35961272, 1743.45974339,  897.12631448, 1830.19211841,\n",
        "          0.        , 1053.10966075, 1015.60679647,  907.57570278,\n",
        "       1766.09264017, 1022.03243363, 1804.07023014, 1053.10966075,\n",
        "          0.        ,  910.44316746,  682.56687902, 1937.95095828,\n",
        "        903.9123628 , 1892.64682715, 1015.60679647,  910.44316746,\n",
        "          0.        ])"
      ],
      "execution_count": null,
      "outputs": []
    },
    {
      "cell_type": "code",
      "metadata": {
        "id": "HjEfhR0WmgyP",
        "outputId": "5fb3cea3-e143-48a4-afc3-9ef129df8163",
        "colab": {
          "base_uri": "https://localhost:8080/",
          "height": 238
        }
      },
      "source": [
        "results8 = []\n",
        "for i in gyr_lye:\n",
        "  for j in gyr_lye:\n",
        "    euclidean_distance =  lambda i,j: np.linalg.norm(i-j)\n",
        "    d, cost_matrix, acc_cost_matrix, path = dtw(i, j, dist = euclidean_distance)\n",
        "    results8.append(d)\n",
        "\n",
        "np.hstack(results8)"
      ],
      "execution_count": 11,
      "outputs": [
        {
          "output_type": "execute_result",
          "data": {
            "text/plain": [
              "array([  0.        , 422.17324002, 264.87654635, 427.21784863,\n",
              "       364.41205685, 341.4109314 , 301.58069608, 422.17324002,\n",
              "         0.        , 409.31020003, 519.02571506, 544.97292184,\n",
              "       504.43923333, 447.29771747, 264.87654635, 409.31020003,\n",
              "         0.        , 418.93262751, 335.64925291, 401.79329702,\n",
              "       319.62760145, 427.21784863, 519.02571506, 418.93262751,\n",
              "         0.        , 467.9579867 , 460.71845895, 387.00789463,\n",
              "       364.41205685, 544.97292184, 335.64925291, 467.9579867 ,\n",
              "         0.        , 507.20430024, 326.5558535 , 341.4109314 ,\n",
              "       504.43923333, 401.79329702, 460.71845895, 507.20430024,\n",
              "         0.        , 379.99989376, 301.58069608, 447.29771747,\n",
              "       319.62760145, 387.00789463, 326.5558535 , 379.99989376,\n",
              "         0.        ])"
            ]
          },
          "metadata": {
            "tags": []
          },
          "execution_count": 11
        }
      ]
    },
    {
      "cell_type": "code",
      "metadata": {
        "id": "ii7ru6L8o1gk"
      },
      "source": [
        "array([  0.        , 422.17324002, 264.87654635, 427.21784863,\n",
        "       364.41205685, 341.4109314 , 301.58069608, 422.17324002,\n",
        "         0.        , 409.31020003, 519.02571506, 544.97292184,\n",
        "       504.43923333, 447.29771747, 264.87654635, 409.31020003,\n",
        "         0.        , 418.93262751, 335.64925291, 401.79329702,\n",
        "       319.62760145, 427.21784863, 519.02571506, 418.93262751,\n",
        "         0.        , 467.9579867 , 460.71845895, 387.00789463,\n",
        "       364.41205685, 544.97292184, 335.64925291, 467.9579867 ,\n",
        "         0.        , 507.20430024, 326.5558535 , 341.4109314 ,\n",
        "       504.43923333, 401.79329702, 460.71845895, 507.20430024,\n",
        "         0.        , 379.99989376, 301.58069608, 447.29771747,\n",
        "       319.62760145, 387.00789463, 326.5558535 , 379.99989376,\n",
        "         0.        ])"
      ],
      "execution_count": null,
      "outputs": []
    },
    {
      "cell_type": "code",
      "metadata": {
        "id": "1imO55-6o31k",
        "outputId": "4978485e-5642-4110-a3ac-ebe75bae9fef",
        "colab": {
          "base_uri": "https://localhost:8080/",
          "height": 238
        }
      },
      "source": [
        "results9 = []\n",
        "for i in gyr_stand:\n",
        "  for j in gyr_stand:\n",
        "    euclidean_distance =  lambda i,j: np.linalg.norm(i-j)\n",
        "    d, cost_matrix, acc_cost_matrix, path = dtw(i, j, dist = euclidean_distance)\n",
        "    results9.append(d)\n",
        "\n",
        "np.hstack(results9)"
      ],
      "execution_count": 12,
      "outputs": [
        {
          "output_type": "execute_result",
          "data": {
            "text/plain": [
              "array([  0.        , 300.80325   , 311.81396486, 165.77479402,\n",
              "       167.5169034 , 244.37462314, 167.81043622, 300.80325   ,\n",
              "         0.        , 388.83649876, 296.13357576, 306.67461592,\n",
              "       381.86972005, 293.44593978, 311.81396486, 388.83649876,\n",
              "         0.        , 314.5228698 , 329.02765689, 384.82830712,\n",
              "       327.16641974, 165.77479402, 296.13357576, 314.5228698 ,\n",
              "         0.        , 172.3372764 , 278.43344882, 175.28605098,\n",
              "       167.5169034 , 306.67461592, 329.02765689, 172.3372764 ,\n",
              "         0.        , 245.69798237, 166.7218662 , 244.37462314,\n",
              "       381.86972005, 384.82830712, 278.43344882, 245.69798237,\n",
              "         0.        , 266.2712614 , 167.81043622, 293.44593978,\n",
              "       327.16641974, 175.28605098, 166.7218662 , 266.2712614 ,\n",
              "         0.        ])"
            ]
          },
          "metadata": {
            "tags": []
          },
          "execution_count": 12
        }
      ]
    },
    {
      "cell_type": "code",
      "metadata": {
        "id": "HWUx91m7qv8H"
      },
      "source": [
        "array([  0.        , 300.80325   , 311.81396486, 165.77479402,\n",
        "       167.5169034 , 244.37462314, 167.81043622, 300.80325   ,\n",
        "         0.        , 388.83649876, 296.13357576, 306.67461592,\n",
        "       381.86972005, 293.44593978, 311.81396486, 388.83649876,\n",
        "         0.        , 314.5228698 , 329.02765689, 384.82830712,\n",
        "       327.16641974, 165.77479402, 296.13357576, 314.5228698 ,\n",
        "         0.        , 172.3372764 , 278.43344882, 175.28605098,\n",
        "       167.5169034 , 306.67461592, 329.02765689, 172.3372764 ,\n",
        "         0.        , 245.69798237, 166.7218662 , 244.37462314,\n",
        "       381.86972005, 384.82830712, 278.43344882, 245.69798237,\n",
        "         0.        , 266.2712614 , 167.81043622, 293.44593978,\n",
        "       327.16641974, 175.28605098, 166.7218662 , 266.2712614 ,\n",
        "         0.        ])"
      ],
      "execution_count": null,
      "outputs": []
    },
    {
      "cell_type": "markdown",
      "metadata": {
        "id": "MgZ6yAeEq0ci"
      },
      "source": [
        "#Light"
      ]
    },
    {
      "cell_type": "code",
      "metadata": {
        "id": "aJclK5hSq0B-"
      },
      "source": [
        "df_lig_jump_chest = pd.read_csv(\"/content/gdrive/My Drive/ML4IOT/Notebook 1/Jumping/lig_jumping_csv/Light_jumping_chest.csv\")\n",
        "df_lig_jump_head = pd.read_csv(\"/content/gdrive/My Drive/ML4IOT/Notebook 1/Jumping/lig_jumping_csv/Light_jumping_head.csv\")\n",
        "df_lig_jump_shin = pd.read_csv(\"/content/gdrive/My Drive/ML4IOT/Notebook 1/Jumping/lig_jumping_csv/Light_jumping_shin.csv\")\n",
        "df_lig_jump_thigh = pd.read_csv(\"/content/gdrive/My Drive/ML4IOT/Notebook 1/Jumping/lig_jumping_csv/Light_jumping_thigh.csv\")\n",
        "df_lig_jump_upperarm = pd.read_csv(\"/content/gdrive/My Drive/ML4IOT/Notebook 1/Jumping/lig_jumping_csv/Light_jumping_upperarm.csv\")\n",
        "df_lig_jump_waist = pd.read_csv(\"/content/gdrive/My Drive/ML4IOT/Notebook 1/Jumping/lig_jumping_csv/Light_jumping_waist.csv\")\n",
        "\n",
        "df_lig_lye_chest = pd.read_csv(\"/content/gdrive/My Drive/ML4IOT/Notebook 1/Lying/lig_lying_csv/Light_lying_chest.csv\")\n",
        "df_lig_lye_head = pd.read_csv(\"/content/gdrive/My Drive/ML4IOT/Notebook 1/Lying/lig_lying_csv/Light_lying_head.csv\")\n",
        "df_lig_lye_shin = pd.read_csv(\"/content/gdrive/My Drive/ML4IOT/Notebook 1/Lying/lig_lying_csv/Light_lying_shin.csv\")\n",
        "df_lig_lye_thigh = pd.read_csv(\"/content/gdrive/My Drive/ML4IOT/Notebook 1/Lying/lig_lying_csv/Light_lying_thigh.csv\")\n",
        "df_lig_lye_upperarm = pd.read_csv(\"/content/gdrive/My Drive/ML4IOT/Notebook 1/Lying/lig_lying_csv/Light_lying_upperarm.csv\")\n",
        "df_lig_lye_waist = pd.read_csv(\"/content/gdrive/My Drive/ML4IOT/Notebook 1/Lying/lig_lying_csv/Light_lying_waist.csv\")\n",
        "\n",
        "df_lig_stand_chest = pd.read_csv(\"/content/gdrive/My Drive/ML4IOT/Notebook 1/Standing/lig_standing_csv/Light_standing_chest.csv\")\n",
        "df_lig_stand_head = pd.read_csv(\"/content/gdrive/My Drive/ML4IOT/Notebook 1/Standing/lig_standing_csv/Light_standing_head.csv\")\n",
        "df_lig_stand_shin = pd.read_csv(\"/content/gdrive/My Drive/ML4IOT/Notebook 1/Standing/lig_standing_csv/Light_standing_shin.csv\")\n",
        "df_lig_stand_thigh = pd.read_csv(\"/content/gdrive/My Drive/ML4IOT/Notebook 1/Standing/lig_standing_csv/Light_standing_thigh.csv\")\n",
        "df_lig_stand_upperarm = pd.read_csv(\"/content/gdrive/My Drive/ML4IOT/Notebook 1/Standing/lig_standing_csv/Light_standing_upperarm.csv\")\n",
        "df_lig_stand_waist = pd.read_csv(\"/content/gdrive/My Drive/ML4IOT/Notebook 1/Standing/lig_standing_csv/Light_standing_waist.csv\")"
      ],
      "execution_count": 5,
      "outputs": []
    },
    {
      "cell_type": "code",
      "metadata": {
        "id": "GqTy8j3JqwuZ",
        "outputId": "2c2d1e1f-a445-43b9-f843-3b79a38f6fc7",
        "colab": {
          "base_uri": "https://localhost:8080/",
          "height": 204
        }
      },
      "source": [
        "df_lig_jump_chest.head()"
      ],
      "execution_count": 14,
      "outputs": [
        {
          "output_type": "execute_result",
          "data": {
            "text/html": [
              "<div>\n",
              "<style scoped>\n",
              "    .dataframe tbody tr th:only-of-type {\n",
              "        vertical-align: middle;\n",
              "    }\n",
              "\n",
              "    .dataframe tbody tr th {\n",
              "        vertical-align: top;\n",
              "    }\n",
              "\n",
              "    .dataframe thead th {\n",
              "        text-align: right;\n",
              "    }\n",
              "</style>\n",
              "<table border=\"1\" class=\"dataframe\">\n",
              "  <thead>\n",
              "    <tr style=\"text-align: right;\">\n",
              "      <th></th>\n",
              "      <th>id</th>\n",
              "      <th>attr_time</th>\n",
              "      <th>attr_light</th>\n",
              "    </tr>\n",
              "  </thead>\n",
              "  <tbody>\n",
              "    <tr>\n",
              "      <th>0</th>\n",
              "      <td>1</td>\n",
              "      <td>1436970288141</td>\n",
              "      <td>27.0</td>\n",
              "    </tr>\n",
              "    <tr>\n",
              "      <th>1</th>\n",
              "      <td>2</td>\n",
              "      <td>1436970288161</td>\n",
              "      <td>27.0</td>\n",
              "    </tr>\n",
              "    <tr>\n",
              "      <th>2</th>\n",
              "      <td>3</td>\n",
              "      <td>1436970288181</td>\n",
              "      <td>27.0</td>\n",
              "    </tr>\n",
              "    <tr>\n",
              "      <th>3</th>\n",
              "      <td>4</td>\n",
              "      <td>1436970288200</td>\n",
              "      <td>27.0</td>\n",
              "    </tr>\n",
              "    <tr>\n",
              "      <th>4</th>\n",
              "      <td>5</td>\n",
              "      <td>1436970288221</td>\n",
              "      <td>26.0</td>\n",
              "    </tr>\n",
              "  </tbody>\n",
              "</table>\n",
              "</div>"
            ],
            "text/plain": [
              "   id      attr_time  attr_light\n",
              "0   1  1436970288141        27.0\n",
              "1   2  1436970288161        27.0\n",
              "2   3  1436970288181        27.0\n",
              "3   4  1436970288200        27.0\n",
              "4   5  1436970288221        26.0"
            ]
          },
          "metadata": {
            "tags": []
          },
          "execution_count": 14
        }
      ]
    },
    {
      "cell_type": "code",
      "metadata": {
        "id": "o_jw_mO1-hZd"
      },
      "source": [
        "df_lig_jump_chest = df_lig_jump_chest[['attr_light']].values[0:999]\n",
        "df_lig_jump_head = df_lig_jump_head[['attr_light']].values[0:999]\n",
        "df_lig_jump_shin = df_lig_jump_shin[['attr_light']].values[0:999]\n",
        "df_lig_jump_thigh = df_lig_jump_thigh[['attr_light']].values[0:999]\n",
        "df_lig_jump_upperarm = df_lig_jump_upperarm[['attr_light']].values[0:999]\n",
        "df_lig_jump_waist = df_lig_jump_waist[['attr_light']].values[0:999]\n",
        "df_lig_lye_chest = df_lig_lye_chest[['attr_light']].values[0:999]\n",
        "df_lig_lye_head = df_lig_lye_head[['attr_light']].values[0:999]\n",
        "df_lig_lye_shin = df_lig_lye_shin[['attr_light']].values[0:999]\n",
        "df_lig_lye_thigh = df_lig_lye_thigh[['attr_light']].values[0:999]\n",
        "df_lig_lye_upperarm = df_lig_lye_upperarm[['attr_light']].values[0:999]\n",
        "df_lig_lye_waist = df_lig_lye_waist[['attr_light']].values[0:999]\n",
        "df_lig_stand_chest = df_lig_stand_chest[['attr_light']].values[0:999]\n",
        "df_lig_stand_head = df_lig_stand_head[['attr_light']].values[0:999]\n",
        "df_lig_stand_shin = df_lig_stand_shin[['attr_light']].values[0:999]\n",
        "df_lig_stand_thigh = df_lig_stand_thigh[['attr_light']].values[0:999]\n",
        "df_lig_stand_upperarm = df_lig_stand_upperarm[['attr_light']].values[0:999]\n",
        "df_lig_stand_waist = df_lig_stand_waist[['attr_light']].values[0:999]"
      ],
      "execution_count": 6,
      "outputs": []
    },
    {
      "cell_type": "code",
      "metadata": {
        "id": "JSGLFp3k-gBO"
      },
      "source": [
        "light_jump = [df_lig_jump_chest,\n",
        "df_lig_jump_head,\n",
        "df_lig_jump_shin,\n",
        "df_lig_jump_thigh,\n",
        "df_lig_jump_upperarm,\n",
        "df_lig_jump_waist]\n",
        "\n",
        "light_lye = [df_lig_lye_chest,\n",
        "df_lig_lye_head,\n",
        "df_lig_lye_shin,\n",
        "df_lig_lye_thigh,\n",
        "df_lig_lye_upperarm,\n",
        "df_lig_lye_waist]\n",
        "\n",
        "light_stand = [\n",
        "df_lig_stand_chest,\n",
        "df_lig_stand_head,\n",
        "df_lig_stand_shin,\n",
        "df_lig_stand_thigh,\n",
        "df_lig_stand_upperarm,\n",
        "df_lig_stand_waist]"
      ],
      "execution_count": 8,
      "outputs": []
    },
    {
      "cell_type": "code",
      "metadata": {
        "id": "h2KQAB5QASg7",
        "outputId": "ef0d5850-2c4a-49a6-969f-18d349ce41ee",
        "colab": {
          "base_uri": "https://localhost:8080/",
          "height": 119
        }
      },
      "source": [
        "results10 = []\n",
        "for i in light_jump:\n",
        "  for j in light_jump:\n",
        "    euclidean_distance =  lambda i,j: np.linalg.norm(i-j)\n",
        "    d, cost_matrix, acc_cost_matrix, path = dtw(i, j, dist = euclidean_distance)\n",
        "    results10.append(d)\n",
        "\n",
        "np.hstack(results10)"
      ],
      "execution_count": 10,
      "outputs": [
        {
          "output_type": "execute_result",
          "data": {
            "text/plain": [
              "array([     0., 257392., 321476., 359163., 291917., 112202., 257392.,\n",
              "            0., 178720., 569585., 102622., 318416., 321476., 178720.,\n",
              "            0., 489655.,  74537., 502194., 359163., 569585., 489655.,\n",
              "            0., 523750., 407890., 291917., 102622.,  74537., 523750.,\n",
              "            0., 432741., 112202., 318416., 502194., 407890., 432741.,\n",
              "            0.])"
            ]
          },
          "metadata": {
            "tags": []
          },
          "execution_count": 10
        }
      ]
    },
    {
      "cell_type": "code",
      "metadata": {
        "id": "TgouKIuuD-n_"
      },
      "source": [
        "array([     0., 257392., 321476., 359163., 291917., 112202., 257392.,\n",
        "            0., 178720., 569585., 102622., 318416., 321476., 178720.,\n",
        "            0., 489655.,  74537., 502194., 359163., 569585., 489655.,\n",
        "            0., 523750., 407890., 291917., 102622.,  74537., 523750.,\n",
        "            0., 432741., 112202., 318416., 502194., 407890., 432741.,\n",
        "            0.])"
      ],
      "execution_count": null,
      "outputs": []
    },
    {
      "cell_type": "code",
      "metadata": {
        "id": "1ya0RGjcBxns",
        "outputId": "7c59c40a-4b88-4e4c-d661-a104697f60bc",
        "colab": {
          "base_uri": "https://localhost:8080/",
          "height": 102
        }
      },
      "source": [
        "results11 = []\n",
        "for i in light_lye:\n",
        "  for j in light_lye:\n",
        "    euclidean_distance =  lambda i,j: np.linalg.norm(i-j)\n",
        "    d, cost_matrix, acc_cost_matrix, path = dtw(i, j, dist = euclidean_distance)\n",
        "    results11.append(d)\n",
        "\n",
        "np.hstack(results11)"
      ],
      "execution_count": 11,
      "outputs": [
        {
          "output_type": "execute_result",
          "data": {
            "text/plain": [
              "array([    0., 38633., 32577., 36974., 23933., 40524., 38633.,     0.,\n",
              "        5956.,  2915., 14700.,  1882., 32577.,  5956.,     0.,  4586.,\n",
              "        8835.,  7542., 36974.,  2915.,  4586.,     0., 13041.,  3550.,\n",
              "       23933., 14700.,  8835., 13041.,     0., 16591., 40524.,  1882.,\n",
              "        7542.,  3550., 16591.,     0.])"
            ]
          },
          "metadata": {
            "tags": []
          },
          "execution_count": 11
        }
      ]
    },
    {
      "cell_type": "code",
      "metadata": {
        "id": "Qe3tllowD_-_"
      },
      "source": [
        "array([    0., 38633., 32577., 36974., 23933., 40524., 38633.,     0.,\n",
        "        5956.,  2915., 14700.,  1882., 32577.,  5956.,     0.,  4586.,\n",
        "        8835.,  7542., 36974.,  2915.,  4586.,     0., 13041.,  3550.,\n",
        "       23933., 14700.,  8835., 13041.,     0., 16591., 40524.,  1882.,\n",
        "        7542.,  3550., 16591.,     0.])"
      ],
      "execution_count": null,
      "outputs": []
    },
    {
      "cell_type": "code",
      "metadata": {
        "id": "s3GuKiKzD292",
        "outputId": "94dc8cdc-2181-4c7d-a808-34983a2ea28a",
        "colab": {
          "base_uri": "https://localhost:8080/",
          "height": 119
        }
      },
      "source": [
        "results11 = []\n",
        "for i in light_stand:\n",
        "  for j in light_stand:\n",
        "    euclidean_distance =  lambda i,j: np.linalg.norm(i-j)\n",
        "    d, cost_matrix, acc_cost_matrix, path = dtw(i, j, dist = euclidean_distance)\n",
        "    results11.append(d)\n",
        "\n",
        "np.hstack(results11)\n"
      ],
      "execution_count": 12,
      "outputs": [
        {
          "output_type": "execute_result",
          "data": {
            "text/plain": [
              "array([      0.,  655563.,  554987., 1197273.,  629978.,  728424.,\n",
              "        655563.,       0.,  100576., 1825957.,   21201.,   72861.,\n",
              "        554987.,  100576.,       0., 1725381.,   74991.,  173437.,\n",
              "       1197273., 1825957., 1725381.,       0., 1800372., 1898818.,\n",
              "        629978.,   21201.,   74991., 1800372.,       0.,   98446.,\n",
              "        728424.,   72861.,  173437., 1898818.,   98446.,       0.])"
            ]
          },
          "metadata": {
            "tags": []
          },
          "execution_count": 12
        }
      ]
    },
    {
      "cell_type": "code",
      "metadata": {
        "id": "RMk3-BgqFyCT"
      },
      "source": [
        "array([      0.,  655563.,  554987., 1197273.,  629978.,  728424.,\n",
        "        655563.,       0.,  100576., 1825957.,   21201.,   72861.,\n",
        "        554987.,  100576.,       0., 1725381.,   74991.,  173437.,\n",
        "       1197273., 1825957., 1725381.,       0., 1800372., 1898818.,\n",
        "        629978.,   21201.,   74991., 1800372.,       0.,   98446.,\n",
        "        728424.,   72861.,  173437., 1898818.,   98446.,       0.])"
      ],
      "execution_count": null,
      "outputs": []
    },
    {
      "cell_type": "markdown",
      "metadata": {
        "id": "XT2ZKTHMGZsr"
      },
      "source": [
        "#Magnetic\n"
      ]
    },
    {
      "cell_type": "code",
      "metadata": {
        "id": "PKj7IMFQGSzG"
      },
      "source": [
        "df_mag_jump_chest = pd.read_csv(\"/content/gdrive/My Drive/ML4IOT/Notebook 1/Jumping/mag_jumping_csv/MagneticField_jumping_chest.csv\")\n",
        "df_mag_jump_forearm = pd.read_csv(\"/content/gdrive/My Drive/ML4IOT/Notebook 1/Jumping/mag_jumping_csv/MagneticField_jumping_forearm.csv\")\n",
        "df_mag_jump_head = pd.read_csv(\"/content/gdrive/My Drive/ML4IOT/Notebook 1/Jumping/mag_jumping_csv/MagneticField_jumping_head.csv\")\n",
        "df_mag_jump_shin = pd.read_csv(\"/content/gdrive/My Drive/ML4IOT/Notebook 1/Jumping/mag_jumping_csv/MagneticField_jumping_shin.csv\")\n",
        "df_mag_jump_thigh = pd.read_csv(\"/content/gdrive/My Drive/ML4IOT/Notebook 1/Jumping/mag_jumping_csv/MagneticField_jumping_thigh.csv\")\n",
        "df_mag_jump_upperarm = pd.read_csv(\"/content/gdrive/My Drive/ML4IOT/Notebook 1/Jumping/mag_jumping_csv/MagneticField_jumping_upperarm.csv\")\n",
        "df_mag_jump_waist = pd.read_csv(\"/content/gdrive/My Drive/ML4IOT/Notebook 1/Jumping/mag_jumping_csv/MagneticField_jumping_waist.csv\")\n",
        "\n",
        "df_mag_lye_chest = pd.read_csv(\"/content/gdrive/My Drive/ML4IOT/Notebook 1/Lying/mag_lying_csv/MagneticField_lying_chest.csv\")\n",
        "df_mag_lye_forearm = pd.read_csv(\"/content/gdrive/My Drive/ML4IOT/Notebook 1/Lying/mag_lying_csv/MagneticField_lying_forearm.csv\")\n",
        "df_mag_lye_head = pd.read_csv(\"/content/gdrive/My Drive/ML4IOT/Notebook 1/Lying/mag_lying_csv/MagneticField_lying_head.csv\")\n",
        "df_mag_lye_shin = pd.read_csv(\"/content/gdrive/My Drive/ML4IOT/Notebook 1/Lying/mag_lying_csv/MagneticField_lying_shin.csv\")\n",
        "df_mag_lye_thigh = pd.read_csv(\"/content/gdrive/My Drive/ML4IOT/Notebook 1/Lying/mag_lying_csv/MagneticField_lying_thigh.csv\")\n",
        "df_mag_lye_upperarm = pd.read_csv(\"/content/gdrive/My Drive/ML4IOT/Notebook 1/Lying/mag_lying_csv/MagneticField_lying_upperarm.csv\")\n",
        "df_mag_lye_waist = pd.read_csv(\"/content/gdrive/My Drive/ML4IOT/Notebook 1/Lying/mag_lying_csv/MagneticField_lying_waist.csv\")\n",
        "\n",
        "df_mag_stand_chest = pd.read_csv(\"/content/gdrive/My Drive/ML4IOT/Notebook 1/Standing/mag_standing_csv/MagneticField_standing_chest.csv\")\n",
        "df_mag_stand_forearm = pd.read_csv(\"/content/gdrive/My Drive/ML4IOT/Notebook 1/Standing/mag_standing_csv/MagneticField_standing_forearm.csv\")\n",
        "df_mag_stand_head = pd.read_csv(\"/content/gdrive/My Drive/ML4IOT/Notebook 1/Standing/mag_standing_csv/MagneticField_standing_head.csv\")\n",
        "df_mag_stand_shin = pd.read_csv(\"/content/gdrive/My Drive/ML4IOT/Notebook 1/Standing/mag_standing_csv/MagneticField_standing_shin.csv\")\n",
        "df_mag_stand_thigh = pd.read_csv(\"/content/gdrive/My Drive/ML4IOT/Notebook 1/Standing/mag_standing_csv/MagneticField_standing_thigh.csv\")\n",
        "df_mag_stand_upperarm = pd.read_csv(\"/content/gdrive/My Drive/ML4IOT/Notebook 1/Standing/mag_standing_csv/MagneticField_standing_upperarm.csv\")\n",
        "df_mag_stand_waist = pd.read_csv(\"/content/gdrive/My Drive/ML4IOT/Notebook 1/Standing/mag_standing_csv/MagneticField_standing_waist.csv\")"
      ],
      "execution_count": 14,
      "outputs": []
    },
    {
      "cell_type": "code",
      "metadata": {
        "id": "xlaH5KAXHYTu"
      },
      "source": [
        "df_mag_jump_chest = df_mag_jump_chest[['attr_x', 'attr_y', 'attr_z']].values[0:999,:]\n",
        "df_mag_jump_forearm = df_mag_jump_forearm[['attr_x', 'attr_y', 'attr_z']].values[0:999,:]\n",
        "df_mag_jump_head = df_mag_jump_head[['attr_x', 'attr_y', 'attr_z']].values[0:999,:]\n",
        "df_mag_jump_shin = df_mag_jump_shin[['attr_x', 'attr_y', 'attr_z']].values[0:999,:]\n",
        "df_mag_jump_thigh = df_mag_jump_thigh[['attr_x', 'attr_y', 'attr_z']].values[0:999,:]\n",
        "df_mag_jump_upperarm = df_mag_jump_upperarm[['attr_x', 'attr_y', 'attr_z']].values[0:999,:]\n",
        "df_mag_jump_waist = df_mag_jump_waist[['attr_x', 'attr_y', 'attr_z']].values[0:999,:]\n",
        "df_mag_lye_chest = df_mag_lye_chest[['attr_x', 'attr_y', 'attr_z']].values[0:999,:]\n",
        "df_mag_lye_forearm = df_mag_lye_forearm[['attr_x', 'attr_y', 'attr_z']].values[0:999,:]\n",
        "df_mag_lye_head = df_mag_lye_head[['attr_x', 'attr_y', 'attr_z']].values[0:999,:]\n",
        "df_mag_lye_shin = df_mag_lye_shin[['attr_x', 'attr_y', 'attr_z']].values[0:999,:]\n",
        "df_mag_lye_thigh = df_mag_lye_thigh[['attr_x', 'attr_y', 'attr_z']].values[0:999,:]\n",
        "df_mag_lye_upperarm = df_mag_lye_upperarm[['attr_x', 'attr_y', 'attr_z']].values[0:999,:]\n",
        "df_mag_lye_waist = df_mag_lye_waist[['attr_x', 'attr_y', 'attr_z']].values[0:999,:]\n",
        "df_mag_stand_chest = df_mag_stand_chest[['attr_x', 'attr_y', 'attr_z']].values[0:999,:]\n",
        "df_mag_stand_forearm = df_mag_stand_forearm[['attr_x', 'attr_y', 'attr_z']].values[0:999,:]\n",
        "df_mag_stand_head = df_mag_stand_head[['attr_x', 'attr_y', 'attr_z']].values[0:999,:]\n",
        "df_mag_stand_shin = df_mag_stand_shin[['attr_x', 'attr_y', 'attr_z']].values[0:999,:]\n",
        "df_mag_stand_thigh = df_mag_stand_thigh[['attr_x', 'attr_y', 'attr_z']].values[0:999,:]\n",
        "df_mag_stand_upperarm = df_mag_stand_upperarm[['attr_x', 'attr_y', 'attr_z']].values[0:999,:]\n",
        "df_mag_stand_waist = df_mag_stand_waist[['attr_x', 'attr_y', 'attr_z']].values[0:999,:]"
      ],
      "execution_count": 15,
      "outputs": []
    },
    {
      "cell_type": "code",
      "metadata": {
        "id": "93_UmDMwIhFj"
      },
      "source": [
        "mag_jump = [df_mag_jump_chest,\n",
        "df_mag_jump_forearm,\n",
        "df_mag_jump_head,\n",
        "df_mag_jump_shin,\n",
        "df_mag_jump_thigh,\n",
        "df_mag_jump_upperarm,\n",
        "df_mag_jump_waist]\n",
        "\n",
        "mag_lye = [df_mag_lye_chest,\n",
        "df_mag_lye_forearm,\n",
        "df_mag_lye_head,\n",
        "df_mag_lye_shin,\n",
        "df_mag_lye_thigh,\n",
        "df_mag_lye_upperarm,\n",
        "df_mag_lye_waist]\n",
        "\n",
        "mag_stand = [df_mag_stand_chest,\n",
        "df_mag_stand_forearm,\n",
        "df_mag_stand_head,\n",
        "df_mag_stand_shin,\n",
        "df_mag_stand_thigh,\n",
        "df_mag_stand_upperarm,\n",
        "df_mag_stand_waist]"
      ],
      "execution_count": 19,
      "outputs": []
    },
    {
      "cell_type": "code",
      "metadata": {
        "id": "aJ3Csb4hI_OZ",
        "outputId": "8570694a-b2bf-4729-bf22-b0e9cef6cec7",
        "colab": {
          "base_uri": "https://localhost:8080/",
          "height": 238
        }
      },
      "source": [
        "results12 = []\n",
        "for i in mag_jump:\n",
        "  for j in mag_jump:\n",
        "    euclidean_distance =  lambda i,j: np.linalg.norm(i-j)\n",
        "    d, cost_matrix, acc_cost_matrix, path = dtw(i, j, dist = euclidean_distance)\n",
        "    results12.append(d)\n",
        "\n",
        "np.hstack(results12)\n"
      ],
      "execution_count": 17,
      "outputs": [
        {
          "output_type": "execute_result",
          "data": {
            "text/plain": [
              "array([    0.        , 63553.81384363, 61239.18289313, 16571.32714044,\n",
              "       14047.02440392, 43883.57041862, 74689.04923042, 63553.81384363,\n",
              "           0.        , 21296.69527997, 67966.78227933, 68197.6479283 ,\n",
              "       45665.72933712, 77816.81518438, 61239.18289313, 21296.69527997,\n",
              "           0.        , 69514.99076469, 67830.66771731, 33347.19499551,\n",
              "       88382.73977792, 16571.32714044, 67966.78227933, 69514.99076469,\n",
              "           0.        ,  9990.4235285 , 51798.07191359, 63562.19772728,\n",
              "       14047.02440392, 68197.6479283 , 67830.66771731,  9990.4235285 ,\n",
              "           0.        , 48004.47385287, 66386.0575879 , 43883.57041862,\n",
              "       45665.72933712, 33347.19499551, 51798.07191359, 48004.47385287,\n",
              "           0.        , 85372.94091318, 74689.04923042, 77816.81518438,\n",
              "       88382.73977792, 63562.19772728, 66386.0575879 , 85372.94091318,\n",
              "           0.        ])"
            ]
          },
          "metadata": {
            "tags": []
          },
          "execution_count": 17
        }
      ]
    },
    {
      "cell_type": "code",
      "metadata": {
        "id": "RJdXsXnMLFuE"
      },
      "source": [
        "array([    0.        , 63553.81384363, 61239.18289313, 16571.32714044,\n",
        "       14047.02440392, 43883.57041862, 74689.04923042, 63553.81384363,\n",
        "           0.        , 21296.69527997, 67966.78227933, 68197.6479283 ,\n",
        "       45665.72933712, 77816.81518438, 61239.18289313, 21296.69527997,\n",
        "           0.        , 69514.99076469, 67830.66771731, 33347.19499551,\n",
        "       88382.73977792, 16571.32714044, 67966.78227933, 69514.99076469,\n",
        "           0.        ,  9990.4235285 , 51798.07191359, 63562.19772728,\n",
        "       14047.02440392, 68197.6479283 , 67830.66771731,  9990.4235285 ,\n",
        "           0.        , 48004.47385287, 66386.0575879 , 43883.57041862,\n",
        "       45665.72933712, 33347.19499551, 51798.07191359, 48004.47385287,\n",
        "           0.        , 85372.94091318, 74689.04923042, 77816.81518438,\n",
        "       88382.73977792, 63562.19772728, 66386.0575879 , 85372.94091318,\n",
        "           0.        ])"
      ],
      "execution_count": null,
      "outputs": []
    },
    {
      "cell_type": "code",
      "metadata": {
        "id": "jZdJOEijNh8M",
        "outputId": "2107db5a-8d5d-464b-918a-4ab49afc78b0",
        "colab": {
          "base_uri": "https://localhost:8080/",
          "height": 238
        }
      },
      "source": [
        "results14 = []\n",
        "for i in mag_lye:\n",
        "  for j in mag_lye:\n",
        "    euclidean_distance =  lambda i,j: np.linalg.norm(i-j)\n",
        "    d, cost_matrix, acc_cost_matrix, path = dtw(i, j, dist = euclidean_distance)\n",
        "    results14.append(d)\n",
        "\n",
        "np.hstack(results14)"
      ],
      "execution_count": 20,
      "outputs": [
        {
          "output_type": "execute_result",
          "data": {
            "text/plain": [
              "array([     0.        ,  74087.68612767,  86021.29475248,  50014.51441331,\n",
              "        41183.75856725,  29667.04199982,  43791.02436387,  74087.68612767,\n",
              "            0.        , 109702.51397986,  79518.79327497,  46364.34462362,\n",
              "        82656.0632281 ,  71733.62771772,  86021.29475248, 109702.51397986,\n",
              "            0.        ,  82696.91800276, 108636.0643085 ,  63905.01668041,\n",
              "       122884.57295841,  50014.51441331,  79518.79327497,  82696.91800276,\n",
              "            0.        ,  61433.91547295,  28415.00708717,  76789.5711855 ,\n",
              "        41183.75856725,  46364.34462362, 108636.0643085 ,  61433.91547295,\n",
              "            0.        ,  54706.32532751,  35474.15943436,  29667.04199982,\n",
              "        82656.0632281 ,  63905.01668041,  28415.00708717,  54706.32532751,\n",
              "            0.        ,  67159.51232442,  43791.02436387,  71733.62771772,\n",
              "       122884.57295841,  76789.5711855 ,  35474.15943436,  67159.51232442,\n",
              "            0.        ])"
            ]
          },
          "metadata": {
            "tags": []
          },
          "execution_count": 20
        }
      ]
    },
    {
      "cell_type": "code",
      "metadata": {
        "id": "2MsadSTnPkxQ"
      },
      "source": [
        "array([     0.        ,  74087.68612767,  86021.29475248,  50014.51441331,\n",
        "        41183.75856725,  29667.04199982,  43791.02436387,  74087.68612767,\n",
        "            0.        , 109702.51397986,  79518.79327497,  46364.34462362,\n",
        "        82656.0632281 ,  71733.62771772,  86021.29475248, 109702.51397986,\n",
        "            0.        ,  82696.91800276, 108636.0643085 ,  63905.01668041,\n",
        "       122884.57295841,  50014.51441331,  79518.79327497,  82696.91800276,\n",
        "            0.        ,  61433.91547295,  28415.00708717,  76789.5711855 ,\n",
        "        41183.75856725,  46364.34462362, 108636.0643085 ,  61433.91547295,\n",
        "            0.        ,  54706.32532751,  35474.15943436,  29667.04199982,\n",
        "        82656.0632281 ,  63905.01668041,  28415.00708717,  54706.32532751,\n",
        "            0.        ,  67159.51232442,  43791.02436387,  71733.62771772,\n",
        "       122884.57295841,  76789.5711855 ,  35474.15943436,  67159.51232442,\n",
        "            0.        ])"
      ],
      "execution_count": null,
      "outputs": []
    },
    {
      "cell_type": "code",
      "metadata": {
        "id": "ssRbA_JdLGWp",
        "outputId": "87dd4b4e-8d03-422b-9474-8b1a524bcc3b",
        "colab": {
          "base_uri": "https://localhost:8080/",
          "height": 238
        }
      },
      "source": [
        "results13 = []\n",
        "for i in mag_stand:\n",
        "  for j in mag_stand:\n",
        "    euclidean_distance =  lambda i,j: np.linalg.norm(i-j)\n",
        "    d, cost_matrix, acc_cost_matrix, path = dtw(i, j, dist = euclidean_distance)\n",
        "    results13.append(d)\n",
        "\n",
        "np.hstack(results13)"
      ],
      "execution_count": 18,
      "outputs": [
        {
          "output_type": "execute_result",
          "data": {
            "text/plain": [
              "array([    0.        , 62026.9629821 , 61509.35217041,  8736.65222281,\n",
              "        8251.34056693, 46007.18581471, 65415.93757447, 62026.9629821 ,\n",
              "           0.        ,  8564.87238744, 60870.25123516, 56543.50695408,\n",
              "       28013.77618902, 81191.00759626, 61509.35217041,  8564.87238744,\n",
              "           0.        , 59586.59268222, 55572.79252797, 26197.08355529,\n",
              "       85994.80790525,  8736.65222281, 60870.25123516, 59586.59268222,\n",
              "           0.        , 10630.0671803 , 45870.3263917 , 72581.36868864,\n",
              "        8251.34056693, 56543.50695408, 55572.79252797, 10630.0671803 ,\n",
              "           0.        , 38717.85788335, 68059.49127763, 46007.18581471,\n",
              "       28013.77618902, 26197.08355529, 45870.3263917 , 38717.85788335,\n",
              "           0.        , 78408.85289672, 65415.93757447, 81191.00759626,\n",
              "       85994.80790525, 72581.36868864, 68059.49127763, 78408.85289672,\n",
              "           0.        ])"
            ]
          },
          "metadata": {
            "tags": []
          },
          "execution_count": 18
        }
      ]
    },
    {
      "cell_type": "code",
      "metadata": {
        "id": "StiFNb0cNU-Y"
      },
      "source": [
        "array([    0.        , 62026.9629821 , 61509.35217041,  8736.65222281,\n",
        "        8251.34056693, 46007.18581471, 65415.93757447, 62026.9629821 ,\n",
        "           0.        ,  8564.87238744, 60870.25123516, 56543.50695408,\n",
        "       28013.77618902, 81191.00759626, 61509.35217041,  8564.87238744,\n",
        "           0.        , 59586.59268222, 55572.79252797, 26197.08355529,\n",
        "       85994.80790525,  8736.65222281, 60870.25123516, 59586.59268222,\n",
        "           0.        , 10630.0671803 , 45870.3263917 , 72581.36868864,\n",
        "        8251.34056693, 56543.50695408, 55572.79252797, 10630.0671803 ,\n",
        "           0.        , 38717.85788335, 68059.49127763, 46007.18581471,\n",
        "       28013.77618902, 26197.08355529, 45870.3263917 , 38717.85788335,\n",
        "           0.        , 78408.85289672, 65415.93757447, 81191.00759626,\n",
        "       85994.80790525, 72581.36868864, 68059.49127763, 78408.85289672,\n",
        "           0.        ])"
      ],
      "execution_count": null,
      "outputs": []
    },
    {
      "cell_type": "markdown",
      "metadata": {
        "id": "wxuPwHtdPvAh"
      },
      "source": [
        "#Microphone"
      ]
    },
    {
      "cell_type": "code",
      "metadata": {
        "id": "ACE2rS2rPxa9"
      },
      "source": [
        "df_mic_jump_chest = pd.read_csv(\"/content/gdrive/My Drive/ML4IOT/Notebook 1/Jumping/mic_jumping_csv/Microphone_jumping_chest.csv\")\n",
        "df_mic_jump_head = pd.read_csv(\"/content/gdrive/My Drive/ML4IOT/Notebook 1/Jumping/mic_jumping_csv/Microphone_jumping_head.csv\")\n",
        "df_mic_jump_shin = pd.read_csv(\"/content/gdrive/My Drive/ML4IOT/Notebook 1/Jumping/mic_jumping_csv/Microphone_jumping_shin.csv\")\n",
        "df_mic_jump_thigh = pd.read_csv(\"/content/gdrive/My Drive/ML4IOT/Notebook 1/Jumping/mic_jumping_csv/Microphone_jumping_thigh.csv\")\n",
        "df_mic_jump_upperarm = pd.read_csv(\"/content/gdrive/My Drive/ML4IOT/Notebook 1/Jumping/mic_jumping_csv/Microphone_jumping_upperarm.csv\")\n",
        "df_mic_jump_waist = pd.read_csv(\"/content/gdrive/My Drive/ML4IOT/Notebook 1/Jumping/mic_jumping_csv/Microphone_jumping_waist.csv\")\n",
        "df_mic_lye_chest = pd.read_csv(\"/content/gdrive/My Drive/ML4IOT/Notebook 1/Lying/mic_lying_csv/Microphone_lying_chest.csv\")\n",
        "df_mic_lye_head = pd.read_csv(\"/content/gdrive/My Drive/ML4IOT/Notebook 1/Lying/mic_lying_csv/Microphone_lying_head.csv\")\n",
        "df_mic_lye_shin = pd.read_csv(\"/content/gdrive/My Drive/ML4IOT/Notebook 1/Lying/mic_lying_csv/Microphone_lying_shin.csv\")\n",
        "df_mic_lye_thigh = pd.read_csv(\"/content/gdrive/My Drive/ML4IOT/Notebook 1/Lying/mic_lying_csv/Microphone_lying_thigh.csv\")\n",
        "df_mic_lye_upperarm = pd.read_csv(\"/content/gdrive/My Drive/ML4IOT/Notebook 1/Lying/mic_lying_csv/Microphone_lying_upperarm.csv\")\n",
        "df_mic_lye_waist = pd.read_csv(\"/content/gdrive/My Drive/ML4IOT/Notebook 1/Lying/mic_lying_csv/Microphone_lying_waist.csv\")\n",
        "df_mic_stand_chest = pd.read_csv(\"/content/gdrive/My Drive/ML4IOT/Notebook 1/Standing/mic_standing_csv/Microphone_standing_chest.csv\")\n",
        "df_mic_stand_head = pd.read_csv(\"/content/gdrive/My Drive/ML4IOT/Notebook 1/Standing/mic_standing_csv/Microphone_standing_head.csv\")\n",
        "df_mic_stand_shin = pd.read_csv(\"/content/gdrive/My Drive/ML4IOT/Notebook 1/Standing/mic_standing_csv/Microphone_standing_shin.csv\")\n",
        "df_mic_stand_thigh = pd.read_csv(\"/content/gdrive/My Drive/ML4IOT/Notebook 1/Standing/mic_standing_csv/Microphone_standing_thigh.csv\")\n",
        "df_mic_stand_upperarm = pd.read_csv(\"/content/gdrive/My Drive/ML4IOT/Notebook 1/Standing/mic_standing_csv/Microphone_standing_upperarm.csv\")\n",
        "df_mic_stand_waist = pd.read_csv(\"/content/gdrive/My Drive/ML4IOT/Notebook 1/Standing/mic_standing_csv/Microphone_standing_waist.csv\")"
      ],
      "execution_count": 21,
      "outputs": []
    },
    {
      "cell_type": "code",
      "metadata": {
        "id": "ohJXL5L5P175",
        "outputId": "1fd6d83b-b8b7-4507-e396-883137264093",
        "colab": {
          "base_uri": "https://localhost:8080/",
          "height": 204
        }
      },
      "source": [
        "df_mic_jump_chest.head()"
      ],
      "execution_count": 22,
      "outputs": [
        {
          "output_type": "execute_result",
          "data": {
            "text/html": [
              "<div>\n",
              "<style scoped>\n",
              "    .dataframe tbody tr th:only-of-type {\n",
              "        vertical-align: middle;\n",
              "    }\n",
              "\n",
              "    .dataframe tbody tr th {\n",
              "        vertical-align: top;\n",
              "    }\n",
              "\n",
              "    .dataframe thead th {\n",
              "        text-align: right;\n",
              "    }\n",
              "</style>\n",
              "<table border=\"1\" class=\"dataframe\">\n",
              "  <thead>\n",
              "    <tr style=\"text-align: right;\">\n",
              "      <th></th>\n",
              "      <th>id</th>\n",
              "      <th>attr_time</th>\n",
              "      <th>attr_db</th>\n",
              "    </tr>\n",
              "  </thead>\n",
              "  <tbody>\n",
              "    <tr>\n",
              "      <th>0</th>\n",
              "      <td>1</td>\n",
              "      <td>1436970288505</td>\n",
              "      <td>41.295707</td>\n",
              "    </tr>\n",
              "    <tr>\n",
              "      <th>1</th>\n",
              "      <td>2</td>\n",
              "      <td>1436970289233</td>\n",
              "      <td>53.068566</td>\n",
              "    </tr>\n",
              "    <tr>\n",
              "      <th>2</th>\n",
              "      <td>3</td>\n",
              "      <td>1436970289948</td>\n",
              "      <td>42.788082</td>\n",
              "    </tr>\n",
              "    <tr>\n",
              "      <th>3</th>\n",
              "      <td>4</td>\n",
              "      <td>1436970290717</td>\n",
              "      <td>33.410566</td>\n",
              "    </tr>\n",
              "    <tr>\n",
              "      <th>4</th>\n",
              "      <td>5</td>\n",
              "      <td>1436970291439</td>\n",
              "      <td>48.845699</td>\n",
              "    </tr>\n",
              "  </tbody>\n",
              "</table>\n",
              "</div>"
            ],
            "text/plain": [
              "   id      attr_time    attr_db\n",
              "0   1  1436970288505  41.295707\n",
              "1   2  1436970289233  53.068566\n",
              "2   3  1436970289948  42.788082\n",
              "3   4  1436970290717  33.410566\n",
              "4   5  1436970291439  48.845699"
            ]
          },
          "metadata": {
            "tags": []
          },
          "execution_count": 22
        }
      ]
    },
    {
      "cell_type": "code",
      "metadata": {
        "id": "xB-XEtyxQTkm"
      },
      "source": [
        "df_mic_jump_chest = df_mic_jump_chest[['attr_db']].values[0:999,:]\n",
        "df_mic_jump_head = df_mic_jump_head[['attr_db']].values[0:999,:]\n",
        "df_mic_jump_shin = df_mic_jump_shin[['attr_db']].values[0:999,:]\n",
        "df_mic_jump_thigh = df_mic_jump_thigh[['attr_db']].values[0:999,:]\n",
        "df_mic_jump_upperarm = df_mic_jump_upperarm[['attr_db']].values[0:999,:]\n",
        "df_mic_jump_waist = df_mic_jump_waist[['attr_db']].values[0:999,:]\n",
        "df_mic_lye_chest = df_mic_lye_chest[['attr_db']].values[0:999,:]\n",
        "df_mic_lye_head = df_mic_lye_head[['attr_db']].values[0:999,:]\n",
        "df_mic_lye_shin = df_mic_lye_shin[['attr_db']].values[0:999,:]\n",
        "df_mic_lye_thigh = df_mic_lye_thigh[['attr_db']].values[0:999,:]\n",
        "df_mic_lye_upperarm = df_mic_lye_upperarm[['attr_db']].values[0:999,:]\n",
        "df_mic_lye_waist = df_mic_lye_waist[['attr_db']].values[0:999,:]\n",
        "df_mic_stand_chest = df_mic_stand_chest[['attr_db']].values[0:999,:]\n",
        "df_mic_stand_head = df_mic_stand_head[['attr_db']].values[0:999,:]\n",
        "df_mic_stand_shin = df_mic_stand_shin[['attr_db']].values[0:999,:]\n",
        "df_mic_stand_thigh = df_mic_stand_thigh[['attr_db']].values[0:999,:]\n",
        "df_mic_stand_upperarm = df_mic_stand_upperarm[['attr_db']].values[0:999,:]\n",
        "df_mic_stand_waist = df_mic_stand_waist[['attr_db']].values[0:999,:]"
      ],
      "execution_count": 23,
      "outputs": []
    },
    {
      "cell_type": "code",
      "metadata": {
        "id": "nDTn3JXlQx00"
      },
      "source": [
        "mic_jump = [df_mic_jump_chest,\n",
        "df_mic_jump_head,\n",
        "df_mic_jump_shin,\n",
        "df_mic_jump_thigh,\n",
        "df_mic_jump_upperarm,\n",
        "df_mic_jump_waist]\n",
        "\n",
        "mic_lye = [ df_mic_lye_chest,\n",
        "df_mic_lye_head,\n",
        "df_mic_lye_shin,\n",
        "df_mic_lye_thigh,\n",
        "df_mic_lye_upperarm,\n",
        "df_mic_lye_waist]\n",
        "\n",
        "mic_stand = [df_mic_stand_chest,\n",
        "df_mic_stand_head,\n",
        "df_mic_stand_shin,\n",
        "df_mic_stand_thigh,\n",
        "df_mic_stand_upperarm,\n",
        "df_mic_stand_waist]\n"
      ],
      "execution_count": 27,
      "outputs": []
    },
    {
      "cell_type": "code",
      "metadata": {
        "id": "Dzde6sFqRSZv",
        "outputId": "3036fe7b-1d03-4445-c683-3d35c289bf08",
        "colab": {
          "base_uri": "https://localhost:8080/",
          "height": 170
        }
      },
      "source": [
        "results15 = []\n",
        "for i in mic_jump:\n",
        "  for j in mic_jump:\n",
        "    euclidean_distance =  lambda i,j: np.linalg.norm(i-j)\n",
        "    d, cost_matrix, acc_cost_matrix, path = dtw(i, j, dist = euclidean_distance)\n",
        "    results15.append(d)\n",
        "\n",
        "np.hstack(results15)"
      ],
      "execution_count": 28,
      "outputs": [
        {
          "output_type": "execute_result",
          "data": {
            "text/plain": [
              "array([   0.        , 1019.86299706,  862.04169235,  723.25370859,\n",
              "        669.85899284,  757.05790278, 1019.86299706,    0.        ,\n",
              "       1111.10717086, 1176.78477046, 1010.31704474,  911.42623386,\n",
              "        862.04169235, 1111.10717086,    0.        ,  660.40963301,\n",
              "        824.81591638, 1004.22163097,  723.25370859, 1176.78477046,\n",
              "        660.40963301,    0.        ,  722.63730278,  829.99286013,\n",
              "        669.85899284, 1010.31704474,  824.81591638,  722.63730278,\n",
              "          0.        ,  749.80436348,  757.05790278,  911.42623386,\n",
              "       1004.22163097,  829.99286013,  749.80436348,    0.        ])"
            ]
          },
          "metadata": {
            "tags": []
          },
          "execution_count": 28
        }
      ]
    },
    {
      "cell_type": "code",
      "metadata": {
        "id": "j7TDueAmRbfI",
        "outputId": "fd9ce198-cd14-47a4-e1e7-6ab53f3f3f6a",
        "colab": {
          "base_uri": "https://localhost:8080/",
          "height": 170
        }
      },
      "source": [
        "results16 = []\n",
        "for i in mic_lye:\n",
        "  for j in mic_lye:\n",
        "    euclidean_distance =  lambda i,j: np.linalg.norm(i-j)\n",
        "    d, cost_matrix, acc_cost_matrix, path = dtw(i, j, dist = euclidean_distance)\n",
        "    results16.append(d)\n",
        "\n",
        "np.hstack(results16)"
      ],
      "execution_count": 29,
      "outputs": [
        {
          "output_type": "execute_result",
          "data": {
            "text/plain": [
              "array([   0.        , 3044.98321069, 3488.69028905, 3822.0743053 ,\n",
              "       3077.05625337, 3544.91912285, 3044.98321069,    0.        ,\n",
              "       2849.87660935, 3107.71701678, 2375.57158184, 3460.03508462,\n",
              "       3488.69028905, 2849.87660935,    0.        , 3074.83066568,\n",
              "       2258.01755271, 3902.87623195, 3822.0743053 , 3107.71701678,\n",
              "       3074.83066568,    0.        , 2630.85518927, 3904.96389389,\n",
              "       3077.05625337, 2375.57158184, 2258.01755271, 2630.85518927,\n",
              "          0.        , 3529.29587336, 3544.91912285, 3460.03508462,\n",
              "       3902.87623195, 3904.96389389, 3529.29587336,    0.        ])"
            ]
          },
          "metadata": {
            "tags": []
          },
          "execution_count": 29
        }
      ]
    },
    {
      "cell_type": "code",
      "metadata": {
        "id": "JGS5mijWSQ9h",
        "outputId": "288172bb-7c8d-44e3-9f82-509cd1abfd22",
        "colab": {
          "base_uri": "https://localhost:8080/",
          "height": 170
        }
      },
      "source": [
        "results17 = []\n",
        "for i in mic_stand:\n",
        "  for j in mic_stand:\n",
        "    euclidean_distance =  lambda i,j: np.linalg.norm(i-j)\n",
        "    d, cost_matrix, acc_cost_matrix, path = dtw(i, j, dist = euclidean_distance)\n",
        "    results17.append(d)\n",
        "\n",
        "np.hstack(results17)"
      ],
      "execution_count": 30,
      "outputs": [
        {
          "output_type": "execute_result",
          "data": {
            "text/plain": [
              "array([   0.        , 6024.16060084, 6838.86187399, 5715.24609935,\n",
              "       6375.69705367, 5319.26919156, 6024.16060084,    0.        ,\n",
              "       8451.42756886, 7115.78440397, 7217.20933245, 5899.729637  ,\n",
              "       6838.86187399, 8451.42756886,    0.        , 5180.09375159,\n",
              "       5676.86987509, 6323.26195051, 5715.24609935, 7115.78440397,\n",
              "       5180.09375159,    0.        , 5459.6653215 , 5580.96383401,\n",
              "       6375.69705367, 7217.20933245, 5676.86987509, 5459.6653215 ,\n",
              "          0.        , 5661.4439514 , 5319.26919156, 5899.729637  ,\n",
              "       6323.26195051, 5580.96383401, 5661.4439514 ,    0.        ])"
            ]
          },
          "metadata": {
            "tags": []
          },
          "execution_count": 30
        }
      ]
    },
    {
      "cell_type": "markdown",
      "metadata": {
        "id": "Ua1kg_fXUXnF"
      },
      "source": [
        "\n",
        "\n",
        "---\n",
        "\n",
        "\n",
        "\n",
        "\n",
        "\n",
        "---\n",
        "\n",
        "\n",
        "\n",
        "\n",
        "\n",
        "\n",
        "---\n"
      ]
    },
    {
      "cell_type": "markdown",
      "metadata": {
        "id": "pQTORpjUUaBw"
      },
      "source": [
        "#Storing the DTW distances in arrays so we can rank them\n"
      ]
    },
    {
      "cell_type": "code",
      "metadata": {
        "id": "nuGFnMiHUZwL",
        "outputId": "73b8ff39-cb6e-4be3-c866-f64240b80437",
        "colab": {
          "base_uri": "https://localhost:8080/",
          "height": 54
        }
      },
      "source": [
        "print(results10)"
      ],
      "execution_count": 31,
      "outputs": [
        {
          "output_type": "stream",
          "text": [
            "[0.0, 257392.0, 321476.0, 359163.0, 291917.0, 112202.0, 257392.0, 0.0, 178720.0, 569585.0, 102622.0, 318416.0, 321476.0, 178720.0, 0.0, 489655.0, 74537.0, 502194.0, 359163.0, 569585.0, 489655.0, 0.0, 523750.0, 407890.0, 291917.0, 102622.0, 74537.0, 523750.0, 0.0, 432741.0, 112202.0, 318416.0, 502194.0, 407890.0, 432741.0, 0.0]\n"
          ],
          "name": "stdout"
        }
      ]
    }
  ]
}