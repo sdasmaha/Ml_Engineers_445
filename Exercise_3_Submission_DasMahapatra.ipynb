{
  "nbformat": 4,
  "nbformat_minor": 0,
  "metadata": {
    "kernelspec": {
      "display_name": "Python 3",
      "language": "python",
      "name": "python3"
    },
    "language_info": {
      "codemirror_mode": {
        "name": "ipython",
        "version": 3
      },
      "file_extension": ".py",
      "mimetype": "text/x-python",
      "name": "python",
      "nbconvert_exporter": "python",
      "pygments_lexer": "ipython3",
      "version": "3.7.9"
    },
    "colab": {
      "name": "Exercise-#3_Submission_DasMartinez.ipynb",
      "provenance": [],
      "include_colab_link": true
    }
  },
  "cells": [
    {
      "cell_type": "markdown",
      "metadata": {
        "id": "view-in-github",
        "colab_type": "text"
      },
      "source": [
        "<a href=\"https://colab.research.google.com/github/sdasmaha/Ml_Engineers_445/blob/master/Exercise_3_Submission_DasMahapatra.ipynb\" target=\"_parent\"><img src=\"https://colab.research.google.com/assets/colab-badge.svg\" alt=\"Open In Colab\"/></a>"
      ]
    },
    {
      "cell_type": "markdown",
      "metadata": {
        "id": "XDVtCe1MDVrX"
      },
      "source": [
        "Notebook Excercise #3\n",
        "#Srinjosé DasMartinéz\n",
        "\n",
        "IDE => Google Colab Pro"
      ]
    },
    {
      "cell_type": "code",
      "metadata": {
        "id": "yUNwBS1RDhXv"
      },
      "source": [
        "import numpy as np\n",
        "import pandas as pd\n",
        "from scipy import stats as sps\n",
        "from matplotlib import pyplot as plt\n",
        "from mpl_toolkits.mplot3d import Axes3D\n",
        "from IPython.display import display, Latex"
      ],
      "execution_count": 1,
      "outputs": []
    },
    {
      "cell_type": "markdown",
      "metadata": {
        "id": "mv4VTg2oDOOT"
      },
      "source": [
        "# 1. Non-centered Data and Principal Component Analysis (PCA)"
      ]
    },
    {
      "cell_type": "markdown",
      "metadata": {
        "id": "hl6Y4klUDOOU"
      },
      "source": [
        "## 1.1"
      ]
    },
    {
      "cell_type": "code",
      "metadata": {
        "id": "z6q8U5jUDOOU"
      },
      "source": [
        "A = np.random.randn(3,2)\n",
        "c = np.random.randn(3,1)\n",
        "c1 = np.random.randn(3,1)"
      ],
      "execution_count": 48,
      "outputs": []
    },
    {
      "cell_type": "markdown",
      "metadata": {
        "id": "1u1qfN5GDOOX"
      },
      "source": [
        "## 1.2"
      ]
    },
    {
      "cell_type": "code",
      "metadata": {
        "id": "JJyrG8P8DOOY"
      },
      "source": [
        "B = np.random.randn(2,250)\n",
        "X_1 = np.matmul(A,B)\n",
        "X = np.add(X_1, c)"
      ],
      "execution_count": 49,
      "outputs": []
    },
    {
      "cell_type": "code",
      "metadata": {
        "id": "P6Z2ZukCT-M8",
        "outputId": "4408e973-e869-498a-cea6-866fa32a6a15",
        "colab": {
          "base_uri": "https://localhost:8080/",
          "height": 34
        }
      },
      "source": [
        "np.shape(X)"
      ],
      "execution_count": 50,
      "outputs": [
        {
          "output_type": "execute_result",
          "data": {
            "text/plain": [
              "(3, 250)"
            ]
          },
          "metadata": {
            "tags": []
          },
          "execution_count": 50
        }
      ]
    },
    {
      "cell_type": "markdown",
      "metadata": {
        "id": "-9KUsAGuDOOa"
      },
      "source": [
        "## 1.3"
      ]
    },
    {
      "cell_type": "code",
      "metadata": {
        "id": "P0TeTyhxDOOb",
        "outputId": "5d8a8b59-8702-4f82-ed86-354308d5f626",
        "colab": {
          "base_uri": "https://localhost:8080/",
          "height": 34
        }
      },
      "source": [
        "np.linalg.matrix_rank(X, tol=None)"
      ],
      "execution_count": 51,
      "outputs": [
        {
          "output_type": "execute_result",
          "data": {
            "text/plain": [
              "3"
            ]
          },
          "metadata": {
            "tags": []
          },
          "execution_count": 51
        }
      ]
    },
    {
      "cell_type": "markdown",
      "metadata": {
        "id": "mHEE3jImDOOd"
      },
      "source": [
        "## 1.4"
      ]
    },
    {
      "cell_type": "markdown",
      "metadata": {
        "id": "Zb7WANVUDOOe"
      },
      "source": [
        "The choices that justify when c != 0 gurantees that the data remains centered are:\n",
        "\n",
        "\n"
      ]
    },
    {
      "cell_type": "markdown",
      "metadata": {
        "id": "bsqNFA23DOOe"
      },
      "source": [
        "## 1.5"
      ]
    },
    {
      "cell_type": "markdown",
      "metadata": {
        "id": "sjx41b3DDOOf"
      },
      "source": [
        "### (a)"
      ]
    },
    {
      "cell_type": "code",
      "metadata": {
        "id": "U-fl-zIIDOOg",
        "outputId": "00656a69-d73a-4b22-e5bb-adc637ff9ad1",
        "colab": {
          "base_uri": "https://localhost:8080/",
          "height": 68
        }
      },
      "source": [
        "U_1_2 = A / np.linalg.norm(A)\n",
        "print(U_1_2)"
      ],
      "execution_count": 52,
      "outputs": [
        {
          "output_type": "stream",
          "text": [
            "[[ 0.43385941 -0.10794843]\n",
            " [-0.65900875 -0.29887841]\n",
            " [ 0.47181351 -0.23212997]]\n"
          ],
          "name": "stdout"
        }
      ]
    },
    {
      "cell_type": "markdown",
      "metadata": {
        "id": "Ok7FwAvgDOOi"
      },
      "source": [
        "### (b)"
      ]
    },
    {
      "cell_type": "code",
      "metadata": {
        "id": "XVp2R9qEDOOj",
        "outputId": "7ff06274-515b-4ecf-95ad-26b130e9fbc8",
        "colab": {
          "base_uri": "https://localhost:8080/",
          "height": 68
        }
      },
      "source": [
        "U_UT = np.matmul(U_1_2,U_1_2.T)\n",
        "U_UT"
      ],
      "execution_count": 53,
      "outputs": [
        {
          "output_type": "execute_result",
          "data": {
            "text/plain": [
              "array([[ 0.19988685, -0.2536537 ,  0.2297588 ],\n",
              "       [-0.2536537 ,  0.52362084, -0.2415506 ],\n",
              "       [ 0.2297588 , -0.2415506 ,  0.27649231]])"
            ]
          },
          "metadata": {
            "tags": []
          },
          "execution_count": 53
        }
      ]
    },
    {
      "cell_type": "code",
      "metadata": {
        "id": "b2zYMBu8Tjj-"
      },
      "source": [
        "X_Hat = np.matmul(U_UT,X)"
      ],
      "execution_count": 54,
      "outputs": []
    },
    {
      "cell_type": "code",
      "metadata": {
        "id": "UCKqjLk-UTMc",
        "outputId": "3242d65e-2405-4f38-9db3-4f2f3b75c7af",
        "colab": {
          "base_uri": "https://localhost:8080/",
          "height": 34
        }
      },
      "source": [
        "np.shape(X_Hat)"
      ],
      "execution_count": 55,
      "outputs": [
        {
          "output_type": "execute_result",
          "data": {
            "text/plain": [
              "(3, 250)"
            ]
          },
          "metadata": {
            "tags": []
          },
          "execution_count": 55
        }
      ]
    },
    {
      "cell_type": "markdown",
      "metadata": {
        "id": "zh47jbk-DOOn"
      },
      "source": [
        "### (c)"
      ]
    },
    {
      "cell_type": "code",
      "metadata": {
        "id": "Tab4k2AyDOOo",
        "outputId": "4f62b341-b5b0-4a66-d0a0-8d92ec420133",
        "colab": {
          "base_uri": "https://localhost:8080/",
          "height": 34
        }
      },
      "source": [
        "print(\"The representation error is\",(np.linalg.norm(X_Hat-X)**2))"
      ],
      "execution_count": 56,
      "outputs": [
        {
          "output_type": "stream",
          "text": [
            "The representation error is 314.8366074871359\n"
          ],
          "name": "stdout"
        }
      ]
    },
    {
      "cell_type": "markdown",
      "metadata": {
        "id": "NoW7GqBvDOOq"
      },
      "source": [
        "## 1.6"
      ]
    },
    {
      "cell_type": "code",
      "metadata": {
        "id": "wSIK_FLXDOOq"
      },
      "source": [
        "m = (np.mean(X_1, axis=0))"
      ],
      "execution_count": 63,
      "outputs": []
    },
    {
      "cell_type": "code",
      "metadata": {
        "id": "v5EECdugU0Iw"
      },
      "source": [
        "X_1_Hat =  (U_UT@(X_1-m))+m"
      ],
      "execution_count": 65,
      "outputs": []
    },
    {
      "cell_type": "markdown",
      "metadata": {
        "id": "xoaAZ385DOOs"
      },
      "source": [
        "# 2. Preprocessing (Centering) and PCA Using `scikit learn`"
      ]
    },
    {
      "cell_type": "markdown",
      "metadata": {
        "id": "796qwt-ZDOOs"
      },
      "source": [
        "## 2.1"
      ]
    },
    {
      "cell_type": "code",
      "metadata": {
        "id": "T0uTfjDODOOt"
      },
      "source": [
        "# your code for 2.1"
      ],
      "execution_count": null,
      "outputs": []
    },
    {
      "cell_type": "markdown",
      "metadata": {
        "id": "nEGepXX5DOOv"
      },
      "source": [
        "## 2.2"
      ]
    },
    {
      "cell_type": "code",
      "metadata": {
        "id": "XHnvHdviDOOw"
      },
      "source": [
        "# your code for 2.2"
      ],
      "execution_count": null,
      "outputs": []
    },
    {
      "cell_type": "markdown",
      "metadata": {
        "id": "ZPOOTulaDOOy"
      },
      "source": [
        "## 2.3"
      ]
    },
    {
      "cell_type": "code",
      "metadata": {
        "id": "PDdDeokoDOOy"
      },
      "source": [
        "# your code for 2.3"
      ],
      "execution_count": null,
      "outputs": []
    },
    {
      "cell_type": "markdown",
      "metadata": {
        "id": "IuOtmhpxDOO1"
      },
      "source": [
        "## 2.4"
      ]
    },
    {
      "cell_type": "code",
      "metadata": {
        "id": "NEnY77v3DOO1"
      },
      "source": [
        "# your code for 2.4"
      ],
      "execution_count": null,
      "outputs": []
    },
    {
      "cell_type": "markdown",
      "metadata": {
        "id": "zOGk-FjUDOO3"
      },
      "source": [
        "## 2.5"
      ]
    },
    {
      "cell_type": "code",
      "metadata": {
        "id": "JZtr8I0aDOO4"
      },
      "source": [
        "# your code for 2.5"
      ],
      "execution_count": null,
      "outputs": []
    },
    {
      "cell_type": "markdown",
      "metadata": {
        "id": "-kMOeExADOO6"
      },
      "source": [
        "## 2.6"
      ]
    },
    {
      "cell_type": "code",
      "metadata": {
        "id": "V-7I6C20DOO6"
      },
      "source": [
        "# your code for 2.6"
      ],
      "execution_count": null,
      "outputs": []
    },
    {
      "cell_type": "markdown",
      "metadata": {
        "id": "AC7dAzbxDOO8"
      },
      "source": [
        "## 2.7"
      ]
    },
    {
      "cell_type": "code",
      "metadata": {
        "id": "0VMy9QA2DOO8"
      },
      "source": [
        "# your code for 2.7"
      ],
      "execution_count": null,
      "outputs": []
    },
    {
      "cell_type": "markdown",
      "metadata": {
        "id": "IIU7SzR7DOO-"
      },
      "source": [
        "# 3. PCA as a Denoising Tool"
      ]
    },
    {
      "cell_type": "markdown",
      "metadata": {
        "id": "82Y1MvDdDOO_"
      },
      "source": [
        "## 3.1"
      ]
    },
    {
      "cell_type": "code",
      "metadata": {
        "id": "Xcr1RN8EDOO_"
      },
      "source": [
        "# your code for 3.1"
      ],
      "execution_count": null,
      "outputs": []
    },
    {
      "cell_type": "markdown",
      "metadata": {
        "id": "sVad9ugHDOPC"
      },
      "source": [
        "## 3.2"
      ]
    },
    {
      "cell_type": "code",
      "metadata": {
        "id": "Oqm0XUIDDOPC"
      },
      "source": [
        "# your code for 3.2"
      ],
      "execution_count": null,
      "outputs": []
    },
    {
      "cell_type": "markdown",
      "metadata": {
        "id": "WeDK-UdlDOPE"
      },
      "source": [
        "## 3.3"
      ]
    },
    {
      "cell_type": "code",
      "metadata": {
        "id": "FtTj4QulDOPE"
      },
      "source": [
        "# your code for 3.3"
      ],
      "execution_count": null,
      "outputs": []
    },
    {
      "cell_type": "markdown",
      "metadata": {
        "id": "CjGdwGBPDOPG"
      },
      "source": [
        "## 3.4"
      ]
    },
    {
      "cell_type": "code",
      "metadata": {
        "id": "jqt9rTbkDOPH"
      },
      "source": [
        "# your code for 3.4"
      ],
      "execution_count": null,
      "outputs": []
    },
    {
      "cell_type": "markdown",
      "metadata": {
        "id": "F1Bj6g8XDOPJ"
      },
      "source": [
        "## 3.5"
      ]
    },
    {
      "cell_type": "code",
      "metadata": {
        "id": "8AKDDUGUDOPJ"
      },
      "source": [
        "# your code for 3.5"
      ],
      "execution_count": null,
      "outputs": []
    },
    {
      "cell_type": "markdown",
      "metadata": {
        "id": "0kmn903hDOPL"
      },
      "source": [
        "## 3.6"
      ]
    },
    {
      "cell_type": "code",
      "metadata": {
        "id": "7jIBdgR9DOPM"
      },
      "source": [
        "# your code for 3.6"
      ],
      "execution_count": null,
      "outputs": []
    },
    {
      "cell_type": "markdown",
      "metadata": {
        "id": "aKhmC9mdDOPO"
      },
      "source": [
        "## 3.7"
      ]
    },
    {
      "cell_type": "code",
      "metadata": {
        "id": "HLgDE6ymDOPO"
      },
      "source": [
        "# your code for 3.7"
      ],
      "execution_count": null,
      "outputs": []
    },
    {
      "cell_type": "markdown",
      "metadata": {
        "id": "XFHtoFPCDOPQ"
      },
      "source": [
        "## 3.8"
      ]
    },
    {
      "cell_type": "markdown",
      "metadata": {
        "id": "baI-vKzrDOPR"
      },
      "source": [
        "_Provide your answer for 3.8 in this markdown cell_"
      ]
    }
  ]
}