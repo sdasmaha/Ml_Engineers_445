{
  "nbformat": 4,
  "nbformat_minor": 0,
  "metadata": {
    "kernelspec": {
      "display_name": "Python 3",
      "language": "python",
      "name": "python3"
    },
    "language_info": {
      "codemirror_mode": {
        "name": "ipython",
        "version": 3
      },
      "file_extension": ".py",
      "mimetype": "text/x-python",
      "name": "python",
      "nbconvert_exporter": "python",
      "pygments_lexer": "ipython3",
      "version": "3.7.9"
    },
    "colab": {
      "name": "Exercise-#3_Submission_DasMahapatra.ipynb",
      "provenance": [],
      "include_colab_link": true
    }
  },
  "cells": [
    {
      "cell_type": "markdown",
      "metadata": {
        "id": "view-in-github",
        "colab_type": "text"
      },
      "source": [
        "<a href=\"https://colab.research.google.com/github/sdasmaha/Ml_Engineers_445/blob/master/Exercise_3_Submission_DasMahapatra.ipynb\" target=\"_parent\"><img src=\"https://colab.research.google.com/assets/colab-badge.svg\" alt=\"Open In Colab\"/></a>"
      ]
    },
    {
      "cell_type": "markdown",
      "metadata": {
        "id": "XDVtCe1MDVrX"
      },
      "source": [
        "Notebook Excercise #3\n",
        "#Srinjoy DasMahapatra\n",
        "\n",
        "IDE => Google Colab Pro"
      ]
    },
    {
      "cell_type": "code",
      "metadata": {
        "id": "yUNwBS1RDhXv"
      },
      "source": [
        "import numpy as np\n",
        "import pandas as pd\n",
        "from scipy import stats as sps\n",
        "from matplotlib import pyplot as plt\n",
        "from mpl_toolkits.mplot3d import Axes3D\n",
        "from IPython.display import display, Latex"
      ],
      "execution_count": null,
      "outputs": []
    },
    {
      "cell_type": "markdown",
      "metadata": {
        "id": "mv4VTg2oDOOT"
      },
      "source": [
        "# 1. Non-centered Data and Principal Component Analysis (PCA)"
      ]
    },
    {
      "cell_type": "markdown",
      "metadata": {
        "id": "hl6Y4klUDOOU"
      },
      "source": [
        "## 1.1"
      ]
    },
    {
      "cell_type": "code",
      "metadata": {
        "id": "z6q8U5jUDOOU"
      },
      "source": [
        "A = np.random.randn(3,2)\n",
        "c = np.random.randn(3,1)\n",
        "c1 = np.random.randn(3,1)"
      ],
      "execution_count": null,
      "outputs": []
    },
    {
      "cell_type": "markdown",
      "metadata": {
        "id": "1u1qfN5GDOOX"
      },
      "source": [
        "## 1.2"
      ]
    },
    {
      "cell_type": "code",
      "metadata": {
        "id": "JJyrG8P8DOOY"
      },
      "source": [
        "B = np.random.randn(2,250)\n",
        "X_1 = np.matmul(A,B)\n",
        "X = np.add(X_1,c)"
      ],
      "execution_count": null,
      "outputs": []
    },
    {
      "cell_type": "code",
      "metadata": {
        "id": "P6Z2ZukCT-M8",
        "outputId": "208f2bb0-324e-4606-ec60-a65d63b7f116",
        "colab": {
          "base_uri": "https://localhost:8080/",
          "height": 34
        }
      },
      "source": [
        "np.shape(X)"
      ],
      "execution_count": null,
      "outputs": [
        {
          "output_type": "execute_result",
          "data": {
            "text/plain": [
              "(3, 250)"
            ]
          },
          "metadata": {
            "tags": []
          },
          "execution_count": 4
        }
      ]
    },
    {
      "cell_type": "markdown",
      "metadata": {
        "id": "-9KUsAGuDOOa"
      },
      "source": [
        "## 1.3"
      ]
    },
    {
      "cell_type": "code",
      "metadata": {
        "id": "P0TeTyhxDOOb",
        "outputId": "78b2fc22-3cc9-4189-ebd5-49650e7e8ca5",
        "colab": {
          "base_uri": "https://localhost:8080/",
          "height": 34
        }
      },
      "source": [
        "np.linalg.matrix_rank(X, tol=None)"
      ],
      "execution_count": null,
      "outputs": [
        {
          "output_type": "execute_result",
          "data": {
            "text/plain": [
              "3"
            ]
          },
          "metadata": {
            "tags": []
          },
          "execution_count": 5
        }
      ]
    },
    {
      "cell_type": "markdown",
      "metadata": {
        "id": "mHEE3jImDOOd"
      },
      "source": [
        "## 1.4"
      ]
    },
    {
      "cell_type": "markdown",
      "metadata": {
        "id": "Zb7WANVUDOOe"
      },
      "source": [
        "The choices that justify when c != 0 gurantees that the data remains centered are:\n",
        "\n",
        "\n"
      ]
    },
    {
      "cell_type": "markdown",
      "metadata": {
        "id": "bsqNFA23DOOe"
      },
      "source": [
        "## 1.5"
      ]
    },
    {
      "cell_type": "markdown",
      "metadata": {
        "id": "sjx41b3DDOOf"
      },
      "source": [
        "### (a)"
      ]
    },
    {
      "cell_type": "markdown",
      "metadata": {
        "id": "Ok7FwAvgDOOi"
      },
      "source": [
        "### (b)"
      ]
    },
    {
      "cell_type": "code",
      "metadata": {
        "id": "eMNEhBB0lwQU"
      },
      "source": [
        "U, s, Vh = np.linalg.svd(X)"
      ],
      "execution_count": null,
      "outputs": []
    },
    {
      "cell_type": "code",
      "metadata": {
        "id": "tS2DOYzuI17B",
        "outputId": "ac522c6c-6c06-47ee-96a7-c9c0c4c0db88",
        "colab": {
          "base_uri": "https://localhost:8080/",
          "height": 68
        }
      },
      "source": [
        "U = A / np.linalg.norm(A)\n",
        "U"
      ],
      "execution_count": null,
      "outputs": [
        {
          "output_type": "execute_result",
          "data": {
            "text/plain": [
              "array([[-0.27895853, -0.44608336],\n",
              "       [ 0.24112474,  0.56748347],\n",
              "       [ 0.39693637, -0.43064447]])"
            ]
          },
          "metadata": {
            "tags": []
          },
          "execution_count": 6
        }
      ]
    },
    {
      "cell_type": "code",
      "metadata": {
        "id": "LqOXaSUVmAUN",
        "outputId": "f982943c-20c0-4fa1-eac9-941b022747a5",
        "colab": {
          "base_uri": "https://localhost:8080/",
          "height": 1000
        }
      },
      "source": [
        "U = Vh.T[:,0:2]\n"
      ],
      "execution_count": null,
      "outputs": [
        {
          "output_type": "stream",
          "text": [
            "[[-8.72668286e-02  4.30697386e-02]\n",
            " [-9.43144968e-02  5.40067097e-02]\n",
            " [-6.73219668e-02  4.64344070e-02]\n",
            " [-2.64101880e-02 -4.68493055e-02]\n",
            " [ 2.00101550e-02  3.75747198e-02]\n",
            " [-5.01643451e-02 -7.64296269e-02]\n",
            " [-9.30647891e-02  6.92263170e-02]\n",
            " [ 1.07801199e-02 -7.39058163e-02]\n",
            " [-5.45542229e-02 -4.77600257e-02]\n",
            " [-1.63901731e-02 -1.97505437e-03]\n",
            " [-4.00214960e-02 -1.53916668e-02]\n",
            " [-4.52076970e-02 -3.72897253e-02]\n",
            " [-3.30917066e-02  2.95722891e-02]\n",
            " [-3.92086536e-02 -3.95401810e-02]\n",
            " [-1.69120571e-02  1.54340739e-02]\n",
            " [-3.28398408e-02  5.81257561e-03]\n",
            " [-1.22474054e-01  1.57304078e-01]\n",
            " [-5.65465220e-02 -1.18603845e-02]\n",
            " [-2.30015043e-02  1.59652889e-03]\n",
            " [-2.60161079e-02  1.39020031e-03]\n",
            " [-2.26839657e-02 -1.18746758e-01]\n",
            " [-9.94895493e-02  1.80089801e-02]\n",
            " [-2.98195251e-02  8.76433903e-02]\n",
            " [-3.52328893e-02  1.40859030e-02]\n",
            " [-9.31681457e-02  1.02119797e-02]\n",
            " [-4.87071756e-02 -3.29664071e-02]\n",
            " [-7.40328658e-02 -1.48466771e-01]\n",
            " [ 2.14899228e-03  3.28029472e-02]\n",
            " [-5.43676410e-02  4.62956283e-02]\n",
            " [-1.74783319e-02 -3.88188980e-02]\n",
            " [-9.02607665e-02 -1.93946512e-02]\n",
            " [-5.33558451e-02  8.79983097e-03]\n",
            " [-6.54387099e-02 -7.06743504e-02]\n",
            " [-1.64528806e-02 -7.51380448e-02]\n",
            " [-5.91532510e-02 -4.34219978e-02]\n",
            " [-3.75570073e-02 -8.81365702e-02]\n",
            " [-2.00536167e-02 -9.23167203e-02]\n",
            " [-6.92790279e-02 -6.79184808e-02]\n",
            " [-6.32141197e-02  1.26095369e-02]\n",
            " [-5.33055439e-02  1.24246274e-01]\n",
            " [-2.35121793e-02 -3.96857042e-02]\n",
            " [-7.86449671e-02  3.14324180e-02]\n",
            " [-4.30955397e-02  1.47187914e-01]\n",
            " [-3.84136214e-02  3.16711456e-02]\n",
            " [-1.59250600e-02  4.42959414e-02]\n",
            " [-9.76235022e-02  4.48389564e-02]\n",
            " [-1.21735373e-02 -2.95619209e-02]\n",
            " [-1.38713125e-01  5.28334985e-02]\n",
            " [-5.22391488e-02 -1.60079213e-01]\n",
            " [-4.04071534e-02 -1.86904899e-02]\n",
            " [-1.00241356e-02 -7.79981226e-02]\n",
            " [-7.98647880e-02 -4.46560859e-02]\n",
            " [-1.03773580e-02 -1.07396495e-01]\n",
            " [-1.41544490e-02 -3.76707809e-02]\n",
            " [-1.04429542e-01  2.66156329e-02]\n",
            " [-1.04590507e-01  8.91749955e-02]\n",
            " [-1.96487822e-02 -5.15600093e-03]\n",
            " [-9.12853526e-02 -6.85122042e-02]\n",
            " [-6.41716151e-02  6.35018896e-02]\n",
            " [-1.94421972e-02 -1.59450403e-02]\n",
            " [-8.49282811e-02  1.29925808e-02]\n",
            " [-8.17908146e-02  1.15308909e-01]\n",
            " [-7.02904795e-03  1.15880694e-02]\n",
            " [-5.03824357e-03 -8.17469469e-02]\n",
            " [-9.81344210e-02  4.72179411e-02]\n",
            " [-3.71102944e-02  3.16445863e-02]\n",
            " [-3.59704431e-02 -2.22052585e-02]\n",
            " [-4.63570748e-02  1.22574540e-02]\n",
            " [-4.89397983e-04  9.21430630e-02]\n",
            " [-6.13765948e-02 -6.45763564e-02]\n",
            " [ 1.18688206e-02 -6.21024337e-02]\n",
            " [-1.07257990e-01  9.49735236e-02]\n",
            " [-7.49301022e-02  3.04210356e-02]\n",
            " [-4.47525492e-02 -1.54598655e-02]\n",
            " [-1.19517756e-01 -7.38215100e-03]\n",
            " [-5.84679030e-02 -5.14196497e-02]\n",
            " [-1.00696891e-01 -1.18677398e-01]\n",
            " [-8.87020663e-02 -5.14094366e-02]\n",
            " [-3.39516320e-02 -5.07679040e-03]\n",
            " [-6.73840701e-02  1.04038456e-01]\n",
            " [-8.24661469e-02 -8.27671251e-02]\n",
            " [-8.17020304e-02 -5.63331264e-02]\n",
            " [-1.06713611e-01 -8.18509204e-02]\n",
            " [-1.04706429e-01  8.45696074e-03]\n",
            " [-8.45710857e-02 -1.69167597e-02]\n",
            " [-3.09275842e-02  7.16564613e-02]\n",
            " [-7.09870389e-02  1.70717777e-02]\n",
            " [-4.98778611e-02 -5.22742434e-02]\n",
            " [-4.67132993e-02 -4.05191402e-02]\n",
            " [-2.63741157e-02 -1.33557426e-01]\n",
            " [-5.71905443e-02 -6.59730480e-02]\n",
            " [-5.33556117e-02  2.51531032e-02]\n",
            " [-8.60514237e-02  3.33193402e-03]\n",
            " [-6.32140633e-02  7.15044121e-02]\n",
            " [-5.15155652e-02 -3.66297880e-02]\n",
            " [ 3.14257289e-02  3.06660739e-02]\n",
            " [-6.90020544e-02  5.26245852e-03]\n",
            " [-5.92459392e-02 -1.05469989e-01]\n",
            " [-7.89161769e-02  5.35604930e-03]\n",
            " [-8.92180259e-02  1.41545564e-02]\n",
            " [-8.08497465e-02  2.54933087e-02]\n",
            " [-1.29927381e-01 -1.11168084e-02]\n",
            " [-8.59484949e-02  5.96000088e-02]\n",
            " [-6.95091518e-02 -6.15009888e-02]\n",
            " [-4.86188642e-02 -2.76829594e-02]\n",
            " [-4.49977925e-02 -4.08828167e-02]\n",
            " [-9.31663456e-02  4.03956048e-02]\n",
            " [-6.10514361e-02  1.18407555e-01]\n",
            " [-2.45916667e-02 -2.31798542e-02]\n",
            " [-7.48692776e-02  6.68966037e-02]\n",
            " [-6.53572071e-02 -1.83655784e-02]\n",
            " [-3.11731445e-02 -8.21685937e-03]\n",
            " [-9.42673792e-02 -9.41408022e-03]\n",
            " [-1.46901907e-02 -3.43043875e-02]\n",
            " [-1.50718174e-01 -6.73329978e-02]\n",
            " [-7.27575335e-02  6.46893772e-02]\n",
            " [-3.18198413e-02 -8.91110627e-02]\n",
            " [-5.44614989e-02 -3.71205986e-02]\n",
            " [-5.11973094e-02  2.00919070e-02]\n",
            " [-6.48716713e-02 -9.81459919e-02]\n",
            " [-7.08645931e-02 -8.13277638e-02]\n",
            " [-5.44604043e-02  5.03426653e-02]\n",
            " [-5.65152266e-02  6.15555353e-02]\n",
            " [-1.33874620e-02 -8.34480919e-02]\n",
            " [-3.62844400e-04 -6.51672015e-02]\n",
            " [-6.28973807e-02  4.88015932e-02]\n",
            " [-9.79966478e-02 -1.61092515e-02]\n",
            " [-3.74330875e-02  5.81564310e-02]\n",
            " [-3.65400766e-02  6.93839092e-02]\n",
            " [-8.09629800e-02  6.22273239e-02]\n",
            " [-4.56247030e-02  1.29451818e-01]\n",
            " [-6.28907165e-02  1.32264841e-01]\n",
            " [-7.31154911e-02  5.61152571e-02]\n",
            " [-1.99374644e-02 -2.44528850e-02]\n",
            " [-6.15774445e-02  2.49522957e-02]\n",
            " [-5.18027199e-02  1.43454777e-02]\n",
            " [-6.18469871e-02 -1.16902141e-02]\n",
            " [ 2.73253239e-02 -4.75067425e-03]\n",
            " [-1.22072383e-02 -4.31816880e-02]\n",
            " [-8.94223746e-02  3.81755975e-02]\n",
            " [-9.69602725e-02  1.26320377e-01]\n",
            " [-5.97942746e-02  8.52249659e-02]\n",
            " [-1.74852000e-02 -5.28396680e-03]\n",
            " [-4.37021624e-02 -8.44554364e-02]\n",
            " [ 9.75224864e-03 -4.32915735e-03]\n",
            " [ 1.02221745e-04 -1.61844818e-03]\n",
            " [-5.44042411e-02  1.52014906e-02]\n",
            " [-5.47121789e-03 -1.19898702e-01]\n",
            " [-5.99144136e-02 -3.44611909e-02]\n",
            " [-7.02177311e-02  6.88258285e-02]\n",
            " [-9.37044281e-02 -3.53377693e-02]\n",
            " [-8.59218398e-02  1.02481637e-02]\n",
            " [-9.40410509e-02  1.96204916e-02]\n",
            " [-5.80549412e-02  6.36638479e-02]\n",
            " [-8.22001126e-02  6.64658388e-02]\n",
            " [-7.84074767e-02 -3.27483025e-02]\n",
            " [-7.44601508e-02 -1.23735297e-02]\n",
            " [-7.10035010e-02  5.98719369e-02]\n",
            " [-1.34497773e-02  6.30291466e-03]\n",
            " [-6.84391782e-02 -6.70256601e-02]\n",
            " [-1.58212921e-02  2.81864837e-03]\n",
            " [-7.21543317e-02 -6.18540536e-02]\n",
            " [-8.08734923e-02  5.28660135e-03]\n",
            " [-6.84287376e-02 -1.38451534e-01]\n",
            " [-9.95505211e-02  4.40688601e-02]\n",
            " [-7.20946909e-02 -2.96468367e-04]\n",
            " [ 1.42224290e-02  3.20128399e-02]\n",
            " [-7.10556503e-02  1.35064227e-01]\n",
            " [-8.18656079e-02  1.77549008e-02]\n",
            " [-3.50295671e-02 -1.28878843e-01]\n",
            " [-1.72634531e-02 -1.44628439e-03]\n",
            " [-1.92283346e-02 -2.50664702e-02]\n",
            " [-5.14267831e-02  1.76291345e-02]\n",
            " [-6.37715716e-02 -9.27768282e-02]\n",
            " [-4.35316595e-02 -6.73002307e-03]\n",
            " [-5.97749744e-02  7.07677562e-02]\n",
            " [-7.49178230e-02 -3.44149790e-02]\n",
            " [ 3.85156555e-03 -1.07007457e-01]\n",
            " [-2.29191138e-02 -1.42065471e-02]\n",
            " [-4.04579532e-02 -6.68644602e-02]\n",
            " [-3.00776635e-02 -2.11177783e-02]\n",
            " [-4.39905678e-02  5.00067589e-02]\n",
            " [-1.63113420e-02  1.08047426e-01]\n",
            " [-3.59721549e-02 -1.74493606e-02]\n",
            " [-6.55361156e-02 -2.27520456e-02]\n",
            " [-4.18319023e-02 -2.03378001e-02]\n",
            " [-1.27667776e-03 -4.64333039e-02]\n",
            " [-5.75469623e-02  1.31109690e-01]\n",
            " [-7.10799880e-02 -8.09195925e-02]\n",
            " [-8.50773009e-02 -3.48509492e-02]\n",
            " [-6.72033864e-02 -1.07865328e-01]\n",
            " [-7.64463174e-02  1.95227038e-02]\n",
            " [-6.66774246e-02 -2.87392073e-02]\n",
            " [-1.08318339e-01 -9.46461056e-02]\n",
            " [-1.17220609e-01 -1.39222242e-02]\n",
            " [-4.55365915e-02 -3.50914871e-02]\n",
            " [-5.26441149e-02 -6.41181790e-02]\n",
            " [-4.96909337e-02  2.38204140e-02]\n",
            " [-2.52661310e-02 -8.95885248e-02]\n",
            " [-5.95001374e-02  7.35390292e-03]\n",
            " [-1.91080163e-02 -1.35214172e-01]\n",
            " [-3.22588387e-02 -5.10012624e-02]\n",
            " [-1.25944263e-02  3.98852643e-02]\n",
            " [-1.23826542e-01 -4.04125342e-02]\n",
            " [-3.08483126e-02 -1.17299292e-02]\n",
            " [-4.01502057e-02  3.22503035e-02]\n",
            " [-9.99834164e-02  5.17833969e-03]\n",
            " [-5.74899669e-02  2.18377821e-04]\n",
            " [-1.68266070e-02  1.50091920e-02]\n",
            " [-7.20325722e-02 -5.66656345e-02]\n",
            " [-8.70601480e-02  5.34050390e-02]\n",
            " [-9.74673752e-02 -2.43377016e-02]\n",
            " [-6.42800583e-02  4.22428722e-02]\n",
            " [-8.75466564e-02 -9.23365883e-02]\n",
            " [-4.60149154e-02  1.49452251e-01]\n",
            " [-4.72026343e-02 -3.20657675e-02]\n",
            " [-2.49987226e-02 -3.12620690e-02]\n",
            " [-5.51268286e-02 -5.86526356e-02]\n",
            " [-8.66027113e-03  3.70159002e-02]\n",
            " [-3.50290452e-02 -7.88281976e-02]\n",
            " [-5.73442949e-02 -6.02254189e-02]\n",
            " [-1.00381909e-01  7.88013096e-03]\n",
            " [-5.86693593e-02 -1.02654964e-01]\n",
            " [-4.44885266e-02  3.26479150e-02]\n",
            " [-2.11997074e-02  2.97490421e-03]\n",
            " [-5.24320236e-02 -5.70308894e-02]\n",
            " [-7.79063279e-02 -1.34636013e-02]\n",
            " [ 5.11808203e-03 -5.97995689e-02]\n",
            " [-4.14097738e-02  1.76823969e-02]\n",
            " [-4.33867794e-02  6.29758709e-02]\n",
            " [-3.28915237e-02 -1.08323058e-01]\n",
            " [-8.78420849e-02 -3.12770469e-02]\n",
            " [-7.42559945e-02  1.22986623e-01]\n",
            " [-3.07386411e-02  4.08214315e-02]\n",
            " [-8.56826803e-02 -3.78988640e-02]\n",
            " [-6.85196525e-02 -6.26773802e-02]\n",
            " [-6.67706666e-02 -6.17536390e-02]\n",
            " [-1.02490207e-01 -1.24510212e-02]\n",
            " [-7.02045007e-02 -4.16396182e-02]\n",
            " [-3.94910066e-02  1.21826124e-02]\n",
            " [ 3.03898548e-02  4.22469662e-03]\n",
            " [-4.37195978e-02  4.16050694e-02]\n",
            " [-4.11383211e-02  1.10446756e-01]\n",
            " [-5.45800918e-02  1.28787192e-01]\n",
            " [-2.01593315e-02  1.98121261e-03]\n",
            " [-6.15994220e-02 -3.77687938e-02]\n",
            " [-6.63018756e-02 -2.37206480e-02]\n",
            " [-5.41781922e-02  1.12780545e-01]\n",
            " [-1.05503521e-01 -6.53044931e-02]\n",
            " [-6.48394834e-02  1.25014143e-01]]\n"
          ],
          "name": "stdout"
        }
      ]
    },
    {
      "cell_type": "code",
      "metadata": {
        "id": "hIT07eFGJe9z",
        "outputId": "8cfbb5f4-905b-41a2-f884-ab693474aefe",
        "colab": {
          "base_uri": "https://localhost:8080/",
          "height": 34
        }
      },
      "source": [
        "s"
      ],
      "execution_count": null,
      "outputs": [
        {
          "output_type": "execute_result",
          "data": {
            "text/plain": [
              "array([29.99301282, 19.70716817,  3.0348222 ])"
            ]
          },
          "metadata": {
            "tags": []
          },
          "execution_count": 7
        }
      ]
    },
    {
      "cell_type": "code",
      "metadata": {
        "id": "XVp2R9qEDOOj",
        "outputId": "cc7a6163-9998-41c8-e0ca-e0e34bbb2498",
        "colab": {
          "base_uri": "https://localhost:8080/",
          "height": 68
        }
      },
      "source": [
        "U = U[:,0:2]\n",
        "U"
      ],
      "execution_count": null,
      "outputs": [
        {
          "output_type": "execute_result",
          "data": {
            "text/plain": [
              "array([[-0.32239499,  0.04649212],\n",
              "       [-0.40860728, -0.90778491],\n",
              "       [-0.85387444,  0.41685133]])"
            ]
          },
          "metadata": {
            "tags": []
          },
          "execution_count": 9
        }
      ]
    },
    {
      "cell_type": "code",
      "metadata": {
        "id": "sARdnRVVJ4Sy",
        "outputId": "9d19e7ec-c122-4d13-a487-51542f12ba7b",
        "colab": {
          "base_uri": "https://localhost:8080/",
          "height": 68
        }
      },
      "source": [
        "U_UT = np.matmul(U,U.T)\n",
        "U_UT"
      ],
      "execution_count": null,
      "outputs": [
        {
          "output_type": "execute_result",
          "data": {
            "text/plain": [
              "array([[ 0.10610004,  0.08952809,  0.29466514],\n",
              "       [ 0.08952809,  0.99103336, -0.02951204],\n",
              "       [ 0.29466514, -0.02951204,  0.9028666 ]])"
            ]
          },
          "metadata": {
            "tags": []
          },
          "execution_count": 10
        }
      ]
    },
    {
      "cell_type": "code",
      "metadata": {
        "id": "YECa5j6qh-rG",
        "outputId": "86bfc4b1-8ccd-4500-a31a-c004b7a06159",
        "colab": {
          "base_uri": "https://localhost:8080/",
          "height": 34
        }
      },
      "source": [
        "np.shape(X)"
      ],
      "execution_count": null,
      "outputs": [
        {
          "output_type": "execute_result",
          "data": {
            "text/plain": [
              "(3, 250)"
            ]
          },
          "metadata": {
            "tags": []
          },
          "execution_count": 13
        }
      ]
    },
    {
      "cell_type": "code",
      "metadata": {
        "id": "b2zYMBu8Tjj-"
      },
      "source": [
        "X_Hat = np.matmul(U_UT,X)"
      ],
      "execution_count": null,
      "outputs": []
    },
    {
      "cell_type": "code",
      "metadata": {
        "id": "UCKqjLk-UTMc",
        "outputId": "03009750-e804-441d-c26c-0c81d9d729e1",
        "colab": {
          "base_uri": "https://localhost:8080/",
          "height": 34
        }
      },
      "source": [
        "np.shape(X)"
      ],
      "execution_count": null,
      "outputs": [
        {
          "output_type": "execute_result",
          "data": {
            "text/plain": [
              "(3, 250)"
            ]
          },
          "metadata": {
            "tags": []
          },
          "execution_count": 15
        }
      ]
    },
    {
      "cell_type": "markdown",
      "metadata": {
        "id": "zh47jbk-DOOn"
      },
      "source": [
        "### (c)"
      ]
    },
    {
      "cell_type": "code",
      "metadata": {
        "id": "Tab4k2AyDOOo",
        "outputId": "8ad0a2e1-f76a-421f-eb79-3e3522101a9a",
        "colab": {
          "base_uri": "https://localhost:8080/",
          "height": 34
        }
      },
      "source": [
        "print(np.linalg.norm(X_Hat-X)**2)\n"
      ],
      "execution_count": null,
      "outputs": [
        {
          "output_type": "stream",
          "text": [
            "9.210145755649878\n"
          ],
          "name": "stdout"
        }
      ]
    },
    {
      "cell_type": "markdown",
      "metadata": {
        "id": "NoW7GqBvDOOq"
      },
      "source": [
        "## 1.6"
      ]
    },
    {
      "cell_type": "code",
      "metadata": {
        "id": "wSIK_FLXDOOq"
      },
      "source": [
        "m = (np.mean(X_1, axis=0))"
      ],
      "execution_count": null,
      "outputs": []
    },
    {
      "cell_type": "code",
      "metadata": {
        "id": "v5EECdugU0Iw"
      },
      "source": [
        "X_1_Hat =  (U_UT@(X_1-m))+m"
      ],
      "execution_count": null,
      "outputs": []
    },
    {
      "cell_type": "code",
      "metadata": {
        "id": "iVuZDJM5H91I",
        "outputId": "5581044e-c479-4b46-f649-f52fb5bedd16",
        "colab": {
          "base_uri": "https://localhost:8080/",
          "height": 34
        }
      },
      "source": [
        "print(np.linalg.norm(X_1_Hat-X)**2)\n"
      ],
      "execution_count": null,
      "outputs": [
        {
          "output_type": "stream",
          "text": [
            "1842.9953043754551\n"
          ],
          "name": "stdout"
        }
      ]
    },
    {
      "cell_type": "markdown",
      "metadata": {
        "id": "xoaAZ385DOOs"
      },
      "source": [
        "# 2. Preprocessing (Centering) and PCA Using `scikit learn`"
      ]
    },
    {
      "cell_type": "markdown",
      "metadata": {
        "id": "796qwt-ZDOOs"
      },
      "source": [
        "## 2.1"
      ]
    },
    {
      "cell_type": "code",
      "metadata": {
        "id": "T0uTfjDODOOt"
      },
      "source": [
        "# your code for 2.1"
      ],
      "execution_count": null,
      "outputs": []
    },
    {
      "cell_type": "markdown",
      "metadata": {
        "id": "nEGepXX5DOOv"
      },
      "source": [
        "## 2.2"
      ]
    },
    {
      "cell_type": "code",
      "metadata": {
        "id": "XHnvHdviDOOw"
      },
      "source": [
        "# your code for 2.2"
      ],
      "execution_count": null,
      "outputs": []
    },
    {
      "cell_type": "markdown",
      "metadata": {
        "id": "ZPOOTulaDOOy"
      },
      "source": [
        "## 2.3"
      ]
    },
    {
      "cell_type": "code",
      "metadata": {
        "id": "PDdDeokoDOOy"
      },
      "source": [
        "# your code for 2.3"
      ],
      "execution_count": null,
      "outputs": []
    },
    {
      "cell_type": "markdown",
      "metadata": {
        "id": "IuOtmhpxDOO1"
      },
      "source": [
        "## 2.4"
      ]
    },
    {
      "cell_type": "code",
      "metadata": {
        "id": "NEnY77v3DOO1"
      },
      "source": [
        "# your code for 2.4"
      ],
      "execution_count": null,
      "outputs": []
    },
    {
      "cell_type": "markdown",
      "metadata": {
        "id": "zOGk-FjUDOO3"
      },
      "source": [
        "## 2.5"
      ]
    },
    {
      "cell_type": "code",
      "metadata": {
        "id": "JZtr8I0aDOO4"
      },
      "source": [
        "# your code for 2.5"
      ],
      "execution_count": null,
      "outputs": []
    },
    {
      "cell_type": "markdown",
      "metadata": {
        "id": "-kMOeExADOO6"
      },
      "source": [
        "## 2.6"
      ]
    },
    {
      "cell_type": "code",
      "metadata": {
        "id": "V-7I6C20DOO6"
      },
      "source": [
        "# your code for 2.6"
      ],
      "execution_count": null,
      "outputs": []
    },
    {
      "cell_type": "markdown",
      "metadata": {
        "id": "AC7dAzbxDOO8"
      },
      "source": [
        "## 2.7"
      ]
    },
    {
      "cell_type": "code",
      "metadata": {
        "id": "0VMy9QA2DOO8"
      },
      "source": [
        "# your code for 2.7"
      ],
      "execution_count": null,
      "outputs": []
    },
    {
      "cell_type": "markdown",
      "metadata": {
        "id": "IIU7SzR7DOO-"
      },
      "source": [
        "# 3. PCA as a Denoising Tool"
      ]
    },
    {
      "cell_type": "markdown",
      "metadata": {
        "id": "82Y1MvDdDOO_"
      },
      "source": [
        "## 3.1"
      ]
    },
    {
      "cell_type": "code",
      "metadata": {
        "id": "Xcr1RN8EDOO_"
      },
      "source": [
        "# your code for 3.1"
      ],
      "execution_count": null,
      "outputs": []
    },
    {
      "cell_type": "markdown",
      "metadata": {
        "id": "sVad9ugHDOPC"
      },
      "source": [
        "## 3.2"
      ]
    },
    {
      "cell_type": "code",
      "metadata": {
        "id": "Oqm0XUIDDOPC"
      },
      "source": [
        "# your code for 3.2"
      ],
      "execution_count": null,
      "outputs": []
    },
    {
      "cell_type": "markdown",
      "metadata": {
        "id": "WeDK-UdlDOPE"
      },
      "source": [
        "## 3.3"
      ]
    },
    {
      "cell_type": "code",
      "metadata": {
        "id": "FtTj4QulDOPE"
      },
      "source": [
        "# your code for 3.3"
      ],
      "execution_count": null,
      "outputs": []
    },
    {
      "cell_type": "markdown",
      "metadata": {
        "id": "CjGdwGBPDOPG"
      },
      "source": [
        "## 3.4"
      ]
    },
    {
      "cell_type": "code",
      "metadata": {
        "id": "jqt9rTbkDOPH"
      },
      "source": [
        "# your code for 3.4"
      ],
      "execution_count": null,
      "outputs": []
    },
    {
      "cell_type": "markdown",
      "metadata": {
        "id": "F1Bj6g8XDOPJ"
      },
      "source": [
        "## 3.5"
      ]
    },
    {
      "cell_type": "code",
      "metadata": {
        "id": "8AKDDUGUDOPJ"
      },
      "source": [
        "# your code for 3.5"
      ],
      "execution_count": null,
      "outputs": []
    },
    {
      "cell_type": "markdown",
      "metadata": {
        "id": "0kmn903hDOPL"
      },
      "source": [
        "## 3.6"
      ]
    },
    {
      "cell_type": "code",
      "metadata": {
        "id": "7jIBdgR9DOPM"
      },
      "source": [
        "# your code for 3.6"
      ],
      "execution_count": null,
      "outputs": []
    },
    {
      "cell_type": "markdown",
      "metadata": {
        "id": "aKhmC9mdDOPO"
      },
      "source": [
        "## 3.7"
      ]
    },
    {
      "cell_type": "code",
      "metadata": {
        "id": "HLgDE6ymDOPO"
      },
      "source": [
        "# your code for 3.7"
      ],
      "execution_count": null,
      "outputs": []
    },
    {
      "cell_type": "markdown",
      "metadata": {
        "id": "XFHtoFPCDOPQ"
      },
      "source": [
        "## 3.8"
      ]
    },
    {
      "cell_type": "markdown",
      "metadata": {
        "id": "baI-vKzrDOPR"
      },
      "source": [
        "_Provide your answer for 3.8 in this markdown cell_"
      ]
    }
  ]
}