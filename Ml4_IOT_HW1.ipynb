{
  "nbformat": 4,
  "nbformat_minor": 0,
  "metadata": {
    "colab": {
      "name": "Ml4_IOT_HW1.ipynb",
      "provenance": [],
      "collapsed_sections": [],
      "authorship_tag": "ABX9TyMjh85xF7qjit2M4JUlJd5f",
      "include_colab_link": true
    },
    "kernelspec": {
      "name": "python3",
      "display_name": "Python 3"
    }
  },
  "cells": [
    {
      "cell_type": "markdown",
      "metadata": {
        "id": "view-in-github",
        "colab_type": "text"
      },
      "source": [
        "<a href=\"https://colab.research.google.com/github/sdasmaha/Ml_Engineers_445/blob/master/Ml4_IOT_HW1.ipynb\" target=\"_parent\"><img src=\"https://colab.research.google.com/assets/colab-badge.svg\" alt=\"Open In Colab\"/></a>"
      ]
    },
    {
      "cell_type": "markdown",
      "metadata": {
        "id": "I9MYHCx-UtQ3"
      },
      "source": [
        "#Subject Details HAR DATASET"
      ]
    },
    {
      "cell_type": "markdown",
      "metadata": {
        "id": "bfSHmt9uUJ4m"
      },
      "source": [
        "\n",
        "* Subject:12\n",
        "*  Gender:Female\n",
        "*  Age:16\n",
        "*  Height:164 cm\n",
        "*  Weight:54 kg\n",
        "*  Occupation: Pupil\n",
        "\n",
        "\n"
      ]
    },
    {
      "cell_type": "markdown",
      "metadata": {
        "id": "TKnnPb-KS-4n"
      },
      "source": [
        "#Importing Libraries & Mounting GDRIVE\n"
      ]
    },
    {
      "cell_type": "code",
      "metadata": {
        "id": "Vcb-15a6Lx6J"
      },
      "source": [
        "import pandas as pd\n",
        "import numpy as np\n",
        "import os"
      ],
      "execution_count": 2,
      "outputs": []
    },
    {
      "cell_type": "code",
      "metadata": {
        "id": "D2Rr-LqpQOc_",
        "outputId": "6acffe0a-20a6-4f92-ccbb-b6c7755b0c29",
        "colab": {
          "base_uri": "https://localhost:8080/",
          "height": 224
        }
      },
      "source": [
        "!pip install dtw"
      ],
      "execution_count": 3,
      "outputs": [
        {
          "output_type": "stream",
          "text": [
            "Collecting dtw\n",
            "  Downloading https://files.pythonhosted.org/packages/66/a0/21d6ec377b8d5832218700e236205f8cdea38b3b2cdd0a732be170e2809b/dtw-1.4.0.tar.gz\n",
            "Requirement already satisfied: numpy in /usr/local/lib/python3.6/dist-packages (from dtw) (1.18.5)\n",
            "Requirement already satisfied: scipy in /usr/local/lib/python3.6/dist-packages (from dtw) (1.4.1)\n",
            "Building wheels for collected packages: dtw\n",
            "  Building wheel for dtw (setup.py) ... \u001b[?25l\u001b[?25hdone\n",
            "  Created wheel for dtw: filename=dtw-1.4.0-cp36-none-any.whl size=5315 sha256=99cead624fefd884ec880ae9524a3ee47419678df3a7be0aa72a8742fa17e268\n",
            "  Stored in directory: /root/.cache/pip/wheels/8c/8b/7a/947d67b53cd54948890a173527b0470ef56998812fc9d0a803\n",
            "Successfully built dtw\n",
            "Installing collected packages: dtw\n",
            "Successfully installed dtw-1.4.0\n"
          ],
          "name": "stdout"
        }
      ]
    },
    {
      "cell_type": "code",
      "metadata": {
        "id": "alnmK6eDQLww"
      },
      "source": [
        "from dtw import dtw "
      ],
      "execution_count": 4,
      "outputs": []
    },
    {
      "cell_type": "code",
      "metadata": {
        "id": "BeFxlJIWvRdY",
        "outputId": "ccc54efb-be17-4882-fd1e-4799a17ad29b",
        "colab": {
          "base_uri": "https://localhost:8080/",
          "height": 34
        }
      },
      "source": [
        "from google.colab import drive\n",
        "drive.mount(\"/content/gdrive\")"
      ],
      "execution_count": 5,
      "outputs": [
        {
          "output_type": "stream",
          "text": [
            "Mounted at /content/gdrive\n"
          ],
          "name": "stdout"
        }
      ]
    },
    {
      "cell_type": "markdown",
      "metadata": {
        "id": "TrX0C3_6SDFp"
      },
      "source": [
        "#Importing ALL DATASETS\n"
      ]
    },
    {
      "cell_type": "markdown",
      "metadata": {
        "id": "U7VmR1EDCXGA"
      },
      "source": [
        "**Jumping**\n"
      ]
    },
    {
      "cell_type": "code",
      "metadata": {
        "id": "OSPXLZkAzfS2"
      },
      "source": [
        "df_acc_jump_chest = pd.read_csv(\"/content/gdrive/My Drive/ML4IOT/Notebook 1/Jumping/acc_jumping_csv/acc_jumping_chest.csv\")\n",
        "df_acc_jump_forearm = pd.read_csv(\"/content/gdrive/My Drive/ML4IOT/Notebook 1/Jumping/acc_jumping_csv/acc_jumping_forearm.csv\")\n",
        "df_acc_jump_head = pd.read_csv(\"/content/gdrive/My Drive/ML4IOT/Notebook 1/Jumping/acc_jumping_csv/acc_jumping_head.csv\")\n",
        "df_acc_jump_shin = pd.read_csv(\"/content/gdrive/My Drive/ML4IOT/Notebook 1/Jumping/acc_jumping_csv/acc_jumping_shin.csv\")\n",
        "df_acc_jump_thigh= pd.read_csv(\"/content/gdrive/My Drive/ML4IOT/Notebook 1/Jumping/acc_jumping_csv/acc_jumping_thigh.csv\")\n",
        "df_acc_jump_upperarm = pd.read_csv(\"/content/gdrive/My Drive/ML4IOT/Notebook 1/Jumping/acc_jumping_csv/acc_jumping_upperarm.csv\")\n",
        "df_acc_jump_waist = pd.read_csv(\"/content/gdrive/My Drive/ML4IOT/Notebook 1/Jumping/acc_jumping_csv/acc_jumping_waist.csv\")\n",
        "\n",
        "df_gps_jump_chest = pd.read_csv(\"/content/gdrive/My Drive/ML4IOT/Notebook 1/Jumping/gps_jumping_csv/GPS_jumping_chest.csv\")\n",
        "df_gps_jump_head = pd.read_csv(\"/content/gdrive/My Drive/ML4IOT/Notebook 1/Jumping/gps_jumping_csv/GPS_jumping_head.csv\")\n",
        "df_gps_jump_shin = pd.read_csv(\"/content/gdrive/My Drive/ML4IOT/Notebook 1/Jumping/gps_jumping_csv/GPS_jumping_shin.csv\")\n",
        "df_gps_jump_thigh = pd.read_csv(\"/content/gdrive/My Drive/ML4IOT/Notebook 1/Jumping/gps_jumping_csv/GPS_jumping_thigh.csv\")\n",
        "df_gps_jump_upperarm = pd.read_csv(\"/content/gdrive/My Drive/ML4IOT/Notebook 1/Jumping/gps_jumping_csv/GPS_jumping_upperarm.csv\")\n",
        "df_gps_jump_waist = pd.read_csv(\"/content/gdrive/My Drive/ML4IOT/Notebook 1/Jumping/gps_jumping_csv/GPS_jumping_waist.csv\")\n",
        "\n",
        "df_gyr_jump_chest = pd.read_csv(\"/content/gdrive/My Drive/ML4IOT/Notebook 1/Jumping/gyr_jumping_csv/Gyroscope_jumping_chest.csv\")\n",
        "df_gyr_jump_forearm = pd.read_csv(\"/content/gdrive/My Drive/ML4IOT/Notebook 1/Jumping/gyr_jumping_csv/Gyroscope_jumping_forearm.csv\")\n",
        "df_gyr_jump_head = pd.read_csv(\"/content/gdrive/My Drive/ML4IOT/Notebook 1/Jumping/gyr_jumping_csv/Gyroscope_jumping_head.csv\")\n",
        "df_gyr_jump_shin = pd.read_csv(\"/content/gdrive/My Drive/ML4IOT/Notebook 1/Jumping/gyr_jumping_csv/Gyroscope_jumping_shin.csv\")\n",
        "df_gyr_jump_thigh = pd.read_csv(\"/content/gdrive/My Drive/ML4IOT/Notebook 1/Jumping/gyr_jumping_csv/Gyroscope_jumping_thigh.csv\")\n",
        "df_gyr_jump_upperarm = pd.read_csv(\"/content/gdrive/My Drive/ML4IOT/Notebook 1/Jumping/gyr_jumping_csv/Gyroscope_jumping_upperarm.csv\")\n",
        "df_gyr_jump_waist = pd.read_csv(\"/content/gdrive/My Drive/ML4IOT/Notebook 1/Jumping/gyr_jumping_csv/Gyroscope_jumping_waist.csv\")\n",
        "\n",
        "df_lig_jump_chest = pd.read_csv(\"/content/gdrive/My Drive/ML4IOT/Notebook 1/Jumping/lig_jumping_csv/Light_jumping_chest.csv\")\n",
        "df_lig_jump_head = pd.read_csv(\"/content/gdrive/My Drive/ML4IOT/Notebook 1/Jumping/lig_jumping_csv/Light_jumping_head.csv\")\n",
        "df_lig_jump_shin = pd.read_csv(\"/content/gdrive/My Drive/ML4IOT/Notebook 1/Jumping/lig_jumping_csv/Light_jumping_shin.csv\")\n",
        "df_lig_jump_thigh = pd.read_csv(\"/content/gdrive/My Drive/ML4IOT/Notebook 1/Jumping/lig_jumping_csv/Light_jumping_thigh.csv\")\n",
        "df_lig_jump_upperarm = pd.read_csv(\"/content/gdrive/My Drive/ML4IOT/Notebook 1/Jumping/lig_jumping_csv/Light_jumping_upperarm.csv\")\n",
        "df_lig_jump_waist = pd.read_csv(\"/content/gdrive/My Drive/ML4IOT/Notebook 1/Jumping/lig_jumping_csv/Light_jumping_waist.csv\")\n",
        " \n",
        "df_mag_jump_chest = pd.read_csv(\"/content/gdrive/My Drive/ML4IOT/Notebook 1/Jumping/mag_jumping_csv/MagneticField_jumping_chest.csv\")\n",
        "df_mag_jump_forearm = pd.read_csv(\"/content/gdrive/My Drive/ML4IOT/Notebook 1/Jumping/mag_jumping_csv/MagneticField_jumping_forearm.csv\")\n",
        "df_mag_jump_head = pd.read_csv(\"/content/gdrive/My Drive/ML4IOT/Notebook 1/Jumping/mag_jumping_csv/MagneticField_jumping_head.csv\")\n",
        "df_mag_jump_shin = pd.read_csv(\"/content/gdrive/My Drive/ML4IOT/Notebook 1/Jumping/mag_jumping_csv/MagneticField_jumping_shin.csv\")\n",
        "df_mag_jump_thigh = pd.read_csv(\"/content/gdrive/My Drive/ML4IOT/Notebook 1/Jumping/mag_jumping_csv/MagneticField_jumping_thigh.csv\")\n",
        "df_mag_jump_upperarm = pd.read_csv(\"/content/gdrive/My Drive/ML4IOT/Notebook 1/Jumping/mag_jumping_csv/MagneticField_jumping_upperarm.csv\")\n",
        "df_mag_jump_waist = pd.read_csv(\"/content/gdrive/My Drive/ML4IOT/Notebook 1/Jumping/mag_jumping_csv/MagneticField_jumping_waist.csv\")\n",
        " \n",
        "df_mic_jump_chest = pd.read_csv(\"/content/gdrive/My Drive/ML4IOT/Notebook 1/Jumping/mic_jumping_csv/Microphone_jumping_chest.csv\")\n",
        "df_mic_jump_head = pd.read_csv(\"/content/gdrive/My Drive/ML4IOT/Notebook 1/Jumping/mic_jumping_csv/Microphone_jumping_head.csv\")\n",
        "df_mic_jump_shin = pd.read_csv(\"/content/gdrive/My Drive/ML4IOT/Notebook 1/Jumping/mic_jumping_csv/Microphone_jumping_shin.csv\")\n",
        "df_mic_jump_thigh = pd.read_csv(\"/content/gdrive/My Drive/ML4IOT/Notebook 1/Jumping/mic_jumping_csv/Microphone_jumping_thigh.csv\")\n",
        "df_mic_jump_upperarm = pd.read_csv(\"/content/gdrive/My Drive/ML4IOT/Notebook 1/Jumping/mic_jumping_csv/Microphone_jumping_upperarm.csv\")\n",
        "df_mic_jump_waist = pd.read_csv(\"/content/gdrive/My Drive/ML4IOT/Notebook 1/Jumping/mic_jumping_csv/Microphone_jumping_waist.csv\")"
      ],
      "execution_count": 8,
      "outputs": []
    },
    {
      "cell_type": "markdown",
      "metadata": {
        "id": "tVBqmZOxCXPI"
      },
      "source": [
        "Used Online- Multiple to single line converter. We can use a for loop or import *re* libarary to do that for future use."
      ]
    },
    {
      "cell_type": "code",
      "metadata": {
        "id": "brEqTJi1CTjy"
      },
      "source": [
        "Jump_array_text =\"df_acc_jump_chest df_acc_jump_forearm df_acc_jump_head df_acc_jump_shin df_acc_jump_thigh df_acc_jump_upperarm df_acc_jump_waist df_gps_jump_chest df_gps_jump_head df_gps_jump_shin df_gps_jump_thigh df_gps_jump_upperarm df_gps_jump_waist df_gyr_jump_chest df_gyr_jump_forearm df_gyr_jump_head df_gyr_jump_shin df_gyr_jump_thigh df_gyr_jump_upperarm df_gyr_jump_waist df_lig_jump_chest df_lig_jump_head df_lig_jump_shin df_lig_jump_thigh df_lig_jump_upperarm df_lig_jump_waist df_mag_jump_chest df_mag_jump_forearm df_mag_jump_head df_mag_jump_shin df_mag_jump_thigh df_mag_jump_upperarm df_mag_jump_waist df_mic_jump_chest df_mic_jump_head df_mic_jump_shin df_mic_jump_thigh df_mic_jump_upperarm df_mic_jump_waist\""
      ],
      "execution_count": 29,
      "outputs": []
    },
    {
      "cell_type": "code",
      "metadata": {
        "id": "OHz5yFwgDdWO"
      },
      "source": [
        "Jump_array_text = Jump_array_text.split(' ')"
      ],
      "execution_count": 30,
      "outputs": []
    },
    {
      "cell_type": "markdown",
      "metadata": {
        "id": "XBTXyqi-EZrj"
      },
      "source": [
        "Printing the Jump array and last element"
      ]
    },
    {
      "cell_type": "code",
      "metadata": {
        "id": "mwo55Os4Dh8I",
        "outputId": "4e082fb4-33e5-48f3-e338-82dc5150e9e9",
        "colab": {
          "base_uri": "https://localhost:8080/",
          "height": 71
        }
      },
      "source": [
        "print(Jump_array_text)\n",
        "print(Jump_array_text[-1])"
      ],
      "execution_count": 39,
      "outputs": [
        {
          "output_type": "stream",
          "text": [
            "['df_acc_jump_chest', 'df_acc_jump_forearm', 'df_acc_jump_head', 'df_acc_jump_shin', 'df_acc_jump_thigh', 'df_acc_jump_upperarm', 'df_acc_jump_waist', 'df_gps_jump_chest', 'df_gps_jump_head', 'df_gps_jump_shin', 'df_gps_jump_thigh', 'df_gps_jump_upperarm', 'df_gps_jump_waist', 'df_gyr_jump_chest', 'df_gyr_jump_forearm', 'df_gyr_jump_head', 'df_gyr_jump_shin', 'df_gyr_jump_thigh', 'df_gyr_jump_upperarm', 'df_gyr_jump_waist', 'df_lig_jump_chest', 'df_lig_jump_head', 'df_lig_jump_shin', 'df_lig_jump_thigh', 'df_lig_jump_upperarm', 'df_lig_jump_waist', 'df_mag_jump_chest', 'df_mag_jump_forearm', 'df_mag_jump_head', 'df_mag_jump_shin', 'df_mag_jump_thigh', 'df_mag_jump_upperarm', 'df_mag_jump_waist', 'df_mic_jump_chest', 'df_mic_jump_head', 'df_mic_jump_shin', 'df_mic_jump_thigh', 'df_mic_jump_upperarm', 'df_mic_jump_waist']\n",
            "df_mic_jump_waist\n"
          ],
          "name": "stdout"
        }
      ]
    },
    {
      "cell_type": "code",
      "metadata": {
        "id": "ZWLt6839DZwv"
      },
      "source": [
        ">>> text = 'a,b,c'\n",
        ">>> text = text.split(',')\n",
        ">>> text"
      ],
      "execution_count": null,
      "outputs": []
    },
    {
      "cell_type": "markdown",
      "metadata": {
        "id": "jNdLo6BlKq2q"
      },
      "source": [
        "**Lying**\n"
      ]
    },
    {
      "cell_type": "code",
      "metadata": {
        "id": "sHgE-brrKjnA"
      },
      "source": [
        "df_acc_lye_chest = pd.read_csv(\"/content/gdrive/My Drive/ML4IOT/Notebook 1/Lying/acc_lying_csv/acc_lying_chest.csv\")\n",
        "df_acc_lye_forearm = pd.read_csv(\"/content/gdrive/My Drive/ML4IOT/Notebook 1/Lying/acc_lying_csv/acc_lying_forearm.csv\")\n",
        "df_acc_lye_head = pd.read_csv(\"/content/gdrive/My Drive/ML4IOT/Notebook 1/Lying/acc_lying_csv/acc_lying_head.csv\")\n",
        "df_acc_lye_shin = pd.read_csv(\"/content/gdrive/My Drive/ML4IOT/Notebook 1/Lying/acc_lying_csv/acc_lying_shin.csv\")\n",
        "df_acc_lye_thigh = pd.read_csv(\"/content/gdrive/My Drive/ML4IOT/Notebook 1/Lying/acc_lying_csv/acc_lying_thigh.csv\")\n",
        "df_acc_lye_upperarm = pd.read_csv(\"/content/gdrive/My Drive/ML4IOT/Notebook 1/Lying/acc_lying_csv/acc_lying_upperarm.csv\")\n",
        "df_acc_lye_waist = pd.read_csv(\"/content/gdrive/My Drive/ML4IOT/Notebook 1/Lying/acc_lying_csv/acc_lying_waist.csv\")\n",
        " \n",
        "df_gps_lye_chest = pd.read_csv(\"/content/gdrive/My Drive/ML4IOT/Notebook 1/Lying/gps_lying_csv/GPS_lying_chest.csv\")\n",
        "df_gps_lye_head = pd.read_csv(\"/content/gdrive/My Drive/ML4IOT/Notebook 1/Lying/gps_lying_csv/GPS_lying_head.csv\")\n",
        "df_gps_lye_shin = pd.read_csv(\"/content/gdrive/My Drive/ML4IOT/Notebook 1/Lying/gps_lying_csv/GPS_lying_shin.csv\")\n",
        "df_gps_lye_thigh = pd.read_csv(\"/content/gdrive/My Drive/ML4IOT/Notebook 1/Lying/gps_lying_csv/GPS_lying_thigh.csv\")\n",
        "df_gps_lye_upperarm = pd.read_csv(\"/content/gdrive/My Drive/ML4IOT/Notebook 1/Lying/gps_lying_csv/GPS_lying_upperarm.csv\")\n",
        "df_gps_lye_waist = pd.read_csv(\"/content/gdrive/My Drive/ML4IOT/Notebook 1/Lying/gps_lying_csv/GPS_lying_waist.csv\")\n",
        " \n",
        "df_gyr_lye_chest = pd.read_csv(\"/content/gdrive/My Drive/ML4IOT/Notebook 1/Lying/gyr_lying_csv/Gyroscope_lying_chest.csv\")\n",
        "df_gyr_lye_forearm = pd.read_csv(\"/content/gdrive/My Drive/ML4IOT/Notebook 1/Lying/gyr_lying_csv/Gyroscope_lying_forearm.csv\")\n",
        "df_gyr_lye_head = pd.read_csv(\"/content/gdrive/My Drive/ML4IOT/Notebook 1/Lying/gyr_lying_csv/Gyroscope_lying_head.csv\")\n",
        "df_gyr_lye_shin = pd.read_csv(\"/content/gdrive/My Drive/ML4IOT/Notebook 1/Lying/gyr_lying_csv/Gyroscope_lying_shin.csv\")\n",
        "df_gyr_lye_thigh = pd.read_csv(\"/content/gdrive/My Drive/ML4IOT/Notebook 1/Lying/gyr_lying_csv/Gyroscope_lying_thigh.csv\")\n",
        "df_gyr_lye_upperarm = pd.read_csv(\"/content/gdrive/My Drive/ML4IOT/Notebook 1/Lying/gyr_lying_csv/Gyroscope_lying_upperarm.csv\")\n",
        "df_gyr_lye_waist = pd.read_csv(\"/content/gdrive/My Drive/ML4IOT/Notebook 1/Lying/gyr_lying_csv/Gyroscope_lying_waist.csv\")\n",
        " \n",
        "df_lig_lye_chest = pd.read_csv(\"/content/gdrive/My Drive/ML4IOT/Notebook 1/Lying/lig_lying_csv/Light_lying_chest.csv\")\n",
        "df_lig_lye_head = pd.read_csv(\"/content/gdrive/My Drive/ML4IOT/Notebook 1/Lying/lig_lying_csv/Light_lying_head.csv\")\n",
        "df_lig_lye_shin = pd.read_csv(\"/content/gdrive/My Drive/ML4IOT/Notebook 1/Lying/lig_lying_csv/Light_lying_shin.csv\")\n",
        "df_lig_lye_thigh = pd.read_csv(\"/content/gdrive/My Drive/ML4IOT/Notebook 1/Lying/lig_lying_csv/Light_lying_thigh.csv\")\n",
        "df_lig_lye_upperarm = pd.read_csv(\"/content/gdrive/My Drive/ML4IOT/Notebook 1/Lying/lig_lying_csv/Light_lying_upperarm.csv\")\n",
        "df_lig_lye_waist = pd.read_csv(\"/content/gdrive/My Drive/ML4IOT/Notebook 1/Lying/lig_lying_csv/Light_lying_waist.csv\")\n",
        " \n",
        "df_mag_lye_chest = pd.read_csv(\"/content/gdrive/My Drive/ML4IOT/Notebook 1/Lying/mag_lying_csv/MagneticField_lying_chest.csv\")\n",
        "df_mag_lye_forearm = pd.read_csv(\"/content/gdrive/My Drive/ML4IOT/Notebook 1/Lying/mag_lying_csv/MagneticField_lying_forearm.csv\")\n",
        "df_mag_lye_head = pd.read_csv(\"/content/gdrive/My Drive/ML4IOT/Notebook 1/Lying/mag_lying_csv/MagneticField_lying_head.csv\")\n",
        "df_mag_lye_shin = pd.read_csv(\"/content/gdrive/My Drive/ML4IOT/Notebook 1/Lying/mag_lying_csv/MagneticField_lying_shin.csv\")\n",
        "df_mag_lye_thigh = pd.read_csv(\"/content/gdrive/My Drive/ML4IOT/Notebook 1/Lying/mag_lying_csv/MagneticField_lying_thigh.csv\")\n",
        "df_mag_lye_upperarm = pd.read_csv(\"/content/gdrive/My Drive/ML4IOT/Notebook 1/Lying/mag_lying_csv/MagneticField_lying_upperarm.csv\")\n",
        "df_mag_lye_waist = pd.read_csv(\"/content/gdrive/My Drive/ML4IOT/Notebook 1/Lying/mag_lying_csv/MagneticField_lying_waist.csv\")\n",
        " \n",
        "df_mic_lye_chest = pd.read_csv(\"/content/gdrive/My Drive/ML4IOT/Notebook 1/Lying/mic_lying_csv/Microphone_lying_chest.csv\")\n",
        "df_mic_lye_head = pd.read_csv(\"/content/gdrive/My Drive/ML4IOT/Notebook 1/Lying/mic_lying_csv/Microphone_lying_head.csv\")\n",
        "df_mic_lye_shin = pd.read_csv(\"/content/gdrive/My Drive/ML4IOT/Notebook 1/Lying/mic_lying_csv/Microphone_lying_shin.csv\")\n",
        "df_mic_lye_thigh = pd.read_csv(\"/content/gdrive/My Drive/ML4IOT/Notebook 1/Lying/mic_lying_csv/Microphone_lying_thigh.csv\")\n",
        "df_mic_lye_upperarm = pd.read_csv(\"/content/gdrive/My Drive/ML4IOT/Notebook 1/Lying/mic_lying_csv/Microphone_lying_upperarm.csv\")\n",
        "df_mic_lye_waist = pd.read_csv(\"/content/gdrive/My Drive/ML4IOT/Notebook 1/Lying/mic_lying_csv/Microphone_lying_waist.csv\")"
      ],
      "execution_count": 13,
      "outputs": []
    },
    {
      "cell_type": "markdown",
      "metadata": {
        "id": "R-LXzfquMDe_"
      },
      "source": [
        "**Running**"
      ]
    },
    {
      "cell_type": "code",
      "metadata": {
        "id": "NptJt0ozMCcc"
      },
      "source": [
        "\n",
        "df_acc_run_chest = pd.read_csv(\"/content/gdrive/My Drive/ML4IOT/Notebook 1/Running/acc_running_csv/acc_running_chest.csv\")\n",
        "df_acc_run_forearm = pd.read_csv(\"/content/gdrive/My Drive/ML4IOT/Notebook 1/Running/acc_running_csv/acc_running_forearm.csv\")\n",
        "df_acc_run_head = pd.read_csv(\"/content/gdrive/My Drive/ML4IOT/Notebook 1/Running/acc_running_csv/acc_running_head.csv\")\n",
        "df_acc_run_shin = pd.read_csv(\"/content/gdrive/My Drive/ML4IOT/Notebook 1/Running/acc_running_csv/acc_running_shin.csv\")\n",
        "df_acc_run_thigh = pd.read_csv(\"/content/gdrive/My Drive/ML4IOT/Notebook 1/Running/acc_running_csv/acc_running_thigh.csv\")\n",
        "df_acc_run_upperarm = pd.read_csv(\"/content/gdrive/My Drive/ML4IOT/Notebook 1/Running/acc_running_csv/acc_running_upperarm.csv\")\n",
        "df_acc_run_waist = pd.read_csv(\"/content/gdrive/My Drive/ML4IOT/Notebook 1/Running/acc_running_csv/acc_running_waist.csv\")\n",
        " \n",
        "df_gps_run_chest = pd.read_csv(\"/content/gdrive/My Drive/ML4IOT/Notebook 1/Running/gps_running_csv/GPS_running_chest.csv\")\n",
        "df_gps_run_head = pd.read_csv(\"/content/gdrive/My Drive/ML4IOT/Notebook 1/Running/gps_running_csv/GPS_running_head.csv\")\n",
        "df_gps_run_shin = pd.read_csv(\"/content/gdrive/My Drive/ML4IOT/Notebook 1/Running/gps_running_csv/GPS_running_shin.csv\")\n",
        "df_gps_run_thigh = pd.read_csv(\"/content/gdrive/My Drive/ML4IOT/Notebook 1/Running/gps_running_csv/GPS_running_thigh.csv\")\n",
        "df_gps_run_upperarm = pd.read_csv(\"/content/gdrive/My Drive/ML4IOT/Notebook 1/Running/gps_running_csv/GPS_running_upperarm.csv\")\n",
        "df_gps_run_waist = pd.read_csv(\"/content/gdrive/My Drive/ML4IOT/Notebook 1/Running/gps_running_csv/GPS_running_waist.csv\")\n",
        " \n",
        "df_gyr_run_chest = pd.read_csv(\"/content/gdrive/My Drive/ML4IOT/Notebook 1/Running/gyr_running_csv/Gyroscope_running_chest.csv\")\n",
        "df_gyr_run_forearm = pd.read_csv(\"/content/gdrive/My Drive/ML4IOT/Notebook 1/Running/gyr_running_csv/Gyroscope_running_forearm.csv\")\n",
        "df_gyr_run_head = pd.read_csv(\"/content/gdrive/My Drive/ML4IOT/Notebook 1/Running/gyr_running_csv/Gyroscope_running_head.csv\")\n",
        "df_gyr_run_shin = pd.read_csv(\"/content/gdrive/My Drive/ML4IOT/Notebook 1/Running/gyr_running_csv/Gyroscope_running_shin.csv\")\n",
        "df_gyr_run_thigh = pd.read_csv(\"/content/gdrive/My Drive/ML4IOT/Notebook 1/Running/gyr_running_csv/Gyroscope_running_thigh.csv\")\n",
        "df_gyr_run_upperarm = pd.read_csv(\"/content/gdrive/My Drive/ML4IOT/Notebook 1/Running/gyr_running_csv/Gyroscope_running_upperarm.csv\")\n",
        "df_gyr_run_waist = pd.read_csv(\"/content/gdrive/My Drive/ML4IOT/Notebook 1/Running/gyr_running_csv/Gyroscope_running_waist.csv\")\n",
        " \n",
        "df_lig_run_chest = pd.read_csv(\"/content/gdrive/My Drive/ML4IOT/Notebook 1/Running/lig_running_csv/Light_running_chest.csv\")\n",
        "df_lig_run_head = pd.read_csv(\"/content/gdrive/My Drive/ML4IOT/Notebook 1/Running/lig_running_csv/Light_running_head.csv\")\n",
        "df_lig_run_shin = pd.read_csv(\"/content/gdrive/My Drive/ML4IOT/Notebook 1/Running/lig_running_csv/Light_running_shin.csv\")\n",
        "df_lig_run_thigh = pd.read_csv(\"/content/gdrive/My Drive/ML4IOT/Notebook 1/Running/lig_running_csv/Light_running_thigh.csv\")\n",
        "df_lig_run_upperarm = pd.read_csv(\"/content/gdrive/My Drive/ML4IOT/Notebook 1/Running/lig_running_csv/Light_running_upperarm.csv\")\n",
        "df_lig_run_waist = pd.read_csv(\"/content/gdrive/My Drive/ML4IOT/Notebook 1/Running/lig_running_csv/Light_running_waist.csv\")\n",
        " \n",
        "df_mag_run_chest = pd.read_csv(\"/content/gdrive/My Drive/ML4IOT/Notebook 1/Running/mag_running_csv/MagneticField_running_chest.csv\")\n",
        "df_mag_run_forearm = pd.read_csv(\"/content/gdrive/My Drive/ML4IOT/Notebook 1/Running/mag_running_csv/MagneticField_running_forearm.csv\")\n",
        "df_mag_run_head = pd.read_csv(\"/content/gdrive/My Drive/ML4IOT/Notebook 1/Running/mag_running_csv/MagneticField_running_head.csv\")\n",
        "df_mag_run_shin = pd.read_csv(\"/content/gdrive/My Drive/ML4IOT/Notebook 1/Running/mag_running_csv/MagneticField_running_shin.csv\")\n",
        "df_mag_run_thigh = pd.read_csv(\"/content/gdrive/My Drive/ML4IOT/Notebook 1/Running/mag_running_csv/MagneticField_running_thigh.csv\")\n",
        "df_mag_run_upperarm = pd.read_csv(\"/content/gdrive/My Drive/ML4IOT/Notebook 1/Running/mag_running_csv/MagneticField_running_upperarm.csv\")\n",
        "df_mag_run_waist = pd.read_csv(\"/content/gdrive/My Drive/ML4IOT/Notebook 1/Running/mag_running_csv/MagneticField_running_waist.csv\")\n",
        " \n",
        "df_mic_run_chest = pd.read_csv(\"/content/gdrive/My Drive/ML4IOT/Notebook 1/Running/mic_running_csv/Microphone_running_chest.csv\")\n",
        "df_mic_run_head = pd.read_csv(\"/content/gdrive/My Drive/ML4IOT/Notebook 1/Running/mic_running_csv/Microphone_running_head.csv\")\n",
        "df_mic_run_shin = pd.read_csv(\"/content/gdrive/My Drive/ML4IOT/Notebook 1/Running/mic_running_csv/Microphone_running_shin.csv\")\n",
        "df_mic_run_thigh = pd.read_csv(\"/content/gdrive/My Drive/ML4IOT/Notebook 1/Running/mic_running_csv/Microphone_running_thigh.csv\")\n",
        "df_mic_run_upperarm = pd.read_csv(\"/content/gdrive/My Drive/ML4IOT/Notebook 1/Running/mic_running_csv/Microphone_running_upperarm.csv\")\n",
        "df_mic_run_waist = pd.read_csv(\"/content/gdrive/My Drive/ML4IOT/Notebook 1/Running/mic_running_csv/Microphone_running_waist.csv\")"
      ],
      "execution_count": 18,
      "outputs": []
    },
    {
      "cell_type": "markdown",
      "metadata": {
        "id": "fOEy6u_tNizj"
      },
      "source": [
        "**Standing**"
      ]
    },
    {
      "cell_type": "code",
      "metadata": {
        "id": "AsgyRgfOfvwj"
      },
      "source": [
        "df_acc_stand_chest = pd.read_csv(\"/content/gdrive/My Drive/ML4IOT/Notebook 1/Standing/acc_standing_csv/acc_standing_chest.csv\")\n",
        "df_acc_stand_forearm = pd.read_csv(\"/content/gdrive/My Drive/ML4IOT/Notebook 1/Standing/acc_standing_csv/acc_standing_forearm.csv\")\n",
        "df_acc_stand_head = pd.read_csv(\"/content/gdrive/My Drive/ML4IOT/Notebook 1/Standing/acc_standing_csv/acc_standing_head.csv\")\n",
        "df_acc_stand_shin = pd.read_csv(\"/content/gdrive/My Drive/ML4IOT/Notebook 1/Standing/acc_standing_csv/acc_standing_shin.csv\")\n",
        "df_acc_stand_thigh = pd.read_csv(\"/content/gdrive/My Drive/ML4IOT/Notebook 1/Standing/acc_standing_csv/acc_standing_upperarm.csv\")\n",
        "df_acc_stand_upperarm = pd.read_csv(\"/content/gdrive/My Drive/ML4IOT/Notebook 1/Standing/acc_standing_csv/acc_standing_upperarm.csv\")\n",
        "df_acc_stand_waist = pd.read_csv(\"/content/gdrive/My Drive/ML4IOT/Notebook 1/Standing/acc_standing_csv/acc_standing_waist.csv\")\n",
        " \n",
        "df_gps_stand_chest = pd.read_csv(\"/content/gdrive/My Drive/ML4IOT/Notebook 1/Standing/gps_standing_csv/GPS_standing_chest.csv\")\n",
        "df_gps_stand_head = pd.read_csv(\"/content/gdrive/My Drive/ML4IOT/Notebook 1/Standing/gps_standing_csv/GPS_standing_head.csv\")\n",
        "df_gps_stand_shin = pd.read_csv(\"/content/gdrive/My Drive/ML4IOT/Notebook 1/Standing/gps_standing_csv/GPS_standing_shin.csv\")\n",
        "df_gps_stand_thigh = pd.read_csv(\"/content/gdrive/My Drive/ML4IOT/Notebook 1/Standing/gps_standing_csv/GPS_standing_thigh.csv\")\n",
        "df_gps_stand_upperarm = pd.read_csv(\"/content/gdrive/My Drive/ML4IOT/Notebook 1/Standing/gps_standing_csv/GPS_standing_upperarm.csv\")\n",
        "df_gps_stand_waist = pd.read_csv(\"/content/gdrive/My Drive/ML4IOT/Notebook 1/Standing/gps_standing_csv/GPS_standing_waist.csv\")\n",
        " \n",
        "df_gyr_stand_chest = pd.read_csv(\"/content/gdrive/My Drive/ML4IOT/Notebook 1/Standing/gyr_standing_csv/Gyroscope_standing_chest.csv\")\n",
        "df_gyr_stand_forearm = pd.read_csv(\"/content/gdrive/My Drive/ML4IOT/Notebook 1/Standing/gyr_standing_csv/Gyroscope_standing_forearm.csv\")\n",
        "df_gyr_stand_head = pd.read_csv(\"/content/gdrive/My Drive/ML4IOT/Notebook 1/Standing/gyr_standing_csv/Gyroscope_standing_head.csv\")\n",
        "df_gyr_stand_shin = pd.read_csv(\"/content/gdrive/My Drive/ML4IOT/Notebook 1/Standing/gyr_standing_csv/Gyroscope_standing_shin.csv\")\n",
        "df_gyr_stand_thigh = pd.read_csv(\"/content/gdrive/My Drive/ML4IOT/Notebook 1/Standing/gyr_standing_csv/Gyroscope_standing_thigh.csv\")\n",
        "df_gyr_stand_upperarm = pd.read_csv(\"/content/gdrive/My Drive/ML4IOT/Notebook 1/Standing/gyr_standing_csv/Gyroscope_standing_upperarm.csv\")\n",
        "df_gyr_stand_waist = pd.read_csv(\"/content/gdrive/My Drive/ML4IOT/Notebook 1/Standing/gyr_standing_csv/Gyroscope_standing_waist.csv\")\n",
        "\n",
        "df_lig_stand_chest = pd.read_csv(\"/content/gdrive/My Drive/ML4IOT/Notebook 1/Standing/lig_standing_csv/Light_standing_chest.csv\")\n",
        "df_lig_stand_head = pd.read_csv(\"/content/gdrive/My Drive/ML4IOT/Notebook 1/Standing/lig_standing_csv/Light_standing_head.csv\")\n",
        "df_lig_stand_shin = pd.read_csv(\"/content/gdrive/My Drive/ML4IOT/Notebook 1/Standing/lig_standing_csv/Light_standing_shin.csv\")\n",
        "df_lig_stand_thigh = pd.read_csv(\"/content/gdrive/My Drive/ML4IOT/Notebook 1/Standing/lig_standing_csv/Light_standing_thigh.csv\")\n",
        "df_lig_stand_upperarm = pd.read_csv(\"/content/gdrive/My Drive/ML4IOT/Notebook 1/Standing/lig_standing_csv/Light_standing_upperarm.csv\")\n",
        "df_lig_stand_waist = pd.read_csv(\"/content/gdrive/My Drive/ML4IOT/Notebook 1/Standing/lig_standing_csv/Light_standing_waist.csv\")\n",
        "\n",
        "df_mag_stand_chest = pd.read_csv(\"/content/gdrive/My Drive/ML4IOT/Notebook 1/Standing/mag_standing_csv/MagneticField_standing_chest.csv\")\n",
        "df_mag_stand_forearm = pd.read_csv(\"/content/gdrive/My Drive/ML4IOT/Notebook 1/Standing/mag_standing_csv/MagneticField_standing_forearm.csv\")\n",
        "df_mag_stand_head = pd.read_csv(\"/content/gdrive/My Drive/ML4IOT/Notebook 1/Standing/mag_standing_csv/MagneticField_standing_head.csv\")\n",
        "df_mag_stand_shin = pd.read_csv(\"/content/gdrive/My Drive/ML4IOT/Notebook 1/Standing/mag_standing_csv/MagneticField_standing_shin.csv\")\n",
        "df_mag_stand_thigh = pd.read_csv(\"/content/gdrive/My Drive/ML4IOT/Notebook 1/Standing/mag_standing_csv/MagneticField_standing_thigh.csv\")\n",
        "df_mag_stand_upperarm = pd.read_csv(\"/content/gdrive/My Drive/ML4IOT/Notebook 1/Standing/mag_standing_csv/MagneticField_standing_upperarm.csv\")\n",
        "df_mag_stand_waist = pd.read_csv(\"/content/gdrive/My Drive/ML4IOT/Notebook 1/Standing/mag_standing_csv/MagneticField_standing_waist.csv\")\n",
        "\n",
        "df_mic_stand_chest = pd.read_csv(\"/content/gdrive/My Drive/ML4IOT/Notebook 1/Standing/mic_standing_csv/Microphone_standing_chest.csv\")\n",
        "df_mic_stand_head = pd.read_csv(\"/content/gdrive/My Drive/ML4IOT/Notebook 1/Standing/mic_standing_csv/Microphone_standing_head.csv\")\n",
        "df_mic_stand_shin = pd.read_csv(\"/content/gdrive/My Drive/ML4IOT/Notebook 1/Standing/mic_standing_csv/Microphone_standing_shin.csv\")\n",
        "df_mic_stand_thigh = pd.read_csv(\"/content/gdrive/My Drive/ML4IOT/Notebook 1/Standing/mic_standing_csv/Microphone_standing_thigh.csv\")\n",
        "df_mic_stand_upperarm = pd.read_csv(\"/content/gdrive/My Drive/ML4IOT/Notebook 1/Standing/mic_standing_csv/Microphone_standing_upperarm.csv\")\n",
        "df_mic_stand_waist = pd.read_csv(\"/content/gdrive/My Drive/ML4IOT/Notebook 1/Standing/mic_standing_csv/Microphone_standing_waist.csv\")"
      ],
      "execution_count": 19,
      "outputs": []
    },
    {
      "cell_type": "markdown",
      "metadata": {
        "id": "0TXf1o38gosv"
      },
      "source": [
        "**Walking**"
      ]
    },
    {
      "cell_type": "code",
      "metadata": {
        "id": "ZFIyDWMNSUmy"
      },
      "source": [
        "df_acc_walk_chest = pd.read_csv(\"/content/gdrive/My Drive/ML4IOT/Notebook 1/Walking/acc_walking_csv/acc_walking_chest.csv\")\n",
        "df_acc_walk_forearm = pd.read_csv(\"/content/gdrive/My Drive/ML4IOT/Notebook 1/Walking/acc_walking_csv/acc_walking_forearm.csv\")\n",
        "df_acc_walk_head = pd.read_csv(\"/content/gdrive/My Drive/ML4IOT/Notebook 1/Walking/acc_walking_csv/acc_walking_head.csv\")\n",
        "df_acc_walk_shin = pd.read_csv(\"/content/gdrive/My Drive/ML4IOT/Notebook 1/Walking/acc_walking_csv/acc_walking_shin.csv\")\n",
        "df_acc_walk_thigh = pd.read_csv(\"/content/gdrive/My Drive/ML4IOT/Notebook 1/Walking/acc_walking_csv/acc_walking_thigh.csv\")\n",
        "df_acc_walk_upperarm = pd.read_csv(\"/content/gdrive/My Drive/ML4IOT/Notebook 1/Walking/acc_walking_csv/acc_walking_upperarm.csv\")\n",
        "df_acc_walk_waist = pd.read_csv(\"/content/gdrive/My Drive/ML4IOT/Notebook 1/Walking/acc_walking_csv/acc_walking_waist.csv\")\n",
        " \n",
        "df_gps_walk_chest = pd.read_csv(\"/content/gdrive/My Drive/ML4IOT/Notebook 1/Walking/gps_walking_csv/GPS_walking_chest.csv\")\n",
        "df_gps_walk_head = pd.read_csv(\"/content/gdrive/My Drive/ML4IOT/Notebook 1/Walking/gps_walking_csv/GPS_walking_head.csv\")\n",
        "df_gps_walk_shin = pd.read_csv(\"/content/gdrive/My Drive/ML4IOT/Notebook 1/Walking/gps_walking_csv/GPS_walking_shin.csv\")\n",
        "df_gps_walk_thigh = pd.read_csv(\"/content/gdrive/My Drive/ML4IOT/Notebook 1/Walking/gps_walking_csv/GPS_walking_thigh.csv\")\n",
        "df_gps_walk_upperarm = pd.read_csv(\"/content/gdrive/My Drive/ML4IOT/Notebook 1/Walking/gps_walking_csv/GPS_walking_upperarm.csv\")\n",
        "df_gps_walk_waist = pd.read_csv(\"/content/gdrive/My Drive/ML4IOT/Notebook 1/Walking/gps_walking_csv/GPS_walking_waist.csv\")\n",
        " \n",
        "df_gyr_walk_chest = pd.read_csv(\"/content/gdrive/My Drive/ML4IOT/Notebook 1/Walking/gyr_walking_csv/Gyroscope_walking_chest.csv\")\n",
        "df_gyr_walk_forearm = pd.read_csv(\"/content/gdrive/My Drive/ML4IOT/Notebook 1/Walking/gyr_walking_csv/Gyroscope_walking_forearm.csv\")\n",
        "df_gyr_walk_head = pd.read_csv(\"/content/gdrive/My Drive/ML4IOT/Notebook 1/Walking/gyr_walking_csv/Gyroscope_walking_head.csv\")\n",
        "df_gyr_walk_shin = pd.read_csv(\"/content/gdrive/My Drive/ML4IOT/Notebook 1/Walking/gyr_walking_csv/Gyroscope_walking_shin.csv\")\n",
        "df_gyr_walk_thigh = pd.read_csv(\"/content/gdrive/My Drive/ML4IOT/Notebook 1/Walking/gyr_walking_csv/Gyroscope_walking_thigh.csv\")\n",
        "df_gyr_walk_upperarm = pd.read_csv(\"/content/gdrive/My Drive/ML4IOT/Notebook 1/Walking/gyr_walking_csv/Gyroscope_walking_upperarm.csv\")\n",
        "df_gyr_walk_waist = pd.read_csv(\"/content/gdrive/My Drive/ML4IOT/Notebook 1/Walking/gyr_walking_csv/Gyroscope_walking_waist.csv\")\n",
        " \n",
        "df_lig_walk_chest = pd.read_csv(\"/content/gdrive/My Drive/ML4IOT/Notebook 1/Walking/lig_walking_csv/Light_walking_chest.csv\")\n",
        "df_lig_walk_head = pd.read_csv(\"/content/gdrive/My Drive/ML4IOT/Notebook 1/Walking/lig_walking_csv/Light_walking_head.csv\")\n",
        "df_lig_walk_shin = pd.read_csv(\"/content/gdrive/My Drive/ML4IOT/Notebook 1/Walking/lig_walking_csv/Light_walking_shin.csv\")\n",
        "df_lig_walk_thigh = pd.read_csv(\"/content/gdrive/My Drive/ML4IOT/Notebook 1/Walking/lig_walking_csv/Light_walking_thigh.csv\")\n",
        "df_lig_walk_upperarm = pd.read_csv(\"/content/gdrive/My Drive/ML4IOT/Notebook 1/Walking/lig_walking_csv/Light_walking_upperarm.csv\")\n",
        "df_lig_walk_waist = pd.read_csv(\"/content/gdrive/My Drive/ML4IOT/Notebook 1/Walking/lig_walking_csv/Light_walking_waist.csv\")\n",
        " \n",
        "df_mag_walk_chest = pd.read_csv(\"/content/gdrive/My Drive/ML4IOT/Notebook 1/Walking/mag_walking_csv/MagneticField_walking_chest.csv\")\n",
        "df_mag_walk_forearm = pd.read_csv(\"/content/gdrive/My Drive/ML4IOT/Notebook 1/Walking/mag_walking_csv/MagneticField_walking_forearm.csv\")\n",
        "df_mag_walk_head = pd.read_csv(\"/content/gdrive/My Drive/ML4IOT/Notebook 1/Walking/mag_walking_csv/MagneticField_walking_head.csv\")\n",
        "df_mag_walk_shin = pd.read_csv(\"/content/gdrive/My Drive/ML4IOT/Notebook 1/Walking/mag_walking_csv/MagneticField_walking_shin.csv\")\n",
        "df_mag_walk_thigh = pd.read_csv(\"/content/gdrive/My Drive/ML4IOT/Notebook 1/Walking/mag_walking_csv/MagneticField_walking_thigh.csv\")\n",
        "df_mag_walk_upperarm = pd.read_csv(\"/content/gdrive/My Drive/ML4IOT/Notebook 1/Walking/mag_walking_csv/MagneticField_walking_upperarm.csv\")\n",
        "df_mag_walk_waist = pd.read_csv(\"/content/gdrive/My Drive/ML4IOT/Notebook 1/Walking/mag_walking_csv/MagneticField_walking_waist.csv\")\n",
        " \n",
        "df_mic_walk_chest = pd.read_csv(\"/content/gdrive/My Drive/ML4IOT/Notebook 1/Walking/mic_walking_csv/Microphone_walking_chest.csv\")\n",
        "df_mic_walk_head = pd.read_csv(\"/content/gdrive/My Drive/ML4IOT/Notebook 1/Walking/mic_walking_csv/Microphone_walking_head.csv\")\n",
        "df_mic_walk_shin = pd.read_csv(\"/content/gdrive/My Drive/ML4IOT/Notebook 1/Walking/mic_walking_csv/Microphone_walking_shin.csv\")\n",
        "df_mic_walk_thigh = pd.read_csv(\"/content/gdrive/My Drive/ML4IOT/Notebook 1/Walking/mic_walking_csv/Microphone_walking_thigh.csv\")\n",
        "df_mic_walk_upperarm = pd.read_csv(\"/content/gdrive/My Drive/ML4IOT/Notebook 1/Walking/mic_walking_csv/Microphone_walking_upperarm.csv\")\n",
        "df_mic_walk_waist = pd.read_csv(\"/content/gdrive/My Drive/ML4IOT/Notebook 1/Walking/mic_walking_csv/Microphone_walking_waist.csv\")"
      ],
      "execution_count": 20,
      "outputs": []
    },
    {
      "cell_type": "markdown",
      "metadata": {
        "id": "ij70lunMnO1O"
      },
      "source": [
        "**Climb Down**"
      ]
    },
    {
      "cell_type": "code",
      "metadata": {
        "id": "-U4-p8uGnOHg"
      },
      "source": [
        "df_acc_climbdown_chest = pd.read_csv(\"/content/gdrive/My Drive/ML4IOT/Notebook 1/climbing down/acc_climbingdown_csv/acc_climbingdown_chest.csv\")\n",
        "df_acc_climbdown_forearm = pd.read_csv(\"/content/gdrive/My Drive/ML4IOT/Notebook 1/climbing down/acc_climbingdown_csv/acc_climbingdown_forearm.csv\")\n",
        "df_acc_climbdown_head = pd.read_csv(\"/content/gdrive/My Drive/ML4IOT/Notebook 1/climbing down/acc_climbingdown_csv/acc_climbingdown_head.csv\")\n",
        "df_acc_climbdown_shin = pd.read_csv(\"/content/gdrive/My Drive/ML4IOT/Notebook 1/climbing down/acc_climbingdown_csv/acc_climbingdown_shin.csv\")\n",
        "df_acc_climbdown_thigh = pd.read_csv(\"/content/gdrive/My Drive/ML4IOT/Notebook 1/climbing down/acc_climbingdown_csv/acc_climbingdown_thigh.csv\")\n",
        "df_acc_climbdown_upperarm = pd.read_csv(\"/content/gdrive/My Drive/ML4IOT/Notebook 1/climbing down/acc_climbingdown_csv/acc_climbingdown_upperarm.csv\")\n",
        "df_acc_climbdown_waist = pd.read_csv(\"/content/gdrive/My Drive/ML4IOT/Notebook 1/climbing down/acc_climbingdown_csv/acc_climbingdown_waist.csv\")\n",
        " \n",
        "df_gps_climbdown_chest = pd.read_csv(\"/content/gdrive/My Drive/ML4IOT/Notebook 1/climbing down/gps_climbingdown_csv/GPS_climbingdown_chest.csv\")\n",
        "df_gps_climbdown_head = pd.read_csv(\"/content/gdrive/My Drive/ML4IOT/Notebook 1/climbing down/gps_climbingdown_csv/GPS_climbingdown_head.csv\")\n",
        "df_gps_climbdown_shin = pd.read_csv(\"/content/gdrive/My Drive/ML4IOT/Notebook 1/climbing down/gps_climbingdown_csv/GPS_climbingdown_shin.csv\")\n",
        "df_gps_climbdown_thigh = pd.read_csv(\"/content/gdrive/My Drive/ML4IOT/Notebook 1/climbing down/gps_climbingdown_csv/GPS_climbingdown_thigh.csv\")\n",
        "df_gps_climbdown_upperarm = pd.read_csv(\"/content/gdrive/My Drive/ML4IOT/Notebook 1/climbing down/gps_climbingdown_csv/GPS_climbingdown_upperarm.csv\")\n",
        "df_gps_climbdown_waist = pd.read_csv(\"/content/gdrive/My Drive/ML4IOT/Notebook 1/climbing down/gps_climbingdown_csv/GPS_climbingdown_waist.csv\")\n",
        " \n",
        "df_gyr_climbdown_chest = pd.read_csv(\"/content/gdrive/My Drive/ML4IOT/Notebook 1/climbing down/gyr_climbingdown_csv/Gyroscope_climbingdown_chest.csv\")\n",
        "df_gyr_climbdown_forearm = pd.read_csv(\"/content/gdrive/My Drive/ML4IOT/Notebook 1/climbing down/gyr_climbingdown_csv/Gyroscope_climbingdown_forearm.csv\")\n",
        "df_gyr_climbdown_head = pd.read_csv(\"/content/gdrive/My Drive/ML4IOT/Notebook 1/climbing down/gyr_climbingdown_csv/Gyroscope_climbingdown_head.csv\")\n",
        "df_gyr_climbdown_shin = pd.read_csv(\"/content/gdrive/My Drive/ML4IOT/Notebook 1/climbing down/gyr_climbingdown_csv/Gyroscope_climbingdown_shin.csv\")\n",
        "df_gyr_climbdown_thigh = pd.read_csv(\"/content/gdrive/My Drive/ML4IOT/Notebook 1/climbing down/gyr_climbingdown_csv/Gyroscope_climbingdown_thigh.csv\")\n",
        "df_gyr_climbdown_upperarm = pd.read_csv(\"/content/gdrive/My Drive/ML4IOT/Notebook 1/climbing down/gyr_climbingdown_csv/Gyroscope_climbingdown_upperarm.csv\")\n",
        "df_gyr_climbdown_waist = pd.read_csv(\"/content/gdrive/My Drive/ML4IOT/Notebook 1/climbing down/gyr_climbingdown_csv/Gyroscope_climbingdown_waist.csv\")\n",
        " \n",
        "df_lig_climbdown_chest = pd.read_csv(\"/content/gdrive/My Drive/ML4IOT/Notebook 1/climbing down/lig_climbingdown_csv/Light_climbingdown_chest.csv\")\n",
        "df_lig_climbdown_head = pd.read_csv(\"/content/gdrive/My Drive/ML4IOT/Notebook 1/climbing down/lig_climbingdown_csv/Light_climbingdown_head.csv\")\n",
        "df_lig_climbdown_shin = pd.read_csv(\"/content/gdrive/My Drive/ML4IOT/Notebook 1/climbing down/lig_climbingdown_csv/Light_climbingdown_shin.csv\")\n",
        "df_lig_climbdown_thigh = pd.read_csv(\"/content/gdrive/My Drive/ML4IOT/Notebook 1/climbing down/lig_climbingdown_csv/Light_climbingdown_thigh.csv\")\n",
        "df_lig_climbdown_upperarm = pd.read_csv(\"/content/gdrive/My Drive/ML4IOT/Notebook 1/climbing down/lig_climbingdown_csv/Light_climbingdown_upperarm.csv\")\n",
        "df_lig_climbdown_waist = pd.read_csv(\"/content/gdrive/My Drive/ML4IOT/Notebook 1/climbing down/lig_climbingdown_csv/Light_climbingdown_waist.csv\")\n",
        " \n",
        "df_mag_climbdown_chest = pd.read_csv(\"/content/gdrive/My Drive/ML4IOT/Notebook 1/climbing down/mag_climbingdown_csv/MagneticField_climbingdown_chest.csv\")\n",
        "df_mag_climbdown_forearm = pd.read_csv(\"/content/gdrive/My Drive/ML4IOT/Notebook 1/climbing down/mag_climbingdown_csv/MagneticField_climbingdown_forearm.csv\")\n",
        "df_mag_climbdown_head = pd.read_csv(\"/content/gdrive/My Drive/ML4IOT/Notebook 1/climbing down/mag_climbingdown_csv/MagneticField_climbingdown_head.csv\")\n",
        "df_mag_climbdown_shin = pd.read_csv(\"/content/gdrive/My Drive/ML4IOT/Notebook 1/climbing down/mag_climbingdown_csv/MagneticField_climbingdown_shin.csv\")\n",
        "df_mag_climbdown_thigh = pd.read_csv(\"/content/gdrive/My Drive/ML4IOT/Notebook 1/climbing down/lig_climbingdown_csv/Light_climbingdown_thigh.csv\")\n",
        "df_mag_climbdown_upperarm = pd.read_csv(\"/content/gdrive/My Drive/ML4IOT/Notebook 1/climbing down/mag_climbingdown_csv/MagneticField_climbingdown_upperarm.csv\")\n",
        "df_mag_climbdown_waist = pd.read_csv(\"/content/gdrive/My Drive/ML4IOT/Notebook 1/climbing down/mag_climbingdown_csv/MagneticField_climbingdown_waist.csv\")\n",
        " \n",
        "df_mic_climbdown_chest = pd.read_csv(\"/content/gdrive/My Drive/ML4IOT/Notebook 1/climbing down/mic_climbingdown_csv/Microphone_climbingdown_chest.csv\")\n",
        "df_mic_climbdown_head = pd.read_csv(\"/content/gdrive/My Drive/ML4IOT/Notebook 1/climbing down/mic_climbingdown_csv/Microphone_climbingdown_head.csv\")\n",
        "df_mic_climbdown_shin = pd.read_csv(\"/content/gdrive/My Drive/ML4IOT/Notebook 1/climbing down/mic_climbingdown_csv/Microphone_climbingdown_shin.csv\")\n",
        "df_mic_climbdown_thigh = pd.read_csv(\"/content/gdrive/My Drive/ML4IOT/Notebook 1/climbing down/mic_climbingdown_csv/Microphone_climbingdown_thigh.csv\")\n",
        "df_mic_climbdown_upperarm = pd.read_csv(\"/content/gdrive/My Drive/ML4IOT/Notebook 1/climbing down/mic_climbingdown_csv/Microphone_climbingdown_upperarm.csv\")\n",
        "df_mic_climbdown_waist = pd.read_csv(\"/content/gdrive/My Drive/ML4IOT/Notebook 1/climbing down/mic_climbingdown_csv/Microphone_climbingdown_waist.csv\")\n",
        " "
      ],
      "execution_count": 21,
      "outputs": []
    },
    {
      "cell_type": "markdown",
      "metadata": {
        "id": "KGUz2fiJmfwo"
      },
      "source": [
        "**ClimbingUp**"
      ]
    },
    {
      "cell_type": "code",
      "metadata": {
        "id": "ZSh75vh8mLM4"
      },
      "source": [
        "df_acc_climbup_chest = pd.read_csv(\"/content/gdrive/My Drive/ML4IOT/Notebook 1/climbing up/acc_climbingup_csv/acc_climbingup_chest.csv\")\n",
        "df_acc_climbup_forearm = pd.read_csv(\"/content/gdrive/My Drive/ML4IOT/Notebook 1/climbing up/acc_climbingup_csv/acc_climbingup_forearm.csv\")\n",
        "df_acc_climbup_head = pd.read_csv(\"/content/gdrive/My Drive/ML4IOT/Notebook 1/climbing up/acc_climbingup_csv/acc_climbingup_head.csv\")\n",
        "df_acc_climbup_shin = pd.read_csv(\"/content/gdrive/My Drive/ML4IOT/Notebook 1/climbing up/acc_climbingup_csv/acc_climbingup_shin.csv\")\n",
        "df_acc_climbup_thigh = pd.read_csv(\"/content/gdrive/My Drive/ML4IOT/Notebook 1/climbing up/acc_climbingup_csv/acc_climbingup_thigh.csv\")\n",
        "df_acc_climbup_upperarm = pd.read_csv(\"/content/gdrive/My Drive/ML4IOT/Notebook 1/climbing up/acc_climbingup_csv/acc_climbingup_upperarm.csv\")\n",
        "df_acc_climbup_waist = pd.read_csv(\"/content/gdrive/My Drive/ML4IOT/Notebook 1/climbing up/acc_climbingup_csv/acc_climbingup_waist.csv\")\n",
        " \n",
        "df_gps_climbup_chest = pd.read_csv(\"/content/gdrive/My Drive/ML4IOT/Notebook 1/climbing up/gps_climbingup_csv/GPS_climbingup_chest.csv\")\n",
        "df_gps_climbup_head = pd.read_csv(\"/content/gdrive/My Drive/ML4IOT/Notebook 1/climbing up/gps_climbingup_csv/GPS_climbingup_head.csv\")\n",
        "df_gps_climbup_shin = pd.read_csv(\"/content/gdrive/My Drive/ML4IOT/Notebook 1/climbing up/gps_climbingup_csv/GPS_climbingup_shin.csv\")\n",
        "df_gps_climbup_thigh = pd.read_csv(\"/content/gdrive/My Drive/ML4IOT/Notebook 1/climbing up/gps_climbingup_csv/GPS_climbingup_thigh.csv\")\n",
        "df_gps_climbup_upperarm = pd.read_csv(\"/content/gdrive/My Drive/ML4IOT/Notebook 1/climbing up/gps_climbingup_csv/GPS_climbingup_upperarm.csv\")\n",
        "df_gps_climbup_waist = pd.read_csv(\"/content/gdrive/My Drive/ML4IOT/Notebook 1/climbing up/gps_climbingup_csv/GPS_climbingup_waist.csv\")\n",
        " \n",
        "df_gyr_climbup_chest = pd.read_csv(\"/content/gdrive/My Drive/ML4IOT/Notebook 1/climbing up/gyr_climbingup_csv/Gyroscope_climbingup_chest.csv\")\n",
        "df_gyr_climbup_forearm = pd.read_csv(\"/content/gdrive/My Drive/ML4IOT/Notebook 1/climbing up/gyr_climbingup_csv/Gyroscope_climbingup_forearm.csv\")\n",
        "df_gyr_climbup_head = pd.read_csv(\"/content/gdrive/My Drive/ML4IOT/Notebook 1/climbing up/gyr_climbingup_csv/Gyroscope_climbingup_head.csv\")\n",
        "df_gyr_climbup_shin = pd.read_csv(\"/content/gdrive/My Drive/ML4IOT/Notebook 1/climbing up/gyr_climbingup_csv/Gyroscope_climbingup_shin.csv\")\n",
        "df_gyr_climbup_thigh = pd.read_csv(\"/content/gdrive/My Drive/ML4IOT/Notebook 1/climbing up/gyr_climbingup_csv/Gyroscope_climbingup_thigh.csv\")\n",
        "df_gyr_climbup_upperarm = pd.read_csv(\"/content/gdrive/My Drive/ML4IOT/Notebook 1/climbing up/gyr_climbingup_csv/Gyroscope_climbingup_upperarm.csv\")\n",
        "df_gyr_climbup_waist = pd.read_csv(\"/content/gdrive/My Drive/ML4IOT/Notebook 1/climbing up/gyr_climbingup_csv/Gyroscope_climbingup_waist.csv\")\n",
        " \n",
        "df_lig_climbup_chest = pd.read_csv(\"/content/gdrive/My Drive/ML4IOT/Notebook 1/climbing up/lig_climbingup_csv/Light_climbingup_chest.csv\")\n",
        "df_lig_climbup_head = pd.read_csv(\"/content/gdrive/My Drive/ML4IOT/Notebook 1/climbing up/lig_climbingup_csv/Light_climbingup_head.csv\")\n",
        "df_lig_climbup_shin = pd.read_csv(\"/content/gdrive/My Drive/ML4IOT/Notebook 1/climbing up/lig_climbingup_csv/Light_climbingup_shin.csv\")\n",
        "df_lig_climbup_thigh = pd.read_csv(\"/content/gdrive/My Drive/ML4IOT/Notebook 1/climbing up/lig_climbingup_csv/Light_climbingup_thigh.csv\")\n",
        "df_lig_climbup_upperarm = pd.read_csv(\"/content/gdrive/My Drive/ML4IOT/Notebook 1/climbing up/lig_climbingup_csv/Light_climbingup_upperarm.csv\")\n",
        "df_lig_climbup_waist = pd.read_csv(\"/content/gdrive/My Drive/ML4IOT/Notebook 1/climbing up/lig_climbingup_csv/Light_climbingup_waist.csv\")\n",
        " \n",
        "df_mag_climbup_chest = pd.read_csv(\"/content/gdrive/My Drive/ML4IOT/Notebook 1/climbing up/mag_climbingup_csv/MagneticField_climbingup_chest.csv\")\n",
        "df_mag_climbup_forearm = pd.read_csv(\"/content/gdrive/My Drive/ML4IOT/Notebook 1/climbing up/mag_climbingup_csv/MagneticField_climbingup_forearm.csv\")\n",
        "df_mag_climbup_head = pd.read_csv(\"/content/gdrive/My Drive/ML4IOT/Notebook 1/climbing up/mag_climbingup_csv/MagneticField_climbingup_head.csv\")\n",
        "df_mag_climbup_shin = pd.read_csv(\"/content/gdrive/My Drive/ML4IOT/Notebook 1/climbing up/mag_climbingup_csv/MagneticField_climbingup_shin.csv\")\n",
        "df_mag_climbup_thigh = pd.read_csv(\"/content/gdrive/My Drive/ML4IOT/Notebook 1/climbing up/mag_climbingup_csv/MagneticField_climbingup_thigh.csv\")\n",
        "df_mag_climbup_upperarm = pd.read_csv(\"/content/gdrive/My Drive/ML4IOT/Notebook 1/climbing up/mag_climbingup_csv/MagneticField_climbingup_upperarm.csv\")\n",
        "df_mag_climbup_waist = pd.read_csv(\"/content/gdrive/My Drive/ML4IOT/Notebook 1/climbing up/mag_climbingup_csv/MagneticField_climbingup_waist.csv\")\n",
        " \n",
        "df_mic_climbup_chest = pd.read_csv(\"/content/gdrive/My Drive/ML4IOT/Notebook 1/climbing up/mic_climbingup_csv/Microphone_climbingup_chest.csv\")\n",
        "df_mic_climbup_head = pd.read_csv(\"/content/gdrive/My Drive/ML4IOT/Notebook 1/climbing up/mic_climbingup_csv/Microphone_climbingup_head.csv\")\n",
        "df_mic_climbup_shin = pd.read_csv(\"/content/gdrive/My Drive/ML4IOT/Notebook 1/climbing up/mic_climbingup_csv/Microphone_climbingup_shin.csv\")\n",
        "df_mic_climbup_thigh = pd.read_csv(\"/content/gdrive/My Drive/ML4IOT/Notebook 1/climbing up/mic_climbingup_csv/Microphone_climbingup_thigh.csv\")\n",
        "df_mic_climbup_upperarm = pd.read_csv(\"/content/gdrive/My Drive/ML4IOT/Notebook 1/climbing up/mic_climbingup_csv/Microphone_climbingup_upperarm.csv\")\n",
        "df_mic_climbup_waist = pd.read_csv(\"/content/gdrive/My Drive/ML4IOT/Notebook 1/climbing up/mic_climbingup_csv/Microphone_climbingup_waist.csv\")\n",
        " "
      ],
      "execution_count": 22,
      "outputs": []
    },
    {
      "cell_type": "markdown",
      "metadata": {
        "id": "T9wAiyp2vDDw"
      },
      "source": [
        "**Sitting**"
      ]
    },
    {
      "cell_type": "code",
      "metadata": {
        "id": "NrEFNhtDvAZI"
      },
      "source": [
        "df_acc_sit_chest = pd.read_csv(\"/content/gdrive/My Drive/ML4IOT/Notebook 1/sitting/acc_sitting_csv/acc_sitting_chest.csv\")\n",
        "df_acc_sit_forearm = pd.read_csv(\"/content/gdrive/My Drive/ML4IOT/Notebook 1/sitting/acc_sitting_csv/acc_sitting_forearm.csv\")\n",
        "df_acc_sit_head = pd.read_csv(\"/content/gdrive/My Drive/ML4IOT/Notebook 1/sitting/acc_sitting_csv/acc_sitting_head.csv\")\n",
        "df_acc_sit_shin = pd.read_csv(\"/content/gdrive/My Drive/ML4IOT/Notebook 1/sitting/acc_sitting_csv/acc_sitting_shin.csv\")\n",
        "df_acc_sit_thigh = pd.read_csv(\"/content/gdrive/My Drive/ML4IOT/Notebook 1/sitting/acc_sitting_csv/acc_sitting_thigh.csv\")\n",
        "df_acc_sit_upperarm = pd.read_csv(\"/content/gdrive/My Drive/ML4IOT/Notebook 1/sitting/acc_sitting_csv/acc_sitting_upperarm.csv\")\n",
        "df_acc_sit_waist = pd.read_csv(\"/content/gdrive/My Drive/ML4IOT/Notebook 1/sitting/acc_sitting_csv/acc_sitting_waist.csv\")\n",
        " \n",
        "df_gps_sit_chest = pd.read_csv(\"/content/gdrive/My Drive/ML4IOT/Notebook 1/sitting/gps_sitting_csv/GPS_sitting_chest.csv\")\n",
        "df_gps_sit_head = pd.read_csv(\"/content/gdrive/My Drive/ML4IOT/Notebook 1/sitting/gps_sitting_csv/GPS_sitting_head.csv\")\n",
        "df_gps_sit_shin = pd.read_csv(\"/content/gdrive/My Drive/ML4IOT/Notebook 1/sitting/gps_sitting_csv/GPS_sitting_shin.csv\")\n",
        "df_gps_sit_thigh = pd.read_csv(\"/content/gdrive/My Drive/ML4IOT/Notebook 1/sitting/gps_sitting_csv/GPS_sitting_shin.csv\")\n",
        "df_gps_sit_upperarm = pd.read_csv(\"/content/gdrive/My Drive/ML4IOT/Notebook 1/sitting/gps_sitting_csv/GPS_sitting_thigh.csv\")\n",
        "df_gps_sit_waist = pd.read_csv(\"/content/gdrive/My Drive/ML4IOT/Notebook 1/sitting/gps_sitting_csv/GPS_sitting_waist.csv\")\n",
        " \n",
        "df_gyr_sit_chest = pd.read_csv(\"/content/gdrive/My Drive/ML4IOT/Notebook 1/sitting/gyr_sitting_csv/Gyroscope_sitting_chest.csv\")\n",
        "df_gyr_sit_forearm = pd.read_csv(\"/content/gdrive/My Drive/ML4IOT/Notebook 1/sitting/gyr_sitting_csv/Gyroscope_sitting_forearm.csv\")\n",
        "df_gyr_sit_head = pd.read_csv(\"/content/gdrive/My Drive/ML4IOT/Notebook 1/sitting/gyr_sitting_csv/Gyroscope_sitting_head.csv\")\n",
        "df_gyr_sit_shin = pd.read_csv(\"/content/gdrive/My Drive/ML4IOT/Notebook 1/sitting/gyr_sitting_csv/Gyroscope_sitting_shin.csv\")\n",
        "df_gyr_sit_thigh = pd.read_csv(\"/content/gdrive/My Drive/ML4IOT/Notebook 1/sitting/gyr_sitting_csv/Gyroscope_sitting_thigh.csv\")\n",
        "df_gyr_sit_upperarm = pd.read_csv(\"/content/gdrive/My Drive/ML4IOT/Notebook 1/sitting/gyr_sitting_csv/Gyroscope_sitting_upperarm.csv\")\n",
        "df_gyr_sit_waist = pd.read_csv(\"/content/gdrive/My Drive/ML4IOT/Notebook 1/sitting/gyr_sitting_csv/Gyroscope_sitting_waist.csv\")\n",
        " \n",
        "df_lig_sit_chest = pd.read_csv(\"/content/gdrive/My Drive/ML4IOT/Notebook 1/sitting/lig_sitting_csv/Light_sitting_chest.csv\")\n",
        "df_lig_sit_head = pd.read_csv(\"/content/gdrive/My Drive/ML4IOT/Notebook 1/sitting/lig_sitting_csv/Light_sitting_head.csv\")\n",
        "df_lig_sit_shin = pd.read_csv(\"/content/gdrive/My Drive/ML4IOT/Notebook 1/sitting/lig_sitting_csv/Light_sitting_shin.csv\")\n",
        "df_lig_sit_thigh = pd.read_csv(\"/content/gdrive/My Drive/ML4IOT/Notebook 1/sitting/lig_sitting_csv/Light_sitting_thigh.csv\")\n",
        "df_lig_sit_upperarm = pd.read_csv(\"/content/gdrive/My Drive/ML4IOT/Notebook 1/sitting/lig_sitting_csv/Light_sitting_upperarm.csv\")\n",
        "df_lig_sit_waist = pd.read_csv(\"/content/gdrive/My Drive/ML4IOT/Notebook 1/sitting/lig_sitting_csv/Light_sitting_waist.csv\")\n",
        " \n",
        "df_mag_sit_chest = pd.read_csv(\"/content/gdrive/My Drive/ML4IOT/Notebook 1/sitting/mag_sitting_csv/MagneticField_sitting_chest.csv\")\n",
        "df_mag_sit_forearm = pd.read_csv(\"/content/gdrive/My Drive/ML4IOT/Notebook 1/sitting/mag_sitting_csv/MagneticField_sitting_forearm.csv\")\n",
        "df_mag_sit_head = pd.read_csv(\"/content/gdrive/My Drive/ML4IOT/Notebook 1/sitting/mag_sitting_csv/MagneticField_sitting_head.csv\")\n",
        "df_mag_sit_shin = pd.read_csv(\"/content/gdrive/My Drive/ML4IOT/Notebook 1/sitting/mag_sitting_csv/MagneticField_sitting_shin.csv\")\n",
        "df_mag_sit_thigh = pd.read_csv(\"/content/gdrive/My Drive/ML4IOT/Notebook 1/sitting/mag_sitting_csv/MagneticField_sitting_thigh.csv\")\n",
        "df_mag_sit_upperarm = pd.read_csv(\"/content/gdrive/My Drive/ML4IOT/Notebook 1/sitting/mag_sitting_csv/MagneticField_sitting_upperarm.csv\")\n",
        "df_mag_sit_waist = pd.read_csv(\"/content/gdrive/My Drive/ML4IOT/Notebook 1/sitting/mag_sitting_csv/MagneticField_sitting_waist.csv\")\n",
        " \n",
        "df_mic_sit_chest = pd.read_csv(\"/content/gdrive/My Drive/ML4IOT/Notebook 1/sitting/mic_sitting_csv/Microphone_sitting_chest.csv\")\n",
        "df_mic_sit_head = pd.read_csv(\"/content/gdrive/My Drive/ML4IOT/Notebook 1/sitting/mic_sitting_csv/Microphone_sitting_head.csv\")\n",
        "df_mic_sit_shin = pd.read_csv(\"/content/gdrive/My Drive/ML4IOT/Notebook 1/sitting/mic_sitting_csv/Microphone_sitting_shin.csv\")\n",
        "df_mic_sit_thigh = pd.read_csv(\"/content/gdrive/My Drive/ML4IOT/Notebook 1/sitting/mic_sitting_csv/Microphone_sitting_thigh.csv\")\n",
        "df_mic_sit_upperarm = pd.read_csv(\"/content/gdrive/My Drive/ML4IOT/Notebook 1/sitting/mic_sitting_csv/Microphone_sitting_upperarm.csv\")\n",
        "df_mic_sit_waist = pd.read_csv(\"/content/gdrive/My Drive/ML4IOT/Notebook 1/sitting/mic_sitting_csv/Microphone_sitting_waist.csv\")\n",
        " "
      ],
      "execution_count": 23,
      "outputs": []
    },
    {
      "cell_type": "markdown",
      "metadata": {
        "id": "juRya0r5HrQh"
      },
      "source": [
        "**Accelerometer** *(Sensor)*"
      ]
    },
    {
      "cell_type": "markdown",
      "metadata": {
        "id": "nQOZ_akxKR1Z"
      },
      "source": [
        "1. Forearm *(Body Position)*\n"
      ]
    },
    {
      "cell_type": "code",
      "metadata": {
        "id": "4imFyYLqSSYc"
      },
      "source": [
        "a1 = df_walk[['attr_x', 'attr_y', 'attr_z']].values[0:999,:]\n",
        "a2 = df_run[['attr_x', 'attr_y', 'attr_z']].values[0:999,:]\n",
        "a3 = df_sit[['attr_x', 'attr_y', 'attr_z']].values[0:999,:]\n",
        "a4 = df_stand[['attr_x', 'attr_y', 'attr_z']].values[0:999,:]\n",
        "a5 = df_lye[['attr_x', 'attr_y', 'attr_z']].values[0:999,:]\n",
        "a6 = df_climbup[['attr_x', 'attr_y', 'attr_z']].values[0:999,:]\n",
        "a7 = df_climbdown[['attr_x', 'attr_y', 'attr_z']].values[0:999,:]\n",
        "a8 = df_jump[['attr_x', 'attr_y', 'attr_z']].values[0:999,:]"
      ],
      "execution_count": null,
      "outputs": []
    },
    {
      "cell_type": "code",
      "metadata": {
        "id": "wFxKOC-DcN0u"
      },
      "source": [
        "A = [a1,a2,a3,a4,a5,a6,a7,a8]\n",
        "results = []"
      ],
      "execution_count": null,
      "outputs": []
    },
    {
      "cell_type": "code",
      "metadata": {
        "id": "bXWXkGIlQyA7"
      },
      "source": [
        "for i in A:\n",
        "  for j in A:\n",
        "    euclidean_distance =  lambda i,j: np.linalg.norm(i-j)\n",
        "    d, cost_matrix, acc_cost_matrix, path = dtw(i, j, dist = euclidean_distance)\n",
        "    results.append(d)    \n",
        "\n",
        "np.hstack(results)"
      ],
      "execution_count": null,
      "outputs": []
    },
    {
      "cell_type": "code",
      "metadata": {
        "id": "YqnTIuzmcSwv"
      },
      "source": [
        "for i in A:\n",
        "  for j in A:\n",
        "    d, cost_matrix, acc_cost_matrix, path = dtw(i, j, dist = euclidean_distance)\n",
        "    print (d)\n"
      ],
      "execution_count": null,
      "outputs": []
    },
    {
      "cell_type": "markdown",
      "metadata": {
        "id": "U8aL8PP1JTTI"
      },
      "source": [
        "np.sort(a)\n",
        "array([2, 2, 4, 4, 4, 4, 5, 6, 7, 8])\n",
        "\n",
        ">>> -np.sort(-a) -- Didnt work\n",
        "array([8, 7, 6, 5, 4, 4, 4, 4, 2, 2])\n",
        "share"
      ]
    },
    {
      "cell_type": "code",
      "metadata": {
        "id": "Oebz1AfnJSu2"
      },
      "source": [
        "sorted_array = np.sort(results)\n",
        "reverse_array = sorted_array[::-1]\n",
        "print(reverse_array)"
      ],
      "execution_count": null,
      "outputs": []
    },
    {
      "cell_type": "markdown",
      "metadata": {
        "id": "U_Ito1iQ9xRh"
      },
      "source": [
        "Actually, if your code is having a much larger loop you should always try to vectorize your problem. If speed is important you should know that \"for loops\" are a bottle neck. Also, the append operation is very slow and demands more memory, because it creates copies. So, a better solution should be:\n",
        "\n",
        "results = [0]*runs # if you want to use lists...\n",
        "\n",
        "[model_solve(100) for x in results] # do see list comprehension in python \n",
        "Besides using list, you can also use directly an array to store your results:\n",
        "\n",
        "resutls=np.zeros([numberOfRuns,ShapeOfModelResults])\n",
        "\n",
        "for i in range(numberOfRuns):\n",
        "    results[numberOfRuns,modelSolve(100)] # this will put the result directly in the matrix"
      ]
    },
    {
      "cell_type": "markdown",
      "metadata": {
        "id": "ow2lZS_Gh-_Q"
      },
      "source": [
        "Distance\n"
      ]
    },
    {
      "cell_type": "markdown",
      "metadata": {
        "id": "8r4S1238h1xL"
      },
      "source": [
        "0.0\n",
        "11793.872285675037\n",
        "8918.57271372077\n",
        "4521.772803657291\n",
        "12387.68553070807\n",
        "3868.2964450743843\n",
        "6612.404263540738\n",
        "7840.922232146075\n",
        "11793.872285675037\n",
        "0.0\n",
        "10217.917725951433\n",
        "11419.413903701308\n",
        "11471.902531170907\n",
        "11689.164890099117\n",
        "14219.777810997346\n",
        "11053.026953729122\n",
        "8918.57271372077\n",
        "10217.917725951433\n",
        "0.0\n",
        "8981.90741528513\n",
        "7903.934055300648\n",
        "8468.667889981807\n",
        "9282.556872657255\n",
        "8887.951195524225\n",
        "4521.772803657291\n",
        "11419.413903701308\n",
        "8981.90741528513\n",
        "0.0\n",
        "12470.036416363711\n",
        "3840.4584836000854\n",
        "5659.601770214788\n",
        "8153.264665720292\n",
        "12387.68553070807\n",
        "11471.902531170907\n",
        "7903.934055300648\n",
        "12470.036416363711\n",
        "0.0\n",
        "11357.701571231677\n",
        "12309.787609345367\n",
        "10422.855913506848\n",
        "3868.2964450743843\n",
        "11689.164890099117\n",
        "8468.667889981807\n",
        "3840.4584836000854\n",
        "11357.701571231677\n",
        "0.0\n",
        "5406.807254655959\n",
        "7176.485363628519\n",
        "6612.404263540738\n",
        "14219.777810997346\n",
        "9282.556872657255\n",
        "5659.601770214788\n",
        "12309.787609345367\n",
        "5406.807254655959\n",
        "0.0\n",
        "10802.191373024954\n",
        "7840.922232146075\n",
        "11053.026953729122\n",
        "8887.951195524225\n",
        "8153.264665720292\n",
        "10422.855913506848\n",
        "7176.485363628519\n",
        "10802.191373024954\n",
        "0.0"
      ]
    },
    {
      "cell_type": "code",
      "metadata": {
        "id": "b9aHkqY3iEUB"
      },
      "source": [
        "d.dtype"
      ],
      "execution_count": null,
      "outputs": []
    },
    {
      "cell_type": "code",
      "metadata": {
        "id": "BEvJPAcbivZ6"
      },
      "source": [
        "c = np.array(d)"
      ],
      "execution_count": null,
      "outputs": []
    },
    {
      "cell_type": "code",
      "metadata": {
        "id": "grLexF1NlItx"
      },
      "source": [
        "print(d.shape)"
      ],
      "execution_count": null,
      "outputs": []
    },
    {
      "cell_type": "code",
      "metadata": {
        "id": "B6bfj0mamdf9"
      },
      "source": [
        "rows, cols = (5, 5) \n",
        "arr = [[0]*cols]*rows \n",
        "print(arr)"
      ],
      "execution_count": null,
      "outputs": []
    },
    {
      "cell_type": "code",
      "metadata": {
        "id": "yjxNNMypk3sc"
      },
      "source": [
        "c.head(10)"
      ],
      "execution_count": null,
      "outputs": []
    },
    {
      "cell_type": "code",
      "metadata": {
        "id": "s8v_vo-qj38y"
      },
      "source": [
        "newarr = c.reshape(-1, 8)\n",
        "print(newarr)\n"
      ],
      "execution_count": null,
      "outputs": []
    },
    {
      "cell_type": "markdown",
      "metadata": {
        "id": "EqQF7Y6_RTb-"
      },
      "source": [
        "\n",
        "\n",
        "---\n",
        "\n"
      ]
    },
    {
      "cell_type": "markdown",
      "metadata": {
        "id": "8rOH56hBMgxy"
      },
      "source": [
        "2. Chest *(Body Position)*\n",
        "\n"
      ]
    },
    {
      "cell_type": "code",
      "metadata": {
        "id": "Fvc5k4EFRY6y"
      },
      "source": [
        "df_walk_chest= pd.read_csv(\"/content/gdrive/My Drive/ML4IOT/Notebook 1/Walking/acc_walking_csv/acc_walking_forearm.csv\")\n",
        "df_run_chest = pd.read_csv(\"/content/gdrive/My Drive/ML4IOT/Notebook 1/Running/acc_running_csv/acc_running_forearm.csv\")\n",
        "df_sit_chest = pd.read_csv(\"/content/gdrive/My Drive/ML4IOT/Notebook 1/sitting/acc_sitting_csv/acc_sitting_forearm.csv\")\n",
        "df_stand_chest = pd.read_csv(\"/content/gdrive/My Drive/ML4IOT/Notebook 1/Standing/acc_standing_csv/acc_standing_forearm.csv\")\n",
        "df_lye_chest= pd.read_csv(\"/content/gdrive/My Drive/ML4IOT/Notebook 1/Lying/acc_lying_csv/acc_lying_forearm.csv\")\n",
        "df_climbup_chest = pd.read_csv(\"/content/gdrive/My Drive/ML4IOT/Notebook 1/climbing up/acc_climbingup_csv/acc_climbingup_forearm.csv\")\n",
        "df_climbdown_chest = pd.read_csv(\"/content/gdrive/My Drive/ML4IOT/Notebook 1/climbing down/acc_climbingdown_csv/acc_climbingdown_forearm.csv\")\n",
        "df_jump_chest = pd.read_csv(\"/content/gdrive/My Drive/ML4IOT/Notebook 1/Jumping/acc_jumping_csv/acc_jumping_forearm.csv\")\n",
        "b1 = df_walk_chest[['attr_x', 'attr_y', 'attr_z']].values[0:999,:]\n",
        "b2 = df_run_chest[['attr_x', 'attr_y', 'attr_z']].values[0:999,:]\n",
        "b3 = df_sit_chest[['attr_x', 'attr_y', 'attr_z']].values[0:999,:]\n",
        "b4 = df_stand_chest[['attr_x', 'attr_y', 'attr_z']].values[0:999,:]\n",
        "b5 = df_lye_chest[['attr_x', 'attr_y', 'attr_z']].values[0:999,:]\n",
        "b6 = df_climbup_chest[['attr_x', 'attr_y', 'attr_z']].values[0:999,:]\n",
        "b7 = df_climbdown_chest[['attr_x', 'attr_y', 'attr_z']].values[0:999,:]\n",
        "b8 = df_jump_chest[['attr_x', 'attr_y', 'attr_z']].values[0:999,:]"
      ],
      "execution_count": null,
      "outputs": []
    },
    {
      "cell_type": "markdown",
      "metadata": {
        "id": "WIb4cMsTMj7n"
      },
      "source": [
        "3. Head *(Body Position)*\n",
        "\n"
      ]
    },
    {
      "cell_type": "markdown",
      "metadata": {
        "id": "glxbZRrOMoC6"
      },
      "source": [
        "4. Shin *(Body Position)*\n"
      ]
    },
    {
      "cell_type": "markdown",
      "metadata": {
        "id": "542OI1UZMsCy"
      },
      "source": [
        "5. Thigh *(Body Position)*\n",
        "\n"
      ]
    },
    {
      "cell_type": "markdown",
      "metadata": {
        "id": "fi2ysQv1MtgX"
      },
      "source": [
        "6. UpperArm *(Body Position)*\n"
      ]
    },
    {
      "cell_type": "markdown",
      "metadata": {
        "id": "eSHTbwMJMv4t"
      },
      "source": [
        "7. Waist *(Body Position)*\n",
        "\n"
      ]
    },
    {
      "cell_type": "markdown",
      "metadata": {
        "id": "M8uX0V29K2FC"
      },
      "source": [
        "**GPS** *(Sensor)*"
      ]
    },
    {
      "cell_type": "markdown",
      "metadata": {
        "id": "749cSGZkK4hF"
      },
      "source": [
        "**Gyroscope** *(Sensor)*"
      ]
    },
    {
      "cell_type": "markdown",
      "metadata": {
        "id": "tU2MH6GCK68m"
      },
      "source": [
        "**Light** *(Sensor)*"
      ]
    },
    {
      "cell_type": "markdown",
      "metadata": {
        "id": "K99R8o5IK9nh"
      },
      "source": [
        "**Magnetic Field** *(Sensor)*"
      ]
    },
    {
      "cell_type": "markdown",
      "metadata": {
        "id": "xLIWBnUpLAIz"
      },
      "source": [
        "**Sound Level** *(Sensor)*"
      ]
    },
    {
      "cell_type": "code",
      "metadata": {
        "id": "HNqwKJxKABf0"
      },
      "source": [
        "df1.head()"
      ],
      "execution_count": null,
      "outputs": []
    },
    {
      "cell_type": "code",
      "metadata": {
        "id": "_quw4mdLC7wv"
      },
      "source": [
        "df2.head()"
      ],
      "execution_count": null,
      "outputs": []
    },
    {
      "cell_type": "code",
      "metadata": {
        "id": "dJ5ac53bu4u3"
      },
      "source": [
        "x = df1[['attr_x', 'attr_y', 'attr_z']].values[0:999,:]\n",
        "y = df2[['attr_x', 'attr_y', 'attr_z']].values[0:999,:]"
      ],
      "execution_count": null,
      "outputs": []
    },
    {
      "cell_type": "code",
      "metadata": {
        "id": "FlTR7RS7SbGY"
      },
      "source": [
        ""
      ],
      "execution_count": null,
      "outputs": []
    },
    {
      "cell_type": "code",
      "metadata": {
        "id": "rgwJTIHxDcca"
      },
      "source": [
        "euclidean_distance =  lambda x,y: np.linalg.norm(x-y)\n",
        "\n",
        "d, cost_matrix, acc_cost_matrix, path = dtw(x, y, dist=euclidean_distance)\n",
        "\n",
        "import matplotlib.pyplot as plt\n",
        "\n",
        "plt.imshow(acc_cost_matrix.T, origin='lower', cmap='gray', interpolation='nearest')\n",
        "plt.plot(path[0], path[1], 'w')\n",
        "plt.show()\n",
        "\n",
        "print (d)"
      ],
      "execution_count": null,
      "outputs": []
    },
    {
      "cell_type": "code",
      "metadata": {
        "id": "BVzTqsJ-TjL1"
      },
      "source": [
        "d, cost_matrix, acc_cost_matrix, path = dtw(y, y, dist=euclidean_distance)\n",
        "\n",
        "import matplotlib.pyplot as plt\n",
        "\n",
        "plt.imshow(acc_cost_matrix.T, origin='lower', cmap='gray', interpolation='nearest')\n",
        "plt.plot(path[0], path[1], 'w')\n",
        "plt.show()\n",
        "\n",
        "print (d)"
      ],
      "execution_count": null,
      "outputs": []
    }
  ]
}