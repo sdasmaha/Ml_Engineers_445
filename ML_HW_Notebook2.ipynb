{
  "nbformat": 4,
  "nbformat_minor": 0,
  "metadata": {
    "colab": {
      "name": "ML_HW_Notebook2.ipynb",
      "provenance": [],
      "collapsed_sections": [],
      "authorship_tag": "ABX9TyNsX/pKdTLTEPWdaAUwtp9Y",
      "include_colab_link": true
    },
    "kernelspec": {
      "name": "python3",
      "display_name": "Python 3"
    }
  },
  "cells": [
    {
      "cell_type": "markdown",
      "metadata": {
        "id": "view-in-github",
        "colab_type": "text"
      },
      "source": [
        "<a href=\"https://colab.research.google.com/github/sdasmaha/Ml_Engineers_445/blob/master/ML_HW_Notebook2.ipynb\" target=\"_parent\"><img src=\"https://colab.research.google.com/assets/colab-badge.svg\" alt=\"Open In Colab\"/></a>"
      ]
    },
    {
      "cell_type": "markdown",
      "metadata": {
        "id": "__nIqyeEZiIx"
      },
      "source": [
        "Notebook Excercise #2\n",
        "#Srinjoy DasMahapatra\n",
        "\n",
        "IDE => Google Colab Pro"
      ]
    },
    {
      "cell_type": "code",
      "metadata": {
        "id": "698H32EltJsH"
      },
      "source": [
        "import numpy as np\n",
        "import pandas as pd\n",
        "from scipy import stats as sps\n",
        "from matplotlib import pyplot as plt\n",
        "from mpl_toolkits.mplot3d import Axes3D\n",
        "from IPython.display import display, Latex\n"
      ],
      "execution_count": 1,
      "outputs": []
    },
    {
      "cell_type": "code",
      "metadata": {
        "id": "x2JoYJYXX0cA",
        "outputId": "b76b641e-073c-42b4-b1f6-5358a5f868b7",
        "colab": {
          "base_uri": "https://localhost:8080/",
          "height": 34
        }
      },
      "source": [
        "from google.colab import drive\n",
        "drive.mount(\"/content/gdrive\")"
      ],
      "execution_count": 2,
      "outputs": [
        {
          "output_type": "stream",
          "text": [
            "Mounted at /content/gdrive\n"
          ],
          "name": "stdout"
        }
      ]
    },
    {
      "cell_type": "code",
      "metadata": {
        "id": "d9oK_Oksa_oy"
      },
      "source": [
        "df_iot_tel = pd.read_csv(\"/content/gdrive/My Drive/Colab Notebooks/BAJWA-ML/Notebook 2/iot_telemetry_dataset.csv\")"
      ],
      "execution_count": 3,
      "outputs": []
    },
    {
      "cell_type": "markdown",
      "metadata": {
        "id": "ju2ZOFsatJsK"
      },
      "source": [
        "# 1. Feature Engineering for _Environmental Sensor Telemetry Data_"
      ]
    },
    {
      "cell_type": "markdown",
      "metadata": {
        "id": "sQyqtBOBtJsL"
      },
      "source": [
        "## Problem 1.1"
      ]
    },
    {
      "cell_type": "markdown",
      "metadata": {
        "id": "mmpfdkkGtJsL"
      },
      "source": [
        "###(a)"
      ]
    },
    {
      "cell_type": "markdown",
      "metadata": {
        "id": "_sfIkhp3aL9O"
      },
      "source": [
        "It is an unsupervised machine learning task since the final outcome is to determine if a person is near an IOT device. But there are no time stamps which states that people are near the IOT device in the dataset."
      ]
    },
    {
      "cell_type": "markdown",
      "metadata": {
        "id": "e_9b2FzZtJsM"
      },
      "source": [
        "### (b)"
      ]
    },
    {
      "cell_type": "code",
      "metadata": {
        "id": "qYqEPQZebLxt",
        "outputId": "818d39e5-a4e2-4860-9129-4db2d1be0267",
        "colab": {
          "base_uri": "https://localhost:8080/",
          "height": 204
        }
      },
      "source": [
        "df_iot_tel.head(5)"
      ],
      "execution_count": 4,
      "outputs": [
        {
          "output_type": "execute_result",
          "data": {
            "text/html": [
              "<div>\n",
              "<style scoped>\n",
              "    .dataframe tbody tr th:only-of-type {\n",
              "        vertical-align: middle;\n",
              "    }\n",
              "\n",
              "    .dataframe tbody tr th {\n",
              "        vertical-align: top;\n",
              "    }\n",
              "\n",
              "    .dataframe thead th {\n",
              "        text-align: right;\n",
              "    }\n",
              "</style>\n",
              "<table border=\"1\" class=\"dataframe\">\n",
              "  <thead>\n",
              "    <tr style=\"text-align: right;\">\n",
              "      <th></th>\n",
              "      <th>ts</th>\n",
              "      <th>device</th>\n",
              "      <th>co</th>\n",
              "      <th>humidity</th>\n",
              "      <th>light</th>\n",
              "      <th>lpg</th>\n",
              "      <th>motion</th>\n",
              "      <th>smoke</th>\n",
              "      <th>temp</th>\n",
              "    </tr>\n",
              "  </thead>\n",
              "  <tbody>\n",
              "    <tr>\n",
              "      <th>0</th>\n",
              "      <td>1.594512e+09</td>\n",
              "      <td>b8:27:eb:bf:9d:51</td>\n",
              "      <td>0.004956</td>\n",
              "      <td>51.000000</td>\n",
              "      <td>False</td>\n",
              "      <td>0.007651</td>\n",
              "      <td>False</td>\n",
              "      <td>0.020411</td>\n",
              "      <td>22.700000</td>\n",
              "    </tr>\n",
              "    <tr>\n",
              "      <th>1</th>\n",
              "      <td>1.594512e+09</td>\n",
              "      <td>00:0f:00:70:91:0a</td>\n",
              "      <td>0.002840</td>\n",
              "      <td>76.000000</td>\n",
              "      <td>False</td>\n",
              "      <td>0.005114</td>\n",
              "      <td>False</td>\n",
              "      <td>0.013275</td>\n",
              "      <td>19.700001</td>\n",
              "    </tr>\n",
              "    <tr>\n",
              "      <th>2</th>\n",
              "      <td>1.594512e+09</td>\n",
              "      <td>b8:27:eb:bf:9d:51</td>\n",
              "      <td>0.004976</td>\n",
              "      <td>50.900000</td>\n",
              "      <td>False</td>\n",
              "      <td>0.007673</td>\n",
              "      <td>False</td>\n",
              "      <td>0.020475</td>\n",
              "      <td>22.600000</td>\n",
              "    </tr>\n",
              "    <tr>\n",
              "      <th>3</th>\n",
              "      <td>1.594512e+09</td>\n",
              "      <td>1c:bf:ce:15:ec:4d</td>\n",
              "      <td>0.004403</td>\n",
              "      <td>76.800003</td>\n",
              "      <td>True</td>\n",
              "      <td>0.007023</td>\n",
              "      <td>False</td>\n",
              "      <td>0.018628</td>\n",
              "      <td>27.000000</td>\n",
              "    </tr>\n",
              "    <tr>\n",
              "      <th>4</th>\n",
              "      <td>1.594512e+09</td>\n",
              "      <td>b8:27:eb:bf:9d:51</td>\n",
              "      <td>0.004967</td>\n",
              "      <td>50.900000</td>\n",
              "      <td>False</td>\n",
              "      <td>0.007664</td>\n",
              "      <td>False</td>\n",
              "      <td>0.020448</td>\n",
              "      <td>22.600000</td>\n",
              "    </tr>\n",
              "  </tbody>\n",
              "</table>\n",
              "</div>"
            ],
            "text/plain": [
              "             ts             device        co  ...  motion     smoke       temp\n",
              "0  1.594512e+09  b8:27:eb:bf:9d:51  0.004956  ...   False  0.020411  22.700000\n",
              "1  1.594512e+09  00:0f:00:70:91:0a  0.002840  ...   False  0.013275  19.700001\n",
              "2  1.594512e+09  b8:27:eb:bf:9d:51  0.004976  ...   False  0.020475  22.600000\n",
              "3  1.594512e+09  1c:bf:ce:15:ec:4d  0.004403  ...   False  0.018628  27.000000\n",
              "4  1.594512e+09  b8:27:eb:bf:9d:51  0.004967  ...   False  0.020448  22.600000\n",
              "\n",
              "[5 rows x 9 columns]"
            ]
          },
          "metadata": {
            "tags": []
          },
          "execution_count": 4
        }
      ]
    },
    {
      "cell_type": "code",
      "metadata": {
        "id": "N9LSZ0YzbRb0",
        "outputId": "7eefd7f9-effd-46dc-f71f-73808a97066a",
        "colab": {
          "base_uri": "https://localhost:8080/",
          "height": 34
        }
      },
      "source": [
        "print(df_iot_tel.shape) "
      ],
      "execution_count": 5,
      "outputs": [
        {
          "output_type": "stream",
          "text": [
            "(405184, 9)\n"
          ],
          "name": "stdout"
        }
      ]
    },
    {
      "cell_type": "markdown",
      "metadata": {
        "id": "1w5nramnbn6h"
      },
      "source": [
        "There are **405,184** data samples in the dataset."
      ]
    },
    {
      "cell_type": "markdown",
      "metadata": {
        "id": "KZVXyzzdtJsP"
      },
      "source": [
        "### (c)\n",
        "\n"
      ]
    },
    {
      "cell_type": "code",
      "metadata": {
        "id": "lr8Wj911cgZL",
        "outputId": "cceae7f0-6005-43c3-93ba-9e85a5fa22d8",
        "colab": {
          "base_uri": "https://localhost:8080/",
          "height": 34
        }
      },
      "source": [
        "df_iot_tel['device'].dtypes"
      ],
      "execution_count": 6,
      "outputs": [
        {
          "output_type": "execute_result",
          "data": {
            "text/plain": [
              "dtype('O')"
            ]
          },
          "metadata": {
            "tags": []
          },
          "execution_count": 6
        }
      ]
    },
    {
      "cell_type": "markdown",
      "metadata": {
        "id": "MungD3N8cZeV"
      },
      "source": [
        "We can see the MAC address is of datatype=> **O** (Object)"
      ]
    },
    {
      "cell_type": "code",
      "metadata": {
        "id": "EHdkYaJ1dIan",
        "outputId": "42e8816b-0751-4241-c8b8-5a9e88f1259d",
        "colab": {
          "base_uri": "https://localhost:8080/",
          "height": 51
        }
      },
      "source": [
        "df_iot_tel['device'].where(df_iot_tel['device'] == '00:0f:00:70:91:0a').value_counts()"
      ],
      "execution_count": 7,
      "outputs": [
        {
          "output_type": "execute_result",
          "data": {
            "text/plain": [
              "00:0f:00:70:91:0a    111815\n",
              "Name: device, dtype: int64"
            ]
          },
          "metadata": {
            "tags": []
          },
          "execution_count": 7
        }
      ]
    },
    {
      "cell_type": "markdown",
      "metadata": {
        "id": "mccP7KhIdUFo"
      },
      "source": [
        "There are **111,815** data samples with the MAC address 00:0f:00:70:91:0a "
      ]
    },
    {
      "cell_type": "markdown",
      "metadata": {
        "id": "PwGXkKomtJsS"
      },
      "source": [
        "### (d)"
      ]
    },
    {
      "cell_type": "code",
      "metadata": {
        "id": "K0V0TcugtJsS",
        "outputId": "d9728ad4-5be5-4901-c3df-e090c50cf88a",
        "colab": {
          "base_uri": "https://localhost:8080/",
          "height": 51
        }
      },
      "source": [
        "df_iot_tel['device'].where(df_iot_tel['device'] == '1c:bf:ce:15:ec:4d').value_counts()"
      ],
      "execution_count": 8,
      "outputs": [
        {
          "output_type": "execute_result",
          "data": {
            "text/plain": [
              "1c:bf:ce:15:ec:4d    105918\n",
              "Name: device, dtype: int64"
            ]
          },
          "metadata": {
            "tags": []
          },
          "execution_count": 8
        }
      ]
    },
    {
      "cell_type": "markdown",
      "metadata": {
        "id": "whm-bpDNdz_p"
      },
      "source": [
        "There are **105,918** data samples with the MAC address 1c:bf:ce:15:ec:4d\n"
      ]
    },
    {
      "cell_type": "markdown",
      "metadata": {
        "id": "VcCkSG-xtJsU"
      },
      "source": [
        "### (e)"
      ]
    },
    {
      "cell_type": "code",
      "metadata": {
        "id": "PyvOC1cptJsV",
        "outputId": "7a554b9d-7036-4da8-e714-8bcbe44cc4b5",
        "colab": {
          "base_uri": "https://localhost:8080/",
          "height": 51
        }
      },
      "source": [
        "df_iot_tel['device'].where(df_iot_tel['device'] == 'b8:27:eb:bf:9d:51').value_counts()"
      ],
      "execution_count": 9,
      "outputs": [
        {
          "output_type": "execute_result",
          "data": {
            "text/plain": [
              "b8:27:eb:bf:9d:51    187451\n",
              "Name: device, dtype: int64"
            ]
          },
          "metadata": {
            "tags": []
          },
          "execution_count": 9
        }
      ]
    },
    {
      "cell_type": "markdown",
      "metadata": {
        "id": "gjjPgNK0fNCD"
      },
      "source": [
        "There are **187,451** data samples with the MAC address b8:27:eb:bf:9d:51"
      ]
    },
    {
      "cell_type": "markdown",
      "metadata": {
        "id": "0qAgmitMqU_M"
      },
      "source": [
        "**Adding all the MAC addresses individually we get 405184.  Hence there is only 3 MAC addresses in total**"
      ]
    },
    {
      "cell_type": "markdown",
      "metadata": {
        "id": "g6AL3sXFtJsX"
      },
      "source": [
        "## Problem 1.2"
      ]
    },
    {
      "cell_type": "code",
      "metadata": {
        "id": "e907LRbrxZNO",
        "outputId": "3750946f-f531-4487-d898-cafcedf42352",
        "colab": {
          "base_uri": "https://localhost:8080/",
          "height": 187
        }
      },
      "source": [
        "df_iot_tel.dtypes"
      ],
      "execution_count": 10,
      "outputs": [
        {
          "output_type": "execute_result",
          "data": {
            "text/plain": [
              "ts          float64\n",
              "device       object\n",
              "co          float64\n",
              "humidity    float64\n",
              "light          bool\n",
              "lpg         float64\n",
              "motion         bool\n",
              "smoke       float64\n",
              "temp        float64\n",
              "dtype: object"
            ]
          },
          "metadata": {
            "tags": []
          },
          "execution_count": 10
        }
      ]
    },
    {
      "cell_type": "markdown",
      "metadata": {
        "id": "jIyqvY0qnTp4"
      },
      "source": [
        " The problem mentions most of the challenges that otherwise needed to be worked on : \n",
        " 1.  No missing Entries\n",
        " 2. pandas.get_dummies() can be used \n"
      ]
    },
    {
      "cell_type": "markdown",
      "metadata": {
        "id": "0Y7HF5xUtJsY"
      },
      "source": [
        "### (a)"
      ]
    },
    {
      "cell_type": "markdown",
      "metadata": {
        "id": "w4U3Bn4IstTp"
      },
      "source": [
        "**Device**"
      ]
    },
    {
      "cell_type": "code",
      "metadata": {
        "id": "BnqS_jVHb5_M",
        "outputId": "62b190d9-9337-4fcd-8e08-fd004eaf322e",
        "colab": {
          "base_uri": "https://localhost:8080/",
          "height": 204
        }
      },
      "source": [
        "MAC_types = df_iot_tel['device']\n",
        "dum_df = pd.get_dummies(MAC_types, prefix=\"MAC:\" )\n",
        "MAC_df = df_iot_tel.join(dum_df)\n",
        "MAC_df = MAC_df.drop(columns = 'device')\n",
        "MAC_df.head(5)"
      ],
      "execution_count": 11,
      "outputs": [
        {
          "output_type": "execute_result",
          "data": {
            "text/html": [
              "<div>\n",
              "<style scoped>\n",
              "    .dataframe tbody tr th:only-of-type {\n",
              "        vertical-align: middle;\n",
              "    }\n",
              "\n",
              "    .dataframe tbody tr th {\n",
              "        vertical-align: top;\n",
              "    }\n",
              "\n",
              "    .dataframe thead th {\n",
              "        text-align: right;\n",
              "    }\n",
              "</style>\n",
              "<table border=\"1\" class=\"dataframe\">\n",
              "  <thead>\n",
              "    <tr style=\"text-align: right;\">\n",
              "      <th></th>\n",
              "      <th>ts</th>\n",
              "      <th>co</th>\n",
              "      <th>humidity</th>\n",
              "      <th>light</th>\n",
              "      <th>lpg</th>\n",
              "      <th>motion</th>\n",
              "      <th>smoke</th>\n",
              "      <th>temp</th>\n",
              "      <th>MAC:_00:0f:00:70:91:0a</th>\n",
              "      <th>MAC:_1c:bf:ce:15:ec:4d</th>\n",
              "      <th>MAC:_b8:27:eb:bf:9d:51</th>\n",
              "    </tr>\n",
              "  </thead>\n",
              "  <tbody>\n",
              "    <tr>\n",
              "      <th>0</th>\n",
              "      <td>1.594512e+09</td>\n",
              "      <td>0.004956</td>\n",
              "      <td>51.000000</td>\n",
              "      <td>False</td>\n",
              "      <td>0.007651</td>\n",
              "      <td>False</td>\n",
              "      <td>0.020411</td>\n",
              "      <td>22.700000</td>\n",
              "      <td>0</td>\n",
              "      <td>0</td>\n",
              "      <td>1</td>\n",
              "    </tr>\n",
              "    <tr>\n",
              "      <th>1</th>\n",
              "      <td>1.594512e+09</td>\n",
              "      <td>0.002840</td>\n",
              "      <td>76.000000</td>\n",
              "      <td>False</td>\n",
              "      <td>0.005114</td>\n",
              "      <td>False</td>\n",
              "      <td>0.013275</td>\n",
              "      <td>19.700001</td>\n",
              "      <td>1</td>\n",
              "      <td>0</td>\n",
              "      <td>0</td>\n",
              "    </tr>\n",
              "    <tr>\n",
              "      <th>2</th>\n",
              "      <td>1.594512e+09</td>\n",
              "      <td>0.004976</td>\n",
              "      <td>50.900000</td>\n",
              "      <td>False</td>\n",
              "      <td>0.007673</td>\n",
              "      <td>False</td>\n",
              "      <td>0.020475</td>\n",
              "      <td>22.600000</td>\n",
              "      <td>0</td>\n",
              "      <td>0</td>\n",
              "      <td>1</td>\n",
              "    </tr>\n",
              "    <tr>\n",
              "      <th>3</th>\n",
              "      <td>1.594512e+09</td>\n",
              "      <td>0.004403</td>\n",
              "      <td>76.800003</td>\n",
              "      <td>True</td>\n",
              "      <td>0.007023</td>\n",
              "      <td>False</td>\n",
              "      <td>0.018628</td>\n",
              "      <td>27.000000</td>\n",
              "      <td>0</td>\n",
              "      <td>1</td>\n",
              "      <td>0</td>\n",
              "    </tr>\n",
              "    <tr>\n",
              "      <th>4</th>\n",
              "      <td>1.594512e+09</td>\n",
              "      <td>0.004967</td>\n",
              "      <td>50.900000</td>\n",
              "      <td>False</td>\n",
              "      <td>0.007664</td>\n",
              "      <td>False</td>\n",
              "      <td>0.020448</td>\n",
              "      <td>22.600000</td>\n",
              "      <td>0</td>\n",
              "      <td>0</td>\n",
              "      <td>1</td>\n",
              "    </tr>\n",
              "  </tbody>\n",
              "</table>\n",
              "</div>"
            ],
            "text/plain": [
              "             ts        co  ...  MAC:_1c:bf:ce:15:ec:4d  MAC:_b8:27:eb:bf:9d:51\n",
              "0  1.594512e+09  0.004956  ...                       0                       1\n",
              "1  1.594512e+09  0.002840  ...                       0                       0\n",
              "2  1.594512e+09  0.004976  ...                       0                       1\n",
              "3  1.594512e+09  0.004403  ...                       1                       0\n",
              "4  1.594512e+09  0.004967  ...                       0                       1\n",
              "\n",
              "[5 rows x 11 columns]"
            ]
          },
          "metadata": {
            "tags": []
          },
          "execution_count": 11
        }
      ]
    },
    {
      "cell_type": "markdown",
      "metadata": {
        "id": "BGicMRTUsxN2"
      },
      "source": [
        "**Light**"
      ]
    },
    {
      "cell_type": "code",
      "metadata": {
        "id": "17jxDqB4iMyG",
        "outputId": "506c7eec-18c6-4691-879a-2968c5d17ec7",
        "colab": {
          "base_uri": "https://localhost:8080/",
          "height": 204
        }
      },
      "source": [
        "light_types = MAC_df['light']\n",
        "dum_df_light = pd.get_dummies(light_types, prefix=\"Light:\" )\n",
        "light_df = MAC_df.join(dum_df_light)\n",
        "light_df = light_df.drop(columns = 'light')\n",
        "light_df.head(5)"
      ],
      "execution_count": 12,
      "outputs": [
        {
          "output_type": "execute_result",
          "data": {
            "text/html": [
              "<div>\n",
              "<style scoped>\n",
              "    .dataframe tbody tr th:only-of-type {\n",
              "        vertical-align: middle;\n",
              "    }\n",
              "\n",
              "    .dataframe tbody tr th {\n",
              "        vertical-align: top;\n",
              "    }\n",
              "\n",
              "    .dataframe thead th {\n",
              "        text-align: right;\n",
              "    }\n",
              "</style>\n",
              "<table border=\"1\" class=\"dataframe\">\n",
              "  <thead>\n",
              "    <tr style=\"text-align: right;\">\n",
              "      <th></th>\n",
              "      <th>ts</th>\n",
              "      <th>co</th>\n",
              "      <th>humidity</th>\n",
              "      <th>lpg</th>\n",
              "      <th>motion</th>\n",
              "      <th>smoke</th>\n",
              "      <th>temp</th>\n",
              "      <th>MAC:_00:0f:00:70:91:0a</th>\n",
              "      <th>MAC:_1c:bf:ce:15:ec:4d</th>\n",
              "      <th>MAC:_b8:27:eb:bf:9d:51</th>\n",
              "      <th>Light:_False</th>\n",
              "      <th>Light:_True</th>\n",
              "    </tr>\n",
              "  </thead>\n",
              "  <tbody>\n",
              "    <tr>\n",
              "      <th>0</th>\n",
              "      <td>1.594512e+09</td>\n",
              "      <td>0.004956</td>\n",
              "      <td>51.000000</td>\n",
              "      <td>0.007651</td>\n",
              "      <td>False</td>\n",
              "      <td>0.020411</td>\n",
              "      <td>22.700000</td>\n",
              "      <td>0</td>\n",
              "      <td>0</td>\n",
              "      <td>1</td>\n",
              "      <td>1</td>\n",
              "      <td>0</td>\n",
              "    </tr>\n",
              "    <tr>\n",
              "      <th>1</th>\n",
              "      <td>1.594512e+09</td>\n",
              "      <td>0.002840</td>\n",
              "      <td>76.000000</td>\n",
              "      <td>0.005114</td>\n",
              "      <td>False</td>\n",
              "      <td>0.013275</td>\n",
              "      <td>19.700001</td>\n",
              "      <td>1</td>\n",
              "      <td>0</td>\n",
              "      <td>0</td>\n",
              "      <td>1</td>\n",
              "      <td>0</td>\n",
              "    </tr>\n",
              "    <tr>\n",
              "      <th>2</th>\n",
              "      <td>1.594512e+09</td>\n",
              "      <td>0.004976</td>\n",
              "      <td>50.900000</td>\n",
              "      <td>0.007673</td>\n",
              "      <td>False</td>\n",
              "      <td>0.020475</td>\n",
              "      <td>22.600000</td>\n",
              "      <td>0</td>\n",
              "      <td>0</td>\n",
              "      <td>1</td>\n",
              "      <td>1</td>\n",
              "      <td>0</td>\n",
              "    </tr>\n",
              "    <tr>\n",
              "      <th>3</th>\n",
              "      <td>1.594512e+09</td>\n",
              "      <td>0.004403</td>\n",
              "      <td>76.800003</td>\n",
              "      <td>0.007023</td>\n",
              "      <td>False</td>\n",
              "      <td>0.018628</td>\n",
              "      <td>27.000000</td>\n",
              "      <td>0</td>\n",
              "      <td>1</td>\n",
              "      <td>0</td>\n",
              "      <td>0</td>\n",
              "      <td>1</td>\n",
              "    </tr>\n",
              "    <tr>\n",
              "      <th>4</th>\n",
              "      <td>1.594512e+09</td>\n",
              "      <td>0.004967</td>\n",
              "      <td>50.900000</td>\n",
              "      <td>0.007664</td>\n",
              "      <td>False</td>\n",
              "      <td>0.020448</td>\n",
              "      <td>22.600000</td>\n",
              "      <td>0</td>\n",
              "      <td>0</td>\n",
              "      <td>1</td>\n",
              "      <td>1</td>\n",
              "      <td>0</td>\n",
              "    </tr>\n",
              "  </tbody>\n",
              "</table>\n",
              "</div>"
            ],
            "text/plain": [
              "             ts        co  ...  Light:_False  Light:_True\n",
              "0  1.594512e+09  0.004956  ...             1            0\n",
              "1  1.594512e+09  0.002840  ...             1            0\n",
              "2  1.594512e+09  0.004976  ...             1            0\n",
              "3  1.594512e+09  0.004403  ...             0            1\n",
              "4  1.594512e+09  0.004967  ...             1            0\n",
              "\n",
              "[5 rows x 12 columns]"
            ]
          },
          "metadata": {
            "tags": []
          },
          "execution_count": 12
        }
      ]
    },
    {
      "cell_type": "markdown",
      "metadata": {
        "id": "ryxaSTVFkV6M"
      },
      "source": [
        "**Motion**"
      ]
    },
    {
      "cell_type": "code",
      "metadata": {
        "id": "IeVH_psIics3",
        "outputId": "f19d564d-9fa4-41ba-8529-b0fe05208416",
        "colab": {
          "base_uri": "https://localhost:8080/",
          "height": 224
        }
      },
      "source": [
        "motion_types = light_df['motion']\n",
        "dum_df_motion = pd.get_dummies(motion_types, prefix=\"Motion:\" )\n",
        "motion_df = light_df.join(dum_df_motion)\n",
        "motion_df = motion_df.drop(columns = 'motion')\n",
        "one_hot_encoded_df = motion_df\n",
        "one_hot_encoded_df.head(5)"
      ],
      "execution_count": 13,
      "outputs": [
        {
          "output_type": "execute_result",
          "data": {
            "text/html": [
              "<div>\n",
              "<style scoped>\n",
              "    .dataframe tbody tr th:only-of-type {\n",
              "        vertical-align: middle;\n",
              "    }\n",
              "\n",
              "    .dataframe tbody tr th {\n",
              "        vertical-align: top;\n",
              "    }\n",
              "\n",
              "    .dataframe thead th {\n",
              "        text-align: right;\n",
              "    }\n",
              "</style>\n",
              "<table border=\"1\" class=\"dataframe\">\n",
              "  <thead>\n",
              "    <tr style=\"text-align: right;\">\n",
              "      <th></th>\n",
              "      <th>ts</th>\n",
              "      <th>co</th>\n",
              "      <th>humidity</th>\n",
              "      <th>lpg</th>\n",
              "      <th>smoke</th>\n",
              "      <th>temp</th>\n",
              "      <th>MAC:_00:0f:00:70:91:0a</th>\n",
              "      <th>MAC:_1c:bf:ce:15:ec:4d</th>\n",
              "      <th>MAC:_b8:27:eb:bf:9d:51</th>\n",
              "      <th>Light:_False</th>\n",
              "      <th>Light:_True</th>\n",
              "      <th>Motion:_False</th>\n",
              "      <th>Motion:_True</th>\n",
              "    </tr>\n",
              "  </thead>\n",
              "  <tbody>\n",
              "    <tr>\n",
              "      <th>0</th>\n",
              "      <td>1.594512e+09</td>\n",
              "      <td>0.004956</td>\n",
              "      <td>51.000000</td>\n",
              "      <td>0.007651</td>\n",
              "      <td>0.020411</td>\n",
              "      <td>22.700000</td>\n",
              "      <td>0</td>\n",
              "      <td>0</td>\n",
              "      <td>1</td>\n",
              "      <td>1</td>\n",
              "      <td>0</td>\n",
              "      <td>1</td>\n",
              "      <td>0</td>\n",
              "    </tr>\n",
              "    <tr>\n",
              "      <th>1</th>\n",
              "      <td>1.594512e+09</td>\n",
              "      <td>0.002840</td>\n",
              "      <td>76.000000</td>\n",
              "      <td>0.005114</td>\n",
              "      <td>0.013275</td>\n",
              "      <td>19.700001</td>\n",
              "      <td>1</td>\n",
              "      <td>0</td>\n",
              "      <td>0</td>\n",
              "      <td>1</td>\n",
              "      <td>0</td>\n",
              "      <td>1</td>\n",
              "      <td>0</td>\n",
              "    </tr>\n",
              "    <tr>\n",
              "      <th>2</th>\n",
              "      <td>1.594512e+09</td>\n",
              "      <td>0.004976</td>\n",
              "      <td>50.900000</td>\n",
              "      <td>0.007673</td>\n",
              "      <td>0.020475</td>\n",
              "      <td>22.600000</td>\n",
              "      <td>0</td>\n",
              "      <td>0</td>\n",
              "      <td>1</td>\n",
              "      <td>1</td>\n",
              "      <td>0</td>\n",
              "      <td>1</td>\n",
              "      <td>0</td>\n",
              "    </tr>\n",
              "    <tr>\n",
              "      <th>3</th>\n",
              "      <td>1.594512e+09</td>\n",
              "      <td>0.004403</td>\n",
              "      <td>76.800003</td>\n",
              "      <td>0.007023</td>\n",
              "      <td>0.018628</td>\n",
              "      <td>27.000000</td>\n",
              "      <td>0</td>\n",
              "      <td>1</td>\n",
              "      <td>0</td>\n",
              "      <td>0</td>\n",
              "      <td>1</td>\n",
              "      <td>1</td>\n",
              "      <td>0</td>\n",
              "    </tr>\n",
              "    <tr>\n",
              "      <th>4</th>\n",
              "      <td>1.594512e+09</td>\n",
              "      <td>0.004967</td>\n",
              "      <td>50.900000</td>\n",
              "      <td>0.007664</td>\n",
              "      <td>0.020448</td>\n",
              "      <td>22.600000</td>\n",
              "      <td>0</td>\n",
              "      <td>0</td>\n",
              "      <td>1</td>\n",
              "      <td>1</td>\n",
              "      <td>0</td>\n",
              "      <td>1</td>\n",
              "      <td>0</td>\n",
              "    </tr>\n",
              "  </tbody>\n",
              "</table>\n",
              "</div>"
            ],
            "text/plain": [
              "             ts        co   humidity  ...  Light:_True  Motion:_False  Motion:_True\n",
              "0  1.594512e+09  0.004956  51.000000  ...            0              1             0\n",
              "1  1.594512e+09  0.002840  76.000000  ...            0              1             0\n",
              "2  1.594512e+09  0.004976  50.900000  ...            0              1             0\n",
              "3  1.594512e+09  0.004403  76.800003  ...            1              1             0\n",
              "4  1.594512e+09  0.004967  50.900000  ...            0              1             0\n",
              "\n",
              "[5 rows x 13 columns]"
            ]
          },
          "metadata": {
            "tags": []
          },
          "execution_count": 13
        }
      ]
    },
    {
      "cell_type": "markdown",
      "metadata": {
        "id": "zccrYCN0tJse"
      },
      "source": [
        "### (b)"
      ]
    },
    {
      "cell_type": "code",
      "metadata": {
        "id": "E8W4FgSXvupG"
      },
      "source": [
        "one_hot_encoded_df.loc[one_hot_encoded_df[\"MAC:_00:0f:00:70:91:0a\"] ==1,'co':'temp'] = one_hot_encoded_df.loc[one_hot_encoded_df[\"MAC:_00:0f:00:70:91:0a\"] ==1,'co':'temp'] - one_hot_encoded_df.loc[one_hot_encoded_df[\"MAC:_00:0f:00:70:91:0a\"] ==1,'co':'temp'].mean()\n",
        "one_hot_encoded_df.loc[one_hot_encoded_df[\"MAC:_00:0f:00:70:91:0a\"] ==1,'co':'temp'] = one_hot_encoded_df.loc[one_hot_encoded_df[\"MAC:_00:0f:00:70:91:0a\"] ==1,'co':'temp'] / one_hot_encoded_df.loc[one_hot_encoded_df[\"MAC:_00:0f:00:70:91:0a\"] ==1,'co':'temp'].std()\n",
        "\n",
        "one_hot_encoded_df.loc[one_hot_encoded_df[\"MAC:_1c:bf:ce:15:ec:4d\"] ==1,'co':'temp'] = one_hot_encoded_df.loc[one_hot_encoded_df[\"MAC:_1c:bf:ce:15:ec:4d\"] ==1,'co':'temp'] - one_hot_encoded_df.loc[one_hot_encoded_df[\"MAC:_1c:bf:ce:15:ec:4d\"] ==1,'co':'temp'].mean()\n",
        "one_hot_encoded_df.loc[one_hot_encoded_df[\"MAC:_1c:bf:ce:15:ec:4d\"] ==1,'co':'temp'] = one_hot_encoded_df.loc[one_hot_encoded_df[\"MAC:_1c:bf:ce:15:ec:4d\"] ==1,'co':'temp'] / one_hot_encoded_df.loc[one_hot_encoded_df[\"MAC:_1c:bf:ce:15:ec:4d\"] ==1,'co':'temp'].std()\n",
        "\n",
        "one_hot_encoded_df.loc[one_hot_encoded_df[\"MAC:_b8:27:eb:bf:9d:51\"] ==1,'co':'temp'] = one_hot_encoded_df.loc[one_hot_encoded_df[\"MAC:_b8:27:eb:bf:9d:51\"] ==1,'co':'temp'] - one_hot_encoded_df.loc[one_hot_encoded_df[\"MAC:_b8:27:eb:bf:9d:51\"] ==1,'co':'temp'].mean()\n",
        "one_hot_encoded_df.loc[one_hot_encoded_df[\"MAC:_b8:27:eb:bf:9d:51\"] ==1,'co':'temp'] = one_hot_encoded_df.loc[one_hot_encoded_df[\"MAC:_b8:27:eb:bf:9d:51\"] ==1,'co':'temp'] / one_hot_encoded_df.loc[one_hot_encoded_df[\"MAC:_b8:27:eb:bf:9d:51\"] ==1,'co':'temp'].std()\n"
      ],
      "execution_count": 17,
      "outputs": []
    },
    {
      "cell_type": "markdown",
      "metadata": {
        "id": "9l9KO0RhxpSV"
      },
      "source": [
        "Verifying"
      ]
    },
    {
      "cell_type": "code",
      "metadata": {
        "id": "GhNdoEE-w9OC",
        "outputId": "fff55b47-46ff-4be7-9c2a-ea2861efaae1",
        "colab": {
          "base_uri": "https://localhost:8080/"
        }
      },
      "source": [
        "one_hot_encoded_df.loc[one_hot_encoded_df[\"MAC:_00:0f:00:70:91:0a\"] ==1,'co':'temp'].mean()"
      ],
      "execution_count": null,
      "outputs": [
        {
          "output_type": "execute_result",
          "data": {
            "text/plain": [
              "co         -9.766295e-13\n",
              "humidity    1.754900e-14\n",
              "lpg         1.628100e-13\n",
              "smoke       2.056039e-12\n",
              "temp        2.647922e-15\n",
              "dtype: float64"
            ]
          },
          "metadata": {
            "tags": []
          },
          "execution_count": 20
        }
      ]
    },
    {
      "cell_type": "code",
      "metadata": {
        "id": "gej51UXtxDeY",
        "outputId": "da0028f9-b1cc-4204-a989-ebac5c4dccaf",
        "colab": {
          "base_uri": "https://localhost:8080/"
        }
      },
      "source": [
        "one_hot_encoded_df.loc[one_hot_encoded_df[\"MAC:_00:0f:00:70:91:0a\"] ==1,'co':'temp'].var()"
      ],
      "execution_count": null,
      "outputs": [
        {
          "output_type": "execute_result",
          "data": {
            "text/plain": [
              "co          1.0\n",
              "humidity    1.0\n",
              "lpg         1.0\n",
              "smoke       1.0\n",
              "temp        1.0\n",
              "dtype: float64"
            ]
          },
          "metadata": {
            "tags": []
          },
          "execution_count": 21
        }
      ]
    },
    {
      "cell_type": "code",
      "metadata": {
        "id": "iG5UR3ecxSXQ",
        "outputId": "024dfff2-5e3b-406e-af85-1ec907c3e3c1",
        "colab": {
          "base_uri": "https://localhost:8080/"
        }
      },
      "source": [
        "one_hot_encoded_df.loc[one_hot_encoded_df[\"MAC:_1c:bf:ce:15:ec:4d\"] ==1,'co':'temp'].mean()"
      ],
      "execution_count": null,
      "outputs": [
        {
          "output_type": "execute_result",
          "data": {
            "text/plain": [
              "co          2.205642e-13\n",
              "humidity    3.637035e-14\n",
              "lpg        -4.556827e-13\n",
              "smoke      -8.206347e-13\n",
              "temp       -3.093863e-14\n",
              "dtype: float64"
            ]
          },
          "metadata": {
            "tags": []
          },
          "execution_count": 22
        }
      ]
    },
    {
      "cell_type": "code",
      "metadata": {
        "id": "dqGOzNcvxxEj",
        "outputId": "c67d4789-74ad-48f4-be45-6a68d86c942d",
        "colab": {
          "base_uri": "https://localhost:8080/"
        }
      },
      "source": [
        "one_hot_encoded_df.loc[one_hot_encoded_df[\"MAC:_1c:bf:ce:15:ec:4d\"] == 1,'co':'temp'].var()"
      ],
      "execution_count": null,
      "outputs": [
        {
          "output_type": "execute_result",
          "data": {
            "text/plain": [
              "co          1.0\n",
              "humidity    1.0\n",
              "lpg         1.0\n",
              "smoke       1.0\n",
              "temp        1.0\n",
              "dtype: float64"
            ]
          },
          "metadata": {
            "tags": []
          },
          "execution_count": 23
        }
      ]
    },
    {
      "cell_type": "code",
      "metadata": {
        "id": "4I3dmv_ZyByz",
        "outputId": "6e758bf3-85bd-43aa-fd4f-00a2e3e43113",
        "colab": {
          "base_uri": "https://localhost:8080/"
        }
      },
      "source": [
        "one_hot_encoded_df.loc[one_hot_encoded_df[\"MAC:_b8:27:eb:bf:9d:51\"] == 1,'co':'temp'].mean()"
      ],
      "execution_count": null,
      "outputs": [
        {
          "output_type": "execute_result",
          "data": {
            "text/plain": [
              "co         -1.153261e-12\n",
              "humidity    4.075466e-12\n",
              "lpg         3.997145e-12\n",
              "smoke       5.894984e-13\n",
              "temp       -2.763669e-12\n",
              "dtype: float64"
            ]
          },
          "metadata": {
            "tags": []
          },
          "execution_count": 24
        }
      ]
    },
    {
      "cell_type": "code",
      "metadata": {
        "id": "gnv4jRQIx7QP",
        "outputId": "4235aeef-18eb-4ee7-a81b-a2da8fdb4ff3",
        "colab": {
          "base_uri": "https://localhost:8080/"
        }
      },
      "source": [
        "one_hot_encoded_df.loc[one_hot_encoded_df[\"MAC:_b8:27:eb:bf:9d:51\"] == 1,'co':'temp'].var()"
      ],
      "execution_count": null,
      "outputs": [
        {
          "output_type": "execute_result",
          "data": {
            "text/plain": [
              "co          1.0\n",
              "humidity    1.0\n",
              "lpg         1.0\n",
              "smoke       1.0\n",
              "temp        1.0\n",
              "dtype: float64"
            ]
          },
          "metadata": {
            "tags": []
          },
          "execution_count": 25
        }
      ]
    },
    {
      "cell_type": "markdown",
      "metadata": {
        "id": "OUAcCAohtJsg"
      },
      "source": [
        "### (c)"
      ]
    },
    {
      "cell_type": "code",
      "metadata": {
        "id": "zwiOcJeIyLfR",
        "outputId": "d3cdbef4-b73b-4b18-cf40-1784f5280d14",
        "colab": {
          "base_uri": "https://localhost:8080/",
          "height": 689
        }
      },
      "source": [
        "one_hot_encoded_df.head(20)"
      ],
      "execution_count": null,
      "outputs": [
        {
          "output_type": "execute_result",
          "data": {
            "text/html": [
              "<div>\n",
              "<style scoped>\n",
              "    .dataframe tbody tr th:only-of-type {\n",
              "        vertical-align: middle;\n",
              "    }\n",
              "\n",
              "    .dataframe tbody tr th {\n",
              "        vertical-align: top;\n",
              "    }\n",
              "\n",
              "    .dataframe thead th {\n",
              "        text-align: right;\n",
              "    }\n",
              "</style>\n",
              "<table border=\"1\" class=\"dataframe\">\n",
              "  <thead>\n",
              "    <tr style=\"text-align: right;\">\n",
              "      <th></th>\n",
              "      <th>ts</th>\n",
              "      <th>co</th>\n",
              "      <th>humidity</th>\n",
              "      <th>lpg</th>\n",
              "      <th>smoke</th>\n",
              "      <th>temp</th>\n",
              "      <th>MAC:_00:0f:00:70:91:0a</th>\n",
              "      <th>MAC:_1c:bf:ce:15:ec:4d</th>\n",
              "      <th>MAC:_b8:27:eb:bf:9d:51</th>\n",
              "      <th>Light:_False</th>\n",
              "      <th>Light:_True</th>\n",
              "      <th>Motion:_False</th>\n",
              "      <th>Motion:_True</th>\n",
              "    </tr>\n",
              "  </thead>\n",
              "  <tbody>\n",
              "    <tr>\n",
              "      <th>0</th>\n",
              "      <td>1.594512e+09</td>\n",
              "      <td>-1.080793</td>\n",
              "      <td>0.098428</td>\n",
              "      <td>-1.093491</td>\n",
              "      <td>-1.091260</td>\n",
              "      <td>0.871610</td>\n",
              "      <td>0</td>\n",
              "      <td>0</td>\n",
              "      <td>1</td>\n",
              "      <td>1</td>\n",
              "      <td>0</td>\n",
              "      <td>1</td>\n",
              "      <td>0</td>\n",
              "    </tr>\n",
              "    <tr>\n",
              "      <th>1</th>\n",
              "      <td>1.594512e+09</td>\n",
              "      <td>-0.464451</td>\n",
              "      <td>0.281222</td>\n",
              "      <td>-0.458333</td>\n",
              "      <td>-0.460392</td>\n",
              "      <td>0.524162</td>\n",
              "      <td>1</td>\n",
              "      <td>0</td>\n",
              "      <td>0</td>\n",
              "      <td>1</td>\n",
              "      <td>0</td>\n",
              "      <td>1</td>\n",
              "      <td>0</td>\n",
              "    </tr>\n",
              "    <tr>\n",
              "      <th>2</th>\n",
              "      <td>1.594512e+09</td>\n",
              "      <td>-1.044864</td>\n",
              "      <td>0.045488</td>\n",
              "      <td>-1.056107</td>\n",
              "      <td>-1.054137</td>\n",
              "      <td>0.664099</td>\n",
              "      <td>0</td>\n",
              "      <td>0</td>\n",
              "      <td>1</td>\n",
              "      <td>1</td>\n",
              "      <td>0</td>\n",
              "      <td>1</td>\n",
              "      <td>0</td>\n",
              "    </tr>\n",
              "    <tr>\n",
              "      <th>3</th>\n",
              "      <td>1.594512e+09</td>\n",
              "      <td>0.687051</td>\n",
              "      <td>1.664629</td>\n",
              "      <td>0.696248</td>\n",
              "      <td>0.694633</td>\n",
              "      <td>0.480890</td>\n",
              "      <td>0</td>\n",
              "      <td>1</td>\n",
              "      <td>0</td>\n",
              "      <td>0</td>\n",
              "      <td>1</td>\n",
              "      <td>1</td>\n",
              "      <td>0</td>\n",
              "    </tr>\n",
              "    <tr>\n",
              "      <th>4</th>\n",
              "      <td>1.594512e+09</td>\n",
              "      <td>-1.060344</td>\n",
              "      <td>0.045488</td>\n",
              "      <td>-1.072209</td>\n",
              "      <td>-1.070127</td>\n",
              "      <td>0.664099</td>\n",
              "      <td>0</td>\n",
              "      <td>0</td>\n",
              "      <td>1</td>\n",
              "      <td>1</td>\n",
              "      <td>0</td>\n",
              "      <td>1</td>\n",
              "      <td>0</td>\n",
              "    </tr>\n",
              "    <tr>\n",
              "      <th>5</th>\n",
              "      <td>1.594512e+09</td>\n",
              "      <td>0.649527</td>\n",
              "      <td>1.787605</td>\n",
              "      <td>0.659043</td>\n",
              "      <td>0.657370</td>\n",
              "      <td>0.480890</td>\n",
              "      <td>0</td>\n",
              "      <td>1</td>\n",
              "      <td>0</td>\n",
              "      <td>0</td>\n",
              "      <td>1</td>\n",
              "      <td>1</td>\n",
              "      <td>0</td>\n",
              "    </tr>\n",
              "    <tr>\n",
              "      <th>6</th>\n",
              "      <td>1.594512e+09</td>\n",
              "      <td>-1.044841</td>\n",
              "      <td>0.045488</td>\n",
              "      <td>-1.056083</td>\n",
              "      <td>-1.054113</td>\n",
              "      <td>0.664099</td>\n",
              "      <td>0</td>\n",
              "      <td>0</td>\n",
              "      <td>1</td>\n",
              "      <td>1</td>\n",
              "      <td>0</td>\n",
              "      <td>1</td>\n",
              "      <td>0</td>\n",
              "    </tr>\n",
              "    <tr>\n",
              "      <th>7</th>\n",
              "      <td>1.594512e+09</td>\n",
              "      <td>-0.398156</td>\n",
              "      <td>0.281222</td>\n",
              "      <td>-0.383561</td>\n",
              "      <td>-0.387058</td>\n",
              "      <td>0.524162</td>\n",
              "      <td>1</td>\n",
              "      <td>0</td>\n",
              "      <td>0</td>\n",
              "      <td>1</td>\n",
              "      <td>0</td>\n",
              "      <td>1</td>\n",
              "      <td>0</td>\n",
              "    </tr>\n",
              "    <tr>\n",
              "      <th>8</th>\n",
              "      <td>1.594512e+09</td>\n",
              "      <td>0.507419</td>\n",
              "      <td>1.787605</td>\n",
              "      <td>0.517887</td>\n",
              "      <td>0.516039</td>\n",
              "      <td>0.480890</td>\n",
              "      <td>0</td>\n",
              "      <td>1</td>\n",
              "      <td>0</td>\n",
              "      <td>0</td>\n",
              "      <td>1</td>\n",
              "      <td>1</td>\n",
              "      <td>0</td>\n",
              "    </tr>\n",
              "    <tr>\n",
              "      <th>9</th>\n",
              "      <td>1.594512e+09</td>\n",
              "      <td>-1.055167</td>\n",
              "      <td>0.045488</td>\n",
              "      <td>-1.066824</td>\n",
              "      <td>-1.064779</td>\n",
              "      <td>0.664099</td>\n",
              "      <td>0</td>\n",
              "      <td>0</td>\n",
              "      <td>1</td>\n",
              "      <td>1</td>\n",
              "      <td>0</td>\n",
              "      <td>1</td>\n",
              "      <td>0</td>\n",
              "    </tr>\n",
              "    <tr>\n",
              "      <th>10</th>\n",
              "      <td>1.594512e+09</td>\n",
              "      <td>-1.073150</td>\n",
              "      <td>0.045488</td>\n",
              "      <td>-1.085536</td>\n",
              "      <td>-1.083360</td>\n",
              "      <td>0.664099</td>\n",
              "      <td>0</td>\n",
              "      <td>0</td>\n",
              "      <td>1</td>\n",
              "      <td>1</td>\n",
              "      <td>0</td>\n",
              "      <td>1</td>\n",
              "      <td>0</td>\n",
              "    </tr>\n",
              "    <tr>\n",
              "      <th>11</th>\n",
              "      <td>1.594512e+09</td>\n",
              "      <td>0.624684</td>\n",
              "      <td>1.798784</td>\n",
              "      <td>0.634395</td>\n",
              "      <td>0.632686</td>\n",
              "      <td>0.480890</td>\n",
              "      <td>0</td>\n",
              "      <td>1</td>\n",
              "      <td>0</td>\n",
              "      <td>0</td>\n",
              "      <td>1</td>\n",
              "      <td>1</td>\n",
              "      <td>0</td>\n",
              "    </tr>\n",
              "    <tr>\n",
              "      <th>12</th>\n",
              "      <td>1.594512e+09</td>\n",
              "      <td>-1.052681</td>\n",
              "      <td>0.045488</td>\n",
              "      <td>-1.064237</td>\n",
              "      <td>-1.062210</td>\n",
              "      <td>0.664099</td>\n",
              "      <td>0</td>\n",
              "      <td>0</td>\n",
              "      <td>1</td>\n",
              "      <td>1</td>\n",
              "      <td>0</td>\n",
              "      <td>1</td>\n",
              "      <td>0</td>\n",
              "    </tr>\n",
              "    <tr>\n",
              "      <th>13</th>\n",
              "      <td>1.594512e+09</td>\n",
              "      <td>0.838329</td>\n",
              "      <td>1.798784</td>\n",
              "      <td>0.845955</td>\n",
              "      <td>0.844626</td>\n",
              "      <td>0.480890</td>\n",
              "      <td>0</td>\n",
              "      <td>1</td>\n",
              "      <td>0</td>\n",
              "      <td>0</td>\n",
              "      <td>1</td>\n",
              "      <td>1</td>\n",
              "      <td>0</td>\n",
              "    </tr>\n",
              "    <tr>\n",
              "      <th>14</th>\n",
              "      <td>1.594512e+09</td>\n",
              "      <td>-1.065354</td>\n",
              "      <td>0.045488</td>\n",
              "      <td>-1.077422</td>\n",
              "      <td>-1.075303</td>\n",
              "      <td>0.664099</td>\n",
              "      <td>0</td>\n",
              "      <td>0</td>\n",
              "      <td>1</td>\n",
              "      <td>1</td>\n",
              "      <td>0</td>\n",
              "      <td>1</td>\n",
              "      <td>0</td>\n",
              "    </tr>\n",
              "    <tr>\n",
              "      <th>15</th>\n",
              "      <td>1.594512e+09</td>\n",
              "      <td>-0.420542</td>\n",
              "      <td>0.179999</td>\n",
              "      <td>-0.408731</td>\n",
              "      <td>-0.411758</td>\n",
              "      <td>0.524162</td>\n",
              "      <td>1</td>\n",
              "      <td>0</td>\n",
              "      <td>0</td>\n",
              "      <td>1</td>\n",
              "      <td>0</td>\n",
              "      <td>1</td>\n",
              "      <td>0</td>\n",
              "    </tr>\n",
              "    <tr>\n",
              "      <th>16</th>\n",
              "      <td>1.594512e+09</td>\n",
              "      <td>-1.044916</td>\n",
              "      <td>0.045488</td>\n",
              "      <td>-1.056161</td>\n",
              "      <td>-1.054190</td>\n",
              "      <td>0.664099</td>\n",
              "      <td>0</td>\n",
              "      <td>0</td>\n",
              "      <td>1</td>\n",
              "      <td>1</td>\n",
              "      <td>0</td>\n",
              "      <td>1</td>\n",
              "      <td>0</td>\n",
              "    </tr>\n",
              "    <tr>\n",
              "      <th>17</th>\n",
              "      <td>1.594512e+09</td>\n",
              "      <td>-1.073150</td>\n",
              "      <td>0.045488</td>\n",
              "      <td>-1.085536</td>\n",
              "      <td>-1.083360</td>\n",
              "      <td>0.664099</td>\n",
              "      <td>0</td>\n",
              "      <td>0</td>\n",
              "      <td>1</td>\n",
              "      <td>1</td>\n",
              "      <td>0</td>\n",
              "      <td>1</td>\n",
              "      <td>0</td>\n",
              "    </tr>\n",
              "    <tr>\n",
              "      <th>18</th>\n",
              "      <td>1.594512e+09</td>\n",
              "      <td>0.800331</td>\n",
              "      <td>1.787605</td>\n",
              "      <td>0.808395</td>\n",
              "      <td>0.806986</td>\n",
              "      <td>0.480890</td>\n",
              "      <td>0</td>\n",
              "      <td>1</td>\n",
              "      <td>0</td>\n",
              "      <td>0</td>\n",
              "      <td>1</td>\n",
              "      <td>1</td>\n",
              "      <td>0</td>\n",
              "    </tr>\n",
              "    <tr>\n",
              "      <th>19</th>\n",
              "      <td>1.594512e+09</td>\n",
              "      <td>-1.080470</td>\n",
              "      <td>0.045488</td>\n",
              "      <td>-1.093155</td>\n",
              "      <td>-1.090925</td>\n",
              "      <td>0.664099</td>\n",
              "      <td>0</td>\n",
              "      <td>0</td>\n",
              "      <td>1</td>\n",
              "      <td>1</td>\n",
              "      <td>0</td>\n",
              "      <td>1</td>\n",
              "      <td>0</td>\n",
              "    </tr>\n",
              "  </tbody>\n",
              "</table>\n",
              "</div>"
            ],
            "text/plain": [
              "              ts        co  humidity  ...  Light:_True  Motion:_False  Motion:_True\n",
              "0   1.594512e+09 -1.080793  0.098428  ...            0              1             0\n",
              "1   1.594512e+09 -0.464451  0.281222  ...            0              1             0\n",
              "2   1.594512e+09 -1.044864  0.045488  ...            0              1             0\n",
              "3   1.594512e+09  0.687051  1.664629  ...            1              1             0\n",
              "4   1.594512e+09 -1.060344  0.045488  ...            0              1             0\n",
              "5   1.594512e+09  0.649527  1.787605  ...            1              1             0\n",
              "6   1.594512e+09 -1.044841  0.045488  ...            0              1             0\n",
              "7   1.594512e+09 -0.398156  0.281222  ...            0              1             0\n",
              "8   1.594512e+09  0.507419  1.787605  ...            1              1             0\n",
              "9   1.594512e+09 -1.055167  0.045488  ...            0              1             0\n",
              "10  1.594512e+09 -1.073150  0.045488  ...            0              1             0\n",
              "11  1.594512e+09  0.624684  1.798784  ...            1              1             0\n",
              "12  1.594512e+09 -1.052681  0.045488  ...            0              1             0\n",
              "13  1.594512e+09  0.838329  1.798784  ...            1              1             0\n",
              "14  1.594512e+09 -1.065354  0.045488  ...            0              1             0\n",
              "15  1.594512e+09 -0.420542  0.179999  ...            0              1             0\n",
              "16  1.594512e+09 -1.044916  0.045488  ...            0              1             0\n",
              "17  1.594512e+09 -1.073150  0.045488  ...            0              1             0\n",
              "18  1.594512e+09  0.800331  1.787605  ...            1              1             0\n",
              "19  1.594512e+09 -1.080470  0.045488  ...            0              1             0\n",
              "\n",
              "[20 rows x 13 columns]"
            ]
          },
          "metadata": {
            "tags": []
          },
          "execution_count": 26
        }
      ]
    },
    {
      "cell_type": "markdown",
      "metadata": {
        "id": "O80-lPHotJsj"
      },
      "source": [
        "### (d)"
      ]
    },
    {
      "cell_type": "markdown",
      "metadata": {
        "id": "yqhzlhk3b26S"
      },
      "source": [
        "ts variable in the dataset represents the the time series data has not been touched during pre processing because it is not used to calculate the final outcome which is to determine if a person is near the IOT device."
      ]
    },
    {
      "cell_type": "markdown",
      "metadata": {
        "id": "5m0TB2yTtJsj"
      },
      "source": [
        "_Your answer for 1.2d goes here_"
      ]
    },
    {
      "cell_type": "markdown",
      "metadata": {
        "id": "0CL6Ig7RtJsj"
      },
      "source": [
        "### (e)"
      ]
    },
    {
      "cell_type": "markdown",
      "metadata": {
        "id": "gLVATKR132jL"
      },
      "source": [
        "## Note - Run this section before 1.2b and after 1.2a"
      ]
    },
    {
      "cell_type": "markdown",
      "metadata": {
        "id": "PwLPH_xC1rtW"
      },
      "source": [
        "motion_df = dataset after one hot encoding but before standardization\n"
      ]
    },
    {
      "cell_type": "code",
      "metadata": {
        "id": "VYbVwrGdtJsk"
      },
      "source": [
        "device1 = motion_df['MAC:_00:0f:00:70:91:0a'] == 1\n",
        "device2 = motion_df['MAC:_1c:bf:ce:15:ec:4d'] == 1\n",
        "device3 = motion_df['MAC:_b8:27:eb:bf:9d:51'] == 1"
      ],
      "execution_count": 14,
      "outputs": []
    },
    {
      "cell_type": "code",
      "metadata": {
        "id": "njnxEvOCgj8w"
      },
      "source": [
        "mean_co = [motion_df.loc[device1,'co'].mean(),motion_df.loc[device2,'co'].mean(),motion_df.loc[device2,'co'].mean()]\n",
        "mean_humidity = [motion_df.loc[device1,'humidity'].mean(),motion_df.loc[device2,'humidity'].mean(),motion_df.loc[device3,'humidity'].mean()]\n",
        "mean_lpg = [motion_df.loc[device1,'lpg'].mean(),motion_df.loc[device2,'lpg'].mean(),motion_df.loc[device3,'lpg'].mean()]\n",
        "mean_smoke = [motion_df.loc[device1,'smoke'].mean(),motion_df.loc[device2,'smoke'].mean(),motion_df.loc[device3,'smoke'].mean()]\n",
        "mean_temp = [motion_df.loc[device1,'temp'].mean(),motion_df.loc[device2,'temp'].mean(),motion_df.loc[device3,'temp'].mean()]"
      ],
      "execution_count": 15,
      "outputs": []
    },
    {
      "cell_type": "code",
      "metadata": {
        "id": "0HP_8_friJ5C",
        "outputId": "3fdba61b-99a0-4676-cdf3-6b4794f1d186",
        "colab": {
          "base_uri": "https://localhost:8080/",
          "height": 320
        }
      },
      "source": [
        "index = ['device1','device2','device3']\n",
        "df = pd.DataFrame({'mean_co': mean_co,'mean_humidity': mean_humidity, 'mean_lpg': mean_lpg, 'mean_smoke': mean_smoke, 'mean_temp':mean_temp}, index = index)\n",
        "ax = df.plot.bar(rot=0,figsize=(20,5))\n"
      ],
      "execution_count": 16,
      "outputs": [
        {
          "output_type": "display_data",
          "data": {
            "image/png": "[encoded data removed]",
            "text/plain": [
              "<Figure size 1440x360 with 1 Axes>"
            ]
          },
          "metadata": {
            "tags": [],
            "needs_background": "light"
          }
        }
      ]
    },
    {
      "cell_type": "code",
      "metadata": {
        "id": "IN8b4RsHvMKL"
      },
      "source": [
        "var_co = [motion_df.loc[device1,'co'].var(),motion_df.loc[device2,'co'].var(),motion_df.loc[device3,'co'].var()]\n",
        "var_humidity = [motion_df.loc[device1,'humidity'].var(),motion_df.loc[device2,'humidity'].var(),motion_df.loc[device3,'humidity'].var()]\n",
        "var_lpg = [motion_df.loc[device1,'lpg'].var(),motion_df.loc[device2,'lpg'].var(),motion_df.loc[device3,'lpg'].var()]\n",
        "var_smoke = [motion_df.loc[device1,'smoke'].var(),motion_df.loc[device2,'smoke'].var(),motion_df.loc[device3,'smoke'].var()]\n",
        "var_temp = [motion_df.loc[device1,'temp'].var(),motion_df.loc[device2,'temp'].var(),motion_df.loc[device3,'temp'].var()]"
      ],
      "execution_count": 17,
      "outputs": []
    },
    {
      "cell_type": "code",
      "metadata": {
        "id": "POPfAHybvdF1",
        "outputId": "5fdc4870-5152-431d-c405-15e533bea43a",
        "colab": {
          "base_uri": "https://localhost:8080/",
          "height": 320
        }
      },
      "source": [
        "index2 = ['device1','device2','device3']\n",
        "df2 = pd.DataFrame({'var_co': var_co,'var_humidity': var_humidity, 'var_lpg': var_lpg, 'var_smoke': var_smoke, 'var_temp':var_temp}, index = index)\n",
        "ax2 = df2.plot.bar(rot=0,figsize=(20,5))"
      ],
      "execution_count": 18,
      "outputs": [
        {
          "output_type": "display_data",
          "data": {
            "image/png": "[encoded data removed]",
            "text/plain": [
              "<Figure size 1440x360 with 1 Axes>"
            ]
          },
          "metadata": {
            "tags": [],
            "needs_background": "light"
          }
        }
      ]
    },
    {
      "cell_type": "code",
      "metadata": {
        "id": "aPOJE_skpnpP"
      },
      "source": [
        "**Variance of the five independent variables**"
      ],
      "execution_count": null,
      "outputs": []
    },
    {
      "cell_type": "markdown",
      "metadata": {
        "id": "dIzU8wB_tJsn"
      },
      "source": [
        "## Problem 1.3"
      ]
    },
    {
      "cell_type": "code",
      "metadata": {
        "id": "hs5qEe8XtJsn"
      },
      "source": [
        "# Code of 1.3 goes here\n",
        "import scipy.stats as stats\n",
        "from scipy.stats import kurtosis\n",
        "from scipy.stats import skew"
      ],
      "execution_count": null,
      "outputs": []
    },
    {
      "cell_type": "code",
      "metadata": {
        "id": "khgP46WE4cCA"
      },
      "source": [
        "df_new = pd.DataFrame()\n",
        "df_new[\"mean\"] = one_hot_encoded_df[[\"co\",\"humidity\", \"lpg\", \"smoke\", \"temp\"]].mean(axis=1)\n",
        "df_new[\"variance\"] = one_hot_encoded_df[[\"co\",\"humidity\", \"lpg\", \"smoke\", \"temp\"]].var(axis=1)\n",
        "df_new[\"kurtosis\"] = one_hot_encoded_df[[\"co\",\"humidity\", \"lpg\", \"smoke\", \"temp\"]].kurtosis(axis=1)\n",
        "df_new[\"skewness\"] = one_hot_encoded_df[[\"co\",\"humidity\", \"lpg\", \"smoke\", \"temp\"]].skew(axis=1)\n"
      ],
      "execution_count": null,
      "outputs": []
    },
    {
      "cell_type": "code",
      "metadata": {
        "id": "ZHoAWi1a5DFf",
        "outputId": "b9942eed-67ee-4593-f638-8ae110ab209e",
        "colab": {
          "base_uri": "https://localhost:8080/",
          "height": 221
        }
      },
      "source": [
        "display(one_hot_encoded_df.mean(axis=1))\n"
      ],
      "execution_count": null,
      "outputs": [
        {
          "output_type": "display_data",
          "data": {
            "text/plain": [
              "0         1.226548e+08\n",
              "1         1.226548e+08\n",
              "2         1.226548e+08\n",
              "3         1.226548e+08\n",
              "4         1.226548e+08\n",
              "              ...     \n",
              "405179    1.227080e+08\n",
              "405180    1.227080e+08\n",
              "405181    1.227080e+08\n",
              "405182    1.227080e+08\n",
              "405183    1.227080e+08\n",
              "Length: 405184, dtype: float64"
            ]
          },
          "metadata": {
            "tags": []
          }
        }
      ]
    },
    {
      "cell_type": "code",
      "metadata": {
        "id": "9oeD8-nu5EVe",
        "outputId": "087f8fa2-ed13-4bf5-8519-1694974d53ad",
        "colab": {
          "base_uri": "https://localhost:8080/",
          "height": 1000
        }
      },
      "source": [
        "df_new.head(40)"
      ],
      "execution_count": null,
      "outputs": [
        {
          "output_type": "execute_result",
          "data": {
            "text/html": [
              "<div>\n",
              "<style scoped>\n",
              "    .dataframe tbody tr th:only-of-type {\n",
              "        vertical-align: middle;\n",
              "    }\n",
              "\n",
              "    .dataframe tbody tr th {\n",
              "        vertical-align: top;\n",
              "    }\n",
              "\n",
              "    .dataframe thead th {\n",
              "        text-align: right;\n",
              "    }\n",
              "</style>\n",
              "<table border=\"1\" class=\"dataframe\">\n",
              "  <thead>\n",
              "    <tr style=\"text-align: right;\">\n",
              "      <th></th>\n",
              "      <th>mean</th>\n",
              "      <th>variance</th>\n",
              "      <th>kurtosis</th>\n",
              "      <th>skewness</th>\n",
              "    </tr>\n",
              "  </thead>\n",
              "  <tbody>\n",
              "    <tr>\n",
              "      <th>0</th>\n",
              "      <td>-0.459101</td>\n",
              "      <td>0.817552</td>\n",
              "      <td>-1.074083</td>\n",
              "      <td>1.004154</td>\n",
              "    </tr>\n",
              "    <tr>\n",
              "      <th>1</th>\n",
              "      <td>-0.115558</td>\n",
              "      <td>0.231202</td>\n",
              "      <td>-2.504032</td>\n",
              "      <td>0.751552</td>\n",
              "    </tr>\n",
              "    <tr>\n",
              "      <th>2</th>\n",
              "      <td>-0.489104</td>\n",
              "      <td>0.641322</td>\n",
              "      <td>-1.462908</td>\n",
              "      <td>0.934652</td>\n",
              "    </tr>\n",
              "    <tr>\n",
              "      <th>3</th>\n",
              "      <td>0.844690</td>\n",
              "      <td>0.218513</td>\n",
              "      <td>4.333335</td>\n",
              "      <td>2.009110</td>\n",
              "    </tr>\n",
              "    <tr>\n",
              "      <th>4</th>\n",
              "      <td>-0.498619</td>\n",
              "      <td>0.654782</td>\n",
              "      <td>-1.498953</td>\n",
              "      <td>0.928228</td>\n",
              "    </tr>\n",
              "    <tr>\n",
              "      <th>5</th>\n",
              "      <td>0.846887</td>\n",
              "      <td>0.282264</td>\n",
              "      <td>4.631814</td>\n",
              "      <td>2.118134</td>\n",
              "    </tr>\n",
              "    <tr>\n",
              "      <th>6</th>\n",
              "      <td>-0.489090</td>\n",
              "      <td>0.641303</td>\n",
              "      <td>-1.462854</td>\n",
              "      <td>0.934662</td>\n",
              "    </tr>\n",
              "    <tr>\n",
              "      <th>7</th>\n",
              "      <td>-0.072678</td>\n",
              "      <td>0.195721</td>\n",
              "      <td>-2.357709</td>\n",
              "      <td>0.776345</td>\n",
              "    </tr>\n",
              "    <tr>\n",
              "      <th>8</th>\n",
              "      <td>0.761968</td>\n",
              "      <td>0.328947</td>\n",
              "      <td>4.986868</td>\n",
              "      <td>2.232330</td>\n",
              "    </tr>\n",
              "    <tr>\n",
              "      <th>9</th>\n",
              "      <td>-0.495437</td>\n",
              "      <td>0.650264</td>\n",
              "      <td>-1.487009</td>\n",
              "      <td>0.930356</td>\n",
              "    </tr>\n",
              "    <tr>\n",
              "      <th>10</th>\n",
              "      <td>-0.506492</td>\n",
              "      <td>0.666034</td>\n",
              "      <td>-1.528041</td>\n",
              "      <td>0.923047</td>\n",
              "    </tr>\n",
              "    <tr>\n",
              "      <th>11</th>\n",
              "      <td>0.834288</td>\n",
              "      <td>0.294919</td>\n",
              "      <td>4.735304</td>\n",
              "      <td>2.153312</td>\n",
              "    </tr>\n",
              "    <tr>\n",
              "      <th>12</th>\n",
              "      <td>-0.493908</td>\n",
              "      <td>0.648100</td>\n",
              "      <td>-1.481233</td>\n",
              "      <td>0.931386</td>\n",
              "    </tr>\n",
              "    <tr>\n",
              "      <th>13</th>\n",
              "      <td>0.961717</td>\n",
              "      <td>0.243553</td>\n",
              "      <td>3.484809</td>\n",
              "      <td>1.630386</td>\n",
              "    </tr>\n",
              "    <tr>\n",
              "      <th>14</th>\n",
              "      <td>-0.501698</td>\n",
              "      <td>0.659171</td>\n",
              "      <td>-1.510411</td>\n",
              "      <td>0.926187</td>\n",
              "    </tr>\n",
              "    <tr>\n",
              "      <th>15</th>\n",
              "      <td>-0.107374</td>\n",
              "      <td>0.190740</td>\n",
              "      <td>-1.391565</td>\n",
              "      <td>0.946988</td>\n",
              "    </tr>\n",
              "    <tr>\n",
              "      <th>16</th>\n",
              "      <td>-0.489136</td>\n",
              "      <td>0.641367</td>\n",
              "      <td>-1.463030</td>\n",
              "      <td>0.934631</td>\n",
              "    </tr>\n",
              "    <tr>\n",
              "      <th>17</th>\n",
              "      <td>-0.506492</td>\n",
              "      <td>0.666034</td>\n",
              "      <td>-1.528041</td>\n",
              "      <td>0.923047</td>\n",
              "    </tr>\n",
              "    <tr>\n",
              "      <th>18</th>\n",
              "      <td>0.936841</td>\n",
              "      <td>0.245922</td>\n",
              "      <td>3.740070</td>\n",
              "      <td>1.756611</td>\n",
              "    </tr>\n",
              "    <tr>\n",
              "      <th>19</th>\n",
              "      <td>-0.510993</td>\n",
              "      <td>0.672513</td>\n",
              "      <td>-1.544377</td>\n",
              "      <td>0.920138</td>\n",
              "    </tr>\n",
              "    <tr>\n",
              "      <th>20</th>\n",
              "      <td>-0.092923</td>\n",
              "      <td>0.179858</td>\n",
              "      <td>-1.282164</td>\n",
              "      <td>0.966186</td>\n",
              "    </tr>\n",
              "    <tr>\n",
              "      <th>21</th>\n",
              "      <td>0.846887</td>\n",
              "      <td>0.282264</td>\n",
              "      <td>4.631814</td>\n",
              "      <td>2.118134</td>\n",
              "    </tr>\n",
              "    <tr>\n",
              "      <th>22</th>\n",
              "      <td>-0.526412</td>\n",
              "      <td>0.665207</td>\n",
              "      <td>-1.226579</td>\n",
              "      <td>0.976778</td>\n",
              "    </tr>\n",
              "    <tr>\n",
              "      <th>23</th>\n",
              "      <td>-0.115558</td>\n",
              "      <td>0.231202</td>\n",
              "      <td>-2.504032</td>\n",
              "      <td>0.751552</td>\n",
              "    </tr>\n",
              "    <tr>\n",
              "      <th>24</th>\n",
              "      <td>-0.504908</td>\n",
              "      <td>0.663763</td>\n",
              "      <td>-1.522245</td>\n",
              "      <td>0.924079</td>\n",
              "    </tr>\n",
              "    <tr>\n",
              "      <th>25</th>\n",
              "      <td>-0.084493</td>\n",
              "      <td>0.285711</td>\n",
              "      <td>-1.585445</td>\n",
              "      <td>0.912937</td>\n",
              "    </tr>\n",
              "    <tr>\n",
              "      <th>26</th>\n",
              "      <td>0.828355</td>\n",
              "      <td>0.291427</td>\n",
              "      <td>4.752827</td>\n",
              "      <td>2.159132</td>\n",
              "    </tr>\n",
              "    <tr>\n",
              "      <th>27</th>\n",
              "      <td>-0.543931</td>\n",
              "      <td>0.720954</td>\n",
              "      <td>-1.657762</td>\n",
              "      <td>0.899974</td>\n",
              "    </tr>\n",
              "    <tr>\n",
              "      <th>28</th>\n",
              "      <td>0.767246</td>\n",
              "      <td>0.354647</td>\n",
              "      <td>4.991598</td>\n",
              "      <td>2.233689</td>\n",
              "    </tr>\n",
              "    <tr>\n",
              "      <th>29</th>\n",
              "      <td>-0.526812</td>\n",
              "      <td>0.695553</td>\n",
              "      <td>-1.600154</td>\n",
              "      <td>0.910214</td>\n",
              "    </tr>\n",
              "    <tr>\n",
              "      <th>30</th>\n",
              "      <td>-0.097252</td>\n",
              "      <td>0.198525</td>\n",
              "      <td>-1.948838</td>\n",
              "      <td>0.848300</td>\n",
              "    </tr>\n",
              "    <tr>\n",
              "      <th>31</th>\n",
              "      <td>-0.506492</td>\n",
              "      <td>0.666034</td>\n",
              "      <td>-1.528041</td>\n",
              "      <td>0.923047</td>\n",
              "    </tr>\n",
              "    <tr>\n",
              "      <th>32</th>\n",
              "      <td>0.862539</td>\n",
              "      <td>0.320298</td>\n",
              "      <td>4.673184</td>\n",
              "      <td>2.132351</td>\n",
              "    </tr>\n",
              "    <tr>\n",
              "      <th>33</th>\n",
              "      <td>-0.084493</td>\n",
              "      <td>0.285711</td>\n",
              "      <td>-1.585445</td>\n",
              "      <td>0.912937</td>\n",
              "    </tr>\n",
              "    <tr>\n",
              "      <th>34</th>\n",
              "      <td>-0.557809</td>\n",
              "      <td>0.741908</td>\n",
              "      <td>-1.702481</td>\n",
              "      <td>0.892032</td>\n",
              "    </tr>\n",
              "    <tr>\n",
              "      <th>35</th>\n",
              "      <td>-0.449222</td>\n",
              "      <td>0.772034</td>\n",
              "      <td>-0.647108</td>\n",
              "      <td>1.081254</td>\n",
              "    </tr>\n",
              "    <tr>\n",
              "      <th>36</th>\n",
              "      <td>0.855831</td>\n",
              "      <td>0.303698</td>\n",
              "      <td>4.656340</td>\n",
              "      <td>2.126588</td>\n",
              "    </tr>\n",
              "    <tr>\n",
              "      <th>37</th>\n",
              "      <td>-0.070356</td>\n",
              "      <td>0.272575</td>\n",
              "      <td>-1.506326</td>\n",
              "      <td>0.926871</td>\n",
              "    </tr>\n",
              "    <tr>\n",
              "      <th>38</th>\n",
              "      <td>-0.453903</td>\n",
              "      <td>0.779136</td>\n",
              "      <td>-0.669236</td>\n",
              "      <td>1.077234</td>\n",
              "    </tr>\n",
              "    <tr>\n",
              "      <th>39</th>\n",
              "      <td>0.853595</td>\n",
              "      <td>0.298264</td>\n",
              "      <td>4.650439</td>\n",
              "      <td>2.124561</td>\n",
              "    </tr>\n",
              "  </tbody>\n",
              "</table>\n",
              "</div>"
            ],
            "text/plain": [
              "        mean  variance  kurtosis  skewness\n",
              "0  -0.459101  0.817552 -1.074083  1.004154\n",
              "1  -0.115558  0.231202 -2.504032  0.751552\n",
              "2  -0.489104  0.641322 -1.462908  0.934652\n",
              "3   0.844690  0.218513  4.333335  2.009110\n",
              "4  -0.498619  0.654782 -1.498953  0.928228\n",
              "5   0.846887  0.282264  4.631814  2.118134\n",
              "6  -0.489090  0.641303 -1.462854  0.934662\n",
              "7  -0.072678  0.195721 -2.357709  0.776345\n",
              "8   0.761968  0.328947  4.986868  2.232330\n",
              "9  -0.495437  0.650264 -1.487009  0.930356\n",
              "10 -0.506492  0.666034 -1.528041  0.923047\n",
              "11  0.834288  0.294919  4.735304  2.153312\n",
              "12 -0.493908  0.648100 -1.481233  0.931386\n",
              "13  0.961717  0.243553  3.484809  1.630386\n",
              "14 -0.501698  0.659171 -1.510411  0.926187\n",
              "15 -0.107374  0.190740 -1.391565  0.946988\n",
              "16 -0.489136  0.641367 -1.463030  0.934631\n",
              "17 -0.506492  0.666034 -1.528041  0.923047\n",
              "18  0.936841  0.245922  3.740070  1.756611\n",
              "19 -0.510993  0.672513 -1.544377  0.920138\n",
              "20 -0.092923  0.179858 -1.282164  0.966186\n",
              "21  0.846887  0.282264  4.631814  2.118134\n",
              "22 -0.526412  0.665207 -1.226579  0.976778\n",
              "23 -0.115558  0.231202 -2.504032  0.751552\n",
              "24 -0.504908  0.663763 -1.522245  0.924079\n",
              "25 -0.084493  0.285711 -1.585445  0.912937\n",
              "26  0.828355  0.291427  4.752827  2.159132\n",
              "27 -0.543931  0.720954 -1.657762  0.899974\n",
              "28  0.767246  0.354647  4.991598  2.233689\n",
              "29 -0.526812  0.695553 -1.600154  0.910214\n",
              "30 -0.097252  0.198525 -1.948838  0.848300\n",
              "31 -0.506492  0.666034 -1.528041  0.923047\n",
              "32  0.862539  0.320298  4.673184  2.132351\n",
              "33 -0.084493  0.285711 -1.585445  0.912937\n",
              "34 -0.557809  0.741908 -1.702481  0.892032\n",
              "35 -0.449222  0.772034 -0.647108  1.081254\n",
              "36  0.855831  0.303698  4.656340  2.126588\n",
              "37 -0.070356  0.272575 -1.506326  0.926871\n",
              "38 -0.453903  0.779136 -0.669236  1.077234\n",
              "39  0.853595  0.298264  4.650439  2.124561"
            ]
          },
          "metadata": {
            "tags": []
          },
          "execution_count": 38
        }
      ]
    },
    {
      "cell_type": "markdown",
      "metadata": {
        "id": "p65ty6DotJsq"
      },
      "source": [
        "# 2. Feature Learning for _Synthetically Generated Data_"
      ]
    },
    {
      "cell_type": "markdown",
      "metadata": {
        "id": "NtMLOWzvtJsq"
      },
      "source": [
        "## Problem 2.1"
      ]
    },
    {
      "cell_type": "markdown",
      "metadata": {
        "id": "Ox-Q7c49tJsq"
      },
      "source": [
        "### (a)"
      ]
    },
    {
      "cell_type": "code",
      "metadata": {
        "id": "hRIGvhZQHcGg",
        "outputId": "e3e379f8-5000-4900-bbb2-cf96ce62159c",
        "colab": {
          "base_uri": "https://localhost:8080/",
          "height": 68
        }
      },
      "source": [
        "A = np.random.randn(3,2)\n",
        "print(A)"
      ],
      "execution_count": 20,
      "outputs": [
        {
          "output_type": "stream",
          "text": [
            "[[ 1.32387043 -0.59228478]\n",
            " [ 1.16812962 -0.33578035]\n",
            " [-0.05898733  0.07227559]]\n"
          ],
          "name": "stdout"
        }
      ]
    },
    {
      "cell_type": "markdown",
      "metadata": {
        "id": "9cpckl7-tJst"
      },
      "source": [
        "### (b)"
      ]
    },
    {
      "cell_type": "markdown",
      "metadata": {
        "id": "poRCQq_F6VXS"
      },
      "source": [
        "Rank of the random generated matrix\n"
      ]
    },
    {
      "cell_type": "code",
      "metadata": {
        "id": "r2qp0bpptJst",
        "outputId": "a96c8069-2435-4621-af59-26e9fc8a5087",
        "colab": {
          "base_uri": "https://localhost:8080/",
          "height": 34
        }
      },
      "source": [
        "np.linalg.matrix_rank(A, tol=None)"
      ],
      "execution_count": 21,
      "outputs": [
        {
          "output_type": "execute_result",
          "data": {
            "text/plain": [
              "2"
            ]
          },
          "metadata": {
            "tags": []
          },
          "execution_count": 21
        }
      ]
    },
    {
      "cell_type": "markdown",
      "metadata": {
        "id": "EMT47A4UtJsv"
      },
      "source": [
        "### (c)"
      ]
    },
    {
      "cell_type": "code",
      "metadata": {
        "id": "alXEuuz-tJsw",
        "outputId": "75186f3e-4af1-48b7-b4c8-ef990304d273",
        "colab": {
          "base_uri": "https://localhost:8080/",
          "height": 34
        }
      },
      "source": [
        "print(np.linalg.norm(A[0]))"
      ],
      "execution_count": 22,
      "outputs": [
        {
          "output_type": "stream",
          "text": [
            "1.4503220923348128\n"
          ],
          "name": "stdout"
        }
      ]
    },
    {
      "cell_type": "code",
      "metadata": {
        "id": "KaoioHB4UDtR",
        "outputId": "be8785c4-a086-4abb-e0f6-13dbc3a680ec",
        "colab": {
          "base_uri": "https://localhost:8080/",
          "height": 34
        }
      },
      "source": [
        "print(np.linalg.norm(A[1]));"
      ],
      "execution_count": 23,
      "outputs": [
        {
          "output_type": "stream",
          "text": [
            "1.2154321270785307\n"
          ],
          "name": "stdout"
        }
      ]
    },
    {
      "cell_type": "code",
      "metadata": {
        "id": "s0wkkTF_UM63",
        "outputId": "84da7e9d-837c-45e5-dc70-2315d6536ae3",
        "colab": {
          "base_uri": "https://localhost:8080/",
          "height": 34
        }
      },
      "source": [
        "print(np.linalg.norm(A[2]))"
      ],
      "execution_count": 24,
      "outputs": [
        {
          "output_type": "stream",
          "text": [
            "0.09329128966698329\n"
          ],
          "name": "stdout"
        }
      ]
    },
    {
      "cell_type": "code",
      "metadata": {
        "id": "HgUHn4STU_52",
        "outputId": "9d6f88f8-da2e-40ae-bad3-7639e3f2384d",
        "colab": {
          "base_uri": "https://localhost:8080/",
          "height": 68
        }
      },
      "source": [
        "a = A[0]; print(a)\n",
        "b = A[1]; print(b)\n",
        "c = A[2]; print(c)"
      ],
      "execution_count": 25,
      "outputs": [
        {
          "output_type": "stream",
          "text": [
            "[ 1.32387043 -0.59228478]\n",
            "[ 1.16812962 -0.33578035]\n",
            "[-0.05898733  0.07227559]\n"
          ],
          "name": "stdout"
        }
      ]
    },
    {
      "cell_type": "code",
      "metadata": {
        "id": "F7j5opKpX7se",
        "outputId": "493bb3ae-a8f7-4201-8b2c-346336af3cdd",
        "colab": {
          "base_uri": "https://localhost:8080/",
          "height": 68
        }
      },
      "source": [
        "print(np.inner(a,b));\n",
        "print(np.inner(a,c));\n",
        "print(np.inner(b,c));"
      ],
      "execution_count": 26,
      "outputs": [
        {
          "output_type": "stream",
          "text": [
            "1.7453298530424948\n",
            "-0.12089930434358692\n",
            "-0.0931735630412914\n"
          ],
          "name": "stdout"
        }
      ]
    },
    {
      "cell_type": "markdown",
      "metadata": {
        "id": "qwWYl9m0tJsy"
      },
      "source": [
        "### (d)"
      ]
    },
    {
      "cell_type": "markdown",
      "metadata": {
        "id": "alfEwygo5zt1"
      },
      "source": [
        "3 unique vectors will only belong the column space of A if they belong to the linear combination of the 3 basis vectors."
      ]
    },
    {
      "cell_type": "markdown",
      "metadata": {
        "id": "Ig0rVogudTjl"
      },
      "source": [
        "Show if this belongs to the subspace corresponding to the column space of A\n"
      ]
    },
    {
      "cell_type": "code",
      "metadata": {
        "id": "yvW8xbhttJsy",
        "outputId": "153079cb-b3b2-488d-a4d2-27562050bf21",
        "colab": {
          "base_uri": "https://localhost:8080/",
          "height": 68
        }
      },
      "source": [
        "x1 = np.random.random(3);\n",
        "x2 = np.random.random(3);\n",
        "x3 = np.random.random(3);\n",
        "print(x1);\n",
        "print(x2);\n",
        "print(x3);"
      ],
      "execution_count": 56,
      "outputs": [
        {
          "output_type": "stream",
          "text": [
            "[0.44379346 0.22244274 0.8541842 ]\n",
            "[0.90295137 0.06220059 0.35656487]\n",
            "[0.39008161 0.85804495 0.82439888]\n"
          ],
          "name": "stdout"
        }
      ]
    },
    {
      "cell_type": "code",
      "metadata": {
        "id": "n_FhaKMo0FKZ",
        "outputId": "2b0e75cd-4ed9-41d8-81f0-0a1db0eca48a",
        "colab": {
          "base_uri": "https://localhost:8080/",
          "height": 34
        }
      },
      "source": [
        "np.linalg.matrix_rank(A, tol=None)"
      ],
      "execution_count": 57,
      "outputs": [
        {
          "output_type": "execute_result",
          "data": {
            "text/plain": [
              "2"
            ]
          },
          "metadata": {
            "tags": []
          },
          "execution_count": 57
        }
      ]
    },
    {
      "cell_type": "code",
      "metadata": {
        "id": "Btzz233111Yt",
        "outputId": "7350a64a-5223-40b7-fbd4-81d7c5682136",
        "colab": {
          "base_uri": "https://localhost:8080/",
          "height": 34
        }
      },
      "source": [
        "np.linalg.matrix_rank(x1, tol=None)"
      ],
      "execution_count": 60,
      "outputs": [
        {
          "output_type": "execute_result",
          "data": {
            "text/plain": [
              "1"
            ]
          },
          "metadata": {
            "tags": []
          },
          "execution_count": 60
        }
      ]
    },
    {
      "cell_type": "markdown",
      "metadata": {
        "id": "KBQdAx6kmPMj"
      },
      "source": [
        "\n",
        " We see that the vectors x1, x2 and x3 are closed under addition and \n",
        "scalar multiplication hence they belong to the same subspace S."
      ]
    },
    {
      "cell_type": "markdown",
      "metadata": {
        "id": "KwTwfgu8zj3P"
      },
      "source": [
        "If the sets of vectors are the columns of 𝐴 and 𝐵 resp., check that the new matrix 𝐶=[𝐴,𝐵] is such that\n",
        "\n",
        "𝑟𝑎𝑛𝑘(𝐴)=𝑟𝑎𝑛𝑘(𝐵)=𝑟𝑎𝑛𝑘(𝐶)\n",
        "Proof: Let 𝑅(𝑀) denote the column space of a matrix 𝑀.\n",
        "\n",
        "Equality 𝑟𝑎𝑛𝑘(𝐴)=𝑟𝑎𝑛𝑘(𝐶) implies 𝑅(𝐴)=𝑅(𝐶) Equality 𝑟𝑎𝑛𝑘(𝐵)=𝑟𝑎𝑛𝑘(𝐶), implies 𝑅(𝐵)=𝑅(𝐶). Thus 𝑅(𝐴)=𝑅(𝐵). Therefore 𝑟𝑎𝑛𝑘(𝐴)=𝑟𝑎𝑛𝑘(𝐵)."
      ]
    },
    {
      "cell_type": "code",
      "metadata": {
        "id": "s-TCmLvizius"
      },
      "source": [
        ""
      ],
      "execution_count": null,
      "outputs": []
    },
    {
      "cell_type": "markdown",
      "metadata": {
        "id": "ZoiV44lltJs0"
      },
      "source": [
        "## Problem 2.2"
      ]
    },
    {
      "cell_type": "markdown",
      "metadata": {
        "id": "vQAvbBLmHTtx"
      },
      "source": [
        "###(a)"
      ]
    },
    {
      "cell_type": "code",
      "metadata": {
        "id": "KMnw6hE_HzZF"
      },
      "source": [
        "b = np.random.randn(2,250)"
      ],
      "execution_count": 93,
      "outputs": []
    },
    {
      "cell_type": "code",
      "metadata": {
        "id": "E1l_VLAuZ-4e"
      },
      "source": [
        "x = A@b"
      ],
      "execution_count": 94,
      "outputs": []
    },
    {
      "cell_type": "markdown",
      "metadata": {
        "id": "n6WNXgAaGlsM"
      },
      "source": [
        "We can clearly see the data samples when printed are in not a data matrix format when we decide to print a data sample. Hence we save it in data matrix **R** nxp format."
      ]
    },
    {
      "cell_type": "markdown",
      "metadata": {
        "id": "tU9xzv1CHZg-"
      },
      "source": [
        "###(b)"
      ]
    },
    {
      "cell_type": "markdown",
      "metadata": {
        "id": "HhXOljJQFmj4"
      },
      "source": [
        "Yes, kinda, watch ML videos"
      ]
    },
    {
      "cell_type": "markdown",
      "metadata": {
        "id": "NkZG262qHbcN"
      },
      "source": [
        "###(c)"
      ]
    },
    {
      "cell_type": "code",
      "metadata": {
        "id": "OLPU0fy7UDBz"
      },
      "source": [
        " X = np.transpose(x)"
      ],
      "execution_count": 95,
      "outputs": []
    },
    {
      "cell_type": "code",
      "metadata": {
        "id": "gipNmUKVXS_N",
        "outputId": "3d6b4b9a-fc99-4734-dd80-e3d8fd7083de",
        "colab": {
          "base_uri": "https://localhost:8080/",
          "height": 1000
        }
      },
      "source": [
        "print(X)"
      ],
      "execution_count": 96,
      "outputs": [
        {
          "output_type": "stream",
          "text": [
            "[[-4.20866387e-01 -5.11575742e-01 -1.56859975e-02]\n",
            " [-1.56199966e+00 -1.20861303e+00  1.11259631e-01]\n",
            " [ 4.91913221e-01  4.46221883e-01 -1.89271963e-02]\n",
            " [-5.02322339e-01 -3.26792257e-01  5.09789351e-02]\n",
            " [ 1.84785317e+00  1.48190357e+00 -1.18822717e-01]\n",
            " [ 7.75408575e-01  6.43804246e-01 -4.44682768e-02]\n",
            " [-6.66198958e-01 -6.96368520e-01  3.02558811e-03]\n",
            " [ 1.40482175e-01 -3.57751749e-02 -4.54897106e-02]\n",
            " [ 1.16636962e+00  1.01102537e+00 -5.64228454e-02]\n",
            " [ 2.31984607e+00  1.97553531e+00 -1.20901440e-01]\n",
            " [ 7.88548097e-01  5.32567144e-01 -7.52212754e-02]\n",
            " [-1.35097558e-01 -5.22618768e-02  2.24607920e-02]\n",
            " [ 9.09603494e-01  8.33030227e-01 -3.30545443e-02]\n",
            " [-1.75040324e+00 -1.46757426e+00  9.68816538e-02]\n",
            " [-2.39159924e-02 -5.05515597e-02 -6.16713722e-03]\n",
            " [ 1.71564507e+00  1.64803140e+00 -4.34798329e-02]\n",
            " [ 7.19015090e-01  7.46491224e-01 -4.51440898e-03]\n",
            " [ 3.47929035e-01  6.03863538e-02 -7.60710767e-02]\n",
            " [ 3.83382422e-01  5.42868350e-01  3.31648271e-02]\n",
            " [-2.93764737e-01 -1.68670306e-01  3.53249904e-02]\n",
            " [ 2.10289751e+00  1.29413394e+00 -2.31573835e-01]\n",
            " [ 5.80171399e-01  6.91997515e-01  1.83769779e-02]\n",
            " [-1.44717715e+00 -1.31548135e+00  5.50132863e-02]\n",
            " [ 9.30039531e-01  8.48213554e-01 -3.46647306e-02]\n",
            " [ 6.54726545e-01  7.72704193e-01  1.87199806e-02]\n",
            " [-2.70355866e-01 -3.06047459e-01 -4.53109823e-03]\n",
            " [-2.99021940e-01 -4.30355412e-01 -2.75719375e-02]\n",
            " [ 2.30947411e+00  1.82429144e+00 -1.55337433e-01]\n",
            " [-2.12185786e-01 -3.17324553e-01 -2.24986546e-02]\n",
            " [ 3.91886771e-01  5.99040072e-01  4.47388309e-02]\n",
            " [-3.99618071e-01 -4.39723511e-01 -3.59039319e-03]\n",
            " [ 2.12042582e+00  1.58500587e+00 -1.64714583e-01]\n",
            " [ 8.33972681e-01  4.91170876e-01 -9.72562022e-02]\n",
            " [-3.23535877e+00 -2.71108376e+00  1.79441604e-01]\n",
            " [ 2.28973753e+00  2.20750808e+00 -5.60620560e-02]\n",
            " [ 3.05994621e+00  2.31124406e+00 -2.31813768e-01]\n",
            " [ 1.68051210e+00  1.75862505e+00 -7.13872297e-03]\n",
            " [ 8.57774789e-01  9.13108433e-01  1.53935054e-04]\n",
            " [-1.70366165e+00 -1.51698856e+00  7.25333923e-02]\n",
            " [-1.68809215e+00 -1.52941478e+00  6.54137003e-02]\n",
            " [-6.89246637e-01 -3.85929151e-01  8.52917833e-02]\n",
            " [ 1.30182005e+00  1.12027655e+00 -6.49791298e-02]\n",
            " [ 1.94123415e+00  1.48837981e+00 -1.41629431e-01]\n",
            " [ 2.04035503e+00  1.59663216e+00 -1.40939347e-01]\n",
            " [-2.62036136e+00 -2.41535899e+00  9.13942346e-02]\n",
            " [ 1.01243224e+00  9.03269412e-01 -4.26693169e-02]\n",
            " [ 1.22985960e+00  1.02795135e+00 -6.88535737e-02]\n",
            " [-1.89117376e+00 -1.69399248e+00  7.80514068e-02]\n",
            " [-1.04502564e+00 -8.81268603e-01  5.65883220e-02]\n",
            " [ 2.54771359e-01  2.36182656e-02 -6.07624493e-02]\n",
            " [ 6.48341608e-01  3.38394995e-01 -8.62791782e-02]\n",
            " [ 1.79468576e+00  1.69277024e+00 -5.31425356e-02]\n",
            " [ 2.19273654e+00  2.13140616e+00 -4.94097760e-02]\n",
            " [ 2.00993338e+00  1.71211169e+00 -1.04629163e-01]\n",
            " [-3.13790603e+00 -2.89975172e+00  1.07643214e-01]\n",
            " [-1.86214714e+00 -1.41153900e+00  1.39838949e-01]\n",
            " [ 1.01515110e+00  5.52247701e-01 -1.29591396e-01]\n",
            " [-7.62782568e-01 -6.72707395e-01  3.40708486e-02]\n",
            " [ 7.76324982e-01  4.77906642e-01 -8.54525321e-02]\n",
            " [ 1.84866034e+00  1.76223193e+00 -5.01843210e-02]\n",
            " [ 6.11462002e-01  5.50418898e-01 -2.45702300e-02]\n",
            " [-1.18812989e+00 -1.00649466e+00  6.32208245e-02]\n",
            " [-7.35340916e-01 -7.10214174e-01  1.76895219e-02]\n",
            " [-1.27447654e+00 -1.03623037e+00  7.84771274e-02]\n",
            " [ 1.84529696e+00  1.57215243e+00 -9.59895396e-02]\n",
            " [-9.53785612e-01 -6.61988834e-01  8.66059943e-02]\n",
            " [ 2.23530090e+00  1.75475905e+00 -1.53035791e-01]\n",
            " [-5.63697299e-01 -7.76980422e-01 -4.35530990e-02]\n",
            " [-2.86951299e+00 -2.71571296e+00  8.27215210e-02]\n",
            " [-7.31238153e-01 -5.16767157e-01  6.41286357e-02]\n",
            " [ 1.19756951e+00  1.15900599e+00 -2.82299452e-02]\n",
            " [-1.19677206e+00 -8.48124508e-01  1.04374798e-01]\n",
            " [ 5.75578410e-02  5.71124210e-02 -1.01097877e-03]\n",
            " [ 1.91596861e+00  1.80701616e+00 -5.67705892e-02]\n",
            " [-8.24256631e-01 -9.79437018e-01 -2.52015487e-02]\n",
            " [ 5.22938315e-01  3.61998723e-01 -4.77184049e-02]\n",
            " [ 2.23942733e+00  1.56383463e+00 -2.01005362e-01]\n",
            " [-1.02820143e+00 -9.26467287e-01  4.10918239e-02]\n",
            " [ 5.34734526e-02 -1.94118433e-01 -6.16467355e-02]\n",
            " [-9.50420706e-01 -6.29678933e-01  9.36622433e-02]\n",
            " [-6.00970612e-01 -4.87976950e-01  3.71650688e-02]\n",
            " [-4.29553502e-01 -5.14833006e-01 -1.42163396e-02]\n",
            " [ 9.13541624e-01  7.63353979e-01 -5.11960895e-02]\n",
            " [ 4.53988937e-01  5.07035940e-01  5.91720880e-03]\n",
            " [ 1.82967016e+00  1.48633159e+00 -1.12984578e-01]\n",
            " [-7.31787911e-01 -3.05847647e-01  1.16074581e-01]\n",
            " [-1.85937504e+00 -1.62466816e+00  8.67696853e-02]\n",
            " [-9.06162092e-01 -7.21946254e-01  5.94378986e-02]\n",
            " [ 2.07312818e+00  1.69292553e+00 -1.25851992e-01]\n",
            " [-3.11762938e-01 -3.11927189e-01  4.84309588e-03]\n",
            " [ 5.22891474e-01  3.46031241e-01 -5.16278168e-02]\n",
            " [-1.96549324e+00 -1.59095122e+00  1.22775743e-01]\n",
            " [ 1.35421875e+00  1.10665692e+00 -8.20141518e-02]\n",
            " [-6.92583639e-01 -9.08008566e-01 -4.20602629e-02]\n",
            " [ 2.36530823e+00  1.81031144e+00 -1.73358522e-01]\n",
            " [-7.70700932e-03  8.44716998e-02  2.27600228e-02]\n",
            " [ 1.13083085e+00  9.73329214e-01 -5.63960279e-02]\n",
            " [-3.26169152e-01 -1.83731988e-01  4.00919860e-02]\n",
            " [ 4.87401321e-01  1.95652663e-01 -7.92887600e-02]\n",
            " [-5.05378766e-01 -3.30933165e-01  5.07604598e-02]\n",
            " [-3.20254908e+00 -2.52118206e+00  2.17509832e-01]\n",
            " [-4.23212440e-01 -4.17471667e-01  8.03912153e-03]\n",
            " [-4.11164231e-01 -3.87055158e-01  1.23616955e-02]\n",
            " [-2.11515851e+00 -1.55583247e+00  1.70503467e-01]\n",
            " [-6.23848627e-01 -6.12462752e-01  1.25683250e-02]\n",
            " [ 6.73809267e-01  5.67355222e-01 -3.66998643e-02]\n",
            " [ 2.00717473e+00  1.87245951e+00 -6.45266300e-02]\n",
            " [-3.31241970e-02 -1.36710578e-02  5.29659072e-03]\n",
            " [-2.36407105e+00 -1.96432264e+00  1.35209789e-01]\n",
            " [-2.80520370e-01 -3.73885232e-01 -1.85365681e-02]\n",
            " [ 9.36603175e-01  5.16648360e-01 -1.17812755e-01]\n",
            " [ 7.20691621e-01  5.29899962e-01 -5.81477368e-02]\n",
            " [-7.45995032e-01 -7.47469624e-01  1.13230591e-02]\n",
            " [ 5.74676085e-01  6.72752246e-01  1.50860358e-02]\n",
            " [-1.87371439e+00 -1.43654166e+00  1.36720369e-01]\n",
            " [-9.42854055e-01 -9.48567574e-01  1.33655570e-02]\n",
            " [-1.21248440e+00 -1.13282932e+00  3.85557521e-02]\n",
            " [-1.28956918e-01 -2.61702573e-02  2.72646114e-02]\n",
            " [-8.07041452e-01 -6.55902207e-01  4.97615922e-02]\n",
            " [-8.87888122e-01 -6.20100465e-01  7.96770850e-02]\n",
            " [-4.12071193e-01 -1.40458475e-01  7.31633604e-02]\n",
            " [-1.36055528e-01  1.25723454e-01  6.64246795e-02]\n",
            " [ 1.38532915e+00  1.23227961e+00 -5.92890302e-02]\n",
            " [ 3.38008855e+00  2.83332672e+00 -1.87231457e-01]\n",
            " [-7.08776040e-01 -4.83637180e-01  6.63968426e-02]\n",
            " [ 3.10704338e-01  3.35225228e-01  1.15553192e-03]\n",
            " [-1.31294271e+00 -9.48128031e-01  1.10165173e-01]\n",
            " [-5.34268287e-01 -4.77221862e-01  2.23794788e-02]\n",
            " [-6.74424314e-01 -3.30563135e-01  9.50172306e-02]\n",
            " [ 2.24715462e-01  1.96675852e-01 -1.04065217e-02]\n",
            " [-2.15827869e-01  1.01501077e-01  8.13174262e-02]\n",
            " [ 1.37592018e+00  9.39917698e-01 -1.28635535e-01]\n",
            " [-1.78495765e+00 -1.58108155e+00  7.80319068e-02]\n",
            " [ 3.05634487e+00  2.44406355e+00 -1.98252090e-01]\n",
            " [-7.90984484e-01 -5.33078847e-01  7.57321456e-02]\n",
            " [-7.63874130e-01 -7.34413324e-01  1.92009202e-02]\n",
            " [ 1.48774767e+00  1.18810426e+00 -9.68970953e-02]\n",
            " [ 5.06404245e-02 -1.51416004e-02 -1.69494436e-02]\n",
            " [-9.17664655e-01 -9.21333048e-01  1.34732796e-02]\n",
            " [ 1.58477104e-01 -9.82907133e-02 -6.55451362e-02]\n",
            " [-1.02015902e+00 -8.29985752e-01  6.26866987e-02]\n",
            " [ 9.37534028e-01  4.77080195e-01 -1.27773987e-01]\n",
            " [-1.35966602e+00 -1.23857145e+00  5.10388318e-02]\n",
            " [ 2.61112576e-01  3.41294996e-01  1.56029326e-02]\n",
            " [ 1.71245805e+00  1.33065952e+00 -1.20594432e-01]\n",
            " [ 1.79450173e+00  1.70591359e+00 -4.98664183e-02]\n",
            " [ 1.16334257e+00  9.37931582e-01 -7.35839815e-02]\n",
            " [ 6.75262241e-01  7.82913598e-01  1.58621504e-02]\n",
            " [ 2.43674800e+00  1.93259872e+00 -1.61989286e-01]\n",
            " [ 1.54842025e+00  1.01438127e+00 -1.55415552e-01]\n",
            " [-4.43975408e-01 -4.32157395e-02  1.05381891e-01]\n",
            " [-1.96391484e-01 -1.23785712e-01  2.09084073e-02]\n",
            " [ 7.06169705e-01  4.81756516e-01 -6.61777906e-02]\n",
            " [ 5.23329686e-01  4.80731878e-01 -1.86595240e-02]\n",
            " [ 8.49553310e-02 -7.55905796e-02 -4.07611762e-02]\n",
            " [-2.53966369e+00 -2.28530254e+00  1.02252819e-01]\n",
            " [ 1.01192959e+00  9.29897200e-01 -3.59981481e-02]\n",
            " [ 2.93607230e-03  6.65513622e-02  1.55780695e-02]\n",
            " [ 6.00097485e-01  3.88823042e-01 -6.12893754e-02]\n",
            " [ 1.23827190e+00  8.08316584e-01 -1.24994223e-01]\n",
            " [ 1.78397440e+00  1.66496276e+00 -5.71736004e-02]\n",
            " [-2.12398360e+00 -1.77070585e+00  1.20035773e-01]\n",
            " [-2.80198758e+00 -2.42093929e+00  1.37476496e-01]\n",
            " [-8.93254684e-01 -4.68815897e-01  1.18235020e-01]\n",
            " [ 9.48630568e-01  5.32075967e-01 -1.17166051e-01]\n",
            " [ 5.52148511e-01  4.15947179e-01 -4.21001788e-02]\n",
            " [ 7.16196087e-01  6.88645375e-01 -1.79849708e-02]\n",
            " [-2.71525004e-01 -6.62974365e-01 -9.18877020e-02]\n",
            " [-1.52180748e+00 -1.39224902e+00  5.56573563e-02]\n",
            " [ 2.55874085e+00  1.97461980e+00 -1.83541424e-01]\n",
            " [-1.22512997e+00 -8.53053570e-01  1.10573175e-01]\n",
            " [ 2.13206078e+00  1.64086405e+00 -1.54035510e-01]\n",
            " [-2.22944587e+00 -1.67203981e+00  1.71822106e-01]\n",
            " [ 3.32919282e-01  5.12041681e-02 -7.44047009e-02]\n",
            " [ 9.20990332e-01  4.89887730e-01 -1.20306118e-01]\n",
            " [ 1.83802950e+00  1.57707581e+00 -9.28816053e-02]\n",
            " [ 6.84660292e-01  5.72185218e-01 -3.83486126e-02]\n",
            " [-1.65420054e+00 -1.36057378e+00  9.80267012e-02]\n",
            " [ 6.66675950e-01  7.68306750e-01  1.45179827e-02]\n",
            " [-9.81689660e-01 -7.15254848e-01  8.08141249e-02]\n",
            " [-7.86653831e-01 -6.04599077e-01  5.70351609e-02]\n",
            " [-1.33689216e+00 -1.08120837e+00  8.37375211e-02]\n",
            " [-3.64354410e-01 -1.15676269e-01  6.67831433e-02]\n",
            " [-5.42200542e-01 -8.39010825e-01 -6.44042834e-02]\n",
            " [-8.38319412e-01 -5.73254684e-01  7.82318861e-02]\n",
            " [-4.18958613e-01 -4.45221245e-01  1.12380856e-04]\n",
            " [ 9.80963345e-01  9.27037325e-01 -2.86101053e-02]\n",
            " [-1.74265369e-01 -1.29112599e-01  1.38193055e-02]\n",
            " [-2.25364903e+00 -1.94820343e+00  1.10319162e-01]\n",
            " [ 9.27257320e-01  9.13861145e-01 -1.78146351e-02]\n",
            " [ 7.55677754e-01  6.35175880e-01 -4.14324263e-02]\n",
            " [-1.56027652e+00 -1.20759673e+00  1.11059036e-01]\n",
            " [ 1.42508920e+00  1.38563712e+00 -3.20120340e-02]\n",
            " [-8.09040098e-01 -6.92982707e-01  4.11767157e-02]\n",
            " [-8.72062893e-01 -4.68429643e-01  1.12793187e-01]\n",
            " [-7.82225138e-01 -7.62041168e-01  1.72099574e-02]\n",
            " [-5.82394055e-01 -5.01782112e-01  2.89210630e-02]\n",
            " [-8.25627273e-01 -8.94357104e-01 -3.94762586e-03]\n",
            " [-1.70262037e+00 -1.50535058e+00  7.51196534e-02]\n",
            " [ 7.29281643e-01  6.51022950e-01 -3.06439377e-02]\n",
            " [-1.46826907e-01 -2.59611706e-01 -2.54003154e-02]\n",
            " [-5.63154171e-02  2.60711330e-01  7.87446117e-02]\n",
            " [-2.15341461e+00 -1.98431045e+00  7.52633257e-02]\n",
            " [ 2.37141056e-01  2.73705468e-01  5.26573933e-03]\n",
            " [-1.60260511e+00 -1.32327930e+00  9.37061682e-02]\n",
            " [-3.29332837e+00 -2.69835147e+00  1.97714180e-01]\n",
            " [ 3.71641992e-01  4.38267103e-01  1.05419006e-02]\n",
            " [-7.63377913e-01 -6.73984197e-01  3.39128067e-02]\n",
            " [ 1.20764852e-01 -1.07471616e-01 -5.79470493e-02]\n",
            " [ 6.84601831e-01  5.15428700e-01 -5.22728686e-02]\n",
            " [-4.11355550e-01 -5.51559531e-01 -2.79909675e-02]\n",
            " [-9.43084657e-01 -8.46193575e-01  3.85690926e-02]\n",
            " [ 2.02500689e-01  2.60709762e-01  1.11243218e-02]\n",
            " [ 2.24884391e-01  4.65301028e-01  5.55242973e-02]\n",
            " [-1.75685609e+00 -1.29737459e+00  1.40368992e-01]\n",
            " [ 1.04086344e+00  6.32280958e-01 -1.16652811e-01]\n",
            " [ 1.19601528e+00  1.00143794e+00 -6.65229509e-02]\n",
            " [ 1.04561637e+00  9.34703711e-01 -4.36188741e-02]\n",
            " [ 3.70380181e-01  3.13769910e-01 -1.97052245e-02]\n",
            " [-1.96936861e+00 -1.52195369e+00  1.40734195e-01]\n",
            " [-1.10749623e+00 -9.99757036e-01  4.38087472e-02]\n",
            " [ 2.51127436e-01  3.35261219e-02 -5.73770233e-02]\n",
            " [ 9.37361200e-01  9.25922676e-01 -1.74920982e-02]\n",
            " [ 9.91701607e-01  8.89984878e-01 -4.05158156e-02]\n",
            " [ 1.88694057e+00  1.54781269e+00 -1.12847506e-01]\n",
            " [-1.64840148e+00 -1.63754698e+00  2.84863541e-02]\n",
            " [ 1.25418073e+00  9.60200727e-01 -9.18475704e-02]\n",
            " [-1.71031051e+00 -1.16477868e+00  1.60774064e-01]\n",
            " [-8.08324641e-01 -4.48074229e-01  1.01139870e-01]\n",
            " [ 8.04545651e-01  6.04185769e-01 -6.18111986e-02]\n",
            " [ 7.57984305e-01  5.65998609e-01 -5.90251452e-02]\n",
            " [ 2.54980512e+00  2.12713622e+00 -1.43748439e-01]\n",
            " [-6.42262678e-01 -7.13986965e-01 -7.55528338e-03]\n",
            " [-1.85780953e+00 -1.65019538e+00  8.00911258e-02]\n",
            " [-8.16161126e-01 -6.43312268e-01  5.52363726e-02]\n",
            " [ 2.03567903e+00  1.94246459e+00 -5.47804339e-02]\n",
            " [-1.57174810e-01 -2.75124410e-01 -2.65067130e-02]\n",
            " [-4.44054510e-01 -4.65624346e-01  1.65804285e-03]\n",
            " [-4.43785687e-01 -3.50224100e-01  2.99303716e-02]\n",
            " [ 1.51392409e+00  9.66439693e-01 -1.58177432e-01]\n",
            " [-4.86809115e-01 -6.30592152e-01 -2.76880918e-02]\n",
            " [-9.16749101e-02 -2.88135934e-01 -4.68152841e-02]\n",
            " [ 1.30644597e-01  8.74072542e-02 -1.26655989e-02]\n",
            " [-3.27663956e-01 -3.36983644e-01  2.84357227e-03]\n",
            " [-1.02118960e+00 -1.22663096e+00 -3.44610133e-02]\n",
            " [-1.33530015e+00 -1.08468371e+00  8.24680319e-02]\n",
            " [ 1.78933068e+00  1.32051427e+00 -1.43170348e-01]\n",
            " [ 2.10871708e+00  1.85622690e+00 -9.50429850e-02]\n",
            " [ 1.14334013e+00  8.16467129e-01 -9.81899642e-02]\n",
            " [-9.69215656e-01 -6.95689833e-01  8.23603014e-02]]\n"
          ],
          "name": "stdout"
        }
      ]
    },
    {
      "cell_type": "code",
      "metadata": {
        "id": "vydNHbIRIBV-",
        "outputId": "b60b3e88-d71c-4b40-e7c4-68f21a6fcda6",
        "colab": {
          "base_uri": "https://localhost:8080/",
          "height": 34
        }
      },
      "source": [
        "print(X.shape);"
      ],
      "execution_count": 97,
      "outputs": [
        {
          "output_type": "stream",
          "text": [
            "(250, 3)\n"
          ],
          "name": "stdout"
        }
      ]
    },
    {
      "cell_type": "markdown",
      "metadata": {
        "id": "FOeKJva_UGpz"
      },
      "source": [
        "n = 250\n",
        "p = 3"
      ]
    },
    {
      "cell_type": "markdown",
      "metadata": {
        "id": "QoDsjobjUZ0R"
      },
      "source": [
        "###(d)"
      ]
    },
    {
      "cell_type": "code",
      "metadata": {
        "id": "jiRcOnt6UX3G",
        "outputId": "40bbe983-17d6-4818-9654-d29051fdc43a",
        "colab": {
          "base_uri": "https://localhost:8080/",
          "height": 34
        }
      },
      "source": [
        "np.linalg.matrix_rank(X, tol=None)"
      ],
      "execution_count": 98,
      "outputs": [
        {
          "output_type": "execute_result",
          "data": {
            "text/plain": [
              "2"
            ]
          },
          "metadata": {
            "tags": []
          },
          "execution_count": 98
        }
      ]
    },
    {
      "cell_type": "markdown",
      "metadata": {
        "id": "fTdHjUe3tJs3"
      },
      "source": [
        "## Problem 2.3"
      ]
    },
    {
      "cell_type": "markdown",
      "metadata": {
        "id": "k_czx8kic7HB"
      },
      "source": [
        "###(a)"
      ]
    },
    {
      "cell_type": "code",
      "metadata": {
        "id": "R8qeLcKBevMW"
      },
      "source": [
        "SVD = np.linalg.svd(X)"
      ],
      "execution_count": 99,
      "outputs": []
    },
    {
      "cell_type": "code",
      "metadata": {
        "id": "893nE-9rQXZ8",
        "outputId": "cc5301b3-cd7c-4e18-979a-9229e06e3a0a",
        "colab": {
          "base_uri": "https://localhost:8080/",
          "height": 85
        }
      },
      "source": [
        "x_1 = pd.DataFrame(list(SVD)) \n",
        "print(x_1)"
      ],
      "execution_count": 100,
      "outputs": [
        {
          "output_type": "stream",
          "text": [
            "                                                   0\n",
            "0  [[-0.023601354934270458, -0.06164608567342935,...\n",
            "1  [27.548516548451737, 2.0740393202214773, 8.547...\n",
            "2  [[0.764484439901256, 0.6432894078252179, -0.04...\n"
          ],
          "name": "stdout"
        }
      ]
    },
    {
      "cell_type": "markdown",
      "metadata": {
        "id": "w9dtCSXOvZm6"
      },
      "source": [
        "Left Singular Vectors\n",
        "\n"
      ]
    },
    {
      "cell_type": "code",
      "metadata": {
        "id": "nmznNFRmo6hn",
        "outputId": "9f25aac1-eda7-449d-d1c5-1905ae512e2b",
        "colab": {
          "base_uri": "https://localhost:8080/",
          "height": 238
        }
      },
      "source": [
        "print(x_1.iloc[0,0])"
      ],
      "execution_count": 101,
      "outputs": [
        {
          "output_type": "stream",
          "text": [
            "[[-2.36013549e-02 -6.16460857e-02 -8.15901314e-01 ... -4.98332108e-04\n",
            "   1.49570335e-02 -4.29119414e-02]\n",
            " [-7.17373091e-02  4.14133110e-02  1.09248828e-01 ... -9.29325638e-03\n",
            "   6.51951800e-02 -4.95914204e-02]\n",
            " [ 2.40992957e-02  1.26450265e-02  7.44017782e-03 ... -1.26182735e-01\n",
            "  -3.77734281e-02 -3.40166492e-03]\n",
            " ...\n",
            " [ 1.02006932e-01  3.20343265e-02 -4.09825928e-02 ...  9.84077499e-01\n",
            "  -4.26362767e-03  2.31168307e-03]\n",
            " [ 5.09424491e-02 -5.70204943e-02 -4.11777587e-03 ... -4.21868702e-03\n",
            "   9.94239323e-01  4.69172722e-03]\n",
            " [-4.32661394e-02  4.69401402e-02 -3.29442965e-02 ... -9.16943424e-04\n",
            "   3.43194217e-03  9.95948675e-01]]\n"
          ],
          "name": "stdout"
        }
      ]
    },
    {
      "cell_type": "markdown",
      "metadata": {
        "id": "7vuURHLZwY4m"
      },
      "source": [
        "singular values = Diagonal Matrix"
      ]
    },
    {
      "cell_type": "code",
      "metadata": {
        "id": "vr5a0zVItFDM",
        "outputId": "955bd41b-5b84-4c13-d293-45e5e588f60a",
        "colab": {
          "base_uri": "https://localhost:8080/",
          "height": 34
        }
      },
      "source": [
        "print(x_1.iloc[1,0])"
      ],
      "execution_count": 102,
      "outputs": [
        {
          "output_type": "stream",
          "text": [
            "[2.75485165e+01 2.07403932e+00 8.54779663e-16]\n"
          ],
          "name": "stdout"
        }
      ]
    },
    {
      "cell_type": "markdown",
      "metadata": {
        "id": "1dMwo41ivKzi"
      },
      "source": [
        "Right Singular Vectors = Orthogonal\n"
      ]
    },
    {
      "cell_type": "code",
      "metadata": {
        "id": "6645zJfctJpJ",
        "outputId": "2467a27c-7339-4b09-a172-80444aed4eac",
        "colab": {
          "base_uri": "https://localhost:8080/",
          "height": 68
        }
      },
      "source": [
        "print(x_1.iloc[2,0])"
      ],
      "execution_count": 103,
      "outputs": [
        {
          "output_type": "stream",
          "text": [
            "[[ 0.76448444  0.64328941 -0.04174061]\n",
            " [-0.59588627  0.72988399  0.33494612]\n",
            " [-0.2459331   0.23118844 -0.94131228]]\n"
          ],
          "name": "stdout"
        }
      ]
    },
    {
      "cell_type": "code",
      "metadata": {
        "id": "8QkoCHSNLVWS",
        "outputId": "8d76fed4-e395-4ab5-c799-3cd43788aa71",
        "colab": {
          "base_uri": "https://localhost:8080/",
          "height": 51
        }
      },
      "source": [
        "X_T = np.transpose(X)\n",
        "print(X_T[0,:3])\n",
        "print(X_T[:3,0])"
      ],
      "execution_count": 105,
      "outputs": [
        {
          "output_type": "stream",
          "text": [
            "[-0.42086639 -1.56199966  0.49191322]\n",
            "[-0.42086639 -0.51157574 -0.015686  ]\n"
          ],
          "name": "stdout"
        }
      ]
    },
    {
      "cell_type": "code",
      "metadata": {
        "id": "jILZ_NjhLInJ",
        "outputId": "39cf35e6-9f1d-4316-cc19-e6c8c88745d9",
        "colab": {
          "base_uri": "https://localhost:8080/",
          "height": 34
        }
      },
      "source": [
        "XT_X = X_T@X\n",
        "print(XT_X.shape);"
      ],
      "execution_count": 106,
      "outputs": [
        {
          "output_type": "stream",
          "text": [
            "(3, 3)\n"
          ],
          "name": "stdout"
        }
      ]
    },
    {
      "cell_type": "markdown",
      "metadata": {
        "id": "kadwLyDzxiuw"
      },
      "source": [
        "Matrix XT_X itself\n"
      ]
    },
    {
      "cell_type": "code",
      "metadata": {
        "id": "8J9itCqNSjUK",
        "outputId": "b97185eb-a622-4969-eca5-f830e85341b8",
        "colab": {
          "base_uri": "https://localhost:8080/",
          "height": 68
        }
      },
      "source": [
        "print(XT_X)"
      ],
      "execution_count": 107,
      "outputs": [
        {
          "output_type": "stream",
          "text": [
            "[[445.06839183 371.35474995 -25.07576323]\n",
            " [371.35474995 316.34916346 -19.32637612]\n",
            " [-25.07576323 -19.32637612   1.80484783]]\n"
          ],
          "name": "stdout"
        }
      ]
    },
    {
      "cell_type": "code",
      "metadata": {
        "id": "pki6jhJRxsZT",
        "outputId": "610eb9d0-52fa-4f61-8978-87142a660339",
        "colab": {
          "base_uri": "https://localhost:8080/",
          "height": 34
        }
      },
      "source": [
        "np.linalg.eigvals(XT_X)"
      ],
      "execution_count": 41,
      "outputs": [
        {
          "output_type": "execute_result",
          "data": {
            "text/plain": [
              "array([ 8.12142674e+02,  5.22442492e+00, -1.24828449e-14])"
            ]
          },
          "metadata": {
            "tags": []
          },
          "execution_count": 41
        }
      ]
    },
    {
      "cell_type": "markdown",
      "metadata": {
        "id": "i3NMh1RixKOY"
      },
      "source": [
        "\n",
        "\n",
        "---\n",
        "\n",
        "\n",
        "\n",
        "---\n"
      ]
    },
    {
      "cell_type": "markdown",
      "metadata": {
        "id": "DoTj_Rx6Vgch"
      },
      "source": [
        "###(i)"
      ]
    },
    {
      "cell_type": "markdown",
      "metadata": {
        "id": "gUdi5hutys9C"
      },
      "source": [
        "We can clearly see that the right singular vectors of X correspond to the eigenvectors of(X^T_X)."
      ]
    },
    {
      "cell_type": "code",
      "metadata": {
        "id": "xPIruSH2YnQx",
        "outputId": "abd7a87c-2bfd-4772-ea1f-cc4be6d05310",
        "colab": {
          "base_uri": "https://localhost:8080/",
          "height": 85
        }
      },
      "source": [
        "np.linalg.eig(XT_X)"
      ],
      "execution_count": 108,
      "outputs": [
        {
          "output_type": "execute_result",
          "data": {
            "text/plain": [
              "(array([ 7.58920764e+02,  4.30163910e+00, -1.75505021e-14]),\n",
              " array([[-0.76448444, -0.59588627,  0.2459331 ],\n",
              "        [-0.64328941,  0.72988399, -0.23118844],\n",
              "        [ 0.04174061,  0.33494612,  0.94131228]]))"
            ]
          },
          "metadata": {
            "tags": []
          },
          "execution_count": 108
        }
      ]
    },
    {
      "cell_type": "code",
      "metadata": {
        "id": "z4FNopm4ypVq",
        "outputId": "5a21e05a-0cf9-4661-fee2-5615a1940321",
        "colab": {
          "base_uri": "https://localhost:8080/",
          "height": 68
        }
      },
      "source": [
        "print(x_1.iloc[2,0])"
      ],
      "execution_count": 109,
      "outputs": [
        {
          "output_type": "stream",
          "text": [
            "[[ 0.76448444  0.64328941 -0.04174061]\n",
            " [-0.59588627  0.72988399  0.33494612]\n",
            " [-0.2459331   0.23118844 -0.94131228]]\n"
          ],
          "name": "stdout"
        }
      ]
    },
    {
      "cell_type": "markdown",
      "metadata": {
        "id": "YRf5S1BWzC2D"
      },
      "source": [
        "\n",
        "\n",
        "---\n",
        "\n"
      ]
    },
    {
      "cell_type": "markdown",
      "metadata": {
        "id": "L3mCnRaizIFV"
      },
      "source": [
        "###(ii)"
      ]
    },
    {
      "cell_type": "markdown",
      "metadata": {
        "id": "UPrt4SIa0inr"
      },
      "source": [
        "Eigen Values of XT_X"
      ]
    },
    {
      "cell_type": "code",
      "metadata": {
        "id": "TFmgr6D-zCdJ",
        "outputId": "88233dee-428f-452a-ac27-64b1cc935466",
        "colab": {
          "base_uri": "https://localhost:8080/",
          "height": 34
        }
      },
      "source": [
        "np.linalg.eigvals(XT_X)"
      ],
      "execution_count": 110,
      "outputs": [
        {
          "output_type": "execute_result",
          "data": {
            "text/plain": [
              "array([ 7.58920764e+02,  4.30163910e+00, -1.75505021e-14])"
            ]
          },
          "metadata": {
            "tags": []
          },
          "execution_count": 110
        }
      ]
    },
    {
      "cell_type": "markdown",
      "metadata": {
        "id": "nT_6qkLE0nuB"
      },
      "source": [
        "Singular Values of X"
      ]
    },
    {
      "cell_type": "code",
      "metadata": {
        "id": "Rkq_nYg00d8a",
        "outputId": "e8fec469-034d-45bd-e405-45141f6e1a51",
        "colab": {
          "base_uri": "https://localhost:8080/",
          "height": 34
        }
      },
      "source": [
        "print(x_1.iloc[1,0])"
      ],
      "execution_count": 111,
      "outputs": [
        {
          "output_type": "stream",
          "text": [
            "[2.75485165e+01 2.07403932e+00 8.54779663e-16]\n"
          ],
          "name": "stdout"
        }
      ]
    },
    {
      "cell_type": "code",
      "metadata": {
        "id": "MsEPMFwA0tGe"
      },
      "source": [
        "array_singular_vals = [x_1.iloc[1,0]]\n",
        "array_singular_vals = np.square(array_singular_vals)"
      ],
      "execution_count": 112,
      "outputs": []
    },
    {
      "cell_type": "markdown",
      "metadata": {
        "id": "PO2gA-7k7Dkd"
      },
      "source": [
        "We can cleary see that the eigenvales of X^T_X are square of the singular values of X"
      ]
    },
    {
      "cell_type": "markdown",
      "metadata": {
        "id": "8uGGaNys1L5H"
      },
      "source": [
        "###(iii)"
      ]
    },
    {
      "cell_type": "markdown",
      "metadata": {
        "id": "UCqouIyA2Fwh"
      },
      "source": [
        "Energy of XF\n"
      ]
    },
    {
      "cell_type": "code",
      "metadata": {
        "id": "Ttzqj5DXRO-d",
        "outputId": "1374b484-0f56-4e1f-b00d-7bf3e626b712",
        "colab": {
          "base_uri": "https://localhost:8080/",
          "height": 34
        }
      },
      "source": [
        "np.asarray(array_singular_vals)\n",
        "print(array_singular_vals)"
      ],
      "execution_count": 113,
      "outputs": [
        {
          "output_type": "stream",
          "text": [
            "[[7.58920764e+02 4.30163910e+00 7.30648272e-31]]\n"
          ],
          "name": "stdout"
        }
      ]
    },
    {
      "cell_type": "code",
      "metadata": {
        "id": "lz1yek3SSYJT",
        "outputId": "29cfea9f-d809-4229-e253-60ab0409851e",
        "colab": {
          "base_uri": "https://localhost:8080/",
          "height": 34
        }
      },
      "source": [
        "sum = np.sum(array_singular_vals)\n",
        "print(\"The energy of XF is:\", sum)"
      ],
      "execution_count": 114,
      "outputs": [
        {
          "output_type": "stream",
          "text": [
            "The energy of XF is: 763.222403122144\n"
          ],
          "name": "stdout"
        }
      ]
    },
    {
      "cell_type": "markdown",
      "metadata": {
        "id": "Yrp2TdCn8MSG"
      },
      "source": [
        "###(b)"
      ]
    },
    {
      "cell_type": "markdown",
      "metadata": {
        "id": "CUVIhGkN8zP1"
      },
      "source": [
        "###(i)"
      ]
    },
    {
      "cell_type": "markdown",
      "metadata": {
        "id": "-ac0bgVH-FKB"
      },
      "source": [
        "###(ii)"
      ]
    },
    {
      "cell_type": "markdown",
      "metadata": {
        "id": "DLaKR9s3tJs6"
      },
      "source": [
        "## Problem 2.4\n"
      ]
    },
    {
      "cell_type": "markdown",
      "metadata": {
        "id": "Nt2nFFTs-a31"
      },
      "source": [
        "###(a)"
      ]
    },
    {
      "cell_type": "markdown",
      "metadata": {
        "id": "qQs2G_Mg9EzL"
      },
      "source": [
        "We need 2 principal components to capture all variation in the data, because i am still reading the paper man!"
      ]
    },
    {
      "cell_type": "markdown",
      "metadata": {
        "id": "HPKyqEg5-d2_"
      },
      "source": [
        "###(b)"
      ]
    },
    {
      "cell_type": "markdown",
      "metadata": {
        "id": "I3BGCxC6CCFJ"
      },
      "source": [
        "####(i)"
      ]
    },
    {
      "cell_type": "markdown",
      "metadata": {
        "id": "NXIk2ybvAT8r"
      },
      "source": [
        "####(ii)\n",
        "\n"
      ]
    },
    {
      "cell_type": "code",
      "metadata": {
        "id": "cNLfws37-GB-",
        "outputId": "7f7dfa0a-58e6-49b4-83b7-f8fb886c921e",
        "colab": {
          "base_uri": "https://localhost:8080/",
          "height": 34
        }
      },
      "source": [
        "mean_vector = np.mean(X,axis = 0)\n",
        "print(mean_vector)"
      ],
      "execution_count": 115,
      "outputs": [
        {
          "output_type": "stream",
          "text": [
            "[ 0.04113738  0.02016033 -0.00579638]\n"
          ],
          "name": "stdout"
        }
      ]
    },
    {
      "cell_type": "markdown",
      "metadata": {
        "id": "vLDSg4Klk0ut"
      },
      "source": [
        "Like it is mentioned mean centering is not required in the dataset, since we can see the mean vectors have small entries."
      ]
    },
    {
      "cell_type": "markdown",
      "metadata": {
        "id": "2ehMKUHWA-Bc"
      },
      "source": [
        "###(c)"
      ]
    },
    {
      "cell_type": "code",
      "metadata": {
        "id": "Yob5xsXxIFRC"
      },
      "source": [
        "from numpy import array\n",
        "from numpy import mean\n",
        "from numpy import cov\n",
        "from numpy.linalg import eig"
      ],
      "execution_count": 49,
      "outputs": []
    },
    {
      "cell_type": "code",
      "metadata": {
        "id": "uZBscHxn7qUo",
        "outputId": "8179d318-0bd8-42ff-eb67-3309e6257fd8",
        "colab": {
          "base_uri": "https://localhost:8080/",
          "height": 34
        }
      },
      "source": [
        "print(x_1.iloc[1,0])"
      ],
      "execution_count": 116,
      "outputs": [
        {
          "output_type": "stream",
          "text": [
            "[2.75485165e+01 2.07403932e+00 8.54779663e-16]\n"
          ],
          "name": "stdout"
        }
      ]
    },
    {
      "cell_type": "markdown",
      "metadata": {
        "id": "EYfGvoQK7s6Z"
      },
      "source": [
        "We know that U = [u1 u2] where the singular vectors correspondign to the k largest singular values of X. Here the first two singular values are the largest and hence they will be our PCA vectors."
      ]
    },
    {
      "cell_type": "markdown",
      "metadata": {
        "id": "RL4c6qFGAe4n"
      },
      "source": [
        "Way1"
      ]
    },
    {
      "cell_type": "code",
      "metadata": {
        "id": "liNZw3Kr8aql",
        "outputId": "28bf2391-a498-49c4-b745-064c88758146",
        "colab": {
          "base_uri": "https://localhost:8080/",
          "height": 68
        }
      },
      "source": [
        "f1  = x_1.iloc[2,0]\n",
        "print(f1)"
      ],
      "execution_count": 117,
      "outputs": [
        {
          "output_type": "stream",
          "text": [
            "[[ 0.76448444  0.64328941 -0.04174061]\n",
            " [-0.59588627  0.72988399  0.33494612]\n",
            " [-0.2459331   0.23118844 -0.94131228]]\n"
          ],
          "name": "stdout"
        }
      ]
    },
    {
      "cell_type": "code",
      "metadata": {
        "id": "NIVIRnnC8t6I"
      },
      "source": [
        "u1 = f1[:,0]\n",
        "u2 = f1[:,1]"
      ],
      "execution_count": 118,
      "outputs": []
    },
    {
      "cell_type": "code",
      "metadata": {
        "id": "QRBIL_rb9b3X",
        "outputId": "117f2331-0c65-4201-912a-992d386a9a99",
        "colab": {
          "base_uri": "https://localhost:8080/",
          "height": 34
        }
      },
      "source": [
        "U = [u1, u2]\n",
        "print(U)"
      ],
      "execution_count": 119,
      "outputs": [
        {
          "output_type": "stream",
          "text": [
            "[array([ 0.76448444, -0.59588627, -0.2459331 ]), array([0.64328941, 0.72988399, 0.23118844])]\n"
          ],
          "name": "stdout"
        }
      ]
    },
    {
      "cell_type": "code",
      "metadata": {
        "id": "rE4DryfA9r6_",
        "outputId": "4a38b589-e3df-4876-c10b-27b2b1dff80c",
        "colab": {
          "base_uri": "https://localhost:8080/",
          "height": 68
        }
      },
      "source": [
        "U_T = np.transpose(U)\n",
        "print(U_T)"
      ],
      "execution_count": null,
      "outputs": [
        {
          "output_type": "stream",
          "text": [
            "[[ 0.76448444  0.64328941]\n",
            " [-0.59588627  0.72988399]\n",
            " [-0.2459331   0.23118844]]\n"
          ],
          "name": "stdout"
        }
      ]
    },
    {
      "cell_type": "markdown",
      "metadata": {
        "id": "qysiJ0rmAhKK"
      },
      "source": [
        "Way2"
      ]
    },
    {
      "cell_type": "code",
      "metadata": {
        "id": "FvX43suk_nH2",
        "outputId": "7f4239f6-7066-4382-8058-776bf6986ee8",
        "colab": {
          "base_uri": "https://localhost:8080/",
          "height": 68
        }
      },
      "source": [
        "U_keb = A / np.linalg.norm(A)\n",
        "U_keb"
      ],
      "execution_count": 123,
      "outputs": [
        {
          "output_type": "execute_result",
          "data": {
            "text/plain": [
              "array([[ 0.69876925, -0.31262152],\n",
              "       [ 0.61656567, -0.17723259],\n",
              "       [-0.03113487,  0.03814872]])"
            ]
          },
          "metadata": {
            "tags": []
          },
          "execution_count": 123
        }
      ]
    },
    {
      "cell_type": "code",
      "metadata": {
        "id": "7gJBWWbV9Rig",
        "outputId": "ef897a55-90a3-4691-ee41-7c168d1233cb",
        "colab": {
          "base_uri": "https://localhost:8080/",
          "height": 1000
        }
      },
      "source": [
        "xi_hat =  np.matmul(U_keb.T,x)\n",
        "xi_hat"
      ],
      "execution_count": 126,
      "outputs": [
        {
          "output_type": "execute_result",
          "data": {
            "text/plain": [
              "array([[-0.60902015, -1.84013069,  0.61944822, -0.55408351,  2.20861336,\n",
              "         0.94016378, -0.89497047,  0.0775232 ,  1.44014347,  2.8428486 ,\n",
              "         0.88171778, -0.12732421,  1.15024994, -2.13100026, -0.0476881 ,\n",
              "         2.21631334,  0.96282705,  0.28272273,  0.60157725, -0.31036992,\n",
              "         2.27456869,  0.83149568, -1.82403636,  1.17394166,  0.93334281,\n",
              "        -0.37747365, -0.47343126,  2.74342137, -0.34321984,  0.64179303,\n",
              "        -0.55024745,  2.46407693,  0.88862162, -3.93791728,  2.96281735,\n",
              "         3.57044755,  2.25882027,  1.16237316, -2.12804775, -2.12460818,\n",
              "        -0.72223057,  1.602419  ,  2.27856823,  2.41455405, -3.32310091,\n",
              "         1.26570993,  1.49533133, -2.36838179, -1.27535362,  0.19448043,\n",
              "         0.66437021,  2.29942983,  2.8479071 ,  2.46336655, -3.98391106,\n",
              "        -2.17587151,  1.05388816, -0.94883808,  0.83979341,  2.37988119,\n",
              "         0.76740523, -1.45276706, -0.95227806, -1.53191246,  2.26176061,\n",
              "        -1.07733211,  2.64864847, -0.87159777, -3.68211834, -0.83158426,\n",
              "         1.55230698, -1.36244166,  0.07546468,  2.45473162, -1.17906778,\n",
              "         0.5900949 ,  2.53530797, -1.29098285, -0.08040179, -1.05527934,\n",
              "        -0.72196675, -0.61714451,  1.11060663,  0.62967023,  2.19845603,\n",
              "        -0.70354001, -2.30369028, -1.08017607,  2.49635637, -0.41032474,\n",
              "         0.58033889, -2.35817475,  1.63116659, -1.04249352,  2.77437803,\n",
              "         0.0459883 ,  1.39206708, -0.34244807,  0.46368241, -0.55876559,\n",
              "        -3.79908926, -0.55337683, -0.52633872, -2.44258922, -0.81394106,\n",
              "         0.82179159,  2.55905526, -0.03174018, -2.86728379, -0.42596667,\n",
              "         0.97668522,  0.83212569, -0.98249504,  0.81589221, -2.19927303,\n",
              "        -1.24410776, -1.54691091, -0.10709569, -0.96989185, -1.00524231,\n",
              "        -0.37682248, -0.01962278,  1.72965267,  4.11466335, -0.79553224,\n",
              "         0.42376303, -1.50545716, -0.66826565, -0.6780392 ,  0.27861184,\n",
              "        -0.09076361,  1.54497675, -2.22454364,  3.64877804, -0.88375166,\n",
              "        -0.98718361,  1.7751535 ,  0.0265779 , -1.20971766,  0.05217699,\n",
              "        -1.22654822,  0.95324944, -1.71534253,  0.39240242,  2.0208067 ,\n",
              "         2.30730296,  1.39349546,  0.95407627,  2.89934211,  1.71225997,\n",
              "        -0.34016275, -0.21420533,  0.79254464,  0.66267043,  0.01402671,\n",
              "        -3.1868616 ,  1.28156877,  0.0425999 ,  0.66097284,  1.36753826,\n",
              "         2.27492542, -2.57966816, -3.45489112, -0.91691592,  0.99458159,\n",
              "         0.64359393,  0.92561086, -0.59563964, -1.9235381 ,  3.01116673,\n",
              "        -1.38548938,  2.50631483, -2.59414022,  0.26652107,  0.94935339,\n",
              "         2.25962115,  0.8324033 , -1.9978396 ,  0.9391122 , -1.12949227,\n",
              "        -0.92424032, -1.60342225, -0.32800096, -0.89417312, -0.94167672,\n",
              "        -0.56726703,  1.25793718, -0.20180794, -2.77941076,  1.21194897,\n",
              "         0.92096201, -1.83829375,  1.85114148, -0.99388372, -0.90170017,\n",
              "        -1.01697912, -0.71724113, -1.12822993, -2.12022508,  0.91195208,\n",
              "        -0.26187496,  0.11894247, -2.73054092,  0.33430032, -1.93865729,\n",
              "        -3.97114327,  0.52958422, -0.9500364 ,  0.01992763,  0.79780186,\n",
              "        -0.62664379, -1.18193331,  0.30189959,  0.4423022 , -2.03192401,\n",
              "         1.12079807,  1.45526213,  1.30830885,  0.45288355, -2.31890036,\n",
              "        -1.39166416,  0.19793761,  1.22643593,  1.24296616,  2.2763777 ,\n",
              "        -2.16239443,  1.47126939, -1.91828062, -0.84424857,  0.93663645,\n",
              "         0.88046917,  3.09772016, -0.88877803, -2.31812761, -0.96867233,\n",
              "         2.62183247, -0.27863591, -0.59743125, -0.52697183,  1.65868197,\n",
              "        -0.72810665, -0.24025675,  0.14557708, -0.43682258, -1.46880149,\n",
              "        -1.60441305,  2.06897061,  2.62095158,  1.30539365, -1.10876084],\n",
              "       [ 0.22164138,  0.70676475, -0.23358977,  0.21689979, -0.84485321,\n",
              "        -0.35820891,  0.33180275, -0.0393126 , -0.54597135, -1.07997529,\n",
              "        -0.34377496,  0.05235376, -0.43326272,  0.81101163,  0.01620077,\n",
              "        -0.83009115, -0.35725439, -0.12237455, -0.21480237,  0.12307866,\n",
              "        -0.89560798, -0.30331752,  0.68766358, -0.44240388, -0.34091583,\n",
              "         0.13858779,  0.16870186, -1.05124114,  0.1217158 , -0.22697493,\n",
              "         0.20272558, -0.9500891 , -0.3514795 ,  1.49878065, -1.10920231,\n",
              "        -1.37507622, -0.83732226, -0.42998556,  0.80422817,  0.80129153,\n",
              "         0.28712633, -0.60800535, -0.87606397, -0.92621081,  1.25074826,\n",
              "        -0.47822467, -0.56929374,  0.89442986,  0.4850458 , -0.08615095,\n",
              "        -0.2659516 , -0.86309877, -1.06513619, -0.9357819 ,  1.49901392,\n",
              "         0.83765267, -0.42017812,  0.35898768, -0.33065644, -0.89217041,\n",
              "        -0.28964567,  0.55223043,  0.35643133,  0.58507639, -0.85917807,\n",
              "         0.41880381, -1.01564178,  0.31226867,  1.38154009,  0.32263519,\n",
              "        -0.58087657,  0.52843377, -0.02815457, -0.92140091,  0.43030712,\n",
              "        -0.22946014, -0.98492374,  0.4872057 ,  0.01533542,  0.41229469,\n",
              "         0.27577957,  0.22499052, -0.42283704, -0.23156427, -0.83973089,\n",
              "         0.28740692,  0.87253496,  0.41350566, -0.95294716,  0.15293223,\n",
              "        -0.22676468,  0.90110764, -0.62262234,  0.37584072, -1.06690585,\n",
              "        -0.0116935 , -0.52817916,  0.13606025, -0.19007294,  0.21858087,\n",
              "         1.45631912,  0.20660158,  0.19760916,  0.94349278,  0.30405633,\n",
              "        -0.31260117, -0.96180848,  0.01298035,  1.09235956,  0.15325421,\n",
              "        -0.38886364, -0.32143752,  0.36612204, -0.29831422,  0.84558115,\n",
              "         0.46338344,  0.58129385,  0.04599304,  0.37044412,  0.39051453,\n",
              "         0.15650723,  0.02278561, -0.65374562, -1.56598891,  0.30982787,\n",
              "        -0.15650162,  0.582696  ,  0.25245678,  0.2730509 , -0.10550526,\n",
              "         0.05258529, -0.60163359,  0.84121218, -1.39620997,  0.3446468 ,\n",
              "         0.36969796, -0.67936924, -0.0137943 ,  0.45068595, -0.0346235 ,\n",
              "         0.46841561, -0.38252189,  0.64652316, -0.14152278, -0.775788  ,\n",
              "        -0.86524569, -0.53272511, -0.34925419, -1.11047903, -0.66977982,\n",
              "         0.15047569,  0.0841327 , -0.3086714 , -0.24951732, -0.01471674,\n",
              "         1.20288443, -0.48253234, -0.01211867, -0.25885362, -0.53513886,\n",
              "        -0.85497556,  0.98240898,  1.31027552,  0.36685061, -0.39533327,\n",
              "        -0.24793897, -0.34663482,  0.19887983,  0.72462493, -1.15688631,\n",
              "         0.53840912, -0.96321893,  0.9998675 , -0.11599122, -0.379335  ,\n",
              "        -0.85766013, -0.31691236,  0.7620163 , -0.3440324 ,  0.43674674,\n",
              "         0.3552554 ,  0.6127611 ,  0.13695433,  0.31574668,  0.36666055,\n",
              "         0.20988748, -0.47206292,  0.07788925,  1.05403287, -0.45252618,\n",
              "        -0.35039559,  0.70603828, -0.69231483,  0.37731331,  0.35994954,\n",
              "         0.38025548,  0.27210436,  0.41646749,  0.80193867, -0.34454065,\n",
              "         0.09094392, -0.02559713,  1.02775943, -0.12244405,  0.73911184,\n",
              "         1.5153437 , -0.19345634,  0.35939406, -0.02091682, -0.30736617,\n",
              "         0.2252851 ,  0.446273  , -0.10908796, -0.15065203,  0.78452298,\n",
              "        -0.44190726, -0.55392532, -0.49420615, -0.1721508 ,  0.89077564,\n",
              "         0.52508794, -0.08663862, -0.45781026, -0.46930722, -0.86852608,\n",
              "         0.80663919, -0.56576662,  0.74724995,  0.33597139, -0.36095771,\n",
              "        -0.33952734, -1.17960564,  0.32703867,  0.87631502,  0.37127263,\n",
              "        -0.98275491,  0.09688604,  0.22140806,  0.20194989, -0.65060413,\n",
              "         0.26289222,  0.07794068, -0.0568169 ,  0.16226777,  0.53533019,\n",
              "         0.61283092, -0.79888321, -0.99184002, -0.50588314,  0.42943853]])"
            ]
          },
          "metadata": {
            "tags": []
          },
          "execution_count": 126
        }
      ]
    },
    {
      "cell_type": "code",
      "metadata": {
        "id": "krR26r-kA24d",
        "outputId": "315993f6-f16c-4321-97eb-39915314236b",
        "colab": {
          "base_uri": "https://localhost:8080/",
          "height": 1000
        }
      },
      "source": [
        "xi_hat_reconstruct = np.matmul(U_keb, xi_hat)\n",
        "xi_hat_reconstruct"
      ],
      "execution_count": 129,
      "outputs": [
        {
          "output_type": "execute_result",
          "data": {
            "text/plain": [
              "array([[-4.94854418e-01, -1.50677661e+00,  5.05876558e-01,\n",
              "        -4.54984063e-01,  1.80743040e+00,  7.68941352e-01,\n",
              "        -7.29106524e-01,  6.64607893e-02,  1.17701037e+00,\n",
              "         2.32411870e+00,  7.23588723e-01, -1.05337157e-01,\n",
              "         9.39206538e-01, -1.74261714e+00, -3.83876894e-02,\n",
              "         1.80819597e+00,  7.84479345e-01,  2.35814865e-01,\n",
              "         4.87515527e-01, -2.55353996e-01,  1.86938498e+00,\n",
              "         6.75847196e-01, -1.48955896e+00,  9.58619308e-01,\n",
              "         7.58768881e-01, -3.07092503e-01, -3.83559040e-01,\n",
              "         2.24565909e+00, -2.77882446e-01,  5.19422483e-01,\n",
              "        -4.47872379e-01,  2.01883948e+00,  7.30821519e-01,\n",
              "        -3.22024659e+00,  2.41708617e+00,  2.92479737e+00,\n",
              "         1.84015910e+00,  9.46653364e-01, -1.73843336e+00,\n",
              "        -1.73511184e+00, -5.94434382e-01,  1.30979668e+00,\n",
              "         1.86606987e+00,  1.97676955e+00, -2.71309156e+00,\n",
              "         1.03394250e+00,  1.22286503e+00, -1.93457039e+00,\n",
              "        -1.04281365e+00,  1.62829587e-01,  5.47383665e-01,\n",
              "         1.87659411e+00,  2.32301440e+00,  2.01387035e+00,\n",
              "        -3.25245855e+00, -1.78230035e+00,  8.67781360e-01,\n",
              "        -7.75246147e-01,  6.90192126e-01,  1.94189946e+00,\n",
              "         6.26788648e-01, -1.18778806e+00, -7.76850728e-01,\n",
              "        -1.25336079e+00,  1.84904632e+00, -8.83733635e-01,\n",
              "         2.16830558e+00, -7.06667626e-01, -3.00485023e+00,\n",
              "        -6.81948213e-01,  1.26629890e+00, -1.11723211e+00,\n",
              "         6.15341251e-02,  2.00334073e+00, -9.58419573e-01,\n",
              "         4.84074352e-01,  2.07950361e+00, -1.05441010e+00,\n",
              "        -6.09764830e-02, -8.66288944e-01, -5.90702790e-01,\n",
              "        -5.01578486e-01,  9.08245724e-01,  5.12386169e-01,\n",
              "         1.79873142e+00, -5.81461716e-01, -1.88252113e+00,\n",
              "        -8.84064590e-01,  2.04228886e+00, -3.34532216e-01,\n",
              "         4.76414490e-01, -1.92952564e+00,  1.33445419e+00,\n",
              "        -8.45958310e-01,  2.27218779e+00,  3.57908473e-02,\n",
              "         1.13785384e+00, -2.81827542e-01,  3.83427904e-01,\n",
              "        -4.58781295e-01, -3.10996345e+00, -4.51270816e-01,\n",
              "        -4.29566190e-01, -2.00176238e+00, -6.63811535e-01,\n",
              "         6.71968548e-01,  2.08887115e+00, -2.62370018e-02,\n",
              "        -2.34506485e+00, -3.45562975e-01,  8.04044744e-01,\n",
              "         6.81952129e-01, -8.00994951e-01,  6.63379836e-01,\n",
              "        -1.80113123e+00, -1.01420788e+00, -1.26265874e+00,\n",
              "        -8.92135901e-02, -7.93539405e-01, -8.24515660e-01,\n",
              "        -3.12239492e-01, -2.08350652e-02,  1.41300305e+00,\n",
              "         3.36476206e+00, -6.52752326e-01,  3.45038346e-01,\n",
              "        -1.23413048e+00, -5.45886909e-01, -5.59154532e-01,\n",
              "         2.27668599e-01, -7.98621111e-02,  1.26766585e+00,\n",
              "        -1.81742372e+00,  2.98613918e+00, -7.25282492e-01,\n",
              "        -8.05389091e-01,  1.45280813e+00,  2.28842140e-02,\n",
              "        -9.86207628e-01,  4.72837246e-02, -1.00351098e+00,\n",
              "         7.85685973e-01, -1.40074566e+00,  3.18441811e-01,\n",
              "         1.65460560e+00,  1.88276678e+00,  1.14027311e+00,\n",
              "         7.75863536e-01,  2.37313075e+00,  1.40586220e+00,\n",
              "        -2.84737212e-01, -1.75981790e-01,  6.50303146e-01,\n",
              "         5.41058199e-01,  1.44022026e-02, -2.60292845e+00,\n",
              "         1.04637084e+00,  3.35560568e-02,  5.42790709e-01,\n",
              "         1.12288961e+00,  1.85693169e+00, -2.10971497e+00,\n",
              "        -2.82379200e+00, -7.55398047e-01,  8.18572722e-01,\n",
              "         5.27234709e-01,  7.55153909e-01, -4.78388781e-01,\n",
              "        -1.57064262e+00,  2.46577828e+00, -1.13645565e+00,\n",
              "         2.05245870e+00, -2.12528551e+00,  2.22498080e-01,\n",
              "         7.81967242e-01,  1.84707679e+00,  6.80731453e-01,\n",
              "        -1.63425158e+00,  7.63774663e-01, -9.25790894e-01,\n",
              "        -7.56891200e-01, -1.31198447e+00, -2.72011853e-01,\n",
              "        -7.23529886e-01, -7.72640716e-01, -4.62004100e-01,\n",
              "         1.02658485e+00, -1.65367039e-01, -2.27168013e+00,\n",
              "         9.88342092e-01,  7.53081136e-01, -1.50526590e+00,\n",
              "         1.50995326e+00, -8.12451640e-01, -7.42608325e-01,\n",
              "        -8.29509787e-01, -5.86251728e-01, -9.18569078e-01,\n",
              "        -1.73225138e+00,  7.44954893e-01, -2.11421193e-01,\n",
              "         9.11155538e-02, -2.22931775e+00,  2.71877431e-01,\n",
              "        -1.58573636e+00, -3.24864186e+00,  4.30535787e-01,\n",
              "        -7.76210540e-01,  2.04638646e-02,  6.53568686e-01,\n",
              "        -5.08308379e-01, -9.65413196e-01,  2.45061394e-01,\n",
              "         3.56164239e-01, -1.66510478e+00,  9.21328943e-01,\n",
              "         1.19006141e+00,  1.06870547e+00,  3.70279147e-01,\n",
              "        -1.89885190e+00, -1.13660591e+00,  1.65397815e-01,\n",
              "         1.00011705e+00,  1.01526207e+00,  1.86218268e+00,\n",
              "        -1.76318751e+00,  1.20494863e+00, -1.57404192e+00,\n",
              "        -6.94966825e-01,  7.67335896e-01,  7.21388338e-01,\n",
              "         2.53336170e+00, -7.23290082e-01, -1.89379123e+00,\n",
              "        -7.92946253e-01,  2.13928624e+00, -2.24990866e-01,\n",
              "        -4.86683507e-01, -4.31365588e-01,  1.36242881e+00,\n",
              "        -5.90964302e-01, -1.92249961e-01,  1.19486974e-01,\n",
              "        -3.55966580e-01, -1.19370905e+00, -1.31269864e+00,\n",
              "         1.69548112e+00,  2.14151090e+00,  1.07031890e+00,\n",
              "        -9.09019705e-01],\n",
              "       [-4.14782991e-01, -1.25982316e+00,  4.23330227e-01,\n",
              "        -3.80070584e-01,  1.51149070e+00,  6.43159002e-01,\n",
              "        -6.10614327e-01,  5.47656144e-02,  9.84706943e-01,\n",
              "         1.94420967e+00,  6.04565041e-01, -8.77825309e-02,\n",
              "         7.85992898e-01, -1.45763929e+00, -3.22741517e-02,\n",
              "         1.51362192e+00,  6.56963225e-01,  1.96005885e-01,\n",
              "         4.08981860e-01, -2.13176989e-01,  1.56115189e+00,\n",
              "         5.66429440e-01, -1.24651460e+00,  8.02220512e-01,\n",
              "         6.35888531e-01, -2.57299565e-01, -3.21800930e-01,\n",
              "         1.87781362e+00, -2.33189574e-01,  4.35934905e-01,\n",
              "        -3.75193269e-01,  1.68765199e+00,  6.10187207e-01,\n",
              "        -2.69361738e+00,  2.02335826e+00,  2.44512370e+00,\n",
              "         1.54111183e+00,  7.92886843e-01, -1.45461663e+00,\n",
              "        -1.45197544e+00, -4.96190717e-01,  1.09575490e+00,\n",
              "         1.56015403e+00,  1.65288587e+00, -2.27058329e+00,\n",
              "         8.65150284e-01,  1.02286737e+00, -1.61878503e+00,\n",
              "        -8.72305181e-01,  1.35178714e-01,  4.56763152e-01,\n",
              "         1.57071872e+00,  1.94469859e+00,  1.68467829e+00,\n",
              "        -2.72201691e+00, -1.49002703e+00,  7.24260514e-01,\n",
              "        -6.48645302e-01,  5.76390880e-01,  1.62547471e+00,\n",
              "         5.24490372e-01, -9.93599521e-01, -6.50313206e-01,\n",
              "        -1.04821924e+00,  1.54679830e+00, -7.38471678e-01,\n",
              "         1.81307054e+00, -5.92741448e-01, -2.51512169e+00,\n",
              "        -5.69907776e-01,  1.06004945e+00, -9.33690441e-01,\n",
              "         5.15188408e-02,  1.67680552e+00, -8.03237160e-01,\n",
              "         4.04500075e-01,  1.73774444e+00, -8.82324434e-01,\n",
              "        -5.22909220e-02, -7.23721067e-01, -4.94017038e-01,\n",
              "        -4.20385772e-01,  7.59702427e-01,  4.29273783e-01,\n",
              "         1.50432020e+00, -4.84716493e-01, -1.57501797e+00,\n",
              "        -7.39286161e-01,  1.70806093e+00, -2.80096722e-01,\n",
              "         3.98007128e-01, -1.61367523e+00,  1.11607029e+00,\n",
              "        -7.09376938e-01,  1.89967674e+00,  3.04272747e-02,\n",
              "         9.51911333e-01, -2.35256033e-01,  3.19577777e-01,\n",
              "        -3.83255333e-01, -2.60049522e+00, -3.77809692e-01,\n",
              "        -3.59545170e-01, -1.67323433e+00, -5.55736804e-01,\n",
              "         5.62091599e-01,  1.74828942e+00, -2.18704491e-02,\n",
              "        -1.96147047e+00, -2.89798067e-01,  6.71109889e-01,\n",
              "         5.70029337e-01, -6.70661469e-01,  5.55922131e-01,\n",
              "        -1.50586079e+00, -8.49200778e-01, -1.05679638e+00,\n",
              "        -7.41829922e-02, -6.63656790e-01, -6.89009799e-01,\n",
              "        -2.60073988e-01, -1.61370833e-02,  1.18230949e+00,\n",
              "         2.81450443e+00, -5.45409464e-01,  2.89014921e-01,\n",
              "        -1.03148593e+00, -4.56773226e-01, -4.66449212e-01,\n",
              "         1.90481465e-01, -6.52815510e-02,  1.05920870e+00,\n",
              "        -1.52066745e+00,  2.49716518e+00, -6.05973579e-01,\n",
              "        -6.74186052e-01,  1.21490508e+00,  1.88318198e-02,\n",
              "        -8.25746616e-01,  3.83069510e-02, -8.39266034e-01,\n",
              "         6.55536227e-01, -1.17220629e+00,  2.67024310e-01,\n",
              "         1.38345495e+00,  1.57595353e+00,  9.53597709e-01,\n",
              "         6.50149899e-01,  1.98444788e+00,  1.17442753e+00,\n",
              "        -2.36401873e-01, -1.46982709e-01,  5.43362448e-01,\n",
              "         4.52802435e-01,  1.12566734e-02, -2.17809978e+00,\n",
              "         8.75691763e-01,  2.84134592e-02,  4.53410461e-01,\n",
              "         9.38021191e-01,  1.55417045e+00, -1.76464971e+00,\n",
              "        -2.36239078e+00, -6.30356764e-01,  6.83290805e-01,\n",
              "         4.40760791e-01,  6.32134865e-01, -4.02498943e-01,\n",
              "        -1.31441471e+00,  2.06161999e+00, -9.49668828e-01,\n",
              "         1.71602147e+00, -1.77666691e+00,  1.84885166e-01,\n",
              "         6.52569235e-01,  1.54521015e+00,  5.69398496e-01,\n",
              "        -1.36685344e+00,  6.39998098e-01, -7.73811912e-01,\n",
              "        -6.32817688e-01, -1.09721635e+00, -2.26506900e-01,\n",
              "        -6.07277049e-01, -6.45589738e-01, -3.86956277e-01,\n",
              "         8.59265814e-01, -1.38232361e-01, -1.90049823e+00,\n",
              "         8.27448513e-01,  6.29935077e-01, -1.25856181e+00,\n",
              "         1.26405104e+00, -6.79666795e-01, -6.19752159e-01,\n",
              "        -6.94428079e-01, -4.90452020e-01, -7.69439452e-01,\n",
              "        -1.44938767e+00,  6.23342177e-01, -1.77581334e-01,\n",
              "         7.78724893e-02, -1.86571026e+00,  2.27819179e-01,\n",
              "        -1.32630423e+00, -2.71703890e+00,  3.60810220e-01,\n",
              "        -6.49456169e-01,  1.59938355e-02,  5.46372539e-01,\n",
              "        -4.26294907e-01, -8.07833622e-01,  2.05474864e-01,\n",
              "         2.99408798e-01, -1.39185763e+00,  7.69365978e-01,\n",
              "         9.95438292e-01,  8.94247757e-01,  3.09743184e-01,\n",
              "        -1.58762882e+00, -9.51115036e-01,  1.37396724e-01,\n",
              "         8.37317189e-01,  8.49546798e-01,  1.55746747e+00,\n",
              "        -1.47622092e+00,  1.00740648e+00, -1.31518302e+00,\n",
              "        -5.80079762e-01,  6.41471348e-01,  6.03042376e-01,\n",
              "         2.11901247e+00, -6.05951930e-01, -1.58458949e+00,\n",
              "        -6.63051715e-01,  1.79070809e+00, -1.88968699e-01,\n",
              "        -4.07596319e-01, -3.60704838e-01,  1.13799462e+00,\n",
              "        -4.95518632e-01, -1.61947691e-01,  9.98276371e-02,\n",
              "        -2.98088941e-01, -1.00049053e+00, -1.09783962e+00,\n",
              "         1.41724439e+00,  1.79177514e+00,  8.94519891e-01,\n",
              "        -7.59734372e-01],\n",
              "       [ 2.74170950e-02,  8.42543902e-02, -2.81975872e-02,\n",
              "         2.55257646e-02, -1.00994947e-01, -4.29370834e-02,\n",
              "         4.05226347e-02, -3.91339946e-03, -6.56667803e-02,\n",
              "        -1.29711381e-01, -4.05667383e-02,  5.96145111e-03,\n",
              "        -5.23412944e-02,  9.72874599e-02,  2.10280127e-03,\n",
              "        -1.00671531e-01, -4.36062874e-02, -1.34709661e-02,\n",
              "        -2.69244616e-02,  1.43586188e-02, -1.04984686e-01,\n",
              "        -3.74596806e-02,  8.30246106e-02, -5.34276563e-02,\n",
              "        -4.20650047e-02,  1.70395377e-02,  2.11759784e-02,\n",
              "        -1.25519557e-01,  1.53294052e-02, -2.86409424e-02,\n",
              "         2.48656013e-02, -1.12963384e-01, -4.10756067e-02,\n",
              "         1.79783085e-01, -1.34561565e-01, -1.63622798e-01,\n",
              "        -1.02270836e-01, -5.25937299e-02,  9.69367538e-02,\n",
              "         9.67176342e-02,  3.34400528e-02, -7.30857244e-02,\n",
              "        -1.04363632e-01, -1.10510570e-01,  1.51178742e-01,\n",
              "        -5.76513660e-02, -6.82747660e-02,  1.07860601e-01,\n",
              "         5.82118386e-02, -9.34167025e-03, -3.08307896e-02,\n",
              "        -1.04518550e-01, -1.29302784e-01, -1.12395465e-01,\n",
              "         1.81223994e-01,  9.97008418e-02, -4.88419225e-02,\n",
              "         4.32368657e-02, -3.87609737e-02, -1.08132438e-01,\n",
              "        -3.49426696e-02,  6.62985895e-02,  4.32464473e-02,\n",
              "         7.00158024e-02, -1.03196154e-01,  4.95194188e-02,\n",
              "        -1.21210745e-01,  3.90497286e-02,  1.67346242e-01,\n",
              "         3.81993829e-02, -7.04905656e-02,  6.25785086e-02,\n",
              "        -3.42364352e-03, -1.11578002e-01,  5.31257815e-02,\n",
              "        -2.71261356e-02, -1.16510050e-01,  5.87808500e-02,\n",
              "         3.08832557e-03,  4.85844940e-02,  3.29989744e-02,\n",
              "         2.77978113e-02, -5.07092791e-02, -2.84385780e-02,\n",
              "        -1.00483289e-01,  3.28688291e-02,  1.05011177e-01,\n",
              "         4.94058473e-02, -1.14077432e-01,  1.86095739e-02,\n",
              "        -2.67195550e-02,  1.07797554e-01, -7.45383960e-02,\n",
              "         4.67957369e-02, -1.27080977e-01, -1.87793137e-03,\n",
              "        -6.34911789e-02,  1.58525986e-02, -2.16877284e-02,\n",
              "         2.57356713e-02,  1.73840840e-01,  2.51108988e-02,\n",
              "         2.39260213e-02,  1.12042726e-01,  3.69413045e-02,\n",
              "        -3.75117044e-02, -1.16367601e-01,  1.48341014e-03,\n",
              "         1.30944612e-01,  1.91088665e-02, -4.52436124e-02,\n",
              "        -3.81705505e-02,  4.45569373e-02, -3.67829994e-02,\n",
              "         1.00731907e-01,  5.64126116e-02,  7.03384780e-02,\n",
              "         5.08898545e-03,  4.43294204e-02,  4.61957125e-02,\n",
              "         1.77028675e-02,  1.48019428e-03, -7.87920602e-02,\n",
              "        -1.87849959e-01,  3.65883252e-02, -1.91641408e-02,\n",
              "         6.91013114e-02,  3.04372636e-02,  3.15272010e-02,\n",
              "        -1.26994323e-02,  4.83197414e-03, -7.10541933e-02,\n",
              "         1.01352033e-01, -1.66867833e-01,  4.06633226e-02,\n",
              "         4.48393321e-02, -8.11862308e-02, -1.35373420e-03,\n",
              "         5.48574877e-02, -2.94536551e-03,  5.60578686e-02,\n",
              "        -4.42720127e-02,  7.80709882e-02, -1.76163090e-02,\n",
              "        -9.25128620e-02, -1.04845581e-01, -6.37090732e-02,\n",
              "        -4.30286360e-02, -1.32633978e-01, -7.88622250e-02,\n",
              "         1.63313762e-02,  9.87880862e-03, -3.64511889e-02,\n",
              "        -3.01509202e-02, -9.98144374e-04,  1.45111006e-01,\n",
              "        -5.83094614e-02, -1.78865378e-03, -3.04542341e-02,\n",
              "        -6.29929811e-02, -1.03445718e-01,  1.17795264e-01,\n",
              "         1.57552901e-01,  4.25429342e-02, -4.60476214e-02,\n",
              "        -2.94967644e-02, -4.20424434e-02,  2.61321706e-02,\n",
              "         8.75326119e-02, -1.37886000e-01,  6.36766428e-02,\n",
              "        -1.14779342e-01,  1.18911870e-01, -1.27230141e-02,\n",
              "        -4.40291338e-02, -1.03071635e-01, -3.80065649e-02,\n",
              "         9.12724121e-02, -4.23635272e-02,  5.18279179e-02,\n",
              "         4.23286360e-02,  7.32983863e-02,  1.54368976e-02,\n",
              "         3.98852908e-02,  4.33066079e-02,  2.56687209e-02,\n",
              "        -5.71743000e-02,  9.25463819e-03,  1.26746583e-01,\n",
              "        -5.49971615e-02, -4.20411708e-02,  8.41694834e-02,\n",
              "        -8.40459640e-02,  4.53384547e-02,  4.18059270e-02,\n",
              "         4.61697673e-02,  3.27116387e-02,  5.10149876e-02,\n",
              "         9.66058549e-02, -4.15372893e-02,  1.16228354e-02,\n",
              "        -4.67975544e-03,  1.24222729e-01, -1.50794790e-02,\n",
              "         8.85560027e-02,  1.81449430e-01, -2.38686449e-02,\n",
              "         4.32896781e-02, -1.41839409e-03, -3.65650789e-02,\n",
              "         2.81048078e-02,  5.38240774e-02, -1.35611690e-02,\n",
              "        -1.95182010e-02,  9.31922265e-02, -5.17540923e-02,\n",
              "        -6.64409316e-02, -5.95873508e-02, -2.06678008e-02,\n",
              "         1.06180599e-01,  6.33607077e-02, -9.46791326e-03,\n",
              "        -5.56497921e-02, -5.66030529e-02, -1.04007870e-01,\n",
              "         9.80981106e-02, -6.73910456e-02,  8.82320361e-02,\n",
              "         3.91024433e-02, -4.29321237e-02, -4.03658220e-02,\n",
              "        -1.41447543e-01,  4.01480903e-02,  1.05604886e-01,\n",
              "         4.43230575e-02, -1.19121241e-01,  1.23713698e-02,\n",
              "         2.70473750e-02,  2.41113261e-02, -7.64625534e-02,\n",
              "         3.26985037e-02,  1.04536987e-02, -6.70001482e-03,\n",
              "         1.97907194e-02,  6.61530970e-02,  7.33318983e-02,\n",
              "        -9.48934917e-02, -1.19440400e-01, -5.99420488e-02,\n",
              "         5.09036487e-02]])"
            ]
          },
          "metadata": {
            "tags": []
          },
          "execution_count": 129
        }
      ]
    },
    {
      "cell_type": "markdown",
      "metadata": {
        "id": "GOZ3BAR3BOo9"
      },
      "source": [
        "PCA error"
      ]
    },
    {
      "cell_type": "code",
      "metadata": {
        "id": "4m_QIFXlBOBR"
      },
      "source": [
        ""
      ],
      "execution_count": null,
      "outputs": []
    }
  ]
}