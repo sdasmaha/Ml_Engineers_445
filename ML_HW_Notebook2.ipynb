{
  "nbformat": 4,
  "nbformat_minor": 0,
  "metadata": {
    "colab": {
      "name": "ML_HW_Notebook2.ipynb",
      "provenance": [],
      "collapsed_sections": [],
      "toc_visible": true,
      "authorship_tag": "ABX9TyOwnbyYjc3GXjgWNiieEfdk",
      "include_colab_link": true
    },
    "kernelspec": {
      "name": "python3",
      "display_name": "Python 3"
    }
  },
  "cells": [
    {
      "cell_type": "markdown",
      "metadata": {
        "id": "view-in-github",
        "colab_type": "text"
      },
      "source": [
        "<a href=\"https://colab.research.google.com/github/sdasmaha/Ml_Engineers_445/blob/master/ML_HW_Notebook2.ipynb\" target=\"_parent\"><img src=\"https://colab.research.google.com/assets/colab-badge.svg\" alt=\"Open In Colab\"/></a>"
      ]
    },
    {
      "cell_type": "markdown",
      "metadata": {
        "id": "__nIqyeEZiIx"
      },
      "source": [
        "Notebook Excercise #2\n",
        "#Srinjoy DasMahapatra\n",
        "\n",
        "IDE => Google Colab Pro"
      ]
    },
    {
      "cell_type": "code",
      "metadata": {
        "id": "698H32EltJsH"
      },
      "source": [
        "import numpy as np\n",
        "import pandas as pd\n",
        "from scipy import stats as sps\n",
        "from matplotlib import pyplot as plt\n",
        "from mpl_toolkits.mplot3d import Axes3D\n",
        "from IPython.display import display, Latex\n"
      ],
      "execution_count": 1,
      "outputs": []
    },
    {
      "cell_type": "code",
      "metadata": {
        "id": "x2JoYJYXX0cA",
        "outputId": "39f85b76-2f5c-4144-e43a-ce68073a72e3",
        "colab": {
          "base_uri": "https://localhost:8080/",
          "height": 34
        }
      },
      "source": [
        "from google.colab import drive\n",
        "drive.mount(\"/content/gdrive\")"
      ],
      "execution_count": 2,
      "outputs": [
        {
          "output_type": "stream",
          "text": [
            "Mounted at /content/gdrive\n"
          ],
          "name": "stdout"
        }
      ]
    },
    {
      "cell_type": "code",
      "metadata": {
        "id": "d9oK_Oksa_oy"
      },
      "source": [
        "df_iot_tel = pd.read_csv(\"/content/gdrive/My Drive/Colab Notebooks/BAJWA-ML/Notebook 2/iot_telemetry_dataset.csv\")"
      ],
      "execution_count": 3,
      "outputs": []
    },
    {
      "cell_type": "markdown",
      "metadata": {
        "id": "ju2ZOFsatJsK"
      },
      "source": [
        "# 1. Feature Engineering for _Environmental Sensor Telemetry Data_"
      ]
    },
    {
      "cell_type": "markdown",
      "metadata": {
        "id": "sQyqtBOBtJsL"
      },
      "source": [
        "## Problem 1.1"
      ]
    },
    {
      "cell_type": "markdown",
      "metadata": {
        "id": "mmpfdkkGtJsL"
      },
      "source": [
        "###(a)"
      ]
    },
    {
      "cell_type": "markdown",
      "metadata": {
        "id": "_sfIkhp3aL9O"
      },
      "source": [
        "From Videos ML"
      ]
    },
    {
      "cell_type": "markdown",
      "metadata": {
        "id": "e_9b2FzZtJsM"
      },
      "source": [
        "### (b)"
      ]
    },
    {
      "cell_type": "code",
      "metadata": {
        "id": "qYqEPQZebLxt",
        "outputId": "c779d629-072f-4dab-e80c-13861b918e26",
        "colab": {
          "base_uri": "https://localhost:8080/",
          "height": 204
        }
      },
      "source": [
        "df_iot_tel.head(5)"
      ],
      "execution_count": 4,
      "outputs": [
        {
          "output_type": "execute_result",
          "data": {
            "text/html": [
              "<div>\n",
              "<style scoped>\n",
              "    .dataframe tbody tr th:only-of-type {\n",
              "        vertical-align: middle;\n",
              "    }\n",
              "\n",
              "    .dataframe tbody tr th {\n",
              "        vertical-align: top;\n",
              "    }\n",
              "\n",
              "    .dataframe thead th {\n",
              "        text-align: right;\n",
              "    }\n",
              "</style>\n",
              "<table border=\"1\" class=\"dataframe\">\n",
              "  <thead>\n",
              "    <tr style=\"text-align: right;\">\n",
              "      <th></th>\n",
              "      <th>ts</th>\n",
              "      <th>device</th>\n",
              "      <th>co</th>\n",
              "      <th>humidity</th>\n",
              "      <th>light</th>\n",
              "      <th>lpg</th>\n",
              "      <th>motion</th>\n",
              "      <th>smoke</th>\n",
              "      <th>temp</th>\n",
              "    </tr>\n",
              "  </thead>\n",
              "  <tbody>\n",
              "    <tr>\n",
              "      <th>0</th>\n",
              "      <td>1.594512e+09</td>\n",
              "      <td>b8:27:eb:bf:9d:51</td>\n",
              "      <td>0.004956</td>\n",
              "      <td>51.000000</td>\n",
              "      <td>False</td>\n",
              "      <td>0.007651</td>\n",
              "      <td>False</td>\n",
              "      <td>0.020411</td>\n",
              "      <td>22.700000</td>\n",
              "    </tr>\n",
              "    <tr>\n",
              "      <th>1</th>\n",
              "      <td>1.594512e+09</td>\n",
              "      <td>00:0f:00:70:91:0a</td>\n",
              "      <td>0.002840</td>\n",
              "      <td>76.000000</td>\n",
              "      <td>False</td>\n",
              "      <td>0.005114</td>\n",
              "      <td>False</td>\n",
              "      <td>0.013275</td>\n",
              "      <td>19.700001</td>\n",
              "    </tr>\n",
              "    <tr>\n",
              "      <th>2</th>\n",
              "      <td>1.594512e+09</td>\n",
              "      <td>b8:27:eb:bf:9d:51</td>\n",
              "      <td>0.004976</td>\n",
              "      <td>50.900000</td>\n",
              "      <td>False</td>\n",
              "      <td>0.007673</td>\n",
              "      <td>False</td>\n",
              "      <td>0.020475</td>\n",
              "      <td>22.600000</td>\n",
              "    </tr>\n",
              "    <tr>\n",
              "      <th>3</th>\n",
              "      <td>1.594512e+09</td>\n",
              "      <td>1c:bf:ce:15:ec:4d</td>\n",
              "      <td>0.004403</td>\n",
              "      <td>76.800003</td>\n",
              "      <td>True</td>\n",
              "      <td>0.007023</td>\n",
              "      <td>False</td>\n",
              "      <td>0.018628</td>\n",
              "      <td>27.000000</td>\n",
              "    </tr>\n",
              "    <tr>\n",
              "      <th>4</th>\n",
              "      <td>1.594512e+09</td>\n",
              "      <td>b8:27:eb:bf:9d:51</td>\n",
              "      <td>0.004967</td>\n",
              "      <td>50.900000</td>\n",
              "      <td>False</td>\n",
              "      <td>0.007664</td>\n",
              "      <td>False</td>\n",
              "      <td>0.020448</td>\n",
              "      <td>22.600000</td>\n",
              "    </tr>\n",
              "  </tbody>\n",
              "</table>\n",
              "</div>"
            ],
            "text/plain": [
              "             ts             device        co  ...  motion     smoke       temp\n",
              "0  1.594512e+09  b8:27:eb:bf:9d:51  0.004956  ...   False  0.020411  22.700000\n",
              "1  1.594512e+09  00:0f:00:70:91:0a  0.002840  ...   False  0.013275  19.700001\n",
              "2  1.594512e+09  b8:27:eb:bf:9d:51  0.004976  ...   False  0.020475  22.600000\n",
              "3  1.594512e+09  1c:bf:ce:15:ec:4d  0.004403  ...   False  0.018628  27.000000\n",
              "4  1.594512e+09  b8:27:eb:bf:9d:51  0.004967  ...   False  0.020448  22.600000\n",
              "\n",
              "[5 rows x 9 columns]"
            ]
          },
          "metadata": {
            "tags": []
          },
          "execution_count": 4
        }
      ]
    },
    {
      "cell_type": "code",
      "metadata": {
        "id": "N9LSZ0YzbRb0",
        "outputId": "2516a1e2-ee00-452e-be11-f5bfe25d6529",
        "colab": {
          "base_uri": "https://localhost:8080/",
          "height": 34
        }
      },
      "source": [
        "print(df_iot_tel.shape) "
      ],
      "execution_count": 5,
      "outputs": [
        {
          "output_type": "stream",
          "text": [
            "(405184, 9)\n"
          ],
          "name": "stdout"
        }
      ]
    },
    {
      "cell_type": "markdown",
      "metadata": {
        "id": "1w5nramnbn6h"
      },
      "source": [
        "There are **405,184** data samples in the dataset."
      ]
    },
    {
      "cell_type": "markdown",
      "metadata": {
        "id": "KZVXyzzdtJsP"
      },
      "source": [
        "### (c)\n",
        "\n"
      ]
    },
    {
      "cell_type": "code",
      "metadata": {
        "id": "lr8Wj911cgZL",
        "outputId": "1bcd4bc9-4395-4346-afeb-04a571c644ce",
        "colab": {
          "base_uri": "https://localhost:8080/",
          "height": 34
        }
      },
      "source": [
        "df_iot_tel['device'].dtypes"
      ],
      "execution_count": 6,
      "outputs": [
        {
          "output_type": "execute_result",
          "data": {
            "text/plain": [
              "dtype('O')"
            ]
          },
          "metadata": {
            "tags": []
          },
          "execution_count": 6
        }
      ]
    },
    {
      "cell_type": "markdown",
      "metadata": {
        "id": "MungD3N8cZeV"
      },
      "source": [
        "We can see the MAC address is of datatype=> **O** (Object)"
      ]
    },
    {
      "cell_type": "code",
      "metadata": {
        "id": "EHdkYaJ1dIan",
        "outputId": "4ba590df-0d09-4db0-a53d-05e840b59dcd",
        "colab": {
          "base_uri": "https://localhost:8080/",
          "height": 51
        }
      },
      "source": [
        "df_iot_tel['device'].where(df_iot_tel['device'] == '00:0f:00:70:91:0a').value_counts()"
      ],
      "execution_count": 7,
      "outputs": [
        {
          "output_type": "execute_result",
          "data": {
            "text/plain": [
              "00:0f:00:70:91:0a    111815\n",
              "Name: device, dtype: int64"
            ]
          },
          "metadata": {
            "tags": []
          },
          "execution_count": 7
        }
      ]
    },
    {
      "cell_type": "markdown",
      "metadata": {
        "id": "mccP7KhIdUFo"
      },
      "source": [
        "There are **111,815** data samples with the MAC address 00:0f:00:70:91:0a "
      ]
    },
    {
      "cell_type": "markdown",
      "metadata": {
        "id": "PwGXkKomtJsS"
      },
      "source": [
        "### (d)"
      ]
    },
    {
      "cell_type": "code",
      "metadata": {
        "id": "K0V0TcugtJsS",
        "outputId": "98c4fd56-063b-412c-eb3b-2cf369cff252",
        "colab": {
          "base_uri": "https://localhost:8080/",
          "height": 51
        }
      },
      "source": [
        "df_iot_tel['device'].where(df_iot_tel['device'] == '1c:bf:ce:15:ec:4d').value_counts()"
      ],
      "execution_count": 8,
      "outputs": [
        {
          "output_type": "execute_result",
          "data": {
            "text/plain": [
              "1c:bf:ce:15:ec:4d    105918\n",
              "Name: device, dtype: int64"
            ]
          },
          "metadata": {
            "tags": []
          },
          "execution_count": 8
        }
      ]
    },
    {
      "cell_type": "markdown",
      "metadata": {
        "id": "whm-bpDNdz_p"
      },
      "source": [
        "There are **105,918** data samples with the MAC address 1c:bf:ce:15:ec:4d\n"
      ]
    },
    {
      "cell_type": "markdown",
      "metadata": {
        "id": "VcCkSG-xtJsU"
      },
      "source": [
        "### (e)"
      ]
    },
    {
      "cell_type": "code",
      "metadata": {
        "id": "PyvOC1cptJsV",
        "outputId": "6917285e-0c2e-458e-a7f5-48c3c2f32f69",
        "colab": {
          "base_uri": "https://localhost:8080/",
          "height": 51
        }
      },
      "source": [
        "df_iot_tel['device'].where(df_iot_tel['device'] == 'b8:27:eb:bf:9d:51').value_counts()"
      ],
      "execution_count": 41,
      "outputs": [
        {
          "output_type": "execute_result",
          "data": {
            "text/plain": [
              "b8:27:eb:bf:9d:51    187451\n",
              "Name: device, dtype: int64"
            ]
          },
          "metadata": {
            "tags": []
          },
          "execution_count": 41
        }
      ]
    },
    {
      "cell_type": "markdown",
      "metadata": {
        "id": "gjjPgNK0fNCD"
      },
      "source": [
        "There are **187,451** data samples with the MAC address b8:27:eb:bf:9d:51"
      ]
    },
    {
      "cell_type": "markdown",
      "metadata": {
        "id": "0qAgmitMqU_M"
      },
      "source": [
        "**Adding all the MAC addresses individually we get 405184.  Hence there is only 3 MAC addresses in total**"
      ]
    },
    {
      "cell_type": "markdown",
      "metadata": {
        "id": "g6AL3sXFtJsX"
      },
      "source": [
        "## Problem 1.2"
      ]
    },
    {
      "cell_type": "code",
      "metadata": {
        "id": "e907LRbrxZNO",
        "outputId": "621aaa76-bba1-4edf-c760-caaa44132815",
        "colab": {
          "base_uri": "https://localhost:8080/",
          "height": 187
        }
      },
      "source": [
        "df_iot_tel.dtypes"
      ],
      "execution_count": 9,
      "outputs": [
        {
          "output_type": "execute_result",
          "data": {
            "text/plain": [
              "ts          float64\n",
              "device       object\n",
              "co          float64\n",
              "humidity    float64\n",
              "light          bool\n",
              "lpg         float64\n",
              "motion         bool\n",
              "smoke       float64\n",
              "temp        float64\n",
              "dtype: object"
            ]
          },
          "metadata": {
            "tags": []
          },
          "execution_count": 9
        }
      ]
    },
    {
      "cell_type": "markdown",
      "metadata": {
        "id": "jIyqvY0qnTp4"
      },
      "source": [
        " The problem mentions most of the challenges that otherwise needed to be worked on : \n",
        " 1.  No missing Entries\n",
        " 2. pandas.get_dummies() can be used \n"
      ]
    },
    {
      "cell_type": "markdown",
      "metadata": {
        "id": "0Y7HF5xUtJsY"
      },
      "source": [
        "### (a)"
      ]
    },
    {
      "cell_type": "markdown",
      "metadata": {
        "id": "w4U3Bn4IstTp"
      },
      "source": [
        "**Device**"
      ]
    },
    {
      "cell_type": "code",
      "metadata": {
        "id": "BnqS_jVHb5_M",
        "outputId": "1e2731fd-ac13-4dd8-a891-d32f9ecea443",
        "colab": {
          "base_uri": "https://localhost:8080/",
          "height": 204
        }
      },
      "source": [
        "MAC_types = df_iot_tel['device']\n",
        "dum_df = pd.get_dummies(MAC_types, prefix=\"MAC:\" )\n",
        "MAC_df = df_iot_tel.join(dum_df)\n",
        "MAC_df = MAC_df.drop(columns = 'device')\n",
        "MAC_df.head(5)"
      ],
      "execution_count": 10,
      "outputs": [
        {
          "output_type": "execute_result",
          "data": {
            "text/html": [
              "<div>\n",
              "<style scoped>\n",
              "    .dataframe tbody tr th:only-of-type {\n",
              "        vertical-align: middle;\n",
              "    }\n",
              "\n",
              "    .dataframe tbody tr th {\n",
              "        vertical-align: top;\n",
              "    }\n",
              "\n",
              "    .dataframe thead th {\n",
              "        text-align: right;\n",
              "    }\n",
              "</style>\n",
              "<table border=\"1\" class=\"dataframe\">\n",
              "  <thead>\n",
              "    <tr style=\"text-align: right;\">\n",
              "      <th></th>\n",
              "      <th>ts</th>\n",
              "      <th>co</th>\n",
              "      <th>humidity</th>\n",
              "      <th>light</th>\n",
              "      <th>lpg</th>\n",
              "      <th>motion</th>\n",
              "      <th>smoke</th>\n",
              "      <th>temp</th>\n",
              "      <th>MAC:_00:0f:00:70:91:0a</th>\n",
              "      <th>MAC:_1c:bf:ce:15:ec:4d</th>\n",
              "      <th>MAC:_b8:27:eb:bf:9d:51</th>\n",
              "    </tr>\n",
              "  </thead>\n",
              "  <tbody>\n",
              "    <tr>\n",
              "      <th>0</th>\n",
              "      <td>1.594512e+09</td>\n",
              "      <td>0.004956</td>\n",
              "      <td>51.000000</td>\n",
              "      <td>False</td>\n",
              "      <td>0.007651</td>\n",
              "      <td>False</td>\n",
              "      <td>0.020411</td>\n",
              "      <td>22.700000</td>\n",
              "      <td>0</td>\n",
              "      <td>0</td>\n",
              "      <td>1</td>\n",
              "    </tr>\n",
              "    <tr>\n",
              "      <th>1</th>\n",
              "      <td>1.594512e+09</td>\n",
              "      <td>0.002840</td>\n",
              "      <td>76.000000</td>\n",
              "      <td>False</td>\n",
              "      <td>0.005114</td>\n",
              "      <td>False</td>\n",
              "      <td>0.013275</td>\n",
              "      <td>19.700001</td>\n",
              "      <td>1</td>\n",
              "      <td>0</td>\n",
              "      <td>0</td>\n",
              "    </tr>\n",
              "    <tr>\n",
              "      <th>2</th>\n",
              "      <td>1.594512e+09</td>\n",
              "      <td>0.004976</td>\n",
              "      <td>50.900000</td>\n",
              "      <td>False</td>\n",
              "      <td>0.007673</td>\n",
              "      <td>False</td>\n",
              "      <td>0.020475</td>\n",
              "      <td>22.600000</td>\n",
              "      <td>0</td>\n",
              "      <td>0</td>\n",
              "      <td>1</td>\n",
              "    </tr>\n",
              "    <tr>\n",
              "      <th>3</th>\n",
              "      <td>1.594512e+09</td>\n",
              "      <td>0.004403</td>\n",
              "      <td>76.800003</td>\n",
              "      <td>True</td>\n",
              "      <td>0.007023</td>\n",
              "      <td>False</td>\n",
              "      <td>0.018628</td>\n",
              "      <td>27.000000</td>\n",
              "      <td>0</td>\n",
              "      <td>1</td>\n",
              "      <td>0</td>\n",
              "    </tr>\n",
              "    <tr>\n",
              "      <th>4</th>\n",
              "      <td>1.594512e+09</td>\n",
              "      <td>0.004967</td>\n",
              "      <td>50.900000</td>\n",
              "      <td>False</td>\n",
              "      <td>0.007664</td>\n",
              "      <td>False</td>\n",
              "      <td>0.020448</td>\n",
              "      <td>22.600000</td>\n",
              "      <td>0</td>\n",
              "      <td>0</td>\n",
              "      <td>1</td>\n",
              "    </tr>\n",
              "  </tbody>\n",
              "</table>\n",
              "</div>"
            ],
            "text/plain": [
              "             ts        co  ...  MAC:_1c:bf:ce:15:ec:4d  MAC:_b8:27:eb:bf:9d:51\n",
              "0  1.594512e+09  0.004956  ...                       0                       1\n",
              "1  1.594512e+09  0.002840  ...                       0                       0\n",
              "2  1.594512e+09  0.004976  ...                       0                       1\n",
              "3  1.594512e+09  0.004403  ...                       1                       0\n",
              "4  1.594512e+09  0.004967  ...                       0                       1\n",
              "\n",
              "[5 rows x 11 columns]"
            ]
          },
          "metadata": {
            "tags": []
          },
          "execution_count": 10
        }
      ]
    },
    {
      "cell_type": "markdown",
      "metadata": {
        "id": "BGicMRTUsxN2"
      },
      "source": [
        "**Light**"
      ]
    },
    {
      "cell_type": "code",
      "metadata": {
        "id": "17jxDqB4iMyG",
        "outputId": "92645ec3-5950-4148-fb96-47191ea0964b",
        "colab": {
          "base_uri": "https://localhost:8080/",
          "height": 204
        }
      },
      "source": [
        "light_types = MAC_df['light']\n",
        "dum_df_light = pd.get_dummies(light_types, prefix=\"Light:\" )\n",
        "light_df = MAC_df.join(dum_df_light)\n",
        "light_df = light_df.drop(columns = 'light')\n",
        "light_df.head(5)"
      ],
      "execution_count": 11,
      "outputs": [
        {
          "output_type": "execute_result",
          "data": {
            "text/html": [
              "<div>\n",
              "<style scoped>\n",
              "    .dataframe tbody tr th:only-of-type {\n",
              "        vertical-align: middle;\n",
              "    }\n",
              "\n",
              "    .dataframe tbody tr th {\n",
              "        vertical-align: top;\n",
              "    }\n",
              "\n",
              "    .dataframe thead th {\n",
              "        text-align: right;\n",
              "    }\n",
              "</style>\n",
              "<table border=\"1\" class=\"dataframe\">\n",
              "  <thead>\n",
              "    <tr style=\"text-align: right;\">\n",
              "      <th></th>\n",
              "      <th>ts</th>\n",
              "      <th>co</th>\n",
              "      <th>humidity</th>\n",
              "      <th>lpg</th>\n",
              "      <th>motion</th>\n",
              "      <th>smoke</th>\n",
              "      <th>temp</th>\n",
              "      <th>MAC:_00:0f:00:70:91:0a</th>\n",
              "      <th>MAC:_1c:bf:ce:15:ec:4d</th>\n",
              "      <th>MAC:_b8:27:eb:bf:9d:51</th>\n",
              "      <th>Light:_False</th>\n",
              "      <th>Light:_True</th>\n",
              "    </tr>\n",
              "  </thead>\n",
              "  <tbody>\n",
              "    <tr>\n",
              "      <th>0</th>\n",
              "      <td>1.594512e+09</td>\n",
              "      <td>0.004956</td>\n",
              "      <td>51.000000</td>\n",
              "      <td>0.007651</td>\n",
              "      <td>False</td>\n",
              "      <td>0.020411</td>\n",
              "      <td>22.700000</td>\n",
              "      <td>0</td>\n",
              "      <td>0</td>\n",
              "      <td>1</td>\n",
              "      <td>1</td>\n",
              "      <td>0</td>\n",
              "    </tr>\n",
              "    <tr>\n",
              "      <th>1</th>\n",
              "      <td>1.594512e+09</td>\n",
              "      <td>0.002840</td>\n",
              "      <td>76.000000</td>\n",
              "      <td>0.005114</td>\n",
              "      <td>False</td>\n",
              "      <td>0.013275</td>\n",
              "      <td>19.700001</td>\n",
              "      <td>1</td>\n",
              "      <td>0</td>\n",
              "      <td>0</td>\n",
              "      <td>1</td>\n",
              "      <td>0</td>\n",
              "    </tr>\n",
              "    <tr>\n",
              "      <th>2</th>\n",
              "      <td>1.594512e+09</td>\n",
              "      <td>0.004976</td>\n",
              "      <td>50.900000</td>\n",
              "      <td>0.007673</td>\n",
              "      <td>False</td>\n",
              "      <td>0.020475</td>\n",
              "      <td>22.600000</td>\n",
              "      <td>0</td>\n",
              "      <td>0</td>\n",
              "      <td>1</td>\n",
              "      <td>1</td>\n",
              "      <td>0</td>\n",
              "    </tr>\n",
              "    <tr>\n",
              "      <th>3</th>\n",
              "      <td>1.594512e+09</td>\n",
              "      <td>0.004403</td>\n",
              "      <td>76.800003</td>\n",
              "      <td>0.007023</td>\n",
              "      <td>False</td>\n",
              "      <td>0.018628</td>\n",
              "      <td>27.000000</td>\n",
              "      <td>0</td>\n",
              "      <td>1</td>\n",
              "      <td>0</td>\n",
              "      <td>0</td>\n",
              "      <td>1</td>\n",
              "    </tr>\n",
              "    <tr>\n",
              "      <th>4</th>\n",
              "      <td>1.594512e+09</td>\n",
              "      <td>0.004967</td>\n",
              "      <td>50.900000</td>\n",
              "      <td>0.007664</td>\n",
              "      <td>False</td>\n",
              "      <td>0.020448</td>\n",
              "      <td>22.600000</td>\n",
              "      <td>0</td>\n",
              "      <td>0</td>\n",
              "      <td>1</td>\n",
              "      <td>1</td>\n",
              "      <td>0</td>\n",
              "    </tr>\n",
              "  </tbody>\n",
              "</table>\n",
              "</div>"
            ],
            "text/plain": [
              "             ts        co  ...  Light:_False  Light:_True\n",
              "0  1.594512e+09  0.004956  ...             1            0\n",
              "1  1.594512e+09  0.002840  ...             1            0\n",
              "2  1.594512e+09  0.004976  ...             1            0\n",
              "3  1.594512e+09  0.004403  ...             0            1\n",
              "4  1.594512e+09  0.004967  ...             1            0\n",
              "\n",
              "[5 rows x 12 columns]"
            ]
          },
          "metadata": {
            "tags": []
          },
          "execution_count": 11
        }
      ]
    },
    {
      "cell_type": "markdown",
      "metadata": {
        "id": "ryxaSTVFkV6M"
      },
      "source": [
        "**Motion**"
      ]
    },
    {
      "cell_type": "code",
      "metadata": {
        "id": "IeVH_psIics3",
        "outputId": "e1d89296-cb2d-4e2c-e1ec-a88e42a95676",
        "colab": {
          "base_uri": "https://localhost:8080/",
          "height": 224
        }
      },
      "source": [
        "motion_types = light_df['motion']\n",
        "dum_df_motion = pd.get_dummies(motion_types, prefix=\"Motion:\" )\n",
        "motion_df = light_df.join(dum_df_motion)\n",
        "motion_df = motion_df.drop(columns = 'motion')\n",
        "one_hot_encoded_df = motion_df\n",
        "one_hot_encoded_df.head(5)"
      ],
      "execution_count": 12,
      "outputs": [
        {
          "output_type": "execute_result",
          "data": {
            "text/html": [
              "<div>\n",
              "<style scoped>\n",
              "    .dataframe tbody tr th:only-of-type {\n",
              "        vertical-align: middle;\n",
              "    }\n",
              "\n",
              "    .dataframe tbody tr th {\n",
              "        vertical-align: top;\n",
              "    }\n",
              "\n",
              "    .dataframe thead th {\n",
              "        text-align: right;\n",
              "    }\n",
              "</style>\n",
              "<table border=\"1\" class=\"dataframe\">\n",
              "  <thead>\n",
              "    <tr style=\"text-align: right;\">\n",
              "      <th></th>\n",
              "      <th>ts</th>\n",
              "      <th>co</th>\n",
              "      <th>humidity</th>\n",
              "      <th>lpg</th>\n",
              "      <th>smoke</th>\n",
              "      <th>temp</th>\n",
              "      <th>MAC:_00:0f:00:70:91:0a</th>\n",
              "      <th>MAC:_1c:bf:ce:15:ec:4d</th>\n",
              "      <th>MAC:_b8:27:eb:bf:9d:51</th>\n",
              "      <th>Light:_False</th>\n",
              "      <th>Light:_True</th>\n",
              "      <th>Motion:_False</th>\n",
              "      <th>Motion:_True</th>\n",
              "    </tr>\n",
              "  </thead>\n",
              "  <tbody>\n",
              "    <tr>\n",
              "      <th>0</th>\n",
              "      <td>1.594512e+09</td>\n",
              "      <td>0.004956</td>\n",
              "      <td>51.000000</td>\n",
              "      <td>0.007651</td>\n",
              "      <td>0.020411</td>\n",
              "      <td>22.700000</td>\n",
              "      <td>0</td>\n",
              "      <td>0</td>\n",
              "      <td>1</td>\n",
              "      <td>1</td>\n",
              "      <td>0</td>\n",
              "      <td>1</td>\n",
              "      <td>0</td>\n",
              "    </tr>\n",
              "    <tr>\n",
              "      <th>1</th>\n",
              "      <td>1.594512e+09</td>\n",
              "      <td>0.002840</td>\n",
              "      <td>76.000000</td>\n",
              "      <td>0.005114</td>\n",
              "      <td>0.013275</td>\n",
              "      <td>19.700001</td>\n",
              "      <td>1</td>\n",
              "      <td>0</td>\n",
              "      <td>0</td>\n",
              "      <td>1</td>\n",
              "      <td>0</td>\n",
              "      <td>1</td>\n",
              "      <td>0</td>\n",
              "    </tr>\n",
              "    <tr>\n",
              "      <th>2</th>\n",
              "      <td>1.594512e+09</td>\n",
              "      <td>0.004976</td>\n",
              "      <td>50.900000</td>\n",
              "      <td>0.007673</td>\n",
              "      <td>0.020475</td>\n",
              "      <td>22.600000</td>\n",
              "      <td>0</td>\n",
              "      <td>0</td>\n",
              "      <td>1</td>\n",
              "      <td>1</td>\n",
              "      <td>0</td>\n",
              "      <td>1</td>\n",
              "      <td>0</td>\n",
              "    </tr>\n",
              "    <tr>\n",
              "      <th>3</th>\n",
              "      <td>1.594512e+09</td>\n",
              "      <td>0.004403</td>\n",
              "      <td>76.800003</td>\n",
              "      <td>0.007023</td>\n",
              "      <td>0.018628</td>\n",
              "      <td>27.000000</td>\n",
              "      <td>0</td>\n",
              "      <td>1</td>\n",
              "      <td>0</td>\n",
              "      <td>0</td>\n",
              "      <td>1</td>\n",
              "      <td>1</td>\n",
              "      <td>0</td>\n",
              "    </tr>\n",
              "    <tr>\n",
              "      <th>4</th>\n",
              "      <td>1.594512e+09</td>\n",
              "      <td>0.004967</td>\n",
              "      <td>50.900000</td>\n",
              "      <td>0.007664</td>\n",
              "      <td>0.020448</td>\n",
              "      <td>22.600000</td>\n",
              "      <td>0</td>\n",
              "      <td>0</td>\n",
              "      <td>1</td>\n",
              "      <td>1</td>\n",
              "      <td>0</td>\n",
              "      <td>1</td>\n",
              "      <td>0</td>\n",
              "    </tr>\n",
              "  </tbody>\n",
              "</table>\n",
              "</div>"
            ],
            "text/plain": [
              "             ts        co   humidity  ...  Light:_True  Motion:_False  Motion:_True\n",
              "0  1.594512e+09  0.004956  51.000000  ...            0              1             0\n",
              "1  1.594512e+09  0.002840  76.000000  ...            0              1             0\n",
              "2  1.594512e+09  0.004976  50.900000  ...            0              1             0\n",
              "3  1.594512e+09  0.004403  76.800003  ...            1              1             0\n",
              "4  1.594512e+09  0.004967  50.900000  ...            0              1             0\n",
              "\n",
              "[5 rows x 13 columns]"
            ]
          },
          "metadata": {
            "tags": []
          },
          "execution_count": 12
        }
      ]
    },
    {
      "cell_type": "markdown",
      "metadata": {
        "id": "zccrYCN0tJse"
      },
      "source": [
        "### (b)"
      ]
    },
    {
      "cell_type": "code",
      "metadata": {
        "id": "XSkRUs2WDFU_"
      },
      "source": [
        "grouped = df_iot_tel.groupby(df_iot_tel.device)\n",
        "device1 = grouped.get_group(\"00:0f:00:70:91:0a\")\n",
        "device2 = grouped.get_group(\"1c:bf:ce:15:ec:4d\")\n",
        "device3 = grouped.get_group(\"b8:27:eb:bf:9d:51\")"
      ],
      "execution_count": 93,
      "outputs": []
    },
    {
      "cell_type": "code",
      "metadata": {
        "id": "CH0SYb26L9FN",
        "outputId": "cf3eb0fc-23a0-485f-a59e-2a2fe5cab57a",
        "colab": {
          "base_uri": "https://localhost:8080/",
          "height": 204
        }
      },
      "source": [
        "device1.head(5)"
      ],
      "execution_count": 89,
      "outputs": [
        {
          "output_type": "execute_result",
          "data": {
            "text/html": [
              "<div>\n",
              "<style scoped>\n",
              "    .dataframe tbody tr th:only-of-type {\n",
              "        vertical-align: middle;\n",
              "    }\n",
              "\n",
              "    .dataframe tbody tr th {\n",
              "        vertical-align: top;\n",
              "    }\n",
              "\n",
              "    .dataframe thead th {\n",
              "        text-align: right;\n",
              "    }\n",
              "</style>\n",
              "<table border=\"1\" class=\"dataframe\">\n",
              "  <thead>\n",
              "    <tr style=\"text-align: right;\">\n",
              "      <th></th>\n",
              "      <th>ts</th>\n",
              "      <th>device</th>\n",
              "      <th>co</th>\n",
              "      <th>humidity</th>\n",
              "      <th>light</th>\n",
              "      <th>lpg</th>\n",
              "      <th>motion</th>\n",
              "      <th>smoke</th>\n",
              "      <th>temp</th>\n",
              "    </tr>\n",
              "  </thead>\n",
              "  <tbody>\n",
              "    <tr>\n",
              "      <th>1</th>\n",
              "      <td>1.594512e+09</td>\n",
              "      <td>00:0f:00:70:91:0a</td>\n",
              "      <td>0.002840</td>\n",
              "      <td>76.000000</td>\n",
              "      <td>False</td>\n",
              "      <td>0.005114</td>\n",
              "      <td>False</td>\n",
              "      <td>0.013275</td>\n",
              "      <td>19.700001</td>\n",
              "    </tr>\n",
              "    <tr>\n",
              "      <th>7</th>\n",
              "      <td>1.594512e+09</td>\n",
              "      <td>00:0f:00:70:91:0a</td>\n",
              "      <td>0.002938</td>\n",
              "      <td>76.000000</td>\n",
              "      <td>False</td>\n",
              "      <td>0.005241</td>\n",
              "      <td>False</td>\n",
              "      <td>0.013628</td>\n",
              "      <td>19.700001</td>\n",
              "    </tr>\n",
              "    <tr>\n",
              "      <th>15</th>\n",
              "      <td>1.594512e+09</td>\n",
              "      <td>00:0f:00:70:91:0a</td>\n",
              "      <td>0.002905</td>\n",
              "      <td>75.800003</td>\n",
              "      <td>False</td>\n",
              "      <td>0.005199</td>\n",
              "      <td>False</td>\n",
              "      <td>0.013509</td>\n",
              "      <td>19.700001</td>\n",
              "    </tr>\n",
              "    <tr>\n",
              "      <th>20</th>\n",
              "      <td>1.594512e+09</td>\n",
              "      <td>00:0f:00:70:91:0a</td>\n",
              "      <td>0.002938</td>\n",
              "      <td>75.800003</td>\n",
              "      <td>False</td>\n",
              "      <td>0.005241</td>\n",
              "      <td>False</td>\n",
              "      <td>0.013628</td>\n",
              "      <td>19.700001</td>\n",
              "    </tr>\n",
              "    <tr>\n",
              "      <th>23</th>\n",
              "      <td>1.594512e+09</td>\n",
              "      <td>00:0f:00:70:91:0a</td>\n",
              "      <td>0.002840</td>\n",
              "      <td>76.000000</td>\n",
              "      <td>False</td>\n",
              "      <td>0.005114</td>\n",
              "      <td>False</td>\n",
              "      <td>0.013275</td>\n",
              "      <td>19.700001</td>\n",
              "    </tr>\n",
              "  </tbody>\n",
              "</table>\n",
              "</div>"
            ],
            "text/plain": [
              "              ts             device        co  ...  motion     smoke       temp\n",
              "1   1.594512e+09  00:0f:00:70:91:0a  0.002840  ...   False  0.013275  19.700001\n",
              "7   1.594512e+09  00:0f:00:70:91:0a  0.002938  ...   False  0.013628  19.700001\n",
              "15  1.594512e+09  00:0f:00:70:91:0a  0.002905  ...   False  0.013509  19.700001\n",
              "20  1.594512e+09  00:0f:00:70:91:0a  0.002938  ...   False  0.013628  19.700001\n",
              "23  1.594512e+09  00:0f:00:70:91:0a  0.002840  ...   False  0.013275  19.700001\n",
              "\n",
              "[5 rows x 9 columns]"
            ]
          },
          "metadata": {
            "tags": []
          },
          "execution_count": 89
        }
      ]
    },
    {
      "cell_type": "code",
      "metadata": {
        "id": "s0SRBz0uKnlz",
        "outputId": "6a02a986-42ef-491c-8493-d06008a60028",
        "colab": {
          "base_uri": "https://localhost:8080/",
          "height": 119
        }
      },
      "source": [
        "device1.iloc[:,np.r_[2,3,5,7,8]] = device1.iloc[:,np.r_[2,3,5,7,8]] - device1.iloc[:,np.r_[2,3,5,7,8]].mean()\n",
        "device1.iloc[:,np.r_[2,3,5,7,8]] = device1.iloc[:,np.r_[2,3,5,7,8]] /  device1.iloc[:,np.r_[2,3,5,7,8]].std()\n",
        "device2.iloc[:,np.r_[2,3,5,7,8]] = device2.iloc[:,np.r_[2,3,5,7,8]] - device2.iloc[:,np.r_[2,3,5,7,8]].mean()\n",
        "device2.iloc[:,np.r_[2,3,5,7,8]] = device2.iloc[:,np.r_[2,3,5,7,8]]/  device2.iloc[:,np.r_[2,3,5,7,8]].std()\n",
        "device3.iloc[:,np.r_[2,3,5,7,8]] = device3.iloc[:,np.r_[2,3,5,7,8]] - device3.iloc[:,np.r_[2,3,5,7,8]].mean()\n",
        "device3.iloc[:,np.r_[2,3,5,7,8]] = device3.iloc[:,np.r_[2,3,5,7,8]]/  device3.iloc[:,np.r_[2,3,5,7,8]].std()"
      ],
      "execution_count": 94,
      "outputs": [
        {
          "output_type": "stream",
          "text": [
            "/usr/local/lib/python3.6/dist-packages/pandas/core/indexing.py:1717: SettingWithCopyWarning: \n",
            "A value is trying to be set on a copy of a slice from a DataFrame.\n",
            "Try using .loc[row_indexer,col_indexer] = value instead\n",
            "\n",
            "See the caveats in the documentation: https://pandas.pydata.org/pandas-docs/stable/user_guide/indexing.html#returning-a-view-versus-a-copy\n",
            "  isetter(loc, v)\n"
          ],
          "name": "stderr"
        }
      ]
    },
    {
      "cell_type": "code",
      "metadata": {
        "id": "Ty3Eca_-Eqv-",
        "outputId": "0f851fac-132c-4360-9207-4b7e96087cec",
        "colab": {
          "base_uri": "https://localhost:8080/",
          "height": 204
        }
      },
      "source": [
        "avg = device1.mean()\n",
        "stdv = device1.std()\n",
        "standardized_device1 = (device1 - avg) / stdv\n",
        "standardized_device1.head(5)\n"
      ],
      "execution_count": 69,
      "outputs": [
        {
          "output_type": "execute_result",
          "data": {
            "text/html": [
              "<div>\n",
              "<style scoped>\n",
              "    .dataframe tbody tr th:only-of-type {\n",
              "        vertical-align: middle;\n",
              "    }\n",
              "\n",
              "    .dataframe tbody tr th {\n",
              "        vertical-align: top;\n",
              "    }\n",
              "\n",
              "    .dataframe thead th {\n",
              "        text-align: right;\n",
              "    }\n",
              "</style>\n",
              "<table border=\"1\" class=\"dataframe\">\n",
              "  <thead>\n",
              "    <tr style=\"text-align: right;\">\n",
              "      <th></th>\n",
              "      <th>3</th>\n",
              "      <th>4</th>\n",
              "      <th>5</th>\n",
              "      <th>7</th>\n",
              "      <th>8</th>\n",
              "      <th>co</th>\n",
              "      <th>device</th>\n",
              "      <th>humidity</th>\n",
              "      <th>light</th>\n",
              "      <th>lpg</th>\n",
              "      <th>motion</th>\n",
              "      <th>smoke</th>\n",
              "      <th>temp</th>\n",
              "      <th>ts</th>\n",
              "    </tr>\n",
              "  </thead>\n",
              "  <tbody>\n",
              "    <tr>\n",
              "      <th>1</th>\n",
              "      <td>NaN</td>\n",
              "      <td>NaN</td>\n",
              "      <td>NaN</td>\n",
              "      <td>NaN</td>\n",
              "      <td>NaN</td>\n",
              "      <td>-0.464451</td>\n",
              "      <td>NaN</td>\n",
              "      <td>0.281222</td>\n",
              "      <td>-0.182601</td>\n",
              "      <td>-0.458333</td>\n",
              "      <td>-0.00518</td>\n",
              "      <td>-0.460392</td>\n",
              "      <td>0.524162</td>\n",
              "      <td>-1.737234</td>\n",
              "    </tr>\n",
              "    <tr>\n",
              "      <th>7</th>\n",
              "      <td>NaN</td>\n",
              "      <td>NaN</td>\n",
              "      <td>NaN</td>\n",
              "      <td>NaN</td>\n",
              "      <td>NaN</td>\n",
              "      <td>-0.398156</td>\n",
              "      <td>NaN</td>\n",
              "      <td>0.281222</td>\n",
              "      <td>-0.182601</td>\n",
              "      <td>-0.383561</td>\n",
              "      <td>-0.00518</td>\n",
              "      <td>-0.387058</td>\n",
              "      <td>0.524162</td>\n",
              "      <td>-1.737173</td>\n",
              "    </tr>\n",
              "    <tr>\n",
              "      <th>15</th>\n",
              "      <td>NaN</td>\n",
              "      <td>NaN</td>\n",
              "      <td>NaN</td>\n",
              "      <td>NaN</td>\n",
              "      <td>NaN</td>\n",
              "      <td>-0.420542</td>\n",
              "      <td>NaN</td>\n",
              "      <td>0.179999</td>\n",
              "      <td>-0.182601</td>\n",
              "      <td>-0.408731</td>\n",
              "      <td>-0.00518</td>\n",
              "      <td>-0.411758</td>\n",
              "      <td>0.524162</td>\n",
              "      <td>-1.737093</td>\n",
              "    </tr>\n",
              "    <tr>\n",
              "      <th>20</th>\n",
              "      <td>NaN</td>\n",
              "      <td>NaN</td>\n",
              "      <td>NaN</td>\n",
              "      <td>NaN</td>\n",
              "      <td>NaN</td>\n",
              "      <td>-0.398156</td>\n",
              "      <td>NaN</td>\n",
              "      <td>0.179999</td>\n",
              "      <td>-0.182601</td>\n",
              "      <td>-0.383561</td>\n",
              "      <td>-0.00518</td>\n",
              "      <td>-0.387058</td>\n",
              "      <td>0.524162</td>\n",
              "      <td>-1.737050</td>\n",
              "    </tr>\n",
              "    <tr>\n",
              "      <th>23</th>\n",
              "      <td>NaN</td>\n",
              "      <td>NaN</td>\n",
              "      <td>NaN</td>\n",
              "      <td>NaN</td>\n",
              "      <td>NaN</td>\n",
              "      <td>-0.464451</td>\n",
              "      <td>NaN</td>\n",
              "      <td>0.281222</td>\n",
              "      <td>-0.182601</td>\n",
              "      <td>-0.458333</td>\n",
              "      <td>-0.00518</td>\n",
              "      <td>-0.460392</td>\n",
              "      <td>0.524162</td>\n",
              "      <td>-1.737031</td>\n",
              "    </tr>\n",
              "  </tbody>\n",
              "</table>\n",
              "</div>"
            ],
            "text/plain": [
              "     3   4   5   7   8  ...       lpg   motion     smoke      temp        ts\n",
              "1  NaN NaN NaN NaN NaN  ... -0.458333 -0.00518 -0.460392  0.524162 -1.737234\n",
              "7  NaN NaN NaN NaN NaN  ... -0.383561 -0.00518 -0.387058  0.524162 -1.737173\n",
              "15 NaN NaN NaN NaN NaN  ... -0.408731 -0.00518 -0.411758  0.524162 -1.737093\n",
              "20 NaN NaN NaN NaN NaN  ... -0.383561 -0.00518 -0.387058  0.524162 -1.737050\n",
              "23 NaN NaN NaN NaN NaN  ... -0.458333 -0.00518 -0.460392  0.524162 -1.737031\n",
              "\n",
              "[5 rows x 14 columns]"
            ]
          },
          "metadata": {
            "tags": []
          },
          "execution_count": 69
        }
      ]
    },
    {
      "cell_type": "code",
      "metadata": {
        "id": "J6FX9kEyE870",
        "outputId": "2b414fbb-1a44-471e-b698-b7c104b80ae2",
        "colab": {
          "base_uri": "https://localhost:8080/",
          "height": 272
        }
      },
      "source": [
        "standardized_device1.mean()"
      ],
      "execution_count": 70,
      "outputs": [
        {
          "output_type": "execute_result",
          "data": {
            "text/plain": [
              "3                    NaN\n",
              "4                    NaN\n",
              "5                    NaN\n",
              "7                    NaN\n",
              "8                    NaN\n",
              "co         -9.287036e-13\n",
              "device               NaN\n",
              "humidity    1.240455e-14\n",
              "light       2.039881e-14\n",
              "lpg         1.560453e-16\n",
              "motion     -3.222828e-15\n",
              "smoke      -4.403732e-14\n",
              "temp        7.877475e-16\n",
              "ts         -8.911983e-11\n",
              "dtype: float64"
            ]
          },
          "metadata": {
            "tags": []
          },
          "execution_count": 70
        }
      ]
    },
    {
      "cell_type": "code",
      "metadata": {
        "id": "F8DJ2koBFBfU",
        "outputId": "c8238850-9441-4b45-a3de-f8b50a9066c0",
        "colab": {
          "base_uri": "https://localhost:8080/",
          "height": 272
        }
      },
      "source": [
        "standardized_device1.var()"
      ],
      "execution_count": 71,
      "outputs": [
        {
          "output_type": "execute_result",
          "data": {
            "text/plain": [
              "3           NaN\n",
              "4           NaN\n",
              "5           NaN\n",
              "7           NaN\n",
              "8           NaN\n",
              "co          1.0\n",
              "device      NaN\n",
              "humidity    1.0\n",
              "light       1.0\n",
              "lpg         1.0\n",
              "motion      1.0\n",
              "smoke       1.0\n",
              "temp        1.0\n",
              "ts          1.0\n",
              "dtype: float64"
            ]
          },
          "metadata": {
            "tags": []
          },
          "execution_count": 71
        }
      ]
    },
    {
      "cell_type": "code",
      "metadata": {
        "id": "RzJ2q25gFlvO",
        "outputId": "7b9d6e7a-74c8-4d93-c11e-473e117cb65e",
        "colab": {
          "base_uri": "https://localhost:8080/",
          "height": 204
        }
      },
      "source": [
        "avg2 = device2.mean()\n",
        "stdv2 = device2.std()\n",
        "standardized_device2 = (device1 - avg2) / stdv2\n",
        "standardized_device2.head(5)"
      ],
      "execution_count": 73,
      "outputs": [
        {
          "output_type": "execute_result",
          "data": {
            "text/html": [
              "<div>\n",
              "<style scoped>\n",
              "    .dataframe tbody tr th:only-of-type {\n",
              "        vertical-align: middle;\n",
              "    }\n",
              "\n",
              "    .dataframe tbody tr th {\n",
              "        vertical-align: top;\n",
              "    }\n",
              "\n",
              "    .dataframe thead th {\n",
              "        text-align: right;\n",
              "    }\n",
              "</style>\n",
              "<table border=\"1\" class=\"dataframe\">\n",
              "  <thead>\n",
              "    <tr style=\"text-align: right;\">\n",
              "      <th></th>\n",
              "      <th>3</th>\n",
              "      <th>4</th>\n",
              "      <th>5</th>\n",
              "      <th>7</th>\n",
              "      <th>8</th>\n",
              "      <th>co</th>\n",
              "      <th>device</th>\n",
              "      <th>humidity</th>\n",
              "      <th>light</th>\n",
              "      <th>lpg</th>\n",
              "      <th>motion</th>\n",
              "      <th>smoke</th>\n",
              "      <th>temp</th>\n",
              "      <th>ts</th>\n",
              "    </tr>\n",
              "  </thead>\n",
              "  <tbody>\n",
              "    <tr>\n",
              "      <th>1</th>\n",
              "      <td>NaN</td>\n",
              "      <td>NaN</td>\n",
              "      <td>NaN</td>\n",
              "      <td>NaN</td>\n",
              "      <td>NaN</td>\n",
              "      <td>-4.190906</td>\n",
              "      <td>NaN</td>\n",
              "      <td>-6.889934</td>\n",
              "      <td>-inf</td>\n",
              "      <td>-1246.789007</td>\n",
              "      <td>-0.056328</td>\n",
              "      <td>-453.288789</td>\n",
              "      <td>-12.584391</td>\n",
              "      <td>-1.734001</td>\n",
              "    </tr>\n",
              "    <tr>\n",
              "      <th>7</th>\n",
              "      <td>NaN</td>\n",
              "      <td>NaN</td>\n",
              "      <td>NaN</td>\n",
              "      <td>NaN</td>\n",
              "      <td>NaN</td>\n",
              "      <td>-3.884962</td>\n",
              "      <td>NaN</td>\n",
              "      <td>-6.889934</td>\n",
              "      <td>-inf</td>\n",
              "      <td>-1046.348375</td>\n",
              "      <td>-0.056328</td>\n",
              "      <td>-383.787456</td>\n",
              "      <td>-12.584391</td>\n",
              "      <td>-1.733940</td>\n",
              "    </tr>\n",
              "    <tr>\n",
              "      <th>15</th>\n",
              "      <td>NaN</td>\n",
              "      <td>NaN</td>\n",
              "      <td>NaN</td>\n",
              "      <td>NaN</td>\n",
              "      <td>NaN</td>\n",
              "      <td>-3.988270</td>\n",
              "      <td>NaN</td>\n",
              "      <td>-6.901250</td>\n",
              "      <td>-inf</td>\n",
              "      <td>-1113.821466</td>\n",
              "      <td>-0.056328</td>\n",
              "      <td>-407.196231</td>\n",
              "      <td>-12.584391</td>\n",
              "      <td>-1.733860</td>\n",
              "    </tr>\n",
              "    <tr>\n",
              "      <th>20</th>\n",
              "      <td>NaN</td>\n",
              "      <td>NaN</td>\n",
              "      <td>NaN</td>\n",
              "      <td>NaN</td>\n",
              "      <td>NaN</td>\n",
              "      <td>-3.884962</td>\n",
              "      <td>NaN</td>\n",
              "      <td>-6.901250</td>\n",
              "      <td>-inf</td>\n",
              "      <td>-1046.348375</td>\n",
              "      <td>-0.056328</td>\n",
              "      <td>-383.787456</td>\n",
              "      <td>-12.584391</td>\n",
              "      <td>-1.733817</td>\n",
              "    </tr>\n",
              "    <tr>\n",
              "      <th>23</th>\n",
              "      <td>NaN</td>\n",
              "      <td>NaN</td>\n",
              "      <td>NaN</td>\n",
              "      <td>NaN</td>\n",
              "      <td>NaN</td>\n",
              "      <td>-4.190906</td>\n",
              "      <td>NaN</td>\n",
              "      <td>-6.889934</td>\n",
              "      <td>-inf</td>\n",
              "      <td>-1246.789007</td>\n",
              "      <td>-0.056328</td>\n",
              "      <td>-453.288789</td>\n",
              "      <td>-12.584391</td>\n",
              "      <td>-1.733798</td>\n",
              "    </tr>\n",
              "  </tbody>\n",
              "</table>\n",
              "</div>"
            ],
            "text/plain": [
              "     3   4   5   7   8  ...          lpg    motion       smoke       temp        ts\n",
              "1  NaN NaN NaN NaN NaN  ... -1246.789007 -0.056328 -453.288789 -12.584391 -1.734001\n",
              "7  NaN NaN NaN NaN NaN  ... -1046.348375 -0.056328 -383.787456 -12.584391 -1.733940\n",
              "15 NaN NaN NaN NaN NaN  ... -1113.821466 -0.056328 -407.196231 -12.584391 -1.733860\n",
              "20 NaN NaN NaN NaN NaN  ... -1046.348375 -0.056328 -383.787456 -12.584391 -1.733817\n",
              "23 NaN NaN NaN NaN NaN  ... -1246.789007 -0.056328 -453.288789 -12.584391 -1.733798\n",
              "\n",
              "[5 rows x 14 columns]"
            ]
          },
          "metadata": {
            "tags": []
          },
          "execution_count": 73
        }
      ]
    },
    {
      "cell_type": "code",
      "metadata": {
        "id": "q-e0t41RF33M",
        "outputId": "9b0e01fd-c032-49b6-a78b-f0364d6d7bd2",
        "colab": {
          "base_uri": "https://localhost:8080/",
          "height": 204
        }
      },
      "source": [
        "avg3 = device3.mean()\n",
        "stdv3 = device3.std()\n",
        "standardized_device3 = (device3 - avg3) / stdv3\n",
        "standardized_device3.head(5)"
      ],
      "execution_count": 74,
      "outputs": [
        {
          "output_type": "execute_result",
          "data": {
            "text/html": [
              "<div>\n",
              "<style scoped>\n",
              "    .dataframe tbody tr th:only-of-type {\n",
              "        vertical-align: middle;\n",
              "    }\n",
              "\n",
              "    .dataframe tbody tr th {\n",
              "        vertical-align: top;\n",
              "    }\n",
              "\n",
              "    .dataframe thead th {\n",
              "        text-align: right;\n",
              "    }\n",
              "</style>\n",
              "<table border=\"1\" class=\"dataframe\">\n",
              "  <thead>\n",
              "    <tr style=\"text-align: right;\">\n",
              "      <th></th>\n",
              "      <th>co</th>\n",
              "      <th>device</th>\n",
              "      <th>humidity</th>\n",
              "      <th>light</th>\n",
              "      <th>lpg</th>\n",
              "      <th>motion</th>\n",
              "      <th>smoke</th>\n",
              "      <th>temp</th>\n",
              "      <th>ts</th>\n",
              "    </tr>\n",
              "  </thead>\n",
              "  <tbody>\n",
              "    <tr>\n",
              "      <th>0</th>\n",
              "      <td>-1.080793</td>\n",
              "      <td>NaN</td>\n",
              "      <td>0.098428</td>\n",
              "      <td>-0.127554</td>\n",
              "      <td>-1.093491</td>\n",
              "      <td>-0.027727</td>\n",
              "      <td>-1.091260</td>\n",
              "      <td>0.871610</td>\n",
              "      <td>-1.732015</td>\n",
              "    </tr>\n",
              "    <tr>\n",
              "      <th>2</th>\n",
              "      <td>-1.044864</td>\n",
              "      <td>NaN</td>\n",
              "      <td>0.045488</td>\n",
              "      <td>-0.127554</td>\n",
              "      <td>-1.056107</td>\n",
              "      <td>-0.027727</td>\n",
              "      <td>-1.054137</td>\n",
              "      <td>0.664099</td>\n",
              "      <td>-1.731996</td>\n",
              "    </tr>\n",
              "    <tr>\n",
              "      <th>4</th>\n",
              "      <td>-1.060344</td>\n",
              "      <td>NaN</td>\n",
              "      <td>0.045488</td>\n",
              "      <td>-0.127554</td>\n",
              "      <td>-1.072209</td>\n",
              "      <td>-0.027727</td>\n",
              "      <td>-1.070127</td>\n",
              "      <td>0.664099</td>\n",
              "      <td>-1.731978</td>\n",
              "    </tr>\n",
              "    <tr>\n",
              "      <th>6</th>\n",
              "      <td>-1.044841</td>\n",
              "      <td>NaN</td>\n",
              "      <td>0.045488</td>\n",
              "      <td>-0.127554</td>\n",
              "      <td>-1.056083</td>\n",
              "      <td>-0.027727</td>\n",
              "      <td>-1.054113</td>\n",
              "      <td>0.664099</td>\n",
              "      <td>-1.731959</td>\n",
              "    </tr>\n",
              "    <tr>\n",
              "      <th>9</th>\n",
              "      <td>-1.055167</td>\n",
              "      <td>NaN</td>\n",
              "      <td>0.045488</td>\n",
              "      <td>-0.127554</td>\n",
              "      <td>-1.066824</td>\n",
              "      <td>-0.027727</td>\n",
              "      <td>-1.064779</td>\n",
              "      <td>0.664099</td>\n",
              "      <td>-1.731941</td>\n",
              "    </tr>\n",
              "  </tbody>\n",
              "</table>\n",
              "</div>"
            ],
            "text/plain": [
              "         co device  humidity     light  ...    motion     smoke      temp        ts\n",
              "0 -1.080793    NaN  0.098428 -0.127554  ... -0.027727 -1.091260  0.871610 -1.732015\n",
              "2 -1.044864    NaN  0.045488 -0.127554  ... -0.027727 -1.054137  0.664099 -1.731996\n",
              "4 -1.060344    NaN  0.045488 -0.127554  ... -0.027727 -1.070127  0.664099 -1.731978\n",
              "6 -1.044841    NaN  0.045488 -0.127554  ... -0.027727 -1.054113  0.664099 -1.731959\n",
              "9 -1.055167    NaN  0.045488 -0.127554  ... -0.027727 -1.064779  0.664099 -1.731941\n",
              "\n",
              "[5 rows x 9 columns]"
            ]
          },
          "metadata": {
            "tags": []
          },
          "execution_count": 74
        }
      ]
    },
    {
      "cell_type": "markdown",
      "metadata": {
        "id": "OUAcCAohtJsg"
      },
      "source": [
        "### (c)"
      ]
    },
    {
      "cell_type": "code",
      "metadata": {
        "id": "FoLF9iUZI5t2",
        "outputId": "68a71b77-2672-4061-f932-268b549ad24a",
        "colab": {
          "base_uri": "https://localhost:8080/",
          "height": 307
        }
      },
      "source": [
        "df_final = standardized_device1.agg(standardized_device2)"
      ],
      "execution_count": 82,
      "outputs": [
        {
          "output_type": "error",
          "ename": "AttributeError",
          "evalue": "ignored",
          "traceback": [
            "\u001b[0;31m---------------------------------------------------------------------------\u001b[0m",
            "\u001b[0;31mAttributeError\u001b[0m                            Traceback (most recent call last)",
            "\u001b[0;32m<ipython-input-82-c40cc3cc152e>\u001b[0m in \u001b[0;36m<module>\u001b[0;34m()\u001b[0m\n\u001b[0;32m----> 1\u001b[0;31m \u001b[0mdf_final\u001b[0m \u001b[0;34m=\u001b[0m \u001b[0mstandardized_device1\u001b[0m\u001b[0;34m.\u001b[0m\u001b[0magg\u001b[0m\u001b[0;34m(\u001b[0m\u001b[0mstandardized_device2\u001b[0m\u001b[0;34m)\u001b[0m\u001b[0;34m\u001b[0m\u001b[0;34m\u001b[0m\u001b[0m\n\u001b[0m",
            "\u001b[0;32m/usr/local/lib/python3.6/dist-packages/pandas/core/frame.py\u001b[0m in \u001b[0;36maggregate\u001b[0;34m(self, func, axis, *args, **kwargs)\u001b[0m\n\u001b[1;32m   7359\u001b[0m         \u001b[0mresult\u001b[0m \u001b[0;34m=\u001b[0m \u001b[0;32mNone\u001b[0m\u001b[0;34m\u001b[0m\u001b[0;34m\u001b[0m\u001b[0m\n\u001b[1;32m   7360\u001b[0m         \u001b[0;32mtry\u001b[0m\u001b[0;34m:\u001b[0m\u001b[0;34m\u001b[0m\u001b[0;34m\u001b[0m\u001b[0m\n\u001b[0;32m-> 7361\u001b[0;31m             \u001b[0mresult\u001b[0m\u001b[0;34m,\u001b[0m \u001b[0mhow\u001b[0m \u001b[0;34m=\u001b[0m \u001b[0mself\u001b[0m\u001b[0;34m.\u001b[0m\u001b[0m_aggregate\u001b[0m\u001b[0;34m(\u001b[0m\u001b[0mfunc\u001b[0m\u001b[0;34m,\u001b[0m \u001b[0maxis\u001b[0m\u001b[0;34m=\u001b[0m\u001b[0maxis\u001b[0m\u001b[0;34m,\u001b[0m \u001b[0;34m*\u001b[0m\u001b[0margs\u001b[0m\u001b[0;34m,\u001b[0m \u001b[0;34m**\u001b[0m\u001b[0mkwargs\u001b[0m\u001b[0;34m)\u001b[0m\u001b[0;34m\u001b[0m\u001b[0;34m\u001b[0m\u001b[0m\n\u001b[0m\u001b[1;32m   7362\u001b[0m         \u001b[0;32mexcept\u001b[0m \u001b[0mTypeError\u001b[0m \u001b[0;32mas\u001b[0m \u001b[0merr\u001b[0m\u001b[0;34m:\u001b[0m\u001b[0;34m\u001b[0m\u001b[0;34m\u001b[0m\u001b[0m\n\u001b[1;32m   7363\u001b[0m             exc = TypeError(\n",
            "\u001b[0;32m/usr/local/lib/python3.6/dist-packages/pandas/core/frame.py\u001b[0m in \u001b[0;36m_aggregate\u001b[0;34m(self, arg, axis, *args, **kwargs)\u001b[0m\n\u001b[1;32m   7384\u001b[0m             \u001b[0mresult\u001b[0m \u001b[0;34m=\u001b[0m \u001b[0mresult\u001b[0m\u001b[0;34m.\u001b[0m\u001b[0mT\u001b[0m \u001b[0;32mif\u001b[0m \u001b[0mresult\u001b[0m \u001b[0;32mis\u001b[0m \u001b[0;32mnot\u001b[0m \u001b[0;32mNone\u001b[0m \u001b[0;32melse\u001b[0m \u001b[0mresult\u001b[0m\u001b[0;34m\u001b[0m\u001b[0;34m\u001b[0m\u001b[0m\n\u001b[1;32m   7385\u001b[0m             \u001b[0;32mreturn\u001b[0m \u001b[0mresult\u001b[0m\u001b[0;34m,\u001b[0m \u001b[0mhow\u001b[0m\u001b[0;34m\u001b[0m\u001b[0;34m\u001b[0m\u001b[0m\n\u001b[0;32m-> 7386\u001b[0;31m         \u001b[0;32mreturn\u001b[0m \u001b[0msuper\u001b[0m\u001b[0;34m(\u001b[0m\u001b[0;34m)\u001b[0m\u001b[0;34m.\u001b[0m\u001b[0m_aggregate\u001b[0m\u001b[0;34m(\u001b[0m\u001b[0marg\u001b[0m\u001b[0;34m,\u001b[0m \u001b[0;34m*\u001b[0m\u001b[0margs\u001b[0m\u001b[0;34m,\u001b[0m \u001b[0;34m**\u001b[0m\u001b[0mkwargs\u001b[0m\u001b[0;34m)\u001b[0m\u001b[0;34m\u001b[0m\u001b[0;34m\u001b[0m\u001b[0m\n\u001b[0m\u001b[1;32m   7387\u001b[0m \u001b[0;34m\u001b[0m\u001b[0m\n\u001b[1;32m   7388\u001b[0m     \u001b[0magg\u001b[0m \u001b[0;34m=\u001b[0m \u001b[0maggregate\u001b[0m\u001b[0;34m\u001b[0m\u001b[0;34m\u001b[0m\u001b[0m\n",
            "\u001b[0;32m/usr/local/lib/python3.6/dist-packages/pandas/core/base.py\u001b[0m in \u001b[0;36m_aggregate\u001b[0;34m(self, arg, *args, **kwargs)\u001b[0m\n\u001b[1;32m    478\u001b[0m         \u001b[0;32melif\u001b[0m \u001b[0mis_list_like\u001b[0m\u001b[0;34m(\u001b[0m\u001b[0marg\u001b[0m\u001b[0;34m)\u001b[0m\u001b[0;34m:\u001b[0m\u001b[0;34m\u001b[0m\u001b[0;34m\u001b[0m\u001b[0m\n\u001b[1;32m    479\u001b[0m             \u001b[0;31m# we require a list, but not an 'str'\u001b[0m\u001b[0;34m\u001b[0m\u001b[0;34m\u001b[0m\u001b[0;34m\u001b[0m\u001b[0m\n\u001b[0;32m--> 480\u001b[0;31m             \u001b[0;32mreturn\u001b[0m \u001b[0mself\u001b[0m\u001b[0;34m.\u001b[0m\u001b[0m_aggregate_multiple_funcs\u001b[0m\u001b[0;34m(\u001b[0m\u001b[0marg\u001b[0m\u001b[0;34m,\u001b[0m \u001b[0m_axis\u001b[0m\u001b[0;34m=\u001b[0m\u001b[0m_axis\u001b[0m\u001b[0;34m)\u001b[0m\u001b[0;34m,\u001b[0m \u001b[0;32mNone\u001b[0m\u001b[0;34m\u001b[0m\u001b[0;34m\u001b[0m\u001b[0m\n\u001b[0m\u001b[1;32m    481\u001b[0m         \u001b[0;32melse\u001b[0m\u001b[0;34m:\u001b[0m\u001b[0;34m\u001b[0m\u001b[0;34m\u001b[0m\u001b[0m\n\u001b[1;32m    482\u001b[0m             \u001b[0mresult\u001b[0m \u001b[0;34m=\u001b[0m \u001b[0;32mNone\u001b[0m\u001b[0;34m\u001b[0m\u001b[0;34m\u001b[0m\u001b[0m\n",
            "\u001b[0;32m/usr/local/lib/python3.6/dist-packages/pandas/core/base.py\u001b[0m in \u001b[0;36m_aggregate_multiple_funcs\u001b[0;34m(self, arg, _axis)\u001b[0m\n\u001b[1;32m    524\u001b[0m                 \u001b[0mcolg\u001b[0m \u001b[0;34m=\u001b[0m \u001b[0mself\u001b[0m\u001b[0;34m.\u001b[0m\u001b[0m_gotitem\u001b[0m\u001b[0;34m(\u001b[0m\u001b[0mcol\u001b[0m\u001b[0;34m,\u001b[0m \u001b[0mndim\u001b[0m\u001b[0;34m=\u001b[0m\u001b[0;36m1\u001b[0m\u001b[0;34m,\u001b[0m \u001b[0msubset\u001b[0m\u001b[0;34m=\u001b[0m\u001b[0mobj\u001b[0m\u001b[0;34m.\u001b[0m\u001b[0miloc\u001b[0m\u001b[0;34m[\u001b[0m\u001b[0;34m:\u001b[0m\u001b[0;34m,\u001b[0m \u001b[0mindex\u001b[0m\u001b[0;34m]\u001b[0m\u001b[0;34m)\u001b[0m\u001b[0;34m\u001b[0m\u001b[0;34m\u001b[0m\u001b[0m\n\u001b[1;32m    525\u001b[0m                 \u001b[0;32mtry\u001b[0m\u001b[0;34m:\u001b[0m\u001b[0;34m\u001b[0m\u001b[0;34m\u001b[0m\u001b[0m\n\u001b[0;32m--> 526\u001b[0;31m                     \u001b[0mnew_res\u001b[0m \u001b[0;34m=\u001b[0m \u001b[0mcolg\u001b[0m\u001b[0;34m.\u001b[0m\u001b[0maggregate\u001b[0m\u001b[0;34m(\u001b[0m\u001b[0marg\u001b[0m\u001b[0;34m)\u001b[0m\u001b[0;34m\u001b[0m\u001b[0;34m\u001b[0m\u001b[0m\n\u001b[0m\u001b[1;32m    527\u001b[0m                 \u001b[0;32mexcept\u001b[0m \u001b[0;34m(\u001b[0m\u001b[0mTypeError\u001b[0m\u001b[0;34m,\u001b[0m \u001b[0mDataError\u001b[0m\u001b[0;34m)\u001b[0m\u001b[0;34m:\u001b[0m\u001b[0;34m\u001b[0m\u001b[0;34m\u001b[0m\u001b[0m\n\u001b[1;32m    528\u001b[0m                     \u001b[0;32mpass\u001b[0m\u001b[0;34m\u001b[0m\u001b[0;34m\u001b[0m\u001b[0m\n",
            "\u001b[0;32m/usr/local/lib/python3.6/dist-packages/pandas/core/series.py\u001b[0m in \u001b[0;36maggregate\u001b[0;34m(self, func, axis, *args, **kwargs)\u001b[0m\n\u001b[1;32m   4034\u001b[0m             \u001b[0mfunc\u001b[0m \u001b[0;34m=\u001b[0m \u001b[0mdict\u001b[0m\u001b[0;34m(\u001b[0m\u001b[0mkwargs\u001b[0m\u001b[0;34m.\u001b[0m\u001b[0mitems\u001b[0m\u001b[0;34m(\u001b[0m\u001b[0;34m)\u001b[0m\u001b[0;34m)\u001b[0m\u001b[0;34m\u001b[0m\u001b[0;34m\u001b[0m\u001b[0m\n\u001b[1;32m   4035\u001b[0m \u001b[0;34m\u001b[0m\u001b[0m\n\u001b[0;32m-> 4036\u001b[0;31m         \u001b[0mresult\u001b[0m\u001b[0;34m,\u001b[0m \u001b[0mhow\u001b[0m \u001b[0;34m=\u001b[0m \u001b[0mself\u001b[0m\u001b[0;34m.\u001b[0m\u001b[0m_aggregate\u001b[0m\u001b[0;34m(\u001b[0m\u001b[0mfunc\u001b[0m\u001b[0;34m,\u001b[0m \u001b[0;34m*\u001b[0m\u001b[0margs\u001b[0m\u001b[0;34m,\u001b[0m \u001b[0;34m**\u001b[0m\u001b[0mkwargs\u001b[0m\u001b[0;34m)\u001b[0m\u001b[0;34m\u001b[0m\u001b[0;34m\u001b[0m\u001b[0m\n\u001b[0m\u001b[1;32m   4037\u001b[0m         \u001b[0;32mif\u001b[0m \u001b[0mresult\u001b[0m \u001b[0;32mis\u001b[0m \u001b[0;32mNone\u001b[0m\u001b[0;34m:\u001b[0m\u001b[0;34m\u001b[0m\u001b[0;34m\u001b[0m\u001b[0m\n\u001b[1;32m   4038\u001b[0m \u001b[0;34m\u001b[0m\u001b[0m\n",
            "\u001b[0;32m/usr/local/lib/python3.6/dist-packages/pandas/core/base.py\u001b[0m in \u001b[0;36m_aggregate\u001b[0;34m(self, arg, *args, **kwargs)\u001b[0m\n\u001b[1;32m    478\u001b[0m         \u001b[0;32melif\u001b[0m \u001b[0mis_list_like\u001b[0m\u001b[0;34m(\u001b[0m\u001b[0marg\u001b[0m\u001b[0;34m)\u001b[0m\u001b[0;34m:\u001b[0m\u001b[0;34m\u001b[0m\u001b[0;34m\u001b[0m\u001b[0m\n\u001b[1;32m    479\u001b[0m             \u001b[0;31m# we require a list, but not an 'str'\u001b[0m\u001b[0;34m\u001b[0m\u001b[0;34m\u001b[0m\u001b[0;34m\u001b[0m\u001b[0m\n\u001b[0;32m--> 480\u001b[0;31m             \u001b[0;32mreturn\u001b[0m \u001b[0mself\u001b[0m\u001b[0;34m.\u001b[0m\u001b[0m_aggregate_multiple_funcs\u001b[0m\u001b[0;34m(\u001b[0m\u001b[0marg\u001b[0m\u001b[0;34m,\u001b[0m \u001b[0m_axis\u001b[0m\u001b[0;34m=\u001b[0m\u001b[0m_axis\u001b[0m\u001b[0;34m)\u001b[0m\u001b[0;34m,\u001b[0m \u001b[0;32mNone\u001b[0m\u001b[0;34m\u001b[0m\u001b[0;34m\u001b[0m\u001b[0m\n\u001b[0m\u001b[1;32m    481\u001b[0m         \u001b[0;32melse\u001b[0m\u001b[0;34m:\u001b[0m\u001b[0;34m\u001b[0m\u001b[0;34m\u001b[0m\u001b[0m\n\u001b[1;32m    482\u001b[0m             \u001b[0mresult\u001b[0m \u001b[0;34m=\u001b[0m \u001b[0;32mNone\u001b[0m\u001b[0;34m\u001b[0m\u001b[0;34m\u001b[0m\u001b[0m\n",
            "\u001b[0;32m/usr/local/lib/python3.6/dist-packages/pandas/core/base.py\u001b[0m in \u001b[0;36m_aggregate_multiple_funcs\u001b[0;34m(self, arg, _axis)\u001b[0m\n\u001b[1;32m    508\u001b[0m                 \u001b[0mcolg\u001b[0m \u001b[0;34m=\u001b[0m \u001b[0mself\u001b[0m\u001b[0;34m.\u001b[0m\u001b[0m_gotitem\u001b[0m\u001b[0;34m(\u001b[0m\u001b[0mobj\u001b[0m\u001b[0;34m.\u001b[0m\u001b[0mname\u001b[0m\u001b[0;34m,\u001b[0m \u001b[0mndim\u001b[0m\u001b[0;34m=\u001b[0m\u001b[0;36m1\u001b[0m\u001b[0;34m,\u001b[0m \u001b[0msubset\u001b[0m\u001b[0;34m=\u001b[0m\u001b[0mobj\u001b[0m\u001b[0;34m)\u001b[0m\u001b[0;34m\u001b[0m\u001b[0;34m\u001b[0m\u001b[0m\n\u001b[1;32m    509\u001b[0m                 \u001b[0;32mtry\u001b[0m\u001b[0;34m:\u001b[0m\u001b[0;34m\u001b[0m\u001b[0;34m\u001b[0m\u001b[0m\n\u001b[0;32m--> 510\u001b[0;31m                     \u001b[0mnew_res\u001b[0m \u001b[0;34m=\u001b[0m \u001b[0mcolg\u001b[0m\u001b[0;34m.\u001b[0m\u001b[0maggregate\u001b[0m\u001b[0;34m(\u001b[0m\u001b[0ma\u001b[0m\u001b[0;34m)\u001b[0m\u001b[0;34m\u001b[0m\u001b[0;34m\u001b[0m\u001b[0m\n\u001b[0m\u001b[1;32m    511\u001b[0m \u001b[0;34m\u001b[0m\u001b[0m\n\u001b[1;32m    512\u001b[0m                 \u001b[0;32mexcept\u001b[0m \u001b[0mTypeError\u001b[0m\u001b[0;34m:\u001b[0m\u001b[0;34m\u001b[0m\u001b[0;34m\u001b[0m\u001b[0m\n",
            "\u001b[0;32m/usr/local/lib/python3.6/dist-packages/pandas/core/series.py\u001b[0m in \u001b[0;36maggregate\u001b[0;34m(self, func, axis, *args, **kwargs)\u001b[0m\n\u001b[1;32m   4034\u001b[0m             \u001b[0mfunc\u001b[0m \u001b[0;34m=\u001b[0m \u001b[0mdict\u001b[0m\u001b[0;34m(\u001b[0m\u001b[0mkwargs\u001b[0m\u001b[0;34m.\u001b[0m\u001b[0mitems\u001b[0m\u001b[0;34m(\u001b[0m\u001b[0;34m)\u001b[0m\u001b[0;34m)\u001b[0m\u001b[0;34m\u001b[0m\u001b[0;34m\u001b[0m\u001b[0m\n\u001b[1;32m   4035\u001b[0m \u001b[0;34m\u001b[0m\u001b[0m\n\u001b[0;32m-> 4036\u001b[0;31m         \u001b[0mresult\u001b[0m\u001b[0;34m,\u001b[0m \u001b[0mhow\u001b[0m \u001b[0;34m=\u001b[0m \u001b[0mself\u001b[0m\u001b[0;34m.\u001b[0m\u001b[0m_aggregate\u001b[0m\u001b[0;34m(\u001b[0m\u001b[0mfunc\u001b[0m\u001b[0;34m,\u001b[0m \u001b[0;34m*\u001b[0m\u001b[0margs\u001b[0m\u001b[0;34m,\u001b[0m \u001b[0;34m**\u001b[0m\u001b[0mkwargs\u001b[0m\u001b[0;34m)\u001b[0m\u001b[0;34m\u001b[0m\u001b[0;34m\u001b[0m\u001b[0m\n\u001b[0m\u001b[1;32m   4037\u001b[0m         \u001b[0;32mif\u001b[0m \u001b[0mresult\u001b[0m \u001b[0;32mis\u001b[0m \u001b[0;32mNone\u001b[0m\u001b[0;34m:\u001b[0m\u001b[0;34m\u001b[0m\u001b[0;34m\u001b[0m\u001b[0m\n\u001b[1;32m   4038\u001b[0m \u001b[0;34m\u001b[0m\u001b[0m\n",
            "\u001b[0;32m/usr/local/lib/python3.6/dist-packages/pandas/core/base.py\u001b[0m in \u001b[0;36m_aggregate\u001b[0;34m(self, arg, *args, **kwargs)\u001b[0m\n\u001b[1;32m    305\u001b[0m \u001b[0;34m\u001b[0m\u001b[0m\n\u001b[1;32m    306\u001b[0m         \u001b[0;32mif\u001b[0m \u001b[0misinstance\u001b[0m\u001b[0;34m(\u001b[0m\u001b[0marg\u001b[0m\u001b[0;34m,\u001b[0m \u001b[0mstr\u001b[0m\u001b[0;34m)\u001b[0m\u001b[0;34m:\u001b[0m\u001b[0;34m\u001b[0m\u001b[0;34m\u001b[0m\u001b[0m\n\u001b[0;32m--> 307\u001b[0;31m             \u001b[0;32mreturn\u001b[0m \u001b[0mself\u001b[0m\u001b[0;34m.\u001b[0m\u001b[0m_try_aggregate_string_function\u001b[0m\u001b[0;34m(\u001b[0m\u001b[0marg\u001b[0m\u001b[0;34m,\u001b[0m \u001b[0;34m*\u001b[0m\u001b[0margs\u001b[0m\u001b[0;34m,\u001b[0m \u001b[0;34m**\u001b[0m\u001b[0mkwargs\u001b[0m\u001b[0;34m)\u001b[0m\u001b[0;34m,\u001b[0m \u001b[0;32mNone\u001b[0m\u001b[0;34m\u001b[0m\u001b[0;34m\u001b[0m\u001b[0m\n\u001b[0m\u001b[1;32m    308\u001b[0m \u001b[0;34m\u001b[0m\u001b[0m\n\u001b[1;32m    309\u001b[0m         \u001b[0;32mif\u001b[0m \u001b[0misinstance\u001b[0m\u001b[0;34m(\u001b[0m\u001b[0marg\u001b[0m\u001b[0;34m,\u001b[0m \u001b[0mdict\u001b[0m\u001b[0;34m)\u001b[0m\u001b[0;34m:\u001b[0m\u001b[0;34m\u001b[0m\u001b[0;34m\u001b[0m\u001b[0m\n",
            "\u001b[0;32m/usr/local/lib/python3.6/dist-packages/pandas/core/base.py\u001b[0m in \u001b[0;36m_try_aggregate_string_function\u001b[0;34m(self, arg, *args, **kwargs)\u001b[0m\n\u001b[1;32m    276\u001b[0m \u001b[0;34m\u001b[0m\u001b[0m\n\u001b[1;32m    277\u001b[0m         raise AttributeError(\n\u001b[0;32m--> 278\u001b[0;31m             \u001b[0;34mf\"'{arg}' is not a valid function for '{type(self).__name__}' object\"\u001b[0m\u001b[0;34m\u001b[0m\u001b[0;34m\u001b[0m\u001b[0m\n\u001b[0m\u001b[1;32m    279\u001b[0m         )\n\u001b[1;32m    280\u001b[0m \u001b[0;34m\u001b[0m\u001b[0m\n",
            "\u001b[0;31mAttributeError\u001b[0m: 'co' is not a valid function for 'Series' object"
          ]
        }
      ]
    },
    {
      "cell_type": "markdown",
      "metadata": {
        "id": "O80-lPHotJsj"
      },
      "source": [
        "### (d)"
      ]
    },
    {
      "cell_type": "markdown",
      "metadata": {
        "id": "yqhzlhk3b26S"
      },
      "source": [
        "ts variable in the dataset has not been touched during pre processing because it represents the the time series data and timestamps "
      ]
    },
    {
      "cell_type": "markdown",
      "metadata": {
        "id": "5m0TB2yTtJsj"
      },
      "source": [
        "_Your answer for 1.2d goes here_"
      ]
    },
    {
      "cell_type": "markdown",
      "metadata": {
        "id": "0CL6Ig7RtJsj"
      },
      "source": [
        "### (e)"
      ]
    },
    {
      "cell_type": "code",
      "metadata": {
        "id": "VYbVwrGdtJsk"
      },
      "source": [
        "device1 = one_hot_encoded_df['MAC:_00:0f:00:70:91:0a'] == 1\n",
        "device2 = one_hot_encoded_df['MAC:_1c:bf:ce:15:ec:4d'] == 1\n",
        "device3 = one_hot_encoded_df['MAC:_b8:27:eb:bf:9d:51'] == 1"
      ],
      "execution_count": 49,
      "outputs": []
    },
    {
      "cell_type": "code",
      "metadata": {
        "id": "njnxEvOCgj8w"
      },
      "source": [
        "mean_co = [one_hot_encoded_df.loc[device1,'co'].mean(),one_hot_encoded_df.loc[device2,'co'].mean(),one_hot_encoded_df.loc[device2,'co'].mean()]\n",
        "mean_humidity = [one_hot_encoded_df.loc[device1,'humidity'].mean(),one_hot_encoded_df.loc[device2,'humidity'].mean(),one_hot_encoded_df.loc[device3,'humidity'].mean()]\n",
        "mean_lpg = [one_hot_encoded_df.loc[device1,'lpg'].mean(),one_hot_encoded_df.loc[device2,'lpg'].mean(),one_hot_encoded_df.loc[device3,'lpg'].mean()]\n",
        "mean_smoke = [one_hot_encoded_df.loc[device1,'smoke'].mean(),one_hot_encoded_df.loc[device2,'smoke'].mean(),one_hot_encoded_df.loc[device3,'smoke'].mean()]\n",
        "mean_temp = [one_hot_encoded_df.loc[device1,'temp'].mean(),one_hot_encoded_df.loc[device2,'temp'].mean(),one_hot_encoded_df.loc[device3,'temp'].mean()]"
      ],
      "execution_count": 50,
      "outputs": []
    },
    {
      "cell_type": "code",
      "metadata": {
        "id": "0HP_8_friJ5C",
        "outputId": "e957e1d7-7230-4ab5-c799-539d324775d8",
        "colab": {
          "base_uri": "https://localhost:8080/",
          "height": 320
        }
      },
      "source": [
        "index = ['device1','device2','device3']\n",
        "df = pd.DataFrame({'mean_co': mean_co,'mean_humidity': mean_humidity, 'mean_lpg': mean_lpg, 'mean_smoke': mean_smoke, 'mean_temp':mean_temp}, index = index)\n",
        "ax = df.plot.bar(rot=0,figsize=(20,5))\n"
      ],
      "execution_count": 60,
      "outputs": [
        {
          "output_type": "display_data",
          "data": {
            "image/png": "[encoded data removed]",
            "text/plain": [
              "<Figure size 1440x360 with 1 Axes>"
            ]
          },
          "metadata": {
            "tags": [],
            "needs_background": "light"
          }
        }
      ]
    },
    {
      "cell_type": "code",
      "metadata": {
        "id": "IN8b4RsHvMKL"
      },
      "source": [
        "var_co = [one_hot_encoded_df.loc[device1,'co'].var(),one_hot_encoded_df.loc[device2,'co'].var(),one_hot_encoded_df.loc[device2,'co'].var()]\n",
        "var_humidity = [one_hot_encoded_df.loc[device1,'humidity'].var(),one_hot_encoded_df.loc[device2,'humidity'].var(),one_hot_encoded_df.loc[device3,'humidity'].var()]\n",
        "var_lpg = [one_hot_encoded_df.loc[device1,'lpg'].var(),one_hot_encoded_df.loc[device2,'lpg'].var(),one_hot_encoded_df.loc[device3,'lpg'].var()]\n",
        "var_smoke = [one_hot_encoded_df.loc[device1,'smoke'].var(),one_hot_encoded_df.loc[device2,'smoke'].var(),one_hot_encoded_df.loc[device3,'smoke'].var()]\n",
        "var_temp = [one_hot_encoded_df.loc[device1,'temp'].var(),one_hot_encoded_df.loc[device2,'temp'].var(),one_hot_encoded_df.loc[device3,'temp'].var()]"
      ],
      "execution_count": 84,
      "outputs": []
    },
    {
      "cell_type": "code",
      "metadata": {
        "id": "POPfAHybvdF1",
        "outputId": "93a0e7c5-dd22-49d3-cfc5-76b44a0a6725",
        "colab": {
          "base_uri": "https://localhost:8080/",
          "height": 320
        }
      },
      "source": [
        "index2 = ['device1','device2','device3']\n",
        "df2 = pd.DataFrame({'var_co': var_co,'var_humidity': var_humidity, 'var_lpg': var_lpg, 'var_smoke': var_smoke, 'var_temp':var_temp}, index = index)\n",
        "ax2 = df2.plot.bar(rot=0,figsize=(20,5))"
      ],
      "execution_count": 86,
      "outputs": [
        {
          "output_type": "display_data",
          "data": {
            "image/png": "[encoded data removed]",
            "text/plain": [
              "<Figure size 1440x360 with 1 Axes>"
            ]
          },
          "metadata": {
            "tags": [],
            "needs_background": "light"
          }
        }
      ]
    },
    {
      "cell_type": "code",
      "metadata": {
        "id": "aPOJE_skpnpP"
      },
      "source": [
        "**Variance of the five independent variables**"
      ],
      "execution_count": null,
      "outputs": []
    },
    {
      "cell_type": "markdown",
      "metadata": {
        "id": "dIzU8wB_tJsn"
      },
      "source": [
        "## Problem 1.3"
      ]
    },
    {
      "cell_type": "code",
      "metadata": {
        "id": "hs5qEe8XtJsn"
      },
      "source": [
        "# Code of 1.3 goes here"
      ],
      "execution_count": null,
      "outputs": []
    },
    {
      "cell_type": "markdown",
      "metadata": {
        "id": "p65ty6DotJsq"
      },
      "source": [
        "# 2. Feature Learning for _Synthetically Generated Data_"
      ]
    },
    {
      "cell_type": "markdown",
      "metadata": {
        "id": "NtMLOWzvtJsq"
      },
      "source": [
        "## Problem 2.1"
      ]
    },
    {
      "cell_type": "markdown",
      "metadata": {
        "id": "Ox-Q7c49tJsq"
      },
      "source": [
        "### (a)"
      ]
    },
    {
      "cell_type": "code",
      "metadata": {
        "id": "hRIGvhZQHcGg",
        "outputId": "2f387b5e-5193-469b-b7d3-2fc3a9d27fda",
        "colab": {
          "base_uri": "https://localhost:8080/",
          "height": 68
        }
      },
      "source": [
        "A = np.random.randn(3,2)\n",
        "print(A)"
      ],
      "execution_count": 102,
      "outputs": [
        {
          "output_type": "stream",
          "text": [
            "[[-1.43425646  0.56096121]\n",
            " [-0.58661663 -1.03684866]\n",
            " [-0.86259734  0.07669609]]\n"
          ],
          "name": "stdout"
        }
      ]
    },
    {
      "cell_type": "markdown",
      "metadata": {
        "id": "9cpckl7-tJst"
      },
      "source": [
        "### (b)"
      ]
    },
    {
      "cell_type": "code",
      "metadata": {
        "id": "r2qp0bpptJst",
        "outputId": "0a1d20be-8f65-47fe-fec5-a8b213288c16",
        "colab": {
          "base_uri": "https://localhost:8080/",
          "height": 34
        }
      },
      "source": [
        "np.linalg.matrix_rank(A, tol=None)"
      ],
      "execution_count": 103,
      "outputs": [
        {
          "output_type": "execute_result",
          "data": {
            "text/plain": [
              "2"
            ]
          },
          "metadata": {
            "tags": []
          },
          "execution_count": 103
        }
      ]
    },
    {
      "cell_type": "markdown",
      "metadata": {
        "id": "EMT47A4UtJsv"
      },
      "source": [
        "### (c)"
      ]
    },
    {
      "cell_type": "code",
      "metadata": {
        "id": "alXEuuz-tJsw",
        "outputId": "8d8bc579-109b-4c54-f71d-c59c5647eaa6",
        "colab": {
          "base_uri": "https://localhost:8080/",
          "height": 34
        }
      },
      "source": [
        "np.linalg.norm(A)"
      ],
      "execution_count": 104,
      "outputs": [
        {
          "output_type": "execute_result",
          "data": {
            "text/plain": [
              "2.1309386994893353"
            ]
          },
          "metadata": {
            "tags": []
          },
          "execution_count": 104
        }
      ]
    },
    {
      "cell_type": "code",
      "metadata": {
        "id": "HgUHn4STU_52",
        "outputId": "31c0bb5d-0848-45de-c3c7-db57e665f802",
        "colab": {
          "base_uri": "https://localhost:8080/",
          "height": 68
        }
      },
      "source": [
        "a = A[0]; print(a)\n",
        "b = A[1]; print(b)\n",
        "c = A[2]; print(c)"
      ],
      "execution_count": 105,
      "outputs": [
        {
          "output_type": "stream",
          "text": [
            "[-1.43425646  0.56096121]\n",
            "[-0.58661663 -1.03684866]\n",
            "[-0.86259734  0.07669609]\n"
          ],
          "name": "stdout"
        }
      ]
    },
    {
      "cell_type": "code",
      "metadata": {
        "id": "F7j5opKpX7se",
        "outputId": "71a8dbff-8b58-4c45-c9f1-36c89ca24880",
        "colab": {
          "base_uri": "https://localhost:8080/",
          "height": 68
        }
      },
      "source": [
        "print(np.inner(a,b));\n",
        "print(np.inner(a,c));\n",
        "print(np.inner(b,c));"
      ],
      "execution_count": 106,
      "outputs": [
        {
          "output_type": "stream",
          "text": [
            "0.25972680447319174\n",
            "1.2802093378127872\n",
            "0.42649170481442705\n"
          ],
          "name": "stdout"
        }
      ]
    },
    {
      "cell_type": "markdown",
      "metadata": {
        "id": "qwWYl9m0tJsy"
      },
      "source": [
        "### (d)"
      ]
    },
    {
      "cell_type": "markdown",
      "metadata": {
        "id": "Ig0rVogudTjl"
      },
      "source": [
        "Show if this belongs to the subspace corresponding to the column space of A\n"
      ]
    },
    {
      "cell_type": "code",
      "metadata": {
        "id": "yvW8xbhttJsy",
        "outputId": "07349c8a-8302-4a3e-c6d5-a49a74b63a7a",
        "colab": {
          "base_uri": "https://localhost:8080/",
          "height": 68
        }
      },
      "source": [
        "x1 = np.random.random(2);\n",
        "x2 = np.random.random(2);\n",
        "x3 = np.random.random(2);\n",
        "print(x1);\n",
        "print(x2);\n",
        "print(x3);"
      ],
      "execution_count": 107,
      "outputs": [
        {
          "output_type": "stream",
          "text": [
            "[0.52618588 0.76903184]\n",
            "[0.72709974 0.12958139]\n",
            "[0.74143287 0.09876147]\n"
          ],
          "name": "stdout"
        }
      ]
    },
    {
      "cell_type": "markdown",
      "metadata": {
        "id": "KBQdAx6kmPMj"
      },
      "source": [
        "\n",
        " We see that the vectors x1, x2 and x3 are closed under addition and \n",
        "scalar multiplication hence they belong to the same subspace S."
      ]
    },
    {
      "cell_type": "markdown",
      "metadata": {
        "id": "ZoiV44lltJs0"
      },
      "source": [
        "## Problem 2.2"
      ]
    },
    {
      "cell_type": "markdown",
      "metadata": {
        "id": "vQAvbBLmHTtx"
      },
      "source": [
        "###(a)"
      ]
    },
    {
      "cell_type": "code",
      "metadata": {
        "id": "KMnw6hE_HzZF"
      },
      "source": [
        "b = np.random.randn(2,250)"
      ],
      "execution_count": 108,
      "outputs": []
    },
    {
      "cell_type": "code",
      "metadata": {
        "id": "E1l_VLAuZ-4e"
      },
      "source": [
        "x = A@b"
      ],
      "execution_count": 109,
      "outputs": []
    },
    {
      "cell_type": "code",
      "metadata": {
        "id": "GRVxcpFVGTU3",
        "outputId": "ac9990b4-5a67-46a3-b3bb-85f28de7bd5e",
        "colab": {
          "base_uri": "https://localhost:8080/",
          "height": 1000
        }
      },
      "source": [
        "print(x)"
      ],
      "execution_count": 112,
      "outputs": [
        {
          "output_type": "stream",
          "text": [
            "[[ 2.07073129e+00 -4.45911735e-01 -5.18080352e-01 -1.18971073e+00\n",
            "  -1.48247322e+00 -9.95120293e-01  3.65201640e-01 -8.20660780e-01\n",
            "   2.65900112e-01  1.12779804e+00  6.89188920e-01 -6.90943108e-01\n",
            "   3.70651330e+00  1.20244765e+00 -4.34198212e-01 -1.02976991e-01\n",
            "  -6.01620579e-01  1.48439763e+00 -2.65722624e+00 -3.47210244e-01\n",
            "   1.23662804e+00  3.03114702e+00 -8.85298171e-01 -2.91578051e+00\n",
            "   1.48563805e+00  2.23012117e+00 -1.34943001e+00 -7.52302192e-01\n",
            "  -2.21020147e-01  1.12418718e+00 -1.99933684e+00  2.49908863e-01\n",
            "   2.28038053e-01  1.19611807e+00  5.43563242e-01  4.32444272e-01\n",
            "  -1.00421459e+00  3.09209578e-02  1.55482334e+00 -2.49179056e-01\n",
            "  -2.09607545e+00  1.75702087e+00  1.02195503e+00  7.27730368e-01\n",
            "   3.05229955e-01 -7.49254584e-01  5.37776466e-01  2.99477757e-01\n",
            "  -1.50339483e-01  1.83397512e+00 -1.64698538e+00  4.13377918e+00\n",
            "  -1.70231081e+00  4.43098090e-02 -3.79490164e-01 -2.18645716e+00\n",
            "  -8.04748228e-01 -7.98041025e-01  1.75673169e+00  8.78288576e-01\n",
            "   5.73538822e-01  5.75428434e-01 -1.74701419e+00  4.41843641e-01\n",
            "   1.91041678e+00 -1.35864425e-01 -3.93786118e+00 -1.84811404e+00\n",
            "  -2.21853252e+00 -9.35877176e-01  8.47626559e-01 -3.53067179e-01\n",
            "  -9.43503750e-01 -5.77684240e-02  4.94163581e-01 -9.78558998e-01\n",
            "   1.93324747e-01 -1.65531734e+00  2.06166296e+00 -7.23038496e-01\n",
            "  -1.12462903e+00  6.51608196e-01 -2.36747287e+00  2.52559675e+00\n",
            "   1.33411111e+00 -1.71816895e+00 -5.04373620e-01  2.75043164e+00\n",
            "  -9.86237292e-01  1.29138704e+00 -3.00157358e+00 -1.81803270e+00\n",
            "   1.15349882e+00  2.35951288e+00  4.89368549e-01 -4.89731925e-01\n",
            "   3.14712728e-01 -1.75001010e+00 -4.10672697e-01  1.78544366e+00\n",
            "   1.78152373e+00  2.88048951e+00  1.54207399e-01 -1.85502096e+00\n",
            "   1.95951345e+00  1.32942833e+00  8.93871934e-01 -1.30964775e+00\n",
            "   1.00848561e-02  2.00778575e+00 -4.95022338e-01  8.02652170e-02\n",
            "  -4.59368953e-02  2.69377257e-01  3.54915761e-01 -2.85182958e+00\n",
            "   1.72256645e-01 -2.74214282e-02  1.53161772e+00 -1.79611275e-01\n",
            "  -9.52560938e-01 -1.96880491e+00  1.69343877e+00 -3.39627316e-02\n",
            "   1.87344527e+00 -5.99513502e-01 -3.23770048e-01  9.07294598e-01\n",
            "   2.71816376e+00 -1.36182333e+00 -1.37759176e+00  2.59311868e-02\n",
            "   2.84463540e+00 -1.62517898e+00  7.56742451e-01 -4.39241491e-01\n",
            "   3.16275928e-03 -1.02884184e+00 -1.62359604e+00  3.85954781e+00\n",
            "  -1.04322711e+00 -3.52405626e-01 -2.03938482e+00 -1.74718529e+00\n",
            "   2.21223761e-01 -5.15415397e-01  3.94598784e-01 -4.77750362e-01\n",
            "  -5.97671912e-01 -8.41311789e-01 -2.48456648e+00 -9.49070950e-01\n",
            "  -1.73479045e+00  9.52374425e-02  1.01592500e+00 -3.38820349e+00\n",
            "   5.52624639e-01 -2.05837650e+00 -1.19577263e+00 -6.51838822e-01\n",
            "  -8.36599958e-01  3.42506695e-01  3.18504152e-01  2.22847472e+00\n",
            "  -8.45887401e-01 -1.03137081e+00  8.45954736e-01  2.69966105e+00\n",
            "   6.12009978e-01 -1.28828550e+00 -3.83506866e-01  9.69995822e-01\n",
            "  -9.21801500e-01 -1.07913113e+00  1.73916704e+00 -3.18271971e+00\n",
            "   2.58500334e-01 -1.25965872e+00 -1.34628530e+00 -4.47165084e-01\n",
            "  -6.26027538e-01  1.72593405e+00  9.44303620e-01  2.08923368e+00\n",
            "  -1.00333192e+00  1.56685858e+00 -6.66000249e-02  1.73871459e+00\n",
            "  -1.25608252e-01 -1.65298813e-01  1.42695698e+00 -9.61205932e-01\n",
            "  -1.60480724e+00  8.08707356e-01 -1.75315026e+00 -1.58602382e+00\n",
            "  -2.96514380e-01  8.35167874e-01  1.00460877e+00  9.04751024e-01\n",
            "   2.21552181e+00 -1.47694102e+00 -1.76771401e-01 -1.95411763e+00\n",
            "  -3.25778019e+00 -8.57038194e-01  1.45906461e-02  5.42785525e-01\n",
            "   4.32260891e-01 -4.59445984e+00 -8.51274343e-01 -4.07500303e-01\n",
            "  -1.12199794e+00  2.21727222e-02  1.70998149e-01  2.90232614e+00\n",
            "   1.44184642e+00 -2.07424942e+00 -1.38921845e+00  2.19983660e-02\n",
            "  -4.92588113e-01 -3.51860712e+00 -6.85227415e-01 -2.28419761e-01\n",
            "   4.45885391e-01  1.53892606e+00 -7.50162135e-01  9.17522377e-01\n",
            "  -7.18054864e-01  1.31340476e+00 -4.04983365e+00 -2.55795632e+00\n",
            "   2.26481338e-01  8.05477661e-01  1.95561736e+00 -3.08671072e+00\n",
            "   6.31268972e-02  8.40172426e-01  2.63913088e-01  2.36034148e+00\n",
            "   4.10353587e-01  5.51036786e-01 -2.50506959e+00  4.97416313e-01\n",
            "  -6.21708259e-01 -9.53476046e-01  1.50370624e+00  2.03664740e+00\n",
            "   2.70569559e+00  9.71127046e-02]\n",
            " [-1.82934731e+00 -2.94620919e-02  8.46908883e-01 -5.37437098e-01\n",
            "  -1.94204557e+00 -1.42148304e+00  8.94444036e-01  3.96698484e-01\n",
            "  -8.40154343e-01  8.55498990e-02  4.69563058e-01 -2.28167605e+00\n",
            "   7.66138169e-01  9.23545566e-01  3.56045265e-01 -5.78019097e-01\n",
            "   1.18594404e+00  9.30413811e-01  1.00499829e+00 -1.43270386e+00\n",
            "  -1.29008630e+00 -5.00667232e-01  8.10476827e-01 -5.85204096e-01\n",
            "   1.11279928e+00  1.09665082e+00  1.91318993e+00 -2.55535954e+00\n",
            "   1.58673780e-01  5.14003397e-01 -1.68658582e+00 -1.30047403e-01\n",
            "  -1.22885449e+00  1.48499870e+00 -1.43786032e-01 -1.38587307e+00\n",
            "   1.16529631e+00 -3.79396920e-01  2.10320079e+00  1.00404022e+00\n",
            "  -1.77512176e+00 -9.28232796e-01 -4.91321044e-01  1.72404513e+00\n",
            "   4.43844456e-01 -4.97527651e-01  2.42626417e-01 -1.14372355e+00\n",
            "   2.54056900e-01  2.77359674e+00  3.44711379e-01  4.00127343e-01\n",
            "   8.18348299e-01 -4.75391812e-01 -9.59041883e-01 -1.45778480e-02\n",
            "  -4.93337617e-01 -4.31103175e-01  1.96785710e+00 -3.00635039e-01\n",
            "   1.58880948e+00 -2.41834222e+00  2.60347830e-01 -6.21313292e-02\n",
            "  -1.19683537e+00 -2.53523532e+00 -1.13370155e-02  1.01658589e+00\n",
            "  -2.14622752e+00 -3.62421866e-01 -7.24231150e-01 -1.00443137e+00\n",
            "   1.40154702e+00 -1.99835075e+00  8.62316248e-01  2.26845777e+00\n",
            "  -1.94765376e+00  6.11768266e-01 -2.87958502e-01  8.29669665e-01\n",
            "  -1.41079927e+00  3.34367603e-01 -5.88899724e-01  3.43841400e-01\n",
            "   3.83923400e-01  1.28260230e+00  1.87535219e-01  1.45665478e+00\n",
            "   4.66789249e-01  7.29550764e-01  1.74918366e+00  9.76634301e-01\n",
            "   4.13774509e-02  6.89136957e-01 -6.29464803e-01  2.65698963e+00\n",
            "   3.28991351e-01  1.06115831e+00 -1.13044441e-01 -3.19759675e-01\n",
            "   1.65024128e-01 -6.93265668e-01 -9.65499748e-01 -1.23858343e+00\n",
            "   1.05746508e+00  1.44657712e+00  9.11358029e-01 -1.05420414e+00\n",
            "  -1.80906291e-01  1.52569920e+00  1.32723111e+00  1.49311604e+00\n",
            "   1.10133414e+00 -5.94964467e-01 -4.37737708e-02  9.01147244e-01\n",
            "  -8.11359398e-01  2.24438586e-01 -4.59029992e-02 -2.29777820e+00\n",
            "  -4.73427656e-01  4.93513668e-01  3.36127224e+00 -9.90503361e-03\n",
            "   6.77092203e-01  5.05990526e-01  7.09325388e-01  1.48680636e-01\n",
            "  -1.11345813e+00  1.09388183e+00  3.73761322e-01  1.41409084e+00\n",
            "   8.54337155e-01  1.32125903e+00  1.85335269e+00 -1.56933920e-01\n",
            "  -3.86014620e-01  3.66469965e-01 -3.25617321e+00  2.68043294e-02\n",
            "   1.37578502e+00  2.64835697e+00  2.09186488e+00  5.91796381e-01\n",
            "  -6.85814725e-01 -1.84917958e+00  1.45225863e+00  2.31301520e-01\n",
            "   1.94097327e+00 -2.33856370e+00  1.38002167e+00 -1.83559211e+00\n",
            "  -1.67445043e+00 -1.28154932e-01  2.33749015e+00  7.35393122e-01\n",
            "   1.11380441e+00 -4.81650954e-01 -9.40743771e-02  1.63227366e-01\n",
            "   3.94527749e-01  3.61566632e-01  1.18111490e+00  5.03850215e-01\n",
            "   3.05926368e-01 -9.43693547e-02  6.15955974e-01  8.66640384e-02\n",
            "  -2.41477603e+00 -3.64295234e-02  1.31543862e+00  1.34920051e+00\n",
            "  -2.58359126e-02  8.33351902e-01 -9.97594293e-01 -2.39879757e+00\n",
            "   1.99808093e+00  8.63733892e-01 -1.34283261e+00 -1.06087543e+00\n",
            "   6.36508775e-01  8.00847377e-01 -4.25293263e-01  4.41198027e-01\n",
            "  -1.08161071e+00  1.22509521e+00 -3.80322089e-01 -2.98189218e+00\n",
            "  -5.38934655e-01 -6.42997765e-01 -1.63635775e+00 -3.88935927e-01\n",
            "   1.60131362e-01 -5.52133770e-01 -5.06689619e-01 -1.80093824e-01\n",
            "  -1.17298658e+00 -2.57413824e-01  2.33918122e-01  5.56082865e-01\n",
            "   2.01446314e-02  2.15523154e+00  6.42026292e-01 -1.16836162e-01\n",
            "   1.14220191e+00  9.14833193e-01  2.98442387e-01 -1.36529421e+00\n",
            "  -1.61455561e+00 -1.80249700e-01 -2.88310561e+00 -1.54042787e+00\n",
            "   1.41292905e+00  1.15028821e+00  1.15876854e+00 -3.65105705e+00\n",
            "   7.61149306e-01 -1.36379203e+00 -4.29670799e-01 -5.69130538e-01\n",
            "   4.17532207e-01  1.52962964e-01 -1.94829909e+00  4.08219410e-01\n",
            "   7.04982186e-01  2.48196515e+00 -9.91380258e-01 -1.97221552e+00\n",
            "  -3.34540066e-01 -9.72582591e-01 -1.71284087e+00  5.84563557e-01\n",
            "   3.84137803e-01  6.05131080e-01  8.23814716e-01 -1.14585451e+00\n",
            "   1.22671564e+00  7.20790762e-02 -1.25374452e-01  1.46492342e+00\n",
            "  -1.18932574e+00 -2.37201326e-01 -1.13718098e-01  1.29738972e+00\n",
            "   2.85437963e-01 -1.17295712e+00  8.73918997e-01  4.90691052e-02\n",
            "   1.22537430e+00  7.14915806e-01]\n",
            " [ 6.94443518e-01 -2.36702422e-01 -9.36183767e-02 -7.25987650e-01\n",
            "  -1.16656775e+00 -8.07331889e-01  3.73024021e-01 -3.42802195e-01\n",
            "  -3.54253824e-02  6.00938336e-01  4.53131892e-01 -8.27084562e-01\n",
            "   2.07482511e+00  8.12060611e-01 -1.51282532e-01 -1.72254628e-01\n",
            "  -6.70330992e-02  9.59306477e-01 -1.16749636e+00 -4.74525686e-01\n",
            "   3.74036743e-01  1.46472068e+00 -2.91053084e-01 -1.62858982e+00\n",
            "   9.97494311e-01  1.37923624e+00 -3.04107481e-01 -9.15162149e-01\n",
            "  -8.16525266e-02  6.87273031e-01 -1.38131375e+00  1.02487617e-01\n",
            "  -1.35027259e-01  9.24368702e-01  2.51545134e-01 -6.16271511e-02\n",
            "  -2.79515909e-01 -6.21103069e-02  1.23716489e+00  7.78118417e-02\n",
            "  -1.44957570e+00  7.17689536e-01  4.27437684e-01  7.31316839e-01\n",
            "   2.49243718e-01 -4.89956286e-01  3.28099733e-01 -8.05515299e-02\n",
            "  -2.54588574e-02  1.51955864e+00 -7.80901216e-01  2.22047052e+00\n",
            "  -7.12013101e-01 -7.49469489e-02 -3.93712670e-01 -1.13389426e+00\n",
            "  -5.17796490e-01 -5.01515637e-01  1.31373507e+00  3.92384630e-01\n",
            "   6.23725016e-01 -2.00218226e-01 -8.50006006e-01  2.15742685e-01\n",
            "   7.41734856e-01 -5.92181486e-01 -2.03909939e+00 -7.46616773e-01\n",
            "  -1.58931033e+00 -5.58669247e-01  2.89323049e-01 -3.89389981e-01\n",
            "  -1.99479601e-01 -4.41264002e-01  4.33112641e-01 -3.91470437e-02\n",
            "  -3.00955411e-01 -7.30233840e-01  1.00706665e+00 -2.03177028e-01\n",
            "  -8.72117834e-01  4.05862534e-01 -1.34575145e+00  1.37708907e+00\n",
            "   7.69072679e-01 -6.24643055e-01 -2.22268930e-01  1.72246568e+00\n",
            "  -4.14013697e-01  8.18126231e-01 -1.19240232e+00 -7.39282427e-01\n",
            "   6.05138023e-01  1.36226938e+00  1.23531367e-01  2.93671172e-01\n",
            "   2.30504557e-01 -6.86699059e-01 -2.35682300e-01  8.57652098e-01\n",
            "   9.55423209e-01  1.34714793e+00 -1.18999662e-01 -1.21444307e+00\n",
            "   1.23120394e+00  9.85410733e-01  6.49948172e-01 -8.94404975e-01\n",
            "  -3.20255930e-02  1.35256330e+00  1.71879695e-02  3.48891265e-01\n",
            "   2.02963169e-01  1.68483875e-02  1.74560420e-01 -1.28952933e+00\n",
            "  -7.79324625e-02  3.20203101e-02  7.82743338e-01 -5.65925091e-01\n",
            "  -5.90150411e-01 -9.16722007e-01  1.56784964e+00 -1.96054902e-02\n",
            "   1.10838285e+00 -2.05919910e-01 -2.14391942e-02  4.99884370e-01\n",
            "   1.17668708e+00 -4.79182102e-01 -6.35583457e-01  3.04519981e-01\n",
            "   1.64719598e+00 -5.68588239e-01  7.72942175e-01 -2.59494012e-01\n",
            "  -7.78299117e-02 -4.56701829e-01 -1.51008924e+00  2.00177778e+00\n",
            "  -2.56362571e-01  3.62922813e-01 -6.24187883e-01 -7.81861819e-01\n",
            "  -2.67604923e-02 -6.47262382e-01  5.03061874e-01 -1.99488858e-01\n",
            "   9.04411474e-02 -9.16570215e-01 -1.00098909e+00 -8.68763312e-01\n",
            "  -1.24198517e+00  2.28770725e-02  1.00666376e+00 -1.60107853e+00\n",
            "   5.15122117e-01 -1.16380021e+00 -6.37851449e-01 -3.03545882e-01\n",
            "  -3.51493230e-01  2.51586345e-01  4.07885512e-01  1.25634948e+00\n",
            "  -3.74536605e-01 -5.52879224e-01  5.64352053e-01  1.41417664e+00\n",
            "  -1.80563145e-01 -6.73834650e-01  7.24390825e-02  7.79456618e-01\n",
            "  -4.82098651e-01 -3.86599487e-01  6.94176163e-01 -2.14000794e+00\n",
            "   5.45032287e-01 -4.73718609e-01 -9.72772538e-01 -4.49679588e-01\n",
            "  -1.92764909e-01  1.05756266e+00  4.00866948e-01  1.17143263e+00\n",
            "  -7.41612330e-01  1.06262118e+00 -1.12741185e-01  2.85450441e-01\n",
            "  -1.75914108e-01 -2.17865760e-01  4.01195716e-01 -5.77228187e-01\n",
            "  -7.97083601e-01  3.04621337e-01 -1.01108367e+00 -8.57407785e-01\n",
            "  -3.94838510e-01  3.78979077e-01  5.67764991e-01  5.82437438e-01\n",
            "   1.15007325e+00 -3.20232343e-01  4.07380459e-02 -1.03477325e+00\n",
            "  -1.44987366e+00 -2.54953261e-01  6.89846384e-02 -3.19342053e-04\n",
            "  -1.08799065e-01 -2.41348223e+00 -1.03382364e+00 -5.27885582e-01\n",
            "  -2.89458369e-01  2.48269045e-01  3.26991254e-01  7.49545315e-01\n",
            "   9.02452731e-01 -1.35360951e+00 -8.06993299e-01 -1.05784264e-01\n",
            "  -1.68825496e-01 -1.78842701e+00 -7.55498580e-01 -3.41078185e-02\n",
            "   3.75752771e-01  1.30691561e+00 -5.92091222e-01  6.85623441e-02\n",
            "  -4.40266005e-01  4.79109657e-01 -2.44728963e+00 -1.20270291e+00\n",
            "   1.96221522e-01  5.41187808e-01  1.18108902e+00 -1.83241608e+00\n",
            "   2.85185132e-01  4.49397658e-01  1.10692955e-01  1.52240297e+00\n",
            "  -3.25913913e-02  2.36179981e-01 -1.31909822e+00  5.24360170e-01\n",
            "  -2.62803033e-01 -7.34630324e-01  9.57663259e-01  1.06350915e+00\n",
            "   1.65171513e+00  1.97403307e-01]]\n"
          ],
          "name": "stdout"
        }
      ]
    },
    {
      "cell_type": "markdown",
      "metadata": {
        "id": "n6WNXgAaGlsM"
      },
      "source": [
        "We can clearly see the data samples when printed are in not a data matrix format when we decide to print a data sample. Hence we save it in data matrix **R** nxp format."
      ]
    },
    {
      "cell_type": "markdown",
      "metadata": {
        "id": "tU9xzv1CHZg-"
      },
      "source": [
        "###(b)"
      ]
    },
    {
      "cell_type": "markdown",
      "metadata": {
        "id": "HhXOljJQFmj4"
      },
      "source": [
        "Yes, kinda, watch ML videos"
      ]
    },
    {
      "cell_type": "markdown",
      "metadata": {
        "id": "NkZG262qHbcN"
      },
      "source": [
        "###(c)"
      ]
    },
    {
      "cell_type": "code",
      "metadata": {
        "id": "OLPU0fy7UDBz"
      },
      "source": [
        "X = x"
      ],
      "execution_count": 123,
      "outputs": []
    },
    {
      "cell_type": "code",
      "metadata": {
        "id": "vydNHbIRIBV-",
        "outputId": "a80b0aa1-ad88-4e23-9982-ed6a3a468255",
        "colab": {
          "base_uri": "https://localhost:8080/",
          "height": 34
        }
      },
      "source": [
        "print(X.shape);"
      ],
      "execution_count": 124,
      "outputs": [
        {
          "output_type": "stream",
          "text": [
            "(3, 250)\n"
          ],
          "name": "stdout"
        }
      ]
    },
    {
      "cell_type": "markdown",
      "metadata": {
        "id": "FOeKJva_UGpz"
      },
      "source": [
        "n = 3\n",
        "p = 250"
      ]
    },
    {
      "cell_type": "markdown",
      "metadata": {
        "id": "QoDsjobjUZ0R"
      },
      "source": [
        "###(d)"
      ]
    },
    {
      "cell_type": "code",
      "metadata": {
        "id": "jiRcOnt6UX3G",
        "outputId": "959eb2c5-e054-4148-debf-3bb1f10edef5",
        "colab": {
          "base_uri": "https://localhost:8080/",
          "height": 34
        }
      },
      "source": [
        "np.linalg.matrix_rank(X, tol=None)"
      ],
      "execution_count": 125,
      "outputs": [
        {
          "output_type": "execute_result",
          "data": {
            "text/plain": [
              "2"
            ]
          },
          "metadata": {
            "tags": []
          },
          "execution_count": 125
        }
      ]
    },
    {
      "cell_type": "markdown",
      "metadata": {
        "id": "fTdHjUe3tJs3"
      },
      "source": [
        "## Problem 2.3"
      ]
    },
    {
      "cell_type": "markdown",
      "metadata": {
        "id": "k_czx8kic7HB"
      },
      "source": [
        "###(a)"
      ]
    },
    {
      "cell_type": "code",
      "metadata": {
        "id": "R8qeLcKBevMW"
      },
      "source": [
        "SVD = np.linalg.svd(X)\n",
        "np.shape(SVD);"
      ],
      "execution_count": 116,
      "outputs": []
    },
    {
      "cell_type": "code",
      "metadata": {
        "id": "eDX2jKqVenXe",
        "outputId": "407359f7-5643-4575-87a4-13f61ed786b5",
        "colab": {
          "base_uri": "https://localhost:8080/",
          "height": 272
        }
      },
      "source": [
        "print(SVD)"
      ],
      "execution_count": 117,
      "outputs": [
        {
          "output_type": "stream",
          "text": [
            "(array([[-0.84615574,  0.2824697 , -0.45191961],\n",
            "       [-0.22371217, -0.95791436, -0.17986925],\n",
            "       [-0.48370789, -0.05109748,  0.87373664]]), array([2.74450442e+01, 1.88813368e+01, 1.84379310e-15]), array([[-6.11703048e-02,  1.81598043e-02,  1.07194867e-02, ...,\n",
            "        -8.19355946e-02, -1.22518245e-01, -1.23007045e-02],\n",
            "       [ 1.21908348e-01, -4.53566905e-03, -5.04638272e-02, ...,\n",
            "         2.51012174e-02, -2.61594350e-02, -3.53514975e-02],\n",
            "       [ 5.63308071e-01,  3.97301978e-01,  2.31836756e-02, ...,\n",
            "        -7.74132613e-02,  1.24950604e-01,  1.31360708e-02],\n",
            "       ...,\n",
            "       [-1.74111086e-02,  5.42963384e-02,  1.18780640e-01, ...,\n",
            "         9.84642450e-01,  5.30523163e-03,  9.27206886e-04],\n",
            "       [-1.57308636e-01,  2.71031743e-02, -9.00111847e-02, ...,\n",
            "        -1.85333277e-03,  9.73955471e-01, -3.80673014e-03],\n",
            "       [-1.41848943e-02,  2.65583742e-02, -2.71958970e-02, ...,\n",
            "         1.84811333e-03, -5.46195310e-03,  9.98301382e-01]]))\n"
          ],
          "name": "stdout"
        }
      ]
    },
    {
      "cell_type": "code",
      "metadata": {
        "id": "8QkoCHSNLVWS",
        "outputId": "1a62b37c-05a9-4c1d-e0dd-b2219a51d94d",
        "colab": {
          "base_uri": "https://localhost:8080/",
          "height": 51
        }
      },
      "source": [
        "X_T = np.transpose(X)\n",
        "print(X_T[0,:3])\n",
        "print(X_T[:3,0])"
      ],
      "execution_count": 118,
      "outputs": [
        {
          "output_type": "stream",
          "text": [
            "[ 2.07073129 -1.82934731  0.69444352]\n",
            "[ 2.07073129 -0.44591173 -0.51808035]\n"
          ],
          "name": "stdout"
        }
      ]
    },
    {
      "cell_type": "code",
      "metadata": {
        "id": "jILZ_NjhLInJ"
      },
      "source": [
        "XT_X = X_T@X"
      ],
      "execution_count": 120,
      "outputs": []
    },
    {
      "cell_type": "code",
      "metadata": {
        "id": "8J9itCqNSjUK",
        "outputId": "5f5ebfb5-188a-415b-e97f-1774d884e93b",
        "colab": {
          "base_uri": "https://localhost:8080/",
          "height": 238
        }
      },
      "source": [
        "print(XT_X)"
      ],
      "execution_count": 121,
      "outputs": [
        {
          "output_type": "stream",
          "text": [
            "[[ 8.11669147 -1.03384345 -2.68710836 ...  4.86613211  4.50815621\n",
            "  -0.96964954]\n",
            " [-1.03384345  0.25573333  0.2282261  ... -1.16134585 -1.63356848\n",
            "  -0.11109245]\n",
            " [-2.68710836  0.2282261   0.99442631 ... -1.11315394 -0.51861823\n",
            "   0.53667579]\n",
            " ...\n",
            " [ 4.86613211 -1.16134585 -1.11315394 ...  5.28139213  7.32729006\n",
            "   0.44280484]\n",
            " [ 4.50815621 -1.63356848 -0.51861823 ...  7.32729006 11.55049367\n",
            "   1.4648509 ]\n",
            " [-0.96964954 -0.11109245  0.53667579 ...  0.44280484  1.4648509\n",
            "   0.55950355]]\n"
          ],
          "name": "stdout"
        }
      ]
    },
    {
      "cell_type": "code",
      "metadata": {
        "id": "9_6dW6-kSwas",
        "outputId": "e5a2e299-dcd6-4a60-8b4f-2c7f4530ce99",
        "colab": {
          "base_uri": "https://localhost:8080/",
          "height": 181
        }
      },
      "source": [
        "vectors = np.linalg.eigh(EVD)\n",
        "print(eigen_values)"
      ],
      "execution_count": 122,
      "outputs": [
        {
          "output_type": "error",
          "ename": "NameError",
          "evalue": "ignored",
          "traceback": [
            "\u001b[0;31m---------------------------------------------------------------------------\u001b[0m",
            "\u001b[0;31mNameError\u001b[0m                                 Traceback (most recent call last)",
            "\u001b[0;32m<ipython-input-122-78db2a259f2c>\u001b[0m in \u001b[0;36m<module>\u001b[0;34m()\u001b[0m\n\u001b[0;32m----> 1\u001b[0;31m \u001b[0mvectors\u001b[0m \u001b[0;34m=\u001b[0m \u001b[0mnp\u001b[0m\u001b[0;34m.\u001b[0m\u001b[0mlinalg\u001b[0m\u001b[0;34m.\u001b[0m\u001b[0meigh\u001b[0m\u001b[0;34m(\u001b[0m\u001b[0mEVD\u001b[0m\u001b[0;34m)\u001b[0m\u001b[0;34m\u001b[0m\u001b[0;34m\u001b[0m\u001b[0m\n\u001b[0m\u001b[1;32m      2\u001b[0m \u001b[0mprint\u001b[0m\u001b[0;34m(\u001b[0m\u001b[0meigen_values\u001b[0m\u001b[0;34m)\u001b[0m\u001b[0;34m\u001b[0m\u001b[0;34m\u001b[0m\u001b[0m\n",
            "\u001b[0;31mNameError\u001b[0m: name 'EVD' is not defined"
          ]
        }
      ]
    },
    {
      "cell_type": "markdown",
      "metadata": {
        "id": "AMbKAUEXcT0J"
      },
      "source": [
        "Since we know the singular values σ1,…, σn of X are the nonnegative square roots of the eigenvalues of the symmetric positive semidefinite matrix ((X^T)X) and the right singular vectors are the eigenvectors of the matrix ((X^T)X)"
      ]
    },
    {
      "cell_type": "markdown",
      "metadata": {
        "id": "1vYLfAYdWGP1"
      },
      "source": [
        "We can clearly see there is 2 arrays in total. From here we conclude 1 of the array is eigen vectors array and another is singular vectors array!"
      ]
    },
    {
      "cell_type": "markdown",
      "metadata": {
        "id": "DLaKR9s3tJs6"
      },
      "source": [
        "## Problem 2.4\n"
      ]
    },
    {
      "cell_type": "code",
      "metadata": {
        "id": "Ru7iFstctJs6"
      },
      "source": [
        "# please structure your code and markdown cells in a similar fashion to 2.1"
      ],
      "execution_count": null,
      "outputs": []
    }
  ]
}