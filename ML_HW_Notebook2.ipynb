{
  "nbformat": 4,
  "nbformat_minor": 0,
  "metadata": {
    "colab": {
      "name": "ML_HW_Notebook2.ipynb",
      "provenance": [],
      "collapsed_sections": [],
      "toc_visible": true,
      "authorship_tag": "ABX9TyOslfQ70rNa1eCbfWwaJY4D",
      "include_colab_link": true
    },
    "kernelspec": {
      "name": "python3",
      "display_name": "Python 3"
    }
  },
  "cells": [
    {
      "cell_type": "markdown",
      "metadata": {
        "id": "view-in-github",
        "colab_type": "text"
      },
      "source": [
        "<a href=\"https://colab.research.google.com/github/sdasmaha/Ml_Engineers_445/blob/master/ML_HW_Notebook2.ipynb\" target=\"_parent\"><img src=\"https://colab.research.google.com/assets/colab-badge.svg\" alt=\"Open In Colab\"/></a>"
      ]
    },
    {
      "cell_type": "markdown",
      "metadata": {
        "id": "__nIqyeEZiIx"
      },
      "source": [
        "Notebook Excercise #2\n",
        "#Srinjoy DasMahapatra\n",
        "\n",
        "IDE => Google Colab Pro"
      ]
    },
    {
      "cell_type": "code",
      "metadata": {
        "id": "698H32EltJsH"
      },
      "source": [
        "import numpy as np\n",
        "import pandas as pd\n",
        "from scipy import stats as sps\n",
        "from matplotlib import pyplot as plt\n",
        "from mpl_toolkits.mplot3d import Axes3D\n",
        "from IPython.display import display, Latex\n"
      ],
      "execution_count": 38,
      "outputs": []
    },
    {
      "cell_type": "code",
      "metadata": {
        "id": "x2JoYJYXX0cA",
        "outputId": "5f7df42f-ca6e-4cec-a7cc-f7c07c2c8d2a",
        "colab": {
          "base_uri": "https://localhost:8080/"
        }
      },
      "source": [
        "from google.colab import drive\n",
        "drive.mount(\"/content/gdrive\")"
      ],
      "execution_count": 215,
      "outputs": [
        {
          "output_type": "stream",
          "text": [
            "Mounted at /content/gdrive\n"
          ],
          "name": "stdout"
        }
      ]
    },
    {
      "cell_type": "code",
      "metadata": {
        "id": "d9oK_Oksa_oy"
      },
      "source": [
        "df_iot_tel = pd.read_csv(\"/content/gdrive/My Drive/Colab Notebooks/BAJWA-ML/Notebook 2/iot_telemetry_dataset.csv\")"
      ],
      "execution_count": 216,
      "outputs": []
    },
    {
      "cell_type": "markdown",
      "metadata": {
        "id": "ju2ZOFsatJsK"
      },
      "source": [
        "# 1. Feature Engineering for _Environmental Sensor Telemetry Data_"
      ]
    },
    {
      "cell_type": "markdown",
      "metadata": {
        "id": "sQyqtBOBtJsL"
      },
      "source": [
        "## Problem 1.1"
      ]
    },
    {
      "cell_type": "markdown",
      "metadata": {
        "id": "mmpfdkkGtJsL"
      },
      "source": [
        "###(a)"
      ]
    },
    {
      "cell_type": "markdown",
      "metadata": {
        "id": "_sfIkhp3aL9O"
      },
      "source": [
        "From Videos ML"
      ]
    },
    {
      "cell_type": "markdown",
      "metadata": {
        "id": "e_9b2FzZtJsM"
      },
      "source": [
        "### (b)"
      ]
    },
    {
      "cell_type": "code",
      "metadata": {
        "id": "qYqEPQZebLxt",
        "outputId": "c779d629-072f-4dab-e80c-13861b918e26",
        "colab": {
          "base_uri": "https://localhost:8080/",
          "height": 204
        }
      },
      "source": [
        "df_iot_tel.head(5)"
      ],
      "execution_count": null,
      "outputs": [
        {
          "output_type": "execute_result",
          "data": {
            "text/html": [
              "<div>\n",
              "<style scoped>\n",
              "    .dataframe tbody tr th:only-of-type {\n",
              "        vertical-align: middle;\n",
              "    }\n",
              "\n",
              "    .dataframe tbody tr th {\n",
              "        vertical-align: top;\n",
              "    }\n",
              "\n",
              "    .dataframe thead th {\n",
              "        text-align: right;\n",
              "    }\n",
              "</style>\n",
              "<table border=\"1\" class=\"dataframe\">\n",
              "  <thead>\n",
              "    <tr style=\"text-align: right;\">\n",
              "      <th></th>\n",
              "      <th>ts</th>\n",
              "      <th>device</th>\n",
              "      <th>co</th>\n",
              "      <th>humidity</th>\n",
              "      <th>light</th>\n",
              "      <th>lpg</th>\n",
              "      <th>motion</th>\n",
              "      <th>smoke</th>\n",
              "      <th>temp</th>\n",
              "    </tr>\n",
              "  </thead>\n",
              "  <tbody>\n",
              "    <tr>\n",
              "      <th>0</th>\n",
              "      <td>1.594512e+09</td>\n",
              "      <td>b8:27:eb:bf:9d:51</td>\n",
              "      <td>0.004956</td>\n",
              "      <td>51.000000</td>\n",
              "      <td>False</td>\n",
              "      <td>0.007651</td>\n",
              "      <td>False</td>\n",
              "      <td>0.020411</td>\n",
              "      <td>22.700000</td>\n",
              "    </tr>\n",
              "    <tr>\n",
              "      <th>1</th>\n",
              "      <td>1.594512e+09</td>\n",
              "      <td>00:0f:00:70:91:0a</td>\n",
              "      <td>0.002840</td>\n",
              "      <td>76.000000</td>\n",
              "      <td>False</td>\n",
              "      <td>0.005114</td>\n",
              "      <td>False</td>\n",
              "      <td>0.013275</td>\n",
              "      <td>19.700001</td>\n",
              "    </tr>\n",
              "    <tr>\n",
              "      <th>2</th>\n",
              "      <td>1.594512e+09</td>\n",
              "      <td>b8:27:eb:bf:9d:51</td>\n",
              "      <td>0.004976</td>\n",
              "      <td>50.900000</td>\n",
              "      <td>False</td>\n",
              "      <td>0.007673</td>\n",
              "      <td>False</td>\n",
              "      <td>0.020475</td>\n",
              "      <td>22.600000</td>\n",
              "    </tr>\n",
              "    <tr>\n",
              "      <th>3</th>\n",
              "      <td>1.594512e+09</td>\n",
              "      <td>1c:bf:ce:15:ec:4d</td>\n",
              "      <td>0.004403</td>\n",
              "      <td>76.800003</td>\n",
              "      <td>True</td>\n",
              "      <td>0.007023</td>\n",
              "      <td>False</td>\n",
              "      <td>0.018628</td>\n",
              "      <td>27.000000</td>\n",
              "    </tr>\n",
              "    <tr>\n",
              "      <th>4</th>\n",
              "      <td>1.594512e+09</td>\n",
              "      <td>b8:27:eb:bf:9d:51</td>\n",
              "      <td>0.004967</td>\n",
              "      <td>50.900000</td>\n",
              "      <td>False</td>\n",
              "      <td>0.007664</td>\n",
              "      <td>False</td>\n",
              "      <td>0.020448</td>\n",
              "      <td>22.600000</td>\n",
              "    </tr>\n",
              "  </tbody>\n",
              "</table>\n",
              "</div>"
            ],
            "text/plain": [
              "             ts             device        co  ...  motion     smoke       temp\n",
              "0  1.594512e+09  b8:27:eb:bf:9d:51  0.004956  ...   False  0.020411  22.700000\n",
              "1  1.594512e+09  00:0f:00:70:91:0a  0.002840  ...   False  0.013275  19.700001\n",
              "2  1.594512e+09  b8:27:eb:bf:9d:51  0.004976  ...   False  0.020475  22.600000\n",
              "3  1.594512e+09  1c:bf:ce:15:ec:4d  0.004403  ...   False  0.018628  27.000000\n",
              "4  1.594512e+09  b8:27:eb:bf:9d:51  0.004967  ...   False  0.020448  22.600000\n",
              "\n",
              "[5 rows x 9 columns]"
            ]
          },
          "metadata": {
            "tags": []
          },
          "execution_count": 4
        }
      ]
    },
    {
      "cell_type": "code",
      "metadata": {
        "id": "N9LSZ0YzbRb0",
        "outputId": "2516a1e2-ee00-452e-be11-f5bfe25d6529",
        "colab": {
          "base_uri": "https://localhost:8080/",
          "height": 34
        }
      },
      "source": [
        "print(df_iot_tel.shape) "
      ],
      "execution_count": null,
      "outputs": [
        {
          "output_type": "stream",
          "text": [
            "(405184, 9)\n"
          ],
          "name": "stdout"
        }
      ]
    },
    {
      "cell_type": "markdown",
      "metadata": {
        "id": "1w5nramnbn6h"
      },
      "source": [
        "There are **405,184** data samples in the dataset."
      ]
    },
    {
      "cell_type": "markdown",
      "metadata": {
        "id": "KZVXyzzdtJsP"
      },
      "source": [
        "### (c)\n",
        "\n"
      ]
    },
    {
      "cell_type": "code",
      "metadata": {
        "id": "lr8Wj911cgZL",
        "outputId": "1bcd4bc9-4395-4346-afeb-04a571c644ce",
        "colab": {
          "base_uri": "https://localhost:8080/",
          "height": 34
        }
      },
      "source": [
        "df_iot_tel['device'].dtypes"
      ],
      "execution_count": null,
      "outputs": [
        {
          "output_type": "execute_result",
          "data": {
            "text/plain": [
              "dtype('O')"
            ]
          },
          "metadata": {
            "tags": []
          },
          "execution_count": 6
        }
      ]
    },
    {
      "cell_type": "markdown",
      "metadata": {
        "id": "MungD3N8cZeV"
      },
      "source": [
        "We can see the MAC address is of datatype=> **O** (Object)"
      ]
    },
    {
      "cell_type": "code",
      "metadata": {
        "id": "EHdkYaJ1dIan",
        "outputId": "4ba590df-0d09-4db0-a53d-05e840b59dcd",
        "colab": {
          "base_uri": "https://localhost:8080/",
          "height": 51
        }
      },
      "source": [
        "df_iot_tel['device'].where(df_iot_tel['device'] == '00:0f:00:70:91:0a').value_counts()"
      ],
      "execution_count": null,
      "outputs": [
        {
          "output_type": "execute_result",
          "data": {
            "text/plain": [
              "00:0f:00:70:91:0a    111815\n",
              "Name: device, dtype: int64"
            ]
          },
          "metadata": {
            "tags": []
          },
          "execution_count": 7
        }
      ]
    },
    {
      "cell_type": "markdown",
      "metadata": {
        "id": "mccP7KhIdUFo"
      },
      "source": [
        "There are **111,815** data samples with the MAC address 00:0f:00:70:91:0a "
      ]
    },
    {
      "cell_type": "markdown",
      "metadata": {
        "id": "PwGXkKomtJsS"
      },
      "source": [
        "### (d)"
      ]
    },
    {
      "cell_type": "code",
      "metadata": {
        "id": "K0V0TcugtJsS",
        "outputId": "98c4fd56-063b-412c-eb3b-2cf369cff252",
        "colab": {
          "base_uri": "https://localhost:8080/",
          "height": 51
        }
      },
      "source": [
        "df_iot_tel['device'].where(df_iot_tel['device'] == '1c:bf:ce:15:ec:4d').value_counts()"
      ],
      "execution_count": null,
      "outputs": [
        {
          "output_type": "execute_result",
          "data": {
            "text/plain": [
              "1c:bf:ce:15:ec:4d    105918\n",
              "Name: device, dtype: int64"
            ]
          },
          "metadata": {
            "tags": []
          },
          "execution_count": 8
        }
      ]
    },
    {
      "cell_type": "markdown",
      "metadata": {
        "id": "whm-bpDNdz_p"
      },
      "source": [
        "There are **105,918** data samples with the MAC address 1c:bf:ce:15:ec:4d\n"
      ]
    },
    {
      "cell_type": "markdown",
      "metadata": {
        "id": "VcCkSG-xtJsU"
      },
      "source": [
        "### (e)"
      ]
    },
    {
      "cell_type": "code",
      "metadata": {
        "id": "PyvOC1cptJsV",
        "outputId": "6917285e-0c2e-458e-a7f5-48c3c2f32f69",
        "colab": {
          "base_uri": "https://localhost:8080/",
          "height": 51
        }
      },
      "source": [
        "df_iot_tel['device'].where(df_iot_tel['device'] == 'b8:27:eb:bf:9d:51').value_counts()"
      ],
      "execution_count": null,
      "outputs": [
        {
          "output_type": "execute_result",
          "data": {
            "text/plain": [
              "b8:27:eb:bf:9d:51    187451\n",
              "Name: device, dtype: int64"
            ]
          },
          "metadata": {
            "tags": []
          },
          "execution_count": 41
        }
      ]
    },
    {
      "cell_type": "markdown",
      "metadata": {
        "id": "gjjPgNK0fNCD"
      },
      "source": [
        "There are **187,451** data samples with the MAC address b8:27:eb:bf:9d:51"
      ]
    },
    {
      "cell_type": "markdown",
      "metadata": {
        "id": "0qAgmitMqU_M"
      },
      "source": [
        "**Adding all the MAC addresses individually we get 405184.  Hence there is only 3 MAC addresses in total**"
      ]
    },
    {
      "cell_type": "markdown",
      "metadata": {
        "id": "g6AL3sXFtJsX"
      },
      "source": [
        "## Problem 1.2"
      ]
    },
    {
      "cell_type": "code",
      "metadata": {
        "id": "e907LRbrxZNO",
        "outputId": "621aaa76-bba1-4edf-c760-caaa44132815",
        "colab": {
          "base_uri": "https://localhost:8080/",
          "height": 187
        }
      },
      "source": [
        "df_iot_tel.dtypes"
      ],
      "execution_count": null,
      "outputs": [
        {
          "output_type": "execute_result",
          "data": {
            "text/plain": [
              "ts          float64\n",
              "device       object\n",
              "co          float64\n",
              "humidity    float64\n",
              "light          bool\n",
              "lpg         float64\n",
              "motion         bool\n",
              "smoke       float64\n",
              "temp        float64\n",
              "dtype: object"
            ]
          },
          "metadata": {
            "tags": []
          },
          "execution_count": 9
        }
      ]
    },
    {
      "cell_type": "markdown",
      "metadata": {
        "id": "jIyqvY0qnTp4"
      },
      "source": [
        " The problem mentions most of the challenges that otherwise needed to be worked on : \n",
        " 1.  No missing Entries\n",
        " 2. pandas.get_dummies() can be used \n"
      ]
    },
    {
      "cell_type": "markdown",
      "metadata": {
        "id": "0Y7HF5xUtJsY"
      },
      "source": [
        "### (a)"
      ]
    },
    {
      "cell_type": "markdown",
      "metadata": {
        "id": "w4U3Bn4IstTp"
      },
      "source": [
        "**Device**"
      ]
    },
    {
      "cell_type": "code",
      "metadata": {
        "id": "BnqS_jVHb5_M",
        "outputId": "641e2afd-1b72-4a02-bfb6-09c9e5278750",
        "colab": {
          "base_uri": "https://localhost:8080/",
          "height": 204
        }
      },
      "source": [
        "MAC_types = df_iot_tel['device']\n",
        "dum_df = pd.get_dummies(MAC_types, prefix=\"MAC:\" )\n",
        "MAC_df = df_iot_tel.join(dum_df)\n",
        "MAC_df = MAC_df.drop(columns = 'device')\n",
        "MAC_df.head(5)"
      ],
      "execution_count": 221,
      "outputs": [
        {
          "output_type": "execute_result",
          "data": {
            "text/html": [
              "<div>\n",
              "<style scoped>\n",
              "    .dataframe tbody tr th:only-of-type {\n",
              "        vertical-align: middle;\n",
              "    }\n",
              "\n",
              "    .dataframe tbody tr th {\n",
              "        vertical-align: top;\n",
              "    }\n",
              "\n",
              "    .dataframe thead th {\n",
              "        text-align: right;\n",
              "    }\n",
              "</style>\n",
              "<table border=\"1\" class=\"dataframe\">\n",
              "  <thead>\n",
              "    <tr style=\"text-align: right;\">\n",
              "      <th></th>\n",
              "      <th>ts</th>\n",
              "      <th>co</th>\n",
              "      <th>humidity</th>\n",
              "      <th>light</th>\n",
              "      <th>lpg</th>\n",
              "      <th>motion</th>\n",
              "      <th>smoke</th>\n",
              "      <th>temp</th>\n",
              "      <th>MAC:_00:0f:00:70:91:0a</th>\n",
              "      <th>MAC:_1c:bf:ce:15:ec:4d</th>\n",
              "      <th>MAC:_b8:27:eb:bf:9d:51</th>\n",
              "    </tr>\n",
              "  </thead>\n",
              "  <tbody>\n",
              "    <tr>\n",
              "      <th>0</th>\n",
              "      <td>1.594512e+09</td>\n",
              "      <td>0.004956</td>\n",
              "      <td>51.000000</td>\n",
              "      <td>False</td>\n",
              "      <td>0.007651</td>\n",
              "      <td>False</td>\n",
              "      <td>0.020411</td>\n",
              "      <td>22.700000</td>\n",
              "      <td>0</td>\n",
              "      <td>0</td>\n",
              "      <td>1</td>\n",
              "    </tr>\n",
              "    <tr>\n",
              "      <th>1</th>\n",
              "      <td>1.594512e+09</td>\n",
              "      <td>0.002840</td>\n",
              "      <td>76.000000</td>\n",
              "      <td>False</td>\n",
              "      <td>0.005114</td>\n",
              "      <td>False</td>\n",
              "      <td>0.013275</td>\n",
              "      <td>19.700001</td>\n",
              "      <td>1</td>\n",
              "      <td>0</td>\n",
              "      <td>0</td>\n",
              "    </tr>\n",
              "    <tr>\n",
              "      <th>2</th>\n",
              "      <td>1.594512e+09</td>\n",
              "      <td>0.004976</td>\n",
              "      <td>50.900000</td>\n",
              "      <td>False</td>\n",
              "      <td>0.007673</td>\n",
              "      <td>False</td>\n",
              "      <td>0.020475</td>\n",
              "      <td>22.600000</td>\n",
              "      <td>0</td>\n",
              "      <td>0</td>\n",
              "      <td>1</td>\n",
              "    </tr>\n",
              "    <tr>\n",
              "      <th>3</th>\n",
              "      <td>1.594512e+09</td>\n",
              "      <td>0.004403</td>\n",
              "      <td>76.800003</td>\n",
              "      <td>True</td>\n",
              "      <td>0.007023</td>\n",
              "      <td>False</td>\n",
              "      <td>0.018628</td>\n",
              "      <td>27.000000</td>\n",
              "      <td>0</td>\n",
              "      <td>1</td>\n",
              "      <td>0</td>\n",
              "    </tr>\n",
              "    <tr>\n",
              "      <th>4</th>\n",
              "      <td>1.594512e+09</td>\n",
              "      <td>0.004967</td>\n",
              "      <td>50.900000</td>\n",
              "      <td>False</td>\n",
              "      <td>0.007664</td>\n",
              "      <td>False</td>\n",
              "      <td>0.020448</td>\n",
              "      <td>22.600000</td>\n",
              "      <td>0</td>\n",
              "      <td>0</td>\n",
              "      <td>1</td>\n",
              "    </tr>\n",
              "  </tbody>\n",
              "</table>\n",
              "</div>"
            ],
            "text/plain": [
              "             ts        co  ...  MAC:_1c:bf:ce:15:ec:4d  MAC:_b8:27:eb:bf:9d:51\n",
              "0  1.594512e+09  0.004956  ...                       0                       1\n",
              "1  1.594512e+09  0.002840  ...                       0                       0\n",
              "2  1.594512e+09  0.004976  ...                       0                       1\n",
              "3  1.594512e+09  0.004403  ...                       1                       0\n",
              "4  1.594512e+09  0.004967  ...                       0                       1\n",
              "\n",
              "[5 rows x 11 columns]"
            ]
          },
          "metadata": {
            "tags": []
          },
          "execution_count": 221
        }
      ]
    },
    {
      "cell_type": "markdown",
      "metadata": {
        "id": "BGicMRTUsxN2"
      },
      "source": [
        "**Light**"
      ]
    },
    {
      "cell_type": "code",
      "metadata": {
        "id": "17jxDqB4iMyG",
        "outputId": "8332732c-4b25-4b67-c46f-7e84ca39e007",
        "colab": {
          "base_uri": "https://localhost:8080/",
          "height": 204
        }
      },
      "source": [
        "light_types = MAC_df['light']\n",
        "dum_df_light = pd.get_dummies(light_types, prefix=\"Light:\" )\n",
        "light_df = MAC_df.join(dum_df_light)\n",
        "light_df = light_df.drop(columns = 'light')\n",
        "light_df.head(5)"
      ],
      "execution_count": 222,
      "outputs": [
        {
          "output_type": "execute_result",
          "data": {
            "text/html": [
              "<div>\n",
              "<style scoped>\n",
              "    .dataframe tbody tr th:only-of-type {\n",
              "        vertical-align: middle;\n",
              "    }\n",
              "\n",
              "    .dataframe tbody tr th {\n",
              "        vertical-align: top;\n",
              "    }\n",
              "\n",
              "    .dataframe thead th {\n",
              "        text-align: right;\n",
              "    }\n",
              "</style>\n",
              "<table border=\"1\" class=\"dataframe\">\n",
              "  <thead>\n",
              "    <tr style=\"text-align: right;\">\n",
              "      <th></th>\n",
              "      <th>ts</th>\n",
              "      <th>co</th>\n",
              "      <th>humidity</th>\n",
              "      <th>lpg</th>\n",
              "      <th>motion</th>\n",
              "      <th>smoke</th>\n",
              "      <th>temp</th>\n",
              "      <th>MAC:_00:0f:00:70:91:0a</th>\n",
              "      <th>MAC:_1c:bf:ce:15:ec:4d</th>\n",
              "      <th>MAC:_b8:27:eb:bf:9d:51</th>\n",
              "      <th>Light:_False</th>\n",
              "      <th>Light:_True</th>\n",
              "    </tr>\n",
              "  </thead>\n",
              "  <tbody>\n",
              "    <tr>\n",
              "      <th>0</th>\n",
              "      <td>1.594512e+09</td>\n",
              "      <td>0.004956</td>\n",
              "      <td>51.000000</td>\n",
              "      <td>0.007651</td>\n",
              "      <td>False</td>\n",
              "      <td>0.020411</td>\n",
              "      <td>22.700000</td>\n",
              "      <td>0</td>\n",
              "      <td>0</td>\n",
              "      <td>1</td>\n",
              "      <td>1</td>\n",
              "      <td>0</td>\n",
              "    </tr>\n",
              "    <tr>\n",
              "      <th>1</th>\n",
              "      <td>1.594512e+09</td>\n",
              "      <td>0.002840</td>\n",
              "      <td>76.000000</td>\n",
              "      <td>0.005114</td>\n",
              "      <td>False</td>\n",
              "      <td>0.013275</td>\n",
              "      <td>19.700001</td>\n",
              "      <td>1</td>\n",
              "      <td>0</td>\n",
              "      <td>0</td>\n",
              "      <td>1</td>\n",
              "      <td>0</td>\n",
              "    </tr>\n",
              "    <tr>\n",
              "      <th>2</th>\n",
              "      <td>1.594512e+09</td>\n",
              "      <td>0.004976</td>\n",
              "      <td>50.900000</td>\n",
              "      <td>0.007673</td>\n",
              "      <td>False</td>\n",
              "      <td>0.020475</td>\n",
              "      <td>22.600000</td>\n",
              "      <td>0</td>\n",
              "      <td>0</td>\n",
              "      <td>1</td>\n",
              "      <td>1</td>\n",
              "      <td>0</td>\n",
              "    </tr>\n",
              "    <tr>\n",
              "      <th>3</th>\n",
              "      <td>1.594512e+09</td>\n",
              "      <td>0.004403</td>\n",
              "      <td>76.800003</td>\n",
              "      <td>0.007023</td>\n",
              "      <td>False</td>\n",
              "      <td>0.018628</td>\n",
              "      <td>27.000000</td>\n",
              "      <td>0</td>\n",
              "      <td>1</td>\n",
              "      <td>0</td>\n",
              "      <td>0</td>\n",
              "      <td>1</td>\n",
              "    </tr>\n",
              "    <tr>\n",
              "      <th>4</th>\n",
              "      <td>1.594512e+09</td>\n",
              "      <td>0.004967</td>\n",
              "      <td>50.900000</td>\n",
              "      <td>0.007664</td>\n",
              "      <td>False</td>\n",
              "      <td>0.020448</td>\n",
              "      <td>22.600000</td>\n",
              "      <td>0</td>\n",
              "      <td>0</td>\n",
              "      <td>1</td>\n",
              "      <td>1</td>\n",
              "      <td>0</td>\n",
              "    </tr>\n",
              "  </tbody>\n",
              "</table>\n",
              "</div>"
            ],
            "text/plain": [
              "             ts        co  ...  Light:_False  Light:_True\n",
              "0  1.594512e+09  0.004956  ...             1            0\n",
              "1  1.594512e+09  0.002840  ...             1            0\n",
              "2  1.594512e+09  0.004976  ...             1            0\n",
              "3  1.594512e+09  0.004403  ...             0            1\n",
              "4  1.594512e+09  0.004967  ...             1            0\n",
              "\n",
              "[5 rows x 12 columns]"
            ]
          },
          "metadata": {
            "tags": []
          },
          "execution_count": 222
        }
      ]
    },
    {
      "cell_type": "markdown",
      "metadata": {
        "id": "ryxaSTVFkV6M"
      },
      "source": [
        "**Motion**"
      ]
    },
    {
      "cell_type": "code",
      "metadata": {
        "id": "IeVH_psIics3",
        "outputId": "b9b7ee1e-af28-4c6b-853a-bcb5fabf01ec",
        "colab": {
          "base_uri": "https://localhost:8080/",
          "height": 224
        }
      },
      "source": [
        "motion_types = light_df['motion']\n",
        "dum_df_motion = pd.get_dummies(motion_types, prefix=\"Motion:\" )\n",
        "motion_df = light_df.join(dum_df_motion)\n",
        "motion_df = motion_df.drop(columns = 'motion')\n",
        "one_hot_encoded_df = motion_df\n",
        "one_hot_encoded_df.head(5)"
      ],
      "execution_count": 226,
      "outputs": [
        {
          "output_type": "execute_result",
          "data": {
            "text/html": [
              "<div>\n",
              "<style scoped>\n",
              "    .dataframe tbody tr th:only-of-type {\n",
              "        vertical-align: middle;\n",
              "    }\n",
              "\n",
              "    .dataframe tbody tr th {\n",
              "        vertical-align: top;\n",
              "    }\n",
              "\n",
              "    .dataframe thead th {\n",
              "        text-align: right;\n",
              "    }\n",
              "</style>\n",
              "<table border=\"1\" class=\"dataframe\">\n",
              "  <thead>\n",
              "    <tr style=\"text-align: right;\">\n",
              "      <th></th>\n",
              "      <th>ts</th>\n",
              "      <th>co</th>\n",
              "      <th>humidity</th>\n",
              "      <th>lpg</th>\n",
              "      <th>smoke</th>\n",
              "      <th>temp</th>\n",
              "      <th>MAC:_00:0f:00:70:91:0a</th>\n",
              "      <th>MAC:_1c:bf:ce:15:ec:4d</th>\n",
              "      <th>MAC:_b8:27:eb:bf:9d:51</th>\n",
              "      <th>Light:_False</th>\n",
              "      <th>Light:_True</th>\n",
              "      <th>Motion:_False</th>\n",
              "      <th>Motion:_True</th>\n",
              "    </tr>\n",
              "  </thead>\n",
              "  <tbody>\n",
              "    <tr>\n",
              "      <th>0</th>\n",
              "      <td>1.594512e+09</td>\n",
              "      <td>0.004956</td>\n",
              "      <td>51.000000</td>\n",
              "      <td>0.007651</td>\n",
              "      <td>0.020411</td>\n",
              "      <td>22.700000</td>\n",
              "      <td>0</td>\n",
              "      <td>0</td>\n",
              "      <td>1</td>\n",
              "      <td>1</td>\n",
              "      <td>0</td>\n",
              "      <td>1</td>\n",
              "      <td>0</td>\n",
              "    </tr>\n",
              "    <tr>\n",
              "      <th>1</th>\n",
              "      <td>1.594512e+09</td>\n",
              "      <td>0.002840</td>\n",
              "      <td>76.000000</td>\n",
              "      <td>0.005114</td>\n",
              "      <td>0.013275</td>\n",
              "      <td>19.700001</td>\n",
              "      <td>1</td>\n",
              "      <td>0</td>\n",
              "      <td>0</td>\n",
              "      <td>1</td>\n",
              "      <td>0</td>\n",
              "      <td>1</td>\n",
              "      <td>0</td>\n",
              "    </tr>\n",
              "    <tr>\n",
              "      <th>2</th>\n",
              "      <td>1.594512e+09</td>\n",
              "      <td>0.004976</td>\n",
              "      <td>50.900000</td>\n",
              "      <td>0.007673</td>\n",
              "      <td>0.020475</td>\n",
              "      <td>22.600000</td>\n",
              "      <td>0</td>\n",
              "      <td>0</td>\n",
              "      <td>1</td>\n",
              "      <td>1</td>\n",
              "      <td>0</td>\n",
              "      <td>1</td>\n",
              "      <td>0</td>\n",
              "    </tr>\n",
              "    <tr>\n",
              "      <th>3</th>\n",
              "      <td>1.594512e+09</td>\n",
              "      <td>0.004403</td>\n",
              "      <td>76.800003</td>\n",
              "      <td>0.007023</td>\n",
              "      <td>0.018628</td>\n",
              "      <td>27.000000</td>\n",
              "      <td>0</td>\n",
              "      <td>1</td>\n",
              "      <td>0</td>\n",
              "      <td>0</td>\n",
              "      <td>1</td>\n",
              "      <td>1</td>\n",
              "      <td>0</td>\n",
              "    </tr>\n",
              "    <tr>\n",
              "      <th>4</th>\n",
              "      <td>1.594512e+09</td>\n",
              "      <td>0.004967</td>\n",
              "      <td>50.900000</td>\n",
              "      <td>0.007664</td>\n",
              "      <td>0.020448</td>\n",
              "      <td>22.600000</td>\n",
              "      <td>0</td>\n",
              "      <td>0</td>\n",
              "      <td>1</td>\n",
              "      <td>1</td>\n",
              "      <td>0</td>\n",
              "      <td>1</td>\n",
              "      <td>0</td>\n",
              "    </tr>\n",
              "  </tbody>\n",
              "</table>\n",
              "</div>"
            ],
            "text/plain": [
              "             ts        co   humidity  ...  Light:_True  Motion:_False  Motion:_True\n",
              "0  1.594512e+09  0.004956  51.000000  ...            0              1             0\n",
              "1  1.594512e+09  0.002840  76.000000  ...            0              1             0\n",
              "2  1.594512e+09  0.004976  50.900000  ...            0              1             0\n",
              "3  1.594512e+09  0.004403  76.800003  ...            1              1             0\n",
              "4  1.594512e+09  0.004967  50.900000  ...            0              1             0\n",
              "\n",
              "[5 rows x 13 columns]"
            ]
          },
          "metadata": {
            "tags": []
          },
          "execution_count": 226
        }
      ]
    },
    {
      "cell_type": "markdown",
      "metadata": {
        "id": "zccrYCN0tJse"
      },
      "source": [
        "### (b)"
      ]
    },
    {
      "cell_type": "code",
      "metadata": {
        "id": "i_w35CryUdwi"
      },
      "source": [
        "group_device1 = one_hot_encoded_df.groupby(\"MAC:_00:0f:00:70:91:0a\")"
      ],
      "execution_count": 230,
      "outputs": []
    },
    {
      "cell_type": "code",
      "metadata": {
        "id": "cdOkLOFVUguj"
      },
      "source": [
        "group_device1 = group_device1.get_group(1)"
      ],
      "execution_count": 234,
      "outputs": []
    },
    {
      "cell_type": "code",
      "metadata": {
        "id": "d09y1TUYTboM",
        "outputId": "8d82e70b-482b-4b5f-f62e-1514a4a54f1d",
        "colab": {
          "base_uri": "https://localhost:8080/"
        }
      },
      "source": [
        "group_device1.iloc[:,np.r_[1,2,3,4,5]] = group_device1.iloc[:,np.r_[1,2,3,4,5]] - group_device1.iloc[:,np.r_[1,2,3,4,5]].mean()\n",
        "group_device1.iloc[:,np.r_[1,2,3,4,5]] = group_device1.iloc[:,np.r_[1,2,3,4,5]] /  group_device1.iloc[:,np.r_[1,2,3,4,5]].std()\n"
      ],
      "execution_count": 235,
      "outputs": [
        {
          "output_type": "stream",
          "text": [
            "/usr/local/lib/python3.6/dist-packages/pandas/core/indexing.py:1717: SettingWithCopyWarning: \n",
            "A value is trying to be set on a copy of a slice from a DataFrame.\n",
            "Try using .loc[row_indexer,col_indexer] = value instead\n",
            "\n",
            "See the caveats in the documentation: https://pandas.pydata.org/pandas-docs/stable/user_guide/indexing.html#returning-a-view-versus-a-copy\n",
            "  isetter(loc, v)\n"
          ],
          "name": "stderr"
        }
      ]
    },
    {
      "cell_type": "code",
      "metadata": {
        "id": "XSkRUs2WDFU_"
      },
      "source": [
        "grouped = df_iot_tel.groupby(df_iot_tel.device)\n",
        "device1 = grouped.get_group(\"00:0f:00:70:91:0a\")\n",
        "device2 = grouped.get_group(\"1c:bf:ce:15:ec:4d\")\n",
        "device3 = grouped.get_group(\"b8:27:eb:bf:9d:51\")"
      ],
      "execution_count": null,
      "outputs": []
    },
    {
      "cell_type": "code",
      "metadata": {
        "id": "CH0SYb26L9FN",
        "outputId": "cf3eb0fc-23a0-485f-a59e-2a2fe5cab57a",
        "colab": {
          "base_uri": "https://localhost:8080/",
          "height": 204
        }
      },
      "source": [
        "device1.head(5)"
      ],
      "execution_count": null,
      "outputs": [
        {
          "output_type": "execute_result",
          "data": {
            "text/html": [
              "<div>\n",
              "<style scoped>\n",
              "    .dataframe tbody tr th:only-of-type {\n",
              "        vertical-align: middle;\n",
              "    }\n",
              "\n",
              "    .dataframe tbody tr th {\n",
              "        vertical-align: top;\n",
              "    }\n",
              "\n",
              "    .dataframe thead th {\n",
              "        text-align: right;\n",
              "    }\n",
              "</style>\n",
              "<table border=\"1\" class=\"dataframe\">\n",
              "  <thead>\n",
              "    <tr style=\"text-align: right;\">\n",
              "      <th></th>\n",
              "      <th>ts</th>\n",
              "      <th>device</th>\n",
              "      <th>co</th>\n",
              "      <th>humidity</th>\n",
              "      <th>light</th>\n",
              "      <th>lpg</th>\n",
              "      <th>motion</th>\n",
              "      <th>smoke</th>\n",
              "      <th>temp</th>\n",
              "    </tr>\n",
              "  </thead>\n",
              "  <tbody>\n",
              "    <tr>\n",
              "      <th>1</th>\n",
              "      <td>1.594512e+09</td>\n",
              "      <td>00:0f:00:70:91:0a</td>\n",
              "      <td>0.002840</td>\n",
              "      <td>76.000000</td>\n",
              "      <td>False</td>\n",
              "      <td>0.005114</td>\n",
              "      <td>False</td>\n",
              "      <td>0.013275</td>\n",
              "      <td>19.700001</td>\n",
              "    </tr>\n",
              "    <tr>\n",
              "      <th>7</th>\n",
              "      <td>1.594512e+09</td>\n",
              "      <td>00:0f:00:70:91:0a</td>\n",
              "      <td>0.002938</td>\n",
              "      <td>76.000000</td>\n",
              "      <td>False</td>\n",
              "      <td>0.005241</td>\n",
              "      <td>False</td>\n",
              "      <td>0.013628</td>\n",
              "      <td>19.700001</td>\n",
              "    </tr>\n",
              "    <tr>\n",
              "      <th>15</th>\n",
              "      <td>1.594512e+09</td>\n",
              "      <td>00:0f:00:70:91:0a</td>\n",
              "      <td>0.002905</td>\n",
              "      <td>75.800003</td>\n",
              "      <td>False</td>\n",
              "      <td>0.005199</td>\n",
              "      <td>False</td>\n",
              "      <td>0.013509</td>\n",
              "      <td>19.700001</td>\n",
              "    </tr>\n",
              "    <tr>\n",
              "      <th>20</th>\n",
              "      <td>1.594512e+09</td>\n",
              "      <td>00:0f:00:70:91:0a</td>\n",
              "      <td>0.002938</td>\n",
              "      <td>75.800003</td>\n",
              "      <td>False</td>\n",
              "      <td>0.005241</td>\n",
              "      <td>False</td>\n",
              "      <td>0.013628</td>\n",
              "      <td>19.700001</td>\n",
              "    </tr>\n",
              "    <tr>\n",
              "      <th>23</th>\n",
              "      <td>1.594512e+09</td>\n",
              "      <td>00:0f:00:70:91:0a</td>\n",
              "      <td>0.002840</td>\n",
              "      <td>76.000000</td>\n",
              "      <td>False</td>\n",
              "      <td>0.005114</td>\n",
              "      <td>False</td>\n",
              "      <td>0.013275</td>\n",
              "      <td>19.700001</td>\n",
              "    </tr>\n",
              "  </tbody>\n",
              "</table>\n",
              "</div>"
            ],
            "text/plain": [
              "              ts             device        co  ...  motion     smoke       temp\n",
              "1   1.594512e+09  00:0f:00:70:91:0a  0.002840  ...   False  0.013275  19.700001\n",
              "7   1.594512e+09  00:0f:00:70:91:0a  0.002938  ...   False  0.013628  19.700001\n",
              "15  1.594512e+09  00:0f:00:70:91:0a  0.002905  ...   False  0.013509  19.700001\n",
              "20  1.594512e+09  00:0f:00:70:91:0a  0.002938  ...   False  0.013628  19.700001\n",
              "23  1.594512e+09  00:0f:00:70:91:0a  0.002840  ...   False  0.013275  19.700001\n",
              "\n",
              "[5 rows x 9 columns]"
            ]
          },
          "metadata": {
            "tags": []
          },
          "execution_count": 89
        }
      ]
    },
    {
      "cell_type": "code",
      "metadata": {
        "id": "s0SRBz0uKnlz",
        "outputId": "6a02a986-42ef-491c-8493-d06008a60028",
        "colab": {
          "base_uri": "https://localhost:8080/",
          "height": 119
        }
      },
      "source": [
        "device1.iloc[:,np.r_[2,3,5,7,8]] = device1.iloc[:,np.r_[2,3,5,7,8]] - device1.iloc[:,np.r_[2,3,5,7,8]].mean()\n",
        "device1.iloc[:,np.r_[2,3,5,7,8]] = device1.iloc[:,np.r_[2,3,5,7,8]] /  device1.iloc[:,np.r_[2,3,5,7,8]].std()\n",
        "device2.iloc[:,np.r_[2,3,5,7,8]] = device2.iloc[:,np.r_[2,3,5,7,8]] - device2.iloc[:,np.r_[2,3,5,7,8]].mean()\n",
        "device2.iloc[:,np.r_[2,3,5,7,8]] = device2.iloc[:,np.r_[2,3,5,7,8]]/  device2.iloc[:,np.r_[2,3,5,7,8]].std()\n",
        "device3.iloc[:,np.r_[2,3,5,7,8]] = device3.iloc[:,np.r_[2,3,5,7,8]] - device3.iloc[:,np.r_[2,3,5,7,8]].mean()\n",
        "device3.iloc[:,np.r_[2,3,5,7,8]] = device3.iloc[:,np.r_[2,3,5,7,8]]/  device3.iloc[:,np.r_[2,3,5,7,8]].std()"
      ],
      "execution_count": null,
      "outputs": [
        {
          "output_type": "stream",
          "text": [
            "/usr/local/lib/python3.6/dist-packages/pandas/core/indexing.py:1717: SettingWithCopyWarning: \n",
            "A value is trying to be set on a copy of a slice from a DataFrame.\n",
            "Try using .loc[row_indexer,col_indexer] = value instead\n",
            "\n",
            "See the caveats in the documentation: https://pandas.pydata.org/pandas-docs/stable/user_guide/indexing.html#returning-a-view-versus-a-copy\n",
            "  isetter(loc, v)\n"
          ],
          "name": "stderr"
        }
      ]
    },
    {
      "cell_type": "code",
      "metadata": {
        "id": "Ty3Eca_-Eqv-",
        "outputId": "0f851fac-132c-4360-9207-4b7e96087cec",
        "colab": {
          "base_uri": "https://localhost:8080/",
          "height": 204
        }
      },
      "source": [
        "avg = device1.mean()\n",
        "stdv = device1.std()\n",
        "standardized_device1 = (device1 - avg) / stdv\n",
        "standardized_device1.head(5)\n"
      ],
      "execution_count": null,
      "outputs": [
        {
          "output_type": "execute_result",
          "data": {
            "text/html": [
              "<div>\n",
              "<style scoped>\n",
              "    .dataframe tbody tr th:only-of-type {\n",
              "        vertical-align: middle;\n",
              "    }\n",
              "\n",
              "    .dataframe tbody tr th {\n",
              "        vertical-align: top;\n",
              "    }\n",
              "\n",
              "    .dataframe thead th {\n",
              "        text-align: right;\n",
              "    }\n",
              "</style>\n",
              "<table border=\"1\" class=\"dataframe\">\n",
              "  <thead>\n",
              "    <tr style=\"text-align: right;\">\n",
              "      <th></th>\n",
              "      <th>3</th>\n",
              "      <th>4</th>\n",
              "      <th>5</th>\n",
              "      <th>7</th>\n",
              "      <th>8</th>\n",
              "      <th>co</th>\n",
              "      <th>device</th>\n",
              "      <th>humidity</th>\n",
              "      <th>light</th>\n",
              "      <th>lpg</th>\n",
              "      <th>motion</th>\n",
              "      <th>smoke</th>\n",
              "      <th>temp</th>\n",
              "      <th>ts</th>\n",
              "    </tr>\n",
              "  </thead>\n",
              "  <tbody>\n",
              "    <tr>\n",
              "      <th>1</th>\n",
              "      <td>NaN</td>\n",
              "      <td>NaN</td>\n",
              "      <td>NaN</td>\n",
              "      <td>NaN</td>\n",
              "      <td>NaN</td>\n",
              "      <td>-0.464451</td>\n",
              "      <td>NaN</td>\n",
              "      <td>0.281222</td>\n",
              "      <td>-0.182601</td>\n",
              "      <td>-0.458333</td>\n",
              "      <td>-0.00518</td>\n",
              "      <td>-0.460392</td>\n",
              "      <td>0.524162</td>\n",
              "      <td>-1.737234</td>\n",
              "    </tr>\n",
              "    <tr>\n",
              "      <th>7</th>\n",
              "      <td>NaN</td>\n",
              "      <td>NaN</td>\n",
              "      <td>NaN</td>\n",
              "      <td>NaN</td>\n",
              "      <td>NaN</td>\n",
              "      <td>-0.398156</td>\n",
              "      <td>NaN</td>\n",
              "      <td>0.281222</td>\n",
              "      <td>-0.182601</td>\n",
              "      <td>-0.383561</td>\n",
              "      <td>-0.00518</td>\n",
              "      <td>-0.387058</td>\n",
              "      <td>0.524162</td>\n",
              "      <td>-1.737173</td>\n",
              "    </tr>\n",
              "    <tr>\n",
              "      <th>15</th>\n",
              "      <td>NaN</td>\n",
              "      <td>NaN</td>\n",
              "      <td>NaN</td>\n",
              "      <td>NaN</td>\n",
              "      <td>NaN</td>\n",
              "      <td>-0.420542</td>\n",
              "      <td>NaN</td>\n",
              "      <td>0.179999</td>\n",
              "      <td>-0.182601</td>\n",
              "      <td>-0.408731</td>\n",
              "      <td>-0.00518</td>\n",
              "      <td>-0.411758</td>\n",
              "      <td>0.524162</td>\n",
              "      <td>-1.737093</td>\n",
              "    </tr>\n",
              "    <tr>\n",
              "      <th>20</th>\n",
              "      <td>NaN</td>\n",
              "      <td>NaN</td>\n",
              "      <td>NaN</td>\n",
              "      <td>NaN</td>\n",
              "      <td>NaN</td>\n",
              "      <td>-0.398156</td>\n",
              "      <td>NaN</td>\n",
              "      <td>0.179999</td>\n",
              "      <td>-0.182601</td>\n",
              "      <td>-0.383561</td>\n",
              "      <td>-0.00518</td>\n",
              "      <td>-0.387058</td>\n",
              "      <td>0.524162</td>\n",
              "      <td>-1.737050</td>\n",
              "    </tr>\n",
              "    <tr>\n",
              "      <th>23</th>\n",
              "      <td>NaN</td>\n",
              "      <td>NaN</td>\n",
              "      <td>NaN</td>\n",
              "      <td>NaN</td>\n",
              "      <td>NaN</td>\n",
              "      <td>-0.464451</td>\n",
              "      <td>NaN</td>\n",
              "      <td>0.281222</td>\n",
              "      <td>-0.182601</td>\n",
              "      <td>-0.458333</td>\n",
              "      <td>-0.00518</td>\n",
              "      <td>-0.460392</td>\n",
              "      <td>0.524162</td>\n",
              "      <td>-1.737031</td>\n",
              "    </tr>\n",
              "  </tbody>\n",
              "</table>\n",
              "</div>"
            ],
            "text/plain": [
              "     3   4   5   7   8  ...       lpg   motion     smoke      temp        ts\n",
              "1  NaN NaN NaN NaN NaN  ... -0.458333 -0.00518 -0.460392  0.524162 -1.737234\n",
              "7  NaN NaN NaN NaN NaN  ... -0.383561 -0.00518 -0.387058  0.524162 -1.737173\n",
              "15 NaN NaN NaN NaN NaN  ... -0.408731 -0.00518 -0.411758  0.524162 -1.737093\n",
              "20 NaN NaN NaN NaN NaN  ... -0.383561 -0.00518 -0.387058  0.524162 -1.737050\n",
              "23 NaN NaN NaN NaN NaN  ... -0.458333 -0.00518 -0.460392  0.524162 -1.737031\n",
              "\n",
              "[5 rows x 14 columns]"
            ]
          },
          "metadata": {
            "tags": []
          },
          "execution_count": 69
        }
      ]
    },
    {
      "cell_type": "code",
      "metadata": {
        "id": "J6FX9kEyE870",
        "outputId": "2b414fbb-1a44-471e-b698-b7c104b80ae2",
        "colab": {
          "base_uri": "https://localhost:8080/",
          "height": 272
        }
      },
      "source": [
        "standardized_device1.mean()"
      ],
      "execution_count": null,
      "outputs": [
        {
          "output_type": "execute_result",
          "data": {
            "text/plain": [
              "3                    NaN\n",
              "4                    NaN\n",
              "5                    NaN\n",
              "7                    NaN\n",
              "8                    NaN\n",
              "co         -9.287036e-13\n",
              "device               NaN\n",
              "humidity    1.240455e-14\n",
              "light       2.039881e-14\n",
              "lpg         1.560453e-16\n",
              "motion     -3.222828e-15\n",
              "smoke      -4.403732e-14\n",
              "temp        7.877475e-16\n",
              "ts         -8.911983e-11\n",
              "dtype: float64"
            ]
          },
          "metadata": {
            "tags": []
          },
          "execution_count": 70
        }
      ]
    },
    {
      "cell_type": "code",
      "metadata": {
        "id": "F8DJ2koBFBfU",
        "outputId": "c8238850-9441-4b45-a3de-f8b50a9066c0",
        "colab": {
          "base_uri": "https://localhost:8080/",
          "height": 272
        }
      },
      "source": [
        "standardized_device1.var()"
      ],
      "execution_count": null,
      "outputs": [
        {
          "output_type": "execute_result",
          "data": {
            "text/plain": [
              "3           NaN\n",
              "4           NaN\n",
              "5           NaN\n",
              "7           NaN\n",
              "8           NaN\n",
              "co          1.0\n",
              "device      NaN\n",
              "humidity    1.0\n",
              "light       1.0\n",
              "lpg         1.0\n",
              "motion      1.0\n",
              "smoke       1.0\n",
              "temp        1.0\n",
              "ts          1.0\n",
              "dtype: float64"
            ]
          },
          "metadata": {
            "tags": []
          },
          "execution_count": 71
        }
      ]
    },
    {
      "cell_type": "code",
      "metadata": {
        "id": "RzJ2q25gFlvO",
        "outputId": "7b9d6e7a-74c8-4d93-c11e-473e117cb65e",
        "colab": {
          "base_uri": "https://localhost:8080/",
          "height": 204
        }
      },
      "source": [
        "avg2 = device2.mean()\n",
        "stdv2 = device2.std()\n",
        "standardized_device2 = (device1 - avg2) / stdv2\n",
        "standardized_device2.head(5)"
      ],
      "execution_count": null,
      "outputs": [
        {
          "output_type": "execute_result",
          "data": {
            "text/html": [
              "<div>\n",
              "<style scoped>\n",
              "    .dataframe tbody tr th:only-of-type {\n",
              "        vertical-align: middle;\n",
              "    }\n",
              "\n",
              "    .dataframe tbody tr th {\n",
              "        vertical-align: top;\n",
              "    }\n",
              "\n",
              "    .dataframe thead th {\n",
              "        text-align: right;\n",
              "    }\n",
              "</style>\n",
              "<table border=\"1\" class=\"dataframe\">\n",
              "  <thead>\n",
              "    <tr style=\"text-align: right;\">\n",
              "      <th></th>\n",
              "      <th>3</th>\n",
              "      <th>4</th>\n",
              "      <th>5</th>\n",
              "      <th>7</th>\n",
              "      <th>8</th>\n",
              "      <th>co</th>\n",
              "      <th>device</th>\n",
              "      <th>humidity</th>\n",
              "      <th>light</th>\n",
              "      <th>lpg</th>\n",
              "      <th>motion</th>\n",
              "      <th>smoke</th>\n",
              "      <th>temp</th>\n",
              "      <th>ts</th>\n",
              "    </tr>\n",
              "  </thead>\n",
              "  <tbody>\n",
              "    <tr>\n",
              "      <th>1</th>\n",
              "      <td>NaN</td>\n",
              "      <td>NaN</td>\n",
              "      <td>NaN</td>\n",
              "      <td>NaN</td>\n",
              "      <td>NaN</td>\n",
              "      <td>-4.190906</td>\n",
              "      <td>NaN</td>\n",
              "      <td>-6.889934</td>\n",
              "      <td>-inf</td>\n",
              "      <td>-1246.789007</td>\n",
              "      <td>-0.056328</td>\n",
              "      <td>-453.288789</td>\n",
              "      <td>-12.584391</td>\n",
              "      <td>-1.734001</td>\n",
              "    </tr>\n",
              "    <tr>\n",
              "      <th>7</th>\n",
              "      <td>NaN</td>\n",
              "      <td>NaN</td>\n",
              "      <td>NaN</td>\n",
              "      <td>NaN</td>\n",
              "      <td>NaN</td>\n",
              "      <td>-3.884962</td>\n",
              "      <td>NaN</td>\n",
              "      <td>-6.889934</td>\n",
              "      <td>-inf</td>\n",
              "      <td>-1046.348375</td>\n",
              "      <td>-0.056328</td>\n",
              "      <td>-383.787456</td>\n",
              "      <td>-12.584391</td>\n",
              "      <td>-1.733940</td>\n",
              "    </tr>\n",
              "    <tr>\n",
              "      <th>15</th>\n",
              "      <td>NaN</td>\n",
              "      <td>NaN</td>\n",
              "      <td>NaN</td>\n",
              "      <td>NaN</td>\n",
              "      <td>NaN</td>\n",
              "      <td>-3.988270</td>\n",
              "      <td>NaN</td>\n",
              "      <td>-6.901250</td>\n",
              "      <td>-inf</td>\n",
              "      <td>-1113.821466</td>\n",
              "      <td>-0.056328</td>\n",
              "      <td>-407.196231</td>\n",
              "      <td>-12.584391</td>\n",
              "      <td>-1.733860</td>\n",
              "    </tr>\n",
              "    <tr>\n",
              "      <th>20</th>\n",
              "      <td>NaN</td>\n",
              "      <td>NaN</td>\n",
              "      <td>NaN</td>\n",
              "      <td>NaN</td>\n",
              "      <td>NaN</td>\n",
              "      <td>-3.884962</td>\n",
              "      <td>NaN</td>\n",
              "      <td>-6.901250</td>\n",
              "      <td>-inf</td>\n",
              "      <td>-1046.348375</td>\n",
              "      <td>-0.056328</td>\n",
              "      <td>-383.787456</td>\n",
              "      <td>-12.584391</td>\n",
              "      <td>-1.733817</td>\n",
              "    </tr>\n",
              "    <tr>\n",
              "      <th>23</th>\n",
              "      <td>NaN</td>\n",
              "      <td>NaN</td>\n",
              "      <td>NaN</td>\n",
              "      <td>NaN</td>\n",
              "      <td>NaN</td>\n",
              "      <td>-4.190906</td>\n",
              "      <td>NaN</td>\n",
              "      <td>-6.889934</td>\n",
              "      <td>-inf</td>\n",
              "      <td>-1246.789007</td>\n",
              "      <td>-0.056328</td>\n",
              "      <td>-453.288789</td>\n",
              "      <td>-12.584391</td>\n",
              "      <td>-1.733798</td>\n",
              "    </tr>\n",
              "  </tbody>\n",
              "</table>\n",
              "</div>"
            ],
            "text/plain": [
              "     3   4   5   7   8  ...          lpg    motion       smoke       temp        ts\n",
              "1  NaN NaN NaN NaN NaN  ... -1246.789007 -0.056328 -453.288789 -12.584391 -1.734001\n",
              "7  NaN NaN NaN NaN NaN  ... -1046.348375 -0.056328 -383.787456 -12.584391 -1.733940\n",
              "15 NaN NaN NaN NaN NaN  ... -1113.821466 -0.056328 -407.196231 -12.584391 -1.733860\n",
              "20 NaN NaN NaN NaN NaN  ... -1046.348375 -0.056328 -383.787456 -12.584391 -1.733817\n",
              "23 NaN NaN NaN NaN NaN  ... -1246.789007 -0.056328 -453.288789 -12.584391 -1.733798\n",
              "\n",
              "[5 rows x 14 columns]"
            ]
          },
          "metadata": {
            "tags": []
          },
          "execution_count": 73
        }
      ]
    },
    {
      "cell_type": "code",
      "metadata": {
        "id": "q-e0t41RF33M",
        "outputId": "9b0e01fd-c032-49b6-a78b-f0364d6d7bd2",
        "colab": {
          "base_uri": "https://localhost:8080/",
          "height": 204
        }
      },
      "source": [
        "avg3 = device3.mean()\n",
        "stdv3 = device3.std()\n",
        "standardized_device3 = (device3 - avg3) / stdv3\n",
        "standardized_device3.head(5)"
      ],
      "execution_count": null,
      "outputs": [
        {
          "output_type": "execute_result",
          "data": {
            "text/html": [
              "<div>\n",
              "<style scoped>\n",
              "    .dataframe tbody tr th:only-of-type {\n",
              "        vertical-align: middle;\n",
              "    }\n",
              "\n",
              "    .dataframe tbody tr th {\n",
              "        vertical-align: top;\n",
              "    }\n",
              "\n",
              "    .dataframe thead th {\n",
              "        text-align: right;\n",
              "    }\n",
              "</style>\n",
              "<table border=\"1\" class=\"dataframe\">\n",
              "  <thead>\n",
              "    <tr style=\"text-align: right;\">\n",
              "      <th></th>\n",
              "      <th>co</th>\n",
              "      <th>device</th>\n",
              "      <th>humidity</th>\n",
              "      <th>light</th>\n",
              "      <th>lpg</th>\n",
              "      <th>motion</th>\n",
              "      <th>smoke</th>\n",
              "      <th>temp</th>\n",
              "      <th>ts</th>\n",
              "    </tr>\n",
              "  </thead>\n",
              "  <tbody>\n",
              "    <tr>\n",
              "      <th>0</th>\n",
              "      <td>-1.080793</td>\n",
              "      <td>NaN</td>\n",
              "      <td>0.098428</td>\n",
              "      <td>-0.127554</td>\n",
              "      <td>-1.093491</td>\n",
              "      <td>-0.027727</td>\n",
              "      <td>-1.091260</td>\n",
              "      <td>0.871610</td>\n",
              "      <td>-1.732015</td>\n",
              "    </tr>\n",
              "    <tr>\n",
              "      <th>2</th>\n",
              "      <td>-1.044864</td>\n",
              "      <td>NaN</td>\n",
              "      <td>0.045488</td>\n",
              "      <td>-0.127554</td>\n",
              "      <td>-1.056107</td>\n",
              "      <td>-0.027727</td>\n",
              "      <td>-1.054137</td>\n",
              "      <td>0.664099</td>\n",
              "      <td>-1.731996</td>\n",
              "    </tr>\n",
              "    <tr>\n",
              "      <th>4</th>\n",
              "      <td>-1.060344</td>\n",
              "      <td>NaN</td>\n",
              "      <td>0.045488</td>\n",
              "      <td>-0.127554</td>\n",
              "      <td>-1.072209</td>\n",
              "      <td>-0.027727</td>\n",
              "      <td>-1.070127</td>\n",
              "      <td>0.664099</td>\n",
              "      <td>-1.731978</td>\n",
              "    </tr>\n",
              "    <tr>\n",
              "      <th>6</th>\n",
              "      <td>-1.044841</td>\n",
              "      <td>NaN</td>\n",
              "      <td>0.045488</td>\n",
              "      <td>-0.127554</td>\n",
              "      <td>-1.056083</td>\n",
              "      <td>-0.027727</td>\n",
              "      <td>-1.054113</td>\n",
              "      <td>0.664099</td>\n",
              "      <td>-1.731959</td>\n",
              "    </tr>\n",
              "    <tr>\n",
              "      <th>9</th>\n",
              "      <td>-1.055167</td>\n",
              "      <td>NaN</td>\n",
              "      <td>0.045488</td>\n",
              "      <td>-0.127554</td>\n",
              "      <td>-1.066824</td>\n",
              "      <td>-0.027727</td>\n",
              "      <td>-1.064779</td>\n",
              "      <td>0.664099</td>\n",
              "      <td>-1.731941</td>\n",
              "    </tr>\n",
              "  </tbody>\n",
              "</table>\n",
              "</div>"
            ],
            "text/plain": [
              "         co device  humidity     light  ...    motion     smoke      temp        ts\n",
              "0 -1.080793    NaN  0.098428 -0.127554  ... -0.027727 -1.091260  0.871610 -1.732015\n",
              "2 -1.044864    NaN  0.045488 -0.127554  ... -0.027727 -1.054137  0.664099 -1.731996\n",
              "4 -1.060344    NaN  0.045488 -0.127554  ... -0.027727 -1.070127  0.664099 -1.731978\n",
              "6 -1.044841    NaN  0.045488 -0.127554  ... -0.027727 -1.054113  0.664099 -1.731959\n",
              "9 -1.055167    NaN  0.045488 -0.127554  ... -0.027727 -1.064779  0.664099 -1.731941\n",
              "\n",
              "[5 rows x 9 columns]"
            ]
          },
          "metadata": {
            "tags": []
          },
          "execution_count": 74
        }
      ]
    },
    {
      "cell_type": "markdown",
      "metadata": {
        "id": "OUAcCAohtJsg"
      },
      "source": [
        "### (c)"
      ]
    },
    {
      "cell_type": "code",
      "metadata": {
        "id": "FoLF9iUZI5t2",
        "outputId": "68a71b77-2672-4061-f932-268b549ad24a",
        "colab": {
          "base_uri": "https://localhost:8080/",
          "height": 307
        }
      },
      "source": [
        "df_final = standardized_device1.agg(standardized_device2)"
      ],
      "execution_count": null,
      "outputs": [
        {
          "output_type": "error",
          "ename": "AttributeError",
          "evalue": "ignored",
          "traceback": [
            "\u001b[0;31m---------------------------------------------------------------------------\u001b[0m",
            "\u001b[0;31mAttributeError\u001b[0m                            Traceback (most recent call last)",
            "\u001b[0;32m<ipython-input-82-c40cc3cc152e>\u001b[0m in \u001b[0;36m<module>\u001b[0;34m()\u001b[0m\n\u001b[0;32m----> 1\u001b[0;31m \u001b[0mdf_final\u001b[0m \u001b[0;34m=\u001b[0m \u001b[0mstandardized_device1\u001b[0m\u001b[0;34m.\u001b[0m\u001b[0magg\u001b[0m\u001b[0;34m(\u001b[0m\u001b[0mstandardized_device2\u001b[0m\u001b[0;34m)\u001b[0m\u001b[0;34m\u001b[0m\u001b[0;34m\u001b[0m\u001b[0m\n\u001b[0m",
            "\u001b[0;32m/usr/local/lib/python3.6/dist-packages/pandas/core/frame.py\u001b[0m in \u001b[0;36maggregate\u001b[0;34m(self, func, axis, *args, **kwargs)\u001b[0m\n\u001b[1;32m   7359\u001b[0m         \u001b[0mresult\u001b[0m \u001b[0;34m=\u001b[0m \u001b[0;32mNone\u001b[0m\u001b[0;34m\u001b[0m\u001b[0;34m\u001b[0m\u001b[0m\n\u001b[1;32m   7360\u001b[0m         \u001b[0;32mtry\u001b[0m\u001b[0;34m:\u001b[0m\u001b[0;34m\u001b[0m\u001b[0;34m\u001b[0m\u001b[0m\n\u001b[0;32m-> 7361\u001b[0;31m             \u001b[0mresult\u001b[0m\u001b[0;34m,\u001b[0m \u001b[0mhow\u001b[0m \u001b[0;34m=\u001b[0m \u001b[0mself\u001b[0m\u001b[0;34m.\u001b[0m\u001b[0m_aggregate\u001b[0m\u001b[0;34m(\u001b[0m\u001b[0mfunc\u001b[0m\u001b[0;34m,\u001b[0m \u001b[0maxis\u001b[0m\u001b[0;34m=\u001b[0m\u001b[0maxis\u001b[0m\u001b[0;34m,\u001b[0m \u001b[0;34m*\u001b[0m\u001b[0margs\u001b[0m\u001b[0;34m,\u001b[0m \u001b[0;34m**\u001b[0m\u001b[0mkwargs\u001b[0m\u001b[0;34m)\u001b[0m\u001b[0;34m\u001b[0m\u001b[0;34m\u001b[0m\u001b[0m\n\u001b[0m\u001b[1;32m   7362\u001b[0m         \u001b[0;32mexcept\u001b[0m \u001b[0mTypeError\u001b[0m \u001b[0;32mas\u001b[0m \u001b[0merr\u001b[0m\u001b[0;34m:\u001b[0m\u001b[0;34m\u001b[0m\u001b[0;34m\u001b[0m\u001b[0m\n\u001b[1;32m   7363\u001b[0m             exc = TypeError(\n",
            "\u001b[0;32m/usr/local/lib/python3.6/dist-packages/pandas/core/frame.py\u001b[0m in \u001b[0;36m_aggregate\u001b[0;34m(self, arg, axis, *args, **kwargs)\u001b[0m\n\u001b[1;32m   7384\u001b[0m             \u001b[0mresult\u001b[0m \u001b[0;34m=\u001b[0m \u001b[0mresult\u001b[0m\u001b[0;34m.\u001b[0m\u001b[0mT\u001b[0m \u001b[0;32mif\u001b[0m \u001b[0mresult\u001b[0m \u001b[0;32mis\u001b[0m \u001b[0;32mnot\u001b[0m \u001b[0;32mNone\u001b[0m \u001b[0;32melse\u001b[0m \u001b[0mresult\u001b[0m\u001b[0;34m\u001b[0m\u001b[0;34m\u001b[0m\u001b[0m\n\u001b[1;32m   7385\u001b[0m             \u001b[0;32mreturn\u001b[0m \u001b[0mresult\u001b[0m\u001b[0;34m,\u001b[0m \u001b[0mhow\u001b[0m\u001b[0;34m\u001b[0m\u001b[0;34m\u001b[0m\u001b[0m\n\u001b[0;32m-> 7386\u001b[0;31m         \u001b[0;32mreturn\u001b[0m \u001b[0msuper\u001b[0m\u001b[0;34m(\u001b[0m\u001b[0;34m)\u001b[0m\u001b[0;34m.\u001b[0m\u001b[0m_aggregate\u001b[0m\u001b[0;34m(\u001b[0m\u001b[0marg\u001b[0m\u001b[0;34m,\u001b[0m \u001b[0;34m*\u001b[0m\u001b[0margs\u001b[0m\u001b[0;34m,\u001b[0m \u001b[0;34m**\u001b[0m\u001b[0mkwargs\u001b[0m\u001b[0;34m)\u001b[0m\u001b[0;34m\u001b[0m\u001b[0;34m\u001b[0m\u001b[0m\n\u001b[0m\u001b[1;32m   7387\u001b[0m \u001b[0;34m\u001b[0m\u001b[0m\n\u001b[1;32m   7388\u001b[0m     \u001b[0magg\u001b[0m \u001b[0;34m=\u001b[0m \u001b[0maggregate\u001b[0m\u001b[0;34m\u001b[0m\u001b[0;34m\u001b[0m\u001b[0m\n",
            "\u001b[0;32m/usr/local/lib/python3.6/dist-packages/pandas/core/base.py\u001b[0m in \u001b[0;36m_aggregate\u001b[0;34m(self, arg, *args, **kwargs)\u001b[0m\n\u001b[1;32m    478\u001b[0m         \u001b[0;32melif\u001b[0m \u001b[0mis_list_like\u001b[0m\u001b[0;34m(\u001b[0m\u001b[0marg\u001b[0m\u001b[0;34m)\u001b[0m\u001b[0;34m:\u001b[0m\u001b[0;34m\u001b[0m\u001b[0;34m\u001b[0m\u001b[0m\n\u001b[1;32m    479\u001b[0m             \u001b[0;31m# we require a list, but not an 'str'\u001b[0m\u001b[0;34m\u001b[0m\u001b[0;34m\u001b[0m\u001b[0;34m\u001b[0m\u001b[0m\n\u001b[0;32m--> 480\u001b[0;31m             \u001b[0;32mreturn\u001b[0m \u001b[0mself\u001b[0m\u001b[0;34m.\u001b[0m\u001b[0m_aggregate_multiple_funcs\u001b[0m\u001b[0;34m(\u001b[0m\u001b[0marg\u001b[0m\u001b[0;34m,\u001b[0m \u001b[0m_axis\u001b[0m\u001b[0;34m=\u001b[0m\u001b[0m_axis\u001b[0m\u001b[0;34m)\u001b[0m\u001b[0;34m,\u001b[0m \u001b[0;32mNone\u001b[0m\u001b[0;34m\u001b[0m\u001b[0;34m\u001b[0m\u001b[0m\n\u001b[0m\u001b[1;32m    481\u001b[0m         \u001b[0;32melse\u001b[0m\u001b[0;34m:\u001b[0m\u001b[0;34m\u001b[0m\u001b[0;34m\u001b[0m\u001b[0m\n\u001b[1;32m    482\u001b[0m             \u001b[0mresult\u001b[0m \u001b[0;34m=\u001b[0m \u001b[0;32mNone\u001b[0m\u001b[0;34m\u001b[0m\u001b[0;34m\u001b[0m\u001b[0m\n",
            "\u001b[0;32m/usr/local/lib/python3.6/dist-packages/pandas/core/base.py\u001b[0m in \u001b[0;36m_aggregate_multiple_funcs\u001b[0;34m(self, arg, _axis)\u001b[0m\n\u001b[1;32m    524\u001b[0m                 \u001b[0mcolg\u001b[0m \u001b[0;34m=\u001b[0m \u001b[0mself\u001b[0m\u001b[0;34m.\u001b[0m\u001b[0m_gotitem\u001b[0m\u001b[0;34m(\u001b[0m\u001b[0mcol\u001b[0m\u001b[0;34m,\u001b[0m \u001b[0mndim\u001b[0m\u001b[0;34m=\u001b[0m\u001b[0;36m1\u001b[0m\u001b[0;34m,\u001b[0m \u001b[0msubset\u001b[0m\u001b[0;34m=\u001b[0m\u001b[0mobj\u001b[0m\u001b[0;34m.\u001b[0m\u001b[0miloc\u001b[0m\u001b[0;34m[\u001b[0m\u001b[0;34m:\u001b[0m\u001b[0;34m,\u001b[0m \u001b[0mindex\u001b[0m\u001b[0;34m]\u001b[0m\u001b[0;34m)\u001b[0m\u001b[0;34m\u001b[0m\u001b[0;34m\u001b[0m\u001b[0m\n\u001b[1;32m    525\u001b[0m                 \u001b[0;32mtry\u001b[0m\u001b[0;34m:\u001b[0m\u001b[0;34m\u001b[0m\u001b[0;34m\u001b[0m\u001b[0m\n\u001b[0;32m--> 526\u001b[0;31m                     \u001b[0mnew_res\u001b[0m \u001b[0;34m=\u001b[0m \u001b[0mcolg\u001b[0m\u001b[0;34m.\u001b[0m\u001b[0maggregate\u001b[0m\u001b[0;34m(\u001b[0m\u001b[0marg\u001b[0m\u001b[0;34m)\u001b[0m\u001b[0;34m\u001b[0m\u001b[0;34m\u001b[0m\u001b[0m\n\u001b[0m\u001b[1;32m    527\u001b[0m                 \u001b[0;32mexcept\u001b[0m \u001b[0;34m(\u001b[0m\u001b[0mTypeError\u001b[0m\u001b[0;34m,\u001b[0m \u001b[0mDataError\u001b[0m\u001b[0;34m)\u001b[0m\u001b[0;34m:\u001b[0m\u001b[0;34m\u001b[0m\u001b[0;34m\u001b[0m\u001b[0m\n\u001b[1;32m    528\u001b[0m                     \u001b[0;32mpass\u001b[0m\u001b[0;34m\u001b[0m\u001b[0;34m\u001b[0m\u001b[0m\n",
            "\u001b[0;32m/usr/local/lib/python3.6/dist-packages/pandas/core/series.py\u001b[0m in \u001b[0;36maggregate\u001b[0;34m(self, func, axis, *args, **kwargs)\u001b[0m\n\u001b[1;32m   4034\u001b[0m             \u001b[0mfunc\u001b[0m \u001b[0;34m=\u001b[0m \u001b[0mdict\u001b[0m\u001b[0;34m(\u001b[0m\u001b[0mkwargs\u001b[0m\u001b[0;34m.\u001b[0m\u001b[0mitems\u001b[0m\u001b[0;34m(\u001b[0m\u001b[0;34m)\u001b[0m\u001b[0;34m)\u001b[0m\u001b[0;34m\u001b[0m\u001b[0;34m\u001b[0m\u001b[0m\n\u001b[1;32m   4035\u001b[0m \u001b[0;34m\u001b[0m\u001b[0m\n\u001b[0;32m-> 4036\u001b[0;31m         \u001b[0mresult\u001b[0m\u001b[0;34m,\u001b[0m \u001b[0mhow\u001b[0m \u001b[0;34m=\u001b[0m \u001b[0mself\u001b[0m\u001b[0;34m.\u001b[0m\u001b[0m_aggregate\u001b[0m\u001b[0;34m(\u001b[0m\u001b[0mfunc\u001b[0m\u001b[0;34m,\u001b[0m \u001b[0;34m*\u001b[0m\u001b[0margs\u001b[0m\u001b[0;34m,\u001b[0m \u001b[0;34m**\u001b[0m\u001b[0mkwargs\u001b[0m\u001b[0;34m)\u001b[0m\u001b[0;34m\u001b[0m\u001b[0;34m\u001b[0m\u001b[0m\n\u001b[0m\u001b[1;32m   4037\u001b[0m         \u001b[0;32mif\u001b[0m \u001b[0mresult\u001b[0m \u001b[0;32mis\u001b[0m \u001b[0;32mNone\u001b[0m\u001b[0;34m:\u001b[0m\u001b[0;34m\u001b[0m\u001b[0;34m\u001b[0m\u001b[0m\n\u001b[1;32m   4038\u001b[0m \u001b[0;34m\u001b[0m\u001b[0m\n",
            "\u001b[0;32m/usr/local/lib/python3.6/dist-packages/pandas/core/base.py\u001b[0m in \u001b[0;36m_aggregate\u001b[0;34m(self, arg, *args, **kwargs)\u001b[0m\n\u001b[1;32m    478\u001b[0m         \u001b[0;32melif\u001b[0m \u001b[0mis_list_like\u001b[0m\u001b[0;34m(\u001b[0m\u001b[0marg\u001b[0m\u001b[0;34m)\u001b[0m\u001b[0;34m:\u001b[0m\u001b[0;34m\u001b[0m\u001b[0;34m\u001b[0m\u001b[0m\n\u001b[1;32m    479\u001b[0m             \u001b[0;31m# we require a list, but not an 'str'\u001b[0m\u001b[0;34m\u001b[0m\u001b[0;34m\u001b[0m\u001b[0;34m\u001b[0m\u001b[0m\n\u001b[0;32m--> 480\u001b[0;31m             \u001b[0;32mreturn\u001b[0m \u001b[0mself\u001b[0m\u001b[0;34m.\u001b[0m\u001b[0m_aggregate_multiple_funcs\u001b[0m\u001b[0;34m(\u001b[0m\u001b[0marg\u001b[0m\u001b[0;34m,\u001b[0m \u001b[0m_axis\u001b[0m\u001b[0;34m=\u001b[0m\u001b[0m_axis\u001b[0m\u001b[0;34m)\u001b[0m\u001b[0;34m,\u001b[0m \u001b[0;32mNone\u001b[0m\u001b[0;34m\u001b[0m\u001b[0;34m\u001b[0m\u001b[0m\n\u001b[0m\u001b[1;32m    481\u001b[0m         \u001b[0;32melse\u001b[0m\u001b[0;34m:\u001b[0m\u001b[0;34m\u001b[0m\u001b[0;34m\u001b[0m\u001b[0m\n\u001b[1;32m    482\u001b[0m             \u001b[0mresult\u001b[0m \u001b[0;34m=\u001b[0m \u001b[0;32mNone\u001b[0m\u001b[0;34m\u001b[0m\u001b[0;34m\u001b[0m\u001b[0m\n",
            "\u001b[0;32m/usr/local/lib/python3.6/dist-packages/pandas/core/base.py\u001b[0m in \u001b[0;36m_aggregate_multiple_funcs\u001b[0;34m(self, arg, _axis)\u001b[0m\n\u001b[1;32m    508\u001b[0m                 \u001b[0mcolg\u001b[0m \u001b[0;34m=\u001b[0m \u001b[0mself\u001b[0m\u001b[0;34m.\u001b[0m\u001b[0m_gotitem\u001b[0m\u001b[0;34m(\u001b[0m\u001b[0mobj\u001b[0m\u001b[0;34m.\u001b[0m\u001b[0mname\u001b[0m\u001b[0;34m,\u001b[0m \u001b[0mndim\u001b[0m\u001b[0;34m=\u001b[0m\u001b[0;36m1\u001b[0m\u001b[0;34m,\u001b[0m \u001b[0msubset\u001b[0m\u001b[0;34m=\u001b[0m\u001b[0mobj\u001b[0m\u001b[0;34m)\u001b[0m\u001b[0;34m\u001b[0m\u001b[0;34m\u001b[0m\u001b[0m\n\u001b[1;32m    509\u001b[0m                 \u001b[0;32mtry\u001b[0m\u001b[0;34m:\u001b[0m\u001b[0;34m\u001b[0m\u001b[0;34m\u001b[0m\u001b[0m\n\u001b[0;32m--> 510\u001b[0;31m                     \u001b[0mnew_res\u001b[0m \u001b[0;34m=\u001b[0m \u001b[0mcolg\u001b[0m\u001b[0;34m.\u001b[0m\u001b[0maggregate\u001b[0m\u001b[0;34m(\u001b[0m\u001b[0ma\u001b[0m\u001b[0;34m)\u001b[0m\u001b[0;34m\u001b[0m\u001b[0;34m\u001b[0m\u001b[0m\n\u001b[0m\u001b[1;32m    511\u001b[0m \u001b[0;34m\u001b[0m\u001b[0m\n\u001b[1;32m    512\u001b[0m                 \u001b[0;32mexcept\u001b[0m \u001b[0mTypeError\u001b[0m\u001b[0;34m:\u001b[0m\u001b[0;34m\u001b[0m\u001b[0;34m\u001b[0m\u001b[0m\n",
            "\u001b[0;32m/usr/local/lib/python3.6/dist-packages/pandas/core/series.py\u001b[0m in \u001b[0;36maggregate\u001b[0;34m(self, func, axis, *args, **kwargs)\u001b[0m\n\u001b[1;32m   4034\u001b[0m             \u001b[0mfunc\u001b[0m \u001b[0;34m=\u001b[0m \u001b[0mdict\u001b[0m\u001b[0;34m(\u001b[0m\u001b[0mkwargs\u001b[0m\u001b[0;34m.\u001b[0m\u001b[0mitems\u001b[0m\u001b[0;34m(\u001b[0m\u001b[0;34m)\u001b[0m\u001b[0;34m)\u001b[0m\u001b[0;34m\u001b[0m\u001b[0;34m\u001b[0m\u001b[0m\n\u001b[1;32m   4035\u001b[0m \u001b[0;34m\u001b[0m\u001b[0m\n\u001b[0;32m-> 4036\u001b[0;31m         \u001b[0mresult\u001b[0m\u001b[0;34m,\u001b[0m \u001b[0mhow\u001b[0m \u001b[0;34m=\u001b[0m \u001b[0mself\u001b[0m\u001b[0;34m.\u001b[0m\u001b[0m_aggregate\u001b[0m\u001b[0;34m(\u001b[0m\u001b[0mfunc\u001b[0m\u001b[0;34m,\u001b[0m \u001b[0;34m*\u001b[0m\u001b[0margs\u001b[0m\u001b[0;34m,\u001b[0m \u001b[0;34m**\u001b[0m\u001b[0mkwargs\u001b[0m\u001b[0;34m)\u001b[0m\u001b[0;34m\u001b[0m\u001b[0;34m\u001b[0m\u001b[0m\n\u001b[0m\u001b[1;32m   4037\u001b[0m         \u001b[0;32mif\u001b[0m \u001b[0mresult\u001b[0m \u001b[0;32mis\u001b[0m \u001b[0;32mNone\u001b[0m\u001b[0;34m:\u001b[0m\u001b[0;34m\u001b[0m\u001b[0;34m\u001b[0m\u001b[0m\n\u001b[1;32m   4038\u001b[0m \u001b[0;34m\u001b[0m\u001b[0m\n",
            "\u001b[0;32m/usr/local/lib/python3.6/dist-packages/pandas/core/base.py\u001b[0m in \u001b[0;36m_aggregate\u001b[0;34m(self, arg, *args, **kwargs)\u001b[0m\n\u001b[1;32m    305\u001b[0m \u001b[0;34m\u001b[0m\u001b[0m\n\u001b[1;32m    306\u001b[0m         \u001b[0;32mif\u001b[0m \u001b[0misinstance\u001b[0m\u001b[0;34m(\u001b[0m\u001b[0marg\u001b[0m\u001b[0;34m,\u001b[0m \u001b[0mstr\u001b[0m\u001b[0;34m)\u001b[0m\u001b[0;34m:\u001b[0m\u001b[0;34m\u001b[0m\u001b[0;34m\u001b[0m\u001b[0m\n\u001b[0;32m--> 307\u001b[0;31m             \u001b[0;32mreturn\u001b[0m \u001b[0mself\u001b[0m\u001b[0;34m.\u001b[0m\u001b[0m_try_aggregate_string_function\u001b[0m\u001b[0;34m(\u001b[0m\u001b[0marg\u001b[0m\u001b[0;34m,\u001b[0m \u001b[0;34m*\u001b[0m\u001b[0margs\u001b[0m\u001b[0;34m,\u001b[0m \u001b[0;34m**\u001b[0m\u001b[0mkwargs\u001b[0m\u001b[0;34m)\u001b[0m\u001b[0;34m,\u001b[0m \u001b[0;32mNone\u001b[0m\u001b[0;34m\u001b[0m\u001b[0;34m\u001b[0m\u001b[0m\n\u001b[0m\u001b[1;32m    308\u001b[0m \u001b[0;34m\u001b[0m\u001b[0m\n\u001b[1;32m    309\u001b[0m         \u001b[0;32mif\u001b[0m \u001b[0misinstance\u001b[0m\u001b[0;34m(\u001b[0m\u001b[0marg\u001b[0m\u001b[0;34m,\u001b[0m \u001b[0mdict\u001b[0m\u001b[0;34m)\u001b[0m\u001b[0;34m:\u001b[0m\u001b[0;34m\u001b[0m\u001b[0;34m\u001b[0m\u001b[0m\n",
            "\u001b[0;32m/usr/local/lib/python3.6/dist-packages/pandas/core/base.py\u001b[0m in \u001b[0;36m_try_aggregate_string_function\u001b[0;34m(self, arg, *args, **kwargs)\u001b[0m\n\u001b[1;32m    276\u001b[0m \u001b[0;34m\u001b[0m\u001b[0m\n\u001b[1;32m    277\u001b[0m         raise AttributeError(\n\u001b[0;32m--> 278\u001b[0;31m             \u001b[0;34mf\"'{arg}' is not a valid function for '{type(self).__name__}' object\"\u001b[0m\u001b[0;34m\u001b[0m\u001b[0;34m\u001b[0m\u001b[0m\n\u001b[0m\u001b[1;32m    279\u001b[0m         )\n\u001b[1;32m    280\u001b[0m \u001b[0;34m\u001b[0m\u001b[0m\n",
            "\u001b[0;31mAttributeError\u001b[0m: 'co' is not a valid function for 'Series' object"
          ]
        }
      ]
    },
    {
      "cell_type": "markdown",
      "metadata": {
        "id": "O80-lPHotJsj"
      },
      "source": [
        "### (d)"
      ]
    },
    {
      "cell_type": "markdown",
      "metadata": {
        "id": "yqhzlhk3b26S"
      },
      "source": [
        "ts variable in the dataset has not been touched during pre processing because it represents the the time series data and timestamps "
      ]
    },
    {
      "cell_type": "markdown",
      "metadata": {
        "id": "5m0TB2yTtJsj"
      },
      "source": [
        "_Your answer for 1.2d goes here_"
      ]
    },
    {
      "cell_type": "markdown",
      "metadata": {
        "id": "0CL6Ig7RtJsj"
      },
      "source": [
        "### (e)"
      ]
    },
    {
      "cell_type": "code",
      "metadata": {
        "id": "VYbVwrGdtJsk"
      },
      "source": [
        "device1 = one_hot_encoded_df['MAC:_00:0f:00:70:91:0a'] == 1\n",
        "device2 = one_hot_encoded_df['MAC:_1c:bf:ce:15:ec:4d'] == 1\n",
        "device3 = one_hot_encoded_df['MAC:_b8:27:eb:bf:9d:51'] == 1"
      ],
      "execution_count": null,
      "outputs": []
    },
    {
      "cell_type": "code",
      "metadata": {
        "id": "njnxEvOCgj8w"
      },
      "source": [
        "mean_co = [one_hot_encoded_df.loc[device1,'co'].mean(),one_hot_encoded_df.loc[device2,'co'].mean(),one_hot_encoded_df.loc[device2,'co'].mean()]\n",
        "mean_humidity = [one_hot_encoded_df.loc[device1,'humidity'].mean(),one_hot_encoded_df.loc[device2,'humidity'].mean(),one_hot_encoded_df.loc[device3,'humidity'].mean()]\n",
        "mean_lpg = [one_hot_encoded_df.loc[device1,'lpg'].mean(),one_hot_encoded_df.loc[device2,'lpg'].mean(),one_hot_encoded_df.loc[device3,'lpg'].mean()]\n",
        "mean_smoke = [one_hot_encoded_df.loc[device1,'smoke'].mean(),one_hot_encoded_df.loc[device2,'smoke'].mean(),one_hot_encoded_df.loc[device3,'smoke'].mean()]\n",
        "mean_temp = [one_hot_encoded_df.loc[device1,'temp'].mean(),one_hot_encoded_df.loc[device2,'temp'].mean(),one_hot_encoded_df.loc[device3,'temp'].mean()]"
      ],
      "execution_count": null,
      "outputs": []
    },
    {
      "cell_type": "code",
      "metadata": {
        "id": "0HP_8_friJ5C",
        "outputId": "e957e1d7-7230-4ab5-c799-539d324775d8",
        "colab": {
          "base_uri": "https://localhost:8080/",
          "height": 320
        }
      },
      "source": [
        "index = ['device1','device2','device3']\n",
        "df = pd.DataFrame({'mean_co': mean_co,'mean_humidity': mean_humidity, 'mean_lpg': mean_lpg, 'mean_smoke': mean_smoke, 'mean_temp':mean_temp}, index = index)\n",
        "ax = df.plot.bar(rot=0,figsize=(20,5))\n"
      ],
      "execution_count": null,
      "outputs": [
        {
          "output_type": "display_data",
          "data": {
            "image/png": "[encoded data removed]",
            "text/plain": [
              "<Figure size 1440x360 with 1 Axes>"
            ]
          },
          "metadata": {
            "tags": [],
            "needs_background": "light"
          }
        }
      ]
    },
    {
      "cell_type": "code",
      "metadata": {
        "id": "IN8b4RsHvMKL"
      },
      "source": [
        "var_co = [one_hot_encoded_df.loc[device1,'co'].var(),one_hot_encoded_df.loc[device2,'co'].var(),one_hot_encoded_df.loc[device2,'co'].var()]\n",
        "var_humidity = [one_hot_encoded_df.loc[device1,'humidity'].var(),one_hot_encoded_df.loc[device2,'humidity'].var(),one_hot_encoded_df.loc[device3,'humidity'].var()]\n",
        "var_lpg = [one_hot_encoded_df.loc[device1,'lpg'].var(),one_hot_encoded_df.loc[device2,'lpg'].var(),one_hot_encoded_df.loc[device3,'lpg'].var()]\n",
        "var_smoke = [one_hot_encoded_df.loc[device1,'smoke'].var(),one_hot_encoded_df.loc[device2,'smoke'].var(),one_hot_encoded_df.loc[device3,'smoke'].var()]\n",
        "var_temp = [one_hot_encoded_df.loc[device1,'temp'].var(),one_hot_encoded_df.loc[device2,'temp'].var(),one_hot_encoded_df.loc[device3,'temp'].var()]"
      ],
      "execution_count": null,
      "outputs": []
    },
    {
      "cell_type": "code",
      "metadata": {
        "id": "POPfAHybvdF1",
        "outputId": "93a0e7c5-dd22-49d3-cfc5-76b44a0a6725",
        "colab": {
          "base_uri": "https://localhost:8080/",
          "height": 320
        }
      },
      "source": [
        "index2 = ['device1','device2','device3']\n",
        "df2 = pd.DataFrame({'var_co': var_co,'var_humidity': var_humidity, 'var_lpg': var_lpg, 'var_smoke': var_smoke, 'var_temp':var_temp}, index = index)\n",
        "ax2 = df2.plot.bar(rot=0,figsize=(20,5))"
      ],
      "execution_count": null,
      "outputs": [
        {
          "output_type": "display_data",
          "data": {
            "image/png": "[encoded data removed]",
            "text/plain": [
              "<Figure size 1440x360 with 1 Axes>"
            ]
          },
          "metadata": {
            "tags": [],
            "needs_background": "light"
          }
        }
      ]
    },
    {
      "cell_type": "code",
      "metadata": {
        "id": "aPOJE_skpnpP"
      },
      "source": [
        "**Variance of the five independent variables**"
      ],
      "execution_count": null,
      "outputs": []
    },
    {
      "cell_type": "markdown",
      "metadata": {
        "id": "dIzU8wB_tJsn"
      },
      "source": [
        "## Problem 1.3"
      ]
    },
    {
      "cell_type": "code",
      "metadata": {
        "id": "hs5qEe8XtJsn"
      },
      "source": [
        "# Code of 1.3 goes here"
      ],
      "execution_count": null,
      "outputs": []
    },
    {
      "cell_type": "markdown",
      "metadata": {
        "id": "p65ty6DotJsq"
      },
      "source": [
        "# 2. Feature Learning for _Synthetically Generated Data_"
      ]
    },
    {
      "cell_type": "markdown",
      "metadata": {
        "id": "NtMLOWzvtJsq"
      },
      "source": [
        "## Problem 2.1"
      ]
    },
    {
      "cell_type": "markdown",
      "metadata": {
        "id": "Ox-Q7c49tJsq"
      },
      "source": [
        "### (a)"
      ]
    },
    {
      "cell_type": "code",
      "metadata": {
        "id": "wFvWX4eNP9hV"
      },
      "source": [
        ""
      ],
      "execution_count": null,
      "outputs": []
    },
    {
      "cell_type": "code",
      "metadata": {
        "id": "hRIGvhZQHcGg",
        "outputId": "4f96873b-d2f4-4c61-ff8d-350ed00f6742",
        "colab": {
          "base_uri": "https://localhost:8080/"
        }
      },
      "source": [
        "A = np.random.randn(3,2)\n",
        "print(A)"
      ],
      "execution_count": 164,
      "outputs": [
        {
          "output_type": "stream",
          "text": [
            "[[-0.36115307 -1.58028836]\n",
            " [-1.72278315 -0.1004024 ]\n",
            " [-0.35939701  0.74454762]]\n"
          ],
          "name": "stdout"
        }
      ]
    },
    {
      "cell_type": "markdown",
      "metadata": {
        "id": "9cpckl7-tJst"
      },
      "source": [
        "### (b)"
      ]
    },
    {
      "cell_type": "code",
      "metadata": {
        "id": "r2qp0bpptJst",
        "outputId": "a87e0cae-f6db-4161-f31d-4b5147863db3",
        "colab": {
          "base_uri": "https://localhost:8080/"
        }
      },
      "source": [
        "np.linalg.matrix_rank(A, tol=None)"
      ],
      "execution_count": 165,
      "outputs": [
        {
          "output_type": "execute_result",
          "data": {
            "text/plain": [
              "2"
            ]
          },
          "metadata": {
            "tags": []
          },
          "execution_count": 165
        }
      ]
    },
    {
      "cell_type": "markdown",
      "metadata": {
        "id": "EMT47A4UtJsv"
      },
      "source": [
        "### (c)"
      ]
    },
    {
      "cell_type": "code",
      "metadata": {
        "id": "alXEuuz-tJsw",
        "outputId": "13f88144-8f53-4226-885b-f6a683da1b82",
        "colab": {
          "base_uri": "https://localhost:8080/"
        }
      },
      "source": [
        "print(np.linalg.norm(A[0]))"
      ],
      "execution_count": 166,
      "outputs": [
        {
          "output_type": "stream",
          "text": [
            "1.6210314153331395\n"
          ],
          "name": "stdout"
        }
      ]
    },
    {
      "cell_type": "code",
      "metadata": {
        "id": "KaoioHB4UDtR",
        "outputId": "54b0856d-8048-4144-9ed9-0e747f7995a4",
        "colab": {
          "base_uri": "https://localhost:8080/"
        }
      },
      "source": [
        "print(np.linalg.norm(A[1]));"
      ],
      "execution_count": 167,
      "outputs": [
        {
          "output_type": "stream",
          "text": [
            "1.7257063503346064\n"
          ],
          "name": "stdout"
        }
      ]
    },
    {
      "cell_type": "code",
      "metadata": {
        "id": "s0wkkTF_UM63",
        "outputId": "e456d78a-ae8e-4800-bc06-f4d8c663cfa3",
        "colab": {
          "base_uri": "https://localhost:8080/"
        }
      },
      "source": [
        "print(np.linalg.norm(A[2]))"
      ],
      "execution_count": 168,
      "outputs": [
        {
          "output_type": "stream",
          "text": [
            "0.8267510891666868\n"
          ],
          "name": "stdout"
        }
      ]
    },
    {
      "cell_type": "code",
      "metadata": {
        "id": "HgUHn4STU_52",
        "outputId": "c1ac6ee4-6faf-4f26-c354-d243f9142677",
        "colab": {
          "base_uri": "https://localhost:8080/"
        }
      },
      "source": [
        "a = A[0]; print(a)\n",
        "b = A[1]; print(b)\n",
        "c = A[2]; print(c)"
      ],
      "execution_count": 169,
      "outputs": [
        {
          "output_type": "stream",
          "text": [
            "[-0.36115307 -1.58028836]\n",
            "[-1.72278315 -0.1004024 ]\n",
            "[-0.35939701  0.74454762]\n"
          ],
          "name": "stdout"
        }
      ]
    },
    {
      "cell_type": "code",
      "metadata": {
        "id": "F7j5opKpX7se",
        "outputId": "8eb874f8-620b-4a96-f13e-46ea8a128b67",
        "colab": {
          "base_uri": "https://localhost:8080/"
        }
      },
      "source": [
        "print(np.inner(a,b));\n",
        "print(np.inner(a,c));\n",
        "print(np.inner(b,c));"
      ],
      "execution_count": 170,
      "outputs": [
        {
          "output_type": "stream",
          "text": [
            "0.7808531588901428\n",
            "-1.0468025983152864\n",
            "0.5444087495540886\n"
          ],
          "name": "stdout"
        }
      ]
    },
    {
      "cell_type": "markdown",
      "metadata": {
        "id": "qwWYl9m0tJsy"
      },
      "source": [
        "### (d)"
      ]
    },
    {
      "cell_type": "markdown",
      "metadata": {
        "id": "Ig0rVogudTjl"
      },
      "source": [
        "Show if this belongs to the subspace corresponding to the column space of A\n"
      ]
    },
    {
      "cell_type": "code",
      "metadata": {
        "id": "yvW8xbhttJsy",
        "outputId": "eb43c3a4-319a-4862-9ff4-16c0d107e2ec",
        "colab": {
          "base_uri": "https://localhost:8080/"
        }
      },
      "source": [
        "x1 = np.random.random(2);\n",
        "x2 = np.random.random(2);\n",
        "x3 = np.random.random(2);\n",
        "print(x1);\n",
        "print(x2);\n",
        "print(x3);"
      ],
      "execution_count": 171,
      "outputs": [
        {
          "output_type": "stream",
          "text": [
            "[0.27772595 0.36043822]\n",
            "[0.29140755 0.64457465]\n",
            "[0.59659237 0.50852893]\n"
          ],
          "name": "stdout"
        }
      ]
    },
    {
      "cell_type": "markdown",
      "metadata": {
        "id": "KBQdAx6kmPMj"
      },
      "source": [
        "\n",
        " We see that the vectors x1, x2 and x3 are closed under addition and \n",
        "scalar multiplication hence they belong to the same subspace S."
      ]
    },
    {
      "cell_type": "markdown",
      "metadata": {
        "id": "ZoiV44lltJs0"
      },
      "source": [
        "## Problem 2.2"
      ]
    },
    {
      "cell_type": "markdown",
      "metadata": {
        "id": "vQAvbBLmHTtx"
      },
      "source": [
        "###(a)"
      ]
    },
    {
      "cell_type": "code",
      "metadata": {
        "id": "KMnw6hE_HzZF"
      },
      "source": [
        "b = np.random.randn(2,250)"
      ],
      "execution_count": 172,
      "outputs": []
    },
    {
      "cell_type": "code",
      "metadata": {
        "id": "E1l_VLAuZ-4e"
      },
      "source": [
        "x = A@b"
      ],
      "execution_count": 173,
      "outputs": []
    },
    {
      "cell_type": "markdown",
      "metadata": {
        "id": "n6WNXgAaGlsM"
      },
      "source": [
        "We can clearly see the data samples when printed are in not a data matrix format when we decide to print a data sample. Hence we save it in data matrix **R** nxp format."
      ]
    },
    {
      "cell_type": "markdown",
      "metadata": {
        "id": "tU9xzv1CHZg-"
      },
      "source": [
        "###(b)"
      ]
    },
    {
      "cell_type": "markdown",
      "metadata": {
        "id": "HhXOljJQFmj4"
      },
      "source": [
        "Yes, kinda, watch ML videos"
      ]
    },
    {
      "cell_type": "markdown",
      "metadata": {
        "id": "NkZG262qHbcN"
      },
      "source": [
        "###(c)"
      ]
    },
    {
      "cell_type": "code",
      "metadata": {
        "id": "OLPU0fy7UDBz"
      },
      "source": [
        " X = np.transpose(x)"
      ],
      "execution_count": 174,
      "outputs": []
    },
    {
      "cell_type": "code",
      "metadata": {
        "id": "gipNmUKVXS_N",
        "outputId": "9eae6bb2-2a38-4c15-929b-141ff4fc17f0",
        "colab": {
          "base_uri": "https://localhost:8080/"
        }
      },
      "source": [
        "print(X)"
      ],
      "execution_count": 175,
      "outputs": [
        {
          "output_type": "stream",
          "text": [
            "[[ 9.19893786e-01 -9.56368153e-01 -7.49551166e-01]\n",
            " [-2.01834489e+00 -9.93557515e-02  9.59932973e-01]\n",
            " [ 1.29816461e+00  2.35990071e+00  9.78631818e-02]\n",
            " [-1.48055607e+00 -2.27760637e+00  1.73172904e-02]\n",
            " [-2.42362765e+00 -2.12058437e+00  5.29225785e-01]\n",
            " [-4.43204227e+00 -1.42370418e+00  1.73233624e+00]\n",
            " [ 3.53902870e-01  2.82563816e-02 -1.64942177e-01]\n",
            " [-1.01357520e+00  3.04378729e+00  1.44584006e+00]\n",
            " [ 2.26687936e+00  2.20884801e-01 -1.04408825e+00]\n",
            " [-2.82384409e+00 -1.11870556e+00  1.03782477e+00]\n",
            " [-1.24723232e+00 -3.49608322e+00 -4.76824594e-01]\n",
            " [-2.83554665e+00 -3.13845004e+00  4.14355837e-01]\n",
            " [ 8.09317364e-01  8.05762474e-01 -1.46305485e-01]\n",
            " [ 4.96109626e-01  1.36533090e+00  1.81783830e-01]\n",
            " [-2.51936560e-01 -2.36210050e+00 -6.12183265e-01]\n",
            " [-4.25939263e-01  2.95237440e-01  3.01086236e-01]\n",
            " [ 1.51445984e+00  1.18870852e+00 -3.73188063e-01]\n",
            " [ 1.30715951e+00 -2.89391102e-01 -7.31890831e-01]\n",
            " [ 8.36923518e-01 -1.93511715e+00 -1.01372900e+00]\n",
            " [-2.31844768e+00 -1.82948295e+00  5.68276058e-01]\n",
            " [-8.91370639e-01 -1.73346308e-01  3.83606293e-01]\n",
            " [ 5.53182699e-02  1.82819170e+00  5.42381520e-01]\n",
            " [-3.27437510e+00 -1.71618611e+00  1.07287422e+00]\n",
            " [ 2.92214146e+00  1.16607182e+00 -1.07132676e+00]\n",
            " [-3.77496934e+00  1.45167492e+00  2.30552451e+00]\n",
            " [-1.20207766e+00  1.68939514e-01  6.42777515e-01]\n",
            " [-2.44249899e+00 -2.14234351e+00  5.31711814e-01]\n",
            " [-3.53184123e-01  8.94251171e-01  4.51979551e-01]\n",
            " [-3.79627547e-01 -1.30294031e+00 -2.19532858e-01]\n",
            " [-2.20558036e+00 -1.84541157e+00  5.07902754e-01]\n",
            " [-1.75396773e+00 -3.99372197e+00 -3.83078304e-01]\n",
            " [-1.62546839e+00 -3.29367133e+00 -2.28075835e-01]\n",
            " [ 2.08690077e+00 -6.38244242e-01 -1.22337546e+00]\n",
            " [ 1.80012808e+00 -2.44596997e+00 -1.64575104e+00]\n",
            " [-2.68776068e+00  8.98646244e-01  1.59948483e+00]\n",
            " [-8.39177033e-01 -3.87065851e+00 -7.93847125e-01]\n",
            " [ 2.08048694e+00  1.23385858e+00 -6.37007507e-01]\n",
            " [-2.52962908e-01 -3.43328110e-01  1.72319600e-02]\n",
            " [ 3.79719783e-01  3.01190679e-01 -9.25890697e-02]\n",
            " [-1.27938253e+00  4.29655774e-01  7.61950886e-01]\n",
            " [ 1.54513001e+00  3.62219598e-01 -6.45722661e-01]\n",
            " [ 6.96521049e-01  8.36520366e-01 -8.13472529e-02]\n",
            " [ 1.51122884e+00 -7.93367648e-01 -9.89081154e-01]\n",
            " [ 6.49330587e-01  3.95560887e-01 -1.95552389e-01]\n",
            " [ 1.11939148e+00 -1.78274843e+00 -1.10493604e+00]\n",
            " [-1.83639397e+00  2.01098855e+00  1.52804496e+00]\n",
            " [-2.40715121e+00  2.44502782e+00  1.94346922e+00]\n",
            " [-1.22775975e+00 -2.15098292e+00 -6.73432289e-02]\n",
            " [ 1.65282438e+00 -2.68286258e-02 -8.19794901e-01]\n",
            " [-1.35936897e+00  1.90060783e+00  1.25946741e+00]\n",
            " [ 5.77676533e-01 -2.34792896e-01 -3.56749686e-01]\n",
            " [-8.69677146e-02 -4.55582247e+00 -1.37658667e+00]\n",
            " [-1.54441046e+00 -6.09469790e-01  5.68343164e-01]\n",
            " [ 7.19472932e-01  6.37032793e-01 -1.54761919e-01]\n",
            " [ 9.44204857e-02  1.28753569e-01 -6.24395258e-03]\n",
            " [ 1.83130632e+00  1.59681432e+00 -4.01602697e-01]\n",
            " [-4.02144389e-01 -2.83012385e+00 -6.84244349e-01]\n",
            " [-3.82392480e-01 -2.75188432e+00 -6.69567256e-01]\n",
            " [ 1.02052827e+00  4.04988521e-01 -3.74851026e-01]\n",
            " [-3.15113582e+00 -1.43916952e+00  1.09867060e+00]\n",
            " [ 9.03025031e-01  2.90338810e+00  4.61166334e-01]\n",
            " [-4.62016441e-01  6.27304017e-01  4.22247177e-01]\n",
            " [-1.47761008e+00 -7.91056197e-01  4.78978312e-01]\n",
            " [-3.42709923e-01 -1.67859401e-02  1.63020521e-01]\n",
            " [ 3.95918748e-01  1.60728543e+00  3.06347976e-01]\n",
            " [-4.39491043e-01 -2.93159531e-01  1.24435104e-01]\n",
            " [ 1.02538490e+00 -3.11262465e+00 -1.47308292e+00]\n",
            " [ 6.26218651e-01  2.69322558e-01 -2.23533051e-01]\n",
            " [ 6.46288404e-01  6.05486361e-01 -1.28660447e-01]\n",
            " [-2.63528749e+00 -9.86970668e-01  9.86294447e-01]\n",
            " [-3.63459858e-01 -1.04648248e+00 -1.47575502e-01]\n",
            " [-4.58246371e-01  3.86316415e-01  3.45321052e-01]\n",
            " [-4.22931941e-01 -3.66011281e+00 -9.32606688e-01]\n",
            " [ 1.80808225e+00  3.13240621e+00  8.81842828e-02]\n",
            " [-3.45476840e-01 -1.79373930e-01  1.13727617e-01]\n",
            " [-4.59870798e-01  1.07792057e+00  5.61575081e-01]\n",
            " [ 4.47250666e-01 -6.39212400e-01 -4.18707910e-01]\n",
            " [-2.82139942e+00  1.97755121e+00  2.00120635e+00]\n",
            " [-8.78286656e-01 -5.34938470e-01  2.64535471e-01]\n",
            " [-9.86388933e-01 -9.38684088e-01  1.91827649e-01]\n",
            " [ 2.31529271e+00 -5.70418915e-01 -1.31437238e+00]\n",
            " [-1.67093179e+00  4.63589661e-01  9.64749401e-01]\n",
            " [-1.50107572e+00  8.43930184e-01  9.99848414e-01]\n",
            " [-1.71056948e+00 -1.33295601e+00  4.24528403e-01]\n",
            " [ 1.45980489e-01 -1.21412694e+00 -4.49906485e-01]\n",
            " [ 1.63350958e-01 -7.11552159e-01 -3.01866421e-01]\n",
            " [-1.46772020e+00 -2.74730060e-01  6.34974876e-01]\n",
            " [-2.00309165e+00 -5.91876222e-01  7.99008874e-01]\n",
            " [-1.88076579e+00  1.59428616e+00  1.42001289e+00]\n",
            " [ 2.65256362e-01  3.73060137e-01 -1.40048380e-02]\n",
            " [ 3.08592192e-01 -3.03583176e+00 -1.09725759e+00]\n",
            " [ 1.09606908e+00  2.39950561e+00  2.09418061e-01]\n",
            " [ 4.32349118e-01  8.07632791e-01  3.93458171e-02]\n",
            " [-1.26760644e-01 -7.21117794e-01 -1.62419145e-01]\n",
            " [-2.63255312e+00 -3.76381052e+00  1.19878734e-01]\n",
            " [ 1.06828270e+00  1.77464893e+00  2.83969054e-02]\n",
            " [ 2.04980771e+00  2.43272137e+00 -2.48462241e-01]\n",
            " [ 2.32121860e+00  1.59435878e+00 -6.42885015e-01]\n",
            " [-3.06747863e-01 -1.41506570e+00 -2.90242980e-01]\n",
            " [ 7.53173938e-01  1.17357229e+00 -4.15808055e-03]\n",
            " [ 5.42441557e-01  1.49038779e+00  1.97996822e-01]\n",
            " [-1.50030510e+00 -2.14136001e+00  6.94579159e-02]\n",
            " [-6.99648554e-01 -2.29350896e+00 -3.71015289e-01]\n",
            " [ 3.00096504e+00  7.53936023e-01 -1.23841769e+00]\n",
            " [-1.74692911e+00 -1.59356293e-01  8.07992155e-01]\n",
            " [-2.30626678e-01  4.47638534e+00  1.50775916e+00]\n",
            " [-4.72687195e-01 -4.84138121e-02  2.16978430e-01]\n",
            " [ 5.42202884e-01  1.30430769e+00  1.40144169e-01]\n",
            " [ 4.19945984e-01 -2.24661149e-01 -2.76157155e-01]\n",
            " [ 1.66211848e+00 -4.16412783e-01 -9.45725510e-01]\n",
            " [ 2.39878659e+00  6.50303530e-01 -9.75069235e-01]\n",
            " [ 3.97931925e-01  3.81461897e-01 -7.65231117e-02]\n",
            " [-1.25303260e+00 -3.07988177e-01  5.19215278e-01]\n",
            " [-3.76024560e-01 -1.67102143e+00 -3.35970599e-01]\n",
            " [ 1.14306704e+00  3.01560339e+00  3.78278811e-01]\n",
            " [ 2.09862158e+00 -1.99502449e-01 -1.09244774e+00]\n",
            " [-1.77458304e-02 -1.62574604e+00 -4.97759100e-01]\n",
            " [-8.86759400e-01  6.11133732e-01  6.25732759e-01]\n",
            " [-9.98926737e-01  2.37801161e+00  1.23123840e+00]\n",
            " [ 3.81196341e+00 -2.57345782e-01 -1.95161512e+00]\n",
            " [ 8.18545778e-01 -4.39654796e-01 -5.38822887e-01]\n",
            " [ 4.26303875e-01  2.12059592e+00  4.51343142e-01]\n",
            " [ 8.14125554e-01  1.36284730e+00  2.48834995e-02]\n",
            " [-3.09865426e+00 -1.75829695e+00  9.73487052e-01]\n",
            " [-2.12342360e+00  6.66830907e-02  1.06324662e+00]\n",
            " [-1.68724479e-01 -8.69916237e-01 -1.88172851e-01]\n",
            " [-1.39760808e+00 -2.20800095e+00 -1.72087287e-03]\n",
            " [-1.17171985e+00 -2.82177226e-01  4.87336553e-01]\n",
            " [-8.87974292e-01  4.86617140e-01  5.87538347e-01]\n",
            " [-2.68748170e-01  1.72151640e+00  6.68245840e-01]\n",
            " [ 2.82348086e+00  1.66893240e+00 -8.66233411e-01]\n",
            " [ 1.82131190e+00 -3.58902287e+00 -2.01224809e+00]\n",
            " [ 9.31639957e-01  1.91372821e+00  1.38807826e-01]\n",
            " [ 1.16215019e+00 -1.71217752e+00 -1.10394291e+00]\n",
            " [ 1.89407963e-02  1.70017008e-01  4.36668801e-02]\n",
            " [ 1.77795637e+00  1.73229538e+00 -3.33204469e-01]\n",
            " [ 8.99585954e-01  1.20958998e+00 -6.48168899e-02]\n",
            " [-1.63135471e+00 -1.69684483e+00  2.72275875e-01]\n",
            " [-3.86553180e+00 -3.60628036e+00  7.74272407e-01]\n",
            " [ 3.58117719e+00  3.42601148e-01 -1.65141061e+00]\n",
            " [ 1.06447874e+00 -1.83292646e-02 -5.28304910e-01]\n",
            " [ 1.83074027e+00  9.57121772e-01 -6.00609235e-01]\n",
            " [-1.09198099e+00 -1.07488073e+00  2.01237415e-01]\n",
            " [-6.21246042e-01 -1.51190094e+00 -1.66010605e-01]\n",
            " [ 2.80949962e+00  2.52418660e-01 -1.30065823e+00]\n",
            " [-2.92249267e+00 -1.58299617e+00  9.41614078e-01]\n",
            " [ 9.72212026e-01  9.68925284e-01 -1.75446556e-01]\n",
            " [-5.48607174e-01  1.32171422e+00  6.81088704e-01]\n",
            " [ 1.37619870e+00  2.88082998e+00  2.21839075e-01]\n",
            " [ 1.45471990e-01  5.21575407e-01  9.10692502e-02]\n",
            " [-3.63207097e-01 -1.33443650e-01  1.36740835e-01]\n",
            " [ 1.01630013e+00  1.50554233e+00 -2.99179974e-02]\n",
            " [ 4.33725055e+00  2.81493485e-01 -2.04163393e+00]\n",
            " [-1.22297037e+00  1.84126636e+00  1.17401720e+00]\n",
            " [ 1.39863026e+00  2.00094610e+00 -6.32850768e-02]\n",
            " [ 1.70576302e-02 -2.40262948e+00 -7.56869221e-01]\n",
            " [ 3.36699157e-02 -3.74775796e-01 -1.33284390e-01]\n",
            " [ 3.80070149e+00  2.21581087e+00 -1.17561980e+00]\n",
            " [ 1.24566445e+00  2.65110500e+00  2.14356923e-01]\n",
            " [ 3.03421147e+00 -1.03822581e+00 -1.81305469e+00]\n",
            " [-8.30513027e-01  2.24570984e-01  4.77692684e-01]\n",
            " [ 1.69505685e+00  3.97473557e+00  4.06085121e-01]\n",
            " [-7.12627276e-01  2.82531223e+00  1.23003093e+00]\n",
            " [-5.18170883e+00 -2.78793266e+00  1.67537698e+00]\n",
            " [-4.81132080e-01 -4.95548482e-01  8.18277883e-02]\n",
            " [ 8.89208229e-01  7.28302559e-03 -4.34278637e-01]\n",
            " [ 1.63480975e+00 -1.72598821e+00 -1.34029267e+00]\n",
            " [ 9.75318687e-01 -1.65102353e+00 -9.93168532e-01]\n",
            " [-7.77809615e-01 -3.68319063e+00 -7.65572655e-01]\n",
            " [-2.95859195e+00 -2.78874365e+00  5.83708226e-01]\n",
            " [ 2.71606131e+00  2.12447313e+00 -6.71581578e-01]\n",
            " [ 3.30405195e+00 -2.36042726e+00 -2.35743756e+00]\n",
            " [-3.83462929e+00 -2.57931349e+00  1.07903375e+00]\n",
            " [ 4.36574271e+00 -1.41755472e+00 -2.58492903e+00]\n",
            " [-2.39232616e+00 -4.12458723e-01  1.04599373e+00]\n",
            " [-4.22265961e+00 -4.53446044e-01  1.93180805e+00]\n",
            " [ 6.38605117e-02 -1.25633364e+00 -4.22739257e-01]\n",
            " [-1.38676669e+00 -3.08207014e+00 -2.79343497e-01]\n",
            " [ 1.49390594e+00  1.72334074e+00 -1.96542515e-01]\n",
            " [-2.81215236e+00 -2.51744895e+00  5.96332100e-01]\n",
            " [ 3.93146057e-01 -2.99023101e+00 -1.12456236e+00]\n",
            " [ 1.44745224e+00  2.98033483e+00  2.17856797e-01]\n",
            " [ 1.41408205e+00 -2.12143267e+00 -1.35512214e+00]\n",
            " [-1.51722990e+00 -1.20240787e+00  3.70280214e-01]\n",
            " [-2.61128166e+00 -5.78538637e-01  1.10174851e+00]\n",
            " [-1.76088129e-01 -8.93546681e-01 -1.91919374e-01]\n",
            " [-1.22168439e+00  3.06181314e+00  1.55362472e+00]\n",
            " [ 8.48327375e-01  1.27761910e+00 -1.84588048e-02]\n",
            " [ 2.40613849e+00  1.51389216e+00 -7.09643449e-01]\n",
            " [-7.21767618e-01 -1.79182845e+00 -2.03866842e-01]\n",
            " [-2.87676518e-01  1.42557816e+00  5.85344410e-01]\n",
            " [-4.23095836e+00  1.82992134e+00  2.64722328e+00]\n",
            " [ 1.01838912e+00  2.33675668e+00  2.28005951e-01]\n",
            " [ 1.36661810e+00 -3.94133063e-01 -7.93711836e-01]\n",
            " [ 6.37892441e-01  2.49908844e+00  4.65378311e-01]\n",
            " [-7.13156348e-01  1.05824286e-01  3.83084297e-01]\n",
            " [-6.49246360e-01 -1.10919770e+00 -2.68093659e-02]\n",
            " [ 3.46848575e+00 -4.84944289e-01 -1.85389246e+00]\n",
            " [ 8.31495379e-01  1.44316718e+00  4.13781436e-02]\n",
            " [-2.24868717e+00  3.02930990e-01  1.19834214e+00]\n",
            " [-2.82325169e-01  1.42899613e-01  1.83122347e-01]\n",
            " [ 1.75210413e+00  2.82260815e+00  1.91542781e-02]\n",
            " [-1.47337862e+00 -6.66513889e-01  5.15699784e-01]\n",
            " [ 7.62042307e-01 -6.46176980e-01 -5.75421278e-01]\n",
            " [-1.87915046e+00  4.82685579e-01  1.07292117e+00]\n",
            " [ 7.61052713e-01  1.01467182e+00 -5.75285969e-02]\n",
            " [-2.49530309e-01  1.99467467e+00  7.43908460e-01]\n",
            " [ 2.96403834e+00  1.98043816e+00 -8.38194760e-01]\n",
            " [-3.14469847e+00 -5.91395084e-01  1.35961876e+00]\n",
            " [ 9.62231454e-01  1.25008509e+00 -8.29565402e-02]\n",
            " [-6.82551734e-01  6.83119517e-01  5.47904975e-01]\n",
            " [-1.28644193e+00 -1.25294092e+00  2.41234619e-01]\n",
            " [ 1.60416417e+00 -1.03316262e+00 -1.10941049e+00]\n",
            " [ 1.54241474e+00  2.57642812e+00  4.54062482e-02]\n",
            " [-2.79702362e+00 -1.54680706e+00  8.91290406e-01]\n",
            " [ 7.56997036e-01  7.45042848e-01 -1.39535445e-01]\n",
            " [-4.23565590e-01 -7.96387998e-01 -4.01548906e-02]\n",
            " [ 2.28981552e-01 -1.56060634e+00 -5.98594270e-01]\n",
            " [ 3.58635893e+00  5.15600215e+00 -1.54428117e-01]\n",
            " [ 1.66106911e-01 -6.09460134e-01 -2.71414538e-01]\n",
            " [ 9.87677665e-01 -1.35566998e+00 -9.07224085e-01]\n",
            " [ 4.99944527e-01  2.00291496e+00  3.78528696e-01]\n",
            " [-2.89104264e+00 -1.75492690e+00  8.72612158e-01]\n",
            " [-1.78621512e+00 -1.16416138e+00  5.14250698e-01]\n",
            " [-9.11897102e-01 -1.04907383e+00  1.20866767e-01]\n",
            " [ 2.11121250e-01 -2.86165652e+00 -9.95144157e-01]\n",
            " [-2.28249785e+00 -1.06398024e+00  7.89105131e-01]\n",
            " [ 9.34294783e-01 -2.55311951e-01 -5.38220040e-01]\n",
            " [ 2.56962482e+00 -4.67832884e-01 -1.40727529e+00]\n",
            " [-7.27987489e-01 -9.60897765e-02  3.27462885e-01]\n",
            " [ 9.03145458e-01  1.47864768e-01 -3.97325323e-01]\n",
            " [-6.17173492e-01  3.73966974e+00  1.46802012e+00]\n",
            " [-1.15168763e+00 -2.37599770e-01  4.91389232e-01]\n",
            " [ 1.23447550e-01  1.46874220e+00  3.96954287e-01]\n",
            " [ 5.58383538e-01 -1.94423879e+00 -8.79824369e-01]\n",
            " [-5.09372844e-01 -1.87341550e+00 -3.33556790e-01]\n",
            " [ 1.54604499e+00  9.71586404e-02 -7.28746720e-01]\n",
            " [-2.57238687e+00  6.97750275e-01  1.48025782e+00]\n",
            " [-3.12550338e+00  2.25843835e-01  1.60479086e+00]\n",
            " [ 3.38392044e-01 -7.16128015e-01 -3.89226545e-01]\n",
            " [ 3.69334350e+00  1.51545201e+00 -1.34109741e+00]\n",
            " [ 8.27665660e-01 -6.00931075e-01 -5.93542853e-01]\n",
            " [ 1.42915255e+00 -5.14071457e-01 -8.61777068e-01]\n",
            " [-1.92784478e+00  2.24142320e+00  1.64472945e+00]\n",
            " [-5.25516931e-01 -5.21861563e-01  9.54207134e-02]\n",
            " [ 7.06356545e-01  1.62639068e+00  1.59893658e-01]\n",
            " [-9.51259121e-01 -1.63140135e+00 -4.12222693e-02]\n",
            " [ 1.15601529e+00  3.99536141e+00  6.77147572e-01]\n",
            " [ 1.07028085e+00  4.22497676e+00  7.90770435e-01]\n",
            " [ 2.42734382e+00  5.13992798e+00  4.09570683e-01]]\n"
          ],
          "name": "stdout"
        }
      ]
    },
    {
      "cell_type": "code",
      "metadata": {
        "id": "vydNHbIRIBV-",
        "outputId": "bae048bb-ede7-485a-89a0-b5e8c8702719",
        "colab": {
          "base_uri": "https://localhost:8080/"
        }
      },
      "source": [
        "print(X.shape);"
      ],
      "execution_count": 176,
      "outputs": [
        {
          "output_type": "stream",
          "text": [
            "(250, 3)\n"
          ],
          "name": "stdout"
        }
      ]
    },
    {
      "cell_type": "markdown",
      "metadata": {
        "id": "FOeKJva_UGpz"
      },
      "source": [
        "n = 250\n",
        "p = 3"
      ]
    },
    {
      "cell_type": "markdown",
      "metadata": {
        "id": "QoDsjobjUZ0R"
      },
      "source": [
        "###(d)"
      ]
    },
    {
      "cell_type": "code",
      "metadata": {
        "id": "jiRcOnt6UX3G",
        "outputId": "f098a8b1-96b5-4c2e-ef1f-dc9975a6fc8b",
        "colab": {
          "base_uri": "https://localhost:8080/"
        }
      },
      "source": [
        "np.linalg.matrix_rank(X, tol=None)"
      ],
      "execution_count": 177,
      "outputs": [
        {
          "output_type": "execute_result",
          "data": {
            "text/plain": [
              "2"
            ]
          },
          "metadata": {
            "tags": []
          },
          "execution_count": 177
        }
      ]
    },
    {
      "cell_type": "markdown",
      "metadata": {
        "id": "fTdHjUe3tJs3"
      },
      "source": [
        "## Problem 2.3"
      ]
    },
    {
      "cell_type": "markdown",
      "metadata": {
        "id": "k_czx8kic7HB"
      },
      "source": [
        "###(a)"
      ]
    },
    {
      "cell_type": "code",
      "metadata": {
        "id": "R8qeLcKBevMW"
      },
      "source": [
        "SVD = np.linalg.svd(X)"
      ],
      "execution_count": 178,
      "outputs": []
    },
    {
      "cell_type": "markdown",
      "metadata": {
        "id": "QpG_u9sztp_D"
      },
      "source": [
        "x = pd.DataFrame(list(SVD)) \n",
        "print(x)"
      ]
    },
    {
      "cell_type": "markdown",
      "metadata": {
        "id": "SGPTqpDhuALg"
      },
      "source": [
        "u{ (…, M, M), (…, M, K) } array\n",
        "Unitary array(s). The first a.ndim - 2 dimensions have the same size as those of the input a. The size of the last two dimensions depends on the value of full_matrices. Only returned when compute_uv is True.\n",
        "\n",
        "s(…, K) array\n",
        "Vector(s) with the singular values, within each vector sorted in descending order. The first a.ndim - 2 dimensions have the same size as those of the input a.\n",
        "\n",
        "vh{ (…, N, N), (…, K, N) } array\n",
        "Unitary array(s). The first a.ndim - 2 dimensions have the same size as those of the input a. The size of the last two dimensions depends on the value of full_matrices. Only returned when compute_uv is True."
      ]
    },
    {
      "cell_type": "code",
      "metadata": {
        "id": "893nE-9rQXZ8",
        "outputId": "1fb8ab90-a6b2-408f-cbf7-3d91edc17801",
        "colab": {
          "base_uri": "https://localhost:8080/"
        }
      },
      "source": [
        "x = pd.DataFrame(list(SVD)) \n",
        "print(x)"
      ],
      "execution_count": 179,
      "outputs": [
        {
          "output_type": "stream",
          "text": [
            "                                                   0\n",
            "0  [[-0.0043383580607568315, -0.05741893612307721...\n",
            "1  [32.86750577383878, 26.425884298576605, 3.4902...\n",
            "2  [[-0.7284571577695266, -0.6686178727043696, 0....\n"
          ],
          "name": "stdout"
        }
      ]
    },
    {
      "cell_type": "markdown",
      "metadata": {
        "id": "w9dtCSXOvZm6"
      },
      "source": [
        "Left Singular Vectors\n",
        "\n"
      ]
    },
    {
      "cell_type": "code",
      "metadata": {
        "id": "nmznNFRmo6hn",
        "outputId": "ef63c956-8e65-42e0-a208-dc0180ac9904",
        "colab": {
          "base_uri": "https://localhost:8080/"
        }
      },
      "source": [
        "print(x.iloc[0,0])"
      ],
      "execution_count": 180,
      "outputs": [
        {
          "output_type": "stream",
          "text": [
            "[[-0.00433836 -0.05741894  0.0388427  ... -0.03605061 -0.02878957\n",
            "  -0.08241678]\n",
            " [ 0.05111609  0.05590413  0.92516199 ... -0.03150531  0.00917782\n",
            "  -0.05661153]\n",
            " [-0.0763342   0.03725602 -0.01843201 ... -0.11406585 -0.1657787\n",
            "  -0.11819444]\n",
            " ...\n",
            " [-0.10382161  0.09356643  0.01485197 ...  0.9828962  -0.01690515\n",
            "  -0.02273543]\n",
            " [-0.10607622  0.10339744 -0.03164086 ... -0.02287891  0.97489763\n",
            "  -0.02863581]\n",
            " [-0.15649807  0.09285445  0.04240124 ... -0.0196448  -0.0179784\n",
            "   0.97188462]]\n"
          ],
          "name": "stdout"
        }
      ]
    },
    {
      "cell_type": "markdown",
      "metadata": {
        "id": "7vuURHLZwY4m"
      },
      "source": [
        "singular values = Diagonal Matrix"
      ]
    },
    {
      "cell_type": "code",
      "metadata": {
        "id": "vr5a0zVItFDM",
        "outputId": "0d272670-6486-4ade-a7ef-18874400bf4d",
        "colab": {
          "base_uri": "https://localhost:8080/"
        }
      },
      "source": [
        "print(x.iloc[1,0])"
      ],
      "execution_count": 181,
      "outputs": [
        {
          "output_type": "stream",
          "text": [
            "[3.28675058e+01 2.64258843e+01 3.49024220e-15]\n"
          ],
          "name": "stdout"
        }
      ]
    },
    {
      "cell_type": "markdown",
      "metadata": {
        "id": "1dMwo41ivKzi"
      },
      "source": [
        "Right Singular Vectors = Orthogonal\n"
      ]
    },
    {
      "cell_type": "code",
      "metadata": {
        "id": "6645zJfctJpJ",
        "outputId": "766efc23-bdf1-4988-fa01-50e88fd5e46a",
        "colab": {
          "base_uri": "https://localhost:8080/"
        }
      },
      "source": [
        "print(x.iloc[2,0])"
      ],
      "execution_count": 182,
      "outputs": [
        {
          "output_type": "stream",
          "text": [
            "[[-0.72845716 -0.66861787  0.14933288]\n",
            " [-0.53779577  0.69312269  0.47995484]\n",
            " [-0.42441239  0.26931595 -0.86449005]]\n"
          ],
          "name": "stdout"
        }
      ]
    },
    {
      "cell_type": "code",
      "metadata": {
        "id": "CJnM04a0pXY9",
        "outputId": "05bdb899-b733-4d06-9c7e-f02f1485561a",
        "colab": {
          "base_uri": "https://localhost:8080/"
        }
      },
      "source": [
        "np.isin(3.37057164e+02,array1)"
      ],
      "execution_count": 183,
      "outputs": [
        {
          "output_type": "execute_result",
          "data": {
            "text/plain": [
              "array(False)"
            ]
          },
          "metadata": {
            "tags": []
          },
          "execution_count": 183
        }
      ]
    },
    {
      "cell_type": "code",
      "metadata": {
        "id": "8QkoCHSNLVWS",
        "outputId": "57210686-a561-4fe0-ff54-de5dd6745aa5",
        "colab": {
          "base_uri": "https://localhost:8080/"
        }
      },
      "source": [
        "X_T = np.transpose(X)\n",
        "print(X_T[0,:3])\n",
        "print(X_T[:3,0])"
      ],
      "execution_count": 184,
      "outputs": [
        {
          "output_type": "stream",
          "text": [
            "[ 0.91989379 -2.01834489  1.29816461]\n",
            "[ 0.91989379 -0.95636815 -0.74955117]\n"
          ],
          "name": "stdout"
        }
      ]
    },
    {
      "cell_type": "code",
      "metadata": {
        "id": "jILZ_NjhLInJ",
        "outputId": "e96a967f-c0e5-4649-a786-f6a5828a49a6",
        "colab": {
          "base_uri": "https://localhost:8080/"
        }
      },
      "source": [
        "XT_X = X_T@X\n",
        "print(XT_X.shape);"
      ],
      "execution_count": 185,
      "outputs": [
        {
          "output_type": "stream",
          "text": [
            "(3, 3)\n"
          ],
          "name": "stdout"
        }
      ]
    },
    {
      "cell_type": "markdown",
      "metadata": {
        "id": "kadwLyDzxiuw"
      },
      "source": [
        "Matrix XT_X itself\n"
      ]
    },
    {
      "cell_type": "code",
      "metadata": {
        "id": "8J9itCqNSjUK",
        "outputId": "1307b660-d829-48d3-b037-aea45892b379",
        "colab": {
          "base_uri": "https://localhost:8080/"
        }
      },
      "source": [
        "print(XT_X)"
      ],
      "execution_count": 186,
      "outputs": [
        {
          "output_type": "stream",
          "text": [
            "[[ 775.21988462  265.84974569 -297.76554677]\n",
            " [ 265.84974569  818.42563861  124.44926461]\n",
            " [-297.76554677  124.44926461  184.95477353]]\n"
          ],
          "name": "stdout"
        }
      ]
    },
    {
      "cell_type": "code",
      "metadata": {
        "id": "pki6jhJRxsZT",
        "outputId": "fb6988f9-eca4-45a0-faa1-e608e7f16f04",
        "colab": {
          "base_uri": "https://localhost:8080/"
        }
      },
      "source": [
        "np.linalg.eigvals(XT_X)"
      ],
      "execution_count": 187,
      "outputs": [
        {
          "output_type": "execute_result",
          "data": {
            "text/plain": [
              "array([2.27373675e-13, 1.08027294e+03, 6.98327361e+02])"
            ]
          },
          "metadata": {
            "tags": []
          },
          "execution_count": 187
        }
      ]
    },
    {
      "cell_type": "code",
      "metadata": {
        "id": "Qo4g14j8zY4H",
        "outputId": "6565f9ef-2432-4924-af52-6d2368fe5ed6",
        "colab": {
          "base_uri": "https://localhost:8080/"
        }
      },
      "source": [
        "array_singular_vals = [5.68434189e-14, 3.37057164e+02, 1.68114163e+02]\n",
        "np.square(array_singular_vals)"
      ],
      "execution_count": 188,
      "outputs": [
        {
          "output_type": "execute_result",
          "data": {
            "text/plain": [
              "array([3.23117427e-27, 1.13607532e+05, 2.82623718e+04])"
            ]
          },
          "metadata": {
            "tags": []
          },
          "execution_count": 188
        }
      ]
    },
    {
      "cell_type": "markdown",
      "metadata": {
        "id": "i3NMh1RixKOY"
      },
      "source": [
        "\n",
        "\n",
        "---\n",
        "\n",
        "\n",
        "\n",
        "---\n"
      ]
    },
    {
      "cell_type": "markdown",
      "metadata": {
        "id": "DoTj_Rx6Vgch"
      },
      "source": [
        "###(i)"
      ]
    },
    {
      "cell_type": "markdown",
      "metadata": {
        "id": "gUdi5hutys9C"
      },
      "source": [
        "We can clearly see that the right singular vectors of X correspond to the eigenvectors of(X^T_X)."
      ]
    },
    {
      "cell_type": "code",
      "metadata": {
        "id": "xPIruSH2YnQx",
        "outputId": "6af80ff5-f6ca-4b93-fae1-6ce3c4b5dbf3",
        "colab": {
          "base_uri": "https://localhost:8080/"
        }
      },
      "source": [
        "np.linalg.eig(XT_X)"
      ],
      "execution_count": 189,
      "outputs": [
        {
          "output_type": "execute_result",
          "data": {
            "text/plain": [
              "(array([2.27373675e-13, 1.08027294e+03, 6.98327361e+02]),\n",
              " array([[ 0.42441239, -0.72845716, -0.53779577],\n",
              "        [-0.26931595, -0.66861787,  0.69312269],\n",
              "        [ 0.86449005,  0.14933288,  0.47995484]]))"
            ]
          },
          "metadata": {
            "tags": []
          },
          "execution_count": 189
        }
      ]
    },
    {
      "cell_type": "code",
      "metadata": {
        "id": "z4FNopm4ypVq",
        "outputId": "68a82b70-a3e7-4a19-cdc7-9e0fe1869605",
        "colab": {
          "base_uri": "https://localhost:8080/"
        }
      },
      "source": [
        "print(x.iloc[2,0])"
      ],
      "execution_count": 139,
      "outputs": [
        {
          "output_type": "stream",
          "text": [
            "[[ 0.40168151  0.67785668 -0.61576156]\n",
            " [-0.16426244 -0.60815519 -0.77663705]\n",
            " [-0.9009272   0.41310724 -0.1329383 ]]\n"
          ],
          "name": "stdout"
        }
      ]
    },
    {
      "cell_type": "markdown",
      "metadata": {
        "id": "YRf5S1BWzC2D"
      },
      "source": [
        "\n",
        "\n",
        "---\n",
        "\n"
      ]
    },
    {
      "cell_type": "markdown",
      "metadata": {
        "id": "L3mCnRaizIFV"
      },
      "source": [
        "###(ii)"
      ]
    },
    {
      "cell_type": "markdown",
      "metadata": {
        "id": "UPrt4SIa0inr"
      },
      "source": [
        "Eigen Values of XT_X"
      ]
    },
    {
      "cell_type": "code",
      "metadata": {
        "id": "TFmgr6D-zCdJ",
        "outputId": "c636b910-2107-412a-dd3e-5399285b2b23",
        "colab": {
          "base_uri": "https://localhost:8080/"
        }
      },
      "source": [
        "np.linalg.eigvals(XT_X)"
      ],
      "execution_count": 190,
      "outputs": [
        {
          "output_type": "execute_result",
          "data": {
            "text/plain": [
              "array([2.27373675e-13, 1.08027294e+03, 6.98327361e+02])"
            ]
          },
          "metadata": {
            "tags": []
          },
          "execution_count": 190
        }
      ]
    },
    {
      "cell_type": "markdown",
      "metadata": {
        "id": "nT_6qkLE0nuB"
      },
      "source": [
        "Singular Values of X"
      ]
    },
    {
      "cell_type": "code",
      "metadata": {
        "id": "Rkq_nYg00d8a",
        "outputId": "d9ef5fb7-9bc7-4f14-aaf0-f0e271a3791f",
        "colab": {
          "base_uri": "https://localhost:8080/"
        }
      },
      "source": [
        "print(x.iloc[1,0])"
      ],
      "execution_count": 194,
      "outputs": [
        {
          "output_type": "stream",
          "text": [
            "[3.28675058e+01 2.64258843e+01 3.49024220e-15]\n"
          ],
          "name": "stdout"
        }
      ]
    },
    {
      "cell_type": "code",
      "metadata": {
        "id": "MsEPMFwA0tGe"
      },
      "source": [
        "array_singular_vals = [x.iloc[1,0]]\n",
        "array_singular_vals = np.square(array_singular_vals)"
      ],
      "execution_count": 199,
      "outputs": []
    },
    {
      "cell_type": "markdown",
      "metadata": {
        "id": "PO2gA-7k7Dkd"
      },
      "source": [
        "We can cleary see that the eigenvales of X^T_X are square of the singular values of X"
      ]
    },
    {
      "cell_type": "markdown",
      "metadata": {
        "id": "8uGGaNys1L5H"
      },
      "source": [
        "###(iii)"
      ]
    },
    {
      "cell_type": "markdown",
      "metadata": {
        "id": "UCqouIyA2Fwh"
      },
      "source": [
        "Energy of XF\n"
      ]
    },
    {
      "cell_type": "code",
      "metadata": {
        "id": "Ttzqj5DXRO-d",
        "outputId": "eb293645-4a7e-4826-deaa-f5d271ad9fea",
        "colab": {
          "base_uri": "https://localhost:8080/"
        }
      },
      "source": [
        "np.asarray(array_singular_vals)\n",
        "print(array_singular_vals)"
      ],
      "execution_count": 212,
      "outputs": [
        {
          "output_type": "stream",
          "text": [
            "[[1.08027294e+03 6.98327361e+02 1.21817906e-29]]\n"
          ],
          "name": "stdout"
        }
      ]
    },
    {
      "cell_type": "code",
      "metadata": {
        "id": "lz1yek3SSYJT",
        "outputId": "f87cbdda-d52c-4c98-d7c6-0050b1d92ff3",
        "colab": {
          "base_uri": "https://localhost:8080/"
        }
      },
      "source": [
        "np.sum(array_singular_vals)"
      ],
      "execution_count": 213,
      "outputs": [
        {
          "output_type": "execute_result",
          "data": {
            "text/plain": [
              "1778.600296755083"
            ]
          },
          "metadata": {
            "tags": []
          },
          "execution_count": 213
        }
      ]
    },
    {
      "cell_type": "markdown",
      "metadata": {
        "id": "Yrp2TdCn8MSG"
      },
      "source": [
        "###(b)"
      ]
    },
    {
      "cell_type": "markdown",
      "metadata": {
        "id": "CUVIhGkN8zP1"
      },
      "source": [
        "###(i)"
      ]
    },
    {
      "cell_type": "markdown",
      "metadata": {
        "id": "-ac0bgVH-FKB"
      },
      "source": [
        "###(ii)"
      ]
    },
    {
      "cell_type": "markdown",
      "metadata": {
        "id": "DLaKR9s3tJs6"
      },
      "source": [
        "## Problem 2.4\n"
      ]
    },
    {
      "cell_type": "markdown",
      "metadata": {
        "id": "Nt2nFFTs-a31"
      },
      "source": [
        "###(a)"
      ]
    },
    {
      "cell_type": "markdown",
      "metadata": {
        "id": "HPKyqEg5-d2_"
      },
      "source": [
        "###(b)"
      ]
    }
  ]
}