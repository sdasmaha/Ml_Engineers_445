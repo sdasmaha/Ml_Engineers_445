{
  "nbformat": 4,
  "nbformat_minor": 0,
  "metadata": {
    "colab": {
      "name": "ML4IOT_COLAB.ipynb",
      "provenance": [],
      "collapsed_sections": [],
      "machine_shape": "hm",
      "authorship_tag": "ABX9TyNS1rTWSpHNF5eJoXwr6LIE",
      "include_colab_link": true
    },
    "kernelspec": {
      "name": "python3",
      "display_name": "Python 3"
    },
    "accelerator": "GPU"
  },
  "cells": [
    {
      "cell_type": "markdown",
      "metadata": {
        "id": "view-in-github",
        "colab_type": "text"
      },
      "source": [
        "<a href=\"https://colab.research.google.com/github/sdasmaha/Ml_Engineers_445/blob/master/ML4IOT_COLAB.ipynb\" target=\"_parent\"><img src=\"https://colab.research.google.com/assets/colab-badge.svg\" alt=\"Open In Colab\"/></a>"
      ]
    },
    {
      "cell_type": "code",
      "metadata": {
        "id": "t0r0vQa5K5wr"
      },
      "source": [
        "import pandas as pd\n",
        "import numpy as np\n",
        "import os"
      ],
      "execution_count": 1,
      "outputs": []
    },
    {
      "cell_type": "code",
      "metadata": {
        "id": "R_SV_3gTK-lT",
        "outputId": "a2e4fcfc-cb57-4b47-9980-645583ee6793",
        "colab": {
          "base_uri": "https://localhost:8080/",
          "height": 204
        }
      },
      "source": [
        "!pip install dtw"
      ],
      "execution_count": 2,
      "outputs": [
        {
          "output_type": "stream",
          "text": [
            "Collecting dtw\n",
            "  Downloading https://files.pythonhosted.org/packages/66/a0/21d6ec377b8d5832218700e236205f8cdea38b3b2cdd0a732be170e2809b/dtw-1.4.0.tar.gz\n",
            "Requirement already satisfied: numpy in /usr/local/lib/python3.6/dist-packages (from dtw) (1.18.5)\n",
            "Requirement already satisfied: scipy in /usr/local/lib/python3.6/dist-packages (from dtw) (1.4.1)\n",
            "Building wheels for collected packages: dtw\n",
            "  Building wheel for dtw (setup.py) ... \u001b[?25l\u001b[?25hdone\n",
            "  Created wheel for dtw: filename=dtw-1.4.0-cp36-none-any.whl size=5315 sha256=0ef0785fce1ba184db87ae7832db212120fea457408a6baf3653294fe4e54579\n",
            "  Stored in directory: /root/.cache/pip/wheels/8c/8b/7a/947d67b53cd54948890a173527b0470ef56998812fc9d0a803\n",
            "Successfully built dtw\n",
            "Installing collected packages: dtw\n",
            "Successfully installed dtw-1.4.0\n"
          ],
          "name": "stdout"
        }
      ]
    },
    {
      "cell_type": "code",
      "metadata": {
        "id": "eMPOc3lJLAlG"
      },
      "source": [
        "from dtw import dtw "
      ],
      "execution_count": 3,
      "outputs": []
    },
    {
      "cell_type": "code",
      "metadata": {
        "id": "akZVDnAELCDU",
        "outputId": "3f22d533-b499-43d3-cd7c-ccee0e14e5f6",
        "colab": {
          "base_uri": "https://localhost:8080/",
          "height": 34
        }
      },
      "source": [
        "from google.colab import drive\n",
        "drive.mount(\"/content/gdrive\")"
      ],
      "execution_count": 4,
      "outputs": [
        {
          "output_type": "stream",
          "text": [
            "Mounted at /content/gdrive\n"
          ],
          "name": "stdout"
        }
      ]
    },
    {
      "cell_type": "markdown",
      "metadata": {
        "id": "EzIF6sTlbx6i"
      },
      "source": [
        "#Loading the Datasets"
      ]
    },
    {
      "cell_type": "markdown",
      "metadata": {
        "id": "8_vJDds0b_ft"
      },
      "source": [
        "*Jump*"
      ]
    },
    {
      "cell_type": "code",
      "metadata": {
        "id": "EA5henpJLEoO"
      },
      "source": [
        "df_acc_jump_chest = pd.read_csv(\"/content/gdrive/My Drive/ML4IOT/Notebook 1/Jumping/acc_jumping_csv/acc_jumping_chest.csv\")\n",
        "df_acc_jump_forearm = pd.read_csv(\"/content/gdrive/My Drive/ML4IOT/Notebook 1/Jumping/acc_jumping_csv/acc_jumping_forearm.csv\")\n",
        "df_acc_jump_head = pd.read_csv(\"/content/gdrive/My Drive/ML4IOT/Notebook 1/Jumping/acc_jumping_csv/acc_jumping_head.csv\")\n",
        "df_acc_jump_shin = pd.read_csv(\"/content/gdrive/My Drive/ML4IOT/Notebook 1/Jumping/acc_jumping_csv/acc_jumping_shin.csv\")\n",
        "df_acc_jump_thigh= pd.read_csv(\"/content/gdrive/My Drive/ML4IOT/Notebook 1/Jumping/acc_jumping_csv/acc_jumping_thigh.csv\")\n",
        "df_acc_jump_upperarm = pd.read_csv(\"/content/gdrive/My Drive/ML4IOT/Notebook 1/Jumping/acc_jumping_csv/acc_jumping_upperarm.csv\")\n",
        "df_acc_jump_waist = pd.read_csv(\"/content/gdrive/My Drive/ML4IOT/Notebook 1/Jumping/acc_jumping_csv/acc_jumping_waist.csv\")\n",
        "df_gps_jump_chest = pd.read_csv(\"/content/gdrive/My Drive/ML4IOT/Notebook 1/Jumping/gps_jumping_csv/GPS_jumping_chest.csv\")\n",
        "df_gps_jump_head = pd.read_csv(\"/content/gdrive/My Drive/ML4IOT/Notebook 1/Jumping/gps_jumping_csv/GPS_jumping_head.csv\")\n",
        "df_gps_jump_shin = pd.read_csv(\"/content/gdrive/My Drive/ML4IOT/Notebook 1/Jumping/gps_jumping_csv/GPS_jumping_shin.csv\")\n",
        "df_gps_jump_thigh = pd.read_csv(\"/content/gdrive/My Drive/ML4IOT/Notebook 1/Jumping/gps_jumping_csv/GPS_jumping_thigh.csv\")\n",
        "df_gps_jump_upperarm = pd.read_csv(\"/content/gdrive/My Drive/ML4IOT/Notebook 1/Jumping/gps_jumping_csv/GPS_jumping_upperarm.csv\")\n",
        "df_gps_jump_waist = pd.read_csv(\"/content/gdrive/My Drive/ML4IOT/Notebook 1/Jumping/gps_jumping_csv/GPS_jumping_waist.csv\")\n",
        "df_gyr_jump_chest = pd.read_csv(\"/content/gdrive/My Drive/ML4IOT/Notebook 1/Jumping/gyr_jumping_csv/Gyroscope_jumping_chest.csv\")\n",
        "df_gyr_jump_forearm = pd.read_csv(\"/content/gdrive/My Drive/ML4IOT/Notebook 1/Jumping/gyr_jumping_csv/Gyroscope_jumping_forearm.csv\")\n",
        "df_gyr_jump_head = pd.read_csv(\"/content/gdrive/My Drive/ML4IOT/Notebook 1/Jumping/gyr_jumping_csv/Gyroscope_jumping_head.csv\")\n",
        "df_gyr_jump_shin = pd.read_csv(\"/content/gdrive/My Drive/ML4IOT/Notebook 1/Jumping/gyr_jumping_csv/Gyroscope_jumping_shin.csv\")\n",
        "df_gyr_jump_thigh = pd.read_csv(\"/content/gdrive/My Drive/ML4IOT/Notebook 1/Jumping/gyr_jumping_csv/Gyroscope_jumping_thigh.csv\")\n",
        "df_gyr_jump_upperarm = pd.read_csv(\"/content/gdrive/My Drive/ML4IOT/Notebook 1/Jumping/gyr_jumping_csv/Gyroscope_jumping_upperarm.csv\")\n",
        "df_gyr_jump_waist = pd.read_csv(\"/content/gdrive/My Drive/ML4IOT/Notebook 1/Jumping/gyr_jumping_csv/Gyroscope_jumping_waist.csv\")\n",
        "df_lig_jump_chest = pd.read_csv(\"/content/gdrive/My Drive/ML4IOT/Notebook 1/Jumping/lig_jumping_csv/Light_jumping_chest.csv\")\n",
        "df_lig_jump_head = pd.read_csv(\"/content/gdrive/My Drive/ML4IOT/Notebook 1/Jumping/lig_jumping_csv/Light_jumping_head.csv\")\n",
        "df_lig_jump_shin = pd.read_csv(\"/content/gdrive/My Drive/ML4IOT/Notebook 1/Jumping/lig_jumping_csv/Light_jumping_shin.csv\")\n",
        "df_lig_jump_thigh = pd.read_csv(\"/content/gdrive/My Drive/ML4IOT/Notebook 1/Jumping/lig_jumping_csv/Light_jumping_thigh.csv\")\n",
        "df_lig_jump_upperarm = pd.read_csv(\"/content/gdrive/My Drive/ML4IOT/Notebook 1/Jumping/lig_jumping_csv/Light_jumping_upperarm.csv\")\n",
        "df_lig_jump_waist = pd.read_csv(\"/content/gdrive/My Drive/ML4IOT/Notebook 1/Jumping/lig_jumping_csv/Light_jumping_waist.csv\")\n",
        "df_mag_jump_chest = pd.read_csv(\"/content/gdrive/My Drive/ML4IOT/Notebook 1/Jumping/mag_jumping_csv/MagneticField_jumping_chest.csv\")\n",
        "df_mag_jump_forearm = pd.read_csv(\"/content/gdrive/My Drive/ML4IOT/Notebook 1/Jumping/mag_jumping_csv/MagneticField_jumping_forearm.csv\")\n",
        "df_mag_jump_head = pd.read_csv(\"/content/gdrive/My Drive/ML4IOT/Notebook 1/Jumping/mag_jumping_csv/MagneticField_jumping_head.csv\")\n",
        "df_mag_jump_shin = pd.read_csv(\"/content/gdrive/My Drive/ML4IOT/Notebook 1/Jumping/mag_jumping_csv/MagneticField_jumping_shin.csv\")\n",
        "df_mag_jump_thigh = pd.read_csv(\"/content/gdrive/My Drive/ML4IOT/Notebook 1/Jumping/mag_jumping_csv/MagneticField_jumping_thigh.csv\")\n",
        "df_mag_jump_upperarm = pd.read_csv(\"/content/gdrive/My Drive/ML4IOT/Notebook 1/Jumping/mag_jumping_csv/MagneticField_jumping_upperarm.csv\")\n",
        "df_mag_jump_waist = pd.read_csv(\"/content/gdrive/My Drive/ML4IOT/Notebook 1/Jumping/mag_jumping_csv/MagneticField_jumping_waist.csv\")\n",
        "df_mic_jump_chest = pd.read_csv(\"/content/gdrive/My Drive/ML4IOT/Notebook 1/Jumping/mic_jumping_csv/Microphone_jumping_chest.csv\")\n",
        "df_mic_jump_head = pd.read_csv(\"/content/gdrive/My Drive/ML4IOT/Notebook 1/Jumping/mic_jumping_csv/Microphone_jumping_head.csv\")\n",
        "df_mic_jump_shin = pd.read_csv(\"/content/gdrive/My Drive/ML4IOT/Notebook 1/Jumping/mic_jumping_csv/Microphone_jumping_shin.csv\")\n",
        "df_mic_jump_thigh = pd.read_csv(\"/content/gdrive/My Drive/ML4IOT/Notebook 1/Jumping/mic_jumping_csv/Microphone_jumping_thigh.csv\")\n",
        "df_mic_jump_upperarm = pd.read_csv(\"/content/gdrive/My Drive/ML4IOT/Notebook 1/Jumping/mic_jumping_csv/Microphone_jumping_upperarm.csv\")\n",
        "df_mic_jump_waist = pd.read_csv(\"/content/gdrive/My Drive/ML4IOT/Notebook 1/Jumping/mic_jumping_csv/Microphone_jumping_waist.csv\")"
      ],
      "execution_count": 5,
      "outputs": []
    },
    {
      "cell_type": "markdown",
      "metadata": {
        "id": "lUbZq0a8cClQ"
      },
      "source": [
        "*Lying*"
      ]
    },
    {
      "cell_type": "code",
      "metadata": {
        "id": "YrRucEE2LHMM"
      },
      "source": [
        "df_acc_lye_chest = pd.read_csv(\"/content/gdrive/My Drive/ML4IOT/Notebook 1/Lying/acc_lying_csv/acc_lying_chest.csv\")\n",
        "df_acc_lye_forearm = pd.read_csv(\"/content/gdrive/My Drive/ML4IOT/Notebook 1/Lying/acc_lying_csv/acc_lying_forearm.csv\")\n",
        "df_acc_lye_head = pd.read_csv(\"/content/gdrive/My Drive/ML4IOT/Notebook 1/Lying/acc_lying_csv/acc_lying_head.csv\")\n",
        "df_acc_lye_shin = pd.read_csv(\"/content/gdrive/My Drive/ML4IOT/Notebook 1/Lying/acc_lying_csv/acc_lying_shin.csv\")\n",
        "df_acc_lye_thigh = pd.read_csv(\"/content/gdrive/My Drive/ML4IOT/Notebook 1/Lying/acc_lying_csv/acc_lying_thigh.csv\")\n",
        "df_acc_lye_upperarm = pd.read_csv(\"/content/gdrive/My Drive/ML4IOT/Notebook 1/Lying/acc_lying_csv/acc_lying_upperarm.csv\")\n",
        "df_acc_lye_waist = pd.read_csv(\"/content/gdrive/My Drive/ML4IOT/Notebook 1/Lying/acc_lying_csv/acc_lying_waist.csv\") \n",
        "df_gps_lye_chest = pd.read_csv(\"/content/gdrive/My Drive/ML4IOT/Notebook 1/Lying/gps_lying_csv/GPS_lying_chest.csv\")\n",
        "df_gps_lye_head = pd.read_csv(\"/content/gdrive/My Drive/ML4IOT/Notebook 1/Lying/gps_lying_csv/GPS_lying_head.csv\")\n",
        "df_gps_lye_shin = pd.read_csv(\"/content/gdrive/My Drive/ML4IOT/Notebook 1/Lying/gps_lying_csv/GPS_lying_shin.csv\")\n",
        "df_gps_lye_thigh = pd.read_csv(\"/content/gdrive/My Drive/ML4IOT/Notebook 1/Lying/gps_lying_csv/GPS_lying_thigh.csv\")\n",
        "df_gps_lye_upperarm = pd.read_csv(\"/content/gdrive/My Drive/ML4IOT/Notebook 1/Lying/gps_lying_csv/GPS_lying_upperarm.csv\")\n",
        "df_gps_lye_waist = pd.read_csv(\"/content/gdrive/My Drive/ML4IOT/Notebook 1/Lying/gps_lying_csv/GPS_lying_waist.csv\")\n",
        "df_gyr_lye_chest = pd.read_csv(\"/content/gdrive/My Drive/ML4IOT/Notebook 1/Lying/gyr_lying_csv/Gyroscope_lying_chest.csv\")\n",
        "df_gyr_lye_forearm = pd.read_csv(\"/content/gdrive/My Drive/ML4IOT/Notebook 1/Lying/gyr_lying_csv/Gyroscope_lying_forearm.csv\")\n",
        "df_gyr_lye_head = pd.read_csv(\"/content/gdrive/My Drive/ML4IOT/Notebook 1/Lying/gyr_lying_csv/Gyroscope_lying_head.csv\")\n",
        "df_gyr_lye_shin = pd.read_csv(\"/content/gdrive/My Drive/ML4IOT/Notebook 1/Lying/gyr_lying_csv/Gyroscope_lying_shin.csv\")\n",
        "df_gyr_lye_thigh = pd.read_csv(\"/content/gdrive/My Drive/ML4IOT/Notebook 1/Lying/gyr_lying_csv/Gyroscope_lying_thigh.csv\")\n",
        "df_gyr_lye_upperarm = pd.read_csv(\"/content/gdrive/My Drive/ML4IOT/Notebook 1/Lying/gyr_lying_csv/Gyroscope_lying_upperarm.csv\")\n",
        "df_gyr_lye_waist = pd.read_csv(\"/content/gdrive/My Drive/ML4IOT/Notebook 1/Lying/gyr_lying_csv/Gyroscope_lying_waist.csv\")\n",
        "df_lig_lye_chest = pd.read_csv(\"/content/gdrive/My Drive/ML4IOT/Notebook 1/Lying/lig_lying_csv/Light_lying_chest.csv\")\n",
        "df_lig_lye_head = pd.read_csv(\"/content/gdrive/My Drive/ML4IOT/Notebook 1/Lying/lig_lying_csv/Light_lying_head.csv\")\n",
        "df_lig_lye_shin = pd.read_csv(\"/content/gdrive/My Drive/ML4IOT/Notebook 1/Lying/lig_lying_csv/Light_lying_shin.csv\")\n",
        "df_lig_lye_thigh = pd.read_csv(\"/content/gdrive/My Drive/ML4IOT/Notebook 1/Lying/lig_lying_csv/Light_lying_thigh.csv\")\n",
        "df_lig_lye_upperarm = pd.read_csv(\"/content/gdrive/My Drive/ML4IOT/Notebook 1/Lying/lig_lying_csv/Light_lying_upperarm.csv\")\n",
        "df_lig_lye_waist = pd.read_csv(\"/content/gdrive/My Drive/ML4IOT/Notebook 1/Lying/lig_lying_csv/Light_lying_waist.csv\")\n",
        " \n",
        "df_mag_lye_chest = pd.read_csv(\"/content/gdrive/My Drive/ML4IOT/Notebook 1/Lying/mag_lying_csv/MagneticField_lying_chest.csv\")\n",
        "df_mag_lye_forearm = pd.read_csv(\"/content/gdrive/My Drive/ML4IOT/Notebook 1/Lying/mag_lying_csv/MagneticField_lying_forearm.csv\")\n",
        "df_mag_lye_head = pd.read_csv(\"/content/gdrive/My Drive/ML4IOT/Notebook 1/Lying/mag_lying_csv/MagneticField_lying_head.csv\")\n",
        "df_mag_lye_shin = pd.read_csv(\"/content/gdrive/My Drive/ML4IOT/Notebook 1/Lying/mag_lying_csv/MagneticField_lying_shin.csv\")\n",
        "df_mag_lye_thigh = pd.read_csv(\"/content/gdrive/My Drive/ML4IOT/Notebook 1/Lying/mag_lying_csv/MagneticField_lying_thigh.csv\")\n",
        "df_mag_lye_upperarm = pd.read_csv(\"/content/gdrive/My Drive/ML4IOT/Notebook 1/Lying/mag_lying_csv/MagneticField_lying_upperarm.csv\")\n",
        "df_mag_lye_waist = pd.read_csv(\"/content/gdrive/My Drive/ML4IOT/Notebook 1/Lying/mag_lying_csv/MagneticField_lying_waist.csv\")\n",
        " \n",
        "df_mic_lye_chest = pd.read_csv(\"/content/gdrive/My Drive/ML4IOT/Notebook 1/Lying/mic_lying_csv/Microphone_lying_chest.csv\")\n",
        "df_mic_lye_head = pd.read_csv(\"/content/gdrive/My Drive/ML4IOT/Notebook 1/Lying/mic_lying_csv/Microphone_lying_head.csv\")\n",
        "df_mic_lye_shin = pd.read_csv(\"/content/gdrive/My Drive/ML4IOT/Notebook 1/Lying/mic_lying_csv/Microphone_lying_shin.csv\")\n",
        "df_mic_lye_thigh = pd.read_csv(\"/content/gdrive/My Drive/ML4IOT/Notebook 1/Lying/mic_lying_csv/Microphone_lying_thigh.csv\")\n",
        "df_mic_lye_upperarm = pd.read_csv(\"/content/gdrive/My Drive/ML4IOT/Notebook 1/Lying/mic_lying_csv/Microphone_lying_upperarm.csv\")\n",
        "df_mic_lye_waist = pd.read_csv(\"/content/gdrive/My Drive/ML4IOT/Notebook 1/Lying/mic_lying_csv/Microphone_lying_waist.csv\")"
      ],
      "execution_count": 6,
      "outputs": []
    },
    {
      "cell_type": "markdown",
      "metadata": {
        "id": "1mN_zmq_cEXj"
      },
      "source": [
        "*Stand*"
      ]
    },
    {
      "cell_type": "code",
      "metadata": {
        "id": "9YvE7HwpbwGf"
      },
      "source": [
        "df_acc_stand_chest = pd.read_csv(\"/content/gdrive/My Drive/ML4IOT/Notebook 1/Standing/acc_standing_csv/acc_standing_chest.csv\")\n",
        "df_acc_stand_forearm = pd.read_csv(\"/content/gdrive/My Drive/ML4IOT/Notebook 1/Standing/acc_standing_csv/acc_standing_forearm.csv\")\n",
        "df_acc_stand_head = pd.read_csv(\"/content/gdrive/My Drive/ML4IOT/Notebook 1/Standing/acc_standing_csv/acc_standing_head.csv\")\n",
        "df_acc_stand_shin = pd.read_csv(\"/content/gdrive/My Drive/ML4IOT/Notebook 1/Standing/acc_standing_csv/acc_standing_shin.csv\")\n",
        "df_acc_stand_thigh = pd.read_csv(\"/content/gdrive/My Drive/ML4IOT/Notebook 1/Standing/acc_standing_csv/acc_standing_upperarm.csv\")\n",
        "df_acc_stand_upperarm = pd.read_csv(\"/content/gdrive/My Drive/ML4IOT/Notebook 1/Standing/acc_standing_csv/acc_standing_upperarm.csv\")\n",
        "df_acc_stand_waist = pd.read_csv(\"/content/gdrive/My Drive/ML4IOT/Notebook 1/Standing/acc_standing_csv/acc_standing_waist.csv\")\n",
        " \n",
        "df_gps_stand_chest = pd.read_csv(\"/content/gdrive/My Drive/ML4IOT/Notebook 1/Standing/gps_standing_csv/GPS_standing_chest.csv\")\n",
        "df_gps_stand_head = pd.read_csv(\"/content/gdrive/My Drive/ML4IOT/Notebook 1/Standing/gps_standing_csv/GPS_standing_head.csv\")\n",
        "df_gps_stand_shin = pd.read_csv(\"/content/gdrive/My Drive/ML4IOT/Notebook 1/Standing/gps_standing_csv/GPS_standing_shin.csv\")\n",
        "df_gps_stand_thigh = pd.read_csv(\"/content/gdrive/My Drive/ML4IOT/Notebook 1/Standing/gps_standing_csv/GPS_standing_thigh.csv\")\n",
        "df_gps_stand_upperarm = pd.read_csv(\"/content/gdrive/My Drive/ML4IOT/Notebook 1/Standing/gps_standing_csv/GPS_standing_upperarm.csv\")\n",
        "df_gps_stand_waist = pd.read_csv(\"/content/gdrive/My Drive/ML4IOT/Notebook 1/Standing/gps_standing_csv/GPS_standing_waist.csv\")\n",
        " \n",
        "df_gyr_stand_chest = pd.read_csv(\"/content/gdrive/My Drive/ML4IOT/Notebook 1/Standing/gyr_standing_csv/Gyroscope_standing_chest.csv\")\n",
        "df_gyr_stand_forearm = pd.read_csv(\"/content/gdrive/My Drive/ML4IOT/Notebook 1/Standing/gyr_standing_csv/Gyroscope_standing_forearm.csv\")\n",
        "df_gyr_stand_head = pd.read_csv(\"/content/gdrive/My Drive/ML4IOT/Notebook 1/Standing/gyr_standing_csv/Gyroscope_standing_head.csv\")\n",
        "df_gyr_stand_shin = pd.read_csv(\"/content/gdrive/My Drive/ML4IOT/Notebook 1/Standing/gyr_standing_csv/Gyroscope_standing_shin.csv\")\n",
        "df_gyr_stand_thigh = pd.read_csv(\"/content/gdrive/My Drive/ML4IOT/Notebook 1/Standing/gyr_standing_csv/Gyroscope_standing_thigh.csv\")\n",
        "df_gyr_stand_upperarm = pd.read_csv(\"/content/gdrive/My Drive/ML4IOT/Notebook 1/Standing/gyr_standing_csv/Gyroscope_standing_upperarm.csv\")\n",
        "df_gyr_stand_waist = pd.read_csv(\"/content/gdrive/My Drive/ML4IOT/Notebook 1/Standing/gyr_standing_csv/Gyroscope_standing_waist.csv\")\n",
        "\n",
        "df_lig_stand_chest = pd.read_csv(\"/content/gdrive/My Drive/ML4IOT/Notebook 1/Standing/lig_standing_csv/Light_standing_chest.csv\")\n",
        "df_lig_stand_head = pd.read_csv(\"/content/gdrive/My Drive/ML4IOT/Notebook 1/Standing/lig_standing_csv/Light_standing_head.csv\")\n",
        "df_lig_stand_shin = pd.read_csv(\"/content/gdrive/My Drive/ML4IOT/Notebook 1/Standing/lig_standing_csv/Light_standing_shin.csv\")\n",
        "df_lig_stand_thigh = pd.read_csv(\"/content/gdrive/My Drive/ML4IOT/Notebook 1/Standing/lig_standing_csv/Light_standing_thigh.csv\")\n",
        "df_lig_stand_upperarm = pd.read_csv(\"/content/gdrive/My Drive/ML4IOT/Notebook 1/Standing/lig_standing_csv/Light_standing_upperarm.csv\")\n",
        "df_lig_stand_waist = pd.read_csv(\"/content/gdrive/My Drive/ML4IOT/Notebook 1/Standing/lig_standing_csv/Light_standing_waist.csv\")\n",
        "\n",
        "df_mag_stand_chest = pd.read_csv(\"/content/gdrive/My Drive/ML4IOT/Notebook 1/Standing/mag_standing_csv/MagneticField_standing_chest.csv\")\n",
        "df_mag_stand_forearm = pd.read_csv(\"/content/gdrive/My Drive/ML4IOT/Notebook 1/Standing/mag_standing_csv/MagneticField_standing_forearm.csv\")\n",
        "df_mag_stand_head = pd.read_csv(\"/content/gdrive/My Drive/ML4IOT/Notebook 1/Standing/mag_standing_csv/MagneticField_standing_head.csv\")\n",
        "df_mag_stand_shin = pd.read_csv(\"/content/gdrive/My Drive/ML4IOT/Notebook 1/Standing/mag_standing_csv/MagneticField_standing_shin.csv\")\n",
        "df_mag_stand_thigh = pd.read_csv(\"/content/gdrive/My Drive/ML4IOT/Notebook 1/Standing/mag_standing_csv/MagneticField_standing_thigh.csv\")\n",
        "df_mag_stand_upperarm = pd.read_csv(\"/content/gdrive/My Drive/ML4IOT/Notebook 1/Standing/mag_standing_csv/MagneticField_standing_upperarm.csv\")\n",
        "df_mag_stand_waist = pd.read_csv(\"/content/gdrive/My Drive/ML4IOT/Notebook 1/Standing/mag_standing_csv/MagneticField_standing_waist.csv\")\n",
        "\n",
        "df_mic_stand_chest = pd.read_csv(\"/content/gdrive/My Drive/ML4IOT/Notebook 1/Standing/mic_standing_csv/Microphone_standing_chest.csv\")\n",
        "df_mic_stand_head = pd.read_csv(\"/content/gdrive/My Drive/ML4IOT/Notebook 1/Standing/mic_standing_csv/Microphone_standing_head.csv\")\n",
        "df_mic_stand_shin = pd.read_csv(\"/content/gdrive/My Drive/ML4IOT/Notebook 1/Standing/mic_standing_csv/Microphone_standing_shin.csv\")\n",
        "df_mic_stand_thigh = pd.read_csv(\"/content/gdrive/My Drive/ML4IOT/Notebook 1/Standing/mic_standing_csv/Microphone_standing_thigh.csv\")\n",
        "df_mic_stand_upperarm = pd.read_csv(\"/content/gdrive/My Drive/ML4IOT/Notebook 1/Standing/mic_standing_csv/Microphone_standing_upperarm.csv\")\n",
        "df_mic_stand_waist = pd.read_csv(\"/content/gdrive/My Drive/ML4IOT/Notebook 1/Standing/mic_standing_csv/Microphone_standing_waist.csv\")"
      ],
      "execution_count": 7,
      "outputs": []
    },
    {
      "cell_type": "markdown",
      "metadata": {
        "id": "QSjrrpfLcJif"
      },
      "source": [
        "#Acceloremeter"
      ]
    },
    {
      "cell_type": "code",
      "metadata": {
        "id": "QvnnvfKWLMip"
      },
      "source": [
        "df_acc_jump_chest = df_acc_jump_chest[['attr_x', 'attr_y', 'attr_z']].values[0:999,:]\n",
        "df_acc_jump_forearm = df_acc_jump_forearm[['attr_x', 'attr_y', 'attr_z']].values[0:999,:]\n",
        "df_acc_jump_head = df_acc_jump_head[['attr_x', 'attr_y', 'attr_z']].values[0:999,:]\n",
        "df_acc_jump_shin = df_acc_jump_shin[['attr_x', 'attr_y', 'attr_z']].values[0:999,:]\n",
        "df_acc_jump_thigh = df_acc_jump_thigh[['attr_x', 'attr_y', 'attr_z']].values[0:999,:]\n",
        "df_acc_jump_upperarm = df_acc_jump_upperarm[['attr_x', 'attr_y', 'attr_z']].values[0:999,:]\n",
        "df_acc_jump_waist = df_acc_jump_waist[['attr_x', 'attr_y', 'attr_z']].values[0:999,:]\n",
        "df_acc_lye_chest = df_acc_lye_chest[['attr_x', 'attr_y', 'attr_z']].values[0:999,:]\n",
        "df_acc_lye_forearm = df_acc_lye_forearm[['attr_x', 'attr_y', 'attr_z']].values[0:999,:]\n",
        "df_acc_lye_head = df_acc_lye_head[['attr_x', 'attr_y', 'attr_z']].values[0:999,:]\n",
        "df_acc_lye_shin = df_acc_lye_shin[['attr_x', 'attr_y', 'attr_z']].values[0:999,:]\n",
        "df_acc_lye_thigh = df_acc_lye_thigh[['attr_x', 'attr_y', 'attr_z']].values[0:999,:]\n",
        "df_acc_lye_upperarm = df_acc_lye_upperarm[['attr_x', 'attr_y', 'attr_z']].values[0:999,:]\n",
        "df_acc_lye_waist = df_acc_lye_waist[['attr_x', 'attr_y', 'attr_z']].values[0:999,:]\n",
        "df_acc_stand_chest = df_acc_stand_chest[['attr_x', 'attr_y', 'attr_z']].values[0:999,:]\n",
        "df_acc_stand_forearm = df_acc_stand_forearm[['attr_x', 'attr_y', 'attr_z']].values[0:999,:]\n",
        "df_acc_stand_head = df_acc_stand_head[['attr_x', 'attr_y', 'attr_z']].values[0:999,:]\n",
        "df_acc_stand_shin = df_acc_stand_shin[['attr_x', 'attr_y', 'attr_z']].values[0:999,:]\n",
        "df_acc_stand_thigh = df_acc_stand_thigh[['attr_x', 'attr_y', 'attr_z']].values[0:999,:]\n",
        "df_acc_stand_upperarm = df_acc_stand_upperarm[['attr_x', 'attr_y', 'attr_z']].values[0:999,:]\n",
        "df_acc_stand_waist = df_acc_stand_waist[['attr_x', 'attr_y', 'attr_z']].values[0:999,:]\n",
        "\n"
      ],
      "execution_count": 8,
      "outputs": []
    },
    {
      "cell_type": "code",
      "metadata": {
        "id": "UUaEP2mnjddU"
      },
      "source": [
        "acc_jump = [df_acc_jump_chest,df_acc_jump_forearm,df_acc_jump_head,df_acc_jump_shin,df_acc_jump_thigh,df_acc_jump_upperarm,df_acc_jump_waist]\n",
        "acc_lye = [df_acc_lye_chest,df_acc_lye_forearm ,df_acc_lye_head,df_acc_lye_shin,df_acc_lye_thigh,df_acc_lye_upperarm,df_acc_lye_waist]\n",
        "acc_stand = [df_acc_stand_chest,df_acc_stand_forearm ,df_acc_stand_head,df_acc_stand_shin,df_acc_stand_thigh,df_acc_stand_upperarm,df_acc_stand_waist]"
      ],
      "execution_count": 9,
      "outputs": []
    },
    {
      "cell_type": "code",
      "metadata": {
        "id": "7_T1xEmTLPC7"
      },
      "source": [
        "acc_jump = [df_acc_jump_chest,df_acc_jump_forearm,df_acc_jump_head,df_acc_jump_shin,df_acc_jump_thigh,df_acc_jump_upperarm,df_acc_jump_waist]"
      ],
      "execution_count": null,
      "outputs": []
    },
    {
      "cell_type": "code",
      "metadata": {
        "id": "Y1FVq4qWQ6i-"
      },
      "source": [
        "acc_lye = [df_acc_lye_chest,df_acc_lye_forearm ,df_acc_lye_head,df_acc_lye_shin,df_acc_lye_thigh,df_acc_lye_upperarm,df_acc_lye_waist]"
      ],
      "execution_count": null,
      "outputs": []
    },
    {
      "cell_type": "code",
      "metadata": {
        "id": "97wMsoocc2zx"
      },
      "source": [
        "acc_stand = [df_acc_stand_chest,df_acc_stand_forearm ,df_acc_stand_head,df_acc_stand_shin,df_acc_stand_thigh,df_acc_stand_upperarm,df_acc_stand_waist]"
      ],
      "execution_count": null,
      "outputs": []
    },
    {
      "cell_type": "code",
      "metadata": {
        "id": "X9-szPPHLWN8",
        "outputId": "de987da2-f89a-48e8-9ab0-372a6870eed7",
        "colab": {
          "base_uri": "https://localhost:8080/",
          "height": 306
        }
      },
      "source": [
        "results = []\n",
        "for i in acc_jump:\n",
        "  for j in acc_jump:\n",
        "    euclidean_distance =  lambda i,j: np.linalg.norm(i-j)\n",
        "    d, cost_matrix, acc_cost_matrix, path = dtw(i, j, dist = euclidean_distance)\n",
        "    results.append(d)\n",
        "\n",
        "np.hstack(results)"
      ],
      "execution_count": null,
      "outputs": [
        {
          "output_type": "execute_result",
          "data": {
            "text/plain": [
              "array([    0.        , 14829.15491897, 12986.42782376,  7708.46421049,\n",
              "        4076.84240386,  3977.11243373, 13250.36862331, 10983.17121063,\n",
              "       14892.54574511, 14299.77810531, 10760.00334833, 11289.04306081,\n",
              "       10722.38032688, 14520.56983296, 14829.15491897,     0.        ,\n",
              "           0.        , 14829.15491897, 12986.42782376,  7708.46421049,\n",
              "        4076.84240386,  3977.11243373, 13250.36862331, 14829.15491897,\n",
              "           0.        ,  7118.26461695, 18231.69102728, 15130.71907549,\n",
              "       15712.80605172, 15116.1820829 , 12986.42782376,  7118.26461695,\n",
              "           0.        , 16242.84478079, 12389.5922458 , 13028.63271817,\n",
              "       14231.19211889,  7708.46421049, 18231.69102728, 16242.84478079,\n",
              "           0.        ,  9044.31104928,  8114.73716577, 13453.91952204,\n",
              "        4076.84240386, 15130.71907549, 12389.5922458 ,  9044.31104928,\n",
              "           0.        ,  4089.15431973, 14362.97202891,  3977.11243373,\n",
              "       15712.80605172, 13028.63271817,  8114.73716577,  4089.15431973,\n",
              "           0.        , 13599.61402047, 13250.36862331, 15116.1820829 ,\n",
              "       14231.19211889, 13453.91952204, 14362.97202891, 13599.61402047,\n",
              "           0.        ])"
            ]
          },
          "metadata": {
            "tags": []
          },
          "execution_count": 12
        }
      ]
    },
    {
      "cell_type": "code",
      "metadata": {
        "id": "P9pkk61DAMgY"
      },
      "source": [
        "array([    0.        , 14829.15491897, 12986.42782376,  7708.46421049,\n",
        "        4076.84240386,  3977.11243373, 13250.36862331, 10983.17121063,\n",
        "       14892.54574511, 14299.77810531, 10760.00334833, 11289.04306081,\n",
        "       10722.38032688, 14520.56983296, 14829.15491897,     0.        ,\n",
        "           0.        , 14829.15491897, 12986.42782376,  7708.46421049,\n",
        "        4076.84240386,  3977.11243373, 13250.36862331, 14829.15491897,\n",
        "           0.        ,  7118.26461695, 18231.69102728, 15130.71907549,\n",
        "       15712.80605172, 15116.1820829 , 12986.42782376,  7118.26461695,\n",
        "           0.        , 16242.84478079, 12389.5922458 , 13028.63271817,\n",
        "       14231.19211889,  7708.46421049, 18231.69102728, 16242.84478079,\n",
        "           0.        ,  9044.31104928,  8114.73716577, 13453.91952204,\n",
        "        4076.84240386, 15130.71907549, 12389.5922458 ,  9044.31104928,\n",
        "           0.        ,  4089.15431973, 14362.97202891,  3977.11243373,\n",
        "       15712.80605172, 13028.63271817,  8114.73716577,  4089.15431973,\n",
        "           0.        , 13599.61402047, 13250.36862331, 15116.1820829 ,\n",
        "       14231.19211889, 13453.91952204, 14362.97202891, 13599.61402047,\n",
        "           0.        ])"
      ],
      "execution_count": null,
      "outputs": []
    },
    {
      "cell_type": "code",
      "metadata": {
        "id": "8TVmpLGNLTnu",
        "outputId": "a2cb525b-153a-4d8e-cd4b-c0b4cc23cb4a",
        "colab": {
          "base_uri": "https://localhost:8080/",
          "height": 238
        }
      },
      "source": [
        "results1 = []\n",
        "for i in acc_lye:\n",
        "  for j in acc_lye:\n",
        "    euclidean_distance =  lambda i,j: np.linalg.norm(i-j)\n",
        "    d, cost_matrix, acc_cost_matrix, path = dtw(i, j, dist = euclidean_distance)\n",
        "    results1.append(d)\n",
        "\n",
        "np.hstack(results1)\n"
      ],
      "execution_count": null,
      "outputs": [
        {
          "output_type": "execute_result",
          "data": {
            "text/plain": [
              "array([    0.        , 15470.15069445,  9635.83886849, 10975.85176031,\n",
              "        3103.85770831,  7033.99649456,  9117.51836155, 15470.15069445,\n",
              "           0.        , 13666.20012   , 18043.50200591, 14005.59348752,\n",
              "       17610.54798477, 12355.45566421,  9635.83886849, 13666.20012   ,\n",
              "           0.        , 11954.82799191,  8837.85382706,  7308.71788802,\n",
              "       14980.02634949, 10975.85176031, 18043.50200591, 11954.82799191,\n",
              "           0.        , 11635.57755591,  7099.3992894 , 16703.00187272,\n",
              "        3103.85770831, 14005.59348752,  8837.85382706, 11635.57755591,\n",
              "           0.        ,  7321.51868871,  8544.0977147 ,  7033.99649456,\n",
              "       17610.54798477,  7308.71788802,  7099.3992894 ,  7321.51868871,\n",
              "           0.        , 14692.71693826,  9117.51836155, 12355.45566421,\n",
              "       14980.02634949, 16703.00187272,  8544.0977147 , 14692.71693826,\n",
              "           0.        ])"
            ]
          },
          "metadata": {
            "tags": []
          },
          "execution_count": 19
        }
      ]
    },
    {
      "cell_type": "code",
      "metadata": {
        "id": "w4OTZ8RfAQRa"
      },
      "source": [
        "array([    0.        , 15470.15069445,  9635.83886849, 10975.85176031,\n",
        "        3103.85770831,  7033.99649456,  9117.51836155, 15470.15069445,\n",
        "           0.        , 13666.20012   , 18043.50200591, 14005.59348752,\n",
        "       17610.54798477, 12355.45566421,  9635.83886849, 13666.20012   ,\n",
        "           0.        , 11954.82799191,  8837.85382706,  7308.71788802,\n",
        "       14980.02634949, 10975.85176031, 18043.50200591, 11954.82799191,\n",
        "           0.        , 11635.57755591,  7099.3992894 , 16703.00187272,\n",
        "        3103.85770831, 14005.59348752,  8837.85382706, 11635.57755591,\n",
        "           0.        ,  7321.51868871,  8544.0977147 ,  7033.99649456,\n",
        "       17610.54798477,  7308.71788802,  7099.3992894 ,  7321.51868871,\n",
        "           0.        , 14692.71693826,  9117.51836155, 12355.45566421,\n",
        "       14980.02634949, 16703.00187272,  8544.0977147 , 14692.71693826,\n",
        "           0.        ])"
      ],
      "execution_count": null,
      "outputs": []
    },
    {
      "cell_type": "code",
      "metadata": {
        "id": "wNY1bBOjkAQZ",
        "outputId": "978f6b8e-c1f8-4607-979f-b5dc17cd3525",
        "colab": {
          "base_uri": "https://localhost:8080/",
          "height": 238
        }
      },
      "source": [
        "results3 = []\n",
        "for i in acc_stand:\n",
        "  for j in acc_stand:\n",
        "    euclidean_distance =  lambda i,j: np.linalg.norm(i-j)\n",
        "    d, cost_matrix, acc_cost_matrix, path = dtw(i, j, dist = euclidean_distance)\n",
        "    results3.append(d)\n",
        "\n",
        "np.hstack(results3)"
      ],
      "execution_count": 10,
      "outputs": [
        {
          "output_type": "execute_result",
          "data": {
            "text/plain": [
              "array([    0.        , 16569.97633088, 13925.13694733,  3157.52408422,\n",
              "        1975.92219426,  1975.92219426, 12691.39775829, 16569.97633088,\n",
              "           0.        ,  4110.09703947, 15270.06995945, 15848.77288845,\n",
              "       15848.77288845, 19558.651424  , 13925.13694733,  4110.09703947,\n",
              "           0.        , 12534.19506047, 12809.44720526, 12809.44720526,\n",
              "       19299.65087072,  3157.52408422, 15270.06995945, 12534.19506047,\n",
              "           0.        ,  2449.11175123,  2449.11175123, 14920.08833654,\n",
              "        1975.92219426, 15848.77288845, 12809.44720526,  2449.11175123,\n",
              "           0.        ,     0.        , 14296.094205  ,  1975.92219426,\n",
              "       15848.77288845, 12809.44720526,  2449.11175123,     0.        ,\n",
              "           0.        , 14296.094205  , 12691.39775829, 19558.651424  ,\n",
              "       19299.65087072, 14920.08833654, 14296.094205  , 14296.094205  ,\n",
              "           0.        ])"
            ]
          },
          "metadata": {
            "tags": []
          },
          "execution_count": 10
        }
      ]
    },
    {
      "cell_type": "code",
      "metadata": {
        "id": "YB97xPXkTmjd"
      },
      "source": [
        "array([    0.        , 16569.97633088, 13925.13694733,  3157.52408422,\n",
        "        1975.92219426,  1975.92219426, 12691.39775829, 16569.97633088,\n",
        "           0.        ,  4110.09703947, 15270.06995945, 15848.77288845,\n",
        "       15848.77288845, 19558.651424  , 13925.13694733,  4110.09703947,\n",
        "           0.        , 12534.19506047, 12809.44720526, 12809.44720526,\n",
        "       19299.65087072,  3157.52408422, 15270.06995945, 12534.19506047,\n",
        "           0.        ,  2449.11175123,  2449.11175123, 14920.08833654,\n",
        "        1975.92219426, 15848.77288845, 12809.44720526,  2449.11175123,\n",
        "           0.        ,     0.        , 14296.094205  ,  1975.92219426,\n",
        "       15848.77288845, 12809.44720526,  2449.11175123,     0.        ,\n",
        "           0.        , 14296.094205  , 12691.39775829, 19558.651424  ,\n",
        "       19299.65087072, 14920.08833654, 14296.094205  , 14296.094205  ,\n",
        "           0.        ])"
      ],
      "execution_count": null,
      "outputs": []
    },
    {
      "cell_type": "code",
      "metadata": {
        "id": "EyanxiL6TqC1"
      },
      "source": [
        "results = []\n",
        "for i in acc_jump:\n",
        "  for j in acc_jump:\n",
        "    euclidean_distance =  lambda i,j: np.linalg.norm(i-j)\n",
        "    d, cost_matrix, acc_cost_matrix, path = dtw(i, j, dist = euclidean_distance)\n",
        "    results.append(d)\n",
        "\n",
        "np.hstack(results)"
      ],
      "execution_count": null,
      "outputs": []
    }
  ]
}