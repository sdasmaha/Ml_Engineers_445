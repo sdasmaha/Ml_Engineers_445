{
  "nbformat": 4,
  "nbformat_minor": 0,
  "metadata": {
    "colab": {
      "name": "Heart_Notebook-Exercise1.ipynb",
      "provenance": [],
      "collapsed_sections": [],
      "toc_visible": true,
      "include_colab_link": true
    },
    "kernelspec": {
      "name": "python3",
      "display_name": "Python 3"
    }
  },
  "cells": [
    {
      "cell_type": "markdown",
      "metadata": {
        "id": "view-in-github",
        "colab_type": "text"
      },
      "source": [
        "<a href=\"https://colab.research.google.com/github/sdasmaha/Ml_Engineers_445/blob/master/Heart_Notebook_Exercise1.ipynb\" target=\"_parent\"><img src=\"https://colab.research.google.com/assets/colab-badge.svg\" alt=\"Open In Colab\"/></a>"
      ]
    },
    {
      "cell_type": "markdown",
      "metadata": {
        "id": "LQi94-5Uqs6R",
        "colab_type": "text"
      },
      "source": [
        " Notebook Excercise #1 - SRINJOY DASMAHAPATRA\n",
        "\n",
        " IDE => Google Colab\n"
      ]
    },
    {
      "cell_type": "markdown",
      "metadata": {
        "id": "xjYWNI3orKzA",
        "colab_type": "text"
      },
      "source": [
        "#Importing Libraries"
      ]
    },
    {
      "cell_type": "code",
      "metadata": {
        "id": "aRD6VuKBqsel",
        "colab_type": "code",
        "colab": {}
      },
      "source": [
        "import numpy as np\n",
        "import pandas as pd"
      ],
      "execution_count": 315,
      "outputs": []
    },
    {
      "cell_type": "markdown",
      "metadata": {
        "id": "CzeJwajrsQc5",
        "colab_type": "text"
      },
      "source": [
        "#Mounting the Google Drive\n"
      ]
    },
    {
      "cell_type": "code",
      "metadata": {
        "id": "sDLTp9eHoOAt",
        "colab_type": "code",
        "colab": {
          "base_uri": "https://localhost:8080/",
          "height": 34
        },
        "outputId": "86488b07-ca9f-4601-b6fa-bf4e4ad94256"
      },
      "source": [
        "from google.colab import drive\n",
        "drive.mount(\"/content/gdrive\")"
      ],
      "execution_count": 316,
      "outputs": [
        {
          "output_type": "stream",
          "text": [
            "Drive already mounted at /content/gdrive; to attempt to forcibly remount, call drive.mount(\"/content/gdrive\", force_remount=True).\n"
          ],
          "name": "stdout"
        }
      ]
    },
    {
      "cell_type": "markdown",
      "metadata": {
        "id": "FUJXgS5ltnzX",
        "colab_type": "text"
      },
      "source": [
        "#Loading the Dataset"
      ]
    },
    {
      "cell_type": "code",
      "metadata": {
        "id": "CH78OCTBooh8",
        "colab_type": "code",
        "colab": {}
      },
      "source": [
        "heart_df = pd.read_csv('/content/gdrive/My Drive/Colab Notebooks/BAJWA-ML/heart_failure_dataset.csv')"
      ],
      "execution_count": 317,
      "outputs": []
    },
    {
      "cell_type": "markdown",
      "metadata": {
        "id": "z24zycllc9PF",
        "colab_type": "text"
      },
      "source": [
        "# *1.1*"
      ]
    },
    {
      "cell_type": "markdown",
      "metadata": {
        "id": "eCZDy5hUdFwL",
        "colab_type": "text"
      },
      "source": [
        "**A**"
      ]
    },
    {
      "cell_type": "markdown",
      "metadata": {
        "id": "OnecHLlVrNL4",
        "colab_type": "text"
      },
      "source": [
        ""
      ]
    },
    {
      "cell_type": "code",
      "metadata": {
        "id": "-pUQ367OcCt7",
        "colab_type": "code",
        "colab": {
          "base_uri": "https://localhost:8080/",
          "height": 34
        },
        "outputId": "6050fb99-6777-4dae-9919-c65e2956d49c"
      },
      "source": [
        "print(heart_df.shape) "
      ],
      "execution_count": null,
      "outputs": [
        {
          "output_type": "stream",
          "text": [
            "(299, 13)\n"
          ],
          "name": "stdout"
        }
      ]
    },
    {
      "cell_type": "code",
      "metadata": {
        "id": "Psh8ofBwcLeu",
        "colab_type": "code",
        "colab": {
          "base_uri": "https://localhost:8080/",
          "height": 102
        },
        "outputId": "c4f057ab-1a04-4203-84fa-24d64ae36061"
      },
      "source": [
        "print(heart_df.axes)"
      ],
      "execution_count": null,
      "outputs": [
        {
          "output_type": "stream",
          "text": [
            "[RangeIndex(start=0, stop=299, step=1), Index(['age', 'anaemia', 'creatinine_phosphokinase', 'diabetes',\n",
            "       'ejection_fraction', 'high_blood_pressure', 'platelets',\n",
            "       'serum_creatinine', 'serum_sodium', 'sex', 'smoking', 'time',\n",
            "       'DEATH_EVENT'],\n",
            "      dtype='object')]\n"
          ],
          "name": "stdout"
        }
      ]
    },
    {
      "cell_type": "code",
      "metadata": {
        "id": "SD2aNZxRcTKM",
        "colab_type": "code",
        "colab": {
          "base_uri": "https://localhost:8080/",
          "height": 255
        },
        "outputId": "824a1060-78d9-4f4c-e4e8-f53e81b62255"
      },
      "source": [
        "print(heart_df.dtypes)"
      ],
      "execution_count": null,
      "outputs": [
        {
          "output_type": "stream",
          "text": [
            "age                         float64\n",
            "anaemia                       int64\n",
            "creatinine_phosphokinase      int64\n",
            "diabetes                      int64\n",
            "ejection_fraction             int64\n",
            "high_blood_pressure           int64\n",
            "platelets                   float64\n",
            "serum_creatinine            float64\n",
            "serum_sodium                  int64\n",
            "sex                           int64\n",
            "smoking                       int64\n",
            "time                          int64\n",
            "DEATH_EVENT                   int64\n",
            "dtype: object\n"
          ],
          "name": "stdout"
        }
      ]
    },
    {
      "cell_type": "markdown",
      "metadata": {
        "id": "e2vnCWSGdhsK",
        "colab_type": "text"
      },
      "source": [
        "**B**"
      ]
    },
    {
      "cell_type": "code",
      "metadata": {
        "id": "mdUY3ufAeKu4",
        "colab_type": "code",
        "colab": {
          "base_uri": "https://localhost:8080/",
          "height": 359
        },
        "outputId": "86a8ab5d-6e69-4ee3-f036-c3ed86aa1f11"
      },
      "source": [
        "heart_df.head(10)"
      ],
      "execution_count": null,
      "outputs": [
        {
          "output_type": "execute_result",
          "data": {
            "text/html": [
              "<div>\n",
              "<style scoped>\n",
              "    .dataframe tbody tr th:only-of-type {\n",
              "        vertical-align: middle;\n",
              "    }\n",
              "\n",
              "    .dataframe tbody tr th {\n",
              "        vertical-align: top;\n",
              "    }\n",
              "\n",
              "    .dataframe thead th {\n",
              "        text-align: right;\n",
              "    }\n",
              "</style>\n",
              "<table border=\"1\" class=\"dataframe\">\n",
              "  <thead>\n",
              "    <tr style=\"text-align: right;\">\n",
              "      <th></th>\n",
              "      <th>age</th>\n",
              "      <th>anaemia</th>\n",
              "      <th>creatinine_phosphokinase</th>\n",
              "      <th>diabetes</th>\n",
              "      <th>ejection_fraction</th>\n",
              "      <th>high_blood_pressure</th>\n",
              "      <th>platelets</th>\n",
              "      <th>serum_creatinine</th>\n",
              "      <th>serum_sodium</th>\n",
              "      <th>sex</th>\n",
              "      <th>smoking</th>\n",
              "      <th>time</th>\n",
              "      <th>DEATH_EVENT</th>\n",
              "    </tr>\n",
              "  </thead>\n",
              "  <tbody>\n",
              "    <tr>\n",
              "      <th>0</th>\n",
              "      <td>75.0</td>\n",
              "      <td>0</td>\n",
              "      <td>582</td>\n",
              "      <td>0</td>\n",
              "      <td>20</td>\n",
              "      <td>1</td>\n",
              "      <td>265000.00</td>\n",
              "      <td>1.9</td>\n",
              "      <td>130</td>\n",
              "      <td>1</td>\n",
              "      <td>0</td>\n",
              "      <td>4</td>\n",
              "      <td>1</td>\n",
              "    </tr>\n",
              "    <tr>\n",
              "      <th>1</th>\n",
              "      <td>55.0</td>\n",
              "      <td>0</td>\n",
              "      <td>7861</td>\n",
              "      <td>0</td>\n",
              "      <td>38</td>\n",
              "      <td>0</td>\n",
              "      <td>263358.03</td>\n",
              "      <td>1.1</td>\n",
              "      <td>136</td>\n",
              "      <td>1</td>\n",
              "      <td>0</td>\n",
              "      <td>6</td>\n",
              "      <td>1</td>\n",
              "    </tr>\n",
              "    <tr>\n",
              "      <th>2</th>\n",
              "      <td>65.0</td>\n",
              "      <td>0</td>\n",
              "      <td>146</td>\n",
              "      <td>0</td>\n",
              "      <td>20</td>\n",
              "      <td>0</td>\n",
              "      <td>162000.00</td>\n",
              "      <td>1.3</td>\n",
              "      <td>129</td>\n",
              "      <td>1</td>\n",
              "      <td>1</td>\n",
              "      <td>7</td>\n",
              "      <td>1</td>\n",
              "    </tr>\n",
              "    <tr>\n",
              "      <th>3</th>\n",
              "      <td>50.0</td>\n",
              "      <td>1</td>\n",
              "      <td>111</td>\n",
              "      <td>0</td>\n",
              "      <td>20</td>\n",
              "      <td>0</td>\n",
              "      <td>210000.00</td>\n",
              "      <td>1.9</td>\n",
              "      <td>137</td>\n",
              "      <td>1</td>\n",
              "      <td>0</td>\n",
              "      <td>7</td>\n",
              "      <td>1</td>\n",
              "    </tr>\n",
              "    <tr>\n",
              "      <th>4</th>\n",
              "      <td>65.0</td>\n",
              "      <td>1</td>\n",
              "      <td>160</td>\n",
              "      <td>1</td>\n",
              "      <td>20</td>\n",
              "      <td>0</td>\n",
              "      <td>327000.00</td>\n",
              "      <td>2.7</td>\n",
              "      <td>116</td>\n",
              "      <td>0</td>\n",
              "      <td>0</td>\n",
              "      <td>8</td>\n",
              "      <td>1</td>\n",
              "    </tr>\n",
              "    <tr>\n",
              "      <th>5</th>\n",
              "      <td>90.0</td>\n",
              "      <td>1</td>\n",
              "      <td>47</td>\n",
              "      <td>0</td>\n",
              "      <td>40</td>\n",
              "      <td>1</td>\n",
              "      <td>204000.00</td>\n",
              "      <td>2.1</td>\n",
              "      <td>132</td>\n",
              "      <td>1</td>\n",
              "      <td>1</td>\n",
              "      <td>8</td>\n",
              "      <td>1</td>\n",
              "    </tr>\n",
              "    <tr>\n",
              "      <th>6</th>\n",
              "      <td>75.0</td>\n",
              "      <td>1</td>\n",
              "      <td>246</td>\n",
              "      <td>0</td>\n",
              "      <td>15</td>\n",
              "      <td>0</td>\n",
              "      <td>127000.00</td>\n",
              "      <td>1.2</td>\n",
              "      <td>137</td>\n",
              "      <td>1</td>\n",
              "      <td>0</td>\n",
              "      <td>10</td>\n",
              "      <td>1</td>\n",
              "    </tr>\n",
              "    <tr>\n",
              "      <th>7</th>\n",
              "      <td>60.0</td>\n",
              "      <td>1</td>\n",
              "      <td>315</td>\n",
              "      <td>1</td>\n",
              "      <td>60</td>\n",
              "      <td>0</td>\n",
              "      <td>454000.00</td>\n",
              "      <td>1.1</td>\n",
              "      <td>131</td>\n",
              "      <td>1</td>\n",
              "      <td>1</td>\n",
              "      <td>10</td>\n",
              "      <td>1</td>\n",
              "    </tr>\n",
              "    <tr>\n",
              "      <th>8</th>\n",
              "      <td>65.0</td>\n",
              "      <td>0</td>\n",
              "      <td>157</td>\n",
              "      <td>0</td>\n",
              "      <td>65</td>\n",
              "      <td>0</td>\n",
              "      <td>263358.03</td>\n",
              "      <td>1.5</td>\n",
              "      <td>138</td>\n",
              "      <td>0</td>\n",
              "      <td>0</td>\n",
              "      <td>10</td>\n",
              "      <td>1</td>\n",
              "    </tr>\n",
              "    <tr>\n",
              "      <th>9</th>\n",
              "      <td>80.0</td>\n",
              "      <td>1</td>\n",
              "      <td>123</td>\n",
              "      <td>0</td>\n",
              "      <td>35</td>\n",
              "      <td>1</td>\n",
              "      <td>388000.00</td>\n",
              "      <td>9.4</td>\n",
              "      <td>133</td>\n",
              "      <td>1</td>\n",
              "      <td>1</td>\n",
              "      <td>10</td>\n",
              "      <td>1</td>\n",
              "    </tr>\n",
              "  </tbody>\n",
              "</table>\n",
              "</div>"
            ],
            "text/plain": [
              "    age  anaemia  creatinine_phosphokinase  ...  smoking  time  DEATH_EVENT\n",
              "0  75.0        0                       582  ...        0     4            1\n",
              "1  55.0        0                      7861  ...        0     6            1\n",
              "2  65.0        0                       146  ...        1     7            1\n",
              "3  50.0        1                       111  ...        0     7            1\n",
              "4  65.0        1                       160  ...        0     8            1\n",
              "5  90.0        1                        47  ...        1     8            1\n",
              "6  75.0        1                       246  ...        0    10            1\n",
              "7  60.0        1                       315  ...        1    10            1\n",
              "8  65.0        0                       157  ...        0    10            1\n",
              "9  80.0        1                       123  ...        1    10            1\n",
              "\n",
              "[10 rows x 13 columns]"
            ]
          },
          "metadata": {
            "tags": []
          },
          "execution_count": 267
        }
      ]
    },
    {
      "cell_type": "markdown",
      "metadata": {
        "id": "ZfwLuOSif7TC",
        "colab_type": "text"
      },
      "source": [
        "**C**\n",
        "    Each row of heart_df dataframe is termed called a data sample associated with an instance."
      ]
    },
    {
      "cell_type": "markdown",
      "metadata": {
        "id": "AU8U5FTYkNU5",
        "colab_type": "text"
      },
      "source": [
        "**D**    Based on the knowledge of the dataset and its stated usage, we are dealing with supervised problem. \n",
        "\n",
        "Since in a supervised learning model, the algorithm learns on a labeled dataset, providing an answer key that the algorithm can use to evaluate its accuaracy on training data. \n",
        "\n",
        "On the contrary the unsupervised model works on unlabeled data that the algorithm tries to make sense of by extracting features and patterns on its own.\n"
      ]
    },
    {
      "cell_type": "markdown",
      "metadata": {
        "id": "B-TcQa5dscY8",
        "colab_type": "text"
      },
      "source": [
        "**E** The independent variables in this case are  labels- \n",
        "\n",
        "1. age\n",
        "2. anaemia\n",
        "3. creatinine_phosphokinase\n",
        "4. diabetes\n",
        "5. ejection_fraction\n",
        "6. high_blood_pressure\n",
        "7. platelets\n",
        "8.\tserum_creatinine\n",
        "8. serum_sodium\n",
        "9. sex\n",
        "10. smoking\n",
        "11. time\n",
        "\n",
        "This is so because these variable/labels embedded in the algorithm \n",
        "increase or decrease the probability/likhehood of the event(*DEATH_EVENT*).\n"
      ]
    },
    {
      "cell_type": "markdown",
      "metadata": {
        "id": "YqVoIFcjyqiF",
        "colab_type": "text"
      },
      "source": [
        "**F** The dependent variable in this case is the label *DEATH_EVENT* since it is the conclusive/final event or variable that predicts the likelihood of death."
      ]
    },
    {
      "cell_type": "markdown",
      "metadata": {
        "id": "4Facn46b0yn5",
        "colab_type": "text"
      },
      "source": [
        "**G** Here the categorical variables are -\n",
        "\n",
        "\n",
        "1. anaemia\n",
        "2. diabetes \n",
        "3. high_blood_pressure\n",
        "4. sex\n",
        "5. smoking\n",
        "6. DEATH_EVENT\n",
        "\n",
        "\n",
        "This is so because a categorical variable is a variable that can take on one of a limited, and usually fixed, number of possible values, assigning each individual or other unit of observation to a particular group or nominal category on the basis of some qualitative property.\n",
        "\n"
      ]
    },
    {
      "cell_type": "markdown",
      "metadata": {
        "id": "Wx0w1iso4iF4",
        "colab_type": "text"
      },
      "source": [
        "**H** The categorical variables follow *Binary Encoding* where each label is mapped to a binary number."
      ]
    },
    {
      "cell_type": "code",
      "metadata": {
        "id": "3y1Ji-dG-UKO",
        "colab_type": "code",
        "colab": {
          "base_uri": "https://localhost:8080/",
          "height": 68
        },
        "outputId": "28a58727-2672-4192-ce75-0d9932b859ff"
      },
      "source": [
        "count1 = heart_df['DEATH_EVENT'].value_counts() \n",
        "print(count1)"
      ],
      "execution_count": null,
      "outputs": [
        {
          "output_type": "stream",
          "text": [
            "0    203\n",
            "1     96\n",
            "Name: DEATH_EVENT, dtype: int64\n"
          ],
          "name": "stdout"
        }
      ]
    },
    {
      "cell_type": "markdown",
      "metadata": {
        "id": "6L2e3pUvBRVG",
        "colab_type": "text"
      },
      "source": [
        "**I** \n",
        "\n",
        "\n",
        "1.   Samples corresponding to Deceased Patients : 96\n",
        "2.   Samples corresponding to Remaining Patients : 203\n",
        "\n"
      ]
    },
    {
      "cell_type": "code",
      "metadata": {
        "id": "-hb26Q3UBp2a",
        "colab_type": "code",
        "colab": {
          "base_uri": "https://localhost:8080/",
          "height": 68
        },
        "outputId": "c563cebe-8818-45cb-b370-52418f2453f2"
      },
      "source": [
        "count2 = heart_df['sex'].value_counts() \n",
        "print(count2)"
      ],
      "execution_count": null,
      "outputs": [
        {
          "output_type": "stream",
          "text": [
            "1    194\n",
            "0    105\n",
            "Name: sex, dtype: int64\n"
          ],
          "name": "stdout"
        }
      ]
    },
    {
      "cell_type": "markdown",
      "metadata": {
        "id": "zVDWVuNUDKrR",
        "colab_type": "text"
      },
      "source": [
        "**J** \n",
        "\n",
        "1.   Samples corresponding to Women Patients : 105\n",
        "2.   Samples corresponding to Male Patients : 194\n"
      ]
    },
    {
      "cell_type": "code",
      "metadata": {
        "id": "3lSVn10vDe-R",
        "colab_type": "code",
        "colab": {
          "base_uri": "https://localhost:8080/",
          "height": 68
        },
        "outputId": "07e8467c-f5dd-43dc-820a-77cfaaf507e3"
      },
      "source": [
        "count3 = heart_df['smoking'].value_counts() \n",
        "print(count3)"
      ],
      "execution_count": null,
      "outputs": [
        {
          "output_type": "stream",
          "text": [
            "0    203\n",
            "1     96\n",
            "Name: smoking, dtype: int64\n"
          ],
          "name": "stdout"
        }
      ]
    },
    {
      "cell_type": "markdown",
      "metadata": {
        "id": "IeE4twSqDs_w",
        "colab_type": "text"
      },
      "source": [
        "**K** \n",
        "\n",
        "1.   Samples corresponding to Smokers  : 96\n",
        "2.   Samples corresponding to Non-Smokers : 203\n"
      ]
    },
    {
      "cell_type": "markdown",
      "metadata": {
        "id": "VwTCO88vf5f0",
        "colab_type": "text"
      },
      "source": [
        "#*1.2*"
      ]
    },
    {
      "cell_type": "markdown",
      "metadata": {
        "id": "wl4KMOAWgPPt",
        "colab_type": "text"
      },
      "source": [
        "Side Notes\n",
        "\n",
        "1.   Positive Correlation = A positive relationship exists i.e. when the indepenedent variable increases in value, so does the dependent variable\n",
        "\n",
        "2.  Negative Correlation = A negative relationship exists i.e. when the independent variable increases in value, the dependent variable falls in value\n",
        "\n"
      ]
    },
    {
      "cell_type": "code",
      "metadata": {
        "id": "L5G79cDcnZ07",
        "colab_type": "code",
        "colab": {
          "base_uri": "https://localhost:8080/",
          "height": 472
        },
        "outputId": "65e791dd-f59a-46bc-8d6a-e92b3d61c181"
      },
      "source": [
        "heart_df.corr()"
      ],
      "execution_count": null,
      "outputs": [
        {
          "output_type": "execute_result",
          "data": {
            "text/html": [
              "<div>\n",
              "<style scoped>\n",
              "    .dataframe tbody tr th:only-of-type {\n",
              "        vertical-align: middle;\n",
              "    }\n",
              "\n",
              "    .dataframe tbody tr th {\n",
              "        vertical-align: top;\n",
              "    }\n",
              "\n",
              "    .dataframe thead th {\n",
              "        text-align: right;\n",
              "    }\n",
              "</style>\n",
              "<table border=\"1\" class=\"dataframe\">\n",
              "  <thead>\n",
              "    <tr style=\"text-align: right;\">\n",
              "      <th></th>\n",
              "      <th>age</th>\n",
              "      <th>anaemia</th>\n",
              "      <th>creatinine_phosphokinase</th>\n",
              "      <th>diabetes</th>\n",
              "      <th>ejection_fraction</th>\n",
              "      <th>high_blood_pressure</th>\n",
              "      <th>platelets</th>\n",
              "      <th>serum_creatinine</th>\n",
              "      <th>serum_sodium</th>\n",
              "      <th>sex</th>\n",
              "      <th>smoking</th>\n",
              "      <th>time</th>\n",
              "      <th>DEATH_EVENT</th>\n",
              "    </tr>\n",
              "  </thead>\n",
              "  <tbody>\n",
              "    <tr>\n",
              "      <th>age</th>\n",
              "      <td>1.000000</td>\n",
              "      <td>0.088006</td>\n",
              "      <td>-0.081584</td>\n",
              "      <td>-0.101012</td>\n",
              "      <td>0.060098</td>\n",
              "      <td>0.093289</td>\n",
              "      <td>-0.052354</td>\n",
              "      <td>0.159187</td>\n",
              "      <td>-0.045966</td>\n",
              "      <td>0.065430</td>\n",
              "      <td>0.018668</td>\n",
              "      <td>-0.224068</td>\n",
              "      <td>0.253729</td>\n",
              "    </tr>\n",
              "    <tr>\n",
              "      <th>anaemia</th>\n",
              "      <td>0.088006</td>\n",
              "      <td>1.000000</td>\n",
              "      <td>-0.190741</td>\n",
              "      <td>-0.012729</td>\n",
              "      <td>0.031557</td>\n",
              "      <td>0.038182</td>\n",
              "      <td>-0.043786</td>\n",
              "      <td>0.052174</td>\n",
              "      <td>0.041882</td>\n",
              "      <td>-0.094769</td>\n",
              "      <td>-0.107290</td>\n",
              "      <td>-0.141414</td>\n",
              "      <td>0.066270</td>\n",
              "    </tr>\n",
              "    <tr>\n",
              "      <th>creatinine_phosphokinase</th>\n",
              "      <td>-0.081584</td>\n",
              "      <td>-0.190741</td>\n",
              "      <td>1.000000</td>\n",
              "      <td>-0.009639</td>\n",
              "      <td>-0.044080</td>\n",
              "      <td>-0.070590</td>\n",
              "      <td>0.024463</td>\n",
              "      <td>-0.016408</td>\n",
              "      <td>0.059550</td>\n",
              "      <td>0.079791</td>\n",
              "      <td>0.002421</td>\n",
              "      <td>-0.009346</td>\n",
              "      <td>0.062728</td>\n",
              "    </tr>\n",
              "    <tr>\n",
              "      <th>diabetes</th>\n",
              "      <td>-0.101012</td>\n",
              "      <td>-0.012729</td>\n",
              "      <td>-0.009639</td>\n",
              "      <td>1.000000</td>\n",
              "      <td>-0.004850</td>\n",
              "      <td>-0.012732</td>\n",
              "      <td>0.092193</td>\n",
              "      <td>-0.046975</td>\n",
              "      <td>-0.089551</td>\n",
              "      <td>-0.157730</td>\n",
              "      <td>-0.147173</td>\n",
              "      <td>0.033726</td>\n",
              "      <td>-0.001943</td>\n",
              "    </tr>\n",
              "    <tr>\n",
              "      <th>ejection_fraction</th>\n",
              "      <td>0.060098</td>\n",
              "      <td>0.031557</td>\n",
              "      <td>-0.044080</td>\n",
              "      <td>-0.004850</td>\n",
              "      <td>1.000000</td>\n",
              "      <td>0.024445</td>\n",
              "      <td>0.072177</td>\n",
              "      <td>-0.011302</td>\n",
              "      <td>0.175902</td>\n",
              "      <td>-0.148386</td>\n",
              "      <td>-0.067315</td>\n",
              "      <td>0.041729</td>\n",
              "      <td>-0.268603</td>\n",
              "    </tr>\n",
              "    <tr>\n",
              "      <th>high_blood_pressure</th>\n",
              "      <td>0.093289</td>\n",
              "      <td>0.038182</td>\n",
              "      <td>-0.070590</td>\n",
              "      <td>-0.012732</td>\n",
              "      <td>0.024445</td>\n",
              "      <td>1.000000</td>\n",
              "      <td>0.049963</td>\n",
              "      <td>-0.004935</td>\n",
              "      <td>0.037109</td>\n",
              "      <td>-0.104615</td>\n",
              "      <td>-0.055711</td>\n",
              "      <td>-0.196439</td>\n",
              "      <td>0.079351</td>\n",
              "    </tr>\n",
              "    <tr>\n",
              "      <th>platelets</th>\n",
              "      <td>-0.052354</td>\n",
              "      <td>-0.043786</td>\n",
              "      <td>0.024463</td>\n",
              "      <td>0.092193</td>\n",
              "      <td>0.072177</td>\n",
              "      <td>0.049963</td>\n",
              "      <td>1.000000</td>\n",
              "      <td>-0.041198</td>\n",
              "      <td>0.062125</td>\n",
              "      <td>-0.125120</td>\n",
              "      <td>0.028234</td>\n",
              "      <td>0.010514</td>\n",
              "      <td>-0.049139</td>\n",
              "    </tr>\n",
              "    <tr>\n",
              "      <th>serum_creatinine</th>\n",
              "      <td>0.159187</td>\n",
              "      <td>0.052174</td>\n",
              "      <td>-0.016408</td>\n",
              "      <td>-0.046975</td>\n",
              "      <td>-0.011302</td>\n",
              "      <td>-0.004935</td>\n",
              "      <td>-0.041198</td>\n",
              "      <td>1.000000</td>\n",
              "      <td>-0.189095</td>\n",
              "      <td>0.006970</td>\n",
              "      <td>-0.027414</td>\n",
              "      <td>-0.149315</td>\n",
              "      <td>0.294278</td>\n",
              "    </tr>\n",
              "    <tr>\n",
              "      <th>serum_sodium</th>\n",
              "      <td>-0.045966</td>\n",
              "      <td>0.041882</td>\n",
              "      <td>0.059550</td>\n",
              "      <td>-0.089551</td>\n",
              "      <td>0.175902</td>\n",
              "      <td>0.037109</td>\n",
              "      <td>0.062125</td>\n",
              "      <td>-0.189095</td>\n",
              "      <td>1.000000</td>\n",
              "      <td>-0.027566</td>\n",
              "      <td>0.004813</td>\n",
              "      <td>0.087640</td>\n",
              "      <td>-0.195204</td>\n",
              "    </tr>\n",
              "    <tr>\n",
              "      <th>sex</th>\n",
              "      <td>0.065430</td>\n",
              "      <td>-0.094769</td>\n",
              "      <td>0.079791</td>\n",
              "      <td>-0.157730</td>\n",
              "      <td>-0.148386</td>\n",
              "      <td>-0.104615</td>\n",
              "      <td>-0.125120</td>\n",
              "      <td>0.006970</td>\n",
              "      <td>-0.027566</td>\n",
              "      <td>1.000000</td>\n",
              "      <td>0.445892</td>\n",
              "      <td>-0.015608</td>\n",
              "      <td>-0.004316</td>\n",
              "    </tr>\n",
              "    <tr>\n",
              "      <th>smoking</th>\n",
              "      <td>0.018668</td>\n",
              "      <td>-0.107290</td>\n",
              "      <td>0.002421</td>\n",
              "      <td>-0.147173</td>\n",
              "      <td>-0.067315</td>\n",
              "      <td>-0.055711</td>\n",
              "      <td>0.028234</td>\n",
              "      <td>-0.027414</td>\n",
              "      <td>0.004813</td>\n",
              "      <td>0.445892</td>\n",
              "      <td>1.000000</td>\n",
              "      <td>-0.022839</td>\n",
              "      <td>-0.012623</td>\n",
              "    </tr>\n",
              "    <tr>\n",
              "      <th>time</th>\n",
              "      <td>-0.224068</td>\n",
              "      <td>-0.141414</td>\n",
              "      <td>-0.009346</td>\n",
              "      <td>0.033726</td>\n",
              "      <td>0.041729</td>\n",
              "      <td>-0.196439</td>\n",
              "      <td>0.010514</td>\n",
              "      <td>-0.149315</td>\n",
              "      <td>0.087640</td>\n",
              "      <td>-0.015608</td>\n",
              "      <td>-0.022839</td>\n",
              "      <td>1.000000</td>\n",
              "      <td>-0.526964</td>\n",
              "    </tr>\n",
              "    <tr>\n",
              "      <th>DEATH_EVENT</th>\n",
              "      <td>0.253729</td>\n",
              "      <td>0.066270</td>\n",
              "      <td>0.062728</td>\n",
              "      <td>-0.001943</td>\n",
              "      <td>-0.268603</td>\n",
              "      <td>0.079351</td>\n",
              "      <td>-0.049139</td>\n",
              "      <td>0.294278</td>\n",
              "      <td>-0.195204</td>\n",
              "      <td>-0.004316</td>\n",
              "      <td>-0.012623</td>\n",
              "      <td>-0.526964</td>\n",
              "      <td>1.000000</td>\n",
              "    </tr>\n",
              "  </tbody>\n",
              "</table>\n",
              "</div>"
            ],
            "text/plain": [
              "                               age   anaemia  ...      time  DEATH_EVENT\n",
              "age                       1.000000  0.088006  ... -0.224068     0.253729\n",
              "anaemia                   0.088006  1.000000  ... -0.141414     0.066270\n",
              "creatinine_phosphokinase -0.081584 -0.190741  ... -0.009346     0.062728\n",
              "diabetes                 -0.101012 -0.012729  ...  0.033726    -0.001943\n",
              "ejection_fraction         0.060098  0.031557  ...  0.041729    -0.268603\n",
              "high_blood_pressure       0.093289  0.038182  ... -0.196439     0.079351\n",
              "platelets                -0.052354 -0.043786  ...  0.010514    -0.049139\n",
              "serum_creatinine          0.159187  0.052174  ... -0.149315     0.294278\n",
              "serum_sodium             -0.045966  0.041882  ...  0.087640    -0.195204\n",
              "sex                       0.065430 -0.094769  ... -0.015608    -0.004316\n",
              "smoking                   0.018668 -0.107290  ... -0.022839    -0.012623\n",
              "time                     -0.224068 -0.141414  ...  1.000000    -0.526964\n",
              "DEATH_EVENT               0.253729  0.066270  ... -0.526964     1.000000\n",
              "\n",
              "[13 rows x 13 columns]"
            ]
          },
          "metadata": {
            "tags": []
          },
          "execution_count": 271
        }
      ]
    },
    {
      "cell_type": "markdown",
      "metadata": {
        "id": "FLAFi_HWtHu4",
        "colab_type": "text"
      },
      "source": [
        "**A** The two variables that are the most positively correlated with the *DEATH-EVENT* are -\n",
        "\n",
        "1.   serum_creatinine (0.294278)\n",
        "2.   age (0.253729)\n",
        "\n",
        "\n",
        "\n"
      ]
    },
    {
      "cell_type": "markdown",
      "metadata": {
        "id": "2yWe2BUYwPH_",
        "colab_type": "text"
      },
      "source": [
        "**B** The two variables that are the most negatively correlated with the *DEATH-EVENT* are -\n",
        "\n",
        "1.   time (-0.526964\t)\n",
        "2.   ejection_fraction (-0.268603\t)\n",
        "\n",
        "\n",
        "\n",
        "\n"
      ]
    },
    {
      "cell_type": "markdown",
      "metadata": {
        "id": "0V0hu3S-xPR0",
        "colab_type": "text"
      },
      "source": [
        "**C** The answer to this question can be understood by general intuition and research conducted in the past. With increasing age, DEATH_EVENT is likely to increase.  "
      ]
    },
    {
      "cell_type": "code",
      "metadata": {
        "id": "OaSAUoK-0-3P",
        "colab_type": "code",
        "colab": {
          "base_uri": "https://localhost:8080/",
          "height": 34
        },
        "outputId": "0b4d4c13-5e30-47c8-e2a2-25a7e4ecd556"
      },
      "source": [
        "heart_df['ejection_fraction'].corr(heart_df['DEATH_EVENT'])\n"
      ],
      "execution_count": null,
      "outputs": [
        {
          "output_type": "execute_result",
          "data": {
            "text/plain": [
              "-0.2686033123940617"
            ]
          },
          "metadata": {
            "tags": []
          },
          "execution_count": 272
        }
      ]
    },
    {
      "cell_type": "markdown",
      "metadata": {
        "id": "OroQpAgRxpwt",
        "colab_type": "text"
      },
      "source": [
        "**D** Past Research has shown with decrease in ejection fraction(Percentage of blood leaving the heart at each contraction) there is an increase in the likelihood of Death (DEATH_EVENT)."
      ]
    },
    {
      "cell_type": "markdown",
      "metadata": {
        "id": "iSURsN8J1g59",
        "colab_type": "text"
      },
      "source": [
        "#*1.3*\n"
      ]
    },
    {
      "cell_type": "markdown",
      "metadata": {
        "id": "W2bMi7CxdvGW",
        "colab_type": "text"
      },
      "source": [
        "1.Checking for missing values.\n"
      ]
    },
    {
      "cell_type": "code",
      "metadata": {
        "id": "mSsYipNjeOKB",
        "colab_type": "code",
        "colab": {
          "base_uri": "https://localhost:8080/",
          "height": 255
        },
        "outputId": "9a47f0f2-ef0c-480a-9d7a-995d8da26063"
      },
      "source": [
        "heart_df.isnull().sum()"
      ],
      "execution_count": null,
      "outputs": [
        {
          "output_type": "execute_result",
          "data": {
            "text/plain": [
              "age                         0\n",
              "anaemia                     0\n",
              "creatinine_phosphokinase    0\n",
              "diabetes                    0\n",
              "ejection_fraction           0\n",
              "high_blood_pressure         0\n",
              "platelets                   0\n",
              "serum_creatinine            0\n",
              "serum_sodium                0\n",
              "sex                         0\n",
              "smoking                     0\n",
              "time                        0\n",
              "DEATH_EVENT                 0\n",
              "dtype: int64"
            ]
          },
          "metadata": {
            "tags": []
          },
          "execution_count": 273
        }
      ]
    },
    {
      "cell_type": "markdown",
      "metadata": {
        "id": "Rhi0O235qsSH",
        "colab_type": "text"
      },
      "source": [
        "We can see here that we are not dealing with missing values."
      ]
    },
    {
      "cell_type": "markdown",
      "metadata": {
        "id": "kUIvhiIH0k_L",
        "colab_type": "text"
      },
      "source": [
        "2. Checking for Inconsistent values. For this we have to assess each columns and categorize them first into their data types and then search for inconsistency.\n",
        "\n",
        "We divide columns into categorical and non-categorical values.\n"
      ]
    },
    {
      "cell_type": "markdown",
      "metadata": {
        "id": "8hPLEQxYokog",
        "colab_type": "text"
      },
      "source": [
        "Non Categorical / Numerical = NUM ; Categorical = C\n",
        "1. age - NUM\n",
        "2. anaemia - C\n",
        "3. creatinine_phosphokinase - NUM\n",
        "4. diabetes - C\n",
        "5. ejection_fraction - NUM\n",
        "6. high_blood_pressure - C\n",
        "7. platelets - NUM\n",
        "8.\tserum_creatinine -NUM\n",
        "8. serum_sodium - NUM\n",
        "9. sex - C\n",
        "10. smoking - C\n",
        "11. time - NUM\n",
        "13. DEATH_EVENT - C"
      ]
    },
    {
      "cell_type": "markdown",
      "metadata": {
        "id": "z6Q7l0NYwsmC",
        "colab_type": "text"
      },
      "source": [
        "For Categorical values"
      ]
    },
    {
      "cell_type": "code",
      "metadata": {
        "id": "dUAlHs231Ula",
        "colab_type": "code",
        "colab": {
          "base_uri": "https://localhost:8080/",
          "height": 68
        },
        "outputId": "82b91212-ceb1-469e-b643-e3bd6e7e7f10"
      },
      "source": [
        "heart_df['anaemia'].value_counts()"
      ],
      "execution_count": null,
      "outputs": [
        {
          "output_type": "execute_result",
          "data": {
            "text/plain": [
              "0    170\n",
              "1    129\n",
              "Name: anaemia, dtype: int64"
            ]
          },
          "metadata": {
            "tags": []
          },
          "execution_count": 274
        }
      ]
    },
    {
      "cell_type": "code",
      "metadata": {
        "id": "HR1x1gYxubRt",
        "colab_type": "code",
        "colab": {
          "base_uri": "https://localhost:8080/",
          "height": 68
        },
        "outputId": "0f32ff8f-9204-49c8-965b-ededfe5a82f6"
      },
      "source": [
        "heart_df['diabetes'].value_counts()"
      ],
      "execution_count": null,
      "outputs": [
        {
          "output_type": "execute_result",
          "data": {
            "text/plain": [
              "0    174\n",
              "1    125\n",
              "Name: diabetes, dtype: int64"
            ]
          },
          "metadata": {
            "tags": []
          },
          "execution_count": 275
        }
      ]
    },
    {
      "cell_type": "code",
      "metadata": {
        "id": "8EdabF8Vujke",
        "colab_type": "code",
        "colab": {
          "base_uri": "https://localhost:8080/",
          "height": 68
        },
        "outputId": "ea906b0e-8f6f-48d9-83d9-774f168fe945"
      },
      "source": [
        "heart_df['high_blood_pressure'].value_counts()"
      ],
      "execution_count": null,
      "outputs": [
        {
          "output_type": "execute_result",
          "data": {
            "text/plain": [
              "0    194\n",
              "1    105\n",
              "Name: high_blood_pressure, dtype: int64"
            ]
          },
          "metadata": {
            "tags": []
          },
          "execution_count": 276
        }
      ]
    },
    {
      "cell_type": "code",
      "metadata": {
        "id": "VCuLKh0Aup0c",
        "colab_type": "code",
        "colab": {
          "base_uri": "https://localhost:8080/",
          "height": 68
        },
        "outputId": "2088776a-f0f5-420c-cf8e-a513568fdcd7"
      },
      "source": [
        "heart_df['sex'].value_counts()"
      ],
      "execution_count": null,
      "outputs": [
        {
          "output_type": "execute_result",
          "data": {
            "text/plain": [
              "1    194\n",
              "0    105\n",
              "Name: sex, dtype: int64"
            ]
          },
          "metadata": {
            "tags": []
          },
          "execution_count": 277
        }
      ]
    },
    {
      "cell_type": "code",
      "metadata": {
        "id": "N1PDDo3Vx2L_",
        "colab_type": "code",
        "colab": {
          "base_uri": "https://localhost:8080/",
          "height": 68
        },
        "outputId": "4330a8d7-400e-48ef-fedf-29b12f0da5fd"
      },
      "source": [
        "heart_df['smoking'].value_counts()"
      ],
      "execution_count": null,
      "outputs": [
        {
          "output_type": "execute_result",
          "data": {
            "text/plain": [
              "0    203\n",
              "1     96\n",
              "Name: smoking, dtype: int64"
            ]
          },
          "metadata": {
            "tags": []
          },
          "execution_count": 278
        }
      ]
    },
    {
      "cell_type": "code",
      "metadata": {
        "id": "dq3JfZjSuvzv",
        "colab_type": "code",
        "colab": {
          "base_uri": "https://localhost:8080/",
          "height": 68
        },
        "outputId": "a82549f7-6a6b-4ac5-dd69-91551cbf7b56"
      },
      "source": [
        "heart_df['DEATH_EVENT'].value_counts()"
      ],
      "execution_count": null,
      "outputs": [
        {
          "output_type": "execute_result",
          "data": {
            "text/plain": [
              "0    203\n",
              "1     96\n",
              "Name: DEATH_EVENT, dtype: int64"
            ]
          },
          "metadata": {
            "tags": []
          },
          "execution_count": 279
        }
      ]
    },
    {
      "cell_type": "markdown",
      "metadata": {
        "id": "y5Os_GoWvgjM",
        "colab_type": "text"
      },
      "source": [
        "Conclusion => All the categorical values are consistent. All values are either 1 or 0. All values add up to 300 sample data = (299; since it includes 0)."
      ]
    },
    {
      "cell_type": "markdown",
      "metadata": {
        "id": "PceqYhHxwond",
        "colab_type": "text"
      },
      "source": [
        "For NUMERICAL values\n"
      ]
    },
    {
      "cell_type": "code",
      "metadata": {
        "id": "HZyOO4DG5c54",
        "colab_type": "code",
        "colab": {
          "base_uri": "https://localhost:8080/",
          "height": 68
        },
        "outputId": "972ce0be-a878-4d51-9de4-c77e23c5c15c"
      },
      "source": [
        "pd.cut(x=heart_df['age'], bins = [-100,0,100]).value_counts()"
      ],
      "execution_count": null,
      "outputs": [
        {
          "output_type": "execute_result",
          "data": {
            "text/plain": [
              "(0, 100]     299\n",
              "(-100, 0]      0\n",
              "Name: age, dtype: int64"
            ]
          },
          "metadata": {
            "tags": []
          },
          "execution_count": 280
        }
      ]
    },
    {
      "cell_type": "markdown",
      "metadata": {
        "id": "5G-ozQBE6Ssu",
        "colab_type": "text"
      },
      "source": [
        "We can clearly see age here is positive."
      ]
    },
    {
      "cell_type": "code",
      "metadata": {
        "id": "JeTbXT58yFgk",
        "colab_type": "code",
        "colab": {
          "base_uri": "https://localhost:8080/",
          "height": 51
        },
        "outputId": "3587c6c3-c91f-41a6-8c71-4bc11ac1c698"
      },
      "source": [
        "pd.cut(x=heart_df['creatinine_phosphokinase'], bins=[-1000,10000]).value_counts()"
      ],
      "execution_count": null,
      "outputs": [
        {
          "output_type": "execute_result",
          "data": {
            "text/plain": [
              "(-1000, 10000]    299\n",
              "Name: creatinine_phosphokinase, dtype: int64"
            ]
          },
          "metadata": {
            "tags": []
          },
          "execution_count": 281
        }
      ]
    },
    {
      "cell_type": "code",
      "metadata": {
        "id": "MfcV2GTtwlF5",
        "colab_type": "code",
        "colab": {
          "base_uri": "https://localhost:8080/",
          "height": 51
        },
        "outputId": "6c768a42-b197-4353-b4ad-8b67a1e97d51"
      },
      "source": [
        "pd.cut(x=heart_df['ejection_fraction'], bins=[-1000,1000]).value_counts()"
      ],
      "execution_count": null,
      "outputs": [
        {
          "output_type": "execute_result",
          "data": {
            "text/plain": [
              "(-1000, 1000]    299\n",
              "Name: ejection_fraction, dtype: int64"
            ]
          },
          "metadata": {
            "tags": []
          },
          "execution_count": 282
        }
      ]
    },
    {
      "cell_type": "code",
      "metadata": {
        "id": "YELOQu1syRck",
        "colab_type": "code",
        "colab": {
          "base_uri": "https://localhost:8080/",
          "height": 51
        },
        "outputId": "5dc80a9d-6c30-4188-86c3-84e6827d0f3f"
      },
      "source": [
        "pd.cut(x=heart_df['platelets'], bins=[-100000,1000000]).value_counts()"
      ],
      "execution_count": null,
      "outputs": [
        {
          "output_type": "execute_result",
          "data": {
            "text/plain": [
              "(-100000, 1000000]    299\n",
              "Name: platelets, dtype: int64"
            ]
          },
          "metadata": {
            "tags": []
          },
          "execution_count": 283
        }
      ]
    },
    {
      "cell_type": "code",
      "metadata": {
        "id": "UkOzOxwn0mkU",
        "colab_type": "code",
        "colab": {
          "base_uri": "https://localhost:8080/",
          "height": 51
        },
        "outputId": "4d602218-1498-4faf-ce88-79af2d7549a0"
      },
      "source": [
        "pd.cut(x=heart_df['serum_creatinine'], bins=[-10,20]).value_counts()"
      ],
      "execution_count": null,
      "outputs": [
        {
          "output_type": "execute_result",
          "data": {
            "text/plain": [
              "(-10, 20]    299\n",
              "Name: serum_creatinine, dtype: int64"
            ]
          },
          "metadata": {
            "tags": []
          },
          "execution_count": 284
        }
      ]
    },
    {
      "cell_type": "code",
      "metadata": {
        "id": "8Fhn_Wzj1B5m",
        "colab_type": "code",
        "colab": {
          "base_uri": "https://localhost:8080/",
          "height": 51
        },
        "outputId": "754b1f91-c284-4ec3-96c9-3204a65a3876"
      },
      "source": [
        "pd.cut(x=heart_df['serum_sodium'], bins=[-1000,1000]).value_counts()"
      ],
      "execution_count": null,
      "outputs": [
        {
          "output_type": "execute_result",
          "data": {
            "text/plain": [
              "(-1000, 1000]    299\n",
              "Name: serum_sodium, dtype: int64"
            ]
          },
          "metadata": {
            "tags": []
          },
          "execution_count": 285
        }
      ]
    },
    {
      "cell_type": "code",
      "metadata": {
        "id": "pVnHk8L82CiF",
        "colab_type": "code",
        "colab": {
          "base_uri": "https://localhost:8080/",
          "height": 68
        },
        "outputId": "81c398f0-e850-4c8a-f22c-4d6fe0fcd2f9"
      },
      "source": [
        "pd.cut(x=heart_df['time'], bins=[-1000,0,1000]).value_counts()"
      ],
      "execution_count": null,
      "outputs": [
        {
          "output_type": "execute_result",
          "data": {
            "text/plain": [
              "(0, 1000]     299\n",
              "(-1000, 0]      0\n",
              "Name: time, dtype: int64"
            ]
          },
          "metadata": {
            "tags": []
          },
          "execution_count": 286
        }
      ]
    },
    {
      "cell_type": "markdown",
      "metadata": {
        "id": "XuyBy9hr5-h5",
        "colab_type": "text"
      },
      "source": [
        "We can clearly see time here is positive."
      ]
    },
    {
      "cell_type": "markdown",
      "metadata": {
        "id": "IQ7QHfnn2KUB",
        "colab_type": "text"
      },
      "source": [
        "Hence we can confirm there are no inconsistent values. \n",
        "\n"
      ]
    },
    {
      "cell_type": "markdown",
      "metadata": {
        "id": "ko2YWd6w2g6h",
        "colab_type": "text"
      },
      "source": [
        "#*1.4*\n"
      ]
    },
    {
      "cell_type": "markdown",
      "metadata": {
        "id": "KMPrMGp82vUu",
        "colab_type": "text"
      },
      "source": [
        "Non Categorical Independent Variable. = Numerical Variables (NUM)"
      ]
    },
    {
      "cell_type": "markdown",
      "metadata": {
        "id": "pcajqDEQ26PW",
        "colab_type": "text"
      },
      "source": [
        "We have to convert the NUM variables in the dataset have zero mean and unit variance. This process of conversion is sometimes referred to as standardization.\n",
        "\n",
        "\n",
        " ***standard score = (observed value-mean of the sample) / standard deviation of the sample***\n"
      ]
    },
    {
      "cell_type": "code",
      "metadata": {
        "id": "_RSEAkQPa6Di",
        "colab_type": "code",
        "colab": {}
      },
      "source": [
        "heart_df_NC = heart_df[['age','creatinine_phosphokinase','ejection_fraction','platelets','serum_creatinine','serum_sodium','time']]"
      ],
      "execution_count": null,
      "outputs": []
    },
    {
      "cell_type": "code",
      "metadata": {
        "id": "qhhBPzV7Xx6x",
        "colab_type": "code",
        "colab": {}
      },
      "source": [
        "avg = heart_df_NC.mean()"
      ],
      "execution_count": null,
      "outputs": []
    },
    {
      "cell_type": "code",
      "metadata": {
        "id": "x12AD-vdYAXJ",
        "colab_type": "code",
        "colab": {}
      },
      "source": [
        "stdv = heart_df_NC.std()"
      ],
      "execution_count": null,
      "outputs": []
    },
    {
      "cell_type": "code",
      "metadata": {
        "id": "tCDc3oaPYGGc",
        "colab_type": "code",
        "colab": {}
      },
      "source": [
        "standardized = (heart_df_NC - avg) / stdv"
      ],
      "execution_count": null,
      "outputs": []
    },
    {
      "cell_type": "code",
      "metadata": {
        "id": "ZABKXsMgYObm",
        "colab_type": "code",
        "colab": {
          "base_uri": "https://localhost:8080/",
          "height": 669
        },
        "outputId": "3dd2d3c0-1f0d-44bf-e726-3b59b831e329"
      },
      "source": [
        "standardized.head(20)"
      ],
      "execution_count": null,
      "outputs": [
        {
          "output_type": "execute_result",
          "data": {
            "text/html": [
              "<div>\n",
              "<style scoped>\n",
              "    .dataframe tbody tr th:only-of-type {\n",
              "        vertical-align: middle;\n",
              "    }\n",
              "\n",
              "    .dataframe tbody tr th {\n",
              "        vertical-align: top;\n",
              "    }\n",
              "\n",
              "    .dataframe thead th {\n",
              "        text-align: right;\n",
              "    }\n",
              "</style>\n",
              "<table border=\"1\" class=\"dataframe\">\n",
              "  <thead>\n",
              "    <tr style=\"text-align: right;\">\n",
              "      <th></th>\n",
              "      <th>age</th>\n",
              "      <th>creatinine_phosphokinase</th>\n",
              "      <th>ejection_fraction</th>\n",
              "      <th>platelets</th>\n",
              "      <th>serum_creatinine</th>\n",
              "      <th>serum_sodium</th>\n",
              "      <th>time</th>\n",
              "    </tr>\n",
              "  </thead>\n",
              "  <tbody>\n",
              "    <tr>\n",
              "      <th>0</th>\n",
              "      <td>1.190949</td>\n",
              "      <td>0.000165</td>\n",
              "      <td>-1.527998</td>\n",
              "      <td>1.678834e-02</td>\n",
              "      <td>0.489237</td>\n",
              "      <td>-1.501519</td>\n",
              "      <td>-1.626775</td>\n",
              "    </tr>\n",
              "    <tr>\n",
              "      <th>1</th>\n",
              "      <td>-0.490457</td>\n",
              "      <td>7.502063</td>\n",
              "      <td>-0.007065</td>\n",
              "      <td>7.523047e-09</td>\n",
              "      <td>-0.284076</td>\n",
              "      <td>-0.141739</td>\n",
              "      <td>-1.601007</td>\n",
              "    </tr>\n",
              "    <tr>\n",
              "      <th>2</th>\n",
              "      <td>0.350246</td>\n",
              "      <td>-0.449186</td>\n",
              "      <td>-1.527998</td>\n",
              "      <td>-1.036336e+00</td>\n",
              "      <td>-0.090748</td>\n",
              "      <td>-1.728149</td>\n",
              "      <td>-1.588122</td>\n",
              "    </tr>\n",
              "    <tr>\n",
              "      <th>3</th>\n",
              "      <td>-0.910808</td>\n",
              "      <td>-0.485257</td>\n",
              "      <td>-1.527998</td>\n",
              "      <td>-5.455595e-01</td>\n",
              "      <td>0.489237</td>\n",
              "      <td>0.084892</td>\n",
              "      <td>-1.588122</td>\n",
              "    </tr>\n",
              "    <tr>\n",
              "      <th>4</th>\n",
              "      <td>0.350246</td>\n",
              "      <td>-0.434757</td>\n",
              "      <td>-1.527998</td>\n",
              "      <td>6.507077e-01</td>\n",
              "      <td>1.262550</td>\n",
              "      <td>-4.674340</td>\n",
              "      <td>-1.575238</td>\n",
              "    </tr>\n",
              "    <tr>\n",
              "      <th>5</th>\n",
              "      <td>2.452003</td>\n",
              "      <td>-0.551217</td>\n",
              "      <td>0.161928</td>\n",
              "      <td>-6.069065e-01</td>\n",
              "      <td>0.682565</td>\n",
              "      <td>-1.048259</td>\n",
              "      <td>-1.575238</td>\n",
              "    </tr>\n",
              "    <tr>\n",
              "      <th>6</th>\n",
              "      <td>1.190949</td>\n",
              "      <td>-0.346124</td>\n",
              "      <td>-1.950479</td>\n",
              "      <td>-1.394193e+00</td>\n",
              "      <td>-0.187412</td>\n",
              "      <td>0.084892</td>\n",
              "      <td>-1.549470</td>\n",
              "    </tr>\n",
              "    <tr>\n",
              "      <th>7</th>\n",
              "      <td>-0.070106</td>\n",
              "      <td>-0.275011</td>\n",
              "      <td>1.851853</td>\n",
              "      <td>1.949220e+00</td>\n",
              "      <td>-0.284076</td>\n",
              "      <td>-1.274889</td>\n",
              "      <td>-1.549470</td>\n",
              "    </tr>\n",
              "    <tr>\n",
              "      <th>8</th>\n",
              "      <td>0.350246</td>\n",
              "      <td>-0.437849</td>\n",
              "      <td>2.274335</td>\n",
              "      <td>7.523047e-09</td>\n",
              "      <td>0.102580</td>\n",
              "      <td>0.311522</td>\n",
              "      <td>-1.549470</td>\n",
              "    </tr>\n",
              "    <tr>\n",
              "      <th>9</th>\n",
              "      <td>1.611300</td>\n",
              "      <td>-0.472890</td>\n",
              "      <td>-0.260554</td>\n",
              "      <td>1.274403e+00</td>\n",
              "      <td>7.739045</td>\n",
              "      <td>-0.821629</td>\n",
              "      <td>-1.549470</td>\n",
              "    </tr>\n",
              "    <tr>\n",
              "      <th>10</th>\n",
              "      <td>1.190949</td>\n",
              "      <td>-0.516176</td>\n",
              "      <td>-0.007065</td>\n",
              "      <td>1.069912e+00</td>\n",
              "      <td>2.519183</td>\n",
              "      <td>-1.274889</td>\n",
              "      <td>-1.549470</td>\n",
              "    </tr>\n",
              "    <tr>\n",
              "      <th>11</th>\n",
              "      <td>0.098035</td>\n",
              "      <td>-0.361583</td>\n",
              "      <td>-1.105517</td>\n",
              "      <td>-1.059057e-01</td>\n",
              "      <td>-0.477404</td>\n",
              "      <td>0.764782</td>\n",
              "      <td>-1.549470</td>\n",
              "    </tr>\n",
              "    <tr>\n",
              "      <th>12</th>\n",
              "      <td>-1.331160</td>\n",
              "      <td>0.411384</td>\n",
              "      <td>-0.683035</td>\n",
              "      <td>-1.302173e+00</td>\n",
              "      <td>-0.284076</td>\n",
              "      <td>0.084892</td>\n",
              "      <td>-1.536586</td>\n",
              "    </tr>\n",
              "    <tr>\n",
              "      <th>13</th>\n",
              "      <td>-0.910808</td>\n",
              "      <td>-0.426512</td>\n",
              "      <td>-0.007065</td>\n",
              "      <td>1.292579e-01</td>\n",
              "      <td>-0.284076</td>\n",
              "      <td>0.084892</td>\n",
              "      <td>-1.536586</td>\n",
              "    </tr>\n",
              "    <tr>\n",
              "      <th>14</th>\n",
              "      <td>-0.994879</td>\n",
              "      <td>-0.517207</td>\n",
              "      <td>-0.683035</td>\n",
              "      <td>1.673158e+00</td>\n",
              "      <td>-0.380740</td>\n",
              "      <td>0.311522</td>\n",
              "      <td>-1.523701</td>\n",
              "    </tr>\n",
              "    <tr>\n",
              "      <th>15</th>\n",
              "      <td>1.779441</td>\n",
              "      <td>-0.209051</td>\n",
              "      <td>1.006890</td>\n",
              "      <td>-2.212154e+00</td>\n",
              "      <td>-0.090748</td>\n",
              "      <td>-0.141739</td>\n",
              "      <td>-1.510817</td>\n",
              "    </tr>\n",
              "    <tr>\n",
              "      <th>16</th>\n",
              "      <td>2.199792</td>\n",
              "      <td>-0.446094</td>\n",
              "      <td>-0.007065</td>\n",
              "      <td>-1.388518e-02</td>\n",
              "      <td>-0.477404</td>\n",
              "      <td>0.764782</td>\n",
              "      <td>-1.497933</td>\n",
              "    </tr>\n",
              "    <tr>\n",
              "      <th>17</th>\n",
              "      <td>-1.331160</td>\n",
              "      <td>0.000165</td>\n",
              "      <td>-2.034976</td>\n",
              "      <td>-9.954377e-01</td>\n",
              "      <td>-0.574068</td>\n",
              "      <td>-2.181409</td>\n",
              "      <td>-1.497933</td>\n",
              "    </tr>\n",
              "    <tr>\n",
              "      <th>18</th>\n",
              "      <td>0.770597</td>\n",
              "      <td>-0.470829</td>\n",
              "      <td>-1.105517</td>\n",
              "      <td>-2.694978e-01</td>\n",
              "      <td>-0.380740</td>\n",
              "      <td>0.764782</td>\n",
              "      <td>-1.485049</td>\n",
              "    </tr>\n",
              "    <tr>\n",
              "      <th>19</th>\n",
              "      <td>-1.078949</td>\n",
              "      <td>0.000165</td>\n",
              "      <td>1.429372</td>\n",
              "      <td>-1.803174e+00</td>\n",
              "      <td>0.489237</td>\n",
              "      <td>-3.541189</td>\n",
              "      <td>-1.485049</td>\n",
              "    </tr>\n",
              "  </tbody>\n",
              "</table>\n",
              "</div>"
            ],
            "text/plain": [
              "         age  creatinine_phosphokinase  ...  serum_sodium      time\n",
              "0   1.190949                  0.000165  ...     -1.501519 -1.626775\n",
              "1  -0.490457                  7.502063  ...     -0.141739 -1.601007\n",
              "2   0.350246                 -0.449186  ...     -1.728149 -1.588122\n",
              "3  -0.910808                 -0.485257  ...      0.084892 -1.588122\n",
              "4   0.350246                 -0.434757  ...     -4.674340 -1.575238\n",
              "5   2.452003                 -0.551217  ...     -1.048259 -1.575238\n",
              "6   1.190949                 -0.346124  ...      0.084892 -1.549470\n",
              "7  -0.070106                 -0.275011  ...     -1.274889 -1.549470\n",
              "8   0.350246                 -0.437849  ...      0.311522 -1.549470\n",
              "9   1.611300                 -0.472890  ...     -0.821629 -1.549470\n",
              "10  1.190949                 -0.516176  ...     -1.274889 -1.549470\n",
              "11  0.098035                 -0.361583  ...      0.764782 -1.549470\n",
              "12 -1.331160                  0.411384  ...      0.084892 -1.536586\n",
              "13 -0.910808                 -0.426512  ...      0.084892 -1.536586\n",
              "14 -0.994879                 -0.517207  ...      0.311522 -1.523701\n",
              "15  1.779441                 -0.209051  ...     -0.141739 -1.510817\n",
              "16  2.199792                 -0.446094  ...      0.764782 -1.497933\n",
              "17 -1.331160                  0.000165  ...     -2.181409 -1.497933\n",
              "18  0.770597                 -0.470829  ...      0.764782 -1.485049\n",
              "19 -1.078949                  0.000165  ...     -3.541189 -1.485049\n",
              "\n",
              "[20 rows x 7 columns]"
            ]
          },
          "metadata": {
            "tags": []
          },
          "execution_count": 291
        }
      ]
    },
    {
      "cell_type": "code",
      "metadata": {
        "id": "TWjee-uXZtBZ",
        "colab_type": "code",
        "colab": {
          "base_uri": "https://localhost:8080/",
          "height": 153
        },
        "outputId": "869a0f3c-6c0a-4b4b-db65-6df63ace9946"
      },
      "source": [
        "standardized.mean()"
      ],
      "execution_count": null,
      "outputs": [
        {
          "output_type": "execute_result",
          "data": {
            "text/plain": [
              "age                         6.735601e-16\n",
              "creatinine_phosphokinase   -2.135044e-17\n",
              "ejection_fraction           4.752794e-17\n",
              "platelets                  -1.114679e-15\n",
              "serum_creatinine            4.026879e-16\n",
              "serum_sodium               -8.420429e-16\n",
              "time                       -6.052386e-16\n",
              "dtype: float64"
            ]
          },
          "metadata": {
            "tags": []
          },
          "execution_count": 292
        }
      ]
    },
    {
      "cell_type": "code",
      "metadata": {
        "id": "qcqYUFi-gUlJ",
        "colab_type": "code",
        "colab": {
          "base_uri": "https://localhost:8080/",
          "height": 153
        },
        "outputId": "161ffc9e-9955-4dd4-d349-0db4992ed5e1"
      },
      "source": [
        "standardized.var()"
      ],
      "execution_count": null,
      "outputs": [
        {
          "output_type": "execute_result",
          "data": {
            "text/plain": [
              "age                         1.0\n",
              "creatinine_phosphokinase    1.0\n",
              "ejection_fraction           1.0\n",
              "platelets                   1.0\n",
              "serum_creatinine            1.0\n",
              "serum_sodium                1.0\n",
              "time                        1.0\n",
              "dtype: float64"
            ]
          },
          "metadata": {
            "tags": []
          },
          "execution_count": 293
        }
      ]
    },
    {
      "cell_type": "markdown",
      "metadata": {
        "id": "2H4uKZtEf03h",
        "colab_type": "text"
      },
      "source": [
        "We can clearly see the mean is ~ 0 and the variance is 1 for all the non categorical columns."
      ]
    },
    {
      "cell_type": "markdown",
      "metadata": {
        "id": "Dyav86JaRJlX",
        "colab_type": "text"
      },
      "source": [
        "#*1.5*\n"
      ]
    },
    {
      "cell_type": "code",
      "metadata": {
        "id": "eCsI28414kas",
        "colab_type": "code",
        "colab": {}
      },
      "source": [
        "heart_df = heart_df.rename(columns = {\"DEATH_EVENT\": \"1\"})"
      ],
      "execution_count": 318,
      "outputs": []
    },
    {
      "cell_type": "code",
      "metadata": {
        "id": "VPv0iYfYDWvP",
        "colab_type": "code",
        "colab": {}
      },
      "source": [
        "heart_df[\"0\"] = heart_df[\"1\"].map(lambda x: 0 if x == 1 else (1))"
      ],
      "execution_count": 328,
      "outputs": []
    },
    {
      "cell_type": "code",
      "metadata": {
        "id": "LVIrXPk89CmY",
        "colab_type": "code",
        "colab": {
          "base_uri": "https://localhost:8080/",
          "height": 419
        },
        "outputId": "8bbd0bb2-bc3c-41ed-bf5a-dbde8718ef0e"
      },
      "source": [
        "heart_df.head(299)"
      ],
      "execution_count": 329,
      "outputs": [
        {
          "output_type": "execute_result",
          "data": {
            "text/html": [
              "<div>\n",
              "<style scoped>\n",
              "    .dataframe tbody tr th:only-of-type {\n",
              "        vertical-align: middle;\n",
              "    }\n",
              "\n",
              "    .dataframe tbody tr th {\n",
              "        vertical-align: top;\n",
              "    }\n",
              "\n",
              "    .dataframe thead th {\n",
              "        text-align: right;\n",
              "    }\n",
              "</style>\n",
              "<table border=\"1\" class=\"dataframe\">\n",
              "  <thead>\n",
              "    <tr style=\"text-align: right;\">\n",
              "      <th></th>\n",
              "      <th>age</th>\n",
              "      <th>anaemia</th>\n",
              "      <th>creatinine_phosphokinase</th>\n",
              "      <th>diabetes</th>\n",
              "      <th>ejection_fraction</th>\n",
              "      <th>high_blood_pressure</th>\n",
              "      <th>platelets</th>\n",
              "      <th>serum_creatinine</th>\n",
              "      <th>serum_sodium</th>\n",
              "      <th>sex</th>\n",
              "      <th>smoking</th>\n",
              "      <th>time</th>\n",
              "      <th>1</th>\n",
              "      <th>0</th>\n",
              "    </tr>\n",
              "  </thead>\n",
              "  <tbody>\n",
              "    <tr>\n",
              "      <th>0</th>\n",
              "      <td>75.0</td>\n",
              "      <td>0</td>\n",
              "      <td>582</td>\n",
              "      <td>0</td>\n",
              "      <td>20</td>\n",
              "      <td>1</td>\n",
              "      <td>265000.00</td>\n",
              "      <td>1.9</td>\n",
              "      <td>130</td>\n",
              "      <td>1</td>\n",
              "      <td>0</td>\n",
              "      <td>4</td>\n",
              "      <td>1</td>\n",
              "      <td>0</td>\n",
              "    </tr>\n",
              "    <tr>\n",
              "      <th>1</th>\n",
              "      <td>55.0</td>\n",
              "      <td>0</td>\n",
              "      <td>7861</td>\n",
              "      <td>0</td>\n",
              "      <td>38</td>\n",
              "      <td>0</td>\n",
              "      <td>263358.03</td>\n",
              "      <td>1.1</td>\n",
              "      <td>136</td>\n",
              "      <td>1</td>\n",
              "      <td>0</td>\n",
              "      <td>6</td>\n",
              "      <td>1</td>\n",
              "      <td>0</td>\n",
              "    </tr>\n",
              "    <tr>\n",
              "      <th>2</th>\n",
              "      <td>65.0</td>\n",
              "      <td>0</td>\n",
              "      <td>146</td>\n",
              "      <td>0</td>\n",
              "      <td>20</td>\n",
              "      <td>0</td>\n",
              "      <td>162000.00</td>\n",
              "      <td>1.3</td>\n",
              "      <td>129</td>\n",
              "      <td>1</td>\n",
              "      <td>1</td>\n",
              "      <td>7</td>\n",
              "      <td>1</td>\n",
              "      <td>0</td>\n",
              "    </tr>\n",
              "    <tr>\n",
              "      <th>3</th>\n",
              "      <td>50.0</td>\n",
              "      <td>1</td>\n",
              "      <td>111</td>\n",
              "      <td>0</td>\n",
              "      <td>20</td>\n",
              "      <td>0</td>\n",
              "      <td>210000.00</td>\n",
              "      <td>1.9</td>\n",
              "      <td>137</td>\n",
              "      <td>1</td>\n",
              "      <td>0</td>\n",
              "      <td>7</td>\n",
              "      <td>1</td>\n",
              "      <td>0</td>\n",
              "    </tr>\n",
              "    <tr>\n",
              "      <th>4</th>\n",
              "      <td>65.0</td>\n",
              "      <td>1</td>\n",
              "      <td>160</td>\n",
              "      <td>1</td>\n",
              "      <td>20</td>\n",
              "      <td>0</td>\n",
              "      <td>327000.00</td>\n",
              "      <td>2.7</td>\n",
              "      <td>116</td>\n",
              "      <td>0</td>\n",
              "      <td>0</td>\n",
              "      <td>8</td>\n",
              "      <td>1</td>\n",
              "      <td>0</td>\n",
              "    </tr>\n",
              "    <tr>\n",
              "      <th>...</th>\n",
              "      <td>...</td>\n",
              "      <td>...</td>\n",
              "      <td>...</td>\n",
              "      <td>...</td>\n",
              "      <td>...</td>\n",
              "      <td>...</td>\n",
              "      <td>...</td>\n",
              "      <td>...</td>\n",
              "      <td>...</td>\n",
              "      <td>...</td>\n",
              "      <td>...</td>\n",
              "      <td>...</td>\n",
              "      <td>...</td>\n",
              "      <td>...</td>\n",
              "    </tr>\n",
              "    <tr>\n",
              "      <th>294</th>\n",
              "      <td>62.0</td>\n",
              "      <td>0</td>\n",
              "      <td>61</td>\n",
              "      <td>1</td>\n",
              "      <td>38</td>\n",
              "      <td>1</td>\n",
              "      <td>155000.00</td>\n",
              "      <td>1.1</td>\n",
              "      <td>143</td>\n",
              "      <td>1</td>\n",
              "      <td>1</td>\n",
              "      <td>270</td>\n",
              "      <td>0</td>\n",
              "      <td>1</td>\n",
              "    </tr>\n",
              "    <tr>\n",
              "      <th>295</th>\n",
              "      <td>55.0</td>\n",
              "      <td>0</td>\n",
              "      <td>1820</td>\n",
              "      <td>0</td>\n",
              "      <td>38</td>\n",
              "      <td>0</td>\n",
              "      <td>270000.00</td>\n",
              "      <td>1.2</td>\n",
              "      <td>139</td>\n",
              "      <td>0</td>\n",
              "      <td>0</td>\n",
              "      <td>271</td>\n",
              "      <td>0</td>\n",
              "      <td>1</td>\n",
              "    </tr>\n",
              "    <tr>\n",
              "      <th>296</th>\n",
              "      <td>45.0</td>\n",
              "      <td>0</td>\n",
              "      <td>2060</td>\n",
              "      <td>1</td>\n",
              "      <td>60</td>\n",
              "      <td>0</td>\n",
              "      <td>742000.00</td>\n",
              "      <td>0.8</td>\n",
              "      <td>138</td>\n",
              "      <td>0</td>\n",
              "      <td>0</td>\n",
              "      <td>278</td>\n",
              "      <td>0</td>\n",
              "      <td>1</td>\n",
              "    </tr>\n",
              "    <tr>\n",
              "      <th>297</th>\n",
              "      <td>45.0</td>\n",
              "      <td>0</td>\n",
              "      <td>2413</td>\n",
              "      <td>0</td>\n",
              "      <td>38</td>\n",
              "      <td>0</td>\n",
              "      <td>140000.00</td>\n",
              "      <td>1.4</td>\n",
              "      <td>140</td>\n",
              "      <td>1</td>\n",
              "      <td>1</td>\n",
              "      <td>280</td>\n",
              "      <td>0</td>\n",
              "      <td>1</td>\n",
              "    </tr>\n",
              "    <tr>\n",
              "      <th>298</th>\n",
              "      <td>50.0</td>\n",
              "      <td>0</td>\n",
              "      <td>196</td>\n",
              "      <td>0</td>\n",
              "      <td>45</td>\n",
              "      <td>0</td>\n",
              "      <td>395000.00</td>\n",
              "      <td>1.6</td>\n",
              "      <td>136</td>\n",
              "      <td>1</td>\n",
              "      <td>1</td>\n",
              "      <td>285</td>\n",
              "      <td>0</td>\n",
              "      <td>1</td>\n",
              "    </tr>\n",
              "  </tbody>\n",
              "</table>\n",
              "<p>299 rows × 14 columns</p>\n",
              "</div>"
            ],
            "text/plain": [
              "      age  anaemia  creatinine_phosphokinase  diabetes  ...  smoking  time  1  0\n",
              "0    75.0        0                       582         0  ...        0     4  1  0\n",
              "1    55.0        0                      7861         0  ...        0     6  1  0\n",
              "2    65.0        0                       146         0  ...        1     7  1  0\n",
              "3    50.0        1                       111         0  ...        0     7  1  0\n",
              "4    65.0        1                       160         1  ...        0     8  1  0\n",
              "..    ...      ...                       ...       ...  ...      ...   ... .. ..\n",
              "294  62.0        0                        61         1  ...        1   270  0  1\n",
              "295  55.0        0                      1820         0  ...        0   271  0  1\n",
              "296  45.0        0                      2060         1  ...        0   278  0  1\n",
              "297  45.0        0                      2413         0  ...        1   280  0  1\n",
              "298  50.0        0                       196         0  ...        1   285  0  1\n",
              "\n",
              "[299 rows x 14 columns]"
            ]
          },
          "metadata": {
            "tags": []
          },
          "execution_count": 329
        }
      ]
    },
    {
      "cell_type": "code",
      "metadata": {
        "id": "LHeJfkZZC3yt",
        "colab_type": "code",
        "colab": {}
      },
      "source": [
        "from google.colab import files\n",
        "heart_df.to_csv('heart_failure_dataset_processed.csv') \n",
        "files.download('heart_failure_dataset_processed.csv')"
      ],
      "execution_count": null,
      "outputs": []
    }
  ]
}