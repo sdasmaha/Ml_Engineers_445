{
  "nbformat": 4,
  "nbformat_minor": 0,
  "metadata": {
    "colab": {
      "name": "Diabetes_Notebook-Exercise1.ipynb",
      "provenance": [],
      "collapsed_sections": [],
      "include_colab_link": true
    },
    "kernelspec": {
      "name": "python3",
      "display_name": "Python 3"
    }
  },
  "cells": [
    {
      "cell_type": "markdown",
      "metadata": {
        "id": "view-in-github",
        "colab_type": "text"
      },
      "source": [
        "<a href=\"https://colab.research.google.com/github/sdasmaha/Ml_Engineers_445/blob/master/Diabetes_Notebook_Exercise1.ipynb\" target=\"_parent\"><img src=\"https://colab.research.google.com/assets/colab-badge.svg\" alt=\"Open In Colab\"/></a>"
      ]
    },
    {
      "cell_type": "markdown",
      "metadata": {
        "id": "LQi94-5Uqs6R",
        "colab_type": "text"
      },
      "source": [
        " Notebook Excercise #1 Part2 \n",
        " SRINJOY DASMAHAPATRA\n",
        "\n",
        " IDE => Google Colab\n"
      ]
    },
    {
      "cell_type": "markdown",
      "metadata": {
        "id": "xjYWNI3orKzA",
        "colab_type": "text"
      },
      "source": [
        "#Importing Libraries"
      ]
    },
    {
      "cell_type": "code",
      "metadata": {
        "id": "aRD6VuKBqsel",
        "colab_type": "code",
        "colab": {}
      },
      "source": [
        "import numpy as np\n",
        "import pandas as pd"
      ],
      "execution_count": 815,
      "outputs": []
    },
    {
      "cell_type": "markdown",
      "metadata": {
        "id": "V4FpKOqnF0Fy",
        "colab_type": "text"
      },
      "source": [
        "#Mounting the Google Drive\n"
      ]
    },
    {
      "cell_type": "code",
      "metadata": {
        "id": "jKfwq09KF977",
        "colab_type": "code",
        "colab": {
          "base_uri": "https://localhost:8080/",
          "height": 54
        },
        "outputId": "1a41c06c-9f64-41df-ca79-37620c321c05"
      },
      "source": [
        "from google.colab import drive\n",
        "drive.mount(\"/content/gdrive\")"
      ],
      "execution_count": 816,
      "outputs": [
        {
          "output_type": "stream",
          "text": [
            "Drive already mounted at /content/gdrive; to attempt to forcibly remount, call drive.mount(\"/content/gdrive\", force_remount=True).\n"
          ],
          "name": "stdout"
        }
      ]
    },
    {
      "cell_type": "markdown",
      "metadata": {
        "id": "CzeJwajrsQc5",
        "colab_type": "text"
      },
      "source": [
        "\n",
        "#Loading the Dataset\n"
      ]
    },
    {
      "cell_type": "code",
      "metadata": {
        "id": "2wKaXqU7qrt_",
        "colab_type": "code",
        "colab": {}
      },
      "source": [
        "diabetes_df = pd.read_csv('/content/gdrive/My Drive/Colab Notebooks/BAJWA-ML/diabetes_dataset.csv')"
      ],
      "execution_count": 817,
      "outputs": []
    },
    {
      "cell_type": "markdown",
      "metadata": {
        "id": "z24zycllc9PF",
        "colab_type": "text"
      },
      "source": [
        "# *2.1*"
      ]
    },
    {
      "cell_type": "markdown",
      "metadata": {
        "id": "eCZDy5hUdFwL",
        "colab_type": "text"
      },
      "source": [
        "**A**"
      ]
    },
    {
      "cell_type": "code",
      "metadata": {
        "id": "-pUQ367OcCt7",
        "colab_type": "code",
        "colab": {
          "base_uri": "https://localhost:8080/",
          "height": 34
        },
        "outputId": "f574728f-7b03-4553-9330-5422efa36159"
      },
      "source": [
        "print(diabetes_df.shape) "
      ],
      "execution_count": 818,
      "outputs": [
        {
          "output_type": "stream",
          "text": [
            "(768, 9)\n"
          ],
          "name": "stdout"
        }
      ]
    },
    {
      "cell_type": "code",
      "metadata": {
        "id": "Psh8ofBwcLeu",
        "colab_type": "code",
        "colab": {
          "base_uri": "https://localhost:8080/",
          "height": 88
        },
        "outputId": "20f8b32a-96ae-4517-b5ad-2e717e7d5627"
      },
      "source": [
        "print(diabetes_df.axes)"
      ],
      "execution_count": 819,
      "outputs": [
        {
          "output_type": "stream",
          "text": [
            "[RangeIndex(start=0, stop=768, step=1), Index(['Pregnancies', 'Glucose', 'BloodPressure', 'SkinThickness', 'Insulin',\n",
            "       'BMI', 'DiabetesPedigreeFunction', 'Age', 'Outcome'],\n",
            "      dtype='object')]\n"
          ],
          "name": "stdout"
        }
      ]
    },
    {
      "cell_type": "code",
      "metadata": {
        "id": "SD2aNZxRcTKM",
        "colab_type": "code",
        "colab": {
          "base_uri": "https://localhost:8080/",
          "height": 187
        },
        "outputId": "44cf3904-a7da-474a-828f-5f4e1c15cdbd"
      },
      "source": [
        "print(diabetes_df.dtypes)"
      ],
      "execution_count": 820,
      "outputs": [
        {
          "output_type": "stream",
          "text": [
            "Pregnancies                   int64\n",
            "Glucose                       int64\n",
            "BloodPressure                 int64\n",
            "SkinThickness                 int64\n",
            "Insulin                       int64\n",
            "BMI                         float64\n",
            "DiabetesPedigreeFunction    float64\n",
            "Age                           int64\n",
            "Outcome                       int64\n",
            "dtype: object\n"
          ],
          "name": "stdout"
        }
      ]
    },
    {
      "cell_type": "markdown",
      "metadata": {
        "id": "e2vnCWSGdhsK",
        "colab_type": "text"
      },
      "source": [
        "**B**"
      ]
    },
    {
      "cell_type": "code",
      "metadata": {
        "id": "mdUY3ufAeKu4",
        "colab_type": "code",
        "colab": {
          "base_uri": "https://localhost:8080/",
          "height": 379
        },
        "outputId": "1e720b17-f7b7-47ed-ce93-ccc5ded38884"
      },
      "source": [
        "diabetes_df.head(10)"
      ],
      "execution_count": 821,
      "outputs": [
        {
          "output_type": "execute_result",
          "data": {
            "text/html": [
              "<div>\n",
              "<style scoped>\n",
              "    .dataframe tbody tr th:only-of-type {\n",
              "        vertical-align: middle;\n",
              "    }\n",
              "\n",
              "    .dataframe tbody tr th {\n",
              "        vertical-align: top;\n",
              "    }\n",
              "\n",
              "    .dataframe thead th {\n",
              "        text-align: right;\n",
              "    }\n",
              "</style>\n",
              "<table border=\"1\" class=\"dataframe\">\n",
              "  <thead>\n",
              "    <tr style=\"text-align: right;\">\n",
              "      <th></th>\n",
              "      <th>Pregnancies</th>\n",
              "      <th>Glucose</th>\n",
              "      <th>BloodPressure</th>\n",
              "      <th>SkinThickness</th>\n",
              "      <th>Insulin</th>\n",
              "      <th>BMI</th>\n",
              "      <th>DiabetesPedigreeFunction</th>\n",
              "      <th>Age</th>\n",
              "      <th>Outcome</th>\n",
              "    </tr>\n",
              "  </thead>\n",
              "  <tbody>\n",
              "    <tr>\n",
              "      <th>0</th>\n",
              "      <td>6</td>\n",
              "      <td>148</td>\n",
              "      <td>72</td>\n",
              "      <td>35</td>\n",
              "      <td>0</td>\n",
              "      <td>33.6</td>\n",
              "      <td>0.627</td>\n",
              "      <td>50</td>\n",
              "      <td>1</td>\n",
              "    </tr>\n",
              "    <tr>\n",
              "      <th>1</th>\n",
              "      <td>1</td>\n",
              "      <td>85</td>\n",
              "      <td>66</td>\n",
              "      <td>29</td>\n",
              "      <td>0</td>\n",
              "      <td>26.6</td>\n",
              "      <td>0.351</td>\n",
              "      <td>31</td>\n",
              "      <td>0</td>\n",
              "    </tr>\n",
              "    <tr>\n",
              "      <th>2</th>\n",
              "      <td>8</td>\n",
              "      <td>183</td>\n",
              "      <td>64</td>\n",
              "      <td>0</td>\n",
              "      <td>0</td>\n",
              "      <td>23.3</td>\n",
              "      <td>0.672</td>\n",
              "      <td>32</td>\n",
              "      <td>1</td>\n",
              "    </tr>\n",
              "    <tr>\n",
              "      <th>3</th>\n",
              "      <td>1</td>\n",
              "      <td>89</td>\n",
              "      <td>66</td>\n",
              "      <td>23</td>\n",
              "      <td>94</td>\n",
              "      <td>28.1</td>\n",
              "      <td>0.167</td>\n",
              "      <td>21</td>\n",
              "      <td>0</td>\n",
              "    </tr>\n",
              "    <tr>\n",
              "      <th>4</th>\n",
              "      <td>0</td>\n",
              "      <td>137</td>\n",
              "      <td>40</td>\n",
              "      <td>35</td>\n",
              "      <td>168</td>\n",
              "      <td>43.1</td>\n",
              "      <td>2.288</td>\n",
              "      <td>33</td>\n",
              "      <td>1</td>\n",
              "    </tr>\n",
              "    <tr>\n",
              "      <th>5</th>\n",
              "      <td>5</td>\n",
              "      <td>116</td>\n",
              "      <td>74</td>\n",
              "      <td>0</td>\n",
              "      <td>0</td>\n",
              "      <td>25.6</td>\n",
              "      <td>0.201</td>\n",
              "      <td>30</td>\n",
              "      <td>0</td>\n",
              "    </tr>\n",
              "    <tr>\n",
              "      <th>6</th>\n",
              "      <td>3</td>\n",
              "      <td>78</td>\n",
              "      <td>50</td>\n",
              "      <td>32</td>\n",
              "      <td>88</td>\n",
              "      <td>31.0</td>\n",
              "      <td>0.248</td>\n",
              "      <td>26</td>\n",
              "      <td>1</td>\n",
              "    </tr>\n",
              "    <tr>\n",
              "      <th>7</th>\n",
              "      <td>10</td>\n",
              "      <td>115</td>\n",
              "      <td>0</td>\n",
              "      <td>0</td>\n",
              "      <td>0</td>\n",
              "      <td>35.3</td>\n",
              "      <td>0.134</td>\n",
              "      <td>29</td>\n",
              "      <td>0</td>\n",
              "    </tr>\n",
              "    <tr>\n",
              "      <th>8</th>\n",
              "      <td>2</td>\n",
              "      <td>197</td>\n",
              "      <td>70</td>\n",
              "      <td>45</td>\n",
              "      <td>543</td>\n",
              "      <td>30.5</td>\n",
              "      <td>0.158</td>\n",
              "      <td>53</td>\n",
              "      <td>1</td>\n",
              "    </tr>\n",
              "    <tr>\n",
              "      <th>9</th>\n",
              "      <td>8</td>\n",
              "      <td>125</td>\n",
              "      <td>96</td>\n",
              "      <td>0</td>\n",
              "      <td>0</td>\n",
              "      <td>0.0</td>\n",
              "      <td>0.232</td>\n",
              "      <td>54</td>\n",
              "      <td>1</td>\n",
              "    </tr>\n",
              "  </tbody>\n",
              "</table>\n",
              "</div>"
            ],
            "text/plain": [
              "   Pregnancies  Glucose  BloodPressure  ...  DiabetesPedigreeFunction  Age  Outcome\n",
              "0            6      148             72  ...                     0.627   50        1\n",
              "1            1       85             66  ...                     0.351   31        0\n",
              "2            8      183             64  ...                     0.672   32        1\n",
              "3            1       89             66  ...                     0.167   21        0\n",
              "4            0      137             40  ...                     2.288   33        1\n",
              "5            5      116             74  ...                     0.201   30        0\n",
              "6            3       78             50  ...                     0.248   26        1\n",
              "7           10      115              0  ...                     0.134   29        0\n",
              "8            2      197             70  ...                     0.158   53        1\n",
              "9            8      125             96  ...                     0.232   54        1\n",
              "\n",
              "[10 rows x 9 columns]"
            ]
          },
          "metadata": {
            "tags": []
          },
          "execution_count": 821
        }
      ]
    },
    {
      "cell_type": "markdown",
      "metadata": {
        "id": "AU8U5FTYkNU5",
        "colab_type": "text"
      },
      "source": [
        "**C**    Based on the knowledge of the dataset and its stated usage, we are dealing with supervised problem. \n",
        "\n",
        "Since in a supervised learning model, the algorithm learns on a labeled dataset, providing an answer key that the algorithm can use to evaluate its accuaracy on training data. \n",
        "\n",
        "On the contrary the unsupervised model works on unlabeled data that the algorithm tries to make sense of by extracting features and patterns on its own.\n"
      ]
    },
    {
      "cell_type": "markdown",
      "metadata": {
        "id": "B-TcQa5dscY8",
        "colab_type": "text"
      },
      "source": [
        "**D** The independent variables in this case are  labels- \n",
        "\n",
        "1. Pregnancies\t\n",
        "2. Glucose\n",
        "3. BloodPressure\n",
        "4. SkinThickness\n",
        "5. Insulin\n",
        "6. BMI\n",
        "7. DiabetesPedigreeFunction\n",
        "8. Age\n",
        "\n",
        "\n",
        "\n",
        "\n",
        "This is so because these variable/labels embedded in the algorithm \n",
        "increase or decrease the probability/likhehood of the event\n",
        "\"*Outcome*\".\n"
      ]
    },
    {
      "cell_type": "markdown",
      "metadata": {
        "id": "YqVoIFcjyqiF",
        "colab_type": "text"
      },
      "source": [
        "**E** The dependent variable in this case is the label *Outcome* since it is the conclusive/final event or variable that predicts the likelihood of the occurence of diabetes."
      ]
    },
    {
      "cell_type": "markdown",
      "metadata": {
        "id": "4Facn46b0yn5",
        "colab_type": "text"
      },
      "source": [
        "**F** Here the categorical variables are - *\n",
        "\n",
        "1.  Outcome\n",
        "\n",
        "\n",
        "\n",
        "This is so because a categorical variable is a variable that can take on one of a limited, and usually fixed, number of possible values, assigning each individual or other unit of observation to a particular group or nominal category on the basis of some qualitative property.\n",
        "\n"
      ]
    },
    {
      "cell_type": "markdown",
      "metadata": {
        "id": "Wx0w1iso4iF4",
        "colab_type": "text"
      },
      "source": [
        "**G** The categorical variables follow *Label Encoding* where each label is mapped to a unique quantitative value.\n",
        "\n"
      ]
    },
    {
      "cell_type": "markdown",
      "metadata": {
        "id": "4GM6NXU3iwyN",
        "colab_type": "text"
      },
      "source": [
        "**H**"
      ]
    },
    {
      "cell_type": "code",
      "metadata": {
        "id": "RtxAEc8UzTTB",
        "colab_type": "code",
        "colab": {
          "base_uri": "https://localhost:8080/",
          "height": 85
        },
        "outputId": "f703377d-1d2e-4d9b-a96d-52c4fde37d34"
      },
      "source": [
        "pd.cut(x=diabetes_df['Age'], bins=[21, 40, 60, 110]).value_counts()"
      ],
      "execution_count": 822,
      "outputs": [
        {
          "output_type": "execute_result",
          "data": {
            "text/plain": [
              "(21, 40]     511\n",
              "(40, 60]     167\n",
              "(60, 110]     27\n",
              "Name: Age, dtype: int64"
            ]
          },
          "metadata": {
            "tags": []
          },
          "execution_count": 822
        }
      ]
    },
    {
      "cell_type": "markdown",
      "metadata": {
        "id": "YfcoiijH4Tha",
        "colab_type": "text"
      },
      "source": [
        "Young Adults : 511 samples\n",
        "\n",
        "1.   Young Adults : 511 samples\n",
        "2.   Middle-ages Adults : 167 samples\n",
        "3.   Old-aged Adults: 27\n",
        "\n"
      ]
    },
    {
      "cell_type": "code",
      "metadata": {
        "id": "GMDQOYhfCH7L",
        "colab_type": "code",
        "colab": {
          "base_uri": "https://localhost:8080/",
          "height": 187
        },
        "outputId": "922ca3ed-8b38-424e-880a-680a12f9d51c"
      },
      "source": [
        "diabetes_df.dtypes"
      ],
      "execution_count": 823,
      "outputs": [
        {
          "output_type": "execute_result",
          "data": {
            "text/plain": [
              "Pregnancies                   int64\n",
              "Glucose                       int64\n",
              "BloodPressure                 int64\n",
              "SkinThickness                 int64\n",
              "Insulin                       int64\n",
              "BMI                         float64\n",
              "DiabetesPedigreeFunction    float64\n",
              "Age                           int64\n",
              "Outcome                       int64\n",
              "dtype: object"
            ]
          },
          "metadata": {
            "tags": []
          },
          "execution_count": 823
        }
      ]
    },
    {
      "cell_type": "markdown",
      "metadata": {
        "id": "y000MBcqvrZy",
        "colab_type": "text"
      },
      "source": [
        "# *2.2*"
      ]
    },
    {
      "cell_type": "code",
      "metadata": {
        "id": "Z34CCNnJwMDf",
        "colab_type": "code",
        "colab": {
          "base_uri": "https://localhost:8080/",
          "height": 187
        },
        "outputId": "d32d4048-32ad-4442-c468-fe94913c3db9"
      },
      "source": [
        "diabetes_df.isnull().sum()"
      ],
      "execution_count": 824,
      "outputs": [
        {
          "output_type": "execute_result",
          "data": {
            "text/plain": [
              "Pregnancies                 0\n",
              "Glucose                     0\n",
              "BloodPressure               0\n",
              "SkinThickness               0\n",
              "Insulin                     0\n",
              "BMI                         0\n",
              "DiabetesPedigreeFunction    0\n",
              "Age                         0\n",
              "Outcome                     0\n",
              "dtype: int64"
            ]
          },
          "metadata": {
            "tags": []
          },
          "execution_count": 824
        }
      ]
    },
    {
      "cell_type": "markdown",
      "metadata": {
        "id": "HfXO10bt95ec",
        "colab_type": "text"
      },
      "source": [
        "We can clearly see that we have no missing values."
      ]
    },
    {
      "cell_type": "code",
      "metadata": {
        "id": "zxotDMNA7aln",
        "colab_type": "code",
        "colab": {
          "base_uri": "https://localhost:8080/",
          "height": 51
        },
        "outputId": "d333c9ee-163b-4f34-da19-df17ad4dcd10"
      },
      "source": [
        "diabetes_df['Pregnancies'].where(diabetes_df['Pregnancies'] == 0).value_counts()"
      ],
      "execution_count": 825,
      "outputs": [
        {
          "output_type": "execute_result",
          "data": {
            "text/plain": [
              "0.0    111\n",
              "Name: Pregnancies, dtype: int64"
            ]
          },
          "metadata": {
            "tags": []
          },
          "execution_count": 825
        }
      ]
    },
    {
      "cell_type": "code",
      "metadata": {
        "id": "B4GEKetr7mzh",
        "colab_type": "code",
        "colab": {
          "base_uri": "https://localhost:8080/",
          "height": 51
        },
        "outputId": "6dc04532-d6eb-459f-9304-a6daae2a7695"
      },
      "source": [
        "diabetes_df['Glucose'].where(diabetes_df['Glucose'] == 0).value_counts()\n"
      ],
      "execution_count": 826,
      "outputs": [
        {
          "output_type": "execute_result",
          "data": {
            "text/plain": [
              "0.0    5\n",
              "Name: Glucose, dtype: int64"
            ]
          },
          "metadata": {
            "tags": []
          },
          "execution_count": 826
        }
      ]
    },
    {
      "cell_type": "code",
      "metadata": {
        "id": "9QsiltS67pgF",
        "colab_type": "code",
        "colab": {
          "base_uri": "https://localhost:8080/",
          "height": 51
        },
        "outputId": "2ae18868-fef9-42a5-97d5-d18495c7d198"
      },
      "source": [
        "diabetes_df['BloodPressure'].where(diabetes_df['BloodPressure'] == 0).value_counts()\n"
      ],
      "execution_count": 827,
      "outputs": [
        {
          "output_type": "execute_result",
          "data": {
            "text/plain": [
              "0.0    35\n",
              "Name: BloodPressure, dtype: int64"
            ]
          },
          "metadata": {
            "tags": []
          },
          "execution_count": 827
        }
      ]
    },
    {
      "cell_type": "code",
      "metadata": {
        "id": "2bxyzWYX-PF3",
        "colab_type": "code",
        "colab": {
          "base_uri": "https://localhost:8080/",
          "height": 51
        },
        "outputId": "6211722f-8f2a-4277-e51e-26c263795262"
      },
      "source": [
        "diabetes_df['SkinThickness'].where(diabetes_df['SkinThickness'] == 0).value_counts()\n"
      ],
      "execution_count": 828,
      "outputs": [
        {
          "output_type": "execute_result",
          "data": {
            "text/plain": [
              "0.0    227\n",
              "Name: SkinThickness, dtype: int64"
            ]
          },
          "metadata": {
            "tags": []
          },
          "execution_count": 828
        }
      ]
    },
    {
      "cell_type": "code",
      "metadata": {
        "id": "4Besn0x_-R_s",
        "colab_type": "code",
        "colab": {
          "base_uri": "https://localhost:8080/",
          "height": 51
        },
        "outputId": "0a1af7f1-ecd9-455d-b6f1-175800e5d7b7"
      },
      "source": [
        "diabetes_df['Insulin'].where(diabetes_df['Insulin'] == 0).value_counts()"
      ],
      "execution_count": 829,
      "outputs": [
        {
          "output_type": "execute_result",
          "data": {
            "text/plain": [
              "0.0    374\n",
              "Name: Insulin, dtype: int64"
            ]
          },
          "metadata": {
            "tags": []
          },
          "execution_count": 829
        }
      ]
    },
    {
      "cell_type": "code",
      "metadata": {
        "id": "31dkhzQs-kRp",
        "colab_type": "code",
        "colab": {
          "base_uri": "https://localhost:8080/",
          "height": 51
        },
        "outputId": "3232bdb3-c2bc-47d4-a7fa-2e016b5ccd33"
      },
      "source": [
        "diabetes_df['BMI'].where(diabetes_df['BMI'] == 0).value_counts()\n"
      ],
      "execution_count": 830,
      "outputs": [
        {
          "output_type": "execute_result",
          "data": {
            "text/plain": [
              "0.0    11\n",
              "Name: BMI, dtype: int64"
            ]
          },
          "metadata": {
            "tags": []
          },
          "execution_count": 830
        }
      ]
    },
    {
      "cell_type": "code",
      "metadata": {
        "id": "l7MORyn5-1QQ",
        "colab_type": "code",
        "colab": {
          "base_uri": "https://localhost:8080/",
          "height": 34
        },
        "outputId": "da0ba0d9-47a0-4085-c298-e25b55009fac"
      },
      "source": [
        "diabetes_df['DiabetesPedigreeFunction'].where(diabetes_df['DiabetesPedigreeFunction'] == 0).value_counts()\n"
      ],
      "execution_count": 831,
      "outputs": [
        {
          "output_type": "execute_result",
          "data": {
            "text/plain": [
              "Series([], Name: DiabetesPedigreeFunction, dtype: int64)"
            ]
          },
          "metadata": {
            "tags": []
          },
          "execution_count": 831
        }
      ]
    },
    {
      "cell_type": "code",
      "metadata": {
        "id": "eZAQvAe0-4lp",
        "colab_type": "code",
        "colab": {
          "base_uri": "https://localhost:8080/",
          "height": 34
        },
        "outputId": "a80298de-1d2d-4a86-8d75-e1c2f5ce8161"
      },
      "source": [
        "diabetes_df['Age'].where(diabetes_df['Age'] < 0).value_counts()\n"
      ],
      "execution_count": 832,
      "outputs": [
        {
          "output_type": "execute_result",
          "data": {
            "text/plain": [
              "Series([], Name: Age, dtype: int64)"
            ]
          },
          "metadata": {
            "tags": []
          },
          "execution_count": 832
        }
      ]
    },
    {
      "cell_type": "markdown",
      "metadata": {
        "id": "qS6U02cZ6pAm",
        "colab_type": "text"
      },
      "source": [
        "We can Clearly See we have so many values that correspond to numeric 0 which makes the dataset inconsistent."
      ]
    },
    {
      "cell_type": "markdown",
      "metadata": {
        "id": "sLWrz_MZNPTd",
        "colab_type": "text"
      },
      "source": [
        "Now converting the inconsistent(O numeric)values with NaN."
      ]
    },
    {
      "cell_type": "code",
      "metadata": {
        "id": "9Q-s2oUQJ-3K",
        "colab_type": "code",
        "colab": {
          "base_uri": "https://localhost:8080/",
          "height": 689
        },
        "outputId": "47dffc0a-ecef-4159-db1f-73310cc7bd78"
      },
      "source": [
        "diabetes_df['Glucose'].replace(0, np.NAN, inplace = True)\n",
        "diabetes_df['BloodPressure'].replace(0, np.NAN, inplace=True)\n",
        "diabetes_df['SkinThickness'].replace(0, np.NAN, inplace=True)\n",
        "diabetes_df['Insulin'].replace(0, np.NAN, inplace=True)\n",
        "diabetes_df['BMI'].replace(0, np.NAN, inplace=True)\n",
        "diabetes_df['Age'].replace(0, np.NAN, inplace=True)\n",
        "diabetes_df.head(20)\n"
      ],
      "execution_count": 833,
      "outputs": [
        {
          "output_type": "execute_result",
          "data": {
            "text/html": [
              "<div>\n",
              "<style scoped>\n",
              "    .dataframe tbody tr th:only-of-type {\n",
              "        vertical-align: middle;\n",
              "    }\n",
              "\n",
              "    .dataframe tbody tr th {\n",
              "        vertical-align: top;\n",
              "    }\n",
              "\n",
              "    .dataframe thead th {\n",
              "        text-align: right;\n",
              "    }\n",
              "</style>\n",
              "<table border=\"1\" class=\"dataframe\">\n",
              "  <thead>\n",
              "    <tr style=\"text-align: right;\">\n",
              "      <th></th>\n",
              "      <th>Pregnancies</th>\n",
              "      <th>Glucose</th>\n",
              "      <th>BloodPressure</th>\n",
              "      <th>SkinThickness</th>\n",
              "      <th>Insulin</th>\n",
              "      <th>BMI</th>\n",
              "      <th>DiabetesPedigreeFunction</th>\n",
              "      <th>Age</th>\n",
              "      <th>Outcome</th>\n",
              "    </tr>\n",
              "  </thead>\n",
              "  <tbody>\n",
              "    <tr>\n",
              "      <th>0</th>\n",
              "      <td>6</td>\n",
              "      <td>148.0</td>\n",
              "      <td>72.0</td>\n",
              "      <td>35.0</td>\n",
              "      <td>NaN</td>\n",
              "      <td>33.6</td>\n",
              "      <td>0.627</td>\n",
              "      <td>50</td>\n",
              "      <td>1</td>\n",
              "    </tr>\n",
              "    <tr>\n",
              "      <th>1</th>\n",
              "      <td>1</td>\n",
              "      <td>85.0</td>\n",
              "      <td>66.0</td>\n",
              "      <td>29.0</td>\n",
              "      <td>NaN</td>\n",
              "      <td>26.6</td>\n",
              "      <td>0.351</td>\n",
              "      <td>31</td>\n",
              "      <td>0</td>\n",
              "    </tr>\n",
              "    <tr>\n",
              "      <th>2</th>\n",
              "      <td>8</td>\n",
              "      <td>183.0</td>\n",
              "      <td>64.0</td>\n",
              "      <td>NaN</td>\n",
              "      <td>NaN</td>\n",
              "      <td>23.3</td>\n",
              "      <td>0.672</td>\n",
              "      <td>32</td>\n",
              "      <td>1</td>\n",
              "    </tr>\n",
              "    <tr>\n",
              "      <th>3</th>\n",
              "      <td>1</td>\n",
              "      <td>89.0</td>\n",
              "      <td>66.0</td>\n",
              "      <td>23.0</td>\n",
              "      <td>94.0</td>\n",
              "      <td>28.1</td>\n",
              "      <td>0.167</td>\n",
              "      <td>21</td>\n",
              "      <td>0</td>\n",
              "    </tr>\n",
              "    <tr>\n",
              "      <th>4</th>\n",
              "      <td>0</td>\n",
              "      <td>137.0</td>\n",
              "      <td>40.0</td>\n",
              "      <td>35.0</td>\n",
              "      <td>168.0</td>\n",
              "      <td>43.1</td>\n",
              "      <td>2.288</td>\n",
              "      <td>33</td>\n",
              "      <td>1</td>\n",
              "    </tr>\n",
              "    <tr>\n",
              "      <th>5</th>\n",
              "      <td>5</td>\n",
              "      <td>116.0</td>\n",
              "      <td>74.0</td>\n",
              "      <td>NaN</td>\n",
              "      <td>NaN</td>\n",
              "      <td>25.6</td>\n",
              "      <td>0.201</td>\n",
              "      <td>30</td>\n",
              "      <td>0</td>\n",
              "    </tr>\n",
              "    <tr>\n",
              "      <th>6</th>\n",
              "      <td>3</td>\n",
              "      <td>78.0</td>\n",
              "      <td>50.0</td>\n",
              "      <td>32.0</td>\n",
              "      <td>88.0</td>\n",
              "      <td>31.0</td>\n",
              "      <td>0.248</td>\n",
              "      <td>26</td>\n",
              "      <td>1</td>\n",
              "    </tr>\n",
              "    <tr>\n",
              "      <th>7</th>\n",
              "      <td>10</td>\n",
              "      <td>115.0</td>\n",
              "      <td>NaN</td>\n",
              "      <td>NaN</td>\n",
              "      <td>NaN</td>\n",
              "      <td>35.3</td>\n",
              "      <td>0.134</td>\n",
              "      <td>29</td>\n",
              "      <td>0</td>\n",
              "    </tr>\n",
              "    <tr>\n",
              "      <th>8</th>\n",
              "      <td>2</td>\n",
              "      <td>197.0</td>\n",
              "      <td>70.0</td>\n",
              "      <td>45.0</td>\n",
              "      <td>543.0</td>\n",
              "      <td>30.5</td>\n",
              "      <td>0.158</td>\n",
              "      <td>53</td>\n",
              "      <td>1</td>\n",
              "    </tr>\n",
              "    <tr>\n",
              "      <th>9</th>\n",
              "      <td>8</td>\n",
              "      <td>125.0</td>\n",
              "      <td>96.0</td>\n",
              "      <td>NaN</td>\n",
              "      <td>NaN</td>\n",
              "      <td>NaN</td>\n",
              "      <td>0.232</td>\n",
              "      <td>54</td>\n",
              "      <td>1</td>\n",
              "    </tr>\n",
              "    <tr>\n",
              "      <th>10</th>\n",
              "      <td>4</td>\n",
              "      <td>110.0</td>\n",
              "      <td>92.0</td>\n",
              "      <td>NaN</td>\n",
              "      <td>NaN</td>\n",
              "      <td>37.6</td>\n",
              "      <td>0.191</td>\n",
              "      <td>30</td>\n",
              "      <td>0</td>\n",
              "    </tr>\n",
              "    <tr>\n",
              "      <th>11</th>\n",
              "      <td>10</td>\n",
              "      <td>168.0</td>\n",
              "      <td>74.0</td>\n",
              "      <td>NaN</td>\n",
              "      <td>NaN</td>\n",
              "      <td>38.0</td>\n",
              "      <td>0.537</td>\n",
              "      <td>34</td>\n",
              "      <td>1</td>\n",
              "    </tr>\n",
              "    <tr>\n",
              "      <th>12</th>\n",
              "      <td>10</td>\n",
              "      <td>139.0</td>\n",
              "      <td>80.0</td>\n",
              "      <td>NaN</td>\n",
              "      <td>NaN</td>\n",
              "      <td>27.1</td>\n",
              "      <td>1.441</td>\n",
              "      <td>57</td>\n",
              "      <td>0</td>\n",
              "    </tr>\n",
              "    <tr>\n",
              "      <th>13</th>\n",
              "      <td>1</td>\n",
              "      <td>189.0</td>\n",
              "      <td>60.0</td>\n",
              "      <td>23.0</td>\n",
              "      <td>846.0</td>\n",
              "      <td>30.1</td>\n",
              "      <td>0.398</td>\n",
              "      <td>59</td>\n",
              "      <td>1</td>\n",
              "    </tr>\n",
              "    <tr>\n",
              "      <th>14</th>\n",
              "      <td>5</td>\n",
              "      <td>166.0</td>\n",
              "      <td>72.0</td>\n",
              "      <td>19.0</td>\n",
              "      <td>175.0</td>\n",
              "      <td>25.8</td>\n",
              "      <td>0.587</td>\n",
              "      <td>51</td>\n",
              "      <td>1</td>\n",
              "    </tr>\n",
              "    <tr>\n",
              "      <th>15</th>\n",
              "      <td>7</td>\n",
              "      <td>100.0</td>\n",
              "      <td>NaN</td>\n",
              "      <td>NaN</td>\n",
              "      <td>NaN</td>\n",
              "      <td>30.0</td>\n",
              "      <td>0.484</td>\n",
              "      <td>32</td>\n",
              "      <td>1</td>\n",
              "    </tr>\n",
              "    <tr>\n",
              "      <th>16</th>\n",
              "      <td>0</td>\n",
              "      <td>118.0</td>\n",
              "      <td>84.0</td>\n",
              "      <td>47.0</td>\n",
              "      <td>230.0</td>\n",
              "      <td>45.8</td>\n",
              "      <td>0.551</td>\n",
              "      <td>31</td>\n",
              "      <td>1</td>\n",
              "    </tr>\n",
              "    <tr>\n",
              "      <th>17</th>\n",
              "      <td>7</td>\n",
              "      <td>107.0</td>\n",
              "      <td>74.0</td>\n",
              "      <td>NaN</td>\n",
              "      <td>NaN</td>\n",
              "      <td>29.6</td>\n",
              "      <td>0.254</td>\n",
              "      <td>31</td>\n",
              "      <td>1</td>\n",
              "    </tr>\n",
              "    <tr>\n",
              "      <th>18</th>\n",
              "      <td>1</td>\n",
              "      <td>103.0</td>\n",
              "      <td>30.0</td>\n",
              "      <td>38.0</td>\n",
              "      <td>83.0</td>\n",
              "      <td>43.3</td>\n",
              "      <td>0.183</td>\n",
              "      <td>33</td>\n",
              "      <td>0</td>\n",
              "    </tr>\n",
              "    <tr>\n",
              "      <th>19</th>\n",
              "      <td>1</td>\n",
              "      <td>115.0</td>\n",
              "      <td>70.0</td>\n",
              "      <td>30.0</td>\n",
              "      <td>96.0</td>\n",
              "      <td>34.6</td>\n",
              "      <td>0.529</td>\n",
              "      <td>32</td>\n",
              "      <td>1</td>\n",
              "    </tr>\n",
              "  </tbody>\n",
              "</table>\n",
              "</div>"
            ],
            "text/plain": [
              "    Pregnancies  Glucose  BloodPressure  ...  DiabetesPedigreeFunction  Age  Outcome\n",
              "0             6    148.0           72.0  ...                     0.627   50        1\n",
              "1             1     85.0           66.0  ...                     0.351   31        0\n",
              "2             8    183.0           64.0  ...                     0.672   32        1\n",
              "3             1     89.0           66.0  ...                     0.167   21        0\n",
              "4             0    137.0           40.0  ...                     2.288   33        1\n",
              "5             5    116.0           74.0  ...                     0.201   30        0\n",
              "6             3     78.0           50.0  ...                     0.248   26        1\n",
              "7            10    115.0            NaN  ...                     0.134   29        0\n",
              "8             2    197.0           70.0  ...                     0.158   53        1\n",
              "9             8    125.0           96.0  ...                     0.232   54        1\n",
              "10            4    110.0           92.0  ...                     0.191   30        0\n",
              "11           10    168.0           74.0  ...                     0.537   34        1\n",
              "12           10    139.0           80.0  ...                     1.441   57        0\n",
              "13            1    189.0           60.0  ...                     0.398   59        1\n",
              "14            5    166.0           72.0  ...                     0.587   51        1\n",
              "15            7    100.0            NaN  ...                     0.484   32        1\n",
              "16            0    118.0           84.0  ...                     0.551   31        1\n",
              "17            7    107.0           74.0  ...                     0.254   31        1\n",
              "18            1    103.0           30.0  ...                     0.183   33        0\n",
              "19            1    115.0           70.0  ...                     0.529   32        1\n",
              "\n",
              "[20 rows x 9 columns]"
            ]
          },
          "metadata": {
            "tags": []
          },
          "execution_count": 833
        }
      ]
    },
    {
      "cell_type": "markdown",
      "metadata": {
        "id": "U-Rphh6owYpv",
        "colab_type": "text"
      },
      "source": [
        "The dataset didn't have missing values in it. We can clearly see here the inconsistent values were a bunch of zeroes by itself. We replaced them with NaN."
      ]
    },
    {
      "cell_type": "markdown",
      "metadata": {
        "id": "qFHyyy6t7BGY",
        "colab_type": "text"
      },
      "source": [
        "# *2.3*"
      ]
    },
    {
      "cell_type": "markdown",
      "metadata": {
        "id": "eUEZKSesA2Ne",
        "colab_type": "text"
      },
      "source": [
        "The Non Categorical columns in this dataset are -\n",
        "\n",
        "\n",
        "1.   Pregnancies\n",
        "2.   Glucose\n",
        "3.   BloodPressure\n",
        "4.   SkinThickness\n",
        "5.   Insulin\n",
        "6.   BMI\n",
        "7.   DiabetesPedigreeFunction\n",
        "8.   Age\n",
        "\n",
        "\n"
      ]
    },
    {
      "cell_type": "code",
      "metadata": {
        "id": "zqQgtDWFs9WM",
        "colab_type": "code",
        "colab": {}
      },
      "source": [
        "diabetes_Standardized= ((diabetes_df-diabetes_df.mean())/diabetes_df.std())"
      ],
      "execution_count": 834,
      "outputs": []
    },
    {
      "cell_type": "code",
      "metadata": {
        "id": "-5GDz6vVQ3Fk",
        "colab_type": "code",
        "colab": {
          "base_uri": "https://localhost:8080/",
          "height": 689
        },
        "outputId": "b88a5532-db71-478f-93a2-0d9776812ba8"
      },
      "source": [
        "diabetes_Standardized.head(20)"
      ],
      "execution_count": 835,
      "outputs": [
        {
          "output_type": "execute_result",
          "data": {
            "text/html": [
              "<div>\n",
              "<style scoped>\n",
              "    .dataframe tbody tr th:only-of-type {\n",
              "        vertical-align: middle;\n",
              "    }\n",
              "\n",
              "    .dataframe tbody tr th {\n",
              "        vertical-align: top;\n",
              "    }\n",
              "\n",
              "    .dataframe thead th {\n",
              "        text-align: right;\n",
              "    }\n",
              "</style>\n",
              "<table border=\"1\" class=\"dataframe\">\n",
              "  <thead>\n",
              "    <tr style=\"text-align: right;\">\n",
              "      <th></th>\n",
              "      <th>Pregnancies</th>\n",
              "      <th>Glucose</th>\n",
              "      <th>BloodPressure</th>\n",
              "      <th>SkinThickness</th>\n",
              "      <th>Insulin</th>\n",
              "      <th>BMI</th>\n",
              "      <th>DiabetesPedigreeFunction</th>\n",
              "      <th>Age</th>\n",
              "      <th>Outcome</th>\n",
              "    </tr>\n",
              "  </thead>\n",
              "  <tbody>\n",
              "    <tr>\n",
              "      <th>0</th>\n",
              "      <td>0.639530</td>\n",
              "      <td>0.861722</td>\n",
              "      <td>-0.032723</td>\n",
              "      <td>0.558040</td>\n",
              "      <td>NaN</td>\n",
              "      <td>0.164987</td>\n",
              "      <td>0.468187</td>\n",
              "      <td>1.425067</td>\n",
              "      <td>1.365006</td>\n",
              "    </tr>\n",
              "    <tr>\n",
              "      <th>1</th>\n",
              "      <td>-0.844335</td>\n",
              "      <td>-1.201441</td>\n",
              "      <td>-0.517291</td>\n",
              "      <td>-0.014643</td>\n",
              "      <td>NaN</td>\n",
              "      <td>-0.845845</td>\n",
              "      <td>-0.364823</td>\n",
              "      <td>-0.190548</td>\n",
              "      <td>-0.731643</td>\n",
              "    </tr>\n",
              "    <tr>\n",
              "      <th>2</th>\n",
              "      <td>1.233077</td>\n",
              "      <td>2.007924</td>\n",
              "      <td>-0.678814</td>\n",
              "      <td>NaN</td>\n",
              "      <td>NaN</td>\n",
              "      <td>-1.322380</td>\n",
              "      <td>0.604004</td>\n",
              "      <td>-0.105515</td>\n",
              "      <td>1.365006</td>\n",
              "    </tr>\n",
              "    <tr>\n",
              "      <th>3</th>\n",
              "      <td>-0.844335</td>\n",
              "      <td>-1.070446</td>\n",
              "      <td>-0.517291</td>\n",
              "      <td>-0.587327</td>\n",
              "      <td>-0.518188</td>\n",
              "      <td>-0.629238</td>\n",
              "      <td>-0.920163</td>\n",
              "      <td>-1.040871</td>\n",
              "      <td>-0.731643</td>\n",
              "    </tr>\n",
              "    <tr>\n",
              "      <th>4</th>\n",
              "      <td>-1.141108</td>\n",
              "      <td>0.501487</td>\n",
              "      <td>-2.617087</td>\n",
              "      <td>0.558040</td>\n",
              "      <td>0.104834</td>\n",
              "      <td>1.536831</td>\n",
              "      <td>5.481337</td>\n",
              "      <td>-0.020483</td>\n",
              "      <td>1.365006</td>\n",
              "    </tr>\n",
              "    <tr>\n",
              "      <th>5</th>\n",
              "      <td>0.342757</td>\n",
              "      <td>-0.186234</td>\n",
              "      <td>0.128800</td>\n",
              "      <td>NaN</td>\n",
              "      <td>NaN</td>\n",
              "      <td>-0.990249</td>\n",
              "      <td>-0.817546</td>\n",
              "      <td>-0.275580</td>\n",
              "      <td>-0.731643</td>\n",
              "    </tr>\n",
              "    <tr>\n",
              "      <th>6</th>\n",
              "      <td>-0.250789</td>\n",
              "      <td>-1.430681</td>\n",
              "      <td>-1.809473</td>\n",
              "      <td>0.271699</td>\n",
              "      <td>-0.568703</td>\n",
              "      <td>-0.210464</td>\n",
              "      <td>-0.675693</td>\n",
              "      <td>-0.615709</td>\n",
              "      <td>1.365006</td>\n",
              "    </tr>\n",
              "    <tr>\n",
              "      <th>7</th>\n",
              "      <td>1.826623</td>\n",
              "      <td>-0.218982</td>\n",
              "      <td>NaN</td>\n",
              "      <td>NaN</td>\n",
              "      <td>NaN</td>\n",
              "      <td>0.410475</td>\n",
              "      <td>-1.019762</td>\n",
              "      <td>-0.360612</td>\n",
              "      <td>-0.731643</td>\n",
              "    </tr>\n",
              "    <tr>\n",
              "      <th>8</th>\n",
              "      <td>-0.547562</td>\n",
              "      <td>2.466404</td>\n",
              "      <td>-0.194246</td>\n",
              "      <td>1.512514</td>\n",
              "      <td>3.262042</td>\n",
              "      <td>-0.282667</td>\n",
              "      <td>-0.947326</td>\n",
              "      <td>1.680164</td>\n",
              "      <td>1.365006</td>\n",
              "    </tr>\n",
              "    <tr>\n",
              "      <th>9</th>\n",
              "      <td>1.233077</td>\n",
              "      <td>0.108504</td>\n",
              "      <td>1.905550</td>\n",
              "      <td>NaN</td>\n",
              "      <td>NaN</td>\n",
              "      <td>NaN</td>\n",
              "      <td>-0.723983</td>\n",
              "      <td>1.765196</td>\n",
              "      <td>1.365006</td>\n",
              "    </tr>\n",
              "    <tr>\n",
              "      <th>10</th>\n",
              "      <td>0.045984</td>\n",
              "      <td>-0.382725</td>\n",
              "      <td>1.582504</td>\n",
              "      <td>NaN</td>\n",
              "      <td>NaN</td>\n",
              "      <td>0.742606</td>\n",
              "      <td>-0.847727</td>\n",
              "      <td>-0.275580</td>\n",
              "      <td>-0.731643</td>\n",
              "    </tr>\n",
              "    <tr>\n",
              "      <th>11</th>\n",
              "      <td>1.826623</td>\n",
              "      <td>1.516694</td>\n",
              "      <td>0.128800</td>\n",
              "      <td>NaN</td>\n",
              "      <td>NaN</td>\n",
              "      <td>0.800368</td>\n",
              "      <td>0.196553</td>\n",
              "      <td>0.064549</td>\n",
              "      <td>1.365006</td>\n",
              "    </tr>\n",
              "    <tr>\n",
              "      <th>12</th>\n",
              "      <td>1.826623</td>\n",
              "      <td>0.566985</td>\n",
              "      <td>0.613368</td>\n",
              "      <td>NaN</td>\n",
              "      <td>NaN</td>\n",
              "      <td>-0.773642</td>\n",
              "      <td>2.924962</td>\n",
              "      <td>2.020293</td>\n",
              "      <td>-0.731643</td>\n",
              "    </tr>\n",
              "    <tr>\n",
              "      <th>13</th>\n",
              "      <td>-0.844335</td>\n",
              "      <td>2.204415</td>\n",
              "      <td>-1.001860</td>\n",
              "      <td>-0.587327</td>\n",
              "      <td>5.813065</td>\n",
              "      <td>-0.340429</td>\n",
              "      <td>-0.222970</td>\n",
              "      <td>2.190358</td>\n",
              "      <td>1.365006</td>\n",
              "    </tr>\n",
              "    <tr>\n",
              "      <th>14</th>\n",
              "      <td>0.342757</td>\n",
              "      <td>1.451197</td>\n",
              "      <td>-0.032723</td>\n",
              "      <td>-0.969117</td>\n",
              "      <td>0.163769</td>\n",
              "      <td>-0.961368</td>\n",
              "      <td>0.347461</td>\n",
              "      <td>1.510099</td>\n",
              "      <td>1.365006</td>\n",
              "    </tr>\n",
              "    <tr>\n",
              "      <th>15</th>\n",
              "      <td>0.936304</td>\n",
              "      <td>-0.710211</td>\n",
              "      <td>NaN</td>\n",
              "      <td>NaN</td>\n",
              "      <td>NaN</td>\n",
              "      <td>-0.354869</td>\n",
              "      <td>0.036591</td>\n",
              "      <td>-0.105515</td>\n",
              "      <td>1.365006</td>\n",
              "    </tr>\n",
              "    <tr>\n",
              "      <th>16</th>\n",
              "      <td>-1.141108</td>\n",
              "      <td>-0.120736</td>\n",
              "      <td>0.936413</td>\n",
              "      <td>1.703408</td>\n",
              "      <td>0.626826</td>\n",
              "      <td>1.926723</td>\n",
              "      <td>0.238807</td>\n",
              "      <td>-0.190548</td>\n",
              "      <td>1.365006</td>\n",
              "    </tr>\n",
              "    <tr>\n",
              "      <th>17</th>\n",
              "      <td>0.936304</td>\n",
              "      <td>-0.480971</td>\n",
              "      <td>0.128800</td>\n",
              "      <td>NaN</td>\n",
              "      <td>NaN</td>\n",
              "      <td>-0.412631</td>\n",
              "      <td>-0.657584</td>\n",
              "      <td>-0.190548</td>\n",
              "      <td>1.365006</td>\n",
              "    </tr>\n",
              "    <tr>\n",
              "      <th>18</th>\n",
              "      <td>-0.844335</td>\n",
              "      <td>-0.611966</td>\n",
              "      <td>-3.424701</td>\n",
              "      <td>0.844382</td>\n",
              "      <td>-0.610799</td>\n",
              "      <td>1.565712</td>\n",
              "      <td>-0.871873</td>\n",
              "      <td>-0.020483</td>\n",
              "      <td>-0.731643</td>\n",
              "    </tr>\n",
              "    <tr>\n",
              "      <th>19</th>\n",
              "      <td>-0.844335</td>\n",
              "      <td>-0.218982</td>\n",
              "      <td>-0.194246</td>\n",
              "      <td>0.080804</td>\n",
              "      <td>-0.501350</td>\n",
              "      <td>0.309392</td>\n",
              "      <td>0.172408</td>\n",
              "      <td>-0.105515</td>\n",
              "      <td>1.365006</td>\n",
              "    </tr>\n",
              "  </tbody>\n",
              "</table>\n",
              "</div>"
            ],
            "text/plain": [
              "    Pregnancies   Glucose  ...       Age   Outcome\n",
              "0      0.639530  0.861722  ...  1.425067  1.365006\n",
              "1     -0.844335 -1.201441  ... -0.190548 -0.731643\n",
              "2      1.233077  2.007924  ... -0.105515  1.365006\n",
              "3     -0.844335 -1.070446  ... -1.040871 -0.731643\n",
              "4     -1.141108  0.501487  ... -0.020483  1.365006\n",
              "5      0.342757 -0.186234  ... -0.275580 -0.731643\n",
              "6     -0.250789 -1.430681  ... -0.615709  1.365006\n",
              "7      1.826623 -0.218982  ... -0.360612 -0.731643\n",
              "8     -0.547562  2.466404  ...  1.680164  1.365006\n",
              "9      1.233077  0.108504  ...  1.765196  1.365006\n",
              "10     0.045984 -0.382725  ... -0.275580 -0.731643\n",
              "11     1.826623  1.516694  ...  0.064549  1.365006\n",
              "12     1.826623  0.566985  ...  2.020293 -0.731643\n",
              "13    -0.844335  2.204415  ...  2.190358  1.365006\n",
              "14     0.342757  1.451197  ...  1.510099  1.365006\n",
              "15     0.936304 -0.710211  ... -0.105515  1.365006\n",
              "16    -1.141108 -0.120736  ... -0.190548  1.365006\n",
              "17     0.936304 -0.480971  ... -0.190548  1.365006\n",
              "18    -0.844335 -0.611966  ... -0.020483 -0.731643\n",
              "19    -0.844335 -0.218982  ... -0.105515  1.365006\n",
              "\n",
              "[20 rows x 9 columns]"
            ]
          },
          "metadata": {
            "tags": []
          },
          "execution_count": 835
        }
      ]
    },
    {
      "cell_type": "code",
      "metadata": {
        "id": "E3HCDFxxtUzr",
        "colab_type": "code",
        "colab": {
          "base_uri": "https://localhost:8080/",
          "height": 170
        },
        "outputId": "db67744b-47b3-4ed2-c176-5b94d34b94a3"
      },
      "source": [
        "standardized.mean()"
      ],
      "execution_count": 836,
      "outputs": [
        {
          "output_type": "execute_result",
          "data": {
            "text/plain": [
              "Pregnancies                 2.977942e-17\n",
              "Glucose                    -5.637851e-18\n",
              "BloodPressure               2.493665e-18\n",
              "SkinThickness              -1.582212e-16\n",
              "Insulin                     8.615793e-17\n",
              "BMI                         4.362034e-15\n",
              "DiabetesPedigreeFunction    1.913039e-15\n",
              "Age                         2.198762e-16\n",
              "dtype: float64"
            ]
          },
          "metadata": {
            "tags": []
          },
          "execution_count": 836
        }
      ]
    },
    {
      "cell_type": "code",
      "metadata": {
        "id": "DO30YiMqte7K",
        "colab_type": "code",
        "colab": {
          "base_uri": "https://localhost:8080/",
          "height": 170
        },
        "outputId": "2dbb5ff8-f530-473a-e448-a09f47700635"
      },
      "source": [
        "standardized.var()"
      ],
      "execution_count": 837,
      "outputs": [
        {
          "output_type": "execute_result",
          "data": {
            "text/plain": [
              "Pregnancies                 1.0\n",
              "Glucose                     1.0\n",
              "BloodPressure               1.0\n",
              "SkinThickness               1.0\n",
              "Insulin                     1.0\n",
              "BMI                         1.0\n",
              "DiabetesPedigreeFunction    1.0\n",
              "Age                         1.0\n",
              "dtype: float64"
            ]
          },
          "metadata": {
            "tags": []
          },
          "execution_count": 837
        }
      ]
    },
    {
      "cell_type": "markdown",
      "metadata": {
        "id": "4D1BQaWx1n8F",
        "colab_type": "text"
      },
      "source": [
        "We can clearly see the mean is ~ 0 and the variance is 1 for all the non categorical columns."
      ]
    },
    {
      "cell_type": "markdown",
      "metadata": {
        "id": "KBnoMJhIzUxo",
        "colab_type": "text"
      },
      "source": [
        "# *2.4*"
      ]
    },
    {
      "cell_type": "markdown",
      "metadata": {
        "id": "8OkZYCw31ZBx",
        "colab_type": "text"
      },
      "source": [
        "Changing the *Outcome* is encoded using one hot encoding."
      ]
    },
    {
      "cell_type": "code",
      "metadata": {
        "id": "UNESrBnMthnZ",
        "colab_type": "code",
        "colab": {}
      },
      "source": [
        "diabetes_df = diabetes_df.rename(columns = {\"Outcome\": \"1\"})"
      ],
      "execution_count": 838,
      "outputs": []
    },
    {
      "cell_type": "code",
      "metadata": {
        "id": "KbmGwGYZPCrf",
        "colab_type": "code",
        "colab": {}
      },
      "source": [
        "diabetes_df[\"0\"] = diabetes_df[\"1\"]"
      ],
      "execution_count": 839,
      "outputs": []
    },
    {
      "cell_type": "code",
      "metadata": {
        "id": "PoWbsZJPO9-M",
        "colab_type": "code",
        "colab": {
          "base_uri": "https://localhost:8080/",
          "height": 221
        },
        "outputId": "ff0298bd-b0dd-44cb-8537-ffb1b96d029c"
      },
      "source": [
        " diabetes_df[\"1\"].map(lambda x: 0 if x == 1 else (1))"
      ],
      "execution_count": 840,
      "outputs": [
        {
          "output_type": "execute_result",
          "data": {
            "text/plain": [
              "0      0\n",
              "1      1\n",
              "2      0\n",
              "3      1\n",
              "4      0\n",
              "      ..\n",
              "763    1\n",
              "764    1\n",
              "765    1\n",
              "766    0\n",
              "767    1\n",
              "Name: 1, Length: 768, dtype: int64"
            ]
          },
          "metadata": {
            "tags": []
          },
          "execution_count": 840
        }
      ]
    },
    {
      "cell_type": "code",
      "metadata": {
        "id": "5i26F9V5KioK",
        "colab_type": "code",
        "colab": {
          "base_uri": "https://localhost:8080/",
          "height": 689
        },
        "outputId": "1bd3c89d-c366-4155-c2e0-218a2410e59f"
      },
      "source": [
        "diabetes_df.head(20)"
      ],
      "execution_count": 841,
      "outputs": [
        {
          "output_type": "execute_result",
          "data": {
            "text/html": [
              "<div>\n",
              "<style scoped>\n",
              "    .dataframe tbody tr th:only-of-type {\n",
              "        vertical-align: middle;\n",
              "    }\n",
              "\n",
              "    .dataframe tbody tr th {\n",
              "        vertical-align: top;\n",
              "    }\n",
              "\n",
              "    .dataframe thead th {\n",
              "        text-align: right;\n",
              "    }\n",
              "</style>\n",
              "<table border=\"1\" class=\"dataframe\">\n",
              "  <thead>\n",
              "    <tr style=\"text-align: right;\">\n",
              "      <th></th>\n",
              "      <th>Pregnancies</th>\n",
              "      <th>Glucose</th>\n",
              "      <th>BloodPressure</th>\n",
              "      <th>SkinThickness</th>\n",
              "      <th>Insulin</th>\n",
              "      <th>BMI</th>\n",
              "      <th>DiabetesPedigreeFunction</th>\n",
              "      <th>Age</th>\n",
              "      <th>1</th>\n",
              "      <th>0</th>\n",
              "    </tr>\n",
              "  </thead>\n",
              "  <tbody>\n",
              "    <tr>\n",
              "      <th>0</th>\n",
              "      <td>6</td>\n",
              "      <td>148.0</td>\n",
              "      <td>72.0</td>\n",
              "      <td>35.0</td>\n",
              "      <td>NaN</td>\n",
              "      <td>33.6</td>\n",
              "      <td>0.627</td>\n",
              "      <td>50</td>\n",
              "      <td>1</td>\n",
              "      <td>1</td>\n",
              "    </tr>\n",
              "    <tr>\n",
              "      <th>1</th>\n",
              "      <td>1</td>\n",
              "      <td>85.0</td>\n",
              "      <td>66.0</td>\n",
              "      <td>29.0</td>\n",
              "      <td>NaN</td>\n",
              "      <td>26.6</td>\n",
              "      <td>0.351</td>\n",
              "      <td>31</td>\n",
              "      <td>0</td>\n",
              "      <td>0</td>\n",
              "    </tr>\n",
              "    <tr>\n",
              "      <th>2</th>\n",
              "      <td>8</td>\n",
              "      <td>183.0</td>\n",
              "      <td>64.0</td>\n",
              "      <td>NaN</td>\n",
              "      <td>NaN</td>\n",
              "      <td>23.3</td>\n",
              "      <td>0.672</td>\n",
              "      <td>32</td>\n",
              "      <td>1</td>\n",
              "      <td>1</td>\n",
              "    </tr>\n",
              "    <tr>\n",
              "      <th>3</th>\n",
              "      <td>1</td>\n",
              "      <td>89.0</td>\n",
              "      <td>66.0</td>\n",
              "      <td>23.0</td>\n",
              "      <td>94.0</td>\n",
              "      <td>28.1</td>\n",
              "      <td>0.167</td>\n",
              "      <td>21</td>\n",
              "      <td>0</td>\n",
              "      <td>0</td>\n",
              "    </tr>\n",
              "    <tr>\n",
              "      <th>4</th>\n",
              "      <td>0</td>\n",
              "      <td>137.0</td>\n",
              "      <td>40.0</td>\n",
              "      <td>35.0</td>\n",
              "      <td>168.0</td>\n",
              "      <td>43.1</td>\n",
              "      <td>2.288</td>\n",
              "      <td>33</td>\n",
              "      <td>1</td>\n",
              "      <td>1</td>\n",
              "    </tr>\n",
              "    <tr>\n",
              "      <th>5</th>\n",
              "      <td>5</td>\n",
              "      <td>116.0</td>\n",
              "      <td>74.0</td>\n",
              "      <td>NaN</td>\n",
              "      <td>NaN</td>\n",
              "      <td>25.6</td>\n",
              "      <td>0.201</td>\n",
              "      <td>30</td>\n",
              "      <td>0</td>\n",
              "      <td>0</td>\n",
              "    </tr>\n",
              "    <tr>\n",
              "      <th>6</th>\n",
              "      <td>3</td>\n",
              "      <td>78.0</td>\n",
              "      <td>50.0</td>\n",
              "      <td>32.0</td>\n",
              "      <td>88.0</td>\n",
              "      <td>31.0</td>\n",
              "      <td>0.248</td>\n",
              "      <td>26</td>\n",
              "      <td>1</td>\n",
              "      <td>1</td>\n",
              "    </tr>\n",
              "    <tr>\n",
              "      <th>7</th>\n",
              "      <td>10</td>\n",
              "      <td>115.0</td>\n",
              "      <td>NaN</td>\n",
              "      <td>NaN</td>\n",
              "      <td>NaN</td>\n",
              "      <td>35.3</td>\n",
              "      <td>0.134</td>\n",
              "      <td>29</td>\n",
              "      <td>0</td>\n",
              "      <td>0</td>\n",
              "    </tr>\n",
              "    <tr>\n",
              "      <th>8</th>\n",
              "      <td>2</td>\n",
              "      <td>197.0</td>\n",
              "      <td>70.0</td>\n",
              "      <td>45.0</td>\n",
              "      <td>543.0</td>\n",
              "      <td>30.5</td>\n",
              "      <td>0.158</td>\n",
              "      <td>53</td>\n",
              "      <td>1</td>\n",
              "      <td>1</td>\n",
              "    </tr>\n",
              "    <tr>\n",
              "      <th>9</th>\n",
              "      <td>8</td>\n",
              "      <td>125.0</td>\n",
              "      <td>96.0</td>\n",
              "      <td>NaN</td>\n",
              "      <td>NaN</td>\n",
              "      <td>NaN</td>\n",
              "      <td>0.232</td>\n",
              "      <td>54</td>\n",
              "      <td>1</td>\n",
              "      <td>1</td>\n",
              "    </tr>\n",
              "    <tr>\n",
              "      <th>10</th>\n",
              "      <td>4</td>\n",
              "      <td>110.0</td>\n",
              "      <td>92.0</td>\n",
              "      <td>NaN</td>\n",
              "      <td>NaN</td>\n",
              "      <td>37.6</td>\n",
              "      <td>0.191</td>\n",
              "      <td>30</td>\n",
              "      <td>0</td>\n",
              "      <td>0</td>\n",
              "    </tr>\n",
              "    <tr>\n",
              "      <th>11</th>\n",
              "      <td>10</td>\n",
              "      <td>168.0</td>\n",
              "      <td>74.0</td>\n",
              "      <td>NaN</td>\n",
              "      <td>NaN</td>\n",
              "      <td>38.0</td>\n",
              "      <td>0.537</td>\n",
              "      <td>34</td>\n",
              "      <td>1</td>\n",
              "      <td>1</td>\n",
              "    </tr>\n",
              "    <tr>\n",
              "      <th>12</th>\n",
              "      <td>10</td>\n",
              "      <td>139.0</td>\n",
              "      <td>80.0</td>\n",
              "      <td>NaN</td>\n",
              "      <td>NaN</td>\n",
              "      <td>27.1</td>\n",
              "      <td>1.441</td>\n",
              "      <td>57</td>\n",
              "      <td>0</td>\n",
              "      <td>0</td>\n",
              "    </tr>\n",
              "    <tr>\n",
              "      <th>13</th>\n",
              "      <td>1</td>\n",
              "      <td>189.0</td>\n",
              "      <td>60.0</td>\n",
              "      <td>23.0</td>\n",
              "      <td>846.0</td>\n",
              "      <td>30.1</td>\n",
              "      <td>0.398</td>\n",
              "      <td>59</td>\n",
              "      <td>1</td>\n",
              "      <td>1</td>\n",
              "    </tr>\n",
              "    <tr>\n",
              "      <th>14</th>\n",
              "      <td>5</td>\n",
              "      <td>166.0</td>\n",
              "      <td>72.0</td>\n",
              "      <td>19.0</td>\n",
              "      <td>175.0</td>\n",
              "      <td>25.8</td>\n",
              "      <td>0.587</td>\n",
              "      <td>51</td>\n",
              "      <td>1</td>\n",
              "      <td>1</td>\n",
              "    </tr>\n",
              "    <tr>\n",
              "      <th>15</th>\n",
              "      <td>7</td>\n",
              "      <td>100.0</td>\n",
              "      <td>NaN</td>\n",
              "      <td>NaN</td>\n",
              "      <td>NaN</td>\n",
              "      <td>30.0</td>\n",
              "      <td>0.484</td>\n",
              "      <td>32</td>\n",
              "      <td>1</td>\n",
              "      <td>1</td>\n",
              "    </tr>\n",
              "    <tr>\n",
              "      <th>16</th>\n",
              "      <td>0</td>\n",
              "      <td>118.0</td>\n",
              "      <td>84.0</td>\n",
              "      <td>47.0</td>\n",
              "      <td>230.0</td>\n",
              "      <td>45.8</td>\n",
              "      <td>0.551</td>\n",
              "      <td>31</td>\n",
              "      <td>1</td>\n",
              "      <td>1</td>\n",
              "    </tr>\n",
              "    <tr>\n",
              "      <th>17</th>\n",
              "      <td>7</td>\n",
              "      <td>107.0</td>\n",
              "      <td>74.0</td>\n",
              "      <td>NaN</td>\n",
              "      <td>NaN</td>\n",
              "      <td>29.6</td>\n",
              "      <td>0.254</td>\n",
              "      <td>31</td>\n",
              "      <td>1</td>\n",
              "      <td>1</td>\n",
              "    </tr>\n",
              "    <tr>\n",
              "      <th>18</th>\n",
              "      <td>1</td>\n",
              "      <td>103.0</td>\n",
              "      <td>30.0</td>\n",
              "      <td>38.0</td>\n",
              "      <td>83.0</td>\n",
              "      <td>43.3</td>\n",
              "      <td>0.183</td>\n",
              "      <td>33</td>\n",
              "      <td>0</td>\n",
              "      <td>0</td>\n",
              "    </tr>\n",
              "    <tr>\n",
              "      <th>19</th>\n",
              "      <td>1</td>\n",
              "      <td>115.0</td>\n",
              "      <td>70.0</td>\n",
              "      <td>30.0</td>\n",
              "      <td>96.0</td>\n",
              "      <td>34.6</td>\n",
              "      <td>0.529</td>\n",
              "      <td>32</td>\n",
              "      <td>1</td>\n",
              "      <td>1</td>\n",
              "    </tr>\n",
              "  </tbody>\n",
              "</table>\n",
              "</div>"
            ],
            "text/plain": [
              "    Pregnancies  Glucose  BloodPressure  ...  Age  1  0\n",
              "0             6    148.0           72.0  ...   50  1  1\n",
              "1             1     85.0           66.0  ...   31  0  0\n",
              "2             8    183.0           64.0  ...   32  1  1\n",
              "3             1     89.0           66.0  ...   21  0  0\n",
              "4             0    137.0           40.0  ...   33  1  1\n",
              "5             5    116.0           74.0  ...   30  0  0\n",
              "6             3     78.0           50.0  ...   26  1  1\n",
              "7            10    115.0            NaN  ...   29  0  0\n",
              "8             2    197.0           70.0  ...   53  1  1\n",
              "9             8    125.0           96.0  ...   54  1  1\n",
              "10            4    110.0           92.0  ...   30  0  0\n",
              "11           10    168.0           74.0  ...   34  1  1\n",
              "12           10    139.0           80.0  ...   57  0  0\n",
              "13            1    189.0           60.0  ...   59  1  1\n",
              "14            5    166.0           72.0  ...   51  1  1\n",
              "15            7    100.0            NaN  ...   32  1  1\n",
              "16            0    118.0           84.0  ...   31  1  1\n",
              "17            7    107.0           74.0  ...   31  1  1\n",
              "18            1    103.0           30.0  ...   33  0  0\n",
              "19            1    115.0           70.0  ...   32  1  1\n",
              "\n",
              "[20 rows x 10 columns]"
            ]
          },
          "metadata": {
            "tags": []
          },
          "execution_count": 841
        }
      ]
    },
    {
      "cell_type": "markdown",
      "metadata": {
        "id": "Kmiz3LxJzbn0",
        "colab_type": "text"
      },
      "source": [
        "# *2.5*"
      ]
    },
    {
      "cell_type": "code",
      "metadata": {
        "id": "mV10ecOaKxWX",
        "colab_type": "code",
        "colab": {
          "base_uri": "https://localhost:8080/",
          "height": 689
        },
        "outputId": "3a29182e-25bb-4122-c3f9-b00eb17badba"
      },
      "source": [
        "Glucose_median=diabetes_df['Glucose'].median()\n",
        "diabetes_df['Glucose'].replace(np.NAN, Glucose_median, inplace= True)\n",
        "\n",
        "BloodPressure_median=diabetes_df['BloodPressure'].median()\n",
        "diabetes_df['BloodPressure'].replace(np.NAN, BloodPressure_median, inplace= True)\n",
        "\n",
        "SkinThickness_median=diabetes_df['SkinThickness'].median()\n",
        "diabetes_df['SkinThickness'].replace(np.NAN, SkinThickness_median, inplace= True)\n",
        "\n",
        "Insulin_median=diabetes_df['Insulin'].median()\n",
        "diabetes_df['Insulin'].replace(np.NAN,Insulin_median, inplace= True)\n",
        "\n",
        "BMI_median=diabetes_df['BMI'].median()\n",
        "diabetes_df['BMI'].replace(np.NAN,BMI_median, inplace= True)\n",
        "\n",
        "Age_median=diabetes_df['Age'].median()\n",
        "diabetes_df['Age'].replace(np.NAN,Age_median, inplace= True)\n",
        "\n",
        "diabetes_df.head(20)\n"
      ],
      "execution_count": 842,
      "outputs": [
        {
          "output_type": "execute_result",
          "data": {
            "text/html": [
              "<div>\n",
              "<style scoped>\n",
              "    .dataframe tbody tr th:only-of-type {\n",
              "        vertical-align: middle;\n",
              "    }\n",
              "\n",
              "    .dataframe tbody tr th {\n",
              "        vertical-align: top;\n",
              "    }\n",
              "\n",
              "    .dataframe thead th {\n",
              "        text-align: right;\n",
              "    }\n",
              "</style>\n",
              "<table border=\"1\" class=\"dataframe\">\n",
              "  <thead>\n",
              "    <tr style=\"text-align: right;\">\n",
              "      <th></th>\n",
              "      <th>Pregnancies</th>\n",
              "      <th>Glucose</th>\n",
              "      <th>BloodPressure</th>\n",
              "      <th>SkinThickness</th>\n",
              "      <th>Insulin</th>\n",
              "      <th>BMI</th>\n",
              "      <th>DiabetesPedigreeFunction</th>\n",
              "      <th>Age</th>\n",
              "      <th>1</th>\n",
              "      <th>0</th>\n",
              "    </tr>\n",
              "  </thead>\n",
              "  <tbody>\n",
              "    <tr>\n",
              "      <th>0</th>\n",
              "      <td>6</td>\n",
              "      <td>148.0</td>\n",
              "      <td>72.0</td>\n",
              "      <td>35.0</td>\n",
              "      <td>125.0</td>\n",
              "      <td>33.6</td>\n",
              "      <td>0.627</td>\n",
              "      <td>50</td>\n",
              "      <td>1</td>\n",
              "      <td>1</td>\n",
              "    </tr>\n",
              "    <tr>\n",
              "      <th>1</th>\n",
              "      <td>1</td>\n",
              "      <td>85.0</td>\n",
              "      <td>66.0</td>\n",
              "      <td>29.0</td>\n",
              "      <td>125.0</td>\n",
              "      <td>26.6</td>\n",
              "      <td>0.351</td>\n",
              "      <td>31</td>\n",
              "      <td>0</td>\n",
              "      <td>0</td>\n",
              "    </tr>\n",
              "    <tr>\n",
              "      <th>2</th>\n",
              "      <td>8</td>\n",
              "      <td>183.0</td>\n",
              "      <td>64.0</td>\n",
              "      <td>29.0</td>\n",
              "      <td>125.0</td>\n",
              "      <td>23.3</td>\n",
              "      <td>0.672</td>\n",
              "      <td>32</td>\n",
              "      <td>1</td>\n",
              "      <td>1</td>\n",
              "    </tr>\n",
              "    <tr>\n",
              "      <th>3</th>\n",
              "      <td>1</td>\n",
              "      <td>89.0</td>\n",
              "      <td>66.0</td>\n",
              "      <td>23.0</td>\n",
              "      <td>94.0</td>\n",
              "      <td>28.1</td>\n",
              "      <td>0.167</td>\n",
              "      <td>21</td>\n",
              "      <td>0</td>\n",
              "      <td>0</td>\n",
              "    </tr>\n",
              "    <tr>\n",
              "      <th>4</th>\n",
              "      <td>0</td>\n",
              "      <td>137.0</td>\n",
              "      <td>40.0</td>\n",
              "      <td>35.0</td>\n",
              "      <td>168.0</td>\n",
              "      <td>43.1</td>\n",
              "      <td>2.288</td>\n",
              "      <td>33</td>\n",
              "      <td>1</td>\n",
              "      <td>1</td>\n",
              "    </tr>\n",
              "    <tr>\n",
              "      <th>5</th>\n",
              "      <td>5</td>\n",
              "      <td>116.0</td>\n",
              "      <td>74.0</td>\n",
              "      <td>29.0</td>\n",
              "      <td>125.0</td>\n",
              "      <td>25.6</td>\n",
              "      <td>0.201</td>\n",
              "      <td>30</td>\n",
              "      <td>0</td>\n",
              "      <td>0</td>\n",
              "    </tr>\n",
              "    <tr>\n",
              "      <th>6</th>\n",
              "      <td>3</td>\n",
              "      <td>78.0</td>\n",
              "      <td>50.0</td>\n",
              "      <td>32.0</td>\n",
              "      <td>88.0</td>\n",
              "      <td>31.0</td>\n",
              "      <td>0.248</td>\n",
              "      <td>26</td>\n",
              "      <td>1</td>\n",
              "      <td>1</td>\n",
              "    </tr>\n",
              "    <tr>\n",
              "      <th>7</th>\n",
              "      <td>10</td>\n",
              "      <td>115.0</td>\n",
              "      <td>72.0</td>\n",
              "      <td>29.0</td>\n",
              "      <td>125.0</td>\n",
              "      <td>35.3</td>\n",
              "      <td>0.134</td>\n",
              "      <td>29</td>\n",
              "      <td>0</td>\n",
              "      <td>0</td>\n",
              "    </tr>\n",
              "    <tr>\n",
              "      <th>8</th>\n",
              "      <td>2</td>\n",
              "      <td>197.0</td>\n",
              "      <td>70.0</td>\n",
              "      <td>45.0</td>\n",
              "      <td>543.0</td>\n",
              "      <td>30.5</td>\n",
              "      <td>0.158</td>\n",
              "      <td>53</td>\n",
              "      <td>1</td>\n",
              "      <td>1</td>\n",
              "    </tr>\n",
              "    <tr>\n",
              "      <th>9</th>\n",
              "      <td>8</td>\n",
              "      <td>125.0</td>\n",
              "      <td>96.0</td>\n",
              "      <td>29.0</td>\n",
              "      <td>125.0</td>\n",
              "      <td>32.3</td>\n",
              "      <td>0.232</td>\n",
              "      <td>54</td>\n",
              "      <td>1</td>\n",
              "      <td>1</td>\n",
              "    </tr>\n",
              "    <tr>\n",
              "      <th>10</th>\n",
              "      <td>4</td>\n",
              "      <td>110.0</td>\n",
              "      <td>92.0</td>\n",
              "      <td>29.0</td>\n",
              "      <td>125.0</td>\n",
              "      <td>37.6</td>\n",
              "      <td>0.191</td>\n",
              "      <td>30</td>\n",
              "      <td>0</td>\n",
              "      <td>0</td>\n",
              "    </tr>\n",
              "    <tr>\n",
              "      <th>11</th>\n",
              "      <td>10</td>\n",
              "      <td>168.0</td>\n",
              "      <td>74.0</td>\n",
              "      <td>29.0</td>\n",
              "      <td>125.0</td>\n",
              "      <td>38.0</td>\n",
              "      <td>0.537</td>\n",
              "      <td>34</td>\n",
              "      <td>1</td>\n",
              "      <td>1</td>\n",
              "    </tr>\n",
              "    <tr>\n",
              "      <th>12</th>\n",
              "      <td>10</td>\n",
              "      <td>139.0</td>\n",
              "      <td>80.0</td>\n",
              "      <td>29.0</td>\n",
              "      <td>125.0</td>\n",
              "      <td>27.1</td>\n",
              "      <td>1.441</td>\n",
              "      <td>57</td>\n",
              "      <td>0</td>\n",
              "      <td>0</td>\n",
              "    </tr>\n",
              "    <tr>\n",
              "      <th>13</th>\n",
              "      <td>1</td>\n",
              "      <td>189.0</td>\n",
              "      <td>60.0</td>\n",
              "      <td>23.0</td>\n",
              "      <td>846.0</td>\n",
              "      <td>30.1</td>\n",
              "      <td>0.398</td>\n",
              "      <td>59</td>\n",
              "      <td>1</td>\n",
              "      <td>1</td>\n",
              "    </tr>\n",
              "    <tr>\n",
              "      <th>14</th>\n",
              "      <td>5</td>\n",
              "      <td>166.0</td>\n",
              "      <td>72.0</td>\n",
              "      <td>19.0</td>\n",
              "      <td>175.0</td>\n",
              "      <td>25.8</td>\n",
              "      <td>0.587</td>\n",
              "      <td>51</td>\n",
              "      <td>1</td>\n",
              "      <td>1</td>\n",
              "    </tr>\n",
              "    <tr>\n",
              "      <th>15</th>\n",
              "      <td>7</td>\n",
              "      <td>100.0</td>\n",
              "      <td>72.0</td>\n",
              "      <td>29.0</td>\n",
              "      <td>125.0</td>\n",
              "      <td>30.0</td>\n",
              "      <td>0.484</td>\n",
              "      <td>32</td>\n",
              "      <td>1</td>\n",
              "      <td>1</td>\n",
              "    </tr>\n",
              "    <tr>\n",
              "      <th>16</th>\n",
              "      <td>0</td>\n",
              "      <td>118.0</td>\n",
              "      <td>84.0</td>\n",
              "      <td>47.0</td>\n",
              "      <td>230.0</td>\n",
              "      <td>45.8</td>\n",
              "      <td>0.551</td>\n",
              "      <td>31</td>\n",
              "      <td>1</td>\n",
              "      <td>1</td>\n",
              "    </tr>\n",
              "    <tr>\n",
              "      <th>17</th>\n",
              "      <td>7</td>\n",
              "      <td>107.0</td>\n",
              "      <td>74.0</td>\n",
              "      <td>29.0</td>\n",
              "      <td>125.0</td>\n",
              "      <td>29.6</td>\n",
              "      <td>0.254</td>\n",
              "      <td>31</td>\n",
              "      <td>1</td>\n",
              "      <td>1</td>\n",
              "    </tr>\n",
              "    <tr>\n",
              "      <th>18</th>\n",
              "      <td>1</td>\n",
              "      <td>103.0</td>\n",
              "      <td>30.0</td>\n",
              "      <td>38.0</td>\n",
              "      <td>83.0</td>\n",
              "      <td>43.3</td>\n",
              "      <td>0.183</td>\n",
              "      <td>33</td>\n",
              "      <td>0</td>\n",
              "      <td>0</td>\n",
              "    </tr>\n",
              "    <tr>\n",
              "      <th>19</th>\n",
              "      <td>1</td>\n",
              "      <td>115.0</td>\n",
              "      <td>70.0</td>\n",
              "      <td>30.0</td>\n",
              "      <td>96.0</td>\n",
              "      <td>34.6</td>\n",
              "      <td>0.529</td>\n",
              "      <td>32</td>\n",
              "      <td>1</td>\n",
              "      <td>1</td>\n",
              "    </tr>\n",
              "  </tbody>\n",
              "</table>\n",
              "</div>"
            ],
            "text/plain": [
              "    Pregnancies  Glucose  BloodPressure  ...  Age  1  0\n",
              "0             6    148.0           72.0  ...   50  1  1\n",
              "1             1     85.0           66.0  ...   31  0  0\n",
              "2             8    183.0           64.0  ...   32  1  1\n",
              "3             1     89.0           66.0  ...   21  0  0\n",
              "4             0    137.0           40.0  ...   33  1  1\n",
              "5             5    116.0           74.0  ...   30  0  0\n",
              "6             3     78.0           50.0  ...   26  1  1\n",
              "7            10    115.0           72.0  ...   29  0  0\n",
              "8             2    197.0           70.0  ...   53  1  1\n",
              "9             8    125.0           96.0  ...   54  1  1\n",
              "10            4    110.0           92.0  ...   30  0  0\n",
              "11           10    168.0           74.0  ...   34  1  1\n",
              "12           10    139.0           80.0  ...   57  0  0\n",
              "13            1    189.0           60.0  ...   59  1  1\n",
              "14            5    166.0           72.0  ...   51  1  1\n",
              "15            7    100.0           72.0  ...   32  1  1\n",
              "16            0    118.0           84.0  ...   31  1  1\n",
              "17            7    107.0           74.0  ...   31  1  1\n",
              "18            1    103.0           30.0  ...   33  0  0\n",
              "19            1    115.0           70.0  ...   32  1  1\n",
              "\n",
              "[20 rows x 10 columns]"
            ]
          },
          "metadata": {
            "tags": []
          },
          "execution_count": 842
        }
      ]
    },
    {
      "cell_type": "code",
      "metadata": {
        "id": "uRg4KTY6K3nL",
        "colab_type": "code",
        "colab": {
          "base_uri": "https://localhost:8080/",
          "height": 17
        },
        "outputId": "4606d1c4-5647-494d-fb28-c5f69e550478"
      },
      "source": [
        "from google.colab import files\n",
        "diabetes_df.to_csv('diabetes_dataset_processed.csv') \n",
        "files.download('diabetes_dataset_processed.csv')"
      ],
      "execution_count": 843,
      "outputs": [
        {
          "output_type": "display_data",
          "data": {
            "application/javascript": [
              "\n",
              "    async function download(id, filename, size) {\n",
              "      if (!google.colab.kernel.accessAllowed) {\n",
              "        return;\n",
              "      }\n",
              "      const div = document.createElement('div');\n",
              "      const label = document.createElement('label');\n",
              "      label.textContent = `Downloading \"${filename}\": `;\n",
              "      div.appendChild(label);\n",
              "      const progress = document.createElement('progress');\n",
              "      progress.max = size;\n",
              "      div.appendChild(progress);\n",
              "      document.body.appendChild(div);\n",
              "\n",
              "      const buffers = [];\n",
              "      let downloaded = 0;\n",
              "\n",
              "      const channel = await google.colab.kernel.comms.open(id);\n",
              "      // Send a message to notify the kernel that we're ready.\n",
              "      channel.send({})\n",
              "\n",
              "      for await (const message of channel.messages) {\n",
              "        // Send a message to notify the kernel that we're ready.\n",
              "        channel.send({})\n",
              "        if (message.buffers) {\n",
              "          for (const buffer of message.buffers) {\n",
              "            buffers.push(buffer);\n",
              "            downloaded += buffer.byteLength;\n",
              "            progress.value = downloaded;\n",
              "          }\n",
              "        }\n",
              "      }\n",
              "      const blob = new Blob(buffers, {type: 'application/binary'});\n",
              "      const a = document.createElement('a');\n",
              "      a.href = window.URL.createObjectURL(blob);\n",
              "      a.download = filename;\n",
              "      div.appendChild(a);\n",
              "      a.click();\n",
              "      div.remove();\n",
              "    }\n",
              "  "
            ],
            "text/plain": [
              "<IPython.core.display.Javascript object>"
            ]
          },
          "metadata": {
            "tags": []
          }
        },
        {
          "output_type": "display_data",
          "data": {
            "application/javascript": [
              "download(\"download_108037d0-acda-45b6-b49c-ca50b27a571f\", \"diabetes_dataset_processed.csv\", 37522)"
            ],
            "text/plain": [
              "<IPython.core.display.Javascript object>"
            ]
          },
          "metadata": {
            "tags": []
          }
        }
      ]
    }
  ]
}